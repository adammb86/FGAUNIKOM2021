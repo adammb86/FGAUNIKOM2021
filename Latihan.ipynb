{
 "cells": [
  {
   "cell_type": "code",
   "execution_count": 3,
   "id": "4cae498c",
   "metadata": {},
   "outputs": [
    {
     "name": "stdout",
     "output_type": "stream",
     "text": [
      "Nama saya adalah Adam MB\n",
      "10 11.5 Kania Evita Dewi\n",
      "Nama saya adalah Kania Evita Dewi. Umur saya 10. Angka favorit saya adalah 11.5\n"
     ]
    }
   ],
   "source": [
    "print(\"Nama saya adalah Adam MB\")\n",
    "\n",
    "a = 10 #Integer\n",
    "b = 11.5 #float\n",
    "nama = \"Kania Evita Dewi\" #String\n",
    "\n",
    "a, b, nama = 10, 11.5, \"Kania Evita Dewi\"\n",
    "print(a,b,nama)\n",
    "\n",
    "print(\"Nama saya adalah \" + nama + \". Umur saya \" + str(a) + \". Angka favorit saya adalah \" + str(b))"
   ]
  },
  {
   "cell_type": "code",
   "execution_count": 5,
   "id": "fe92596d-3d67-4a7b-bf34-75bbb27eee18",
   "metadata": {},
   "outputs": [
    {
     "name": "stdout",
     "output_type": "stream",
     "text": [
      "15\n",
      "KaniaEvitaIndriani\n"
     ]
    }
   ],
   "source": [
    "print(10 + 5)\n",
    "print(\"Kania\" + \"Evita\" + \"Indriani\")"
   ]
  },
  {
   "cell_type": "code",
   "execution_count": 7,
   "id": "7e83cbb8-a1f3-491d-9a85-97da5419988a",
   "metadata": {},
   "outputs": [
    {
     "name": "stdout",
     "output_type": "stream",
     "text": [
      "Nama saya adalah Adam MB\n",
      "\n",
      "Nama saya adalah Adam MB\n"
     ]
    }
   ],
   "source": [
    "print(\"Nama saya adalah Adam MB\")\n",
    "print()\n",
    "print(\"Nama saya adalah Adam MB\")"
   ]
  },
  {
   "cell_type": "code",
   "execution_count": 8,
   "id": "05e5ce55-f493-4e88-887d-42c26998b858",
   "metadata": {},
   "outputs": [
    {
     "name": "stdout",
     "output_type": "stream",
     "text": [
      "Nama saya adalah Adam MB\n",
      "\n",
      "Nama saya adalah Adam MB\n"
     ]
    }
   ],
   "source": [
    "print(\"Nama saya adalah Adam MB\\n\")\n",
    "print(\"Nama saya adalah Adam MB\")"
   ]
  },
  {
   "cell_type": "code",
   "execution_count": 9,
   "id": "06f4952d-2b50-4985-b4e7-3d6db5cbba60",
   "metadata": {},
   "outputs": [
    {
     "name": "stdout",
     "output_type": "stream",
     "text": [
      "Kalau sampai waktuku\n",
      "Ku mau tak seorang kan merayu\n",
      "Tidak juga kau\n",
      "Tak perlu sedu sedan itu\n",
      "Aku ini binatang jalang\n"
     ]
    }
   ],
   "source": [
    "print(\"Kalau sampai waktuku\\nKu mau tak seorang kan merayu\\nTidak juga kau\\nTak perlu sedu sedan itu\\nAku ini binatang jalang\")"
   ]
  },
  {
   "cell_type": "code",
   "execution_count": 13,
   "id": "5fb30e5d-b517-4664-b5ea-3cff92e1e28e",
   "metadata": {},
   "outputs": [
    {
     "name": "stdout",
     "output_type": "stream",
     "text": [
      "Karakter untuk newline adalah \\n\n",
      "I can't love you anymore.\n",
      "I can't love you anymore.\n"
     ]
    }
   ],
   "source": [
    "# Karakter untuk newline adalah \\n\n",
    "print(\"Karakter untuk newline adalah \\\\n\")\n",
    "\n",
    "# I can't love you anymore.\n",
    "print('I can\\'t love you anymore.')\n",
    "print(\"I can't love you anymore.\")"
   ]
  },
  {
   "cell_type": "code",
   "execution_count": 14,
   "id": "336d11d7-4a15-478a-8e22-f3152bf0c074",
   "metadata": {},
   "outputs": [
    {
     "name": "stdout",
     "output_type": "stream",
     "text": [
      "Nama saya adalah Patrick. Nama keluarga saya adalah Star.*"
     ]
    }
   ],
   "source": [
    "print(\"Nama saya adalah Patrick.\",\"Nama keluarga saya adalah Star.\", end = \"*\")"
   ]
  },
  {
   "cell_type": "code",
   "execution_count": 15,
   "id": "642bc2c5-5ec9-440b-a6e4-6ea9f5a75d8b",
   "metadata": {},
   "outputs": [
    {
     "name": "stdout",
     "output_type": "stream",
     "text": [
      "Nama-saya-adalah-Patrick.\n"
     ]
    }
   ],
   "source": [
    "print(\"Nama\", \"saya\", \"adalah\", \"Patrick.\", sep = \"-\")"
   ]
  },
  {
   "cell_type": "code",
   "execution_count": 20,
   "id": "7aa52f61-fdf3-4815-802e-6b02f2cba6d9",
   "metadata": {},
   "outputs": [
    {
     "name": "stdout",
     "output_type": "stream",
     "text": [
      "Saya mau bakso\n",
      "Saya mau bakso\n",
      "Saya mau bakso\n",
      "Saya mau bakso\n",
      "Saya mau bakso\n",
      "Saya mau bakso\n",
      "Saya mau bakso\n",
      "Saya mau bakso\n",
      "Saya mau bakso\n",
      "Saya mau bakso\n",
      "\n",
      "100\n",
      "10\n",
      "10\n",
      "10\n",
      "10\n",
      "10\n",
      "10\n",
      "10\n",
      "10\n",
      "10\n",
      "10\n",
      "\n"
     ]
    }
   ],
   "source": [
    "print(\"Saya mau bakso\\n\"*10)\n",
    "print(10*10)\n",
    "print(\"10\\n\"*10)"
   ]
  },
  {
   "cell_type": "code",
   "execution_count": 23,
   "id": "25b1a843-9aee-400a-99fb-0196c05a21c7",
   "metadata": {},
   "outputs": [
    {
     "name": "stdout",
     "output_type": "stream",
     "text": [
      "<class 'int'>\n",
      "<class 'float'>\n",
      "<class 'str'>\n"
     ]
    }
   ],
   "source": [
    "a, b, nama = 10, 11.5, \"Kania Evita Dewi\"\n",
    "\n",
    "print(type(a))\n",
    "print(type(b))\n",
    "print(type(nama))"
   ]
  },
  {
   "cell_type": "code",
   "execution_count": 28,
   "id": "47f967c1-b325-4589-8474-5c4fb1e9b392",
   "metadata": {},
   "outputs": [
    {
     "name": "stdout",
     "output_type": "stream",
     "text": [
      "1000000\n",
      "1000000\n",
      "-13\n",
      "15\n",
      "15\n"
     ]
    }
   ],
   "source": [
    "print(1000000)\n",
    "print(1_000_000)\n",
    "print(-13)\n",
    "\n",
    "print(0o17) #oktal\n",
    "print(0xF) #hexadecimal"
   ]
  },
  {
   "cell_type": "code",
   "execution_count": 30,
   "id": "b5680d5a-6723-49dd-8b54-b956406cf528",
   "metadata": {},
   "outputs": [
    {
     "name": "stdout",
     "output_type": "stream",
     "text": [
      "25.0\n",
      "25.0\n",
      "0.25\n",
      "0.25\n"
     ]
    }
   ],
   "source": [
    "print(25.0)\n",
    "print(25.)\n",
    "\n",
    "print(0.25)\n",
    "print(.25)"
   ]
  },
  {
   "cell_type": "code",
   "execution_count": 35,
   "id": "2cfeab43-856b-4c82-b111-fffed3e4f880",
   "metadata": {},
   "outputs": [
    {
     "name": "stdout",
     "output_type": "stream",
     "text": [
      "32000000000.0\n",
      "0.032\n",
      "3.2e-16\n",
      "0.32\n"
     ]
    }
   ],
   "source": [
    "print(3.2e10)\n",
    "print(3.2e-2)\n",
    "\n",
    "print(.00000000000000032)\n",
    "\n",
    "print(round(0.3245678910, 2))"
   ]
  },
  {
   "cell_type": "code",
   "execution_count": 40,
   "id": "215f0072-5379-4855-9d15-b074987468a1",
   "metadata": {},
   "outputs": [
    {
     "name": "stdout",
     "output_type": "stream",
     "text": [
      "True\n",
      "0\n",
      "1\n",
      "<class 'int'>\n"
     ]
    }
   ],
   "source": [
    "print(10 > 5)\n",
    "\n",
    "a = False\n",
    "b = True\n",
    "c = a + b\n",
    "\n",
    "print(int(a))\n",
    "print(c)\n",
    "print(type(c))"
   ]
  },
  {
   "cell_type": "code",
   "execution_count": 41,
   "id": "0b76cb90-19e0-48a0-8d7c-5e13c8faf5b1",
   "metadata": {},
   "outputs": [
    {
     "name": "stdout",
     "output_type": "stream",
     "text": [
      "None\n"
     ]
    }
   ],
   "source": [
    "print(None)"
   ]
  },
  {
   "cell_type": "code",
   "execution_count": 42,
   "id": "5f711eaa-87be-4e29-9ff7-a351c6af611d",
   "metadata": {},
   "outputs": [
    {
     "name": "stdout",
     "output_type": "stream",
     "text": [
      "21\n",
      "-1\n",
      "110\n",
      "0.9090909090909091\n",
      "10\n",
      "0\n",
      "100\n"
     ]
    }
   ],
   "source": [
    "print(10 + 11)\n",
    "print(10 - 11)\n",
    "print(10 * 11)\n",
    "print(10 / 11)\n",
    "print(10 % 11)\n",
    "print(10 // 11)\n",
    "print(10 ** 2)"
   ]
  },
  {
   "cell_type": "code",
   "execution_count": 46,
   "id": "9bccd3d5-40b2-4ea1-a8ac-9ccd3816593b",
   "metadata": {},
   "outputs": [
    {
     "name": "stdout",
     "output_type": "stream",
     "text": [
      "1.5\n",
      "1.5\n",
      "2.0\n",
      "2.0\n"
     ]
    }
   ],
   "source": [
    "print(6 / 4)\n",
    "print(6. / 4)\n",
    "print(6 / 3)\n",
    "print(6. // 3)"
   ]
  },
  {
   "cell_type": "code",
   "execution_count": 48,
   "id": "dcbe7524-9ed2-4078-8fc5-cd89b80fff7d",
   "metadata": {},
   "outputs": [
    {
     "name": "stdout",
     "output_type": "stream",
     "text": [
      "2.0\n"
     ]
    }
   ],
   "source": [
    "a = 3 + 1\n",
    "\n",
    "print(4 ** 0.5)"
   ]
  },
  {
   "cell_type": "code",
   "execution_count": 49,
   "id": "3c888aad-e9e0-4b12-a378-9b354191b1b8",
   "metadata": {},
   "outputs": [
    {
     "name": "stdout",
     "output_type": "stream",
     "text": [
      "10.0\n"
     ]
    }
   ],
   "source": [
    "print((5 * ((25 % 13) + 100) / (2 * 13)) // 2)"
   ]
  },
  {
   "cell_type": "code",
   "execution_count": 54,
   "id": "0cd59e7e-a070-458c-89f6-299491355119",
   "metadata": {},
   "outputs": [
    {
     "name": "stdout",
     "output_type": "stream",
     "text": [
      "27\n"
     ]
    }
   ],
   "source": [
    "a = 10\n",
    "a = a + 1\n",
    "a += 10\n",
    "\n",
    "a -= 30\n",
    "a *= -3\n",
    "print(a)"
   ]
  },
  {
   "cell_type": "code",
   "execution_count": 1,
   "id": "fe961358-17f8-4772-af0c-bbd5714443d3",
   "metadata": {},
   "outputs": [
    {
     "name": "stdout",
     "output_type": "stream",
     "text": [
      "Masukkan sebuah angka:  2\n"
     ]
    },
    {
     "name": "stdout",
     "output_type": "stream",
     "text": [
      "3\n",
      "2222222222\n"
     ]
    }
   ],
   "source": [
    "angka = input(\"Masukkan sebuah angka: \")\n",
    "b= int(angka) + 1\n",
    "print(b)\n",
    "\n",
    "c = angka * 10\n",
    "print(c)\n"
   ]
  },
  {
   "cell_type": "code",
   "execution_count": 6,
   "id": "b4b8ae9b-bbbe-4076-a8ac-1570b6b47612",
   "metadata": {},
   "outputs": [
    {
     "name": "stdout",
     "output_type": "stream",
     "text": [
      "True\n",
      "True\n",
      "False\n",
      "True\n"
     ]
    }
   ],
   "source": [
    "print(True)\n",
    "print(10 == 10)\n",
    "print(10 <= 9)\n",
    "print(10 + 20 >= 20)"
   ]
  },
  {
   "cell_type": "code",
   "execution_count": 15,
   "id": "912abd2a",
   "metadata": {},
   "outputs": [
    {
     "name": "stdout",
     "output_type": "stream",
     "text": [
      "Terima kasih\n"
     ]
    }
   ],
   "source": [
    "umur = int(input('Masukkan umur= '))\n",
    "\n",
    "if umur >= 17:\n",
    "    print('Anda boleh memiliki KTP')\n",
    "    print(\"Aloha\")\n",
    "    \n",
    "print('Terima kasih')"
   ]
  },
  {
   "cell_type": "code",
   "execution_count": 16,
   "id": "b5293f3e",
   "metadata": {},
   "outputs": [
    {
     "name": "stdout",
     "output_type": "stream",
     "text": [
      "TIdak boleh memiliki KTP\n",
      "Terima kasih\n"
     ]
    }
   ],
   "source": [
    "umur = int(input('Masukkan umur= '))\n",
    "\n",
    "if umur >= 17:\n",
    "    print('Anda boleh memiliki KTP')\n",
    "else:\n",
    "    print('Tidak boleh memiliki KTP')\n",
    "\n",
    "print('Terima kasih')"
   ]
  },
  {
   "cell_type": "code",
   "execution_count": 18,
   "id": "f62eb1a9",
   "metadata": {},
   "outputs": [
    {
     "name": "stdout",
     "output_type": "stream",
     "text": [
      "Jalan\n",
      "Terima kasih\n"
     ]
    }
   ],
   "source": [
    "warna = input('Warna lampu lalu lintas= ')\n",
    "\n",
    "if warna == 'merah':\n",
    "    print('Berhenti')\n",
    "elif warna == 'kuning':\n",
    "    print('Bersiap')\n",
    "elif warna == 'hijau':\n",
    "    print('Jalan')\n",
    "else:\n",
    "    print('Warna tidak valid')\n",
    "\n",
    "print('Terima kasih')"
   ]
  },
  {
   "cell_type": "code",
   "execution_count": 19,
   "id": "9f8b0f68",
   "metadata": {},
   "outputs": [
    {
     "name": "stdout",
     "output_type": "stream",
     "text": [
      "Punya SIM\n",
      "Terima kasih\n"
     ]
    }
   ],
   "source": [
    "umur = int(input('Masukkan umur= '))\n",
    "nyetir = input('Bisa nyetir? ')\n",
    "\n",
    "if umur >= 17:\n",
    "    if nyetir == 'bisa':\n",
    "        print('Punya SIM')\n",
    "else:\n",
    "    print('Tidak punya SIM')\n",
    "\n",
    "print('Terima kasih')"
   ]
  },
  {
   "cell_type": "code",
   "execution_count": 22,
   "id": "a7ef1109",
   "metadata": {},
   "outputs": [
    {
     "name": "stdout",
     "output_type": "stream",
     "text": [
      "20 10\n",
      "10 20\n"
     ]
    }
   ],
   "source": [
    "x = 10\n",
    "y = 20\n",
    "\n",
    "temp = x\n",
    "x = y\n",
    "y = temp\n",
    "\n",
    "print(x,y)\n",
    "\n",
    "x, y = y, x\n",
    "print(x,y)"
   ]
  },
  {
   "cell_type": "code",
   "execution_count": 24,
   "id": "d2a653fd",
   "metadata": {},
   "outputs": [
    {
     "name": "stdout",
     "output_type": "stream",
     "text": [
      "1\n",
      "2\n",
      "3\n",
      "4\n",
      "5\n",
      "6\n",
      "7\n",
      "8\n",
      "9\n",
      "10\n",
      "11\n"
     ]
    }
   ],
   "source": [
    "x = 0\n",
    "\n",
    "while x <=10:\n",
    "    x += 1\n",
    "    print(x)"
   ]
  },
  {
   "cell_type": "code",
   "execution_count": 27,
   "id": "02a85de0",
   "metadata": {},
   "outputs": [
    {
     "name": "stdout",
     "output_type": "stream",
     "text": [
      "0\n",
      "2\n",
      "4\n",
      "6\n",
      "8\n",
      "10\n",
      "Terima kasih\n"
     ]
    }
   ],
   "source": [
    "x = 0\n",
    "\n",
    "while x <=10:\n",
    "    if x % 2 == 0:\n",
    "        print(x)\n",
    "\n",
    "    x += 1\n",
    "\n",
    "print('Terima kasih')"
   ]
  },
  {
   "cell_type": "code",
   "execution_count": 31,
   "id": "4e4f527a",
   "metadata": {},
   "outputs": [
    {
     "name": "stdout",
     "output_type": "stream",
     "text": [
      "0\n",
      "1\n",
      "2\n",
      "3\n",
      "4\n"
     ]
    }
   ],
   "source": [
    "for i in range(5):\n",
    "    print(i)"
   ]
  },
  {
   "cell_type": "code",
   "execution_count": 32,
   "id": "0f41ce49",
   "metadata": {},
   "outputs": [
    {
     "name": "stdout",
     "output_type": "stream",
     "text": [
      "1\n",
      "2\n",
      "3\n",
      "4\n"
     ]
    }
   ],
   "source": [
    "for i in range(1,5):\n",
    "    print(i)"
   ]
  },
  {
   "cell_type": "code",
   "execution_count": 34,
   "id": "b5803c82",
   "metadata": {},
   "outputs": [
    {
     "name": "stdout",
     "output_type": "stream",
     "text": [
      "1\n",
      "3\n",
      "5\n",
      "7\n",
      "9\n"
     ]
    }
   ],
   "source": [
    "for i in range(1,10,2):\n",
    "    print(i)"
   ]
  },
  {
   "cell_type": "code",
   "execution_count": 35,
   "id": "40311d3c",
   "metadata": {},
   "outputs": [
    {
     "name": "stdout",
     "output_type": "stream",
     "text": [
      "1\n",
      "2\n",
      "3\n",
      "4\n",
      "5\n",
      "6\n",
      "7\n",
      "8\n",
      "9\n",
      "10\n",
      "Selesai\n"
     ]
    }
   ],
   "source": [
    "import time\n",
    "\n",
    "for i in range(1,11):\n",
    "    print(i)\n",
    "    time.sleep(3)\n",
    "\n",
    "print('Selesai')"
   ]
  },
  {
   "cell_type": "code",
   "execution_count": 36,
   "id": "02a00a71",
   "metadata": {},
   "outputs": [
    {
     "name": "stdout",
     "output_type": "stream",
     "text": [
      "1\n",
      "2\n",
      "3\n",
      "4\n",
      "5\n",
      "6\n",
      "7\n"
     ]
    }
   ],
   "source": [
    "for i in range(1,11):\n",
    "    print(i)\n",
    "\n",
    "    if i == 7:\n",
    "        break"
   ]
  },
  {
   "cell_type": "code",
   "execution_count": 38,
   "id": "73fbd041",
   "metadata": {},
   "outputs": [
    {
     "name": "stdout",
     "output_type": "stream",
     "text": [
      "1\n",
      "2\n",
      "3\n",
      "4\n",
      "5\n",
      "6\n",
      "7\n"
     ]
    }
   ],
   "source": [
    "i = 1\n",
    "\n",
    "while i <= 10:\n",
    "    print(i)\n",
    "\n",
    "    if i == 7:\n",
    "        break\n",
    "\n",
    "    i += 1"
   ]
  },
  {
   "cell_type": "code",
   "execution_count": 37,
   "id": "990fbb35",
   "metadata": {},
   "outputs": [
    {
     "name": "stdout",
     "output_type": "stream",
     "text": [
      "2\n",
      "4\n",
      "6\n",
      "8\n",
      "10\n"
     ]
    }
   ],
   "source": [
    "for i in range(1,11):\n",
    "    if i % 2 == 1:\n",
    "        continue\n",
    "\n",
    "    print(i)"
   ]
  },
  {
   "cell_type": "code",
   "execution_count": 41,
   "id": "fbd76633",
   "metadata": {},
   "outputs": [
    {
     "name": "stdout",
     "output_type": "stream",
     "text": [
      "2\n",
      "4\n",
      "6\n",
      "8\n",
      "10\n"
     ]
    }
   ],
   "source": [
    "i = 1\n",
    "\n",
    "while i < 11:\n",
    "    if i % 2 == 1:\n",
    "        i += 1\n",
    "        continue\n",
    "\n",
    "    print(i)\n",
    "    i += 1 "
   ]
  },
  {
   "cell_type": "code",
   "execution_count": 44,
   "id": "0e57a199",
   "metadata": {},
   "outputs": [
    {
     "name": "stdout",
     "output_type": "stream",
     "text": [
      "2\n",
      "4\n",
      "6\n",
      "8\n",
      "10\n"
     ]
    }
   ],
   "source": [
    "i = 1\n",
    "\n",
    "while i < 11:\n",
    "    if i % 2 != 1:\n",
    "        print(i)\n",
    "\n",
    "    i += 1"
   ]
  },
  {
   "cell_type": "code",
   "execution_count": 47,
   "id": "5a4768e0",
   "metadata": {},
   "outputs": [
    {
     "name": "stdout",
     "output_type": "stream",
     "text": [
      "biru\n"
     ]
    }
   ],
   "source": [
    "warna = 'bIru'\n",
    "\n",
    "if warna.lower() == 'biru':\n",
    "    print(warna.lower())"
   ]
  },
  {
   "cell_type": "code",
   "execution_count": 48,
   "id": "c63a2a4a",
   "metadata": {},
   "outputs": [
    {
     "name": "stdout",
     "output_type": "stream",
     "text": [
      "1\n",
      "2\n",
      "3\n",
      "4\n",
      "Apa ya?\n"
     ]
    }
   ],
   "source": [
    "i = 1\n",
    "\n",
    "while i < 5:\n",
    "    print(i)\n",
    "    i += 1\n",
    "else:\n",
    "    print('Apa ya?')"
   ]
  },
  {
   "cell_type": "code",
   "execution_count": 51,
   "id": "8aaab406",
   "metadata": {},
   "outputs": [
    {
     "name": "stdout",
     "output_type": "stream",
     "text": [
      "Anak ayam turun 10 mati 1 tinggal 9\n",
      "Anak ayam turun 9 mati 1 tinggal 8\n",
      "Anak ayam turun 8 mati 1 tinggal 7\n",
      "Anak ayam turun 7 mati 1 tinggal 6\n",
      "Anak ayam turun 6 mati 1 tinggal 5\n",
      "Anak ayam turun 5 mati 1 tinggal 4\n",
      "Anak ayam turun 4 mati 1 tinggal 3\n",
      "Anak ayam turun 3 mati 1 tinggal 2\n",
      "Anak ayam turun 2 mati 1 tinggal 1\n",
      "Anak ayam turun 1 mati 1 tinggal induknya.\n"
     ]
    }
   ],
   "source": [
    "anak_ayam = 10\n",
    "\n",
    "while anak_ayam >= 2:\n",
    "    print('Anak ayam turun '+str(anak_ayam)+' mati 1 tinggal '+str(anak_ayam-1))\n",
    "    anak_ayam -= 1\n",
    "else:\n",
    "    print('Anak ayam turun 1 mati 1 tinggal induknya.')"
   ]
  },
  {
   "cell_type": "code",
   "execution_count": 53,
   "id": "b3898c4c",
   "metadata": {},
   "outputs": [
    {
     "name": "stdout",
     "output_type": "stream",
     "text": [
      "SIM\n"
     ]
    }
   ],
   "source": [
    "umur = int(input('Masukkan umur= '))\n",
    "nyetir = input('Bisa nyetir? ')\n",
    "\n",
    "if (umur >= 17) and (nyetir.lower() == 'bisa'):\n",
    "    print('SIM')\n",
    "else:\n",
    "    print('NO SIM') "
   ]
  },
  {
   "cell_type": "code",
   "execution_count": 54,
   "id": "2d79d0e1",
   "metadata": {},
   "outputs": [
    {
     "name": "stdout",
     "output_type": "stream",
     "text": [
      "False\n"
     ]
    }
   ],
   "source": [
    "x = False\n",
    "\n",
    "if not x:\n",
    "    print(x)"
   ]
  }
 ],
 "metadata": {
  "kernelspec": {
   "display_name": "Python 3 (ipykernel)",
   "language": "python",
   "name": "python3"
  },
  "language_info": {
   "codemirror_mode": {
    "name": "ipython",
    "version": 3
   },
   "file_extension": ".py",
   "mimetype": "text/x-python",
   "name": "python",
   "nbconvert_exporter": "python",
   "pygments_lexer": "ipython3",
   "version": "3.9.13"
  }
 },
 "nbformat": 4,
 "nbformat_minor": 5
}
