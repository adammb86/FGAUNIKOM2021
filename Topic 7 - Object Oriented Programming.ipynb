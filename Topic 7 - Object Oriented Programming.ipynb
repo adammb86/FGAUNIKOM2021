{
 "cells": [
  {
   "cell_type": "markdown",
   "metadata": {
    "id": "Bn81ieYYZsNc"
   },
   "source": [
    "<b><font size = 30>Topic 7 - Object Oriented Programming</font></b>\n",
    "\n",
    "Topik ini akan fokus pada bahasan:\n",
    "\n",
    "1. Konsep dasar Object Oriented Programming\n",
    "2. Perbedaan antara Procedural Programming dengan Object Oriented Programming\n",
    "3. Konsep Class, Object, Properti, Method\n",
    "4. Mendesain reusable class dan membuat objek\n",
    "5. Pewarisan dan Polimorphisme\n",
    "6. Exception sebagai sebuah objek."
   ]
  },
  {
   "cell_type": "markdown",
   "metadata": {
    "id": "XjVK0apXaSol"
   },
   "source": [
    "# Konsep Dasar Object Oriented Programming\n",
    "\n",
    "Python itu adalah sebuah bahasa pemrograman multi purpose dan multi paradigm, artinya python dapat men-support berbagai pendekatan pemrograman. Salah satu pendekatan yang populer, adalah Object Oriented Programming (berikutnya disebut sebagai OOP), atau pemrograman berorientasi objek. Nah selama ini, kita sebetulnya menggunakan pendekatan pemrograman prosedural. Bagaimana perbedaan antara paradigma pemrograman prosedural dengan yang berbasis objek?\n",
    "\n",
    "Sebelumnya kita membahasa dulu apa itu objek. Jadi, objek itu memiliki dua karakteristik, yaitu:\n",
    "\n",
    "1. attributes\n",
    "2. behavior\n",
    "\n",
    "Mari kita lihat contohnya:\n",
    "\n",
    "1. Parrot (burung beo) adalah sebuah objek,\n",
    "\n",
    "2. name, age, color (nama, usia, warna) adalah atributnya. singing, dancing (menyanyi, menari) adalah behavior-nya\n",
    "\n",
    "Konsep dari OOP dalam python ini berfokus dalam pembuatan kode yang reusable (dapat digunakan kembali). Konsep ini juga dikenal dengan DRY (Don't Repeat Yourself).\n",
    "\n",
    "Ilustrasi OOP dapat dilihat pada gambar berikut:\n",
    "\n",
    "<img src = \"https://holycoders.com/content/images/wordpress/2019/12/Object-Oriented-Programming.png\" alt = \"Ilustrasi OOP\">\n",
    "\n",
    "Secara teoritis, OOP adalah:\n",
    ">\"Suatu paradigma yang menggunakan <b>objek</b> dengan identitas yang membungkus <b>propertis dan operasi</b>, melewatkan pesan, dan inheritance untuk menyelesaikan domain permasalahan.\"\n",
    "\n",
    "OOP memiliki beberapa sifat atau karakteristik, yaitu:\n",
    "\n",
    "| Sifat   | Deskripsi   |\n",
    "|:--- | :--- |\n",
    "| Inheritance   | Proses dalam menggunakan atribut dan behaviour dari class yang telah ada sebelumnya.   |\n",
    "| Encapsulation | Menyembunyikan atribut dan behavior yang bersifat private dari kelas lainnya.                       |\n",
    "| Polymorphism  | Sebuah konsep untuk menggunakan operasi yang sama dengan cara yang berbeda pada kelas lain. |"
   ]
  },
  {
   "cell_type": "markdown",
   "metadata": {
    "id": "evJH9lFne6bo"
   },
   "source": [
    "## Perbedaan Procedural dengan OOP\n",
    "\n",
    "Perbedaan antara pemrograman prosedural dengan OOP dapat dilihat pada tabel berikut:\n",
    "\n",
    "| Komponen yang Ditinjau | Prosedural | OOP |\n",
    "| :--- | :--- | :--- |\n",
    "| Dekomposisi | Program didekomposisi menjadi beberapa fungsi | Program didekomposisi menjadi beberapa objek |\n",
    "| Universe | Terbagi menjadi universe data dan universe code (fungsi) | 1 Universe yang di dalamnya ada data dan code |\n",
    "| Pendekatan | Top Down | Bottom Up |\n",
    "| Metode akses | Tidak memiliki metode akses | Memiliki metode akses seperti public, private, protected, dan lainnya |"
   ]
  },
  {
   "cell_type": "markdown",
   "metadata": {
    "id": "e77lTv2O6hTz"
   },
   "source": [
    "## Class\n",
    "\n",
    "Beberapa penjelasan perihal Class:\n",
    "\n",
    "1. Kumpulan objek-objek yang memiliki atribut yang sama.\n",
    "2. Template untuk membuat objek .\n",
    "3. Prototipe atau blue print yang mendefinisikan variabel-variabel dan method-method secara umum.\n",
    "4. Objek merupakan hasil instansiasi dari class.\n",
    "5. Proses pembentukan objek dari suatu class disebut <b>INSTANTIATION</b>.\n",
    "Objek disebut juga <b>INSTANCES</b>.\n",
    "\n",
    "Contoh penggambaran simbol kelas pada Class diagram dapat dilihat pada gambar berikut:\n",
    "\n",
    "![Simbol class pada Class Diagram](https://drive.google.com/uc?export=view&id=1vscqoh_fiuf8ZfpvT6sWay7aE7C4xDib)\n",
    "\n",
    "Kalau kita berbicara mengenai parrot (burung beo), blueprint atau desainnya, parrot tersebut akan memiliki nama, warna, ukuran, dll. Parrot juga nantinya bisa singing dan dancing. Oleh karena itu kita bisa membuat parrot menjadi sebuah kelas.\n",
    "\n",
    "Untuk membuat kelas parrot yang sederhana kita bisa menuliskan kode berikut :\n",
    "\n",
    "```python\n",
    "class Parrot:\n",
    "```\n",
    "\n",
    "Kata kunci class diikuti dengan Parrot mendefinisikan blueprint dari class parrot. Blueprint ini nantinya akan direalisasikan dalam sebuah instance. Ilustrasi class dapat dilihat pada gambar berikut:\n",
    "\n",
    "<img src = \"https://arjunsalyan.com/images/posts/oops-methods-attr.png\" alt = \"ilustrasi class\">\n",
    "\n",
    "Class memiliki konsep hirarki. Mari kita lihat gambar berikut:\n",
    "\n",
    "<img src = \"https://lifeskillslol.com/wp-content/uploads/2018/05/Animal-Pet-Class-3-3.jpeg\" alt = \"hirarki class binatang\">\n",
    "\n",
    "Semakin ke atas maka class semakin general karena menaungi hirarki di bawahnya. Contoh Ikan, Reptiles, Amphibi termasuk ke dalam class hewan berdarah dingin, maka class hewan berdarah dingin akan memiliki ciri khusus (baik secara properti maupun method) yang nantinya akan diturunkan ke class di bawahnya. Class hewan berdarah dingin disebut sebagai <b>super class</b> dari <b>sub class</b> ikan, reptil, dan amphibi.\n",
    "\n",
    "Semakin ke bawah maka class semakin specialized. Specialized class akan mewarisi beberapa ciri dari super class-nya yang disebut dengan <b>inheritance</b>.\n"
   ]
  },
  {
   "cell_type": "markdown",
   "metadata": {
    "id": "uu4_81mr8pnv"
   },
   "source": [
    "## Object\n",
    "\n",
    "Beberapa penjelasan perihal object:\n",
    "\n",
    "1. Semua benda di dunia nyata bisa dianggap sebagai objek. Contoh: kursi, meja, buku, sepeda, komputer.\n",
    "2. Penggambaran pemrograman berorientasi objek = penggambaran di dunia nyata.\n",
    "\n",
    ">\"Abstraksi dari sesuatu yang mewakili sesuatu yang ada di dunia nyata dan harus dapat dibedakan dengan objek lain.\"\n",
    "\n",
    "Sebuah objek (instance) adalah <b>perwujudan dari sebuah class</b>.\n",
    "\n",
    "Contoh dari membuat sebuah objek (instance) adalah sebagai berikut:\n",
    "\n",
    "```python\n",
    "kakatua = Parrot()\n",
    "```\n",
    "\n",
    "Di sini, kakatua adalah perwujudan Parrot\n"
   ]
  },
  {
   "cell_type": "markdown",
   "metadata": {
    "id": "1469_yUW_L24"
   },
   "source": [
    "## Hubungan Class dan Object\n",
    "\n",
    "Hubungan antara class dengan objek dapat terlihat pada gambar berikut:\n",
    "\n",
    "<img src = \"https://miro.medium.com/max/800/1*MwSMUIGpto9c9a9mfP-B8w.jpeg\" alt = \"hubungan class dengan object\">\n",
    "\n",
    "Class merupakan resep untuk membuat objek dan objek adalah realisasi dari resep tersebut. Class merupakan konsepsi abstrak yang terbentuk di otak manusia lalu agar bisa dirasakan, maka class harus diinstansiasi terlebih dahulu menjadi sebuah objek.\n",
    "\n",
    "><b>1 buah class bisa diinstansiasi menjadi banyak object.</b>"
   ]
  },
  {
   "cell_type": "markdown",
   "metadata": {
    "id": "Ble9OqtRB4i1"
   },
   "source": [
    "## Class dan Object di Python\n",
    "\n",
    "Karena Python mendukung konsep OOP maka ada format yang bisa kita gunakan untuk membuat sebuah class. Format tersebut adalah sebagai berikut:\n",
    "\n",
    "```python\n",
    "class <nama_class>:\n",
    "  pass\n",
    "```\n",
    "\n",
    "kata kunci pass menyatakan bahwa properti dan method dari class tersebut belum ditentukan (akan ditentukan kemudian). Dari class tersebut, kita bisa menginstansiasi objek. Format dasar di Python-nya adalah sebagai berikut:\n",
    "\n",
    "```python\n",
    "<nama_object> = <nama_class>()\n",
    "```\n",
    "\n",
    "Sebagai contoh dalam kasus binatang bisa terdapat class dan object sebagai berikut:\n",
    "\n",
    "```python\n",
    "class cold_blooded:\n",
    "  pass\n",
    "\n",
    "lele = cold_blooded()\n",
    "```"
   ]
  },
  {
   "cell_type": "markdown",
   "metadata": {
    "id": "3aEvY7MxELx-"
   },
   "source": [
    "## Hands on Lab 1: Membuat class dan object\n",
    "\n",
    "Perhatikan contoh kode program berikut:\n"
   ]
  },
  {
   "cell_type": "code",
   "execution_count": 1,
   "metadata": {
    "colab": {
     "base_uri": "https://localhost:8080/"
    },
    "id": "raxHK3q8EWa6",
    "outputId": "8f8a9860-5790-403e-e1c9-8205c8802abf"
   },
   "outputs": [
    {
     "name": "stdout",
     "output_type": "stream",
     "text": [
      "Brio memiliki roda sebanyak 4\n",
      "Brio diproduksi oleh Honda\n",
      "Brio merupakan keluaran tahun 2018\n",
      "Begitu juga Calya merupakan mobil keluaran Toyota di tahun 2019\n"
     ]
    }
   ],
   "source": [
    "class Car:\n",
    "\n",
    "    # class attribute\n",
    "    roda = 4\n",
    "\n",
    "    # instance attribute\n",
    "    # constructor\n",
    "    def __init__(self, produksi, keluaran):\n",
    "        self.produksi = produksi\n",
    "        self.keluaran = keluaran\n",
    "\n",
    "# # instantiate the Car class\n",
    "brio = Car(\"Honda\", 2018)\n",
    "calya = Car(\"Toyota\", 2019)\n",
    "\n",
    "# access the class and instance attributes\n",
    "print(\"Brio memiliki roda sebanyak\",brio.roda)\n",
    "print(\"Brio diproduksi oleh \" + brio.produksi)\n",
    "print(\"Brio merupakan keluaran tahun\",brio.keluaran)\n",
    "print(\"Begitu juga Calya merupakan mobil keluaran \" + calya.produksi + \" di tahun \" + str(calya.keluaran))"
   ]
  },
  {
   "cell_type": "markdown",
   "metadata": {
    "id": "ZBQiWTVRGYxA"
   },
   "source": [
    "Pada contoh kode program tersebut, maka kita bisa lihat cara deklarasi class beserta atribut (properti) maupun konstruktor yang digunakan untuk mendeklarasikan atribut untuk object."
   ]
  },
  {
   "cell_type": "markdown",
   "metadata": {
    "id": "X3mge6i1HPCO"
   },
   "source": [
    "## Hands on Lab 2: Encapsulation Struktur Data Stack\n",
    "\n",
    "Pada hands on lab kali ini, kita akan melihat bagaimana sebuah struktur data stack diimplementasikan baik dalam bentuk pemrograman prosedural maupun OOP.\n",
    "\n",
    "Bagi yang belum mengenal struktur data stack, silakan baca terlebih dahulu dokumentasi perihal struktur data stack di <a href = \"https://www.slideshare.net/adfbipotter/data-structure-stack\">LINK BERIKUT</a>.\n",
    "\n",
    "<img src = \"https://media.vlpt.us/images/tiiranocode/post/0c3b8a68-f29c-4836-91ff-2f0ef25dc704/stack.png\" alt = \"Ilustrasi struktur data stack\">\n",
    "\n",
    "DIlihat pada gambar, stack memiliki dua pekerjaan utama, yaitu push dan pop. Berikut adalah contoh kode program untuk stack menggunakan paradigma pemrograman prosedural:\n",
    "\n"
   ]
  },
  {
   "cell_type": "code",
   "execution_count": 2,
   "metadata": {
    "colab": {
     "base_uri": "https://localhost:8080/"
    },
    "id": "ojjGZNdNIWEw",
    "outputId": "1d422976-4812-4c8f-80c6-c99d36c32aee"
   },
   "outputs": [
    {
     "name": "stdout",
     "output_type": "stream",
     "text": [
      "1\n",
      "2\n",
      "3\n"
     ]
    }
   ],
   "source": [
    "stack_list = []\n",
    "\n",
    "\n",
    "def push(val):\n",
    "    stack_list.append(val)\n",
    "\n",
    "\n",
    "def pop():\n",
    "    val = stack_list[-1]\n",
    "    del stack_list[-1]\n",
    "    return val\n",
    "\n",
    "\n",
    "push(3)\n",
    "push(2)\n",
    "push(1)\n",
    "\n",
    "print(pop())\n",
    "print(pop())\n",
    "print(pop())"
   ]
  },
  {
   "cell_type": "markdown",
   "metadata": {
    "id": "WwPx73nyIZ-M"
   },
   "source": [
    "Apabila diperhatikan dengan baik, maka stack sejatinya adalah sebuah list yang mempunyai dua fungsi (karena masih pemrograman prosedural) yaitu push untuk menambah data di bagian akhir stack dan pull untuk mengambil sekaligus mengeluarkan data terakhir di stack. Fungsi-fungsi di stack pun juga memanfaatkan fungsi-fungsi yang berlaku di list.\n",
    "\n",
    "Sekarang, mari kita modifikasi kode program tersebut agar mengikuti paradigma OOP. OOP memastikan atribut maupun method (dalam pemrograman prosedural) dibungkus menjadi satu dalam konsep class. Proses ini dinamakan <b>encapsulation</b>.\n",
    "\n",
    "Ada dua keuntungan dari proses encapsulation ini, yaitu:\n",
    "\n",
    "1. Batasan akses bisa diberikan pada beberapa hal di dalam class agar tidak bisa secara langsung dimodifikasi.\n",
    "2. Penggunaan kembali class yang dibentuk untuk membuat object sebanyak mungkin.\n",
    "\n",
    "Mari kita mulai membuat kode dasar dari ``class Stack``:"
   ]
  },
  {
   "cell_type": "code",
   "execution_count": 3,
   "metadata": {
    "id": "Dc1BwpaUK1JK"
   },
   "outputs": [],
   "source": [
    "class Stack:\n",
    "  pass\n",
    "\n",
    "tumpukan_buku = Stack()"
   ]
  },
  {
   "cell_type": "markdown",
   "metadata": {
    "id": "znGreQReK_J5"
   },
   "source": [
    "Apabila dilihat pada kode program stack yang prosedural, maka kita bisa mengetahui bahwa stack memiliki satu atribut, yaitu stack yang bertipe list dan bernilai list kosong (``stack = []``). Atribut ini seharusnya tidak bisa diakses secara langsung oleh orang lain karena merupakan inti dari deklarasi stack.\n",
    "\n",
    "Python memiliki fitur <b>konstruktor method</b> yang bisa digunakan untuk mendeklarasikan atribut yang mau di-hidden dari pengguna class nantinya. Cara deklarasi konstruktor adalah sebagai berikut:\n",
    "\n",
    "```python\n",
    "def __init__(self):\n",
    "  isi konstruktor\n",
    "```\n",
    "\n",
    "Mari kita tambahkan method konstruktor pada ``class Stack``:"
   ]
  },
  {
   "cell_type": "code",
   "execution_count": 4,
   "metadata": {
    "id": "--bP8N36MN7A"
   },
   "outputs": [],
   "source": [
    "class Stack:\n",
    "  def __init__(self):\n",
    "    self.stack_list = []\n",
    "\n",
    "tumpukan_buku = Stack()"
   ]
  },
  {
   "cell_type": "markdown",
   "metadata": {
    "id": "KlHanJlfM1KX"
   },
   "source": [
    "Setelah membuat konstruktor, maka kita sudah bisa mulai mengakses atribut di dalam class menggunakan objeknya. Berikut kode programnya:"
   ]
  },
  {
   "cell_type": "code",
   "execution_count": 5,
   "metadata": {
    "colab": {
     "base_uri": "https://localhost:8080/"
    },
    "id": "P7z00OrAM_iI",
    "outputId": "1e637bae-1b91-4d68-8cfd-ee1b96cb28c5"
   },
   "outputs": [
    {
     "name": "stdout",
     "output_type": "stream",
     "text": [
      "[]\n",
      "0\n"
     ]
    }
   ],
   "source": [
    "class Stack:\n",
    "  def __init__(self):\n",
    "    self.stack_list = []\n",
    "\n",
    "tumpukan_buku = Stack()\n",
    "print(tumpukan_buku.stack_list)\n",
    "print(len(tumpukan_buku.stack_list))"
   ]
  },
  {
   "cell_type": "markdown",
   "metadata": {
    "id": "mUmW0iQmNpZ6"
   },
   "source": [
    "Tentunya kita menginginkan agar atribut ini tidak bisa diakses secara sembarangan dari luar class. Caranya adalah kita bisa membuat atribut tersebut memiliki access modifier <b>private</b>. Caranya adalah dengan memberikan tanda __ (underscore dua kali) di depan nama atributnya. Berikut contoh kode programnya:"
   ]
  },
  {
   "cell_type": "code",
   "execution_count": 6,
   "metadata": {
    "id": "GXMkVHukOXPL"
   },
   "outputs": [],
   "source": [
    "class Stack:\n",
    "  def __init__(self):\n",
    "    self.__stack_list = []\n",
    "\n",
    "tumpukan_buku = Stack()"
   ]
  },
  {
   "cell_type": "markdown",
   "metadata": {
    "id": "OZJ0cx2sOePb"
   },
   "source": [
    "Mari kita coba efek dari penggunaan atribut private ini."
   ]
  },
  {
   "cell_type": "code",
   "execution_count": 7,
   "metadata": {
    "colab": {
     "base_uri": "https://localhost:8080/",
     "height": 213
    },
    "id": "SkB9Ekc3OiGk",
    "outputId": "1a6a0328-2cfb-46b3-80b0-d3dc574549fd"
   },
   "outputs": [
    {
     "ename": "AttributeError",
     "evalue": "'Stack' object has no attribute 'stack_list'",
     "output_type": "error",
     "traceback": [
      "\u001b[0;31m---------------------------------------------------------------------------\u001b[0m",
      "\u001b[0;31mAttributeError\u001b[0m                            Traceback (most recent call last)",
      "\u001b[0;32m<ipython-input-7-3144055a2f67>\u001b[0m in \u001b[0;36m<module>\u001b[0;34m\u001b[0m\n\u001b[1;32m      4\u001b[0m \u001b[0;34m\u001b[0m\u001b[0m\n\u001b[1;32m      5\u001b[0m \u001b[0mtumpukan_buku\u001b[0m \u001b[0;34m=\u001b[0m \u001b[0mStack\u001b[0m\u001b[0;34m(\u001b[0m\u001b[0;34m)\u001b[0m\u001b[0;34m\u001b[0m\u001b[0;34m\u001b[0m\u001b[0m\n\u001b[0;32m----> 6\u001b[0;31m \u001b[0mprint\u001b[0m\u001b[0;34m(\u001b[0m\u001b[0mtumpukan_buku\u001b[0m\u001b[0;34m.\u001b[0m\u001b[0mstack_list\u001b[0m\u001b[0;34m)\u001b[0m\u001b[0;34m\u001b[0m\u001b[0;34m\u001b[0m\u001b[0m\n\u001b[0m\u001b[1;32m      7\u001b[0m \u001b[0mprint\u001b[0m\u001b[0;34m(\u001b[0m\u001b[0mlen\u001b[0m\u001b[0;34m(\u001b[0m\u001b[0mtumpukan_buku\u001b[0m\u001b[0;34m.\u001b[0m\u001b[0mstack_list\u001b[0m\u001b[0;34m)\u001b[0m\u001b[0;34m)\u001b[0m\u001b[0;34m\u001b[0m\u001b[0;34m\u001b[0m\u001b[0m\n",
      "\u001b[0;31mAttributeError\u001b[0m: 'Stack' object has no attribute 'stack_list'"
     ]
    }
   ],
   "source": [
    "class Stack:\n",
    "  def __init__(self):\n",
    "    self.__stack_list = []\n",
    "\n",
    "tumpukan_buku = Stack()\n",
    "print(tumpukan_buku.stack_list)\n",
    "print(len(tumpukan_buku.stack_list))"
   ]
  },
  {
   "cell_type": "markdown",
   "metadata": {
    "id": "Y-_y3Pn4OoH6"
   },
   "source": [
    "Sekarang atribut ``stack_list`` tidak bisa diakses kembali dari luar class. Itulah yang kita kenal dengan proses encapsulation."
   ]
  },
  {
   "cell_type": "markdown",
   "metadata": {
    "id": "a33Q5iDOO4oJ"
   },
   "source": [
    "## Hands on Lab 3: Menambah method di class stack (lanjutan)\n",
    "\n",
    "Sekarang, mari kita tambah dua fungsi yang ada pada stack di pemrograman prosedural menjadi method di dalam ``class Stack``. Cara deklarasi method di dalam class mirip dengan deklarasi fungsi di pemrograman prosedural. Format dasarnya adalah sebagai berikut:\n",
    "\n",
    "```python\n",
    "def <nama_method>(self, <parameter>):\n",
    "  isi method\n",
    "```\n",
    "\n",
    "><b>Penjelasan:</b>\n",
    "``self`` adalah kata kunci yang digunakan pada konsep class. Jadi fungsi dari ``self`` ini sebenarnya adalah sebagai sebuah variabel saja yang yang menyatakan kelas itu sendiri. Jika kita ingin memanggil sebuah variabel atau metode di dalam sebuah class, dan metode yang akan kita panggil ada di class itu juga, maka kita memakai kata ``self`` di depan nama variabel atau metodenya.\n",
    "\n",
    "Berikut kode program dari ``class Stack`` setelah dilengkapi method-nya:"
   ]
  },
  {
   "cell_type": "code",
   "execution_count": null,
   "metadata": {
    "id": "PY5HLV9FQjA2"
   },
   "outputs": [],
   "source": [
    "class Stack:\n",
    "  def __init__(self):\n",
    "    self.__stack_list = []\n",
    "\n",
    "  def push(self, nilai):\n",
    "    self.__stack_list.append(nilai)\n",
    "\n",
    "\n",
    "  def pop(self):\n",
    "    nilai = self.__stack_list[-1]\n",
    "    del self.__stack_list[-1]\n",
    "    return nilai \n",
    "\n",
    "tumpukan_buku = Stack()"
   ]
  },
  {
   "cell_type": "markdown",
   "metadata": {
    "id": "L_CpVfWE2wp0"
   },
   "source": [
    "Mari kita manfaatkan method yang sudah dibuat dengan cara memanggilnya melalui object."
   ]
  },
  {
   "cell_type": "code",
   "execution_count": null,
   "metadata": {
    "colab": {
     "base_uri": "https://localhost:8080/"
    },
    "id": "8_jdmchrQ3fJ",
    "outputId": "8f30af5a-c16f-44c9-c0d0-ca7e17472653"
   },
   "outputs": [],
   "source": [
    "class Stack:\n",
    "  def __init__(self):\n",
    "    self.__stack_list = []\n",
    "\n",
    "  def push(self, nilai):\n",
    "    self.__stack_list.append(nilai)\n",
    "\n",
    "\n",
    "  def pop(self):\n",
    "    nilai = self.__stack_list[-1]\n",
    "    del self.__stack_list[-1]\n",
    "    return nilai \n",
    "\n",
    "tumpukan_buku = Stack()\n",
    "\n",
    "tumpukan_buku.push(\"Laskar Pelangi\")\n",
    "tumpukan_buku.push(\"Negeri 5 Menara\")\n",
    "tumpukan_buku.push(\"Harry Potter\")\n",
    "\n",
    "print(tumpukan_buku.pop())\n",
    "print(tumpukan_buku.pop())\n",
    "print(tumpukan_buku.pop())"
   ]
  },
  {
   "cell_type": "markdown",
   "metadata": {
    "id": "OGLzq6qvRP7m"
   },
   "source": [
    "## Hands on Lab 4: Membuat object independen dari class stack (lanjutan)\n",
    "\n",
    "Untuk bisa membuktikan bahwa 1 buah class bisa diinstansiasi menjadi banyak object yang saling independen, mari kita coba kode program berikut:"
   ]
  },
  {
   "cell_type": "code",
   "execution_count": null,
   "metadata": {
    "colab": {
     "base_uri": "https://localhost:8080/"
    },
    "id": "S2FWSNjnRuNk",
    "outputId": "5d484e2f-32c1-4542-b682-7d34aa08ef36"
   },
   "outputs": [],
   "source": [
    "class Stack:\n",
    "  def __init__(self):\n",
    "    self.__stack_list = []\n",
    "\n",
    "  def push(self, nilai):\n",
    "    self.__stack_list.append(nilai)\n",
    "\n",
    "\n",
    "  def pop(self):\n",
    "    nilai = self.__stack_list[-1]\n",
    "    del self.__stack_list[-1]\n",
    "    return nilai \n",
    "\n",
    "tumpukan_buku = Stack()\n",
    "\n",
    "tumpukan_buku.push(\"Laskar Pelangi\")\n",
    "tumpukan_buku.push(\"Negeri 5 Menara\")\n",
    "tumpukan_buku.push(\"Harry Potter\")\n",
    "\n",
    "print(tumpukan_buku.pop())\n",
    "print(tumpukan_buku.pop())\n",
    "print(tumpukan_buku.pop())\n",
    "\n",
    "\n",
    "tumpukan_baju = Stack()\n",
    "\n",
    "tumpukan_baju.push(\"Kaos Billabong\")\n",
    "tumpukan_baju.push(\"Celana Jeans\")\n",
    "tumpukan_baju.push(\"Kaos Spongebob\")\n",
    "\n",
    "print(tumpukan_baju.pop())\n",
    "print(tumpukan_baju.pop())\n",
    "print(tumpukan_baju.pop())"
   ]
  },
  {
   "cell_type": "markdown",
   "metadata": {
    "id": "nDHMdC3QSPuH"
   },
   "source": [
    "Walaupun saling independen, object dapat berkomunikasi dengan object lainya. Sebagai contoh, lihat kode program berikut:"
   ]
  },
  {
   "cell_type": "code",
   "execution_count": 1,
   "metadata": {
    "colab": {
     "base_uri": "https://localhost:8080/"
    },
    "id": "xKtXKYyoxMIu",
    "outputId": "c65eea93-fca5-4939-900f-98313d32edbc"
   },
   "outputs": [
    {
     "name": "stdout",
     "output_type": "stream",
     "text": [
      "Harry Potter\n"
     ]
    }
   ],
   "source": [
    "class Stack:\n",
    "  def __init__(self):\n",
    "    self.__stack_list = []\n",
    "\n",
    "  def push(self, nilai):\n",
    "    self.__stack_list.append(nilai)\n",
    "\n",
    "\n",
    "  def pop(self):\n",
    "    nilai = self.__stack_list[-1]\n",
    "    del self.__stack_list[-1]\n",
    "    return nilai \n",
    "\n",
    "tumpukan_buku = Stack()\n",
    "\n",
    "tumpukan_buku.push(\"Laskar Pelangi\")\n",
    "tumpukan_buku.push(\"Negeri 5 Menara\")\n",
    "tumpukan_buku.push(\"Harry Potter\")\n",
    "\n",
    "tumpukan_baju = Stack()\n",
    "\n",
    "tumpukan_baju.push(tumpukan_buku.pop())\n",
    "\n",
    "print(tumpukan_baju.pop())"
   ]
  },
  {
   "cell_type": "markdown",
   "metadata": {
    "id": "T7DeIMCJx06A"
   },
   "source": [
    "## Hands on Lab 5: Menambah class (lanjutan)\n",
    "\n",
    "Pada kasus class stack, kita juga bisa menambahkan sebuah class baru. Class baru ini akan digunakan untuk menangani ``class Stack`` dalam hal menjumlahkan seluruh elemen yang sedang disimpan oleh ``class Stack``. Bentuk awal class baru tersebut, adalah sebagai berikut:"
   ]
  },
  {
   "cell_type": "code",
   "execution_count": null,
   "metadata": {
    "id": "l9wDto813B8V"
   },
   "outputs": [],
   "source": [
    "class Stack:\n",
    "  def __init__(self):\n",
    "    self.__stack_list = []\n",
    "\n",
    "  def push(self, nilai):\n",
    "    self.__stack_list.append(nilai)\n",
    "\n",
    "\n",
    "  def pop(self):\n",
    "    nilai = self.__stack_list[-1]\n",
    "    del self.__stack_list[-1]\n",
    "    return nilai \n",
    "\n",
    "class SumOfStack(Stack):\n",
    "  pass"
   ]
  },
  {
   "cell_type": "markdown",
   "metadata": {
    "id": "hwikEPPe3R4t"
   },
   "source": [
    "Setelah mendeklarasikan ``class SumOfStack()`` maka langkah berikutnya adalah membuat konstruktornya. Konstruktor di class tersebut akan digunakan untuk memanggil konstruktor di ``class Stack`` dalam rangka menginisialisasi stack yang akan diproses serta menginisialisasi nilai ``sumStack`` yang akan digunakan untuk menampung nilai jumlah dari seluruh elemen stack. Bentuk kode programnya menjadi seperti ini:"
   ]
  },
  {
   "cell_type": "code",
   "execution_count": null,
   "metadata": {
    "id": "FALGDAMC30sD"
   },
   "outputs": [],
   "source": [
    "class Stack:\n",
    "  def __init__(self):\n",
    "    self.__stack_list = []\n",
    "\n",
    "  def push(self, nilai):\n",
    "    self.__stack_list.append(nilai)\n",
    "\n",
    "\n",
    "  def pop(self):\n",
    "    nilai = self.__stack_list[-1]\n",
    "    del self.__stack_list[-1]\n",
    "    return nilai \n",
    "\n",
    "class SumOfStack(Stack):\n",
    "  def __init__(self):\n",
    "    Stack.__init__(self)\n",
    "    self.__sumStack = 0"
   ]
  },
  {
   "cell_type": "markdown",
   "metadata": {
    "id": "YjNCa5m04eZE"
   },
   "source": [
    "><b>Catatan:</b> Kalau diperhatikan dengan seksama, ``class SumOfStack`` memiliki parameter berupa ``class Stack``. Itu berarti ``class SumOfStack()`` dapat memanfaatkan beberapa atribut atau method (selama diizinkan) yang berada di ``class Stack``. Itulah yang kita kenal dengan <b>Inheritance</b>. Kita akan bahas ini pada section khusus.\n",
    "\n",
    "Berikutnya kita tambahkan method push yang fungsinya akan menjumlahkan elemen di dalam list jika ada penambahan data ke dalamnya."
   ]
  },
  {
   "cell_type": "code",
   "execution_count": null,
   "metadata": {
    "id": "PJTvnpS04oKI"
   },
   "outputs": [],
   "source": [
    "class Stack:\n",
    "  def __init__(self):\n",
    "    self.__stack_list = []\n",
    "\n",
    "  def push(self, nilai):\n",
    "    self.__stack_list.append(nilai)\n",
    "\n",
    "\n",
    "  def pop(self):\n",
    "    nilai = self.__stack_list[-1]\n",
    "    del self.__stack_list[-1]\n",
    "    return nilai \n",
    "\n",
    "class SumOfStack(Stack):\n",
    "  def __init__(self):\n",
    "    Stack.__init__(self)\n",
    "    self.__sumStack = 0\n",
    "\n",
    "  def push(self, nilai):\n",
    "    self.__sumStack += nilai\n",
    "    Stack.push(self, nilai)"
   ]
  },
  {
   "cell_type": "markdown",
   "metadata": {
    "id": "Dcq24FMK49C7"
   },
   "source": [
    "Di sini kita bisa melihat ada pemanfaatan method ``push`` yang ada di ``class Stack`` pada method ``push`` di ``class SumOfStack``. Selanjutnya, mari kita tambahkan method ``pop`` yang merupakan kebalikan dari method ``push``. Berikut kode program setelah dilakukan penambahan method ``pop``:"
   ]
  },
  {
   "cell_type": "code",
   "execution_count": null,
   "metadata": {
    "id": "0qei418p6FEs"
   },
   "outputs": [],
   "source": [
    "class Stack:\n",
    "  def __init__(self):\n",
    "    self.__stack_list = []\n",
    "\n",
    "  def push(self, nilai):\n",
    "    self.__stack_list.append(nilai)\n",
    "\n",
    "\n",
    "  def pop(self):\n",
    "    nilai = self.__stack_list[-1]\n",
    "    del self.__stack_list[-1]\n",
    "    return nilai \n",
    "\n",
    "class SumOfStack(Stack):\n",
    "  def __init__(self):\n",
    "    Stack.__init__(self)\n",
    "    self.__sumStack = 0\n",
    "\n",
    "  def push(self, nilai):\n",
    "    self.__sumStack += nilai\n",
    "    Stack.push(self, nilai)\n",
    "\n",
    "  def pop(self):\n",
    "    nilai = Stack.pop(self)\n",
    "    self.__sumStack -= nilai\n",
    "    return nilai"
   ]
  },
  {
   "cell_type": "markdown",
   "metadata": {
    "id": "J_Mko5lJ_KNO"
   },
   "source": [
    "Selanjutnya, kita sediakan method khusus untuk mengakses nilai ``sumStack`` dari luar kelas karena nilai tersebut bersifat private (tidak bisa diakses dari luar). Method khusus itu dikenal sebagai <b>getter</b> (biasanya disandingkan dengan setter yang berfungsi untuk mengisikan nilai ke atribut private).\n",
    "\n",
    "><b>Catatan:</b>\n",
    "Bagi yang baru pertama kali belajar OOP, konsep getter dan setter (dikenal juga dengan Mutator Method) dapat dipelajari di https://en.wikipedia.org/wiki/Mutator_method.\n",
    "\n",
    "Berikut kode program setelah ditambahkan method getter:"
   ]
  },
  {
   "cell_type": "code",
   "execution_count": null,
   "metadata": {
    "id": "fel_E4tBAVtQ"
   },
   "outputs": [],
   "source": [
    "class Stack:\n",
    "  def __init__(self):\n",
    "    self.__stack_list = []\n",
    "\n",
    "  def push(self, nilai):\n",
    "    self.__stack_list.append(nilai)\n",
    "\n",
    "\n",
    "  def pop(self):\n",
    "    nilai = self.__stack_list[-1]\n",
    "    del self.__stack_list[-1]\n",
    "    return nilai \n",
    "\n",
    "class SumOfStack(Stack):\n",
    "  def __init__(self):\n",
    "    Stack.__init__(self)\n",
    "    self.__sumStack = 0\n",
    "\n",
    "  def push(self, nilai):\n",
    "    self.__sumStack += nilai\n",
    "    Stack.push(self, nilai)\n",
    "\n",
    "  def pop(self):\n",
    "    nilai = Stack.pop(self)\n",
    "    self.__sumStack -= nilai\n",
    "    return nilai\n",
    "\n",
    "  def get_sumStack(self):\n",
    "    return self.__sumStack"
   ]
  },
  {
   "cell_type": "markdown",
   "metadata": {
    "id": "iPtsoYYG69Br"
   },
   "source": [
    "Sebagai langkah terakhir, mari kita manfaatkan method yang ada pada ``class SumOfStack``."
   ]
  },
  {
   "cell_type": "code",
   "execution_count": null,
   "metadata": {
    "colab": {
     "base_uri": "https://localhost:8080/"
    },
    "id": "maf4y1S97K1R",
    "outputId": "1ab4c063-7fed-4838-dba8-c492aa6c0d98"
   },
   "outputs": [],
   "source": [
    "class Stack:\n",
    "  def __init__(self):\n",
    "    self.__stack_list = []\n",
    "\n",
    "  def push(self, nilai):\n",
    "    self.__stack_list.append(nilai)\n",
    "\n",
    "\n",
    "  def pop(self):\n",
    "    nilai = self.__stack_list[-1]\n",
    "    del self.__stack_list[-1]\n",
    "    return nilai \n",
    "\n",
    "class SumOfStack(Stack):\n",
    "  def __init__(self):\n",
    "    Stack.__init__(self)\n",
    "    self.__sumStack = 0\n",
    "\n",
    "  def push(self, nilai):\n",
    "    self.__sumStack += nilai\n",
    "    Stack.push(self, nilai)\n",
    "\n",
    "  def pop(self):\n",
    "    nilai = Stack.pop(self)\n",
    "    self.__sumStack -= nilai\n",
    "    return nilai\n",
    "\n",
    "  def get_sumStack(self):\n",
    "    return self.__sumStack\n",
    "\n",
    "tumpukan_bilangan = SumOfStack()\n",
    "\n",
    "for i in range (1,6):\n",
    "  tumpukan_bilangan.push(i)\n",
    "\n",
    "print(tumpukan_bilangan.get_sumStack())"
   ]
  },
  {
   "cell_type": "markdown",
   "metadata": {
    "id": "pMrWcIxOW5In"
   },
   "source": [
    "# Property (Atribut)\n",
    "\n",
    "Pada section ini fokus pembahasan adalah perihal penggunaan atribut beserta akses modifier dari atribut dalam konsep OOP."
   ]
  },
  {
   "cell_type": "markdown",
   "metadata": {
    "id": "8xKPtqS6N0LY"
   },
   "source": [
    "## Default Value pada Konstruktor\n",
    "\n",
    "Kita bisa memberikan nilai default pada method konstruktor seperti halnya kita memberikan nilai default pada fungsi. Berikut contoh penggunaannya:"
   ]
  },
  {
   "cell_type": "code",
   "execution_count": 2,
   "metadata": {
    "colab": {
     "base_uri": "https://localhost:8080/"
    },
    "id": "NpShm_mAOqw_",
    "outputId": "575af1ae-2acb-49d0-fe5c-397600304922"
   },
   "outputs": [
    {
     "name": "stdout",
     "output_type": "stream",
     "text": [
      "1\n",
      "10\n"
     ]
    }
   ],
   "source": [
    "class ExampleClass:\n",
    "  def __init__(self, nilai = 1):\n",
    "    self.first = nilai\n",
    "\n",
    "sample = ExampleClass()\n",
    "sample2 = ExampleClass(10)\n",
    "\n",
    "print(sample.first)\n",
    "print(sample2.first)"
   ]
  },
  {
   "cell_type": "markdown",
   "metadata": {
    "id": "9yzL_kIgPmDX"
   },
   "source": [
    "Hal ini juga berlaku pada method biasa (tidak hanya konstruktor)."
   ]
  },
  {
   "cell_type": "markdown",
   "metadata": {
    "id": "gxGAwB5IPuWt"
   },
   "source": [
    "## Instance Variable\n",
    "\n",
    "Selain bisa memiliki atribut class, sebuah class bisa memiliki atribut berupa <b>instance variable</b>. Instance variable akan dimiliki oleh suatu objek dan nilainya bisa berbeda karena ditentukan oleh objek itu sendiri.\n",
    "\n",
    "Perhatikan contoh kode program berikut:\n"
   ]
  },
  {
   "cell_type": "code",
   "execution_count": null,
   "metadata": {
    "colab": {
     "base_uri": "https://localhost:8080/"
    },
    "id": "-xmrKP03QcWQ",
    "outputId": "18d2894e-bd04-45b5-ce40-396a34fed2ca"
   },
   "outputs": [],
   "source": [
    "class ExampleClass:\n",
    "  def __init__(self, val = 1):\n",
    "    self.first = val\n",
    "\n",
    "  def set_second(self, val):\n",
    "    self.second = val\n",
    "\n",
    "\n",
    "example_object_1 = ExampleClass()\n",
    "example_object_2 = ExampleClass(2)\n",
    "\n",
    "example_object_2.set_second(3)\n",
    "\n",
    "example_object_3 = ExampleClass(4)\n",
    "example_object_3.third = 5\n",
    "\n",
    "print(example_object_1.__dict__)\n",
    "print(example_object_2.__dict__)\n",
    "print(example_object_3.__dict__)"
   ]
  },
  {
   "cell_type": "markdown",
   "metadata": {
    "id": "ivlMTkbdR2pj"
   },
   "source": [
    "><b>Catatan:</b> Sebelum masuk ke penjelasan kode program tersebut, python akan meng-generate <b>predefined properties and methods</b> ketika sebuah object diinstansiasi. Salah satunya adalah ``__dict__`` (fungsinya sebagai dictionary instance variable). Hal ini terjadi tanpa kita sadari dan kita tidak bisa menolak.\n",
    "\n",
    "Penjelasan kode program:\n",
    "\n",
    "1. Class yang dibuat adalah ``class ExampleClass`` dengan konstruktor yang memiliki satu atribut bernama ``first`` dan memiliki akses public (lawan dari private).\n",
    "\n",
    "2. Terdapat juga method ``set_second()`` yang di dalamnya terdapat <b>instance variable</b> bernama ``second`` berakses public.\n",
    "\n",
    "3. Ada 3 objek yang dibuat di dalam kode tersebut dan ketiganya memiliki instance variabel yang berbeda:<br>\n",
    "a. Object ``example_object_1`` hanya memiliki atribut ``first``\n",
    "b. Object ``example_object_2`` memiliki dua atribut: ``first`` dan ``second``\n",
    "c. Object ``example_object_3`` memiliki tiga atribut: ``first``, ``second``, dan ``third``(dimana third tidak dideklarasikan di class ``ExampleClass`` dan ini valid di Python)\n",
    "\n",
    "Bagaimana jika kita ubah atribut ``first`` dan ``second`` menjadi private? Mari kita telaah kode program berikut:"
   ]
  },
  {
   "cell_type": "code",
   "execution_count": 3,
   "metadata": {
    "colab": {
     "base_uri": "https://localhost:8080/"
    },
    "id": "EJfEJHshbirM",
    "outputId": "608cf047-a710-414c-c028-c350fed3d3e4"
   },
   "outputs": [
    {
     "name": "stdout",
     "output_type": "stream",
     "text": [
      "{'_ExampleClass__first': 1}\n",
      "{'_ExampleClass__first': 2, '_ExampleClass__second': 3}\n",
      "{'_ExampleClass__first': 4, 'third': 5}\n"
     ]
    }
   ],
   "source": [
    "class ExampleClass:\n",
    "  def __init__(self, val = 1):\n",
    "    self.__first = val\n",
    "\n",
    "  def set_second(self, val):\n",
    "    self.__second = val\n",
    "\n",
    "\n",
    "example_object_1 = ExampleClass()\n",
    "example_object_2 = ExampleClass(2)\n",
    "\n",
    "example_object_2.set_second(3)\n",
    "\n",
    "example_object_3 = ExampleClass(4)\n",
    "example_object_3.third = 5\n",
    "\n",
    "print(example_object_1.__dict__)\n",
    "print(example_object_2.__dict__)\n",
    "print(example_object_3.__dict__)"
   ]
  },
  {
   "cell_type": "markdown",
   "metadata": {
    "id": "qKWCMES8bvxf"
   },
   "source": [
    "Perhatikan dengan baik hasil running programnya. Terlihat bahwa atribut private memunculkan nama kelas pada bagian ``__dict__`` karena atribut private hanya bisa diakses di dalam kelas yang mendeklarasikannya."
   ]
  },
  {
   "cell_type": "markdown",
   "metadata": {
    "id": "qKvVehfCcsOn"
   },
   "source": [
    "## Class Variable\n",
    "\n",
    ">A class variable is a property which exists in just one copy and is stored outside any object.\n",
    "\n",
    "Maknanya kita bisa mengakses variabel ini walaupun tidak ada object yang diinstansiasi dari class tersebut. Berikut contoh kode programnya:"
   ]
  },
  {
   "cell_type": "code",
   "execution_count": 4,
   "metadata": {
    "colab": {
     "base_uri": "https://localhost:8080/"
    },
    "id": "zsO4gIBCeSN2",
    "outputId": "c31f4ffe-2016-45e5-e6ad-e9ce5e2b80d4"
   },
   "outputs": [
    {
     "name": "stdout",
     "output_type": "stream",
     "text": [
      "{'_ExampleClass__first': 1} 3\n",
      "{'_ExampleClass__first': 2} 3\n",
      "{'_ExampleClass__first': 4} 3\n"
     ]
    }
   ],
   "source": [
    "class ExampleClass:\n",
    "  #class variable\n",
    "  counter = 0\n",
    "  \n",
    "  def __init__(self, val = 1):\n",
    "    self.__first = val\n",
    "    ExampleClass.counter += 1\n",
    "\n",
    "\n",
    "example_object_1 = ExampleClass()\n",
    "example_object_2 = ExampleClass(2)\n",
    "example_object_3 = ExampleClass(4)\n",
    "\n",
    "print(example_object_1.__dict__, example_object_1.counter)\n",
    "print(example_object_2.__dict__, example_object_2.counter)\n",
    "print(example_object_3.__dict__, example_object_3.counter)\n"
   ]
  },
  {
   "cell_type": "markdown",
   "metadata": {
    "id": "fTqFgVlPe3dZ"
   },
   "source": [
    "Penjelasan kode program:\n",
    "\n",
    "1. Class variable tidak muncul di ``__dict__``.\n",
    "2. Nilai untuk semua object untuk class variable selalu sama untuk seluruh object. "
   ]
  },
  {
   "cell_type": "markdown",
   "metadata": {
    "id": "ZfFUD73gi4WA"
   },
   "source": [
    "## Hands on Lab 6: variabel ``__dict__``\n",
    "\n",
    "Pelajari kode program berikut:"
   ]
  },
  {
   "cell_type": "code",
   "execution_count": 1,
   "metadata": {
    "colab": {
     "base_uri": "https://localhost:8080/"
    },
    "id": "mdbIXCAKin4D",
    "outputId": "f9d8fd07-0b3e-46a5-b2a5-c0bcd177c8ee"
   },
   "outputs": [
    {
     "name": "stdout",
     "output_type": "stream",
     "text": [
      "{'__module__': '__main__', 'nilai': 1, '__init__': <function ExampleClass.__init__ at 0x7fc15af10280>, '__dict__': <attribute '__dict__' of 'ExampleClass' objects>, '__weakref__': <attribute '__weakref__' of 'ExampleClass' objects>, '__doc__': None}\n",
      "{'__module__': '__main__', 'nilai': 2, '__init__': <function ExampleClass.__init__ at 0x7fc15af10280>, '__dict__': <attribute '__dict__' of 'ExampleClass' objects>, '__weakref__': <attribute '__weakref__' of 'ExampleClass' objects>, '__doc__': None}\n",
      "{}\n"
     ]
    }
   ],
   "source": [
    "class ExampleClass:\n",
    "    nilai = 1\n",
    "    def __init__(self, val):\n",
    "        ExampleClass.nilai = val\n",
    "\n",
    "\n",
    "print(ExampleClass.__dict__)\n",
    "example_object = ExampleClass(2)\n",
    "\n",
    "print(ExampleClass.__dict__)\n",
    "print(example_object.__dict__)"
   ]
  },
  {
   "cell_type": "markdown",
   "metadata": {
    "id": "1gWpOzpZkFSX"
   },
   "source": [
    "Kalau dilihat dengan seksama, ``__dict__`` ternyata menyimpan banyak informasi perihal class atau objek yang diwakilinya. Perhatikan juga hasil eksekusi ``__dict__``, mana yang memunculkan atribut ``instavar``? Selain itu kalau kita telaah kembali, ``__dict__`` pada object bernilai dictionary kosong karena objeknya tidak memiliki instance variable."
   ]
  },
  {
   "cell_type": "markdown",
   "metadata": {
    "id": "a8KH7GanldE8"
   },
   "source": [
    "## Pengecekan Eksistensi Atribut\n",
    "\n",
    "Kita bisa melakukan pengecekan apakah suatu atribut (entah instance atau class variable) eksis di dalam suatu clas atau tidak. Berikut contoh penggunaannya:"
   ]
  },
  {
   "cell_type": "code",
   "execution_count": 5,
   "metadata": {
    "colab": {
     "base_uri": "https://localhost:8080/",
     "height": 213
    },
    "id": "dfJn18lXmxRh",
    "outputId": "df4a0c01-d30c-4ece-d940-0c8188c95924"
   },
   "outputs": [
    {
     "name": "stdout",
     "output_type": "stream",
     "text": [
      "1\n"
     ]
    },
    {
     "ename": "AttributeError",
     "evalue": "'ClassUjicoba' object has no attribute 'b'",
     "output_type": "error",
     "traceback": [
      "\u001b[0;31m---------------------------------------------------------------------------\u001b[0m",
      "\u001b[0;31mAttributeError\u001b[0m                            Traceback (most recent call last)",
      "Input \u001b[0;32mIn [5]\u001b[0m, in \u001b[0;36m<cell line: 11>\u001b[0;34m()\u001b[0m\n\u001b[1;32m      8\u001b[0m object_uji \u001b[38;5;241m=\u001b[39m ClassUjicoba(\u001b[38;5;241m1\u001b[39m)\n\u001b[1;32m     10\u001b[0m \u001b[38;5;28mprint\u001b[39m(object_uji\u001b[38;5;241m.\u001b[39ma)\n\u001b[0;32m---> 11\u001b[0m \u001b[38;5;28mprint\u001b[39m(\u001b[43mobject_uji\u001b[49m\u001b[38;5;241;43m.\u001b[39;49m\u001b[43mb\u001b[49m)\n",
      "\u001b[0;31mAttributeError\u001b[0m: 'ClassUjicoba' object has no attribute 'b'"
     ]
    }
   ],
   "source": [
    "class ClassUjicoba:\n",
    "  def __init__(self, val):\n",
    "    if val % 2 != 0:\n",
    "      self.a = 1\n",
    "    else:\n",
    "      self.b = 1\n",
    "\n",
    "object_uji = ClassUjicoba(1)\n",
    "\n",
    "print(object_uji.a)\n",
    "print(object_uji.b)\n"
   ]
  },
  {
   "cell_type": "markdown",
   "metadata": {
    "id": "NXOhcb66oOEM"
   },
   "source": [
    "Nilai dari atribut ``a`` muncul pada layar yang menandakan bahwa atribut tersebut eksis sementara atribut ``b`` menghasilkan exception berupa ``AttributeError`` yang menandakan bahwa atribut ``b`` tidak eksis. Untuk lebih jelasnya silakan coba kode program berikut:"
   ]
  },
  {
   "cell_type": "code",
   "execution_count": null,
   "metadata": {
    "colab": {
     "base_uri": "https://localhost:8080/",
     "height": 230
    },
    "id": "mnd-qAaiotN3",
    "outputId": "990f3ec3-ccf8-4fe0-8c70-41a4e20d3a59"
   },
   "outputs": [],
   "source": [
    "class ClassUjicoba:\n",
    "  def __init__(self, nilai):\n",
    "    if nilai % 2 != 0:\n",
    "      self.a = 1\n",
    "    else:\n",
    "      self.b = 1\n",
    "\n",
    "nilai = int(input(\"Masukkan sebuah bilangan = \"))\n",
    "object_uji = ClassUjicoba(nilai)\n",
    "\n",
    "print(object_uji.a)\n",
    "print(object_uji.b)"
   ]
  },
  {
   "cell_type": "markdown",
   "metadata": {
    "id": "mkqKBRK2pGXL"
   },
   "source": [
    "Mekanisme seperti pada kode program tersebut memang bisa digunakan untuk mengecek eksistensi dari suatu atribut akan tetapi kurang baik karena ada kemungkinan munculnya exception. Ada sebuah fungsi yang bisa dimanfaatkan untuk mengecek eksistensi dari sebuah atribut, yaitu:\n",
    "\n",
    "```python\n",
    "hasattr(<nama_kelas>,'<nama_atribut_cek>')\n",
    "```\n",
    "Mari kita perbaiki kode program sebelum ini:"
   ]
  },
  {
   "cell_type": "code",
   "execution_count": 7,
   "metadata": {
    "colab": {
     "base_uri": "https://localhost:8080/"
    },
    "id": "spT3_d0-ppfM",
    "outputId": "8c62f755-2a04-4695-c56e-0a1848cf6aee"
   },
   "outputs": [
    {
     "name": "stdout",
     "output_type": "stream",
     "text": [
      "Masukkan sebuah bilangan = 2\n",
      "Atribut b eksis\n"
     ]
    }
   ],
   "source": [
    "class ClassUjicoba:\n",
    "  def __init__(self, nilai):\n",
    "    if nilai % 2 != 0:\n",
    "      self.a = 1\n",
    "    else:\n",
    "      self.b = 1\n",
    "\n",
    "nilai = int(input(\"Masukkan sebuah bilangan = \"))\n",
    "object_uji = ClassUjicoba(nilai)\n",
    "\n",
    "if hasattr(object_uji,'a'):\n",
    "  print(\"Atribut a eksis\")\n",
    "else:\n",
    "  print(\"Atribut b eksis\")\n"
   ]
  },
  {
   "cell_type": "markdown",
   "metadata": {
    "id": "v18i2oZgML6J"
   },
   "source": [
    "Kita juga bisa menggunakan exception handling untuk memeriksa eksistensi atribut. Berikut contoh kode programnya:"
   ]
  },
  {
   "cell_type": "code",
   "execution_count": 8,
   "metadata": {
    "colab": {
     "base_uri": "https://localhost:8080/"
    },
    "id": "XiItcJk9MTjJ",
    "outputId": "e90b4305-850e-4e1b-a4f6-86e9152b90ca"
   },
   "outputs": [
    {
     "name": "stdout",
     "output_type": "stream",
     "text": [
      "1\n"
     ]
    }
   ],
   "source": [
    "class ClassUjicoba:\n",
    "  def __init__(self, nilai):\n",
    "    if nilai % 2 != 0:\n",
    "      self.a = 1\n",
    "    else:\n",
    "      self.b = 1\n",
    "\n",
    "object_uji = ClassUjicoba(3)\n",
    "print(object_uji.a)\n",
    "\n",
    "try:\n",
    "  print(object_uji.b)\n",
    "except AttributeError:\n",
    "  pass"
   ]
  },
  {
   "cell_type": "markdown",
   "metadata": {
    "id": "PEY98sT8NWYG"
   },
   "source": [
    "## Hands on Lab 7: Mana yang eksis?\n",
    "\n",
    "Pelajari program berikut dan sebutkan atribut mana saja yang eksis? Kenapa sampai tidak eksis?"
   ]
  },
  {
   "cell_type": "code",
   "execution_count": 9,
   "metadata": {
    "colab": {
     "base_uri": "https://localhost:8080/"
    },
    "id": "059OLnw-Nd45",
    "outputId": "998a0499-a081-4ce8-e68a-d69334d0f6cb"
   },
   "outputs": [
    {
     "name": "stdout",
     "output_type": "stream",
     "text": [
      "True\n",
      "True\n",
      "False\n",
      "True\n"
     ]
    }
   ],
   "source": [
    "class ExampleClass:\n",
    "  a = 1\n",
    "  \n",
    "  def __init__(self):\n",
    "    self.b = 2\n",
    "\n",
    "\n",
    "example_object = ExampleClass()\n",
    "\n",
    "print(hasattr(example_object, 'b'))\n",
    "print(hasattr(example_object, 'a'))\n",
    "print(hasattr(ExampleClass, 'b'))\n",
    "print(hasattr(ExampleClass, 'a'))"
   ]
  },
  {
   "cell_type": "markdown",
   "metadata": {
    "id": "l9mSRoK3NyIc"
   },
   "source": [
    "# Method\n",
    "\n",
    "Pada section ini fokus pembahasan adalah perihal penggunaan method dalam konsep OOP. Secara umum, method adalah <b>fungsi yang di-embbed ke dalam suatu class</b>. Dalam class, method wajib memiliki minimal 1 parameter, yaitu parameter ``self``. Parameter ``self`` mengidentifikasi objek dimana method tersebut dipanggil.\n",
    "\n",
    "><b>Catatan:</b> Ketika memanggil method, kita tidak perlu menyertakan argumen untuk di-passing ke dalam parameter ``self``\n",
    "\n",
    "Berikut contoh sederhana dari method:"
   ]
  },
  {
   "cell_type": "code",
   "execution_count": null,
   "metadata": {
    "colab": {
     "base_uri": "https://localhost:8080/"
    },
    "id": "xXhaeVi8O8lz",
    "outputId": "b4df339a-a11e-41b5-9556-989bb7dd976f"
   },
   "outputs": [],
   "source": [
    "class Coba:\n",
    "\n",
    "  def methoduji(self, parameter):\n",
    "    print(\"Method:\", parameter)\n",
    "\n",
    "coba = Coba()\n",
    "coba.methoduji(10)\n",
    "coba.methoduji(20)\n",
    "coba.methoduji(30)"
   ]
  },
  {
   "cell_type": "markdown",
   "metadata": {
    "id": "KvJyBxefPnHR"
   },
   "source": [
    "## Kata Kunci Self\n",
    "\n",
    "Kata kunci ``self`` juga bisa digunakan untuk memperoleh akses ke Instance Variable dan Class Variable. Berikut contoh kode programnya:"
   ]
  },
  {
   "cell_type": "code",
   "execution_count": 8,
   "metadata": {
    "colab": {
     "base_uri": "https://localhost:8080/"
    },
    "id": "VOkrYZjVQEdv",
    "outputId": "33c249f2-6b48-4432-b9ab-2586d64f8d72"
   },
   "outputs": [
    {
     "name": "stdout",
     "output_type": "stream",
     "text": [
      "2 3\n"
     ]
    }
   ],
   "source": [
    "class Coba:\n",
    "  variabel = 2\n",
    "  \n",
    "  def method(self):\n",
    "    print(self.variabel, self.var)\n",
    "\n",
    "\n",
    "obj = Coba()\n",
    "obj.var = 3\n",
    "obj.method()\n"
   ]
  },
  {
   "cell_type": "markdown",
   "metadata": {
    "id": "1wUBs752Qjj0"
   },
   "source": [
    "Selain itu ``self`` juga digunakan untuk memanggil method lain dari dalam suatu class. Berikut contoh kode programnya:"
   ]
  },
  {
   "cell_type": "code",
   "execution_count": 9,
   "metadata": {
    "colab": {
     "base_uri": "https://localhost:8080/"
    },
    "id": "EMIB3MLoQ2to",
    "outputId": "d58ff35c-34b4-4183-d8d2-5a10e7fad1b5"
   },
   "outputs": [
    {
     "name": "stdout",
     "output_type": "stream",
     "text": [
      "method\n",
      "other\n"
     ]
    }
   ],
   "source": [
    "class Coba:\n",
    "  def other(self):\n",
    "    print(\"other\")\n",
    "\n",
    "  def method(self):\n",
    "    print(\"method\")\n",
    "    self.other()\n",
    "\n",
    "\n",
    "obj = Coba()\n",
    "obj.method()\n"
   ]
  },
  {
   "cell_type": "markdown",
   "metadata": {
    "id": "IbwJgRW2vXI5"
   },
   "source": [
    "## Konstruktor\n",
    "\n",
    "Seperti yang sudah kita coba di Hands on Lab, kosnstruktor merupakan method khusus yang ada pada suatu class. Method ini akan terpanggil secara otomatis ketika ada proses instansiasi dari suatu class. Biasanya method ini digunakan untuk menginisialisasi nilai awal pada atribut dalam suatu class.\n",
    "\n",
    "Ada dua konsep pada konstruktor yang harus dipahami, yaitu:\n",
    "\n",
    "1. Konstruktor tidak bisa mengembalikan nilai.\n",
    "2. Konstruktor tidak bisa dipanggil.\n",
    "\n",
    "Berikut contoh konstruktor:"
   ]
  },
  {
   "cell_type": "code",
   "execution_count": 10,
   "metadata": {
    "colab": {
     "base_uri": "https://localhost:8080/"
    },
    "id": "PHAdWtMmv8v-",
    "outputId": "ef29edb0-6ac1-4f82-d61e-84c1e95c3f1c"
   },
   "outputs": [
    {
     "name": "stdout",
     "output_type": "stream",
     "text": [
      "ALOHA\n"
     ]
    }
   ],
   "source": [
    "class Coba:\n",
    "\n",
    "  def __init__(self, nilai):\n",
    "    self.variabel = nilai\n",
    "\n",
    "coba = Coba(\"ALOHA\")\n",
    "print(coba.variabel)"
   ]
  },
  {
   "cell_type": "markdown",
   "metadata": {
    "id": "wJVrYab8wpSy"
   },
   "source": [
    "Karena konstruktor pada dasarnya adalh method dan method adalah fungsi, maka fitur pada fungsi juga berlaku pada konstruktor (seperti pemberian default value, dll)."
   ]
  },
  {
   "cell_type": "markdown",
   "metadata": {
    "id": "1diMi-u7w2oM"
   },
   "source": [
    "## Hidden Method\n",
    "\n",
    "Kita bisa membuat hidden method dengan menambahkan dua garis bawah (``__``) sebelum nama method. Berikut contoh penggunaannya:"
   ]
  },
  {
   "cell_type": "code",
   "execution_count": 10,
   "metadata": {
    "colab": {
     "base_uri": "https://localhost:8080/"
    },
    "id": "C4h4uFLDxJVK",
    "outputId": "44cd9826-0e76-4ced-c84e-11c40403f149"
   },
   "outputs": [
    {
     "name": "stdout",
     "output_type": "stream",
     "text": [
      "visible\n",
      "failed\n",
      "hidden\n"
     ]
    }
   ],
   "source": [
    "class Coba:\n",
    "  def visible(self):\n",
    "    print(\"visible\")\n",
    "    \n",
    "  def __hidden(self):\n",
    "    print(\"hidden\")\n",
    "\n",
    "\n",
    "coba = Coba()\n",
    "coba.visible()\n",
    "\n",
    "try:\n",
    "    coba.__hidden()\n",
    "except:\n",
    "    print(\"failed\")\n",
    "\n",
    "coba._Coba__hidden()"
   ]
  },
  {
   "cell_type": "markdown",
   "metadata": {
    "id": "KZyY2uiZxV9v"
   },
   "source": [
    "Hidden method tidak bisa diakses secara langsung dari luar kelas sehingga blok try tidak berjalan dengan baik dan diarahkan ke blok except."
   ]
  },
  {
   "cell_type": "markdown",
   "metadata": {
    "id": "8UiA4pBvxsOe"
   },
   "source": [
    "## Pre-equipped Attribute\n",
    "\n",
    "Python memiliki beberapa <b>pre-equipped attribute</b> yang secara langsung terdeklarasi dalam suatu class. Beberapa pre-equipped attribute, yaitu:\n",
    "\n",
    "| Pre-Equipped Attribute | Kegunaan |\n",
    "| :--- | :--- |\n",
    "| ``__dict__`` | Berisi informasi perihal class/object yang disajikan dalam bentuk Dictionary (di antaranya informasi perihal instances variabel, class variable, dan lain-lain) |\n",
    "| ``__name__`` | Atribut yang hanya bisa eksis di dalam kelas dan berguna untuk menampilkan nama kelas yang menaunginya |\n",
    "| ``__module__`` | Menyimpan nama dari module yang menaungi class |\n",
    "| ``__bases__`` | Mengembalikan sebuah tuple yang berisi daftar super class (directy) dari kelas tersebut. Biasanya digunakan untuk menunjukkan konsep inheritance. |\n",
    "\n"
   ]
  },
  {
   "cell_type": "markdown",
   "metadata": {
    "id": "ymWl2gTHy-7R"
   },
   "source": [
    "## Hands on Lab 8: ``__dict__`` lagi\n",
    "\n",
    "Jalankan dan pelajari hasil eksekusi kode program berikut:\n"
   ]
  },
  {
   "cell_type": "code",
   "execution_count": 12,
   "metadata": {
    "colab": {
     "base_uri": "https://localhost:8080/"
    },
    "id": "NbI215IvzLwe",
    "outputId": "8689d2c0-6e7b-4d01-c00f-453c19d7047d"
   },
   "outputs": [
    {
     "name": "stdout",
     "output_type": "stream",
     "text": [
      "{'var': 2}\n",
      "{'__module__': '__main__', 'varia': 1, '__init__': <function Classy.__init__ at 0x7ff5ba5b14c0>, 'method': <function Classy.method at 0x7ff5ba5b15e0>, '_Classy__hidden': <function Classy.__hidden at 0x7ff5ba5b13a0>, '__dict__': <attribute '__dict__' of 'Classy' objects>, '__weakref__': <attribute '__weakref__' of 'Classy' objects>, '__doc__': None}\n"
     ]
    }
   ],
   "source": [
    "class Classy:\n",
    "  varia = 1\n",
    "\n",
    "  def __init__(self):\n",
    "    self.var = 2\n",
    "\n",
    "  def method(self):\n",
    "    pass\n",
    "\n",
    "  def __hidden(self):\n",
    "    pass\n",
    "\n",
    "\n",
    "obj = Classy()\n",
    "\n",
    "print(obj.__dict__)\n",
    "print(Classy.__dict__)"
   ]
  },
  {
   "cell_type": "markdown",
   "metadata": {
    "id": "EFykJ_VG97uh"
   },
   "source": [
    "## Hands on Lab 9: ``__name__``\n",
    "\n",
    "Pelajari kode program berikut:"
   ]
  },
  {
   "cell_type": "code",
   "execution_count": 12,
   "metadata": {
    "colab": {
     "base_uri": "https://localhost:8080/"
    },
    "id": "wnwcPG3l-FZA",
    "outputId": "1befc13b-c77e-41fd-b652-d358864ec3ea"
   },
   "outputs": [
    {
     "name": "stdout",
     "output_type": "stream",
     "text": [
      "Coba\n",
      "Coba\n"
     ]
    }
   ],
   "source": [
    "class Coba:\n",
    "  pass\n",
    "\n",
    "\n",
    "print(Coba.__name__)\n",
    "coba = Coba()\n",
    "print(type(coba).__name__)"
   ]
  },
  {
   "cell_type": "markdown",
   "metadata": {
    "id": "9b92RyrZ-Sb-"
   },
   "source": [
    "><b>Catatan:</b> Pemanggilan atribut ``__name__`` melalui object akan menghasilkan ``AttributeError``"
   ]
  },
  {
   "cell_type": "markdown",
   "metadata": {
    "id": "AiCLWep2--3j"
   },
   "source": [
    "## Hands on Lab 10: ``__module__``\n",
    "\n",
    "Untuk bisa mencoba ini, silakan coba di lingkungan python masing-masing. Simpan nama file dengan nama yang mau dilihat ketika atribut ini dipanggil di file lain. Apabila dijalankan di file yang sama, maka akan menghasilkan ``__main__``.\n",
    "\n"
   ]
  },
  {
   "cell_type": "code",
   "execution_count": 14,
   "metadata": {
    "colab": {
     "base_uri": "https://localhost:8080/"
    },
    "id": "4qv3vUDP_gJh",
    "outputId": "ab8f0769-585e-404e-d521-a6986c5a415a"
   },
   "outputs": [
    {
     "name": "stdout",
     "output_type": "stream",
     "text": [
      "__main__\n",
      "__main__\n"
     ]
    }
   ],
   "source": [
    "class Coba:\n",
    "  pass\n",
    "\n",
    "\n",
    "print(Coba.__module__)\n",
    "coba = Coba()\n",
    "print(coba.__module__)"
   ]
  },
  {
   "cell_type": "markdown",
   "metadata": {
    "id": "VB7rN8-uAfFn"
   },
   "source": [
    "## Hands on Lab 11: ``__bases__``\n",
    "\n",
    "Berikut adalah contoh penggunaan ``__bases__``:"
   ]
  },
  {
   "cell_type": "code",
   "execution_count": 15,
   "metadata": {
    "colab": {
     "base_uri": "https://localhost:8080/"
    },
    "id": "9yHG0OU6AnEF",
    "outputId": "d5ad9f2c-a74f-402d-f6ae-007f9163c39d"
   },
   "outputs": [
    {
     "name": "stdout",
     "output_type": "stream",
     "text": [
      "( object )\n",
      "( object )\n",
      "( SuperOne SuperTwo )\n"
     ]
    }
   ],
   "source": [
    "class SuperOne:\n",
    "  pass\n",
    "\n",
    "\n",
    "class SuperTwo:\n",
    "  pass\n",
    "\n",
    "\n",
    "class Sub(SuperOne, SuperTwo):\n",
    "  pass\n",
    "\n",
    "\n",
    "def printBases(cls):\n",
    "  print('( ', end='')\n",
    "\n",
    "  for x in cls.__bases__:\n",
    "    print(x.__name__, end=' ')\n",
    "  print(')')\n",
    "\n",
    "\n",
    "printBases(SuperOne)\n",
    "printBases(SuperTwo)\n",
    "printBases(Sub)"
   ]
  },
  {
   "cell_type": "markdown",
   "metadata": {
    "id": "Z3kc-jOSB9A6"
   },
   "source": [
    "## Investigating Class\n",
    "\n",
    "Ada beberapa fungsi yang bisa dimanfaatkan untuk melakukan proses investigasi sebuah class. Dalam investigasi, ada dua proses yang dilakukan, yaitu:\n",
    "\n",
    "1. <b>Introspection</b> - kemampuan dari sebuah program untuk mengetahui tipe atau atribut dari sebuah objek ketika runtime.\n",
    "\n",
    "2. <b>Reflection</b> - kemampuan program untuk memanipulasi nilai, atribut, dan/atau fungsi dari sebuah objek ketika runtime.\n",
    "\n",
    "Apa saja yang didukung oleh Python? Mari kita pelajari kode program berikut:"
   ]
  },
  {
   "cell_type": "code",
   "execution_count": 16,
   "metadata": {
    "colab": {
     "base_uri": "https://localhost:8080/"
    },
    "id": "LhF2Zp0HC5Vq",
    "outputId": "9b47b98c-fdcb-493f-dde9-0e17518ec5ff"
   },
   "outputs": [
    {
     "name": "stdout",
     "output_type": "stream",
     "text": [
      "{'a': 1, 'b': 2, 'i': 3, 'ireal': 3.5, 'integer': 4, 'z': 5}\n",
      "{'a': 1, 'b': 2, 'i': 4, 'ireal': 3.5, 'integer': 5, 'z': 5}\n"
     ]
    }
   ],
   "source": [
    "class MyClass:\n",
    "    pass\n",
    "\n",
    "\n",
    "obj = MyClass()\n",
    "obj.a = 1\n",
    "obj.b = 2\n",
    "obj.i = 3\n",
    "obj.ireal = 3.5\n",
    "obj.integer = 4\n",
    "obj.z = 5\n",
    "\n",
    "\n",
    "def incIntsI(obj):\n",
    "  for name in obj.__dict__.keys():\n",
    "    if name.startswith('i'):\n",
    "      val = getattr(obj, name)\n",
    "      if isinstance(val, int):\n",
    "        setattr(obj, name, val + 1)\n",
    "\n",
    "\n",
    "print(obj.__dict__)\n",
    "incIntsI(obj)\n",
    "print(obj.__dict__)\n"
   ]
  },
  {
   "cell_type": "markdown",
   "metadata": {
    "id": "y_wVdi17DFnc"
   },
   "source": [
    "Inti kode program tersebut adalah:\n",
    "\n",
    "1. Terdapat kelas ``MyClass`` tanpa isi\n",
    "2. fungsi ``incIntsI`` melakukan scanning terhadap isi ``__dict__`` dari Instance ``class MyClass`` (untuk mencari atribut). Jika ada atribut yang berawalan huruf ``i`` maka:<br>\n",
    "a. Gunakan ``getattr()`` untuk mendapatkan nilai dari variabel tersebut.\n",
    "b. Gunakan ``isinstance()`` untuk mengecek apakah nilai dari atribut bernilai integer. Jika True, maka gunakan ``setattr()``untuk mengubah nilai dari suatu nama atribut."
   ]
  },
  {
   "cell_type": "markdown",
   "metadata": {
    "id": "h8lqzR7OFnD8"
   },
   "source": [
    "## Cara Class Memperkenalkan Diri Sendiri\n",
    "\n",
    "Apa yang terjadi ketika kita memanggil fungsi print disertai dengan parameter berupa nama object? Fungsi print akan mencetak alamat memori dari objek tersebut. Berikut contoh kode programnya:"
   ]
  },
  {
   "cell_type": "code",
   "execution_count": 17,
   "metadata": {
    "colab": {
     "base_uri": "https://localhost:8080/"
    },
    "id": "IRBMYcbhGdrh",
    "outputId": "7a5af2fd-47a9-449e-9490-b622b389ddb3"
   },
   "outputs": [
    {
     "name": "stdout",
     "output_type": "stream",
     "text": [
      "<__main__.Film object at 0x7ff5ba772790>\n"
     ]
    }
   ],
   "source": [
    "class Film:\n",
    "  def __init__(self,judul,genre):\n",
    "    self.judul = judul\n",
    "    self.genre = genre\n",
    "\n",
    "film = Film(\"Avenger: End Game\",\"Fiction\")\n",
    "print(film)"
   ]
  },
  {
   "cell_type": "markdown",
   "metadata": {
    "id": "O54kmkErHGL-"
   },
   "source": [
    "><b>Catatan:</b> Kalau dijalankan di komputer lain, tampilan hasilnya akan mirip dan hanya berbeda di bagian bilangan hexa yang menunjukkan alamat dari objek tersebut.\n",
    "\n",
    "Cara seperti ini dianggap kurang baik karena kurang informatif untuk mengenalkan class/object itu sendiri. Python memiliki mekanisme agar class/object dapat mengenalkan dirinya sendiri menggunakan fungsi ``__str__``. Fungsi tersebut menghasilkan hal yang mirip kode program sebelum ini akan tetapi dengan tampilan yang bisa di-custom. Fungsi ini akan bekerja dengan mekanisme yang sama dengan konstruktor (akan terpanggil otomatis ketika object diinstansiasi).\n",
    "\n",
    "Berikut contoh kode programnya:"
   ]
  },
  {
   "cell_type": "code",
   "execution_count": 18,
   "metadata": {
    "colab": {
     "base_uri": "https://localhost:8080/"
    },
    "id": "cK0FqTfyIcsF",
    "outputId": "da9698db-9a50-4155-c293-aacd23286efb"
   },
   "outputs": [
    {
     "name": "stdout",
     "output_type": "stream",
     "text": [
      "Avenger: End Game memiliki genre Fiction\n"
     ]
    }
   ],
   "source": [
    "class Film:\n",
    "  def __init__(self,judul,genre):\n",
    "    self.judul = judul\n",
    "    self.genre = genre\n",
    "\n",
    "  def __str__(self):\n",
    "    return self.judul + ' memiliki genre ' + self.genre\n",
    "\n",
    "film = Film(\"Avenger: End Game\",\"Fiction\")\n",
    "print(film)"
   ]
  },
  {
   "cell_type": "markdown",
   "metadata": {
    "id": "xVyl5kV2FXLO"
   },
   "source": [
    "# Inheritance\n",
    "\n",
    "Inheritance adalah sifat pemrograman berorientasi objek yang memungkinkan sebuah kelas menurunkan atribut ataupun method kepada kelas turunannya. Bentuk dasar dari inheritance dapat dilihat pada format berikut:\n"
   ]
  },
  {
   "cell_type": "code",
   "execution_count": 19,
   "metadata": {
    "id": "8Zvnf-TAJqIj"
   },
   "outputs": [],
   "source": [
    "class superclass:\n",
    "  pass\n",
    "\n",
    "class subclass1(superclass):\n",
    "  pass\n",
    "\n",
    "class subclass2(subclass1):\n",
    "  pass"
   ]
  },
  {
   "cell_type": "markdown",
   "metadata": {
    "id": "m8sMfCa_KHb9"
   },
   "source": [
    "Ilustrasi proses inheritance dapat dilihat pada gambar berikut:\n",
    "\n",
    "![Ilustrasi Inheritance](https://drive.google.com/uc?export=view&id=1o0rKqCGuJX6bylZKAltBsBI-emgaqexX)\n",
    "\n",
    "Sebagai contoh penerapannya, mari kita lihat contoh berikut:"
   ]
  },
  {
   "cell_type": "code",
   "execution_count": 20,
   "metadata": {
    "id": "3kZxmXs1KMW2"
   },
   "outputs": [],
   "source": [
    "class Binatang:\n",
    "  pass\n",
    "\n",
    "class Mamalia(Binatang):\n",
    "  pass\n",
    "\n",
    "class Paus(Mamalia):\n",
    "  pass"
   ]
  },
  {
   "cell_type": "markdown",
   "metadata": {
    "id": "TFZt1g95J-im"
   },
   "source": [
    "Dengan bentuk umum seperti itu maka ada beberapa hal yang bisa disimpulkan, yaitu:\n",
    "\n",
    "1. ``class Binatang`` merupakan superclass baik untuk ``class Mamalia`` (langsung) maupun ``class Paus`` (tidak langsung).\n",
    "\n",
    "2. ``class Mamalia`` adalah subclass dari ``class Binatang`` dan superclass dari ``class Paus`` pada waktu yang bersamaan.\n",
    "\n",
    "3. ``class Paus`` adalah subclass baik dari ``class Binatang`` maupun ``class Mamalia``.\n",
    "\n",
    "Sebelum masuk kepada inti penjelasan mekanisme inheritance pada Python, mari kita pelajari dulu beberapa teori, fungsi dan operator yang bisa membantu dalam proses inheritance ini."
   ]
  },
  {
   "cell_type": "markdown",
   "metadata": {
    "id": "p7RxZ5BeYGwr"
   },
   "source": [
    "## Jenis-Jenis Inheritance\n",
    "\n",
    "Ada beberapa inheritance yang didukung di Python. Berikut beberapa jenis inheritance tersebut:\n",
    "\n",
    "<img src = \"https://i0.wp.com/theinquisitivedev.com/wp-content/uploads/2020/10/java-types-of-inheritance-1024x670.jpg?resize=1024%2C670&ssl=1\">\n"
   ]
  },
  {
   "cell_type": "markdown",
   "metadata": {
    "id": "4_UGYatCLKNJ"
   },
   "source": [
    "## Fungsi issubclass()\n",
    "\n",
    "Fungsi ini bisa digunakan untuk memeriksa apakah suatu class merupakan subclass dari class lainnya. Format umumnya adalah sebagai berikut:\n",
    "\n",
    "```python\n",
    "issubclass(class1,class2)\n",
    "```\n",
    "\n",
    "Berikut contoh penggunaannya:"
   ]
  },
  {
   "cell_type": "code",
   "execution_count": 21,
   "metadata": {
    "colab": {
     "base_uri": "https://localhost:8080/"
    },
    "id": "sz_VqZyCLm6Q",
    "outputId": "7735ac1a-eef7-4482-a4e3-95e3582fc648"
   },
   "outputs": [
    {
     "name": "stdout",
     "output_type": "stream",
     "text": [
      "True\tFalse\tFalse\t\n",
      "True\tTrue\tFalse\t\n",
      "True\tTrue\tTrue\t\n"
     ]
    }
   ],
   "source": [
    "class Binatang:\n",
    "  pass\n",
    "\n",
    "class Mamalia(Binatang):\n",
    "  pass\n",
    "\n",
    "class Paus(Mamalia):\n",
    "  pass\n",
    "\n",
    "for cls1 in [Binatang, Mamalia, Paus]:\n",
    "  for cls2 in [Binatang, Mamalia, Paus]:\n",
    "    print(issubclass(cls1, cls2), end=\"\\t\")\n",
    "  print()"
   ]
  },
  {
   "cell_type": "markdown",
   "metadata": {
    "id": "ohpigWUwMEFW"
   },
   "source": [
    "><b>Catatan:</b> suatu class merupakan subclass untuk class itu sendiri."
   ]
  },
  {
   "cell_type": "markdown",
   "metadata": {
    "id": "2J77vzqCMOza"
   },
   "source": [
    "## Fungsi isinstance()\n",
    "\n",
    "Fungsi ``isinstance()`` digunakan untuk memeriksa apakah sebuah objek merupakan instansiasi dari suatu class atau bukan. Bentuk umum fungsi ini adalah sebagai berikut:\n",
    "\n",
    "```python\n",
    "isinstance(object,class)\n",
    "```\n",
    "Fungsi ini akan menghasilkan nilai True jika object merupakan instansiasi dari class tersebut atau dari salah satu superclass class tersebut, begitu pun sebaliknya.\n",
    "\n",
    "Berikut contoh penggunaannya:"
   ]
  },
  {
   "cell_type": "code",
   "execution_count": 22,
   "metadata": {
    "colab": {
     "base_uri": "https://localhost:8080/"
    },
    "id": "fLwlNNQXNOkQ",
    "outputId": "96753a96-2c2a-4808-cf90-ebd894f4a144"
   },
   "outputs": [
    {
     "name": "stdout",
     "output_type": "stream",
     "text": [
      "True\tFalse\tFalse\t\n",
      "True\tTrue\tFalse\t\n",
      "True\tTrue\tTrue\t\n"
     ]
    }
   ],
   "source": [
    "class Binatang:\n",
    "  pass\n",
    "\n",
    "class Mamalia(Binatang):\n",
    "  pass\n",
    "\n",
    "class Paus(Mamalia):\n",
    "  pass\n",
    "\n",
    "\n",
    "binatang = Binatang()\n",
    "mamalia = Mamalia()\n",
    "paus = Paus()\n",
    "\n",
    "for obj in [binatang, mamalia, paus]:\n",
    "  for cls in [Binatang, Mamalia, Paus]:\n",
    "    print(isinstance(obj, cls), end=\"\\t\")\n",
    "  print()"
   ]
  },
  {
   "cell_type": "markdown",
   "metadata": {
    "id": "igKrn_YTNzaS"
   },
   "source": [
    "## Operator is\n",
    "\n",
    "Operator ``is`` digunakan untuk memeriksa apakah object 1 dan object 2 merujuk pada object yang sama atau tidak (alamat memorinya). Bentuk umum dari operator ini adalah:\n",
    "\n",
    "```python\n",
    "object1 is object2\n",
    "```\n",
    "\n",
    "Berikut contoh kasusnya:"
   ]
  },
  {
   "cell_type": "code",
   "execution_count": 23,
   "metadata": {
    "colab": {
     "base_uri": "https://localhost:8080/"
    },
    "id": "-geXeCyOOOMO",
    "outputId": "65e237dd-59cb-45d4-d914-10823045bad7"
   },
   "outputs": [
    {
     "name": "stdout",
     "output_type": "stream",
     "text": [
      "False\n",
      "False\n",
      "True\n",
      "1 2 1\n",
      "True False\n"
     ]
    }
   ],
   "source": [
    "class Coba:\n",
    "  def __init__(self, val):\n",
    "    self.val = val\n",
    "\n",
    "\n",
    "object_1 = Coba(0)\n",
    "object_2 = Coba(2)\n",
    "object_3 = object_1\n",
    "object_3.val += 1\n",
    "\n",
    "print(object_1 is object_2)\n",
    "print(object_2 is object_3)\n",
    "print(object_3 is object_1)\n",
    "print(object_1.val, object_2.val, object_3.val)\n",
    "\n",
    "string_1 = \"Mary had a little \"\n",
    "string_2 = \"Mary had a little lamb\"\n",
    "string_1 += \"lamb\"\n",
    "\n",
    "print(string_1 == string_2, string_1 is string_2)\n"
   ]
  },
  {
   "cell_type": "markdown",
   "metadata": {
    "id": "6dvAZDQbOlJM"
   },
   "source": [
    "><b>Catatan:</b> <br>\n",
    "1. Walaupun bernilai sama belum tentu object 1 dengan object 2 merujuk ke alamat memori yang sama (objek yang sama).\n",
    "2. object 2 = object 1 menandakan bahwa object 2 merujuk kepada objek yang sama (alamat memori yang sama) dengan object 1."
   ]
  },
  {
   "cell_type": "markdown",
   "metadata": {
    "id": "SzvWpvfGPSGH"
   },
   "source": [
    "## Mekanisme Inheritance\n",
    "\n",
    "Dengan inheritance, subclass akan mendapatkan warisan atribut dan method dari superclass-nya tanpa perlu mendefinisikan ulang (selama atributnya tidak private). Inheritance mendukung terciptanya <b>reusable code</b>. Perhatikan kode program berikut:"
   ]
  },
  {
   "cell_type": "code",
   "execution_count": 24,
   "metadata": {
    "colab": {
     "base_uri": "https://localhost:8080/"
    },
    "id": "IPeMp35CPoqB",
    "outputId": "906ecc5d-5188-41da-c1c7-49bf75d2fe78"
   },
   "outputs": [
    {
     "name": "stdout",
     "output_type": "stream",
     "text": [
      "Nama saya adalah Dipsy.\n"
     ]
    }
   ],
   "source": [
    "class Super:\n",
    "  def __init__(self, name):\n",
    "    self.name = name\n",
    "\n",
    "  def __str__(self):\n",
    "    return \"Nama saya adalah \" + self.name + \".\"\n",
    "\n",
    "\n",
    "class Sub(Super):\n",
    "  def __init__(self, name):\n",
    "    Super.__init__(self, name)\n",
    "\n",
    "\n",
    "obj = Sub(\"Dipsy\")\n",
    "\n",
    "print(obj)"
   ]
  },
  {
   "cell_type": "markdown",
   "metadata": {
    "id": "34nTtb1_QHMS"
   },
   "source": [
    "Ada beberapa penjelasan perihal kode program tersebut:\n",
    "\n",
    "1. ``class Sub`` merupakan subclas dari ``class Super``.\n",
    "2. ``class Super`` memiliki method ``__str__`` dengan fungsi yang sudah dijelaskan sebelumnya.\n",
    "3. ``class Sub`` mempunyai konstruktor yang isinya memanggil konstruktor milik superclass-nya. Bagaimana bisa? Karena ada pewarisan dari superclass-nya sehingga ``class sub`` bisa memanggil fungsi tanpa deklarasi dahulu.\n",
    "\n",
    "Selain dengan mekanisme tersebut, python menyediakan sebuah fungsi ``super()`` yang bisa digunakan untuk mengakses atribut atau method milik superclass tanpa mengetahui nama dari superclass-nya. Berikut contoh penggunaannya:"
   ]
  },
  {
   "cell_type": "code",
   "execution_count": 25,
   "metadata": {
    "colab": {
     "base_uri": "https://localhost:8080/"
    },
    "id": "r24-1-BDV2t6",
    "outputId": "37b164b5-00fc-4ae6-9a4a-acfd871ba7aa"
   },
   "outputs": [
    {
     "name": "stdout",
     "output_type": "stream",
     "text": [
      "Nama saya adalah Dipsy.\n"
     ]
    }
   ],
   "source": [
    "class Super:\n",
    "  def __init__(self, name):\n",
    "    self.name = name\n",
    "\n",
    "  def __str__(self):\n",
    "    return \"Nama saya adalah \" + self.name + \".\"\n",
    "\n",
    "\n",
    "class Sub(Super):\n",
    "  def __init__(self, name):\n",
    "    super().__init__(name)\n",
    "\n",
    "\n",
    "obj = Sub(\"Dipsy\")\n",
    "\n",
    "print(obj)"
   ]
  },
  {
   "cell_type": "markdown",
   "metadata": {
    "id": "tJDMDRpjWEwT"
   },
   "source": [
    "><b>Catatan:</b> Karena sudah menggunakan fungsi ``super()`` maka parameter ``self`` di method yang memanfaatkan fungsi ``super()`` dihilangkan."
   ]
  },
  {
   "cell_type": "markdown",
   "metadata": {
    "id": "lST3mSrVWf4V"
   },
   "source": [
    "## Pewarisan Atribut\n",
    "\n",
    "Selain bisa mewarisi konstruktor, inheritance memungkinkan juga untuk sebuah subclass mewarisi atribut dari superclass-nya. Berikut contoh kasusnya:"
   ]
  },
  {
   "cell_type": "code",
   "execution_count": 26,
   "metadata": {
    "colab": {
     "base_uri": "https://localhost:8080/"
    },
    "id": "DPUkoJY_WvUD",
    "outputId": "5becd388-ada9-4a42-fcbd-beadfc66a6db"
   },
   "outputs": [
    {
     "name": "stdout",
     "output_type": "stream",
     "text": [
      "10\n",
      "20\n"
     ]
    }
   ],
   "source": [
    "class Super:\n",
    "  bilangan1 = 10\n",
    "\n",
    "class Sub(Super):\n",
    "  bilangan2 = 20\n",
    "\n",
    "subclass = Sub()\n",
    "\n",
    "print(subclass.bilangan1)\n",
    "print(subclass.bilangan2)"
   ]
  },
  {
   "cell_type": "markdown",
   "metadata": {
    "id": "3LUkosZtXDHN"
   },
   "source": [
    "Instance variable pun juga bisa diwarisi oleh subclass-nya. Berikut contoh kasusnya:"
   ]
  },
  {
   "cell_type": "code",
   "execution_count": 27,
   "metadata": {
    "colab": {
     "base_uri": "https://localhost:8080/"
    },
    "id": "A3F_J7_vXKwr",
    "outputId": "92cd04f4-db77-44e7-bfdd-54bced661280"
   },
   "outputs": [
    {
     "name": "stdout",
     "output_type": "stream",
     "text": [
      "11\n",
      "12\n"
     ]
    }
   ],
   "source": [
    "class Super:\n",
    "  def __init__(self):\n",
    "    self.instVar1 = 11\n",
    "\n",
    "class Sub(Super):\n",
    "    def __init__(self):\n",
    "        super().__init__()\n",
    "        self.instVar2 = 12\n",
    "\n",
    "\n",
    "subclass = Sub()\n",
    "\n",
    "print(subclass.instVar1)\n",
    "print(subclass.instVar2)"
   ]
  },
  {
   "cell_type": "markdown",
   "metadata": {
    "id": "K1Sgl8yHZXDU"
   },
   "source": [
    "## Pengaksesan Entity di Inheritance\n",
    "\n",
    "Ketika kita mau mengakses suatu entity di objek (atribut atau method) maka Python akan melakukan hal berikut:\n",
    "\n",
    "1. Mencari entity di dalam objek itu sendiri.\n",
    "2. Mencari entity di seluruh class yang terlibat pada pewarisan dengan objek tersebut (subclass to superclass).\n",
    "3. Jika semua tidak menemukan, barulah Python memunculkan exception berupa ``AttributeError``\n",
    "\n",
    "Berikut contoh kasusnya:"
   ]
  },
  {
   "cell_type": "code",
   "execution_count": 28,
   "metadata": {
    "colab": {
     "base_uri": "https://localhost:8080/"
    },
    "id": "sNnBMeJ9Z8ou",
    "outputId": "eddec0d8-2593-49af-dcba-3c5e1ee76ffd"
   },
   "outputs": [
    {
     "name": "stdout",
     "output_type": "stream",
     "text": [
      "100 101 102\n",
      "200 201 202\n",
      "300 301 302\n"
     ]
    }
   ],
   "source": [
    "class Level1:\n",
    "  variable_1 = 100\n",
    "  def __init__(self):\n",
    "    self.var_1 = 101\n",
    "\n",
    "  def fun_1(self):\n",
    "    return 102\n",
    "\n",
    "\n",
    "class Level2(Level1):\n",
    "  variable_2 = 200\n",
    "  def __init__(self):\n",
    "    super().__init__()\n",
    "    self.var_2 = 201\n",
    "    \n",
    "  def fun_2(self):\n",
    "    return 202\n",
    "\n",
    "\n",
    "class Level3(Level2):\n",
    "  variable_3 = 300\n",
    "  def __init__(self):\n",
    "    super().__init__()\n",
    "    self.var_3 = 301\n",
    "\n",
    "  def fun_3(self):\n",
    "    return 302\n",
    "\n",
    "\n",
    "obj = Level3()\n",
    "\n",
    "print(obj.variable_1, obj.var_1, obj.fun_1())\n",
    "print(obj.variable_2, obj.var_2, obj.fun_2())\n",
    "print(obj.variable_3, obj.var_3, obj.fun_3())"
   ]
  },
  {
   "cell_type": "markdown",
   "metadata": {
    "id": "YXVheEefaNBP"
   },
   "source": [
    "><b>Catatan:</b> Kode program tersebut merupakan contoh penerapan Multilevel Inheritance (Three-level inheritance)."
   ]
  },
  {
   "cell_type": "markdown",
   "metadata": {
    "id": "CDggjOMlag24"
   },
   "source": [
    "## Multiple Inheritance\n",
    "\n",
    "Apabila sebuah class menjadi subclass dari dua atau lebih superclass, maka inheritance-nya disebut <b>Multiple Inheritance</b>. Bentuk umum dari multiple inheritance adalah:\n",
    "\n",
    "```python\n",
    "class superclass1:\n",
    "  pass\n",
    "\n",
    "class superclass2:\n",
    "  pass\n",
    "\n",
    "class subclass(superclass1,superclass2):\n",
    "  pass\n",
    "```\n",
    "\n",
    "Dengan format seperti itu, maka ``class subclass`` akan mewarisi entity pada superclass 1 dan superclass2 (selama tidak private). Berikut contoh penggunaannya:"
   ]
  },
  {
   "cell_type": "code",
   "execution_count": 29,
   "metadata": {
    "colab": {
     "base_uri": "https://localhost:8080/"
    },
    "id": "Bn3nT3A-baqD",
    "outputId": "fe65a020-0cdf-4f44-97c7-cb9be081563f"
   },
   "outputs": [
    {
     "name": "stdout",
     "output_type": "stream",
     "text": [
      "10 11\n",
      "20 21\n"
     ]
    }
   ],
   "source": [
    "class SuperA:\n",
    "  var_a = 10\n",
    "  def fun_a(self):\n",
    "    return 11\n",
    "\n",
    "\n",
    "class SuperB:\n",
    "  var_b = 20\n",
    "  def fun_b(self):\n",
    "    return 21\n",
    "\n",
    "\n",
    "class Sub(SuperA, SuperB):\n",
    "  pass\n",
    "\n",
    "\n",
    "subclass = Sub()\n",
    "\n",
    "print(subclass.var_a, subclass.fun_a())\n",
    "print(subclass.var_b, subclass.fun_b())"
   ]
  },
  {
   "cell_type": "markdown",
   "metadata": {
    "id": "KMV67JnAcFpm"
   },
   "source": [
    "## Overriding Entity (polimorphisme)\n",
    "\n",
    "Pada kasus multilevel dan multiple inheritance, besar kemungkinan terjadinya tabrakan penggunaan nama entity (contoh: superclass1 mempunyai entity A dan superclass2 juga). Mana yang akan diwarisi oleh subclass-nya? Untuk menanggulangi tabrakan ini, Python menggunakan konsep <b>overriding</b>. Bagaimana proses itu dijalankan? Mari kita lihat kode program berikut sebagai contoh overriding dalam Multilevel Inheritance:"
   ]
  },
  {
   "cell_type": "code",
   "execution_count": 30,
   "metadata": {
    "colab": {
     "base_uri": "https://localhost:8080/"
    },
    "id": "SMGCFpzbcuGr",
    "outputId": "c0822374-0fb0-425d-fb6c-f1a9bab31bd3"
   },
   "outputs": [
    {
     "name": "stdout",
     "output_type": "stream",
     "text": [
      "300 400\n"
     ]
    }
   ],
   "source": [
    "class Level1:\n",
    "  var = 100\n",
    "  def fun(self):\n",
    "    return 200\n",
    "\n",
    "\n",
    "class Level2(Level1):\n",
    "    var = 300\n",
    "    def fun(self):\n",
    "        return 400\n",
    "\n",
    "\n",
    "class Level3(Level2):\n",
    "    pass\n",
    "\n",
    "\n",
    "subclass = Level3()\n",
    "\n",
    "print(subclass.var, subclass.fun())\n"
   ]
  },
  {
   "cell_type": "markdown",
   "metadata": {
    "id": "NPE9S8qidD85"
   },
   "source": [
    "Akibat adanya konsep overriding dan eksekusi top-down dari Python, maka atribut ``var`` dan method ``fun()`` dari ``class Level2`` akan menimpa entity di ``class Level1``.\n",
    "\n",
    "Bagaimana dengan mekanisme di Multiple Inheritance? Mari kita lihat contoh kode program berikut:"
   ]
  },
  {
   "cell_type": "code",
   "execution_count": 31,
   "metadata": {
    "colab": {
     "base_uri": "https://localhost:8080/"
    },
    "id": "QvxRmi4LdzIe",
    "outputId": "fd2bcc0f-3cd9-4780-f9df-122c3ce2322a"
   },
   "outputs": [
    {
     "name": "stdout",
     "output_type": "stream",
     "text": [
      "L LL RR Left\n"
     ]
    }
   ],
   "source": [
    "class Left:\n",
    "  var = \"L\"\n",
    "  var_left = \"LL\"\n",
    "  def fun(self):\n",
    "    return \"Left\"\n",
    "\n",
    "\n",
    "class Right:\n",
    "  var = \"R\"\n",
    "  var_right = \"RR\"\n",
    "  def fun(self):\n",
    "    return \"Right\"\n",
    "\n",
    "\n",
    "class Sub(Left, Right):\n",
    "  pass\n",
    "\n",
    "\n",
    "subclass = Sub()\n",
    "\n",
    "print(subclass.var, subclass.var_left, subclass.var_right, subclass.fun())"
   ]
  },
  {
   "cell_type": "code",
   "execution_count": 32,
   "metadata": {
    "colab": {
     "base_uri": "https://localhost:8080/"
    },
    "id": "RgkoBGmVeS5Y",
    "outputId": "641db492-6417-482c-e1f5-a96644ff6a5d"
   },
   "outputs": [
    {
     "name": "stdout",
     "output_type": "stream",
     "text": [
      "R LL RR Right\n"
     ]
    }
   ],
   "source": [
    "class Left:\n",
    "  var = \"L\"\n",
    "  var_left = \"LL\"\n",
    "  def fun(self):\n",
    "    return \"Left\"\n",
    "\n",
    "\n",
    "class Right:\n",
    "  var = \"R\"\n",
    "  var_right = \"RR\"\n",
    "  def fun(self):\n",
    "    return \"Right\"\n",
    "\n",
    "\n",
    "class Sub(Right, Left):\n",
    "  pass\n",
    "\n",
    "\n",
    "subclass = Sub()\n",
    "\n",
    "print(subclass.var, subclass.var_left, subclass.var_right, subclass.fun())"
   ]
  },
  {
   "cell_type": "markdown",
   "metadata": {
    "id": "yEqVcDwseRHt"
   },
   "source": [
    "Bisa kita simpulkan mekanisme Inheritance di Multiple Inheritance Python adalah sebagai berikut:\n",
    "\n",
    "1. Python mencari entity object di dalam object itu sendiri\n",
    "2. Mencari di superclass (sesuai hirarki dari bottom to top)\n",
    "3. Jika ada lebih dari satu kelas di dalam subclass maka Python akan melakukan scanning entity dari kelas yang disebutkan pertama ke kelas yang disebutkan berikutnya (Left to Right)."
   ]
  },
  {
   "cell_type": "markdown",
   "metadata": {
    "id": "CRzDiSUYfrSd"
   },
   "source": [
    "## Hirarki Class\n",
    "\n",
    "Menyusun class pada kode program itu bukan semata-mata untuk keindahan saja akan tetapi akan mempengaruhi alur eksekusi kode program. Sebelum kita mempelajari hal ini, mari kita lihat kode program berikut:\n",
    "\n"
   ]
  },
  {
   "cell_type": "code",
   "execution_count": 33,
   "metadata": {
    "colab": {
     "base_uri": "https://localhost:8080/"
    },
    "id": "VMc_lUm_gDG3",
    "outputId": "7dd32aca-82a2-49db-b5f7-9184be45ba20"
   },
   "outputs": [
    {
     "name": "stdout",
     "output_type": "stream",
     "text": [
      "Ini method lakukan dari class Satu\n",
      "Ini method lakukan dari class Dua\n"
     ]
    }
   ],
   "source": [
    "class Satu:\n",
    "  def lakukan(self):\n",
    "    print(\"Ini method lakukan dari class Satu\")\n",
    "\n",
    "  def lakukan2(self):\n",
    "    self.lakukan()\n",
    "\n",
    "\n",
    "class Dua(Satu):\n",
    "  def lakukan(self):\n",
    "    print(\"Ini method lakukan dari class Dua\")\n",
    "\n",
    "\n",
    "satu = Satu()\n",
    "dua = Dua()\n",
    "\n",
    "satu.lakukan2()\n",
    "dua.lakukan2()"
   ]
  },
  {
   "cell_type": "markdown",
   "metadata": {
    "id": "30mdSvEegyxF"
   },
   "source": [
    "Apa yang kita bisa pelajari dari kode program tersebut? Subclass ``class Dua`` bisa memanggil method ``lakukan2()`` akibat inheritance akan tetapi ``class Dua`` meng-override isi dari method ``lakukan2`` milik ``class Satu`` yang mengakibatkan isi method dari ``class Satu`` berubah.\n",
    "\n",
    "Kemampuan subclass untuk memodifikasi perilaku dari superclass-nya disebut sebagai <b>polimorphisme</b>. Penggunaan konsep polimorphisme mempunyai efek positif yaitu meng-extend fleksibilitas kemampuan inheritance.\n",
    "\n",
    "Sekarang mari kita pelajari bagaimana hirarki class yang ada di Python. Perhatikan kode program berikut:\n",
    "\n",
    "```python\n",
    "import time\n",
    "\n",
    "class TrackedVehicle:\n",
    "  def control_track(left, stop):\n",
    "    pass\n",
    "\n",
    "  def turn(left):\n",
    "    control_track(left, True)\n",
    "    time.sleep(0.25)\n",
    "    control_track(left, False)\n",
    "\n",
    "\n",
    "class WheeledVehicle:\n",
    "  def turn_front_wheels(left, on):\n",
    "    pass\n",
    "\n",
    "  def turn(left):\n",
    "    turn_front_wheels(left, True)\n",
    "    time.sleep(0.25)\n",
    "    turn_front_wheels(left, False)\n",
    "```\n",
    "\n",
    "Pada kode program tersebut, terdapat dua method dengan nama yang sama dan isi yang serupa (hanya berbeda di beberapa instruksi). Apabila menggunakan konsep OOP, maka kita sebaiknya tidak membiarkan hal itu terjadi. Mari kita perbaiki kode program menjadi seperti ini:\n",
    "\n",
    "```python\n",
    "import time\n",
    "\n",
    "class Vehicle:\n",
    "  def change_direction(left, on):\n",
    "    pass\n",
    "\n",
    "  def turn(left):\n",
    "    change_direction(left, True)\n",
    "    time.sleep(0.25)\n",
    "    change_direction(left, False)\n",
    "\n",
    "\n",
    "class TrackedVehicle(Vehicle):\n",
    "  def control_track(left, stop):\n",
    "    pass\n",
    "\n",
    "  def change_direction(left, on):\n",
    "    control_track(left, on)\n",
    "\n",
    "\n",
    "class WheeledVehicle(Vehicle):\n",
    "  def turn_front_wheels(left, on):\n",
    "    pass\n",
    "\n",
    "  def change_direction(left, on):\n",
    "    turn_front_wheels(left, on)\n",
    "```\n",
    "\n",
    "Perbaikan apa yang terjadi di sini? Berikut bentuk perbaikannya:\n",
    "\n",
    "1. <b>Peningkatan level abstraksi</b> - ``class Vehicle`` dibuat sebagai bentuk peningkatan level abstraksi karena ``class TrackedVehicle`` dan ``class WheeledVehicle`` memiliki entity yang sama dan beberapa kemiripan. Apabila terjadi hal seperti ini, ada baiknya Programmer meningkatkan abstraksinya agar reusable code menjadi lebih mungkin terjadi. ``class Vehicle`` memiliki method ``change_direction`` yang merupakan <b>Abstract Method</b> yang nantinya method ini akan diisi di subclass dari ``class Vehicle``. \n",
    "\n",
    "2. <b>Penggunaan method general pada abstraksi</b> - Pada ``class Vehicle`` terdapat method ``turn()`` yang merupakan generalisasi dari method ``turn()`` (pada kode yang belum diperbaiki). Bagian instruksi yang sama disatukan dalam method ``turn()`` di ``class vehicle``. Bagaimana dengan yang berbeda? Baris instruksi yang berbeda akan diimplementasi di subclass sementara yang sama letakkan di superclass.\n",
    "\n",
    "3. Gunakan method ``change_direction()`` yang ada pada masing-masing subclass untuk menampung baris instruksi yang berbeda pada masing-masing method ``turn()`` di kode yang belum diperbaiki. Di sinilah konsep polimorphisme terjadi. Abstract Method ``change_direction`` pada ``class Vehicle`` akan di-override dengan method ``change_direction`` pada ``class TrackedVehicle`` dan ``class WheeledVehicle``.\n",
    "\n",
    "Dapat kita lihat pada contoh kasus tersebut bahwa kombinasi antara inheritance dan polimorphisme yang berkesinambungan akan menciptakan abstraksi, konsistensi kode (kedua subclass memiliki method yang seragam karena memang secara kenyataan, dua konsep itu serupa), dan kode yang bersih.\n"
   ]
  },
  {
   "cell_type": "markdown",
   "metadata": {
    "id": "AfcbM7iPncGF"
   },
   "source": [
    "## Composition\n",
    "\n",
    "Selain konsep abstraksi pada hirarki class, ada konsep lain yang juga membentuk hirarki class, yaitu <b>composition</b>. Composition adalah sebuah proses membentuk sebuah object menggunakan objek lainnya. Dalam kata lain, suatu kelas yang mau dibentuk membutuhkan kelas lain sebagai bagian dari dirinya sendiri.\n",
    "\n",
    "Gambaran class diagram tentang composition dapat dilihat pada gambar berikut:\n",
    "\n",
    "![Ilustrasi Inheritance](https://drive.google.com/uc?export=view&id=1XnhGSA-O2pKGywn8vbVsIvEA8cKis2Ug)\n",
    "\n",
    "Berikut contoh dari composition:"
   ]
  },
  {
   "cell_type": "code",
   "execution_count": 34,
   "metadata": {
    "id": "r6cqib8nnDd-"
   },
   "outputs": [
    {
     "name": "stdout",
     "output_type": "stream",
     "text": [
      "wheels:  True True\n",
      "wheels:  True False\n",
      "tracks:  False True\n",
      "tracks:  False False\n"
     ]
    }
   ],
   "source": [
    "import time\n",
    "\n",
    "class Tracks:\n",
    "  def change_direction(self, left, on):\n",
    "    print(\"tracks: \", left, on)\n",
    "\n",
    "\n",
    "class Wheels:\n",
    "  def change_direction(self, left, on):\n",
    "    print(\"wheels: \", left, on)\n",
    "\n",
    "\n",
    "class Vehicle:\n",
    "  def __init__(self, controller):\n",
    "    self.controller = controller\n",
    "\n",
    "  def turn(self, left):\n",
    "    self.controller.change_direction(left, True)\n",
    "    time.sleep(0.25)\n",
    "    self.controller.change_direction(left, False)\n",
    "\n",
    "\n",
    "wheeled = Vehicle(Wheels())\n",
    "tracked = Vehicle(Tracks())\n",
    "\n",
    "wheeled.turn(True)\n",
    "tracked.turn(False)"
   ]
  },
  {
   "cell_type": "markdown",
   "metadata": {
    "id": "je2laMEEnQXt"
   },
   "source": [
    "Dapat dilihat pada instance ``wheeled`` dan ``tracked``, kedua object tersebut menggunakan ``class Tracks`` dan ``class Wheels``` sebagai parameter. Kedua kelas tersebut dijadikan sebagai inisialisasi nilai parameter ``controller`` yang ada pada konstruktor ``class Vehicle``."
   ]
  },
  {
   "cell_type": "markdown",
   "metadata": {
    "id": "QmG4Zsd2opZg"
   },
   "source": [
    "## MRO (Method Resolution Order)\n",
    "\n",
    "MRO mengatur kita tentang bagaimana cara menyusun urutan hirarki agar Inheritance berjalan dengan baik. Kenapa harus diikuti? Seperti yang sudah dijelaskan sebelumnya bahwa pembacaan inheritance dilakukan secara top down dan apabila ada multiple inheritance pembacaan dimulai dari kiri ke kanan. Akibat adanya aturan eksekusi ini, maka kita harus hati-hati dalam menyusun hirarki inheritance. Perhatikan kasus berikut:"
   ]
  },
  {
   "cell_type": "code",
   "execution_count": 35,
   "metadata": {
    "id": "B84VG0IMpOoV"
   },
   "outputs": [
    {
     "name": "stdout",
     "output_type": "stream",
     "text": [
      "bottom\n",
      "middle\n",
      "top\n"
     ]
    }
   ],
   "source": [
    "class Top:\n",
    "  def m_top(self):\n",
    "    print(\"top\")\n",
    "\n",
    "\n",
    "class Middle(Top):\n",
    "  def m_middle(self):\n",
    "    print(\"middle\")\n",
    "\n",
    "\n",
    "class Bottom(Middle):\n",
    "  def m_bottom(self):\n",
    "    print(\"bottom\")\n",
    "\n",
    "\n",
    "object = Bottom()\n",
    "object.m_bottom()\n",
    "object.m_middle()\n",
    "object.m_top()"
   ]
  },
  {
   "cell_type": "markdown",
   "metadata": {
    "id": "VU3TDF8VpQ24"
   },
   "source": [
    "Kode program tersebut tidak bermasalah karena bentuk inheritancenya berupa multi-level dan single inheritance. Biasanya jenis inheritance ini yang paling aman dari exception MRO. Kode program berikut ini pun aman:"
   ]
  },
  {
   "cell_type": "code",
   "execution_count": 36,
   "metadata": {
    "colab": {
     "base_uri": "https://localhost:8080/"
    },
    "id": "J6IIdWWMphYd",
    "outputId": "d2adeb77-d38c-47da-9e23-8e00d188641f"
   },
   "outputs": [
    {
     "name": "stdout",
     "output_type": "stream",
     "text": [
      "bottom\n",
      "middle\n",
      "top\n"
     ]
    }
   ],
   "source": [
    "class Top:\n",
    "  def m_top(self):\n",
    "    print(\"top\")\n",
    "\n",
    "\n",
    "class Middle(Top):\n",
    "  def m_middle(self):\n",
    "    print(\"middle\")\n",
    "\n",
    "\n",
    "class Bottom(Middle, Top):\n",
    "  def m_bottom(self):\n",
    "    print(\"bottom\")\n",
    "\n",
    "\n",
    "object = Bottom()\n",
    "object.m_bottom()\n",
    "object.m_middle()\n",
    "object.m_top()"
   ]
  },
  {
   "cell_type": "markdown",
   "metadata": {
    "id": "IdJhZcAiplXI"
   },
   "source": [
    "Tapi bagaimana kalau urutan multiple inheritancenya diubah?"
   ]
  },
  {
   "cell_type": "code",
   "execution_count": 37,
   "metadata": {
    "colab": {
     "base_uri": "https://localhost:8080/",
     "height": 246
    },
    "id": "eE8UDzKdoKV2",
    "outputId": "e39e01dc-55b6-439e-a590-e2d9df37299a"
   },
   "outputs": [
    {
     "ename": "TypeError",
     "evalue": "Cannot create a consistent method resolution\norder (MRO) for bases Top, Middle",
     "output_type": "error",
     "traceback": [
      "\u001b[0;31m---------------------------------------------------------------------------\u001b[0m",
      "\u001b[0;31mTypeError\u001b[0m                                 Traceback (most recent call last)",
      "\u001b[0;32m<ipython-input-37-d157898d1b12>\u001b[0m in \u001b[0;36m<module>\u001b[0;34m\u001b[0m\n\u001b[1;32m      9\u001b[0m \u001b[0;34m\u001b[0m\u001b[0m\n\u001b[1;32m     10\u001b[0m \u001b[0;34m\u001b[0m\u001b[0m\n\u001b[0;32m---> 11\u001b[0;31m \u001b[0;32mclass\u001b[0m \u001b[0mBottom\u001b[0m\u001b[0;34m(\u001b[0m\u001b[0mTop\u001b[0m\u001b[0;34m,\u001b[0m \u001b[0mMiddle\u001b[0m\u001b[0;34m)\u001b[0m\u001b[0;34m:\u001b[0m\u001b[0;34m\u001b[0m\u001b[0;34m\u001b[0m\u001b[0m\n\u001b[0m\u001b[1;32m     12\u001b[0m     \u001b[0;32mdef\u001b[0m \u001b[0mm_bottom\u001b[0m\u001b[0;34m(\u001b[0m\u001b[0mself\u001b[0m\u001b[0;34m)\u001b[0m\u001b[0;34m:\u001b[0m\u001b[0;34m\u001b[0m\u001b[0;34m\u001b[0m\u001b[0m\n\u001b[1;32m     13\u001b[0m         \u001b[0mprint\u001b[0m\u001b[0;34m(\u001b[0m\u001b[0;34m\"bottom\"\u001b[0m\u001b[0;34m)\u001b[0m\u001b[0;34m\u001b[0m\u001b[0;34m\u001b[0m\u001b[0m\n",
      "\u001b[0;31mTypeError\u001b[0m: Cannot create a consistent method resolution\norder (MRO) for bases Top, Middle"
     ]
    }
   ],
   "source": [
    "class Top:\n",
    "    def m_top(self):\n",
    "        print(\"top\")\n",
    "\n",
    "\n",
    "class Middle(Top):\n",
    "    def m_middle(self):\n",
    "        print(\"middle\")\n",
    "\n",
    "\n",
    "class Bottom(Top, Middle):\n",
    "    def m_bottom(self):\n",
    "        print(\"bottom\")\n",
    "\n",
    "\n",
    "object = Bottom()\n",
    "object.m_bottom()\n",
    "object.m_middle()\n",
    "object.m_top()\n"
   ]
  },
  {
   "cell_type": "markdown",
   "metadata": {
    "id": "uyJlFeJApsF_"
   },
   "source": [
    "Perubahan kecil tersebut menyebabkan exception ``TypeError`` yang disebabkan urutan inheritance salah. Mari kita sederhanakan hubungan inheritance-nya melalui gambar berikut:\n",
    "\n",
    "![Ilustrasi MRO](https://drive.google.com/uc?export=view&id=14spdx6iEu1b_ls6115AEFSw8kU3J373L)\n",
    "\n",
    "Kalau kita lihat ``class Bottom``, urutan pemeriksaan inheritance-nya dimulai dari Top lalu ke Bottom. Ini menyalahi urutan hirarki inheritance. Seharusnya urutan multiple inheritance dari ``class Bottom`` diubah menjadi ``class Bottom(Middle, Top)`` karena secara Hirarki, ``class Middle`` merupakan subclass dari ``class top``. Itulah yang disebut dengan MRO."
   ]
  },
  {
   "cell_type": "markdown",
   "metadata": {
    "id": "6GPHZ_n-wUx1"
   },
   "source": [
    "## Diamond Problem\n",
    "\n",
    "Perhatikan gambar class diagram dan translasinya dalam bentuk kode program berikut ini:\n",
    "\n",
    "![Ilustrasi Diamond Problem](https://drive.google.com/uc?export=view&id=1xyjpy43FzFqS2uOIm5c_D6-HjuZntU6r)\n",
    "\n",
    "```python\n",
    "class A:\n",
    "    pass\n",
    "\n",
    "\n",
    "class B(A):\n",
    "    pass\n",
    "\n",
    "\n",
    "class C(A):\n",
    "    pass\n",
    "\n",
    "\n",
    "class D(B, C):\n",
    "    pass\n",
    "\n",
    "\n",
    "d = D()\n",
    "```\n",
    "\n",
    "Beberapa bahasa pemrograman cenderung menghindari multiple inheritance terutama apabila bentuk hirarki inheritance-nya menjadi mirip seperti hirarki diamond pada gambar. MRO akan bisa menyebabkan exception seperti pada section sebelum ini karena urutan hirarki inheritance yang salah. \n",
    "\n",
    "Mari kita lihat class diagram dan kode program yang sudah dimodifikasi berikut ini (dari diamond problem):\n",
    "\n",
    "![Contoh Kasus Diamond Problem](https://drive.google.com/uc?export=view&id=1LqN9axXE92kLVf2H-7_p_HUpCPx6gmv2)"
   ]
  },
  {
   "cell_type": "code",
   "execution_count": null,
   "metadata": {
    "colab": {
     "base_uri": "https://localhost:8080/"
    },
    "id": "rZ-rM_L5xiHL",
    "outputId": "113747a8-1e83-4e40-c2dd-d314ded5a0cd"
   },
   "outputs": [],
   "source": [
    "class Top:\n",
    "  def m_top(self):\n",
    "    print(\"top\")\n",
    "\n",
    "\n",
    "class Middle_Left(Top):\n",
    "  def m_middle(self):\n",
    "    print(\"middle_left\")\n",
    "\n",
    "\n",
    "class Middle_Right(Top):\n",
    "  def m_middle(self):\n",
    "    print(\"middle_right\")\n",
    "\n",
    "\n",
    "class Bottom(Middle_Left, Middle_Right):\n",
    "  def m_bottom(self):\n",
    "    print(\"bottom\")\n",
    "\n",
    "\n",
    "object = Bottom()\n",
    "object.m_bottom()\n",
    "object.m_middle()\n",
    "object.m_top()"
   ]
  },
  {
   "cell_type": "markdown",
   "metadata": {
    "id": "tLDmyHVpyq5D"
   },
   "source": [
    "Kita dapat melihat bahwa ``class Middle_Left`` dan ``class Middle_Right`` sama-sama memiliki method ``m_middle()``. Lalu mana yang muncul pada saat eksekusi method tersebut di objek dari ``class Bottom``?\n",
    "\n",
    "Tentunya MRO perlu kita analisis dari hal ini. ``class Bottom`` memiliki urutan inheritancenya mulai dari ``class Middle_Left`` baru ke ``class Middle_Right`` dan secara hirarki, kedua kelas tersebut memiliki level yang sama karena sama-sama subclass dari ``class Top``. Berarti MRO akan merujuk kepada urutan inheritance di ``class Bottom``. Maka yang muncul di layar adalah method ``m_middle()`` milik ``class Middle_Left``."
   ]
  },
  {
   "cell_type": "markdown",
   "metadata": {
    "id": "7pSdyVFZ07Y-"
   },
   "source": [
    "# Exception Handling Lanjut\n",
    "\n",
    "Kita memang sudah membahas perihal Exception Handling di topik sebelumnya akan tetapi ada beberapa tambahan informasi yang bisa menambah daya guna dari blok try..except.. yang sudah kita pelajari sebelumnya. Mari kita mulai pembahasannya."
   ]
  },
  {
   "cell_type": "markdown",
   "metadata": {
    "id": "_O-Ud2pJ1teH"
   },
   "source": [
    "## Blok else\n",
    "\n",
    "Kita bisa memanbahkan blok ``else`` pada blok try..except.. yang sudah pernah dipelajari sebelumnya. Format umumnya adalah sebagai berikut:\n",
    "\n",
    "```python\n",
    "try:\n",
    "  blok instruksi try\n",
    "except:\n",
    "  blok instruksi except\n",
    "else:\n",
    "  blok instruksi else\n",
    "```\n",
    "\n",
    "Blok instruksi ``else`` hanya dijalankan apabila tidak ada exception yang muncul pada blok ``try``. Blok ``else`` harus diletakkan setelah blok ``except`` paling akhir. Berikut contoh kasusnya:"
   ]
  },
  {
   "cell_type": "code",
   "execution_count": 13,
   "metadata": {
    "colab": {
     "base_uri": "https://localhost:8080/"
    },
    "id": "YUMudPQd2tN2",
    "outputId": "ba3a7996-be91-4724-b9f0-db5a5ffdf165"
   },
   "outputs": [
    {
     "name": "stdout",
     "output_type": "stream",
     "text": [
      "Everything went fine\n",
      "0.5\n",
      "Division failed\n",
      "None\n"
     ]
    }
   ],
   "source": [
    "def reciprocal(n):\n",
    "  try:\n",
    "    n = 1 / n\n",
    "  except ZeroDivisionError:\n",
    "    print(\"Division failed\")\n",
    "    return None\n",
    "  else:\n",
    "    print(\"Everything went fine\")\n",
    "    return n\n",
    "\n",
    "\n",
    "print(reciprocal(2))\n",
    "print(reciprocal(0))"
   ]
  },
  {
   "cell_type": "markdown",
   "metadata": {
    "id": "xccrSpkP3IGM"
   },
   "source": [
    "## Blok finally\n",
    "\n",
    "Satu lagi blok yang bisa ditambahkan ke blok try..except.. adalah blok ``finally``. Blok ini akan selalu dieksekusi tanpa mempedulikan mana di antara blok ``try`` atau blok ``except`` yang dieksekusi. Berikut contoh penggunaannya:"
   ]
  },
  {
   "cell_type": "code",
   "execution_count": null,
   "metadata": {
    "colab": {
     "base_uri": "https://localhost:8080/"
    },
    "id": "MIEbRiYA4E2c",
    "outputId": "8e64a0b3-348e-4acb-f6a9-cac51e1d7209"
   },
   "outputs": [],
   "source": [
    "def reciprocal(n):\n",
    "  try:\n",
    "    n = 1 / n\n",
    "  except ZeroDivisionError:\n",
    "    print(\"Division failed\")\n",
    "    n = None\n",
    "  else:\n",
    "    print(\"Everything went fine\")\n",
    "  finally:\n",
    "    print(\"It's time to say goodbye\")\n",
    "    return n\n",
    "\n",
    "\n",
    "print(reciprocal(2))\n",
    "print(reciprocal(0))"
   ]
  },
  {
   "cell_type": "markdown",
   "metadata": {
    "id": "G_9MD2-D4Sor"
   },
   "source": [
    "## Exception adalah class\n",
    "\n",
    "Seperti yang sudah dibahas pada topic sebelumnya, Exception di Python dibentuk dengan hirarki class. Karena merupakan sebuah class, maka Exception juga memiliki entity seperti class pada umumnya, termasuk pre-defined atribut dan method seperti ``__str__`` dan lainnya. Berikut adalah contoh kasusnya:"
   ]
  },
  {
   "cell_type": "code",
   "execution_count": 3,
   "metadata": {
    "colab": {
     "base_uri": "https://localhost:8080/"
    },
    "id": "BvY_Vp_mS_R-",
    "outputId": "c68bcf15-231e-44d8-e795-d393cf18c873"
   },
   "outputs": [
    {
     "name": "stdout",
     "output_type": "stream",
     "text": [
      "invalid literal for int() with base 10: 'Hello!'\n",
      "invalid literal for int() with base 10: 'Hello!'\n"
     ]
    }
   ],
   "source": [
    "try:\n",
    "  i = int(\"Hello!\")\n",
    "except Exception as e:\n",
    "  print(e)\n",
    "  print(e.__str__())"
   ]
  },
  {
   "cell_type": "markdown",
   "metadata": {
    "id": "26HyTGEzTG3G"
   },
   "source": [
    "><b>Catatan:</b> Kita bisa menggunakan alias pada exception dengan menggunakan kata kunci ``as`` (sama seperti pemberian alias di module)"
   ]
  },
  {
   "cell_type": "markdown",
   "metadata": {
    "id": "lDuWXsppUNKy"
   },
   "source": [
    "## Hands on Lab 12: Memunculkan tree Exception\n",
    "\n",
    "Pelajari kode program berikut:"
   ]
  },
  {
   "cell_type": "code",
   "execution_count": 4,
   "metadata": {
    "id": "KH0WorZsUVX_"
   },
   "outputs": [
    {
     "name": "stdout",
     "output_type": "stream",
     "text": [
      "BaseException\n",
      "   +---Exception\n",
      "   |   +---TypeError\n",
      "   |   |   +---MultipartConversionError\n",
      "   |   |   +---FloatOperation\n",
      "   |   +---StopAsyncIteration\n",
      "   |   +---StopIteration\n",
      "   |   +---ImportError\n",
      "   |   |   +---ModuleNotFoundError\n",
      "   |   |   +---ZipImportError\n",
      "   |   +---OSError\n",
      "   |   |   +---ConnectionError\n",
      "   |   |   |   +---BrokenPipeError\n",
      "   |   |   |   +---ConnectionAbortedError\n",
      "   |   |   |   +---ConnectionRefusedError\n",
      "   |   |   |   +---ConnectionResetError\n",
      "   |   |   |   |   +---RemoteDisconnected\n",
      "   |   |   +---BlockingIOError\n",
      "   |   |   +---ChildProcessError\n",
      "   |   |   +---FileExistsError\n",
      "   |   |   +---FileNotFoundError\n",
      "   |   |   +---IsADirectoryError\n",
      "   |   |   +---NotADirectoryError\n",
      "   |   |   +---InterruptedError\n",
      "   |   |   |   +---InterruptedSystemCall\n",
      "   |   |   +---PermissionError\n",
      "   |   |   +---ProcessLookupError\n",
      "   |   |   +---TimeoutError\n",
      "   |   |   +---UnsupportedOperation\n",
      "   |   |   +---ItimerError\n",
      "   |   |   +---herror\n",
      "   |   |   +---gaierror\n",
      "   |   |   +---timeout\n",
      "   |   |   +---Error\n",
      "   |   |   |   +---SameFileError\n",
      "   |   |   +---SpecialFileError\n",
      "   |   |   +---ExecError\n",
      "   |   |   +---ReadError\n",
      "   |   |   +---SSLError\n",
      "   |   |   |   +---SSLCertVerificationError\n",
      "   |   |   |   +---SSLZeroReturnError\n",
      "   |   |   |   +---SSLWantReadError\n",
      "   |   |   |   +---SSLWantWriteError\n",
      "   |   |   |   +---SSLSyscallError\n",
      "   |   |   |   +---SSLEOFError\n",
      "   |   |   +---URLError\n",
      "   |   |   |   +---HTTPError\n",
      "   |   |   |   +---ContentTooShortError\n",
      "   |   |   +---BadGzipFile\n",
      "   |   +---EOFError\n",
      "   |   |   +---IncompleteReadError\n",
      "   |   +---RuntimeError\n",
      "   |   |   +---RecursionError\n",
      "   |   |   +---NotImplementedError\n",
      "   |   |   |   +---ZMQVersionError\n",
      "   |   |   |   +---StdinNotImplementedError\n",
      "   |   |   +---_DeadlockError\n",
      "   |   |   +---BrokenBarrierError\n",
      "   |   |   +---BrokenExecutor\n",
      "   |   |   +---SendfileNotAvailableError\n",
      "   |   |   +---ExtractionError\n",
      "   |   |   +---VariableError\n",
      "   |   +---NameError\n",
      "   |   |   +---UnboundLocalError\n",
      "   |   +---AttributeError\n",
      "   |   |   +---FrozenInstanceError\n",
      "   |   +---SyntaxError\n",
      "   |   |   +---IndentationError\n",
      "   |   |   |   +---TabError\n",
      "   |   +---LookupError\n",
      "   |   |   +---IndexError\n",
      "   |   |   +---KeyError\n",
      "   |   |   |   +---NoSuchKernel\n",
      "   |   |   |   +---UnknownBackend\n",
      "   |   |   +---CodecRegistryError\n",
      "   |   +---ValueError\n",
      "   |   |   +---UnicodeError\n",
      "   |   |   |   +---UnicodeEncodeError\n",
      "   |   |   |   +---UnicodeDecodeError\n",
      "   |   |   |   +---UnicodeTranslateError\n",
      "   |   |   +---UnsupportedOperation\n",
      "   |   |   +---JSONDecodeError\n",
      "   |   |   +---SSLCertVerificationError\n",
      "   |   |   +---Error\n",
      "   |   |   +---ClassNotFound\n",
      "   |   |   +---ClipboardEmpty\n",
      "   |   |   +---MessageDefect\n",
      "   |   |   |   +---NoBoundaryInMultipartDefect\n",
      "   |   |   |   +---StartBoundaryNotFoundDefect\n",
      "   |   |   |   +---CloseBoundaryNotFoundDefect\n",
      "   |   |   |   +---FirstHeaderLineIsContinuationDefect\n",
      "   |   |   |   +---MisplacedEnvelopeHeaderDefect\n",
      "   |   |   |   +---MissingHeaderBodySeparatorDefect\n",
      "   |   |   |   +---MultipartInvariantViolationDefect\n",
      "   |   |   |   +---InvalidMultipartContentTransferEncodingDefect\n",
      "   |   |   |   +---UndecodableBytesDefect\n",
      "   |   |   |   +---InvalidBase64PaddingDefect\n",
      "   |   |   |   +---InvalidBase64CharactersDefect\n",
      "   |   |   |   +---InvalidBase64LengthDefect\n",
      "   |   |   |   +---HeaderDefect\n",
      "   |   |   |   |   +---InvalidHeaderDefect\n",
      "   |   |   |   |   +---HeaderMissingRequiredValue\n",
      "   |   |   |   |   +---NonPrintableDefect\n",
      "   |   |   |   |   +---ObsoleteHeaderDefect\n",
      "   |   |   |   |   +---NonASCIILocalPartDefect\n",
      "   |   |   +---IllegalMonthError\n",
      "   |   |   +---IllegalWeekdayError\n",
      "   |   |   +---MacroToEdit\n",
      "   |   |   +---ParserError\n",
      "   |   |   +---InvalidFileException\n",
      "   |   |   +---InvalidVersion\n",
      "   |   |   +---InvalidSpecifier\n",
      "   |   |   +---InvalidMarker\n",
      "   |   |   +---UndefinedComparison\n",
      "   |   |   +---UndefinedEnvironmentName\n",
      "   |   |   +---InvalidRequirement\n",
      "   |   |   |   +---RequirementParseError\n",
      "   |   +---AssertionError\n",
      "   |   +---ArithmeticError\n",
      "   |   |   +---FloatingPointError\n",
      "   |   |   +---OverflowError\n",
      "   |   |   +---ZeroDivisionError\n",
      "   |   |   |   +---DivisionByZero\n",
      "   |   |   |   +---DivisionUndefined\n",
      "   |   |   +---DecimalException\n",
      "   |   |   |   +---Clamped\n",
      "   |   |   |   +---Rounded\n",
      "   |   |   |   |   +---Underflow\n",
      "   |   |   |   |   +---Overflow\n",
      "   |   |   |   +---Inexact\n",
      "   |   |   |   |   +---Underflow\n",
      "   |   |   |   |   +---Overflow\n",
      "   |   |   |   +---Subnormal\n",
      "   |   |   |   |   +---Underflow\n",
      "   |   |   |   +---DivisionByZero\n",
      "   |   |   |   +---FloatOperation\n",
      "   |   |   |   +---InvalidOperation\n",
      "   |   |   |   |   +---ConversionSyntax\n",
      "   |   |   |   |   +---DivisionImpossible\n",
      "   |   |   |   |   +---DivisionUndefined\n",
      "   |   |   |   |   +---InvalidContext\n",
      "   |   +---SystemError\n",
      "   |   |   +---CodecRegistryError\n",
      "   |   +---ReferenceError\n",
      "   |   +---MemoryError\n",
      "   |   +---BufferError\n",
      "   |   +---Warning\n",
      "   |   |   +---UserWarning\n",
      "   |   |   |   +---GetPassWarning\n",
      "   |   |   |   +---FormatterWarning\n",
      "   |   |   +---DeprecationWarning\n",
      "   |   |   |   +---ProvisionalWarning\n",
      "   |   |   +---PendingDeprecationWarning\n",
      "   |   |   +---SyntaxWarning\n",
      "   |   |   +---RuntimeWarning\n",
      "   |   |   |   +---ProactorSelectorThreadWarning\n",
      "   |   |   |   +---UnknownTimezoneWarning\n",
      "   |   |   |   +---PEP440Warning\n",
      "   |   |   +---FutureWarning\n",
      "   |   |   |   +---ProvisionalCompleterWarning\n",
      "   |   |   +---ImportWarning\n",
      "   |   |   +---UnicodeWarning\n",
      "   |   |   +---BytesWarning\n",
      "   |   |   +---ResourceWarning\n",
      "   |   |   +---DeprecatedTzFormatWarning\n",
      "   |   |   +---PkgResourcesDeprecationWarning\n",
      "   |   +---Error\n",
      "   |   +---_OptionError\n",
      "   |   +---error\n",
      "   |   +---Verbose\n",
      "   |   +---_Error\n",
      "   |   +---SubprocessError\n",
      "   |   |   +---CalledProcessError\n",
      "   |   |   +---TimeoutExpired\n",
      "   |   +---_GiveupOnSendfile\n",
      "   |   +---error\n",
      "   |   +---LZMAError\n",
      "   |   +---RegistryError\n",
      "   |   +---_GiveupOnFastCopy\n",
      "   |   +---error\n",
      "   |   +---ArgumentError\n",
      "   |   +---error\n",
      "   |   +---ZMQBaseError\n",
      "   |   |   +---ZMQError\n",
      "   |   |   |   +---ContextTerminated\n",
      "   |   |   |   +---Again\n",
      "   |   |   |   +---InterruptedSystemCall\n",
      "   |   |   +---ZMQBindError\n",
      "   |   |   +---NotDone\n",
      "   |   +---Error\n",
      "   |   +---PickleError\n",
      "   |   |   +---PicklingError\n",
      "   |   |   +---UnpicklingError\n",
      "   |   +---_Stop\n",
      "   |   +---TokenError\n",
      "   |   +---StopTokenizing\n",
      "   |   +---ClassFoundException\n",
      "   |   +---EndOfBlock\n",
      "   |   +---TraitError\n",
      "   |   +---ArgumentError\n",
      "   |   +---ArgumentTypeError\n",
      "   |   +---ConfigError\n",
      "   |   |   +---ConfigLoaderError\n",
      "   |   |   |   +---ArgumentError\n",
      "   |   |   +---ConfigFileNotFound\n",
      "   |   +---ConfigurableError\n",
      "   |   |   +---MultipleInstanceError\n",
      "   |   +---ApplicationError\n",
      "   |   +---NoIPAddresses\n",
      "   |   +---Error\n",
      "   |   |   +---CancelledError\n",
      "   |   |   +---TimeoutError\n",
      "   |   |   +---InvalidStateError\n",
      "   |   +---Incomplete\n",
      "   |   +---TimeoutError\n",
      "   |   +---InvalidStateError\n",
      "   |   +---LimitOverrunError\n",
      "   |   +---QueueEmpty\n",
      "   |   +---QueueFull\n",
      "   |   +---InvalidPortNumber\n",
      "   |   +---Empty\n",
      "   |   +---Full\n",
      "   |   +---DuplicateKernelError\n",
      "   |   +---TimeoutError\n",
      "   |   +---error\n",
      "   |   +---ReturnValueIgnoredError\n",
      "   |   +---KeyReuseError\n",
      "   |   +---UnknownKeyError\n",
      "   |   +---LeakedCallbackError\n",
      "   |   +---BadYieldError\n",
      "   |   +---ReturnValueIgnoredError\n",
      "   |   +---Return\n",
      "   |   +---ErrorDuringImport\n",
      "   |   +---BdbQuit\n",
      "   |   +---Restart\n",
      "   |   +---ExceptionPexpect\n",
      "   |   |   +---EOF\n",
      "   |   |   +---TIMEOUT\n",
      "   |   +---PtyProcessError\n",
      "   |   +---FindCmdError\n",
      "   |   +---HomeDirError\n",
      "   |   +---ProfileDirError\n",
      "   |   +---IPythonCoreError\n",
      "   |   |   +---TryNext\n",
      "   |   |   +---UsageError\n",
      "   |   |   +---StdinNotImplementedError\n",
      "   |   +---InputRejected\n",
      "   |   +---GetoptError\n",
      "   |   +---OptionError\n",
      "   |   +---ErrorToken\n",
      "   |   +---PrefilterError\n",
      "   |   +---AliasError\n",
      "   |   |   +---InvalidAliasError\n",
      "   |   +---Error\n",
      "   |   |   +---InterfaceError\n",
      "   |   |   +---DatabaseError\n",
      "   |   |   |   +---InternalError\n",
      "   |   |   |   +---OperationalError\n",
      "   |   |   |   +---ProgrammingError\n",
      "   |   |   |   +---IntegrityError\n",
      "   |   |   |   +---DataError\n",
      "   |   |   |   +---NotSupportedError\n",
      "   |   +---Warning\n",
      "   |   +---SpaceInInput\n",
      "   |   +---DOMException\n",
      "   |   |   +---IndexSizeErr\n",
      "   |   |   +---DomstringSizeErr\n",
      "   |   |   +---HierarchyRequestErr\n",
      "   |   |   +---WrongDocumentErr\n",
      "   |   |   +---InvalidCharacterErr\n",
      "   |   |   +---NoDataAllowedErr\n",
      "   |   |   +---NoModificationAllowedErr\n",
      "   |   |   +---NotFoundErr\n",
      "   |   |   +---NotSupportedErr\n",
      "   |   |   +---InuseAttributeErr\n",
      "   |   |   +---InvalidStateErr\n",
      "   |   |   +---SyntaxErr\n",
      "   |   |   +---InvalidModificationErr\n",
      "   |   |   +---NamespaceErr\n",
      "   |   |   +---InvalidAccessErr\n",
      "   |   |   +---ValidationErr\n",
      "   |   +---ValidationError\n",
      "   |   +---EditReadOnlyBuffer\n",
      "   |   +---_Retry\n",
      "   |   +---InvalidLayoutError\n",
      "   |   +---HeightIsUnknownError\n",
      "   |   +---ParserSyntaxError\n",
      "   |   +---InternalParseError\n",
      "   |   +---_PositionUpdatingFinished\n",
      "   |   +---SimpleGetItemNotFound\n",
      "   |   +---UncaughtAttributeError\n",
      "   |   +---ParamIssue\n",
      "   |   +---_JediError\n",
      "   |   |   +---InternalError\n",
      "   |   |   +---WrongVersion\n",
      "   |   |   +---RefactoringError\n",
      "   |   +---OnErrorLeaf\n",
      "   |   +---InvalidPythonEnvironment\n",
      "   |   +---MessageError\n",
      "   |   |   +---MessageParseError\n",
      "   |   |   |   +---HeaderParseError\n",
      "   |   |   |   +---BoundaryError\n",
      "   |   |   +---MultipartConversionError\n",
      "   |   |   +---CharsetError\n",
      "   |   +---Error\n",
      "   |   +---HTTPException\n",
      "   |   |   +---NotConnected\n",
      "   |   |   +---InvalidURL\n",
      "   |   |   +---UnknownProtocol\n",
      "   |   |   +---UnknownTransferEncoding\n",
      "   |   |   +---UnimplementedFileMode\n",
      "   |   |   +---IncompleteRead\n",
      "   |   |   +---ImproperConnectionState\n",
      "   |   |   |   +---CannotSendRequest\n",
      "   |   |   |   +---CannotSendHeader\n",
      "   |   |   |   +---ResponseNotReady\n",
      "   |   |   +---BadStatusLine\n",
      "   |   |   |   +---RemoteDisconnected\n",
      "   |   |   +---LineTooLong\n",
      "   |   +---InteractivelyDefined\n",
      "   |   +---KillEmbedded\n",
      "   |   +---QueueEmpty\n",
      "   |   +---QueueFull\n",
      "   |   +---ExpatError\n",
      "   |   +---Error\n",
      "   |   |   +---ProtocolError\n",
      "   |   |   +---ResponseError\n",
      "   |   |   +---Fault\n",
      "   |   +---BadZipFile\n",
      "   |   +---LargeZipFile\n",
      "   |   +---ParseBaseException\n",
      "   |   |   +---ParseException\n",
      "   |   |   +---ParseFatalException\n",
      "   |   |   |   +---ParseSyntaxException\n",
      "   |   +---RecursiveGrammarException\n",
      "   |   +---ResolutionError\n",
      "   |   |   +---VersionConflict\n",
      "   |   |   |   +---ContextualVersionConflict\n",
      "   |   |   +---DistributionNotFound\n",
      "   |   |   +---UnknownExtra\n",
      "   |   +---UnableToResolveVariableException\n",
      "   |   +---InvalidTypeInArgsException\n",
      "   |   +---Error\n",
      "   |   |   +---NoSectionError\n",
      "   |   |   +---DuplicateSectionError\n",
      "   |   |   +---DuplicateOptionError\n",
      "   |   |   +---NoOptionError\n",
      "   |   |   +---InterpolationError\n",
      "   |   |   |   +---InterpolationMissingOptionError\n",
      "   |   |   |   +---InterpolationSyntaxError\n",
      "   |   |   |   +---InterpolationDepthError\n",
      "   |   |   +---ParsingError\n",
      "   |   |   |   +---MissingSectionHeaderError\n",
      "   |   +---OptParseError\n",
      "   |   |   +---OptionError\n",
      "   |   |   |   +---OptionConflictError\n",
      "   |   |   +---OptionValueError\n",
      "   |   |   +---BadOptionError\n",
      "   |   |   |   +---AmbiguousOptionError\n",
      "   +---GeneratorExit\n",
      "   +---SystemExit\n",
      "   +---KeyboardInterrupt\n",
      "   +---CancelledError\n",
      "   +---DebuggerInitializationError\n"
     ]
    }
   ],
   "source": [
    "def print_exception_tree(thisclass, nest = 0):\n",
    "  if nest > 1:\n",
    "    print(\"   |\" * (nest - 1), end=\"\")\n",
    "  if nest > 0:\n",
    "    print(\"   +---\", end=\"\")\n",
    "\n",
    "  print(thisclass.__name__)\n",
    "\n",
    "  for subclass in thisclass.__subclasses__():\n",
    "    print_exception_tree(subclass, nest + 1)\n",
    "\n",
    "\n",
    "print_exception_tree(BaseException)"
   ]
  },
  {
   "cell_type": "markdown",
   "metadata": {
    "id": "fzbkxaEWnidB"
   },
   "source": [
    "## Membuat Exception Class Sendiri\n",
    "\n",
    "Kita bisa membuat class exception sendiri yang lebih spesifik dari class-class exception yang sudah ada. Caranya adalah dengan membuat class baru yang menjadikan predefined exception sebagai superclass-nya. Berikut contoh kasusnya:"
   ]
  },
  {
   "cell_type": "code",
   "execution_count": null,
   "metadata": {
    "colab": {
     "base_uri": "https://localhost:8080/"
    },
    "id": "XUqf42KLn0k8",
    "outputId": "f68cd313-00c8-4702-f489-7ec0a3b4d166"
   },
   "outputs": [],
   "source": [
    "class LengthValueError(ValueError):\t\n",
    "  def __init__(self, length, message):\n",
    "    ValueError.__init__(self, message)\n",
    "    self.length = LengthValueError\n",
    "\n",
    "class TooShortLengthError(LengthValueError):\n",
    "  def __init__(self, length, min_length, message):\n",
    "    LengthValueError.__init__(self, length, message)\n",
    "    self.min_length = min_length\n",
    "\n",
    "def make_name(nama, min_length):\n",
    "\n",
    "  if min_length < 1:\n",
    "    raise LengthValueError(min_length, \"Panjang  minimum nama tidak boleh kurang dari 1\")\n",
    "  elif len(nama) < min_length:\n",
    "    raise TooShortLengthError(len(nama), min_length, \"Panjang nama tidak memenuhi syarat minimum\")\n",
    "\n",
    "  return nama\n",
    "\n",
    "\n",
    "try:\n",
    "  nama = input(\"Masukkan sebuah nama = \")\n",
    "  print(make_name(nama, 4))\n",
    "except TooShortLengthError as e1:\n",
    "  print(e1, ':', e1. min_length)\n",
    "except LengthValueError as e2:\n",
    "  print(e2, ':', e2.length)"
   ]
  },
  {
   "cell_type": "markdown",
   "metadata": {
    "id": "fdzYCisouHH8"
   },
   "source": [
    "Exception ``LengthValueError`` dibuat sebagai exception yang muncul ketika panjang minimum dari sebuah nama kurang dari 1 karakter, sementara exception ``TooShortLengthError`` dibuat sebagai exception yang muncul apabila panjang karakter dari nama yang diinput kurang dari minimum length yang ditentukan.\n",
    "\n",
    "Cobalah dua kasus berikut agar mendapatkan insight dari kode program tersebut:\n",
    "\n",
    "1. Coba ubah argumen ``min_length`` pada blok try ketika memanggil fungsi ``make_name`` menjadi 0 atau bilangan negatif. Apa yang terjadi?\n",
    "\n",
    "2. Masukkan nama yang panjangnya kurang dari minimum length yang sedang diterapkan pada blok try. Apa yang terjadi?"
   ]
  },
  {
   "cell_type": "markdown",
   "metadata": {
    "id": "OULaLZZet4sY"
   },
   "source": [
    "## Hands on Lab: Membuat Exception Martabak\n",
    "\n",
    "Pelajari kode program berikut untuk memahami exception custom yang dibuat: "
   ]
  },
  {
   "cell_type": "code",
   "execution_count": null,
   "metadata": {
    "id": "sWdnCWmevRnM"
   },
   "outputs": [],
   "source": [
    "class PizzaError(Exception):\n",
    "  def __init__(self, pizza, message):\n",
    "    Exception.__init__(self, message)\n",
    "    self.pizza = pizza\n",
    "\n",
    "\n",
    "class TooMuchCheeseError(PizzaError):\n",
    "  def __init__(self, pizza, cheese, message):\n",
    "    PizzaError.__init__(self, pizza, message)\n",
    "    self.cheese = cheese\n",
    "\n",
    "\n",
    "def make_pizza(pizza, cheese):\n",
    "  if pizza not in ['margherita', 'capricciosa', 'calzone']:\n",
    "    raise PizzaError(pizza, \"no such pizza on the menu\")\n",
    "  if cheese > 100:\n",
    "    raise TooMuchCheeseError(pizza, cheese, \"too much cheese\")\n",
    "  print(\"Pizza ready!\")\n",
    "\n",
    "for (pz, ch) in [('calzone', 0), ('margherita', 110), ('mafia', 20)]:\n",
    "  try:\n",
    "    make_pizza(pz, ch)\n",
    "  except TooMuchCheeseError as tmce:\n",
    "    print(tmce, ':', tmce.cheese)\n",
    "  except PizzaError as pe:\n",
    "    print(pe, ':', pe.pizza)"
   ]
  },
  {
   "cell_type": "markdown",
   "metadata": {
    "id": "sGlxocPvvc0N"
   },
   "source": [
    "Coba cari tahu, kapan exception yang dibuat akan terpanggil?"
   ]
  }
 ],
 "metadata": {
  "colab": {
   "name": "Topic 7 - Object Oriented Programming.ipynb",
   "provenance": [],
   "toc_visible": true
  },
  "kernelspec": {
   "display_name": "Python 3 (ipykernel)",
   "language": "python",
   "name": "python3"
  },
  "language_info": {
   "codemirror_mode": {
    "name": "ipython",
    "version": 3
   },
   "file_extension": ".py",
   "mimetype": "text/x-python",
   "name": "python",
   "nbconvert_exporter": "python",
   "pygments_lexer": "ipython3",
   "version": "3.9.12"
  },
  "toc": {
   "base_numbering": 1,
   "nav_menu": {},
   "number_sections": true,
   "sideBar": true,
   "skip_h1_title": false,
   "title_cell": "Table of Contents",
   "title_sidebar": "Contents",
   "toc_cell": false,
   "toc_position": {
    "height": "calc(100% - 180px)",
    "left": "10px",
    "top": "150px",
    "width": "286.927px"
   },
   "toc_section_display": true,
   "toc_window_display": true
  }
 },
 "nbformat": 4,
 "nbformat_minor": 1
}
