{
 "cells": [
  {
   "cell_type": "markdown",
   "metadata": {
    "id": "jk3NEyTGxYMz"
   },
   "source": [
    "<b><font size = 30>Topic 3 - Boolean Values, Conditional Execution, Loops, Lists and List Processing, Logical and Bitwise Operations</font></b>\n",
    "\n",
    "Topik ini berfokus membahas:\n",
    "\n",
    "1. Tipe data Boolean\n",
    "2. Operator Relasional\n",
    "3. Struktur percabangan (Decision) di Python\n",
    "4. Struktur pengulangan di Python\n",
    "5. Operator logika dan bitwise di Python\n",
    "6. Struktur data list di Python\n",
    "7. Pengurutan data di List\n",
    "8. Multidimensional List dan pengaplikasiannya.\n"
   ]
  },
  {
   "cell_type": "markdown",
   "metadata": {
    "id": "Gl-Ftq95zYE7"
   },
   "source": [
    "# Tipe Data Boolean\n",
    "\n",
    "Seperti yang dijelaskan pada <a href = \"https://colab.research.google.com/drive/1lHKq2IEd2mZkk_wdz7rWdjeLbKjEqCt5?usp=sharing\">Topic 2</a> bahwa tipe data Boolean menangani nilai True dan False."
   ]
  },
  {
   "cell_type": "code",
   "execution_count": 1,
   "metadata": {
    "colab": {
     "base_uri": "https://localhost:8080/"
    },
    "executionInfo": {
     "elapsed": 458,
     "status": "ok",
     "timestamp": 1626929326240,
     "user": {
      "displayName": "Adam Mukharil Bachtiar",
      "photoUrl": "https://lh3.googleusercontent.com/a-/AOh14GgJw6pmR0uaa0upvAW6cptf4bPmiEhm1MAS1rx45as=s64",
      "userId": "18309246717753247212"
     },
     "user_tz": -420
    },
    "id": "JgE8cSWchkqB",
    "outputId": "2ccddc2f-1c6d-42ef-f649-b3de2164ede2"
   },
   "outputs": [
    {
     "name": "stdout",
     "output_type": "stream",
     "text": [
      "True\n",
      "True\n",
      "False\n"
     ]
    }
   ],
   "source": [
    "print(10 == 10)\n",
    "\n",
    "print(10 == 10.) #walaupun berbeda tipe data akan dianggap benar karena ada ekuvalensi tipe data oleh Python\n",
    "\n",
    "print(10 == 20)"
   ]
  },
  {
   "cell_type": "markdown",
   "metadata": {
    "id": "Hb-AXvT-js8x"
   },
   "source": [
    "# Operator Relasional\n",
    "\n",
    "Selain operator aritmatika, Python memiliki operator relasional yang digunakan untuk membandingkan dua buah nilai atau variabel. Hal ini akan berguna untuk membantu Programmer dalam membuat aksi yang sesuai dari hasil perbandingan nilai tersebut dengan menggunakan skema percabangan (Decision). Operator operasional akan menghasilkan nilai Boolean (True atau False). Operator relasional di Python adalah sebagai berikut:\n",
    "\n",
    "| Operator | Jenis Operasi | Contoh |\n",
    "| :---: | :--- | :--- |\n",
    "| > | Lebih besar | (5 > 2) = True |\n",
    "| < | Lebih kecil | (5 < 2) = False |\n",
    "| >= | Lebih besar atau sama dengan | (5 >= 5) = True |\n",
    "| <= | Lebih kecil atau sama dengan | (5 <= 2) = False |\n",
    "| == | Sama dengan | (5 == 2) = False |\n",
    "| != | Tidak sama dengan | (5 != 2) = True |\n"
   ]
  },
  {
   "cell_type": "markdown",
   "metadata": {
    "id": "pz_QNEnAowXn"
   },
   "source": [
    "# Prioritas Hirarki Operator\n",
    "\n",
    "Dengan dibahasnya operator relasional, maka tabel prioritas hirarki operator menjadi:\n",
    "\n",
    "| Prioritas |\tOperator | |\n",
    "| ---: | :--- | :--- |\n",
    "| 1\t| ``+, -`` | unary |\n",
    "| 2\t| ``**``||\n",
    "| 3\t| ``*, /, %, /`` | |\n",
    "| 4\t| ``+, - ``| binary |\n",
    "| 5 | ``<, <=, >, >=`` | |\n",
    "| 6 | ``==, !=`` | |"
   ]
  },
  {
   "cell_type": "code",
   "execution_count": 2,
   "metadata": {
    "colab": {
     "base_uri": "https://localhost:8080/"
    },
    "executionInfo": {
     "elapsed": 12807,
     "status": "ok",
     "timestamp": 1627280133832,
     "user": {
      "displayName": "Adam Mukharil Bachtiar",
      "photoUrl": "https://lh3.googleusercontent.com/a-/AOh14GgJw6pmR0uaa0upvAW6cptf4bPmiEhm1MAS1rx45as=s64",
      "userId": "18309246717753247212"
     },
     "user_tz": -420
    },
    "id": "9u4XpdgOx-Lz",
    "outputId": "584d266e-9721-4e36-d9d5-a1f69004a173"
   },
   "outputs": [],
   "source": [
    "a = int(input(\"masukkan a = \"))\n",
    "b = int(input(\"masukkan b = \"))\n",
    "c = int(input(\"masukkan c = \"))\n",
    "d = int(input(\"masukkan d = \"))\n",
    "\n",
    "print(\"a==b\",a==b)\n",
    "print(\"a==c\",a==c)\n",
    "print(\"a!=b\",a!=b)\n",
    "\n",
    "print(\"a>d\",a>d)\n",
    "print(\"b<d\",b<d)\n",
    "print(\"b<=d\",b<=d)\n",
    "print(\"b>=d\",b>=d)"
   ]
  },
  {
   "cell_type": "markdown",
   "metadata": {
    "id": "E1mkt3JgyUop"
   },
   "source": [
    "# Condition and Conditional Execution\n",
    "\n",
    "Python memiliki fitur percabangan dimana sebuah instruksi hanya akan dijalankan ketika suatu kondisi yang menjadi syaratnya terpenuhi. Gambarannya sebagai berikut:\n",
    "\n",
    "```python\n",
    "if True_or_not:\n",
    "    do_this_if_True\n",
    "```\n",
    "\n",
    "Struktur percabangan pada Python terdiri dari:\n",
    "\n",
    "1. Percabangan dengan satu kasus\n",
    "2. Percabangan dengan dua kasus\n",
    "3. Percabangan dengan banyak kasus.\n"
   ]
  },
  {
   "cell_type": "markdown",
   "metadata": {
    "id": "WA1sSbk_1Pgo"
   },
   "source": [
    "## Statement if (satu kasus)\n",
    "\n",
    "Bentuk umum dari perintah if satu kasus ini adalah sebagai berikut:\n",
    "\n",
    "```python\n",
    "if kondisi:\n",
    "    statement1\n",
    "    statement2\n",
    "    ...\n",
    "\n",
    "statement di luar if\n",
    "```\n",
    "\n",
    "statement di dalam blok if (perhatikan indentasi) hanya akan dijalankan jika kondisi pada if bernilai True."
   ]
  },
  {
   "cell_type": "code",
   "execution_count": 3,
   "metadata": {
    "colab": {
     "base_uri": "https://localhost:8080/"
    },
    "executionInfo": {
     "elapsed": 3282,
     "status": "ok",
     "timestamp": 1626934452675,
     "user": {
      "displayName": "Adam Mukharil Bachtiar",
      "photoUrl": "https://lh3.googleusercontent.com/a-/AOh14GgJw6pmR0uaa0upvAW6cptf4bPmiEhm1MAS1rx45as=s64",
      "userId": "18309246717753247212"
     },
     "user_tz": -420
    },
    "id": "bw4jt9PF2CtJ",
    "outputId": "a6d2dc47-52ac-4e4e-ce41-c168ce99d3ac"
   },
   "outputs": [
    {
     "name": "stdout",
     "output_type": "stream",
     "text": [
      "Masukkan umurmu: 18\n",
      "Anda boleh punya KTP\n",
      "Terima kasih\n"
     ]
    }
   ],
   "source": [
    "umur = int(input(\"Masukkan umurmu: \"))\n",
    "\n",
    "if umur >= 17:\n",
    "    print(\"Anda boleh punya KTP\")\n",
    "\n",
    "print(\"Terima kasih\")"
   ]
  },
  {
   "cell_type": "markdown",
   "metadata": {
    "id": "oo3byXRJ2eJ2"
   },
   "source": [
    "Pada kode program tersebut, jika pengguna memasukkan umur kurang dari 17 maka hanya akan muncul Terima kasih saja. Sebaliknya, jika umur pengguna lebih dari sama dengan 17 maka instruksi print(\"Anda boleh punya KTP\") dijalankan.\n",
    "\n",
    "<B>Catatan</B>:<br>\n",
    "Indentasi pada blok if wajib diberikan agar tidak menyebabkan error pada kode program. Indentasi bisa berupa pemberian karakter spasi dengan jumlah yang seragam atau bisa menggunakan karakter TAB."
   ]
  },
  {
   "cell_type": "markdown",
   "metadata": {
    "id": "63PeRKDM3FaJ"
   },
   "source": [
    "## Statement if-else (dua kasus)\n",
    "\n",
    "Bentu umum dari statement if-else adalah sebagai berikut:\n",
    "\n",
    "```python\n",
    "if kondisi :\n",
    "    statement1\n",
    "    statement2\n",
    "    ...\n",
    "else: \n",
    "    statement_alternatif1\n",
    "    statement_alternatif2\n",
    "    ...\n",
    "```\n",
    "\n",
    "Berbeda dengan sebelumnya, jika kondisi bernilai False maka statement alternatif (yang ada dalam blok else) yang akan dijalankan oleh Python.\n",
    "\n"
   ]
  },
  {
   "cell_type": "code",
   "execution_count": 4,
   "metadata": {
    "colab": {
     "base_uri": "https://localhost:8080/"
    },
    "executionInfo": {
     "elapsed": 4784,
     "status": "ok",
     "timestamp": 1626935659053,
     "user": {
      "displayName": "Adam Mukharil Bachtiar",
      "photoUrl": "https://lh3.googleusercontent.com/a-/AOh14GgJw6pmR0uaa0upvAW6cptf4bPmiEhm1MAS1rx45as=s64",
      "userId": "18309246717753247212"
     },
     "user_tz": -420
    },
    "id": "z0_-Qt-z602c",
    "outputId": "7efbf90c-093c-4f8e-d126-cc4a98f6ab83"
   },
   "outputs": [
    {
     "name": "stdout",
     "output_type": "stream",
     "text": [
      "Masukkan umurmu: 16\n",
      "Umur anda belum cukup untuk memiliki KTP\n",
      "Terima kasih\n"
     ]
    }
   ],
   "source": [
    "umur = int(input(\"Masukkan umurmu: \"))\n",
    "\n",
    "if umur >= 17:\n",
    "  print(\"Anda boleh punya KTP\")\n",
    "else:\n",
    "  print(\"Umur anda belum cukup untuk memiliki KTP\")\n",
    "\n",
    "print(\"Terima kasih\")"
   ]
  },
  {
   "cell_type": "markdown",
   "metadata": {
    "id": "tdR7TCa97aXZ"
   },
   "source": [
    "## Statement nested if-else\n",
    "\n",
    "Statement if bisa saja memiliki struktur if lagi di dalamnya. Bentuk umumnya adalah sebagai berikut:\n",
    "\n",
    "```python\n",
    "if kondisi1:\n",
    "  if kondisi2:\n",
    "    statement1\n",
    "    statement2\n",
    "    ...\n",
    "else:\n",
    "  if kondisi3:\n",
    "    statement1\n",
    "    statement2\n",
    "    ...\n",
    "  else:\n",
    "    statement1\n",
    "    ...\n",
    "```"
   ]
  },
  {
   "cell_type": "code",
   "execution_count": 6,
   "metadata": {
    "colab": {
     "base_uri": "https://localhost:8080/"
    },
    "executionInfo": {
     "elapsed": 2866,
     "status": "ok",
     "timestamp": 1626936718479,
     "user": {
      "displayName": "Adam Mukharil Bachtiar",
      "photoUrl": "https://lh3.googleusercontent.com/a-/AOh14GgJw6pmR0uaa0upvAW6cptf4bPmiEhm1MAS1rx45as=s64",
      "userId": "18309246717753247212"
     },
     "user_tz": -420
    },
    "id": "pVIigHcx9i_R",
    "outputId": "8e6155ce-9501-48b0-9510-be48e29b0ef5"
   },
   "outputs": [
    {
     "name": "stdout",
     "output_type": "stream",
     "text": [
      "Masukkan umurmu: 18\n"
     ]
    }
   ],
   "source": [
    "umur = int(input(\"Masukkan umurmu: \"))\n",
    "bisa_menyetir = False #nilai boleh diganti dengan False\n",
    "\n",
    "if umur >= 17:\n",
    "  if bisa_menyetir:\n",
    "    print(\"Anda boleh memiliki SIM\")\n",
    "else:\n",
    "  print(\"Anda belum boleh memiliki SIM\")"
   ]
  },
  {
   "cell_type": "markdown",
   "metadata": {
    "id": "HsscQyhzBmTK"
   },
   "source": [
    "## Statement elif (banyak kasus)\n",
    "\n",
    "elif adalah singkatan dari else-if. Statement ini bisa digunakan untuk mengakomodir kebutuhan banyak kasus dalam struktur percabangan. Bentuk umumnya adalah sebagai berikut:\n",
    "\n",
    "```python\n",
    "if kondisi1:\n",
    "    statement1a\n",
    "    statement1b\n",
    "    ...\n",
    "elif kondisi2:\n",
    "    statement2a\n",
    "    statement2b\n",
    "    ...\n",
    "else:\n",
    "    statement_alternatif1\n",
    "    statement_alternatif2\n",
    "    ...\n",
    "```\n"
   ]
  },
  {
   "cell_type": "code",
   "execution_count": null,
   "metadata": {
    "colab": {
     "base_uri": "https://localhost:8080/"
    },
    "executionInfo": {
     "elapsed": 3692,
     "status": "ok",
     "timestamp": 1626937726725,
     "user": {
      "displayName": "Adam Mukharil Bachtiar",
      "photoUrl": "https://lh3.googleusercontent.com/a-/AOh14GgJw6pmR0uaa0upvAW6cptf4bPmiEhm1MAS1rx45as=s64",
      "userId": "18309246717753247212"
     },
     "user_tz": -420
    },
    "id": "AqMVbeRTCN7D",
    "outputId": "7a4b400f-1fac-4760-9f39-605ded17cf51"
   },
   "outputs": [],
   "source": [
    "nilai = float(input(\"Masukkan nilai akhir: \"))\n",
    "\n",
    "if nilai >= 80:\n",
    "  indeks = 'A'\n",
    "elif nilai >= 65:\n",
    "  indeks = 'B'\n",
    "elif nilai >= 40:\n",
    "  indeks = 'C'\n",
    "elif nilai >= 30:\n",
    "  indeks = 'D'\n",
    "else:\n",
    "  indeks = 'E'\n",
    "\n",
    "print(indeks)"
   ]
  },
  {
   "cell_type": "markdown",
   "metadata": {
    "id": "p-ZbKelqDD3n"
   },
   "source": [
    "## Hands on Lab 1: Membandingkan Dua Nilai\n",
    "\n",
    "Silakan coba kode program tersebut:\n"
   ]
  },
  {
   "cell_type": "code",
   "execution_count": 7,
   "metadata": {
    "colab": {
     "base_uri": "https://localhost:8080/"
    },
    "executionInfo": {
     "elapsed": 306,
     "status": "ok",
     "timestamp": 1627281432951,
     "user": {
      "displayName": "Adam Mukharil Bachtiar",
      "photoUrl": "https://lh3.googleusercontent.com/a-/AOh14GgJw6pmR0uaa0upvAW6cptf4bPmiEhm1MAS1rx45as=s64",
      "userId": "18309246717753247212"
     },
     "user_tz": -420
    },
    "id": "iSqM6CnFDmaI",
    "outputId": "00a85a5f-321f-4fdd-82de-8cfa5ed30f04"
   },
   "outputs": [
    {
     "name": "stdout",
     "output_type": "stream",
     "text": [
      "a dan b bernilai sama\n"
     ]
    }
   ],
   "source": [
    "a = 5\n",
    "b = 5.\n",
    "\n",
    "if a == b:\n",
    "    print(\"a dan b bernilai sama\")\n",
    "else:\n",
    "    print(\"a dan b bernilai berbeda\")"
   ]
  },
  {
   "cell_type": "markdown",
   "metadata": {
    "id": "LO4ewH_lDuOw"
   },
   "source": [
    "## Hands on Lab 2: Bilangan Genap dan Ganjil\n",
    "\n",
    "Silakan coba kode program tersebut:"
   ]
  },
  {
   "cell_type": "code",
   "execution_count": 9,
   "metadata": {
    "id": "K8keZ_LcEDMw"
   },
   "outputs": [
    {
     "name": "stdout",
     "output_type": "stream",
     "text": [
      "Masukkan bilangan bulat :  -2\n",
      "-2 adalah bilangan genap\n"
     ]
    }
   ],
   "source": [
    "bilangan = int(input(\"Masukkan bilangan bulat :  \"))\n",
    "\n",
    "if bilangan % 2 == 0:\n",
    "    print(str(bilangan) + \" adalah bilangan genap\")\n",
    "else: \n",
    "    print(str(bilangan) + \" adalah bilangan ganjil\")"
   ]
  },
  {
   "cell_type": "markdown",
   "metadata": {
    "id": "Gxc58ZaXEMUh"
   },
   "source": [
    "## Hands on Lab 3: Nested if-else\n",
    "\n",
    "Silakan coba kode program tersebut:"
   ]
  },
  {
   "cell_type": "code",
   "execution_count": 11,
   "metadata": {
    "id": "GQsNBI_SEL3T"
   },
   "outputs": [
    {
     "name": "stdout",
     "output_type": "stream",
     "text": [
      "nested: else\n"
     ]
    }
   ],
   "source": [
    "x = 7\n",
    "\n",
    "if x > 5: # True\n",
    "    if x == 6: # False\n",
    "        print(\"nested: x == 6\")\n",
    "    elif x == 10: # True\n",
    "        print(\"nested: x == 10\")\n",
    "    else:\n",
    "        print(\"nested: else\")\n",
    "else:\n",
    "    print(\"else\")"
   ]
  },
  {
   "cell_type": "markdown",
   "metadata": {
    "id": "QYdGKHUFFVqc"
   },
   "source": [
    "## Hands on Lab 4: Penentuan Kuadran Titik\n",
    "\n",
    "Silakan coba kode program tersebut:\n",
    "\n",
    "<img src = \"https://assets.kejarcita.id/vxat8dpJUrQpHYXEJb7JtdT2\" alt = \"Kuadran titik\">"
   ]
  },
  {
   "cell_type": "code",
   "execution_count": null,
   "metadata": {
    "colab": {
     "base_uri": "https://localhost:8080/"
    },
    "executionInfo": {
     "elapsed": 5007,
     "status": "ok",
     "timestamp": 1627282568488,
     "user": {
      "displayName": "Adam Mukharil Bachtiar",
      "photoUrl": "https://lh3.googleusercontent.com/a-/AOh14GgJw6pmR0uaa0upvAW6cptf4bPmiEhm1MAS1rx45as=s64",
      "userId": "18309246717753247212"
     },
     "user_tz": -420
    },
    "id": "ZynyJCz7Fa1n",
    "outputId": "9088df3e-1051-450a-f870-84392d45b039"
   },
   "outputs": [],
   "source": [
    "#input nilai x dan y\n",
    "print(\"Memasukkan nilai koordinat\")\n",
    "x = int(input(\"Masukkan nilai x: \"))\n",
    "y = int(input(\"Masukkan nilai y: \"))\n",
    "    \n",
    "#memeriksa nilai x dan y\n",
    "if x>0 and y>0 :\n",
    "  print(\"Koordinat (\"+ str(x) + \",\" + str(y) +\") berada pada kuadran  \" + \"I\")\n",
    "elif x<0 and y>0 : \n",
    "  print(\"Koordinat (\"+ str(x) + \",\" + str(y) +\") berada pada kuadran  \" + \"II\")\n",
    "elif x<0 and y<0 : \n",
    "  print(\"Koordinat (\"+ str(x) + \",\" + str(y) +\") berada pada kuadran  \" + \"III\")\n",
    "elif x>0 and y<0 :\n",
    "  print(\"Koordinat (\"+ str(x) + \",\" + str(y) +\") berada pada kuadran  \" + \"IV\")\n",
    "else : \n",
    "  pass\n",
    "\n",
    "print(\"Terima kasih\")"
   ]
  },
  {
   "cell_type": "markdown",
   "metadata": {
    "id": "UAeh7bP-gxEv"
   },
   "source": [
    "## Hands on Lab 5: Spathiphyllum\n",
    "\n",
    "Spathiphyllum, atau yang sering disebut dengan 'peace lily' atau tanaman 'white sail merupakan tanaman dalam rumah yang sangat populer yang dapat menjadi filter guna menyaring udara dari racun. Beberapa racun yang dapat di filter adalah benzena, fomaldehyde, dan amonia. \n",
    "\n",
    "Bayangkan bahwa program komputer anda sangat menyukai tanaman. Ketika komputer menerima masukan (input) pada form \"Spathiphyllum\", maka komputer akan merespon dengan \"Spathiphyllum is the best plant ever!\".\n",
    "\n",
    "Tulislah sebuah program dengan Python untuk beberapa kondisi berikut, input adalah sebuah string :\n",
    "\n",
    "1. Respon komputer :  `\"Yes - Spathiphyllum is the best plant ever!\"` ketika input berupa `\"Spathiphyllum\"` (upper-case)\n",
    "2. Respon komputer :  `\"No, I want a big Spathiphyllum!\"` ketika input berupa `\"spathiphyllum\"` (lower-case)\n",
    "3. Respon komputer :  `\"Spathiphyllum! Not [input]!\"` ketika input berupa \"input\". "
   ]
  },
  {
   "cell_type": "code",
   "execution_count": null,
   "metadata": {
    "colab": {
     "base_uri": "https://localhost:8080/"
    },
    "executionInfo": {
     "elapsed": 18600,
     "status": "ok",
     "timestamp": 1627012829979,
     "user": {
      "displayName": "Adam Mukharil Bachtiar",
      "photoUrl": "https://lh3.googleusercontent.com/a-/AOh14GgJw6pmR0uaa0upvAW6cptf4bPmiEhm1MAS1rx45as=s64",
      "userId": "18309246717753247212"
     },
     "user_tz": -420
    },
    "id": "8ILFyY3mhPxv",
    "outputId": "de2e832d-1654-4d3a-ecda-8bd400eeb826"
   },
   "outputs": [],
   "source": [
    "plant = input(\"Please input a best plant = \")\n",
    "\n",
    "if plant==\"Spathiphyllum\":\n",
    "    print(\"Yes - Spathiphyllum is the best plant ever!\")\n",
    "elif plant==\"spathiphyllum\":\n",
    "    print(\"No, I want a big Spathiphyllum!\")\n",
    "else:\n",
    "    print(\"Spathiphyllum! Not \"+plant+\"!\")"
   ]
  },
  {
   "cell_type": "markdown",
   "metadata": {
    "id": "bn8FQNV3haRV"
   },
   "source": [
    "## Hands on Lab 6: Pajak\n",
    "\n",
    "Pada suatu masa terdapat sebuah daratan - daratan dengan susu dan madu, yang dihuni oleh masyarakat yang bahagia dan sejahtera. Masyarakat tersebut membayar pajak, sehingga kebahagiaan mereka memiliki batas. Pajak yang paling penting adalah Personal Income Tax atau disebut PIT yang mana harus dibayarkan tiap tahun, dan dievaluasi dengan peraturan sebagai berikut :\n",
    "\n",
    "Jika penghasilan tidak lebih besar daripada 85,528 thaler, maka pajak adalah sebesar 18% dari pemasukan dikurangi 556 thaler dan 2 sen (disebut juga tax relief)\n",
    "Jika penghasilan lebih dari nilai tersebut, maka pajak adalah sebesar 14,839 thaler and 2 cents, ditambah 32% dari selisih penghasilan dengan 85,528 thalers.\n",
    "Tugas anda adalah membuat tax calculator.\n",
    "\n",
    "Harus menerima satu masukan : penghasilan\n",
    "Berikutnya, print pajak yang telah dihitung, nilai dibulatkan penuh ke thaler (tanpa sen). Fungsi round() akan membantu anda untuk membulatkan nilai.\n",
    "Catatan : Negara yang bahagia ini tidak pernah mengembalikan uang tersebut ke warganya. Jika perhitungan pajak kurang dari nol, itu berarti warga tidak dikenakan pajak sama sekali (pajak = 0).\n",
    "\n",
    "Perhatikan syntax dibawah ini, hanya membaca satu input dan output sebagai hasilnya. Lengkapi syntax tersebut dengan sebuah perhitungan yang cerdas.\n",
    "\n",
    "```python\n",
    "income = float(input(\"Enter the annual income: \"))\n",
    "\n",
    "#\n",
    "# Put your code here.\n",
    "#\n",
    "\n",
    "tax = round(tax, 0)\n",
    "print(\"The tax is:\", tax, \"thalers\")\n",
    "```\n",
    "\n",
    "Uji kode program Anda menggunakan test case berikut:\n",
    "\n",
    "```\n",
    "Sample input: 10000\n",
    "\n",
    "Expected output: The tax is: 1244.0 thalers\n",
    "\n",
    "Sample input: 100000\n",
    "\n",
    "Expected output: The tax is: 19470.0 thalers\n",
    "\n",
    "Sample input: 1000\n",
    "\n",
    "Expected output: The tax is: 0.0 thalers\n",
    "\n",
    "Sample input: -100\n",
    "\n",
    "Expected output: The tax is: 0.0 thalers\n",
    "```"
   ]
  },
  {
   "cell_type": "code",
   "execution_count": null,
   "metadata": {
    "id": "mOBUR8MYiIEb"
   },
   "outputs": [],
   "source": [
    "income = float(input(\"Enter the annual income: \"))\n",
    "tax = 0\n",
    "\n",
    "if income<85528:\n",
    "    tax = 0.18 * income - 556.2\n",
    "else:\n",
    "    tax = 14839 + 0.2 + 0.32 * (income - 85528)\n",
    "\n",
    "tax = round(tax, 0)\n",
    "\n",
    "if tax<0:\n",
    "    tax = 0\n",
    "\n",
    "print(\"The tax is:\", tax, \"thalers\")"
   ]
  },
  {
   "cell_type": "markdown",
   "metadata": {
    "id": "GXRhcMJ7iQtn"
   },
   "source": [
    "## Hands on Lab 7: Leap Year (Kabisat)\n",
    "\n",
    "As you surely know, due to some astronomical reasons, years may be leap or common. The former are 366 days long, while the latter are 365 days long.\n",
    "\n",
    "Since the introduction of the Gregorian calendar (in 1582), the following rule is used to determine the kind of year:\n",
    "\n",
    "1. if the year number isn't divisible by four, it's a common year;\n",
    "2. otherwise, if the year number isn't divisible by 100, it's a leap year;\n",
    "3. otherwise, if the year number isn't divisible by 400, it's a common year;\n",
    "4. otherwise, it's a leap year.\n",
    "\n",
    "Look at the code in the editor - it only reads a year number, and needs to be completed with the instructions implementing the test we've just described.\n",
    "\n",
    "``` python\n",
    "year = int(input(\"Enter a year: \"))\n",
    "\n",
    "#\n",
    "# Put your code here.\n",
    "#\n",
    "\n",
    "```\n",
    "\n",
    "The code should output one of two possible messages, which are Leap year or Common year, depending on the value entered.\n",
    "\n",
    "It would be good to verify if the entered year falls into the Gregorian era, and output a warning otherwise: Not within the Gregorian calendar period. Tip: use the != and % operators.\n",
    "\n",
    "Test your code using the data we've provided.\n",
    "\n",
    "```\n",
    "Sample input: `2000`\n",
    "\n",
    "Expected output: `Leap year`\n",
    "\n",
    "Sample input: `2015`\n",
    "\n",
    "Expected output: `Common year`\n",
    "\n",
    "Sample input: `1999`\n",
    "\n",
    "Expected output: `Common year`\n",
    "\n",
    "Sample input: `1996`\n",
    "\n",
    "Expected output: `Leap year`\n",
    "\n",
    "Sample input: `1580`\n",
    "\n",
    "Expected output: `Not within the Gregorian calendar period`\n",
    "```\n"
   ]
  },
  {
   "cell_type": "code",
   "execution_count": null,
   "metadata": {
    "id": "MbM10pIgilXi"
   },
   "outputs": [],
   "source": [
    "year = int(input(\"Enter a year: \"))\n",
    "\n",
    "if year < 1582:\n",
    "    print(\"Not within the Gregorian calender period\")\n",
    "else :\n",
    "    if year % 4 !=0 :\n",
    "        print(\"common year\")\n",
    "    elif year % 100 !=0:\n",
    "        print (\"leap year\")\n",
    "    elif year % 400 !=0:\n",
    "        print(\"common year\")\n",
    "    else : \n",
    "        print(\"leap year\")"
   ]
  },
  {
   "cell_type": "markdown",
   "metadata": {
    "id": "JAuFKOQEi1Xj"
   },
   "source": [
    "## Latihan Sederhana \n",
    "\n",
    "(Coba Jawab tanpa running program. Running hanya dilakukan untuk cek jawaban yang sudah dipikirkan)\n",
    "\n",
    "<B>Apakah keluaran dari sintak-sintaks berikut?</B>\n"
   ]
  },
  {
   "cell_type": "code",
   "execution_count": 12,
   "metadata": {
    "id": "EeVXq1FDjk4_"
   },
   "outputs": [
    {
     "name": "stdout",
     "output_type": "stream",
     "text": [
      "False\n",
      "True\n"
     ]
    }
   ],
   "source": [
    "x = 5\n",
    "y = 10\n",
    "z = 8\n",
    "\n",
    "print(x > y)\n",
    "print(y > z)"
   ]
  },
  {
   "cell_type": "code",
   "execution_count": null,
   "metadata": {
    "id": "vx-YOws-j43Z"
   },
   "outputs": [],
   "source": [
    "x, y, z = 5, 10, 8\n",
    "\n",
    "print(x > z)\n",
    "print((y - 5) == x)"
   ]
  },
  {
   "cell_type": "code",
   "execution_count": 13,
   "metadata": {
    "id": "EKtSSFUZj58h"
   },
   "outputs": [
    {
     "name": "stdout",
     "output_type": "stream",
     "text": [
      "True\n",
      "False\n"
     ]
    }
   ],
   "source": [
    "x, y, z = 5, 10, 8\n",
    "x, y, z = z, y, x\n",
    "\n",
    "print(x > z)\n",
    "print((y - 5) == x)"
   ]
  },
  {
   "cell_type": "code",
   "execution_count": 16,
   "metadata": {
    "id": "xHMXMGYOj8hn"
   },
   "outputs": [
    {
     "name": "stdout",
     "output_type": "stream",
     "text": [
      "True\n",
      "True\n",
      "else\n"
     ]
    }
   ],
   "source": [
    "x = 10\n",
    "\n",
    "if x == 10:\n",
    "    print(x == 10)\n",
    "\n",
    "if x > 5:\n",
    "    print(x > 5)\n",
    "\n",
    "if x < 10:\n",
    "    print(x < 10)\n",
    "else:\n",
    "    print(\"else\")"
   ]
  },
  {
   "cell_type": "code",
   "execution_count": 17,
   "metadata": {
    "id": "0Altko1WkAws"
   },
   "outputs": [
    {
     "name": "stdout",
     "output_type": "stream",
     "text": [
      "four\n",
      "five\n"
     ]
    }
   ],
   "source": [
    "x = \"1\"\n",
    "\n",
    "if x == 1:\n",
    "    print(\"one\")\n",
    "elif x == \"1\":\n",
    "    if int(x) > 1:\n",
    "        print(\"two\")\n",
    "    elif int(x) < 1:\n",
    "        print(\"three\")\n",
    "    else:\n",
    "        print(\"four\")\n",
    "if int(x) == 1:\n",
    "    print(\"five\")\n",
    "else:\n",
    "    print(\"six\")"
   ]
  },
  {
   "cell_type": "code",
   "execution_count": 18,
   "metadata": {
    "id": "m4Q4lx7ekDtz"
   },
   "outputs": [
    {
     "name": "stdout",
     "output_type": "stream",
     "text": [
      "one\n",
      "two\n"
     ]
    }
   ],
   "source": [
    "x = 1\n",
    "y = 1.0\n",
    "z = \"1\"\n",
    "\n",
    "if x == y:\n",
    "    print(\"one\")\n",
    "if y == int(z):\n",
    "    print(\"two\")\n",
    "elif x == y:\n",
    "    print(\"three\")\n",
    "else:\n",
    "    print(\"four\")"
   ]
  },
  {
   "cell_type": "markdown",
   "metadata": {
    "id": "R0Lks7zekKTq"
   },
   "source": [
    "# Perulangan di Python\n",
    "\n",
    "Selain struktur percabangan, Python juga mengenal struktur perulangan. Struktur ini memungkinkan Programmer untuk melakukan suatu blok instruksi secara berulang. Tentunya sebuah perulangan harus memiliki akhir (batas perulangan).<br>\n",
    "\n",
    "Perhatikan kode program berikut:\n"
   ]
  },
  {
   "cell_type": "code",
   "execution_count": null,
   "metadata": {
    "colab": {
     "base_uri": "https://localhost:8080/"
    },
    "executionInfo": {
     "elapsed": 6147,
     "status": "ok",
     "timestamp": 1627014143792,
     "user": {
      "displayName": "Adam Mukharil Bachtiar",
      "photoUrl": "https://lh3.googleusercontent.com/a-/AOh14GgJw6pmR0uaa0upvAW6cptf4bPmiEhm1MAS1rx45as=s64",
      "userId": "18309246717753247212"
     },
     "user_tz": -420
    },
    "id": "4KfG7LI-lv2-",
    "outputId": "c490cb35-98eb-4fa3-9641-a157f03c77ad"
   },
   "outputs": [],
   "source": [
    "bilangan1 = int(input(\"Bilangan 1: \"))\n",
    "bilangan2 = int(input(\"Bilangan 2: \"))\n",
    "bilangan3 = int(input(\"Bilangan 3: \"))\n",
    "\n",
    "bilangan_terbesar = max(bilangan1, bilangan2, bilangan3)\n",
    "\n",
    "print(\"Bilangan terbesar adalah\", bilangan_terbesar)"
   ]
  },
  {
   "cell_type": "markdown",
   "metadata": {
    "id": "09xpgP12mcJs"
   },
   "source": [
    "Sepintas memang tidak ada masalah yang timbul dari kode program tersebut namun apabila jumlah bilangan yang dibandingkan ditambah, maka kode program perlu diubah strukturnya. Tentunya ini bukan hal yang direkomendasikan dalam dunia programming. Dengan struktur perulangan kita akan bisa menanggulangi masalah tersebut. <br><br>\n",
    "<B> Catatan:</B>\n",
    "fungsi max() merupakan bawaan dari Python. Selain fungsi max() terdapat juga fungsi min() yang fungsinya kebalikan dari fungsi max()."
   ]
  },
  {
   "cell_type": "markdown",
   "metadata": {
    "id": "kU4Z40pEnYBj"
   },
   "source": [
    "## Statement While\n",
    "\n",
    "Bentuk umum dari perulangan while adalah sebagai berikut :\n",
    "\n",
    "```python\n",
    "while kondisi:\n",
    "    statement1\n",
    "    statement2\n",
    "    statement1\n",
    "    :\n",
    "    :\n",
    "    statementn\n",
    "```\n",
    "Pada bentuk perulangan di atas, statement1, statement2 dan seterusnya merupakan sekelompok statement yang akan diulang. Statement tersebut akan terus dieksekusi/ diulang selama kondisi bernilai True. Maka diperlukan sebuah statement yang akan bernilai False, agar proses dapat berhenti. Perhatikan kode program berikut:"
   ]
  },
  {
   "cell_type": "code",
   "execution_count": 14,
   "metadata": {
    "colab": {
     "base_uri": "https://localhost:8080/"
    },
    "executionInfo": {
     "elapsed": 7292,
     "status": "ok",
     "timestamp": 1627014805062,
     "user": {
      "displayName": "Adam Mukharil Bachtiar",
      "photoUrl": "https://lh3.googleusercontent.com/a-/AOh14GgJw6pmR0uaa0upvAW6cptf4bPmiEhm1MAS1rx45as=s64",
      "userId": "18309246717753247212"
     },
     "user_tz": -420
    },
    "id": "kwFVkql6nyMC",
    "outputId": "9e4ed81b-9b73-4028-b5c7-650952b683d0"
   },
   "outputs": [
    {
     "name": "stdout",
     "output_type": "stream",
     "text": [
      "Masukkan batas atas perkalian: 10\n",
      "Mau perkalian berapa? 10\n",
      "1 x 10 = 10\n",
      "2 x 10 = 20\n",
      "3 x 10 = 30\n",
      "4 x 10 = 40\n",
      "5 x 10 = 50\n",
      "6 x 10 = 60\n",
      "7 x 10 = 70\n",
      "8 x 10 = 80\n",
      "9 x 10 = 90\n",
      "10 x 10 = 100\n"
     ]
    }
   ],
   "source": [
    "batas_atas_perkalian = int(input(\"Masukkan batas atas perkalian: \"))\n",
    "perkalian = int(input(\"Mau perkalian berapa? \"))\n",
    "counter = 1\n",
    "\n",
    "while counter <= batas_atas_perkalian:\n",
    "  print(counter, \"x\", perkalian, \"=\", counter * perkalian)\n",
    "  counter += 1"
   ]
  },
  {
   "cell_type": "markdown",
   "metadata": {
    "id": "LqK2vnNawMyA"
   },
   "source": [
    "Jika kita perhatikan, penggunaan statement While akan memungkinkan proses perkalian bilangan sesuai dengan batas atas perkalian yang mau dilakukan. Batas atas ini menjadi batas perulangan sehingga proses untuk mengkalikan bilangan akan berhenti di batas tersebut.<br>\n",
    "Perulangan While akan mengulang blok instruksi di dalamnya selama nilai kondisinya bernilai True dan akan berhenti ketika bernilai False. Pada kasus perkalian tadi, kondisi akan bernilai False ketika batas atas perkalian sudah tercapai. Mari kita perbaiki program untuk mencari bilangan terbesar sebelumnya dengan menggunakan perulangan While.\n"
   ]
  },
  {
   "cell_type": "code",
   "execution_count": null,
   "metadata": {
    "colab": {
     "base_uri": "https://localhost:8080/"
    },
    "executionInfo": {
     "elapsed": 17838,
     "status": "ok",
     "timestamp": 1627284389383,
     "user": {
      "displayName": "Adam Mukharil Bachtiar",
      "photoUrl": "https://lh3.googleusercontent.com/a-/AOh14GgJw6pmR0uaa0upvAW6cptf4bPmiEhm1MAS1rx45as=s64",
      "userId": "18309246717753247212"
     },
     "user_tz": -420
    },
    "id": "f329nODyw4bm",
    "outputId": "ee23310a-6986-4e50-ba97-99d08baad21a"
   },
   "outputs": [],
   "source": [
    "jumlah_bilangan = int(input(\"Mau berapa bilangan yang dibandingkan? \"))\n",
    "bilangan_terbesar = int(input(\"Bilangan = \"))\n",
    "counter = 2\n",
    "\n",
    "while counter <= jumlah_bilangan:\n",
    "  bilangan = int(input(\"Bilangan = \"))\n",
    "\n",
    "  if bilangan_terbesar < bilangan:\n",
    "    bilangan_terbesar = bilangan\n",
    "\n",
    "  counter += 1\n",
    "\n",
    "print(\"Bilangan terbesar adalah\", bilangan_terbesar)"
   ]
  },
  {
   "cell_type": "markdown",
   "metadata": {
    "id": "NkS1wr4Zyt2F"
   },
   "source": [
    "## Infinite Loop\n",
    "\n",
    "Terkadang ketika kita tidak memprogram dengan baik, maka perulangan yang dibuat bisa saja tidak berhenti. Dalam kasus perulangan While, hal tersebut dimungkinkan terjadi ketika kondisi dalam perulangan while selalu menghasilkan nilai True. Contoh kasusnya adalah:"
   ]
  },
  {
   "cell_type": "code",
   "execution_count": 15,
   "metadata": {
    "id": "xmDqc4XXzBuk"
   },
   "outputs": [
    {
     "name": "stdout",
     "output_type": "stream",
     "text": [
      "Mau berapa bilangan yang dibandingkan? 3\n",
      "Bilangan = 5\n",
      "Bilangan = 6\n",
      "Bilangan = 7\n",
      "Bilangan = 87\n",
      "Bilangan = 89\n",
      "Bilangan = 5\n",
      "Bilangan = 45\n",
      "Bilangan = 56\n"
     ]
    },
    {
     "ename": "KeyboardInterrupt",
     "evalue": "Interrupted by user",
     "output_type": "error",
     "traceback": [
      "\u001b[0;31m---------------------------------------------------------------------------\u001b[0m",
      "\u001b[0;31mKeyboardInterrupt\u001b[0m                         Traceback (most recent call last)",
      "\u001b[0;32m/var/folders/mg/f662q2g57nn3266mvsjg3d300000gn/T/ipykernel_2888/3462385371.py\u001b[0m in \u001b[0;36m<module>\u001b[0;34m\u001b[0m\n\u001b[1;32m      4\u001b[0m \u001b[0;34m\u001b[0m\u001b[0m\n\u001b[1;32m      5\u001b[0m \u001b[0;32mwhile\u001b[0m \u001b[0mcounter\u001b[0m \u001b[0;34m<=\u001b[0m \u001b[0mjumlah_bilangan\u001b[0m\u001b[0;34m:\u001b[0m\u001b[0;34m\u001b[0m\u001b[0;34m\u001b[0m\u001b[0m\n\u001b[0;32m----> 6\u001b[0;31m   \u001b[0mbilangan\u001b[0m \u001b[0;34m=\u001b[0m \u001b[0mint\u001b[0m\u001b[0;34m(\u001b[0m\u001b[0minput\u001b[0m\u001b[0;34m(\u001b[0m\u001b[0;34m\"Bilangan = \"\u001b[0m\u001b[0;34m)\u001b[0m\u001b[0;34m)\u001b[0m\u001b[0;34m\u001b[0m\u001b[0;34m\u001b[0m\u001b[0m\n\u001b[0m\u001b[1;32m      7\u001b[0m \u001b[0;34m\u001b[0m\u001b[0m\n\u001b[1;32m      8\u001b[0m   \u001b[0;32mif\u001b[0m \u001b[0mbilangan_terbesar\u001b[0m \u001b[0;34m<\u001b[0m \u001b[0mbilangan\u001b[0m\u001b[0;34m:\u001b[0m\u001b[0;34m\u001b[0m\u001b[0;34m\u001b[0m\u001b[0m\n",
      "\u001b[0;32m/opt/anaconda3/lib/python3.9/site-packages/ipykernel/kernelbase.py\u001b[0m in \u001b[0;36mraw_input\u001b[0;34m(self, prompt)\u001b[0m\n\u001b[1;32m   1004\u001b[0m                 \u001b[0;34m\"raw_input was called, but this frontend does not support input requests.\"\u001b[0m\u001b[0;34m\u001b[0m\u001b[0;34m\u001b[0m\u001b[0m\n\u001b[1;32m   1005\u001b[0m             )\n\u001b[0;32m-> 1006\u001b[0;31m         return self._input_request(\n\u001b[0m\u001b[1;32m   1007\u001b[0m             \u001b[0mstr\u001b[0m\u001b[0;34m(\u001b[0m\u001b[0mprompt\u001b[0m\u001b[0;34m)\u001b[0m\u001b[0;34m,\u001b[0m\u001b[0;34m\u001b[0m\u001b[0;34m\u001b[0m\u001b[0m\n\u001b[1;32m   1008\u001b[0m             \u001b[0mself\u001b[0m\u001b[0;34m.\u001b[0m\u001b[0m_parent_ident\u001b[0m\u001b[0;34m[\u001b[0m\u001b[0;34m\"shell\"\u001b[0m\u001b[0;34m]\u001b[0m\u001b[0;34m,\u001b[0m\u001b[0;34m\u001b[0m\u001b[0;34m\u001b[0m\u001b[0m\n",
      "\u001b[0;32m/opt/anaconda3/lib/python3.9/site-packages/ipykernel/kernelbase.py\u001b[0m in \u001b[0;36m_input_request\u001b[0;34m(self, prompt, ident, parent, password)\u001b[0m\n\u001b[1;32m   1049\u001b[0m             \u001b[0;32mexcept\u001b[0m \u001b[0mKeyboardInterrupt\u001b[0m\u001b[0;34m:\u001b[0m\u001b[0;34m\u001b[0m\u001b[0;34m\u001b[0m\u001b[0m\n\u001b[1;32m   1050\u001b[0m                 \u001b[0;31m# re-raise KeyboardInterrupt, to truncate traceback\u001b[0m\u001b[0;34m\u001b[0m\u001b[0;34m\u001b[0m\u001b[0m\n\u001b[0;32m-> 1051\u001b[0;31m                 \u001b[0;32mraise\u001b[0m \u001b[0mKeyboardInterrupt\u001b[0m\u001b[0;34m(\u001b[0m\u001b[0;34m\"Interrupted by user\"\u001b[0m\u001b[0;34m)\u001b[0m \u001b[0;32mfrom\u001b[0m \u001b[0;32mNone\u001b[0m\u001b[0;34m\u001b[0m\u001b[0;34m\u001b[0m\u001b[0m\n\u001b[0m\u001b[1;32m   1052\u001b[0m             \u001b[0;32mexcept\u001b[0m \u001b[0mException\u001b[0m\u001b[0;34m:\u001b[0m\u001b[0;34m\u001b[0m\u001b[0;34m\u001b[0m\u001b[0m\n\u001b[1;32m   1053\u001b[0m                 \u001b[0mself\u001b[0m\u001b[0;34m.\u001b[0m\u001b[0mlog\u001b[0m\u001b[0;34m.\u001b[0m\u001b[0mwarning\u001b[0m\u001b[0;34m(\u001b[0m\u001b[0;34m\"Invalid Message:\"\u001b[0m\u001b[0;34m,\u001b[0m \u001b[0mexc_info\u001b[0m\u001b[0;34m=\u001b[0m\u001b[0;32mTrue\u001b[0m\u001b[0;34m)\u001b[0m\u001b[0;34m\u001b[0m\u001b[0;34m\u001b[0m\u001b[0m\n",
      "\u001b[0;31mKeyboardInterrupt\u001b[0m: Interrupted by user"
     ]
    }
   ],
   "source": [
    "jumlah_bilangan = int(input(\"Mau berapa bilangan yang dibandingkan? \"))\n",
    "bilangan_terbesar = int(input(\"Bilangan = \"))\n",
    "counter = 2\n",
    "\n",
    "while counter <= jumlah_bilangan:\n",
    "  bilangan = int(input(\"Bilangan = \"))\n",
    "\n",
    "  if bilangan_terbesar < bilangan:\n",
    "    bilangan_terbesar = bilangan\n",
    "\n",
    "  #anggap perintah counter += 1 tidak ada\n",
    "  #counter += 1\n",
    "\n",
    "print(\"Bilangan terbesar adalah\", bilangan_terbesar)"
   ]
  },
  {
   "cell_type": "markdown",
   "metadata": {
    "id": "ttMJQQazzL_o"
   },
   "source": [
    "Dalam kode program tersebut, perintah untuk increment counter dihilangkan. Hal itu mengakibatkan nilai counter selalu bernilai 2. Hal ini berimbas pada kondisi di perulangan While yang akan selalu bernilai True. Ketika kode program dijalankan, maka perulangan tidak akan berhenti. Program akan selalu meminta input bilangan berkali-kali. Oleh karena itu selalu pastikan infinite loop tidak terjadi."
   ]
  },
  {
   "cell_type": "markdown",
   "metadata": {
    "id": "KZpZmZsRzr_w"
   },
   "source": [
    "## Hands on Lab 8: Ganjil Genap\n",
    "\n",
    "Diberikan sejumlah bilangan yang jumlahnya ditentukan oleh pengguna, kemudian dari bilangan yang dimasukkan, tentukan ada berapa jumlah bilangan ganjil dan jumlah bilangan genap."
   ]
  },
  {
   "cell_type": "code",
   "execution_count": 20,
   "metadata": {
    "colab": {
     "base_uri": "https://localhost:8080/"
    },
    "executionInfo": {
     "elapsed": 9206,
     "status": "ok",
     "timestamp": 1627018186072,
     "user": {
      "displayName": "Adam Mukharil Bachtiar",
      "photoUrl": "https://lh3.googleusercontent.com/a-/AOh14GgJw6pmR0uaa0upvAW6cptf4bPmiEhm1MAS1rx45as=s64",
      "userId": "18309246717753247212"
     },
     "user_tz": -420
    },
    "id": "GS9Gbg5500pU",
    "outputId": "085bb834-2b1e-41c3-d79f-0822202ea3f1"
   },
   "outputs": [
    {
     "name": "stdout",
     "output_type": "stream",
     "text": [
      "Mau berapa bilangan? 3\n",
      "Bilangan = 10\n",
      "Bilangan = 11\n",
      "Bilangan = 12\n",
      "Jumlah bilangan ganjil = 1\n",
      "Jumlah bilangan genap = 2\n"
     ]
    }
   ],
   "source": [
    "jumlah_bilangan = int(input(\"Mau berapa bilangan? \"))\n",
    "counter = 1\n",
    "jumlah_bilangan_ganjil = 0\n",
    "jumlah_bilangan_genap = 0\n",
    "\n",
    "while counter <= jumlah_bilangan:\n",
    "  bilangan = int(input(\"Bilangan = \"))\n",
    "\n",
    "  if bilangan % 2 == 0:\n",
    "    jumlah_bilangan_genap += 1\n",
    "  else:\n",
    "    jumlah_bilangan_ganjil += 1\n",
    "\n",
    "  counter += 1\n",
    "\n",
    "print(\"Jumlah bilangan ganjil =\", jumlah_bilangan_ganjil)\n",
    "print(\"Jumlah bilangan genap =\",jumlah_bilangan_genap)"
   ]
  },
  {
   "cell_type": "markdown",
   "metadata": {
    "id": "xZ0TSm3f190Q"
   },
   "source": [
    "## Hands on Lab 9: Game tebak angka\n",
    "\n",
    "Dipilih sebuah angka yang akan ditebak oleh pengguna. Misal angka yang mau ditebak adalah 69. Program akan terus meminta pengguna untuk menebak angka sampai benar."
   ]
  },
  {
   "cell_type": "code",
   "execution_count": 21,
   "metadata": {
    "colab": {
     "base_uri": "https://localhost:8080/"
    },
    "executionInfo": {
     "elapsed": 13367,
     "status": "ok",
     "timestamp": 1627018683231,
     "user": {
      "displayName": "Adam Mukharil Bachtiar",
      "photoUrl": "https://lh3.googleusercontent.com/a-/AOh14GgJw6pmR0uaa0upvAW6cptf4bPmiEhm1MAS1rx45as=s64",
      "userId": "18309246717753247212"
     },
     "user_tz": -420
    },
    "id": "A8kOH-PG2iAw",
    "outputId": "d6881d5b-32ab-432a-8dfb-bceb67a3ba84"
   },
   "outputs": [
    {
     "name": "stdout",
     "output_type": "stream",
     "text": [
      "Hai para muggle, mari kita mainkan permainan tebak angka 0 - 100\n",
      "Tebak angka = 67\n",
      "Tebakan Anda terlalu kecil\n",
      "Tebak angka = 68\n",
      "Tebakan Anda terlalu kecil\n",
      "Tebak angka = 70\n",
      "Tebakan Anda terlalu besar\n",
      "Tebak angka = 69\n",
      "Kau hebat muggle. Selamat!!!\n"
     ]
    }
   ],
   "source": [
    "angka = 69\n",
    "\n",
    "print(\"Hai para muggle, mari kita mainkan permainan tebak angka 0 - 100\")\n",
    "bilangan = int(input(\"Tebak angka = \"))\n",
    "\n",
    "while bilangan != angka:\n",
    "  if bilangan > angka:\n",
    "    print(\"Tebakan Anda terlalu besar\")\n",
    "  elif bilangan < angka:\n",
    "    print(\"Tebakan Anda terlalu kecil\")\n",
    "\n",
    "  bilangan = int(input(\"Tebak angka = \"))\n",
    "\n",
    "print(\"Kau hebat muggle. Selamat!!!\")"
   ]
  },
  {
   "cell_type": "markdown",
   "metadata": {
    "id": "8hO0EWDE3xCl"
   },
   "source": [
    "## Statement for\n",
    "\n",
    "Selain menggunakan statement While, statement for juga bisa digunakan untuk membuat struktur perulangan di Python. Perbedaannya, statement for mempunyai batas perulangan yang sudah diketahui sedari awal sementara perulangan While berdasarkan kondisional tertentu.<br>\n",
    "\n",
    "Format dari statement for adalah:\n",
    "\n",
    "1. Statement for untuk perintah koleksi\n",
    "```python\n",
    "for indeks tipe koleksi:\n",
    "    statement1\n",
    "    statement2\n",
    "    ...\n",
    "```\n",
    "2. Statement for dengan rentang nilai tertentu\n",
    "```python\n",
    "for indeks in range (nilai_awal, nilai_akhir, step):\n",
    "    statement1\n",
    "    statement2\n",
    "    ...\n",
    "```"
   ]
  },
  {
   "cell_type": "code",
   "execution_count": 16,
   "metadata": {
    "colab": {
     "base_uri": "https://localhost:8080/"
    },
    "executionInfo": {
     "elapsed": 356,
     "status": "ok",
     "timestamp": 1627019097834,
     "user": {
      "displayName": "Adam Mukharil Bachtiar",
      "photoUrl": "https://lh3.googleusercontent.com/a-/AOh14GgJw6pmR0uaa0upvAW6cptf4bPmiEhm1MAS1rx45as=s64",
      "userId": "18309246717753247212"
     },
     "user_tz": -420
    },
    "id": "0xLrShHF5LpH",
    "outputId": "bce0319a-f515-487a-a611-3828f741b5f0"
   },
   "outputs": [
    {
     "name": "stdout",
     "output_type": "stream",
     "text": [
      "0\n",
      "1\n",
      "2\n",
      "3\n",
      "4\n"
     ]
    }
   ],
   "source": [
    "for angka in range(5):\n",
    "    print(angka)"
   ]
  },
  {
   "cell_type": "markdown",
   "metadata": {
    "id": "68vQw9lYMbyc"
   },
   "source": [
    "Perulangan for menggunakan range memiliki beberapa bentuk:\n",
    "\n",
    "1. range dengan 1 parameter\n",
    "2. range dengan 2 parameter\n",
    "3. range dengan 3 parameter\n"
   ]
  },
  {
   "cell_type": "markdown",
   "metadata": {
    "id": "IZYQsu5YMt2N"
   },
   "source": [
    "### Perulangan for dengan Range 1 parameter\n",
    "\n",
    "Format umum dari perulangan for dengan range 1 parameter adalah:\n",
    "\n",
    "```python\n",
    "for indeks in range(batas_perulangan_dimulai_dari_0):\n",
    "  instruksi dalam for\n",
    "```\n",
    "\n",
    "Bentuk perulangan for ini akan mengulang instruksi dalam for sebanyak parameter range-nya. Indeks akan dihitung mulai dari <B>0 sampai dengan paramater range dikurangi dengan satu</B>. Anda tidak salah baca! Jumlah perulangannya memang sesuai parameter range-nya akan tetapi indeks dimulai dari 0 sehingga pada kasus range(4) maka perulangan diulang 4 kali akan tetapi index akan menghitung mulai dari 0, 1, 2, 3 (berhenti)."
   ]
  },
  {
   "cell_type": "code",
   "execution_count": 23,
   "metadata": {
    "colab": {
     "base_uri": "https://localhost:8080/"
    },
    "executionInfo": {
     "elapsed": 410,
     "status": "ok",
     "timestamp": 1627285133924,
     "user": {
      "displayName": "Adam Mukharil Bachtiar",
      "photoUrl": "https://lh3.googleusercontent.com/a-/AOh14GgJw6pmR0uaa0upvAW6cptf4bPmiEhm1MAS1rx45as=s64",
      "userId": "18309246717753247212"
     },
     "user_tz": -420
    },
    "id": "MDfeeRfbOCbM",
    "outputId": "9031e56e-c992-46b8-c3d7-cf34582053eb"
   },
   "outputs": [
    {
     "name": "stdout",
     "output_type": "stream",
     "text": [
      "Nilai dari indeks sekarang adalah 1\n",
      "Nilai dari indeks sekarang adalah 2\n",
      "Nilai dari indeks sekarang adalah 3\n",
      "Nilai dari indeks sekarang adalah 4\n",
      "Nilai dari indeks sekarang adalah 5\n",
      "Nilai dari indeks sekarang adalah 6\n",
      "Nilai dari indeks sekarang adalah 7\n",
      "Nilai dari indeks sekarang adalah 8\n",
      "Nilai dari indeks sekarang adalah 9\n",
      "Nilai dari indeks sekarang adalah 10\n"
     ]
    }
   ],
   "source": [
    "for i in range(10):\n",
    "    print(\"Nilai dari indeks sekarang adalah\", i + 1)"
   ]
  },
  {
   "cell_type": "markdown",
   "metadata": {
    "id": "1UDsHnRQOaKE"
   },
   "source": [
    "### Perulangan for dengan Range 2 parameter\n",
    "\n",
    "Format umum dari perulangan for dengan range 2 paramater adalah:\n",
    "\n",
    "```python\n",
    "for indeks in range (indeks_mulai, indeks_pertama_yang_tidak_diulang):\n",
    "  instruksi dalam for\n",
    "```\n",
    "\n"
   ]
  },
  {
   "cell_type": "code",
   "execution_count": 19,
   "metadata": {
    "colab": {
     "base_uri": "https://localhost:8080/"
    },
    "executionInfo": {
     "elapsed": 326,
     "status": "ok",
     "timestamp": 1627075334654,
     "user": {
      "displayName": "Adam Mukharil Bachtiar",
      "photoUrl": "https://lh3.googleusercontent.com/a-/AOh14GgJw6pmR0uaa0upvAW6cptf4bPmiEhm1MAS1rx45as=s64",
      "userId": "18309246717753247212"
     },
     "user_tz": -420
    },
    "id": "vUB4sycwO_e9",
    "outputId": "b326fd5f-c24d-4969-bdf0-fcd414027430"
   },
   "outputs": [
    {
     "name": "stdout",
     "output_type": "stream",
     "text": [
      "Nilai i sekarang = 3\n",
      "Nilai i sekarang = 4\n",
      "Nilai i sekarang = 5\n",
      "Nilai i sekarang = 6\n"
     ]
    }
   ],
   "source": [
    "for i in range(3, 7):\n",
    "  print(\"Nilai i sekarang =\", i)"
   ]
  },
  {
   "cell_type": "markdown",
   "metadata": {
    "id": "DcIU3FJaP_vJ"
   },
   "source": [
    "Terlihat pada contoh kode program tersebut, parameter kedua yaitu 7 tidak muncul di dalam hasil eksekusi kode program. "
   ]
  },
  {
   "cell_type": "code",
   "execution_count": 24,
   "metadata": {
    "id": "7tvaeB1AR9mE"
   },
   "outputs": [],
   "source": [
    "# apakah muncul sesuatu? Kenapa terjadi hal tersebut?\n",
    "for i in range(1,1):\n",
    "  print(i)"
   ]
  },
  {
   "cell_type": "markdown",
   "metadata": {
    "id": "Bs9nFXgKQV6V"
   },
   "source": [
    "### Perulangan for dengan Range 3 parameter\n",
    "\n",
    "Format umum dari perulangan for dengan range 3 parameter adalah:\n",
    "\n",
    "```python\n",
    "  for indeks in range(indeks_mulai, indeks_pertama_yang_tidak_diulang, increment):\n",
    "    instruksi dalam for\n",
    "```\n",
    "\n",
    "Argumen/parameter ketiga adalah increment dimana increment akan digunakan sebagai peningkat indeks. Misal nilai increment kita isi 2, maka indeks akan bertambah dua setiap kali perulangan dieksekusi kembali. Untuk mudah membayangkan silakan lihat format berikut:\n",
    "\n",
    "```python\n",
    "#jika increment diisi 2 maka\n",
    "indeks += 2\n",
    "\n",
    "#jika increment diisi 3 maka\n",
    "indeks += 3\n",
    "```"
   ]
  },
  {
   "cell_type": "code",
   "execution_count": 20,
   "metadata": {
    "colab": {
     "base_uri": "https://localhost:8080/"
    },
    "executionInfo": {
     "elapsed": 346,
     "status": "ok",
     "timestamp": 1627075824374,
     "user": {
      "displayName": "Adam Mukharil Bachtiar",
      "photoUrl": "https://lh3.googleusercontent.com/a-/AOh14GgJw6pmR0uaa0upvAW6cptf4bPmiEhm1MAS1rx45as=s64",
      "userId": "18309246717753247212"
     },
     "user_tz": -420
    },
    "id": "eUC4ZcXQRl7O",
    "outputId": "40f62311-6d99-46fe-c8cd-75d2320f7f77"
   },
   "outputs": [
    {
     "name": "stdout",
     "output_type": "stream",
     "text": [
      "Nilai i sekarang = 2\n",
      "Nilai i sekarang = 5\n",
      "Nilai i sekarang = 8\n",
      "Nilai i sekarang = 11\n",
      "Nilai i sekarang = 14\n",
      "Nilai i sekarang = 17\n"
     ]
    }
   ],
   "source": [
    "for i in range(2, 18, 3):\n",
    "  print(\"Nilai i sekarang =\", i)"
   ]
  },
  {
   "cell_type": "markdown",
   "metadata": {
    "id": "j_yJHeHFSedm"
   },
   "source": [
    "### Hands on lab 10: Missisipi dengan jeda\n",
    "\n",
    "Munculkan kata ``\"indeks Missisipi\"`` (indeks berupa integer mulai dari 0 dan naik sebanyak 1 setiap perulangan) dengan memberikan jeda 1 detik antar kemunculan kata tersebut. Setelah perulangan berakhir, munculkan pesan ``\"Ready or not, here I come!\"`` Format dasar kasus ini adalah:\n",
    "\n",
    "```python\n",
    "import time\n",
    "\n",
    "# Write a for loop that counts to five.\n",
    "    # Body of the loop - print the loop iteration number and the word \"Mississippi\".\n",
    "    # Body of the loop - use: time.sleep(1)\n",
    "\n",
    "# Write a print function with the final message.\n",
    "```\n"
   ]
  },
  {
   "cell_type": "code",
   "execution_count": 27,
   "metadata": {
    "colab": {
     "base_uri": "https://localhost:8080/"
    },
    "executionInfo": {
     "elapsed": 5427,
     "status": "ok",
     "timestamp": 1627076340104,
     "user": {
      "displayName": "Adam Mukharil Bachtiar",
      "photoUrl": "https://lh3.googleusercontent.com/a-/AOh14GgJw6pmR0uaa0upvAW6cptf4bPmiEhm1MAS1rx45as=s64",
      "userId": "18309246717753247212"
     },
     "user_tz": -420
    },
    "id": "SCGAGdEwTdg8",
    "outputId": "d88a5853-a088-4fd3-fa94-b82db6f4f65d"
   },
   "outputs": [
    {
     "name": "stdout",
     "output_type": "stream",
     "text": [
      "0  Missisipi\n",
      "1  Missisipi\n",
      "2  Missisipi\n",
      "3  Missisipi\n",
      "4  Missisipi\n",
      "Ready or not, here I come!\n"
     ]
    }
   ],
   "source": [
    "import time\n",
    "\n",
    "for i in range(5):\n",
    "  print(i,\" Missisipi\")\n",
    "  time.sleep(2)\n",
    "\n",
    "print(\"Ready or not, here I come!\")"
   ]
  },
  {
   "cell_type": "markdown",
   "metadata": {
    "id": "re_D_N68TzWC"
   },
   "source": [
    "## Kata Kunci break dan continue\n",
    "\n",
    "Perulangan pada python memiliki dua kata kunci tambahan yang bisa digunakan, yaitu <B>break dan continue</B>. Kegunaannya adalah:\n",
    "\n",
    "1. <B>break</B>: kata kunci ini akan menghentikan proses perulangan yang sedang berjalan tanpa memperhatikan kondisi perulangan. Eksekusi setelahnya adalah eksekusi baris setelah blok for.\n",
    "2. <B>continue</B>: Statement continue berguna untuk memaksa pengulangan agar memroses indeks selanjutnya meskipun statement didalam blok pengulangan sebenarna belum semua di eksekusi. Dengan kata lain, statement yang ada dibawah statement continue akan diabaikan (tidak dieksekusi).\n",
    "\n",
    "Contoh penggunaan break seperti pada kasus berikut:"
   ]
  },
  {
   "cell_type": "code",
   "execution_count": 21,
   "metadata": {
    "colab": {
     "base_uri": "https://localhost:8080/"
    },
    "executionInfo": {
     "elapsed": 333,
     "status": "ok",
     "timestamp": 1627076706679,
     "user": {
      "displayName": "Adam Mukharil Bachtiar",
      "photoUrl": "https://lh3.googleusercontent.com/a-/AOh14GgJw6pmR0uaa0upvAW6cptf4bPmiEhm1MAS1rx45as=s64",
      "userId": "18309246717753247212"
     },
     "user_tz": -420
    },
    "id": "VC352jiqU33a",
    "outputId": "babb752f-2fdd-4c0d-8a88-07725bc1b74d"
   },
   "outputs": [
    {
     "name": "stdout",
     "output_type": "stream",
     "text": [
      "0 1 2 3 4 5 6 7 Masih dalam for \n"
     ]
    }
   ],
   "source": [
    "for i in range (11):\n",
    "  print(i,end=' ')\n",
    "  \n",
    "  if i == 7:\n",
    "    print(\"Masih dalam for \")\n",
    "    break"
   ]
  },
  {
   "cell_type": "markdown",
   "metadata": {
    "id": "_vsdQcdEVLhX"
   },
   "source": [
    "Perulangan seharusnya terjadi 11 kali dan indeks terakhir yang muncul adalah 10, akan tetapi karena ada perintah break yang dieksekusi ketika indeks i sama dengan 7, maka indeks i setelah 7 tidak akan dieksekusi.\n",
    "\n",
    "Contoh penggunaan continue adalah sebagai berikut:\n"
   ]
  },
  {
   "cell_type": "code",
   "execution_count": 28,
   "metadata": {
    "colab": {
     "base_uri": "https://localhost:8080/"
    },
    "executionInfo": {
     "elapsed": 457,
     "status": "ok",
     "timestamp": 1627077064364,
     "user": {
      "displayName": "Adam Mukharil Bachtiar",
      "photoUrl": "https://lh3.googleusercontent.com/a-/AOh14GgJw6pmR0uaa0upvAW6cptf4bPmiEhm1MAS1rx45as=s64",
      "userId": "18309246717753247212"
     },
     "user_tz": -420
    },
    "id": "5HKUn2IVVi7N",
    "outputId": "4a191885-00ed-40a6-a0da-a1eb34200d83"
   },
   "outputs": [
    {
     "name": "stdout",
     "output_type": "stream",
     "text": [
      "1\t3\t5\t7\t9\t"
     ]
    }
   ],
   "source": [
    "for i in range (1,11):\n",
    "  if i % 2 ==0:\n",
    "      continue\n",
    "  print(i, end='\\t')"
   ]
  },
  {
   "cell_type": "markdown",
   "metadata": {
    "id": "7oIeqU7yWflZ"
   },
   "source": [
    "Terlihat pada eksekusi program tersebut, angka genap tidak muncul karena eksekusi perintah print() dilewati ketika indeks i bernilai genap."
   ]
  },
  {
   "cell_type": "markdown",
   "metadata": {
    "id": "DeoPWm05XK6G"
   },
   "source": [
    "## Contoh-Contoh Lain Penggunaan Break\n"
   ]
  },
  {
   "cell_type": "code",
   "execution_count": 29,
   "metadata": {
    "colab": {
     "base_uri": "https://localhost:8080/"
    },
    "executionInfo": {
     "elapsed": 338,
     "status": "ok",
     "timestamp": 1627077309357,
     "user": {
      "displayName": "Adam Mukharil Bachtiar",
      "photoUrl": "https://lh3.googleusercontent.com/a-/AOh14GgJw6pmR0uaa0upvAW6cptf4bPmiEhm1MAS1rx45as=s64",
      "userId": "18309246717753247212"
     },
     "user_tz": -420
    },
    "id": "HXx5dJ1uXSpo",
    "outputId": "3d2d9400-c04f-42f2-ec5c-bc768da81082"
   },
   "outputs": [
    {
     "name": "stdout",
     "output_type": "stream",
     "text": [
      "The break instruction:\n",
      "Inside the loop. 1\n",
      "Inside the loop. 2\n",
      "Outside the loop.\n"
     ]
    }
   ],
   "source": [
    "# break - example\n",
    "\n",
    "print(\"The break instruction:\")\n",
    "\n",
    "for i in range(1, 6):\n",
    "  if i == 3:\n",
    "      break\n",
    "  print(\"Inside the loop.\", i)\n",
    "  \n",
    "print(\"Outside the loop.\")"
   ]
  },
  {
   "cell_type": "code",
   "execution_count": null,
   "metadata": {
    "colab": {
     "base_uri": "https://localhost:8080/"
    },
    "executionInfo": {
     "elapsed": 19273,
     "status": "ok",
     "timestamp": 1627077382035,
     "user": {
      "displayName": "Adam Mukharil Bachtiar",
      "photoUrl": "https://lh3.googleusercontent.com/a-/AOh14GgJw6pmR0uaa0upvAW6cptf4bPmiEhm1MAS1rx45as=s64",
      "userId": "18309246717753247212"
     },
     "user_tz": -420
    },
    "id": "aNOVe-4FXY0Q",
    "outputId": "5d0bb72a-0df3-4daa-c34d-4a3db1f1811c"
   },
   "outputs": [],
   "source": [
    "largestNumber = -99999999\n",
    "counter = 0\n",
    "\n",
    "while True:\n",
    "  number = int(input(\"Enter a number or type -1 to end program: \"))\n",
    "  if number == -1:\n",
    "    break\n",
    "\n",
    "  counter += 1\n",
    "  if number > largestNumber:\n",
    "    largestNumber = number\n",
    "\n",
    "if counter != 0:\n",
    "  print(\"The largest number is\", largestNumber)\n",
    "else:\n",
    "  print(\"You haven't entered any number.\")"
   ]
  },
  {
   "cell_type": "markdown",
   "metadata": {
    "id": "jB4XSWOiXviW"
   },
   "source": [
    "## Contoh-Contoh Lain Penggunaan Continue"
   ]
  },
  {
   "cell_type": "code",
   "execution_count": null,
   "metadata": {
    "colab": {
     "base_uri": "https://localhost:8080/"
    },
    "executionInfo": {
     "elapsed": 431,
     "status": "ok",
     "timestamp": 1627077565411,
     "user": {
      "displayName": "Adam Mukharil Bachtiar",
      "photoUrl": "https://lh3.googleusercontent.com/a-/AOh14GgJw6pmR0uaa0upvAW6cptf4bPmiEhm1MAS1rx45as=s64",
      "userId": "18309246717753247212"
     },
     "user_tz": -420
    },
    "id": "q4L03RKxX1YJ",
    "outputId": "69d3e8ca-6a46-49fc-dbec-8b60690bc059"
   },
   "outputs": [],
   "source": [
    "# continue - example\n",
    "print(\"The continue instruction:\")\n",
    "\n",
    "for i in range(1, 6):\n",
    "  if i == 3:\n",
    "    continue\n",
    "\n",
    "  print(\"Inside the loop.\", i)\n",
    "\n",
    "print(\"Outside the loop.\")"
   ]
  },
  {
   "cell_type": "code",
   "execution_count": null,
   "metadata": {
    "colab": {
     "base_uri": "https://localhost:8080/"
    },
    "executionInfo": {
     "elapsed": 7654,
     "status": "ok",
     "timestamp": 1627077637225,
     "user": {
      "displayName": "Adam Mukharil Bachtiar",
      "photoUrl": "https://lh3.googleusercontent.com/a-/AOh14GgJw6pmR0uaa0upvAW6cptf4bPmiEhm1MAS1rx45as=s64",
      "userId": "18309246717753247212"
     },
     "user_tz": -420
    },
    "id": "CooBxtr8Ydyk",
    "outputId": "bda2e272-0aea-4f73-b0f9-7b56e99278c0"
   },
   "outputs": [],
   "source": [
    "largestNumber = -99999999\n",
    "counter = 0\n",
    "\n",
    "number = int(input(\"Enter a number or type -1 to end program: \"))\n",
    "\n",
    "while number != -1:\n",
    "  if number == -1:\n",
    "    continue\n",
    "  counter += 1\n",
    "\n",
    "  if number > largestNumber:\n",
    "    largestNumber = number\n",
    "  number = int(input(\"Enter a number or type -1 to end program: \"))\n",
    "\n",
    "if counter:\n",
    "  print(\"The largest number is\", largestNumber)\n",
    "else:\n",
    "  print(\"You haven't entered any number.\")"
   ]
  },
  {
   "cell_type": "markdown",
   "metadata": {
    "id": "jnQxxKrcYvnj"
   },
   "source": [
    "## Hands on Lab 11: Stuck in a loop (break)\n",
    "\n",
    "Desain sebuah kode program yang menggunakan perulangan while yang mengandung kata kunci break dan secara kontinu meminta pengguna untuk memasukkan kata selama kata yang diinput bukan \"chupacabra\". Ini mirip seperti kasus tebak angka sebelumnya."
   ]
  },
  {
   "cell_type": "code",
   "execution_count": null,
   "metadata": {
    "colab": {
     "base_uri": "https://localhost:8080/"
    },
    "executionInfo": {
     "elapsed": 10524,
     "status": "ok",
     "timestamp": 1627077903066,
     "user": {
      "displayName": "Adam Mukharil Bachtiar",
      "photoUrl": "https://lh3.googleusercontent.com/a-/AOh14GgJw6pmR0uaa0upvAW6cptf4bPmiEhm1MAS1rx45as=s64",
      "userId": "18309246717753247212"
     },
     "user_tz": -420
    },
    "id": "0NP52Xr3ZUZh",
    "outputId": "9f4b3fd4-3d69-49dd-dd2c-042c9d6f6ea4"
   },
   "outputs": [],
   "source": [
    "while True:\n",
    "  word = input(\"Masukkan Sebuah Kata untuk keluar dari perulangan = \")\n",
    "  if(word==\"chupacabra\"):\n",
    "      break\n",
    "        \n",
    "print(\"Selamat, kamu sukses menebak kata rahasia\")"
   ]
  },
  {
   "cell_type": "markdown",
   "metadata": {
    "id": "2FuiT9UfZ63i"
   },
   "source": [
    "## Hands on Lab 12: Penghilang Huruf Vocal\n",
    "\n",
    "Hilangkan seluruh huruf vokal (A, I, U, E, O) pada kata yang dimasukkan pengguna. Libatkan kata kunci continue pada perulangannya. Format dasar kode programnya adalah:\n",
    "\n",
    "```python\n",
    "# Prompt the user to enter a word\n",
    "# and assign it to the userWord variable.\n",
    "\n",
    "for letter in userWord:\n",
    "    # Complete the body of the for loop.\n",
    "```\n",
    "\n",
    "Test data\n",
    "\n",
    "Sample input: `Gregory`\n",
    "\n",
    "Expected output:\n",
    "```\n",
    "G\n",
    "R\n",
    "G\n",
    "R\n",
    "Y\n",
    "```\n",
    "Sample input: `abstemious`\n",
    "\n",
    "Expected output:\n",
    "```\n",
    "B\n",
    "S\n",
    "T\n",
    "M\n",
    "S\n",
    "```\n",
    "\n",
    "Jawaban dari Hands on Lab ini bisa menggunakan dua konsep, yaitu konsep if-elif-else atau menggunakan konsep List. Konsep List akan membuat kode program menjadi ringkas dan rapi. Mari kita selesaikan dulu dengan if-elif-else:"
   ]
  },
  {
   "cell_type": "code",
   "execution_count": null,
   "metadata": {
    "colab": {
     "base_uri": "https://localhost:8080/"
    },
    "executionInfo": {
     "elapsed": 8625,
     "status": "ok",
     "timestamp": 1627078884640,
     "user": {
      "displayName": "Adam Mukharil Bachtiar",
      "photoUrl": "https://lh3.googleusercontent.com/a-/AOh14GgJw6pmR0uaa0upvAW6cptf4bPmiEhm1MAS1rx45as=s64",
      "userId": "18309246717753247212"
     },
     "user_tz": -420
    },
    "id": "7fm0dKNWcn4k",
    "outputId": "af4ca739-5ef6-491d-edc0-a8536a6bb78a"
   },
   "outputs": [],
   "source": [
    "# Prompt the user to enter a word\n",
    "# and assign it to the userWord variable.\n",
    "userWord = input(\"Masukkan sebuah kata = \")\n",
    "\n",
    "for letter in userWord:\n",
    "    # Complete the body of the for loop.\n",
    "    if letter.upper() == \"A\":\n",
    "      continue\n",
    "    elif letter.upper() == \"I\":\n",
    "      continue\n",
    "    elif letter.upper() == \"U\":\n",
    "      continue\n",
    "    elif letter.upper() == \"E\":\n",
    "      continue\n",
    "    else:\n",
    "      print(letter.upper())"
   ]
  },
  {
   "cell_type": "markdown",
   "metadata": {
    "id": "iHQ6yc1TdaKS"
   },
   "source": [
    "atau bisa juga dalam bentuk if menggunakan operator <B>OR</B>:"
   ]
  },
  {
   "cell_type": "code",
   "execution_count": null,
   "metadata": {
    "colab": {
     "base_uri": "https://localhost:8080/"
    },
    "executionInfo": {
     "elapsed": 5104,
     "status": "ok",
     "timestamp": 1627079022570,
     "user": {
      "displayName": "Adam Mukharil Bachtiar",
      "photoUrl": "https://lh3.googleusercontent.com/a-/AOh14GgJw6pmR0uaa0upvAW6cptf4bPmiEhm1MAS1rx45as=s64",
      "userId": "18309246717753247212"
     },
     "user_tz": -420
    },
    "id": "ByqD5YXldjaU",
    "outputId": "9920986c-1f27-4564-a8b5-375ec6da1842"
   },
   "outputs": [],
   "source": [
    "# Prompt the user to enter a word\n",
    "# and assign it to the userWord variable.\n",
    "userWord = input(\"Masukkan sebuah kata = \")\n",
    "\n",
    "for letter in userWord:\n",
    "    # Complete the body of the for loop.\n",
    "    if letter.upper() == \"A\" or letter.upper() == \"I\" or letter.upper() == \"U\" or letter.upper() == \"E\" or letter.upper() == \"O\":\n",
    "      continue\n",
    "    else:\n",
    "      print(letter.upper())"
   ]
  },
  {
   "cell_type": "markdown",
   "metadata": {
    "id": "o_dxCEs8d9CK"
   },
   "source": [
    "Mari kita rapikan dengan menggunakan konsep LIST:"
   ]
  },
  {
   "cell_type": "code",
   "execution_count": null,
   "metadata": {
    "id": "lGfef0ugarTL"
   },
   "outputs": [],
   "source": [
    "# Prompt the user to enter a word\n",
    "# and assign it to the userWord variable.\n",
    "userWord = input(\"Masukkan sebuah kata = \")\n",
    "\n",
    "for letter in userWord:\n",
    "  if letter.upper() in ['A','I','U','E','O']:\n",
    "    continue\n",
    "    \n",
    "  print(letter.upper())"
   ]
  },
  {
   "cell_type": "code",
   "execution_count": null,
   "metadata": {
    "id": "w4v7he36a4VG"
   },
   "outputs": [],
   "source": [
    "Pada kode program tersebut, ada beberapa konsep yang belum dipelajari. Tapi tenang, penjelasannya mudah:\n",
    "\n",
    "1. Fungsi ``upper()`` digunakan untuk membuat karakter atau String menjadi huruf kapital (Uppercase). Fungsi ini digunakan untuk mempermudah proses perbandingan karakter.\n",
    "2. ``['A','I','U','E','O']]`` adalah sebuah <B>LIST</B> di dalam bahasa Python. Kita akan mempelajari ini sebentar lagi.\n",
    "3. Perintah for letter in userWord digunakan untuk melakukan perulangan untuk setiap kata yang ada di kata yang pengguna input. Python memiliki fitur untuk memecah setiap karakter di dalam String.\n",
    "\n",
    "Penjelasan lanjut untuk poin 3:"
   ]
  },
  {
   "cell_type": "code",
   "execution_count": null,
   "metadata": {
    "colab": {
     "base_uri": "https://localhost:8080/"
    },
    "executionInfo": {
     "elapsed": 407,
     "status": "ok",
     "timestamp": 1627079769522,
     "user": {
      "displayName": "Adam Mukharil Bachtiar",
      "photoUrl": "https://lh3.googleusercontent.com/a-/AOh14GgJw6pmR0uaa0upvAW6cptf4bPmiEhm1MAS1rx45as=s64",
      "userId": "18309246717753247212"
     },
     "user_tz": -420
    },
    "id": "pFhHlqRqgoKW",
    "outputId": "007028ee-47fd-46ee-e537-9db3fed7e92b"
   },
   "outputs": [],
   "source": [
    "kata = \"SELAMAT DATANG\"\n",
    "\n",
    "for huruf in kata:\n",
    "  print(huruf)"
   ]
  },
  {
   "cell_type": "markdown",
   "metadata": {
    "id": "FjGIhKTSeiQA"
   },
   "source": [
    "## Kata Kunci else pada Perulangan while\n",
    "\n",
    "Format umum dari penggunaan kata kunci else di perulangan while adalah:\n",
    "\n",
    "```python\n",
    "counter = nilai\n",
    "\n",
    "while kondisi:\n",
    "  blok instruksi while\n",
    "else:\n",
    "  blok instruksi else\n",
    "```\n",
    "\n",
    "Blok instruksi else <B>akan selalu dijalankan</B> walaupun blok instruksi di perulangan while tidak berjalan sama sekali karena kondisinya langsung bernilai False di awal."
   ]
  },
  {
   "cell_type": "code",
   "execution_count": 23,
   "metadata": {
    "colab": {
     "base_uri": "https://localhost:8080/"
    },
    "executionInfo": {
     "elapsed": 361,
     "status": "ok",
     "timestamp": 1627080996730,
     "user": {
      "displayName": "Adam Mukharil Bachtiar",
      "photoUrl": "https://lh3.googleusercontent.com/a-/AOh14GgJw6pmR0uaa0upvAW6cptf4bPmiEhm1MAS1rx45as=s64",
      "userId": "18309246717753247212"
     },
     "user_tz": -420
    },
    "id": "iXZHIaQFkyWJ",
    "outputId": "5ff53eef-3e4f-427c-8183-1d7d6663f303"
   },
   "outputs": [
    {
     "name": "stdout",
     "output_type": "stream",
     "text": [
      "1\n",
      "2\n",
      "3\n",
      "4\n",
      "else: 5\n"
     ]
    }
   ],
   "source": [
    "i = 1\n",
    "while i < 5:\n",
    "  print(i)\n",
    "  i += 1\n",
    "else:\n",
    "  print(\"else:\", i)"
   ]
  },
  {
   "cell_type": "markdown",
   "metadata": {
    "id": "3rNz6e-Bk3NH"
   },
   "source": [
    "## Kata Kunci else pada Perulangan for\n",
    "\n",
    "Format umum dari penggunaan kata kunci else di perulangan for adalah:\n",
    "\n",
    "```python\n",
    "for indeks in range():\n",
    "  blok instruksi for\n",
    "else:\n",
    "  blok instruksi else\n",
    "```\n",
    "\n",
    "Konsep else di perulangan for sama dengan konsep yang ada di perulangan while. Blok instruksi else akan tetap dijalankan walaupun blok instruksi for tidak dijalankan sama sekali."
   ]
  },
  {
   "cell_type": "code",
   "execution_count": 30,
   "metadata": {
    "colab": {
     "base_uri": "https://localhost:8080/"
    },
    "executionInfo": {
     "elapsed": 417,
     "status": "ok",
     "timestamp": 1627081116069,
     "user": {
      "displayName": "Adam Mukharil Bachtiar",
      "photoUrl": "https://lh3.googleusercontent.com/a-/AOh14GgJw6pmR0uaa0upvAW6cptf4bPmiEhm1MAS1rx45as=s64",
      "userId": "18309246717753247212"
     },
     "user_tz": -420
    },
    "id": "tLeUhDMYlrdv",
    "outputId": "d95fce2b-92ea-4897-b680-a8b540adfacc"
   },
   "outputs": [
    {
     "name": "stdout",
     "output_type": "stream",
     "text": [
      "Hai, aku tetap jalan!\n"
     ]
    }
   ],
   "source": [
    "for i in range(3,1):\n",
    "  print(i)\n",
    "else:\n",
    "  print(\"Hai, aku tetap jalan!\")"
   ]
  },
  {
   "cell_type": "markdown",
   "metadata": {
    "id": "C_vLt1Gol8IX"
   },
   "source": [
    "## Hands on Lab 13: Jumlah blok dalam piramida\n",
    "\n",
    "Piramida terbentuk dari susunan blok dimana susunan blok tersebut mengikuti aturan: ``\"Setiap layer yang lebih rendah memiliki satu blok lebih dibandingkan layer di atasnya\"``. Ilustrasinya sebagai berikut:\n",
    "\n",
    "<img src =\"https://wcs.smartdraw.com/pyramid-charts/examples/block-pyramid.png?bn=15100111799\" alt = \"Gambar Piramida\"> \n",
    "\n",
    "Buatlah program untuk menghitung berapa tinggi maksimal piramida yang bisa dihasilkan dari sejumlah blok yang di-input oleh pengguna.\n",
    "\n",
    "Test Case:\n",
    "\n",
    "```\n",
    "Sample input: 6\n",
    "\n",
    "Expected output: The height of the pyramid: 3\n",
    "\n",
    "Sample input: 20\n",
    "\n",
    "Expected output: The height of the pyramid: 5\n",
    "\n",
    "Sample input: 1000\n",
    "\n",
    "Expected output: The height of the pyramid: 44\n",
    "\n",
    "Sample input: 2\n",
    "\n",
    "Expected output: The height of the pyramid: 1\n",
    "```"
   ]
  },
  {
   "cell_type": "code",
   "execution_count": null,
   "metadata": {
    "id": "gvIPxGyCnCEu"
   },
   "outputs": [],
   "source": [
    "blocks = int(input(\"Enter the number of blocks: \"))\n",
    "current_block = 0\n",
    "height = 0\n",
    "\n",
    "while i<blocks:\n",
    "  height += 1\n",
    "  current_block += height\n",
    "  \n",
    "  # print(i,current_block)\n",
    "  if current_block> blocks:\n",
    "      break\n",
    "\n",
    "height -= 1\n",
    "\n",
    "print(\"The height of the pyramid:\", height)"
   ]
  },
  {
   "cell_type": "markdown",
   "metadata": {
    "id": "nRzdtlg0kvXi"
   },
   "source": [
    "## Hands on Lab 14: Collatz's Hypotesis\n",
    "\n",
    "Dalam domain matematika, dikenal sebuah teori bernama Collatz's hypotesis. Isi hipotesisnya adalah:\n",
    "\n",
    "1. Pilih sebuah angka non-negative dan bukan 0 dari tipe integer dan beri nama ``c0``.\n",
    "2. Jika ``c0`` adalah bilangan genap, evaluasi ``c0 menjadi c0 dibagi 2``\n",
    "3. Jika ``c0`` adalah bilangan ganjil, evaluasi ``c0 menjadi 3 x c0 + 1``\n",
    "4. jika ``c0`` tidak sama dengan 1 maka lanjutkan langkah sampai ``c0 = 1``.\n",
    "\n",
    "Hipotesisnya mengatakan bahwa apapun input angka di awal, akan selalu kembali menuju 1.\n",
    "\n",
    "Buatlah kode programnya!\n",
    "\n",
    "Test Case:\n",
    "\n",
    "```\n",
    "Sample input: 15\n",
    "\n",
    "Expected output:\n",
    "\n",
    "46\n",
    "23\n",
    "70\n",
    "35\n",
    "106\n",
    "53\n",
    "160\n",
    "80\n",
    "40\n",
    "20\n",
    "10\n",
    "5\n",
    "16\n",
    "8\n",
    "4\n",
    "2\n",
    "1\n",
    "steps = 17\n",
    "\n",
    "\n",
    "Sample input: 16\n",
    "\n",
    "Expected output:\n",
    "\n",
    "8\n",
    "4\n",
    "2\n",
    "1\n",
    "steps = 4\n",
    "\n",
    "\n",
    "Sample input: 1023\n",
    "\n",
    "Expected output:\n",
    "\n",
    "3070\n",
    "1535\n",
    "4606\n",
    "2303\n",
    "6910\n",
    "3455\n",
    "10366\n",
    "5183\n",
    "15550\n",
    "7775\n",
    "23326\n",
    "11663\n",
    "34990\n",
    "17495\n",
    "52486\n",
    "26243\n",
    "78730\n",
    "39365\n",
    "118096\n",
    "59048\n",
    "29524\n",
    "14762\n",
    "7381\n",
    "22144\n",
    "11072\n",
    "5536\n",
    "2768\n",
    "1384\n",
    "692\n",
    "346\n",
    "173\n",
    "520\n",
    "260\n",
    "130\n",
    "65\n",
    "196\n",
    "98\n",
    "49\n",
    "148\n",
    "74\n",
    "37\n",
    "112\n",
    "56\n",
    "28\n",
    "14\n",
    "7\n",
    "22\n",
    "11\n",
    "34\n",
    "17\n",
    "52\n",
    "26\n",
    "13\n",
    "40\n",
    "20\n",
    "10\n",
    "5\n",
    "16\n",
    "8\n",
    "4\n",
    "2\n",
    "1\n",
    "steps = 62\n",
    "```"
   ]
  },
  {
   "cell_type": "code",
   "execution_count": null,
   "metadata": {
    "colab": {
     "base_uri": "https://localhost:8080/"
    },
    "executionInfo": {
     "elapsed": 6015,
     "status": "ok",
     "timestamp": 1627098648689,
     "user": {
      "displayName": "Adam Mukharil Bachtiar",
      "photoUrl": "https://lh3.googleusercontent.com/a-/AOh14GgJw6pmR0uaa0upvAW6cptf4bPmiEhm1MAS1rx45as=s64",
      "userId": "18309246717753247212"
     },
     "user_tz": -420
    },
    "id": "RCBpz5bXn6wi",
    "outputId": "237f6122-3777-4e38-a8ef-2ad4cbe55a96"
   },
   "outputs": [],
   "source": [
    "c0 = int(input(\"Masukkan angka: \"))\n",
    "steps = 0\n",
    "\n",
    "while c0 != 1:\n",
    "  if c0 % 2 == 0:\n",
    "    c0 //= 2\n",
    "  else:\n",
    "    c0 = 3 * c0 + 1\n",
    "\n",
    "  print(c0)\n",
    "  steps += 1\n",
    "\n",
    "print(\"Steps = \", steps)"
   ]
  },
  {
   "cell_type": "markdown",
   "metadata": {
    "id": "sGphUnbCpH4M"
   },
   "source": [
    "## Latihan\n",
    "\n",
    "1. Buatlah perulangan dengan menggunakan for yang mulai dari 0 sampai dengan 10, dan cetak nomor ganjil pada layar.\n",
    "2. Buatlah perulangan dengan menggunakan while dari 0 sampai dengan 10, dan cetak nomor ganjil pada layar\n",
    "3. Buatlah sebuah program dengan perulangan for dan statement break. Program harus diiterasi sebanyak jumlah karakter didalam sebuah alamat email, dan loop akan berhenti jika menemukan simbol '@' dan cetak karakter yang ditemukan sebelum simbol '@' didalam sebuah line \n",
    "4. Buatlah sebuah perulangan loop dan statement continue. Program harus diiterasi sebanyak nomor yang ditemukan dalam string (digit = \"0165031806510\"), ganti 0 dengan x, lalu cetak string yang telah dimodifikasi.\n",
    "5. Apa output dari kode program ini:\n",
    "\n",
    "    ```python\n",
    "    n = 3\n",
    "\n",
    "    while n > 0:\n",
    "      print(n + 1)\n",
    "      n -= 1\n",
    "    else:\n",
    "      print(n) \n",
    "    ```\n",
    "6. Apa output dari kode program ini:\n",
    "\n",
    "    ```python\n",
    "    n = range(4)\n",
    "\n",
    "    for num in n:\n",
    "      print(num - 1)\n",
    "    else:\n",
    "      print(num) \n",
    "    ```\n",
    "7. Apa output dari kode program ini:\n",
    "\n",
    "    ```python\n",
    "    for i in range(0, 6, 3):\n",
    "      print(i)\n",
    "    ```\n",
    "    "
   ]
  },
  {
   "cell_type": "markdown",
   "metadata": {
    "id": "GKVIwgcCqnpR"
   },
   "source": [
    "# Operator Logika\n",
    "\n",
    "Tipe data Boolean bisa dioperasikan menggunakan operator logika. Operator logika di Python adalah:\n",
    "\n",
    "1. Operator logika ``and``\n",
    "2. Operator logika ``or``\n",
    "3. Operator logika ``not``\n",
    "\n",
    "Berikut penjelasannya."
   ]
  },
  {
   "cell_type": "markdown",
   "metadata": {
    "id": "8j2HZz6hrTpu"
   },
   "source": [
    "## Operator Logika and\n",
    "\n",
    "| Argument A | Argument B | A and B |\n",
    "| :--- | :--- | :--- |\n",
    "| False | False | False |\n",
    "| False | True  | False |\n",
    "| True  | False | False |\n",
    "| True  | True  | True  |"
   ]
  },
  {
   "cell_type": "markdown",
   "metadata": {
    "id": "n6wFieTarfQB"
   },
   "source": [
    "## Operator Logika or\n",
    "\n",
    "| Argument A | Argument B | A or B |\n",
    "| :--- | :--- | :--- |\n",
    "| False | False | False |\n",
    "| False | True | True |\n",
    "| True | False | True |\n",
    "| True | True | True | "
   ]
  },
  {
   "cell_type": "markdown",
   "metadata": {
    "id": "aG4VWHErrkx4"
   },
   "source": [
    "## Operator Logika not\n",
    "\n",
    "Operasi Logika `not`\n",
    "\n",
    "| Argument | not Argument |\n",
    "| :--- | :--- |\n",
    "| False| True |\n",
    "| True | False |\n",
    " "
   ]
  },
  {
   "cell_type": "code",
   "execution_count": 24,
   "metadata": {
    "colab": {
     "base_uri": "https://localhost:8080/"
    },
    "executionInfo": {
     "elapsed": 444,
     "status": "ok",
     "timestamp": 1627099673595,
     "user": {
      "displayName": "Adam Mukharil Bachtiar",
      "photoUrl": "https://lh3.googleusercontent.com/a-/AOh14GgJw6pmR0uaa0upvAW6cptf4bPmiEhm1MAS1rx45as=s64",
      "userId": "18309246717753247212"
     },
     "user_tz": -420
    },
    "id": "nV7EUyqlsZSP",
    "outputId": "dbf68bb3-3e42-4bfb-a7ac-aeb74023d9cb"
   },
   "outputs": [
    {
     "name": "stdout",
     "output_type": "stream",
     "text": [
      "False\n",
      "0\n",
      "1\n",
      "False\n",
      "True\n"
     ]
    }
   ],
   "source": [
    "x = 1\n",
    "y = 0\n",
    "\n",
    "z = ((x == y) and (x == y)) or not(x == y)\n",
    "print(not(z))\n",
    "print(x and y)\n",
    "print(x or y)\n",
    "print(not(x))\n",
    "print(not(y))"
   ]
  },
  {
   "cell_type": "markdown",
   "metadata": {
    "id": "2JWrvKp7s_h1"
   },
   "source": [
    "# Operator Bitwise\n",
    "\n",
    "Operator bitwise sebenarnya sama saja dengan operator logika. Perbedaannya, dalam operasi bitwise kedua operand-nya bertipe bilangan bulat (integer) dan operasinya dilakukan bit-demi-bit. Maka dari itu , bilangan integer yang dijadikan sebagai operand, terlebih dahulu akan dikonversi ke dalam biner.\n",
    "\n",
    "| Operator | Jenis Operasi | Contoh |\n",
    "| :---: | :--- | :--- |\n",
    "| & | AND | 1 & 0 = 0 |\n",
    "| \\| | OR | 1 \\| 0 = 1 |\n",
    "| ^ | Exclusive OR (XOR) | 1 ^ 1 = 0 |\n",
    "| ~ | NOT | ~1 = 0 |\n",
    "| >> | Shift Right | 10 >> 1 = 5 |\n",
    "| << | Shift Left | 5 << 1 = 10 | \n",
    "\n",
    "Konsep logika dari operator &, |, dan ~ sama seperti operator and, or, dan not yang terdapat pada operator logika. Perbedaannya hanya operator bitwise beroperasi pada masing-masing bit. Operator ^(XOR) hanya akan menghasilkan nilai True jika salah satu operand (bukan keduanya bernilai True, selain daripada itu adalah False sebagaimana terlihat pada gambar berikut:\n",
    "\n",
    "| Bit Operand 1 | Bit Operand 2 | Bit Output |\n",
    "| :---: | :---: | :---: |\n",
    "| 1 | 1 | 0 |\n",
    "| 1 | 0 | 1 |\n",
    "| 0 | 1 | 1 |\n",
    "| 0 | 0 | 0 |\n",
    "\n",
    "Sebagai contoh:\n",
    "\n",
    "<img src = \"https://www.rumahcoding.co.id/wp-content/uploads/2017/04/bitwiseXOR_2x.png\" alt = \"Ilustrasi XOR\">\n",
    "\n",
    "Operator << akan menggeser n bit kearah kiri dari bilangan binernya. Setiap pergeseran 1 bit akan menghasilkan nilai operand dikali 2. Operator >> akan menggeser n bit kearah kanan dari bilangan binernya. Setiap pergeseran 1 bit akan menghasilkan nilai operand dibagi 2. Jika operand bernilai ganjil, maka sisa pembagi akan diabaikan. Sebagai contoh:\n",
    "\n",
    "<img src = \"https://open4tech.com/wp-content/uploads/2016/11/Logical_Shift.jpg\" alt = \"Shift Left dan Shift Right\">"
   ]
  },
  {
   "cell_type": "code",
   "execution_count": 1,
   "metadata": {
    "id": "LXwXk5VWyV5U"
   },
   "outputs": [
    {
     "name": "stdout",
     "output_type": "stream",
     "text": [
      "17 68 8\n"
     ]
    }
   ],
   "source": [
    "var = 17\n",
    "var_right = var >> 1\n",
    "var_left = var << 2\n",
    "\n",
    "print(var, var_left, var_right)"
   ]
  },
  {
   "cell_type": "markdown",
   "metadata": {
    "id": "2pnbbDHayczi"
   },
   "source": [
    "# List dalam Python\n",
    "\n",
    "Tipe list dalam python sebenernya mirip dengan array normal pada bahasa pemrograman lain. List juga dapat menampung beberapa tipe data sekaligus. Dalam matematika dikenal sebagai <B>SKALAR</B>. Dengan list, kita bisa menampung banyak data dalam 1 variabel.\n",
    "\n",
    "Bentuk umum untuk membuat list dalam python adalah:\n",
    "\n",
    "```python\n",
    "nama_list = [nilai1, nilai2, nilai3,...]\n",
    "```\n",
    "\n",
    "Perhatikan contoh berikut ini:"
   ]
  },
  {
   "cell_type": "code",
   "execution_count": 2,
   "metadata": {
    "colab": {
     "base_uri": "https://localhost:8080/"
    },
    "executionInfo": {
     "elapsed": 6,
     "status": "ok",
     "timestamp": 1627367454180,
     "user": {
      "displayName": "Adam Mukharil Bachtiar",
      "photoUrl": "https://lh3.googleusercontent.com/a-/AOh14GgJw6pmR0uaa0upvAW6cptf4bPmiEhm1MAS1rx45as=s64",
      "userId": "18309246717753247212"
     },
     "user_tz": -420
    },
    "id": "v-NDRs5_yxDR",
    "outputId": "61f7f1e3-0675-4f14-d977-4c0c6c6d2cbc"
   },
   "outputs": [
    {
     "name": "stdout",
     "output_type": "stream",
     "text": [
      "[10, 5, 7, 2, 1]\n"
     ]
    }
   ],
   "source": [
    "var1 = 10\n",
    "var2 = 5\n",
    "var3 = 7\n",
    "var4 = 2\n",
    "var5 = 1\n",
    "\n",
    "# VERSUS #\n",
    "\n",
    "var = [10, 5, 7, 2, 1]\n",
    "print(var)"
   ]
  },
  {
   "cell_type": "code",
   "execution_count": 3,
   "metadata": {
    "id": "xn3iCM56zQBz"
   },
   "outputs": [
    {
     "name": "stdout",
     "output_type": "stream",
     "text": [
      "['Digital', 90, 1000.5, 'Talent']\n"
     ]
    }
   ],
   "source": [
    "#bisa menampung berbagai tipe data\n",
    "var = [\"Digital\", 90 , 1000.50 , \"Talent\"] \n",
    "print(var)"
   ]
  },
  {
   "cell_type": "markdown",
   "metadata": {
    "id": "Fbf0gCnIzdGd"
   },
   "source": [
    "## List Indexing\n",
    "\n",
    "Dalam list, elemen tidak diindeks berdasarkan key tertentu yang namanya bisa didefinisikan sendiri melainkan berdasarkan indeks bilangan yang diawali dengan nilai nol(0). Apabila kita mengakses indeks yang tidak terdapat pada list (melebihi maksimal list, maka Python akan mengeluarkan error berupa <B>IndexError</B>. Perhatikan contoh berikut:\n",
    "\n"
   ]
  },
  {
   "cell_type": "code",
   "execution_count": 2,
   "metadata": {
    "colab": {
     "base_uri": "https://localhost:8080/"
    },
    "executionInfo": {
     "elapsed": 318,
     "status": "ok",
     "timestamp": 1627102061884,
     "user": {
      "displayName": "Adam Mukharil Bachtiar",
      "photoUrl": "https://lh3.googleusercontent.com/a-/AOh14GgJw6pmR0uaa0upvAW6cptf4bPmiEhm1MAS1rx45as=s64",
      "userId": "18309246717753247212"
     },
     "user_tz": -420
    },
    "id": "cl_6PRbP1A8X",
    "outputId": "e98e6b19-00bb-4568-8d30-e9c5ed3d70c1"
   },
   "outputs": [
    {
     "name": "stdout",
     "output_type": "stream",
     "text": [
      "[10, 5, 7, 2, 1]\n",
      "7\n",
      "10\n"
     ]
    }
   ],
   "source": [
    "numbers = [10, 5, 7, 2, 1]\n",
    "print(numbers)\n",
    "print(numbers[2])\n",
    "print(numbers[0])"
   ]
  },
  {
   "cell_type": "code",
   "execution_count": 3,
   "metadata": {
    "colab": {
     "base_uri": "https://localhost:8080/",
     "height": 179
    },
    "executionInfo": {
     "elapsed": 352,
     "status": "error",
     "timestamp": 1627367607318,
     "user": {
      "displayName": "Adam Mukharil Bachtiar",
      "photoUrl": "https://lh3.googleusercontent.com/a-/AOh14GgJw6pmR0uaa0upvAW6cptf4bPmiEhm1MAS1rx45as=s64",
      "userId": "18309246717753247212"
     },
     "user_tz": -420
    },
    "id": "U8x4lg7J1zrY",
    "outputId": "8f4c14a0-ccdb-4e5b-8c57-d6eac6d8e438"
   },
   "outputs": [
    {
     "ename": "IndexError",
     "evalue": "list index out of range",
     "output_type": "error",
     "traceback": [
      "\u001b[0;31m---------------------------------------------------------------------------\u001b[0m",
      "\u001b[0;31mIndexError\u001b[0m                                Traceback (most recent call last)",
      "\u001b[0;32m/var/folders/mg/f662q2g57nn3266mvsjg3d300000gn/T/ipykernel_2888/1175212406.py\u001b[0m in \u001b[0;36m<module>\u001b[0;34m\u001b[0m\n\u001b[1;32m      1\u001b[0m \u001b[0mnumbers\u001b[0m \u001b[0;34m=\u001b[0m \u001b[0;34m[\u001b[0m\u001b[0;36m10\u001b[0m\u001b[0;34m,\u001b[0m \u001b[0;36m5\u001b[0m\u001b[0;34m,\u001b[0m \u001b[0;36m7\u001b[0m\u001b[0;34m,\u001b[0m \u001b[0;36m2\u001b[0m\u001b[0;34m,\u001b[0m \u001b[0;36m1\u001b[0m\u001b[0;34m]\u001b[0m\u001b[0;34m\u001b[0m\u001b[0;34m\u001b[0m\u001b[0m\n\u001b[0;32m----> 2\u001b[0;31m \u001b[0mprint\u001b[0m\u001b[0;34m(\u001b[0m\u001b[0mnumbers\u001b[0m\u001b[0;34m[\u001b[0m\u001b[0;36m10\u001b[0m\u001b[0;34m]\u001b[0m\u001b[0;34m)\u001b[0m\u001b[0;34m\u001b[0m\u001b[0;34m\u001b[0m\u001b[0m\n\u001b[0m",
      "\u001b[0;31mIndexError\u001b[0m: list index out of range"
     ]
    }
   ],
   "source": [
    "numbers = [10, 5, 7, 2, 1]\n",
    "print(numbers[10])"
   ]
  },
  {
   "cell_type": "markdown",
   "metadata": {
    "id": "nDuuQhHr15cd"
   },
   "source": [
    "> <B>Catatan:</B> Harap diingat bahwa indeks maksimal List adalah ``jumlah elemen list - 1``. Jika mengakses index di luar indeks yang seharusnya, Python akan menghasilkan error berupa ``IndexError``.\n",
    "\n",
    "Selain itu karena List bersifat <B>MUTABLE</B> dimana artinya isi dari variabel bisa diubah, maka List menyediakan cara untuk meng-assign nilai baru ke dalam suatu indeks. Format umum penugasan nilai ke dalam indeks suatu list adalah:\n",
    "\n",
    "```python\n",
    "list[indeks] = nilai\n",
    "```"
   ]
  },
  {
   "cell_type": "code",
   "execution_count": 4,
   "metadata": {
    "colab": {
     "base_uri": "https://localhost:8080/"
    },
    "executionInfo": {
     "elapsed": 369,
     "status": "ok",
     "timestamp": 1627103659480,
     "user": {
      "displayName": "Adam Mukharil Bachtiar",
      "photoUrl": "https://lh3.googleusercontent.com/a-/AOh14GgJw6pmR0uaa0upvAW6cptf4bPmiEhm1MAS1rx45as=s64",
      "userId": "18309246717753247212"
     },
     "user_tz": -420
    },
    "id": "nDlXYyov7YJc",
    "outputId": "62d4515f-8d03-4929-eba2-7428f67c6fe9"
   },
   "outputs": [
    {
     "name": "stdout",
     "output_type": "stream",
     "text": [
      "['Adam', 'Andri', 'Elsa', 'Herti']\n",
      "['Adam', 'Rio', 'Elsa', 'Herti']\n"
     ]
    }
   ],
   "source": [
    "nama = [\"Adam\", \"Andri\", \"Elsa\", \"Herti\"]\n",
    "print(nama)\n",
    "\n",
    "nama[1] = \"Rio\"\n",
    "print(nama)"
   ]
  },
  {
   "cell_type": "markdown",
   "metadata": {
    "id": "xBRaA_Ev9ehe"
   },
   "source": [
    "Fungsi ``len()`` bisa digunakan untuk menghitung jumlah anggota dari suatu list."
   ]
  },
  {
   "cell_type": "code",
   "execution_count": 5,
   "metadata": {
    "colab": {
     "base_uri": "https://localhost:8080/"
    },
    "executionInfo": {
     "elapsed": 440,
     "status": "ok",
     "timestamp": 1627104049102,
     "user": {
      "displayName": "Adam Mukharil Bachtiar",
      "photoUrl": "https://lh3.googleusercontent.com/a-/AOh14GgJw6pmR0uaa0upvAW6cptf4bPmiEhm1MAS1rx45as=s64",
      "userId": "18309246717753247212"
     },
     "user_tz": -420
    },
    "id": "YrH3RASp9WTE",
    "outputId": "221ec003-e5e7-4f29-b9df-fc86a82b76b1"
   },
   "outputs": [
    {
     "name": "stdout",
     "output_type": "stream",
     "text": [
      "Original list content: [10, 5, 7, 2, 1]\n",
      "\n",
      "Previous list content: [111, 5, 7, 2, 1]\n",
      "Previous list content: [111, 1, 7, 2, 1]\n",
      "\n",
      "List length: 5\n"
     ]
    }
   ],
   "source": [
    "numbers = [10, 5, 7, 2, 1]\n",
    "print(\"Original list content:\", numbers) # printing original list content\n",
    "\n",
    "numbers[0] = 111\n",
    "print(\"\\nPrevious list content:\", numbers) # printing previous list content\n",
    "\n",
    "numbers[1] = numbers[4] # copying value of the fifth element to the second\n",
    "print(\"Previous list content:\", numbers) # printing previous list content\n",
    "\n",
    "print(\"\\nList length:\", len(numbers)) # printing the list's length"
   ]
  },
  {
   "cell_type": "markdown",
   "metadata": {
    "id": "gfoZMtO5WvY3"
   },
   "source": [
    "## Menghapus Elemen List\n",
    "\n",
    "Fungsi ``del list[indeks]`` digunakan untuk menghapus suatu elemen sesuai indeks yang disebut dalam suatu list."
   ]
  },
  {
   "cell_type": "code",
   "execution_count": 6,
   "metadata": {
    "colab": {
     "base_uri": "https://localhost:8080/"
    },
    "executionInfo": {
     "elapsed": 400,
     "status": "ok",
     "timestamp": 1627111002915,
     "user": {
      "displayName": "Adam Mukharil Bachtiar",
      "photoUrl": "https://lh3.googleusercontent.com/a-/AOh14GgJw6pmR0uaa0upvAW6cptf4bPmiEhm1MAS1rx45as=s64",
      "userId": "18309246717753247212"
     },
     "user_tz": -420
    },
    "id": "O7E_gH1_XiWH",
    "outputId": "8faf6d05-ff4d-44f3-aaf9-9f13966d5ccd"
   },
   "outputs": [
    {
     "name": "stdout",
     "output_type": "stream",
     "text": [
      "['Adam', 'Andri', 'Elsa', 'Herti']\n",
      "4\n",
      "['Adam', 'Andri', 'Elsa']\n",
      "3\n"
     ]
    }
   ],
   "source": [
    "nama = [\"Adam\", \"Andri\", \"Elsa\", \"Herti\"]\n",
    "print(nama)\n",
    "print(len(nama))\n",
    "\n",
    "del nama[3]\n",
    "print(nama)\n",
    "print(len(nama))"
   ]
  },
  {
   "cell_type": "markdown",
   "metadata": {
    "id": "wX6-jleMORbX"
   },
   "source": [
    "Apabila kita ingin menghapus seluruh elemen list (delete all) maka kita cukup memanggil fungsi ``del list`` tanpa menyebutkan indeksnya"
   ]
  },
  {
   "cell_type": "code",
   "execution_count": 8,
   "metadata": {
    "executionInfo": {
     "elapsed": 310,
     "status": "ok",
     "timestamp": 1627368046877,
     "user": {
      "displayName": "Adam Mukharil Bachtiar",
      "photoUrl": "https://lh3.googleusercontent.com/a-/AOh14GgJw6pmR0uaa0upvAW6cptf4bPmiEhm1MAS1rx45as=s64",
      "userId": "18309246717753247212"
     },
     "user_tz": -420
    },
    "id": "Taq9dimZOfi9"
   },
   "outputs": [
    {
     "ename": "NameError",
     "evalue": "name 'nama' is not defined",
     "output_type": "error",
     "traceback": [
      "\u001b[0;31m---------------------------------------------------------------------------\u001b[0m",
      "\u001b[0;31mNameError\u001b[0m                                 Traceback (most recent call last)",
      "Input \u001b[0;32mIn [8]\u001b[0m, in \u001b[0;36m<cell line: 4>\u001b[0;34m()\u001b[0m\n\u001b[1;32m      1\u001b[0m nama \u001b[38;5;241m=\u001b[39m [\u001b[38;5;124m\"\u001b[39m\u001b[38;5;124mAdam\u001b[39m\u001b[38;5;124m\"\u001b[39m, \u001b[38;5;124m\"\u001b[39m\u001b[38;5;124mAndri\u001b[39m\u001b[38;5;124m\"\u001b[39m, \u001b[38;5;124m\"\u001b[39m\u001b[38;5;124mElsa\u001b[39m\u001b[38;5;124m\"\u001b[39m, \u001b[38;5;124m\"\u001b[39m\u001b[38;5;124mHerti\u001b[39m\u001b[38;5;124m\"\u001b[39m]\n\u001b[1;32m      3\u001b[0m \u001b[38;5;28;01mdel\u001b[39;00m nama\n\u001b[0;32m----> 4\u001b[0m \u001b[38;5;28mprint\u001b[39m(\u001b[43mnama\u001b[49m)\n",
      "\u001b[0;31mNameError\u001b[0m: name 'nama' is not defined"
     ]
    }
   ],
   "source": [
    "nama = [\"Adam\", \"Andri\", \"Elsa\", \"Herti\"]\n",
    "\n",
    "del nama\n",
    "print(nama)"
   ]
  },
  {
   "cell_type": "markdown",
   "metadata": {
    "id": "WiqJDuMTO7Ei"
   },
   "source": [
    "Apabila kita memanggil list nama, python akan menghaslkan error berupa ``NameError``. Agar tidak error dan agar kita tetap bisa mengakses list (walaupun list-nya kosong) maka kita harus gunakan bentuk:\n",
    "\n",
    "```python\n",
    "del list[:]\n",
    "```\n",
    "\n",
    "Bentuk ``[:]`` adalah salah satu bentuk slicing list. Kita akan mempelajari ini di sub bab berikutnya."
   ]
  },
  {
   "cell_type": "code",
   "execution_count": 9,
   "metadata": {
    "colab": {
     "base_uri": "https://localhost:8080/"
    },
    "executionInfo": {
     "elapsed": 314,
     "status": "ok",
     "timestamp": 1627165037905,
     "user": {
      "displayName": "Adam Mukharil Bachtiar",
      "photoUrl": "https://lh3.googleusercontent.com/a-/AOh14GgJw6pmR0uaa0upvAW6cptf4bPmiEhm1MAS1rx45as=s64",
      "userId": "18309246717753247212"
     },
     "user_tz": -420
    },
    "id": "kc8r2fO7l7CA",
    "outputId": "affa8b66-e74e-4bf5-a96b-92796d1bfac0"
   },
   "outputs": [
    {
     "name": "stdout",
     "output_type": "stream",
     "text": [
      "[]\n"
     ]
    }
   ],
   "source": [
    "nama = [\"Adam\", \"Andri\", \"Elsa\", \"Herti\"]\n",
    "\n",
    "del nama[:]\n",
    "print(nama)"
   ]
  },
  {
   "cell_type": "markdown",
   "metadata": {
    "id": "CTZoyptoYCyq"
   },
   "source": [
    "## Akses Indeks Negatif\n",
    "\n",
    "Indeks dapat juga bernilai negatif yaitu menghitung indeks mulai dari kanan. Elemen terakhir dianggap berindeks <B>-1</B>. Perhatikan contoh berikut:"
   ]
  },
  {
   "cell_type": "code",
   "execution_count": 10,
   "metadata": {
    "colab": {
     "base_uri": "https://localhost:8080/"
    },
    "executionInfo": {
     "elapsed": 338,
     "status": "ok",
     "timestamp": 1627111096616,
     "user": {
      "displayName": "Adam Mukharil Bachtiar",
      "photoUrl": "https://lh3.googleusercontent.com/a-/AOh14GgJw6pmR0uaa0upvAW6cptf4bPmiEhm1MAS1rx45as=s64",
      "userId": "18309246717753247212"
     },
     "user_tz": -420
    },
    "id": "4-TRQ4tOYOt8",
    "outputId": "b00d579f-851f-4e53-8063-29d0c8f020d6"
   },
   "outputs": [
    {
     "name": "stdout",
     "output_type": "stream",
     "text": [
      "500\n",
      "400\n",
      "100\n"
     ]
    }
   ],
   "source": [
    "lst = [100,200,300,400,500]\n",
    "print(lst[-1])\n",
    "print(lst[-2])\n",
    "print(lst[-5])"
   ]
  },
  {
   "cell_type": "markdown",
   "metadata": {
    "id": "0jyM2jKwa-Zz"
   },
   "source": [
    "## Fungsi append(), insert(), dan extend()\n",
    "\n",
    "Fungsi ``append(nilai)`` digunakan untuk menambahkan satu elemen pada list di bagian akhir dari list."
   ]
  },
  {
   "cell_type": "code",
   "execution_count": 11,
   "metadata": {
    "colab": {
     "base_uri": "https://localhost:8080/"
    },
    "executionInfo": {
     "elapsed": 409,
     "status": "ok",
     "timestamp": 1627112027753,
     "user": {
      "displayName": "Adam Mukharil Bachtiar",
      "photoUrl": "https://lh3.googleusercontent.com/a-/AOh14GgJw6pmR0uaa0upvAW6cptf4bPmiEhm1MAS1rx45as=s64",
      "userId": "18309246717753247212"
     },
     "user_tz": -420
    },
    "id": "glKFr5wwbs7p",
    "outputId": "d63413a5-0493-4ce5-d3b1-1ed83e99e222"
   },
   "outputs": [
    {
     "name": "stdout",
     "output_type": "stream",
     "text": [
      "['Adam', 'Andri', 'Elsa', 'Herti', 'Rio']\n"
     ]
    }
   ],
   "source": [
    "nama = [\"Adam\", \"Andri\", \"Elsa\", \"Herti\"]\n",
    "nama.append(\"Rio\")\n",
    "print(nama)"
   ]
  },
  {
   "cell_type": "markdown",
   "metadata": {
    "id": "Dl8wmsbsc6uP"
   },
   "source": [
    "Fungsi ``insert(indeks,nilai)`` digunakan untuk menyisipkan elemen baru pada suatu indeks di list."
   ]
  },
  {
   "cell_type": "code",
   "execution_count": 1,
   "metadata": {
    "colab": {
     "base_uri": "https://localhost:8080/"
    },
    "executionInfo": {
     "elapsed": 338,
     "status": "ok",
     "timestamp": 1627114728679,
     "user": {
      "displayName": "Adam Mukharil Bachtiar",
      "photoUrl": "https://lh3.googleusercontent.com/a-/AOh14GgJw6pmR0uaa0upvAW6cptf4bPmiEhm1MAS1rx45as=s64",
      "userId": "18309246717753247212"
     },
     "user_tz": -420
    },
    "id": "H5xwCFgvl_D8",
    "outputId": "f63b373e-fbe4-4150-952e-7450397e1fa0"
   },
   "outputs": [
    {
     "name": "stdout",
     "output_type": "stream",
     "text": [
      "['Adam', 'Andri', 'Iva', 'Elsa', 'Herti']\n"
     ]
    }
   ],
   "source": [
    "nama = [\"Adam\", \"Andri\", \"Elsa\", \"Herti\"]\n",
    "nama.insert(2,\"Iva\")\n",
    "print(nama)"
   ]
  },
  {
   "cell_type": "markdown",
   "metadata": {
    "id": "_As7zgU2KXGx"
   },
   "source": [
    "Kita juga bisa memulai sebuah list dalam kondisi kosong kemudian menambahkan elemennya kemudian."
   ]
  },
  {
   "cell_type": "code",
   "execution_count": 12,
   "metadata": {
    "colab": {
     "base_uri": "https://localhost:8080/"
    },
    "executionInfo": {
     "elapsed": 3,
     "status": "ok",
     "timestamp": 1627124388556,
     "user": {
      "displayName": "Adam Mukharil Bachtiar",
      "photoUrl": "https://lh3.googleusercontent.com/a-/AOh14GgJw6pmR0uaa0upvAW6cptf4bPmiEhm1MAS1rx45as=s64",
      "userId": "18309246717753247212"
     },
     "user_tz": -420
    },
    "id": "HONQh5aXKpbZ",
    "outputId": "978f09e8-fa88-41e7-b007-be5232d2022c"
   },
   "outputs": [
    {
     "name": "stdout",
     "output_type": "stream",
     "text": [
      "[4, 3, 2, 1, 0]\n"
     ]
    }
   ],
   "source": [
    "bilangan = []\n",
    "\n",
    "for i in range(5):\n",
    "  bilangan.insert(0,i)\n",
    "\n",
    "print(bilangan)"
   ]
  },
  {
   "cell_type": "markdown",
   "metadata": {
    "id": "DVBeA0OoTIdJ"
   },
   "source": [
    "Menggunakan metode extend(). Metode ini digunakan untuk menyambung atau menggabungkan suatu list dengan list yang lain. Perhatikan contoh berikut:"
   ]
  },
  {
   "cell_type": "code",
   "execution_count": 13,
   "metadata": {
    "colab": {
     "base_uri": "https://localhost:8080/"
    },
    "executionInfo": {
     "elapsed": 298,
     "status": "ok",
     "timestamp": 1627126555456,
     "user": {
      "displayName": "Adam Mukharil Bachtiar",
      "photoUrl": "https://lh3.googleusercontent.com/a-/AOh14GgJw6pmR0uaa0upvAW6cptf4bPmiEhm1MAS1rx45as=s64",
      "userId": "18309246717753247212"
     },
     "user_tz": -420
    },
    "id": "BBaUOM03TLc9",
    "outputId": "43cca92e-edff-4e18-bf14-ad65bedfcf8f"
   },
   "outputs": [
    {
     "name": "stdout",
     "output_type": "stream",
     "text": [
      "['durian', 'mangga', 'apel', 'jeruk', 'melon']\n"
     ]
    }
   ],
   "source": [
    "buah = [\"durian\", \"mangga\", \"apel\"]\n",
    "buah.extend([\"jeruk\",\"melon\"])\n",
    "print(buah)"
   ]
  },
  {
   "cell_type": "markdown",
   "metadata": {
    "id": "PEgggbx3LKqG"
   },
   "source": [
    "## Hands on Lab 15: Menambahkan Elemen List\n",
    "\n",
    "Diberikan sebuah list berisi bilangan integer sebanyak 5 anggota. Jumlahkan seluruh angka anggota list tersebut."
   ]
  },
  {
   "cell_type": "code",
   "execution_count": null,
   "metadata": {
    "colab": {
     "base_uri": "https://localhost:8080/"
    },
    "executionInfo": {
     "elapsed": 304,
     "status": "ok",
     "timestamp": 1627124630870,
     "user": {
      "displayName": "Adam Mukharil Bachtiar",
      "photoUrl": "https://lh3.googleusercontent.com/a-/AOh14GgJw6pmR0uaa0upvAW6cptf4bPmiEhm1MAS1rx45as=s64",
      "userId": "18309246717753247212"
     },
     "user_tz": -420
    },
    "id": "QmERckfoLYTE",
    "outputId": "7084ac0b-2b7d-4fa7-ce40-bbe78bc32362"
   },
   "outputs": [],
   "source": [
    "angka = [10,21,9,3,100]\n",
    "jumlah_bil = 0\n",
    "\n",
    "for bil in angka:\n",
    "  jumlah_bil += bil\n",
    "\n",
    "print(jumlah_bil)"
   ]
  },
  {
   "cell_type": "markdown",
   "metadata": {
    "id": "Y55ZGFRuMeSN"
   },
   "source": [
    "## Hands on Lab 16: Menukar nilai antar elemen list\n",
    "\n",
    "Pernah ingatkah kode program berikut:\n",
    "\n",
    "```python\n",
    "temp = var1\n",
    "var1 = var2\n",
    "var2 = temp\n",
    "```\n",
    "\n",
    "Kode program tersebut digunakan untuk pertukaran nilai antar variabel. Python memiliki sebuah fitur yang mempermudah kita untuk melakukan pertukaran nilai. Format umumnya adalah sebagai berikut:\n",
    "\n",
    "```python\n",
    "variabel1, variabel2 = variabel2, variabel1\n",
    "```"
   ]
  },
  {
   "cell_type": "code",
   "execution_count": null,
   "metadata": {
    "colab": {
     "base_uri": "https://localhost:8080/"
    },
    "executionInfo": {
     "elapsed": 409,
     "status": "ok",
     "timestamp": 1627125062033,
     "user": {
      "displayName": "Adam Mukharil Bachtiar",
      "photoUrl": "https://lh3.googleusercontent.com/a-/AOh14GgJw6pmR0uaa0upvAW6cptf4bPmiEhm1MAS1rx45as=s64",
      "userId": "18309246717753247212"
     },
     "user_tz": -420
    },
    "id": "Gei9a9ayNZFy",
    "outputId": "98656331-bdc4-4649-980b-51e1941b88ad"
   },
   "outputs": [],
   "source": [
    "bil1 = 10\n",
    "bil2 = 20\n",
    "\n",
    "bil1, bil2 = bil2, bil1\n",
    "\n",
    "print(bil1, bil2)"
   ]
  },
  {
   "cell_type": "markdown",
   "metadata": {
    "id": "YKI4wzE9NkYe"
   },
   "source": [
    "Fitur ini bisa dimanfaatkan untuk operasi penukaran nilai antar elemen list. Berikut contohnya:"
   ]
  },
  {
   "cell_type": "code",
   "execution_count": null,
   "metadata": {
    "colab": {
     "base_uri": "https://localhost:8080/"
    },
    "executionInfo": {
     "elapsed": 295,
     "status": "ok",
     "timestamp": 1627125138111,
     "user": {
      "displayName": "Adam Mukharil Bachtiar",
      "photoUrl": "https://lh3.googleusercontent.com/a-/AOh14GgJw6pmR0uaa0upvAW6cptf4bPmiEhm1MAS1rx45as=s64",
      "userId": "18309246717753247212"
     },
     "user_tz": -420
    },
    "id": "wOWn4EGBNyr1",
    "outputId": "b1d5fcdd-0b34-4649-bbaa-f7bbc2c298c3"
   },
   "outputs": [],
   "source": [
    "my_list = [10, 1, 8, 3, 5]\n",
    "\n",
    "my_list[0], my_list[4] = my_list[4], my_list[0]\n",
    "my_list[1], my_list[3] = my_list[3], my_list[1]\n",
    "\n",
    "print(my_list)"
   ]
  },
  {
   "cell_type": "code",
   "execution_count": null,
   "metadata": {
    "colab": {
     "base_uri": "https://localhost:8080/"
    },
    "executionInfo": {
     "elapsed": 411,
     "status": "ok",
     "timestamp": 1627125159527,
     "user": {
      "displayName": "Adam Mukharil Bachtiar",
      "photoUrl": "https://lh3.googleusercontent.com/a-/AOh14GgJw6pmR0uaa0upvAW6cptf4bPmiEhm1MAS1rx45as=s64",
      "userId": "18309246717753247212"
     },
     "user_tz": -420
    },
    "id": "EPkJfhucN3_d",
    "outputId": "613f728d-9b55-4b3c-d04a-9f32c48e421e"
   },
   "outputs": [],
   "source": [
    "my_list = [10, 1, 8, 3, 5]\n",
    "length = len(my_list)\n",
    "\n",
    "for i in range(length // 2):\n",
    "  my_list[i], my_list[length - i - 1] = my_list[length - i - 1], my_list[i]\n",
    "\n",
    "print(my_list)"
   ]
  },
  {
   "cell_type": "markdown",
   "metadata": {
    "id": "C1REuM1LPh0l"
   },
   "source": [
    "# Bubble Sort\n",
    "\n",
    "Apabila kita ingin mengurutkan data yang ada pada sebuah koleksi (salah satu contohnya adalah list), kita bisa menggunakan algoritma Bubble Sort. Ilustrasi algoritma Bubble Sort dapat dilihat pada gambar berikut:\n",
    "\n",
    "<img src = \"https://i2.wp.com/www.computersciencebytes.com/wp-content/uploads/2016/10/bubble_sort.png?fit=556%2C358\" alt = \"Ilustrasi Bubble Sort\">\n",
    "\n",
    "Berikut algoritma Bubble Sort di Python:"
   ]
  },
  {
   "cell_type": "code",
   "execution_count": null,
   "metadata": {
    "colab": {
     "base_uri": "https://localhost:8080/"
    },
    "executionInfo": {
     "elapsed": 365,
     "status": "ok",
     "timestamp": 1627126087255,
     "user": {
      "displayName": "Adam Mukharil Bachtiar",
      "photoUrl": "https://lh3.googleusercontent.com/a-/AOh14GgJw6pmR0uaa0upvAW6cptf4bPmiEhm1MAS1rx45as=s64",
      "userId": "18309246717753247212"
     },
     "user_tz": -420
    },
    "id": "gLAxx6g5RXwL",
    "outputId": "a7925159-2ec6-4d4b-dc93-1950a926bd41"
   },
   "outputs": [],
   "source": [
    "my_list = [8, 10, 6, 2, 4]  # list to sort\n",
    "swapped = True  # It's a little fake, we need it to enter the while loop.\n",
    "\n",
    "while swapped:\n",
    "  swapped = False  # no swaps so far\n",
    "  for i in range(len(my_list) - 1):\n",
    "    if my_list[i] > my_list[i + 1]:\n",
    "      swapped = True  # a swap occurred!\n",
    "      my_list[i], my_list[i + 1] = my_list[i + 1], my_list[i]\n",
    "\n",
    "print(my_list)"
   ]
  },
  {
   "cell_type": "markdown",
   "metadata": {
    "id": "SAjvtSzfRoEW"
   },
   "source": [
    "Python menyederhanakan proses yang panjang itu dengan membuat fitur pada list dengan nama fungsi ``sort()``. Berikut kode programnya:\n"
   ]
  },
  {
   "cell_type": "code",
   "execution_count": 14,
   "metadata": {
    "colab": {
     "base_uri": "https://localhost:8080/"
    },
    "executionInfo": {
     "elapsed": 312,
     "status": "ok",
     "timestamp": 1627126335007,
     "user": {
      "displayName": "Adam Mukharil Bachtiar",
      "photoUrl": "https://lh3.googleusercontent.com/a-/AOh14GgJw6pmR0uaa0upvAW6cptf4bPmiEhm1MAS1rx45as=s64",
      "userId": "18309246717753247212"
     },
     "user_tz": -420
    },
    "id": "GHMAOb8gRx0h",
    "outputId": "f165000a-de6b-4443-a2c4-8f45a8c90323"
   },
   "outputs": [
    {
     "name": "stdout",
     "output_type": "stream",
     "text": [
      "[2, 4, 6, 8, 10]\n",
      "[10, 8, 6, 4, 2]\n"
     ]
    }
   ],
   "source": [
    "my_list = [8, 10, 6, 2, 4]\n",
    "\n",
    "# sort ascending\n",
    "my_list.sort()\n",
    "print(my_list)\n",
    "\n",
    "# sort descending\n",
    "my_list.sort(reverse = True)\n",
    "print(my_list)"
   ]
  },
  {
   "cell_type": "markdown",
   "metadata": {
    "id": "ZJUPEgbRgKli"
   },
   "source": [
    "# Copy List\n",
    "\n",
    "Nama dari sebuah list akan menunjuk suatu blok memori komputer tempat menyimpan data dari list-nya. Operasi ``list2 = list1`` bermakna list2 meng-copy nama dari list1 yang mengakibatkan list2 akan menunjuk blok memori yang sama dengan list1."
   ]
  },
  {
   "cell_type": "code",
   "execution_count": 15,
   "metadata": {
    "colab": {
     "base_uri": "https://localhost:8080/"
    },
    "executionInfo": {
     "elapsed": 1279,
     "status": "ok",
     "timestamp": 1627163712131,
     "user": {
      "displayName": "Adam Mukharil Bachtiar",
      "photoUrl": "https://lh3.googleusercontent.com/a-/AOh14GgJw6pmR0uaa0upvAW6cptf4bPmiEhm1MAS1rx45as=s64",
      "userId": "18309246717753247212"
     },
     "user_tz": -420
    },
    "id": "5kAiIgPOgq_Z",
    "outputId": "e5ffbd88-f1dc-4ca6-9443-ef74673e1831"
   },
   "outputs": [
    {
     "name": "stdout",
     "output_type": "stream",
     "text": [
      "[1, 2, 3, 4, 5]\n",
      "[1, 2, 10, 4, 5]\n",
      "[1, 2, 10, 4, 5]\n"
     ]
    }
   ],
   "source": [
    "bilangan = [1,2,3,4,5]\n",
    "\n",
    "bil = bilangan\n",
    "print(bil)\n",
    "\n",
    "bilangan[2] = 10\n",
    "print(bilangan)\n",
    "print(bil)"
   ]
  },
  {
   "cell_type": "markdown",
   "metadata": {
    "id": "HygVivhzhF2L"
   },
   "source": [
    "><B>Catatan:</B> Operasi yang diberlakukan ke list bilangan akan terjadi juga di list bil karena mereka menunjuk blok memori yang sama."
   ]
  },
  {
   "cell_type": "markdown",
   "metadata": {
    "id": "ZlOGlWwqhVsE"
   },
   "source": [
    "# Slicing List\n",
    "\n",
    "Bagaimana kalau kita ingin benar-benar membuat sebuah list yang didasarkan pada isi list lain dan ketika satu dimodifikasi, tidak akan mempengaruhi list yang lainnya? Python mempunyai fitur bernama <B>SLICING LIST</B>.\n"
   ]
  },
  {
   "cell_type": "markdown",
   "metadata": {
    "id": "Oba6vXUiiC3r"
   },
   "source": [
    "## Slicing List 1\n",
    "\n",
    "Bentuk pertama dari slicing list, yaitu:\n",
    "\n",
    "```python\n",
    "my_list[start:end]\n",
    "```\n",
    "\n",
    "``end`` di format tersebut bermakna ``end - 1`` yang artinya adalah indeks ``end`` tidak include di dalam hasil slice."
   ]
  },
  {
   "cell_type": "code",
   "execution_count": 16,
   "metadata": {
    "colab": {
     "base_uri": "https://localhost:8080/"
    },
    "executionInfo": {
     "elapsed": 395,
     "status": "ok",
     "timestamp": 1627164325600,
     "user": {
      "displayName": "Adam Mukharil Bachtiar",
      "photoUrl": "https://lh3.googleusercontent.com/a-/AOh14GgJw6pmR0uaa0upvAW6cptf4bPmiEhm1MAS1rx45as=s64",
      "userId": "18309246717753247212"
     },
     "user_tz": -420
    },
    "id": "Mu_DSzj8idyO",
    "outputId": "b7ec3c94-477d-49ab-d336-a83eb2c34cc7"
   },
   "outputs": [
    {
     "name": "stdout",
     "output_type": "stream",
     "text": [
      "[8, 6]\n",
      "[10, 8, 10, 4, 2]\n",
      "[8, 6]\n"
     ]
    }
   ],
   "source": [
    "my_list = [10, 8, 6, 4, 2]\n",
    "new_list = my_list[1:3]\n",
    "print(new_list)\n",
    "\n",
    "my_list[2] = 10\n",
    "print(my_list)\n",
    "print(new_list)"
   ]
  },
  {
   "cell_type": "markdown",
   "metadata": {
    "id": "ImFNoJwMivdn"
   },
   "source": [
    "Indeks negatif juga bisa digunakan dalam slicing ini:"
   ]
  },
  {
   "cell_type": "code",
   "execution_count": 17,
   "metadata": {
    "colab": {
     "base_uri": "https://localhost:8080/"
    },
    "executionInfo": {
     "elapsed": 386,
     "status": "ok",
     "timestamp": 1627164198627,
     "user": {
      "displayName": "Adam Mukharil Bachtiar",
      "photoUrl": "https://lh3.googleusercontent.com/a-/AOh14GgJw6pmR0uaa0upvAW6cptf4bPmiEhm1MAS1rx45as=s64",
      "userId": "18309246717753247212"
     },
     "user_tz": -420
    },
    "id": "s-J46Rc7izmA",
    "outputId": "011fd7d9-e46f-461a-9073-c32794612095"
   },
   "outputs": [
    {
     "name": "stdout",
     "output_type": "stream",
     "text": [
      "[8, 6, 4]\n",
      "[]\n"
     ]
    }
   ],
   "source": [
    "my_list = [10, 8, 6, 4, 2]\n",
    "new_list = my_list[1:-1]\n",
    "print(new_list)\n",
    "\n",
    "my_list = [10, 8, 6, 4, 2]\n",
    "new_list = my_list[-1:1]\n",
    "print(new_list)"
   ]
  },
  {
   "cell_type": "markdown",
   "metadata": {
    "id": "1T1XXzYgjYGp"
   },
   "source": [
    "## Slicing List 2\n",
    "\n",
    "Bentuk kedua dari slicing list adalah:\n",
    "\n",
    "```python\n",
    "my_list[:end]\n",
    "```\n",
    "\n",
    "bentuk tersebut ekuivalen dengan bentuk ``my_list[0:end]``\n",
    "\n",
    "><B>Catatan:</B> indeks ``end`` diperlakukan dengan sama dengan konsep slicing list 1\n",
    "\n",
    "Selain itu kita juga bisa menggunakan format seperti berikut:\n",
    "\n",
    "```python\n",
    "my_list[start:]\n",
    "```\n",
    "\n",
    "bentuk tersebut ekuivalen dengan bentuk ``my_list[start:len(my_list)]``\n",
    "\n",
    "><B>Catatan:</B> Ingat, posisi ``end`` diisi dengan ``len(my_list)`` jadi maknanya tetap saja hasil index dari perhitungan ``len(my_list`` adalah indeks yang tidak di-include ke dalam hasil slicing.\n"
   ]
  },
  {
   "cell_type": "code",
   "execution_count": 6,
   "metadata": {
    "colab": {
     "base_uri": "https://localhost:8080/"
    },
    "executionInfo": {
     "elapsed": 306,
     "status": "ok",
     "timestamp": 1627369580703,
     "user": {
      "displayName": "Adam Mukharil Bachtiar",
      "photoUrl": "https://lh3.googleusercontent.com/a-/AOh14GgJw6pmR0uaa0upvAW6cptf4bPmiEhm1MAS1rx45as=s64",
      "userId": "18309246717753247212"
     },
     "user_tz": -420
    },
    "id": "FVmcpZl4kri6",
    "outputId": "b9f16677-02d9-4f0f-e600-331e660e53c4"
   },
   "outputs": [
    {
     "name": "stdout",
     "output_type": "stream",
     "text": [
      "[10, 8, 6]\n"
     ]
    }
   ],
   "source": [
    "my_list = [10, 8, 6, 4, 2]\n",
    "new_list = my_list[:3]\n",
    "print(new_list)"
   ]
  },
  {
   "cell_type": "code",
   "execution_count": 7,
   "metadata": {
    "colab": {
     "base_uri": "https://localhost:8080/"
    },
    "executionInfo": {
     "elapsed": 315,
     "status": "ok",
     "timestamp": 1627369604449,
     "user": {
      "displayName": "Adam Mukharil Bachtiar",
      "photoUrl": "https://lh3.googleusercontent.com/a-/AOh14GgJw6pmR0uaa0upvAW6cptf4bPmiEhm1MAS1rx45as=s64",
      "userId": "18309246717753247212"
     },
     "user_tz": -420
    },
    "id": "uVD4NQ5tkwh8",
    "outputId": "ce9f3f4b-46db-4248-f5f9-7331067eb343"
   },
   "outputs": [
    {
     "name": "stdout",
     "output_type": "stream",
     "text": [
      "[4, 2]\n"
     ]
    }
   ],
   "source": [
    "my_list = [10, 8, 6, 4, 2]\n",
    "new_list = my_list[3:]\n",
    "print(new_list)"
   ]
  },
  {
   "cell_type": "markdown",
   "metadata": {
    "id": "ZDNMJ9cDk2_3"
   },
   "source": [
    "## Slicing List 3\n",
    "\n",
    "Bentuk ketiga dari slicing list adalah:\n",
    "\n",
    "```python\n",
    "my_list[:]\n",
    "```\n",
    "\n",
    "Bentuk ini akan berarti akan men-slicing seluruh elemen list. Hal ini bisa kita gunakan untuk meng-copy seluruh elemen dari suatu list dan bukan hanya meng-copy nama list-nya saja."
   ]
  },
  {
   "cell_type": "code",
   "execution_count": 18,
   "metadata": {
    "colab": {
     "base_uri": "https://localhost:8080/"
    },
    "executionInfo": {
     "elapsed": 395,
     "status": "ok",
     "timestamp": 1627164880096,
     "user": {
      "displayName": "Adam Mukharil Bachtiar",
      "photoUrl": "https://lh3.googleusercontent.com/a-/AOh14GgJw6pmR0uaa0upvAW6cptf4bPmiEhm1MAS1rx45as=s64",
      "userId": "18309246717753247212"
     },
     "user_tz": -420
    },
    "id": "_UevMUaOlRGK",
    "outputId": "8fd6932e-a233-4e79-da8a-cbd9165cf24c"
   },
   "outputs": [
    {
     "name": "stdout",
     "output_type": "stream",
     "text": [
      "[10, 8, 6, 4, 2]\n",
      "[10, 8, 10000, 4, 2]\n",
      "[10, 8, 6, 4, 2]\n"
     ]
    }
   ],
   "source": [
    "my_list = [10, 8, 6, 4, 2]\n",
    "new_list = my_list[:]\n",
    "print(new_list)\n",
    "\n",
    "my_list[2] = 10000\n",
    "print(my_list)\n",
    "print(new_list)"
   ]
  },
  {
   "cell_type": "markdown",
   "metadata": {
    "id": "JUxAOE_DnUiw"
   },
   "source": [
    "## Hands on Lab 17: Pemanfaatan Slicing List\n"
   ]
  },
  {
   "cell_type": "code",
   "execution_count": 19,
   "metadata": {
    "id": "UpHu8_FLnce0"
   },
   "outputs": [
    {
     "name": "stdout",
     "output_type": "stream",
     "text": [
      "[80, 50]\n",
      "[30, 120, 10]\n",
      "[30, 120, 10]\n",
      "[30, 120, 10]\n",
      "[100, 80, 50, 30]\n",
      "[100, 80, 50, 30]\n"
     ]
    }
   ],
   "source": [
    "a = [100, 80, 50, 30, 120, 10]\n",
    "\n",
    "#Tampilkan 80 50\n",
    "print(a[1:3])\n",
    "\n",
    "#Tampilkan 30 120 10\n",
    "print(a[-3:])\n",
    "print(a[3:])\n",
    "print(a[3:6])\n",
    "\n",
    "#Tampilkan 100 80 50 30\n",
    "print(a[0:-2])\n",
    "print(a[0:4])"
   ]
  },
  {
   "cell_type": "markdown",
   "metadata": {
    "id": "aSVZkOmImYt2"
   },
   "source": [
    "## in dan not in Operator\n",
    "\n",
    "Python memungkinkan Programmer untuk memeriksa apakah sebuah data ada di dalam sebuah list atau tidak. Ada dua kata kunci yang bisa digunakan, yaitu: ``in`` dan ``not in``. Dua operator tersebut akan menghasilkan nilai Boolean tergantung hasil pemeriksaan nilainya. Cara penggunaannya adalah sebagai berikut:"
   ]
  },
  {
   "cell_type": "code",
   "execution_count": 20,
   "metadata": {
    "colab": {
     "base_uri": "https://localhost:8080/"
    },
    "executionInfo": {
     "elapsed": 379,
     "status": "ok",
     "timestamp": 1627165336205,
     "user": {
      "displayName": "Adam Mukharil Bachtiar",
      "photoUrl": "https://lh3.googleusercontent.com/a-/AOh14GgJw6pmR0uaa0upvAW6cptf4bPmiEhm1MAS1rx45as=s64",
      "userId": "18309246717753247212"
     },
     "user_tz": -420
    },
    "id": "SsPSXfrdmvsR",
    "outputId": "ea4d7e11-4569-439d-8bd2-42cab9c49f2a"
   },
   "outputs": [
    {
     "name": "stdout",
     "output_type": "stream",
     "text": [
      "True\n",
      "False\n",
      "False\n",
      "True\n"
     ]
    }
   ],
   "source": [
    "nama = [\"Adam\", \"Andri\", \"Elsa\", \"Herti\"]\n",
    "\n",
    "print(\"Elsa\" in nama)\n",
    "print(\"Budi\" in nama)\n",
    "\n",
    "print(\"Andri\" not in nama)\n",
    "print(\"Budi\" not in nama)"
   ]
  },
  {
   "cell_type": "markdown",
   "metadata": {
    "id": "xDhmJ0L2nzX9"
   },
   "source": [
    "## Hands on Lab 18: Mencari nilai terbesar dalam List\n",
    "\n",
    "Silakan pahami kode program berikut:\n",
    "\n"
   ]
  },
  {
   "cell_type": "code",
   "execution_count": null,
   "metadata": {
    "colab": {
     "base_uri": "https://localhost:8080/"
    },
    "executionInfo": {
     "elapsed": 306,
     "status": "ok",
     "timestamp": 1627371827845,
     "user": {
      "displayName": "Adam Mukharil Bachtiar",
      "photoUrl": "https://lh3.googleusercontent.com/a-/AOh14GgJw6pmR0uaa0upvAW6cptf4bPmiEhm1MAS1rx45as=s64",
      "userId": "18309246717753247212"
     },
     "user_tz": -420
    },
    "id": "dmGZ-4P7n_xO",
    "outputId": "df8d5f1e-c6c6-4778-dab6-739cb6df4489"
   },
   "outputs": [],
   "source": [
    "my_list = [10, 3, 11, 17, 1, 9, 7, 15, 13]\n",
    "largest = my_list[0]\n",
    "\n",
    "for i in my_list:\n",
    "  if i > largest:\n",
    "      largest = i\n",
    "\n",
    "print(largest)"
   ]
  },
  {
   "cell_type": "markdown",
   "metadata": {
    "id": "oOHY63IcoCRB"
   },
   "source": [
    "## Hands on Lab 19: Menghitung rata-rata dari elemen List\n",
    "\n",
    "Silakan pahami kode program berikut:\n"
   ]
  },
  {
   "cell_type": "code",
   "execution_count": null,
   "metadata": {
    "id": "WeADMdZCoIPi"
   },
   "outputs": [],
   "source": [
    "a = [100, 80, 50, 30, 120, 10]\n",
    "jumlah = 0\n",
    "for i in a:\n",
    "    jumlah += i\n",
    "    \n",
    "rata_rata = jumlah / len(a)\n",
    "print(rata_rata)"
   ]
  },
  {
   "cell_type": "markdown",
   "metadata": {
    "id": "pzxSQpz7oVzh"
   },
   "source": [
    "## Hands on Lab 20: Mencari indeks dari data yang dicari\n",
    "\n",
    "Silakan pahami kode program berikut:"
   ]
  },
  {
   "cell_type": "code",
   "execution_count": null,
   "metadata": {
    "id": "9oZ1ixouodet"
   },
   "outputs": [],
   "source": [
    "my_list = [1, 2, 3, 4, 5, 6, 7, 8, 9, 10]\n",
    "to_find = 5\n",
    "found = False\n",
    "\n",
    "for i in range(len(my_list)):\n",
    "  found = my_list[i] == to_find\n",
    "  if found:\n",
    "    break\n",
    "\n",
    "if found:\n",
    "  print(\"Element found at index\", i)\n",
    "else:\n",
    "  print(\"absent\")"
   ]
  },
  {
   "cell_type": "markdown",
   "metadata": {
    "id": "9t-FfDdqpLG_"
   },
   "source": [
    "# Generate Elemen List Otomatis\n",
    "\n",
    "Ada beberapa perintah yang memungkinkan kita mengisi elemen list dengan generator nilai. Bentuk format umumnya adalah sebagai berikut:\n",
    "\n",
    "```python\n",
    "nama_list = [expression for element in list if conditional]\n",
    "``` "
   ]
  },
  {
   "cell_type": "code",
   "execution_count": 24,
   "metadata": {
    "scrolled": true
   },
   "outputs": [
    {
     "name": "stdout",
     "output_type": "stream",
     "text": [
      "[1, 2, 3, 4, 5, 6, 7, 8, 9, 10, 11, 12, 13, 14, 15, 16, 17, 18, 19, 20]\n",
      "[0, 1, 2, 3, 4, 5, 6, 7, 8, 9, 10, 11, 12, 13, 14, 15, 16, 17, 18, 19]\n",
      "[1, 2, 3, 4, 5, 6, 7, 8, 9, 10, 11, 12, 13, 14, 15, 16, 17, 18, 19, 20]\n",
      "[0, 2, 4, 6, 8, 10, 12, 14, 16, 18]\n"
     ]
    }
   ],
   "source": [
    "bil = []\n",
    "\n",
    "for i in range(20):\n",
    "    bil.append(i+1)\n",
    "\n",
    "print(bil)\n",
    "\n",
    "\n",
    "#ringkasan\n",
    "bilangan = [a for a in range(20)]\n",
    "print(bilangan)\n",
    "\n",
    "bilangan = [a+1 for a in range(20)]\n",
    "print(bilangan)\n",
    "\n",
    "bilangan = [a for a in range(20) if a%2 == 0]\n",
    "print(bilangan)"
   ]
  },
  {
   "cell_type": "code",
   "execution_count": null,
   "metadata": {
    "colab": {
     "base_uri": "https://localhost:8080/"
    },
    "executionInfo": {
     "elapsed": 348,
     "status": "ok",
     "timestamp": 1627166324295,
     "user": {
      "displayName": "Adam Mukharil Bachtiar",
      "photoUrl": "https://lh3.googleusercontent.com/a-/AOh14GgJw6pmR0uaa0upvAW6cptf4bPmiEhm1MAS1rx45as=s64",
      "userId": "18309246717753247212"
     },
     "user_tz": -420
    },
    "id": "ZK5J6jhCpkb_",
    "outputId": "69363866-cf54-431d-9bf2-c254a608b316"
   },
   "outputs": [],
   "source": [
    "pangkat = [x ** 2 for x in range(10)]\n",
    "print(pangkat)"
   ]
  },
  {
   "cell_type": "code",
   "execution_count": null,
   "metadata": {
    "colab": {
     "base_uri": "https://localhost:8080/"
    },
    "executionInfo": {
     "elapsed": 307,
     "status": "ok",
     "timestamp": 1627370579706,
     "user": {
      "displayName": "Adam Mukharil Bachtiar",
      "photoUrl": "https://lh3.googleusercontent.com/a-/AOh14GgJw6pmR0uaa0upvAW6cptf4bPmiEhm1MAS1rx45as=s64",
      "userId": "18309246717753247212"
     },
     "user_tz": -420
    },
    "id": "Tyd__41JqoLb",
    "outputId": "c124a917-fa10-455e-a88a-f41932ea8f8d"
   },
   "outputs": [],
   "source": [
    "kelipatan_dua = [2 * i for i in range(1,8)]\n",
    "print(kelipatan_dua)"
   ]
  },
  {
   "cell_type": "code",
   "execution_count": 2,
   "metadata": {
    "colab": {
     "base_uri": "https://localhost:8080/"
    },
    "executionInfo": {
     "elapsed": 3,
     "status": "ok",
     "timestamp": 1627166382176,
     "user": {
      "displayName": "Adam Mukharil Bachtiar",
      "photoUrl": "https://lh3.googleusercontent.com/a-/AOh14GgJw6pmR0uaa0upvAW6cptf4bPmiEhm1MAS1rx45as=s64",
      "userId": "18309246717753247212"
     },
     "user_tz": -420
    },
    "id": "qKmFug81qtOg",
    "outputId": "12fc5c14-e11d-4088-e8e8-b52030373139"
   },
   "outputs": [
    {
     "name": "stdout",
     "output_type": "stream",
     "text": [
      "[1, 9, 25, 49, 81]\n"
     ]
    }
   ],
   "source": [
    "pangkat = [x ** 2 for x in range(10)]\n",
    "bilangan_ganjil = [x for x in pangkat if x % 2 != 0 ]\n",
    "print(bilangan_ganjil)"
   ]
  },
  {
   "cell_type": "markdown",
   "metadata": {
    "id": "LLk6Jj_srP1h"
   },
   "source": [
    "# List Dua Dimensi (List dalam List)\n",
    "\n",
    "List dapat berisi berbagai tipe data seperti string, boolean maupun list lainnya. Kita sering sekali menemukan bentuk list seperti ini di kehidupan kita, salah satu contohnya adalah papan catur. Papan catur terdiri dari baris dan kolom, terdapat 8 baris dan juga 8 kolom. Setiap kolom ditandai oleh huruf A sampai dengan H, dan setiap baris ditandai oleh 1 sampai dengan 8.\n",
    "\n",
    "Bentuk umum dari list dua dimensi adalah:\n",
    "\n",
    "```python\n",
    "nama_list = [[..,..], [..,..,..], ..]\n",
    "```\n"
   ]
  },
  {
   "cell_type": "code",
   "execution_count": 25,
   "metadata": {
    "colab": {
     "base_uri": "https://localhost:8080/"
    },
    "executionInfo": {
     "elapsed": 309,
     "status": "ok",
     "timestamp": 1627370734301,
     "user": {
      "displayName": "Adam Mukharil Bachtiar",
      "photoUrl": "https://lh3.googleusercontent.com/a-/AOh14GgJw6pmR0uaa0upvAW6cptf4bPmiEhm1MAS1rx45as=s64",
      "userId": "18309246717753247212"
     },
     "user_tz": -420
    },
    "id": "zkg6ni_Ur7_G",
    "outputId": "22d1944b-29c7-4b83-ef10-51d74f7656f6"
   },
   "outputs": [
    {
     "name": "stdout",
     "output_type": "stream",
     "text": [
      "[6, 1, 8]\n",
      "1\n",
      "[10, 4]\n"
     ]
    }
   ],
   "source": [
    "k = [[3,5,1], [6,1,8], [9,10,4]]\n",
    "print(k[1])\n",
    "print(k[1][1])\n",
    "print(k[-1][-2:])"
   ]
  },
  {
   "cell_type": "code",
   "execution_count": null,
   "metadata": {
    "colab": {
     "base_uri": "https://localhost:8080/"
    },
    "executionInfo": {
     "elapsed": 894,
     "status": "ok",
     "timestamp": 1627167895248,
     "user": {
      "displayName": "Adam Mukharil Bachtiar",
      "photoUrl": "https://lh3.googleusercontent.com/a-/AOh14GgJw6pmR0uaa0upvAW6cptf4bPmiEhm1MAS1rx45as=s64",
      "userId": "18309246717753247212"
     },
     "user_tz": -420
    },
    "id": "8P3PRie1sCSy",
    "outputId": "80e285d5-c52f-4aea-e0b8-2801eeda1991"
   },
   "outputs": [],
   "source": [
    "table = [[\":(\", \":)\", \":(\", \":)\"],\n",
    "         [\":)\", \":(\", \":)\", \":)\"],\n",
    "         [\":(\", \":)\", \":)\", \":(\"],\n",
    "         [\":)\", \":)\", \":)\", \":(\"]]\n",
    "\n",
    "print(table)\n",
    "print(table[0][0])  # outputs: ':('\n",
    "print(table[0][3])  # outputs: ':)'"
   ]
  },
  {
   "cell_type": "markdown",
   "metadata": {
    "id": "wSrBduUws7X8"
   },
   "source": [
    "Kita juga bisa menggunakan konsep generate element list otomatis di list dua dimensi. Contoh penggunaannya adalah:\n"
   ]
  },
  {
   "cell_type": "code",
   "execution_count": 26,
   "metadata": {
    "colab": {
     "base_uri": "https://localhost:8080/"
    },
    "executionInfo": {
     "elapsed": 317,
     "status": "ok",
     "timestamp": 1627166964919,
     "user": {
      "displayName": "Adam Mukharil Bachtiar",
      "photoUrl": "https://lh3.googleusercontent.com/a-/AOh14GgJw6pmR0uaa0upvAW6cptf4bPmiEhm1MAS1rx45as=s64",
      "userId": "18309246717753247212"
     },
     "user_tz": -420
    },
    "id": "QLEH12HOtECU",
    "outputId": "a6300a20-7061-400b-ff1b-31ff04d83158"
   },
   "outputs": [
    {
     "name": "stdout",
     "output_type": "stream",
     "text": [
      "[[0, 1, 2, 3, 4, 5, 6, 7, 8, 9, 10, 11, 12, 13, 14, 15, 16, 17, 18, 19, 20, 21, 22, 23], [0, 1, 2, 3, 4, 5, 6, 7, 8, 9, 10, 11, 12, 13, 14, 15, 16, 17, 18, 19, 20, 21, 22, 23], [0, 1, 2, 3, 4, 5, 6, 7, 8, 9, 10, 11, 12, 13, 14, 15, 16, 17, 18, 19, 20, 21, 22, 23], [0, 1, 2, 3, 4, 5, 6, 7, 8, 9, 10, 11, 12, 13, 14, 15, 16, 17, 18, 19, 20, 21, 22, 23], [0, 1, 2, 3, 4, 5, 6, 7, 8, 9, 10, 11, 12, 13, 14, 15, 16, 17, 18, 19, 20, 21, 22, 23], [0, 1, 2, 3, 4, 5, 6, 7, 8, 9, 10, 11, 12, 13, 14, 15, 16, 17, 18, 19, 20, 21, 22, 23], [0, 1, 2, 3, 4, 5, 6, 7, 8, 9, 10, 11, 12, 13, 14, 15, 16, 17, 18, 19, 20, 21, 22, 23], [0, 1, 2, 3, 4, 5, 6, 7, 8, 9, 10, 11, 12, 13, 14, 15, 16, 17, 18, 19, 20, 21, 22, 23], [0, 1, 2, 3, 4, 5, 6, 7, 8, 9, 10, 11, 12, 13, 14, 15, 16, 17, 18, 19, 20, 21, 22, 23], [0, 1, 2, 3, 4, 5, 6, 7, 8, 9, 10, 11, 12, 13, 14, 15, 16, 17, 18, 19, 20, 21, 22, 23], [0, 1, 2, 3, 4, 5, 6, 7, 8, 9, 10, 11, 12, 13, 14, 15, 16, 17, 18, 19, 20, 21, 22, 23], [0, 1, 2, 3, 4, 5, 6, 7, 8, 9, 10, 11, 12, 13, 14, 15, 16, 17, 18, 19, 20, 21, 22, 23], [0, 1, 2, 3, 4, 5, 6, 7, 8, 9, 10, 11, 12, 13, 14, 15, 16, 17, 18, 19, 20, 21, 22, 23], [0, 1, 2, 3, 4, 5, 6, 7, 8, 9, 10, 11, 12, 13, 14, 15, 16, 17, 18, 19, 20, 21, 22, 23], [0, 1, 2, 3, 4, 5, 6, 7, 8, 9, 10, 11, 12, 13, 14, 15, 16, 17, 18, 19, 20, 21, 22, 23], [0, 1, 2, 3, 4, 5, 6, 7, 8, 9, 10, 11, 12, 13, 14, 15, 16, 17, 18, 19, 20, 21, 22, 23], [0, 1, 2, 3, 4, 5, 6, 7, 8, 9, 10, 11, 12, 13, 14, 15, 16, 17, 18, 19, 20, 21, 22, 23], [0, 1, 2, 3, 4, 5, 6, 7, 8, 9, 10, 11, 12, 13, 14, 15, 16, 17, 18, 19, 20, 21, 22, 23], [0, 1, 2, 3, 4, 5, 6, 7, 8, 9, 10, 11, 12, 13, 14, 15, 16, 17, 18, 19, 20, 21, 22, 23], [0, 1, 2, 3, 4, 5, 6, 7, 8, 9, 10, 11, 12, 13, 14, 15, 16, 17, 18, 19, 20, 21, 22, 23], [0, 1, 2, 3, 4, 5, 6, 7, 8, 9, 10, 11, 12, 13, 14, 15, 16, 17, 18, 19, 20, 21, 22, 23], [0, 1, 2, 3, 4, 5, 6, 7, 8, 9, 10, 11, 12, 13, 14, 15, 16, 17, 18, 19, 20, 21, 22, 23], [0, 1, 2, 3, 4, 5, 6, 7, 8, 9, 10, 11, 12, 13, 14, 15, 16, 17, 18, 19, 20, 21, 22, 23], [0, 1, 2, 3, 4, 5, 6, 7, 8, 9, 10, 11, 12, 13, 14, 15, 16, 17, 18, 19, 20, 21, 22, 23], [0, 1, 2, 3, 4, 5, 6, 7, 8, 9, 10, 11, 12, 13, 14, 15, 16, 17, 18, 19, 20, 21, 22, 23], [0, 1, 2, 3, 4, 5, 6, 7, 8, 9, 10, 11, 12, 13, 14, 15, 16, 17, 18, 19, 20, 21, 22, 23], [0, 1, 2, 3, 4, 5, 6, 7, 8, 9, 10, 11, 12, 13, 14, 15, 16, 17, 18, 19, 20, 21, 22, 23], [0, 1, 2, 3, 4, 5, 6, 7, 8, 9, 10, 11, 12, 13, 14, 15, 16, 17, 18, 19, 20, 21, 22, 23], [0, 1, 2, 3, 4, 5, 6, 7, 8, 9, 10, 11, 12, 13, 14, 15, 16, 17, 18, 19, 20, 21, 22, 23], [0, 1, 2, 3, 4, 5, 6, 7, 8, 9, 10, 11, 12, 13, 14, 15, 16, 17, 18, 19, 20, 21, 22, 23], [0, 1, 2, 3, 4, 5, 6, 7, 8, 9, 10, 11, 12, 13, 14, 15, 16, 17, 18, 19, 20, 21, 22, 23]]\n"
     ]
    }
   ],
   "source": [
    "temps = [[h for h in range(24)] for d in range(31)]\n",
    "print (temps)"
   ]
  },
  {
   "cell_type": "markdown",
   "metadata": {
    "id": "SO8ZSTwstplB"
   },
   "source": [
    "# Latihan: Perekam Cuaca\n",
    "\n",
    "Untuk mencari sebuah elemen pada list dua dimensi adalah dengan menggunakan dua koordinat yaitu nomer baris dan juga nomer kolom. Bayangkan ketika anda akan mengembangkan sebuah program untuk perekam cuaca otomatis. Alat ini akan mampu merekam suhu udara tiap jam sampai dengan satu bulan. Maka total data yang akan direkam adalah 24 jam x 31 hari = 744 data.\n",
    "\n",
    "Pertama-tama, kita harus memutuskan tipe data yang akan tepat untuk aplikasi ini. Pada kasus ini, tipe float adalah yang paling sesuai karena suhu biasanya diukur sampai dengan akurasi satu dibelakang koma (0.1). Selanjutnya, kita akan menentukan bahwa baris akan merepresentasikan jam (sehingga ada 24 baris) dan setiap baris akan direpresentasikan untuk satu hari (sehingga kita membutuhkan lagi 31 baris)."
   ]
  },
  {
   "cell_type": "code",
   "execution_count": null,
   "metadata": {
    "id": "Kgq_J3mct1b1"
   },
   "outputs": [],
   "source": [
    "temps = [[0.0 for h in range(24)] for d in range(31)]\n",
    "print (temps)"
   ]
  },
  {
   "cell_type": "markdown",
   "metadata": {
    "id": "JY3-cydmt52T"
   },
   "source": [
    "Kemudian, berikan pengaturan sebagai berikut:"
   ]
  },
  {
   "cell_type": "code",
   "execution_count": null,
   "metadata": {
    "colab": {
     "base_uri": "https://localhost:8080/"
    },
    "executionInfo": {
     "elapsed": 1310,
     "status": "ok",
     "timestamp": 1627167142092,
     "user": {
      "displayName": "Adam Mukharil Bachtiar",
      "photoUrl": "https://lh3.googleusercontent.com/a-/AOh14GgJw6pmR0uaa0upvAW6cptf4bPmiEhm1MAS1rx45as=s64",
      "userId": "18309246717753247212"
     },
     "user_tz": -420
    },
    "id": "WgMYjZZwt9Vu",
    "outputId": "54263db0-3094-4f6e-ffb8-ab28fdf44488"
   },
   "outputs": [],
   "source": [
    "temps = [[0.0 for h in range(24)] for d in range(31)]\n",
    "\n",
    "# 1. the monthly average noon temperature\n",
    "sum = 0.0\n",
    "\n",
    "for day in temps:\n",
    "  sum += day[11]\n",
    "\n",
    "average = sum / 31\n",
    "\n",
    "print(\"Average temperature at noon:\", average)\n",
    "\n",
    "# 2. the highest temperature during the whole month \n",
    "highest = -100.0\n",
    "\n",
    "for day in temps:\n",
    "  for temp in day:\n",
    "      if temp > highest:\n",
    "        highest = temp\n",
    "\n",
    "print(\"The highest temperature was:\", highest)\n",
    "\n",
    "# 3.count the days when the temperature at noon was at least 20 ℃\n",
    "hotDays = 0\n",
    "\n",
    "for day in temps:\n",
    "  if day[11] > 20.0:\n",
    "    hotDays += 1\n",
    "\n",
    "print(hotDays, \"days were hot.\")"
   ]
  },
  {
   "cell_type": "markdown",
   "metadata": {
    "id": "etnAGQ_SuuSM"
   },
   "source": [
    "Lakukan perubahan nilai pada list temps agar perhitungan berjalan. Silakan dicoba."
   ]
  },
  {
   "cell_type": "markdown",
   "metadata": {
    "id": "2HZKSI4rvHvA"
   },
   "source": [
    "# List Tiga Dimensi\n",
    "\n",
    "Python tidak memberikan batasan dalam konsep list dalam list namun perhatikan kebutuhan penggunaannya. Semakin banyak list dalam list lainnya akan menyebabkan kebingungan dalam pengaksesannya. Salah satu list dalam list yang masih sering digunakan yaitu <B>LIST TIGA DIMENSI</B>.\n",
    "\n",
    "Bentuk umum dari list tiga dimensi adalah:\n",
    "\n",
    "```python\n",
    "nama_list = [[[.., .., .., ..], [.., ..]], [.., ..]],[[.., ..]], ..]\n",
    "```"
   ]
  },
  {
   "cell_type": "code",
   "execution_count": null,
   "metadata": {
    "colab": {
     "base_uri": "https://localhost:8080/"
    },
    "executionInfo": {
     "elapsed": 499,
     "status": "ok",
     "timestamp": 1627167932095,
     "user": {
      "displayName": "Adam Mukharil Bachtiar",
      "photoUrl": "https://lh3.googleusercontent.com/a-/AOh14GgJw6pmR0uaa0upvAW6cptf4bPmiEhm1MAS1rx45as=s64",
      "userId": "18309246717753247212"
     },
     "user_tz": -420
    },
    "id": "OWbMd0xxxCWY",
    "outputId": "c6dc4c0f-ae74-4519-e4dd-c80278fbc228"
   },
   "outputs": [],
   "source": [
    "cube = [[[':(', 'x', 'x'],\n",
    "         [':)', 'x', 'x'],\n",
    "         [':(', 'x', 'x']],\n",
    "\n",
    "        [[':)', 'x', 'x'],\n",
    "         [':(', 'x', 'x'],\n",
    "         [':)', 'x', 'x']],\n",
    "\n",
    "        [[':(', 'x', 'x'],\n",
    "         [':)', 'x', 'x'],\n",
    "         [':)', 'x', 'x']]]\n",
    "\n",
    "print(cube)\n",
    "print(cube[0][0][0])  # outputs: ':('\n",
    "print(cube[2][2][0])  # outputs: ':)'"
   ]
  },
  {
   "cell_type": "code",
   "execution_count": null,
   "metadata": {
    "colab": {
     "base_uri": "https://localhost:8080/"
    },
    "executionInfo": {
     "elapsed": 315,
     "status": "ok",
     "timestamp": 1627167810470,
     "user": {
      "displayName": "Adam Mukharil Bachtiar",
      "photoUrl": "https://lh3.googleusercontent.com/a-/AOh14GgJw6pmR0uaa0upvAW6cptf4bPmiEhm1MAS1rx45as=s64",
      "userId": "18309246717753247212"
     },
     "user_tz": -420
    },
    "id": "69Bg93-_wPbi",
    "outputId": "470799b5-efa8-4278-b956-356b705a46e8"
   },
   "outputs": [],
   "source": [
    "rooms = [[[False for r in range(20)] for f in range(15)] for t in range(3)]\n",
    "\n",
    "rooms[1][9][13] = True\n",
    "rooms[0][0][0] = True\n",
    "\n",
    "vacancy = 0\n",
    "\n",
    "for room_number in range(20):\n",
    "    if not rooms[2][14][room_number]:\n",
    "        vacancy += 1\n",
    "\n",
    "print(rooms)"
   ]
  },
  {
   "cell_type": "markdown",
   "metadata": {},
   "source": [
    "# Fungsi zip() dan enumerate()\n",
    "\n",
    "List python mempunyai dua fungsi tambahan yang berguna dalam pengoperasian data di dalamnya. Fungsinya bernama ``zip()`` dan ``enumerate()``. Fungsi ``zip()`` digunakan untuk mengkombinasikan dua buah list menjadi satu tuple (apa itu tuple? Kita akan membahas pada topik berikutnya). Dikarenakan hasilnya tidak langsung dalam bentuk list, maka kita perlu melakukan type casting(perubahan tipe) pada hasil dari fungsi ``zip()``. Berikut cara penggunaan fungsi ``zip()``:"
   ]
  },
  {
   "cell_type": "code",
   "execution_count": 8,
   "metadata": {},
   "outputs": [
    {
     "name": "stdout",
     "output_type": "stream",
     "text": [
      "['a', 'b', 'c', 'd', 1, 2, 3]\n",
      "[('a', 1), ('b', 2), ('c', 3)]\n"
     ]
    }
   ],
   "source": [
    "list1 = ['a', 'b', 'c' ,'d']\n",
    "list2 = [1, 2, 3]\n",
    "\n",
    "# tanpa zip()\n",
    "list_hasil = list1 + list2\n",
    "print(list_hasil)\n",
    "\n",
    "# dengan zip()\n",
    "list_hasil = list(zip(list1, list2))\n",
    "print(list_hasil)"
   ]
  },
  {
   "cell_type": "markdown",
   "metadata": {},
   "source": [
    "Hasil dari zip mengkombinasikan antar elemen dari setiap elemennya sesuai dengan indeks yang ada di masing-masing list.\n",
    "\n",
    "><b>Catatan:</b> Apabila jumlah elemen berbeda antara list 1 dan list 2 maka pengkombinasian hanya akan terjadi sampai indeks yang sama antar dua list tersebut.\n",
    "\n",
    "Berikutnya adalah fungsi ``enumerate()``. Fungsi ini digunakan untuk mengembalikan tuple yang terdiri dari indeks dan nilai yang diwakili indeks tersebut. Berikut contoh penggunaan fungsi ``enumerate()``:"
   ]
  },
  {
   "cell_type": "code",
   "execution_count": 27,
   "metadata": {},
   "outputs": [
    {
     "name": "stdout",
     "output_type": "stream",
     "text": [
      "0 a\n",
      "1 b\n",
      "2 c\n",
      "3 d\n",
      "4 e\n"
     ]
    }
   ],
   "source": [
    "list_huruf = ['a', 'b', 'c' ,'d', 'e']\n",
    "\n",
    "for indeks, huruf in enumerate(list_huruf):\n",
    "    print(indeks, huruf)"
   ]
  },
  {
   "cell_type": "code",
   "execution_count": 30,
   "metadata": {},
   "outputs": [
    {
     "name": "stdout",
     "output_type": "stream",
     "text": [
      "5\n",
      "1\n",
      "2\n"
     ]
    }
   ],
   "source": [
    "a = [1, 2, 3, 4, 5]\n",
    "\n",
    "for i in range(-1,2):\n",
    "    print(a[i])"
   ]
  },
  {
   "cell_type": "code",
   "execution_count": null,
   "metadata": {},
   "outputs": [],
   "source": []
  }
 ],
 "metadata": {
  "colab": {
   "authorship_tag": "ABX9TyOsxwyic+kGzVzi2fUN01Hf",
   "name": "Topic 3 - Boolean Values, Conditional Execution, Loops, Lists and List Processing, Logical and Bitwise Operations.ipynb",
   "provenance": [],
   "toc_visible": true
  },
  "interpreter": {
   "hash": "e134e05457d34029b6460cd73bbf1ed73f339b5b6d98c95be70b69eba114fe95"
  },
  "kernelspec": {
   "display_name": "Python 3 (ipykernel)",
   "language": "python",
   "name": "python3"
  },
  "language_info": {
   "codemirror_mode": {
    "name": "ipython",
    "version": 3
   },
   "file_extension": ".py",
   "mimetype": "text/x-python",
   "name": "python",
   "nbconvert_exporter": "python",
   "pygments_lexer": "ipython3",
   "version": "3.9.13"
  },
  "toc": {
   "base_numbering": 1,
   "nav_menu": {},
   "number_sections": true,
   "sideBar": true,
   "skip_h1_title": false,
   "title_cell": "Table of Contents",
   "title_sidebar": "Contents",
   "toc_cell": false,
   "toc_position": {
    "height": "calc(100% - 180px)",
    "left": "10px",
    "top": "150px",
    "width": "227.807px"
   },
   "toc_section_display": true,
   "toc_window_display": true
  }
 },
 "nbformat": 4,
 "nbformat_minor": 1
}
