{
 "cells": [
  {
   "cell_type": "markdown",
   "id": "6b879354",
   "metadata": {},
   "source": [
    "# Latihan Pandas\n",
    "\n",
    "Fokus dari latihan ini adalah:\n",
    "\n",
    "1. Peserta mampu membaca data dari file CSV menggunakan pandas\n",
    "2. Peserta mampu menjalankan operasi pada dataframe\n",
    "3. Peserta mampu menyeleksi kolom atau baris pada dataframe\n",
    "4. Peserta mampu menyeleksi data menggunakan kondisional\n",
    "5. Peserta mampu menjalankan fungsi groupby sesuai kebutuhan\n",
    "\n",
    "File CSV bisa didapatkan dari https://github.com/hackathonBI/CCS."
   ]
  },
  {
   "cell_type": "markdown",
   "id": "a75c38f5",
   "metadata": {},
   "source": [
    "# Latihan Satu\n",
    "\n",
    "<b>Lakukan import library yang dibutuhkan</b>"
   ]
  },
  {
   "cell_type": "code",
   "execution_count": null,
   "id": "66666b6f",
   "metadata": {},
   "outputs": [],
   "source": []
  },
  {
   "cell_type": "markdown",
   "id": "dfc6c26e",
   "metadata": {},
   "source": [
    "<b>Baca Data dari file customers.csv</b>"
   ]
  },
  {
   "cell_type": "code",
   "execution_count": null,
   "id": "24138c3b",
   "metadata": {},
   "outputs": [],
   "source": []
  },
  {
   "cell_type": "markdown",
   "id": "aa430bbd",
   "metadata": {},
   "source": [
    "<b>Munculkan 5 data awal dan 5 data akhir di dataframe</b>"
   ]
  },
  {
   "cell_type": "code",
   "execution_count": null,
   "id": "420e8ce3",
   "metadata": {},
   "outputs": [],
   "source": []
  },
  {
   "cell_type": "markdown",
   "id": "18e7369c",
   "metadata": {},
   "source": [
    "<b>Munculkan kolom Segment dari data customer</b>"
   ]
  },
  {
   "cell_type": "code",
   "execution_count": null,
   "id": "2a85da4c",
   "metadata": {},
   "outputs": [],
   "source": []
  },
  {
   "cell_type": "markdown",
   "id": "016ade80",
   "metadata": {},
   "source": [
    "<b>Munculkan kolom CustomerID dan Currency dari data customer</b>"
   ]
  },
  {
   "cell_type": "code",
   "execution_count": null,
   "id": "5a90f50c",
   "metadata": {},
   "outputs": [],
   "source": []
  },
  {
   "cell_type": "markdown",
   "id": "95c59833",
   "metadata": {},
   "source": [
    "<b>Munculkan data customer yang nama Segment-nya diawali dengan huruf ``L``</b>"
   ]
  },
  {
   "cell_type": "code",
   "execution_count": null,
   "id": "98b30971",
   "metadata": {},
   "outputs": [],
   "source": []
  },
  {
   "cell_type": "markdown",
   "id": "32b3434f",
   "metadata": {},
   "source": [
    "<b>Urutkan data customer secara descending</b>"
   ]
  },
  {
   "cell_type": "code",
   "execution_count": null,
   "id": "f0523e84",
   "metadata": {},
   "outputs": [],
   "source": []
  },
  {
   "cell_type": "markdown",
   "id": "bdaa5d36",
   "metadata": {},
   "source": [
    "<b>Buat Dataframe baru dengan nama ``df_customer_favorite`` yang hanya berisi 5 data dari dataframe customer</b>"
   ]
  },
  {
   "cell_type": "code",
   "execution_count": null,
   "id": "103c7391",
   "metadata": {},
   "outputs": [],
   "source": []
  },
  {
   "cell_type": "markdown",
   "id": "5b35fb52",
   "metadata": {},
   "source": [
    "<b>Tambahkan dua kolom pada ``df_customer_favorite`` bernama ``tanggallahir`` dan ``umur`` dimana kolom umur dihitung berdasarkan tanggal lahir</b>"
   ]
  },
  {
   "cell_type": "code",
   "execution_count": null,
   "id": "a7272fce",
   "metadata": {},
   "outputs": [],
   "source": []
  },
  {
   "cell_type": "markdown",
   "id": "d86f7f22",
   "metadata": {},
   "source": [
    "# Latihan Dua\n",
    "\n",
    "<b>Baca data dari file ``transactions_1k.csv`` ke dalam dataframe</b>"
   ]
  },
  {
   "cell_type": "code",
   "execution_count": null,
   "id": "9060cfd3",
   "metadata": {},
   "outputs": [],
   "source": []
  },
  {
   "cell_type": "markdown",
   "id": "5f676a2e",
   "metadata": {},
   "source": [
    "<b>Munculkan data transaksi untuk CustomerID lebih dari 10000</b>"
   ]
  },
  {
   "cell_type": "code",
   "execution_count": null,
   "id": "dcb418eb",
   "metadata": {},
   "outputs": [],
   "source": []
  },
  {
   "cell_type": "markdown",
   "id": "29950cf0",
   "metadata": {},
   "source": [
    "<b>Munculkan data transaksi yang terjadi pada tanggal 23 Agustus 2012 sampai dengan 24 Agustus 2012</b>"
   ]
  },
  {
   "cell_type": "code",
   "execution_count": null,
   "id": "cb8c9ecc",
   "metadata": {},
   "outputs": [],
   "source": []
  },
  {
   "cell_type": "markdown",
   "id": "e6938a8b",
   "metadata": {},
   "source": [
    "<b>Munculkan data transaksi dengan jumlah pembelian terbanyak</b>"
   ]
  },
  {
   "cell_type": "code",
   "execution_count": null,
   "id": "bbaa1273",
   "metadata": {},
   "outputs": [],
   "source": []
  },
  {
   "cell_type": "markdown",
   "id": "bd43d3ae",
   "metadata": {},
   "source": [
    "<b>Munculkan data transaksi dengan total pembayaran terkecil</b>"
   ]
  },
  {
   "cell_type": "code",
   "execution_count": null,
   "id": "6619c723",
   "metadata": {},
   "outputs": [],
   "source": []
  },
  {
   "cell_type": "markdown",
   "id": "83584da5",
   "metadata": {},
   "source": [
    "<b>Gunakan fungsi ``describe`` untuk menampilkan pengolahan statistik untuk semua kolom</b>"
   ]
  },
  {
   "cell_type": "code",
   "execution_count": null,
   "id": "fe06f818",
   "metadata": {},
   "outputs": [],
   "source": []
  },
  {
   "cell_type": "markdown",
   "id": "68fcd934",
   "metadata": {},
   "source": [
    "<b>Tambahkan kolom tanggal, bulan, tahun, dan jam yang merupakan hasil dari splitting kolom ``Date`` dan ``Time``</b>"
   ]
  },
  {
   "cell_type": "code",
   "execution_count": null,
   "id": "e29c7fd9",
   "metadata": {},
   "outputs": [],
   "source": []
  },
  {
   "cell_type": "markdown",
   "id": "19ffe2c2",
   "metadata": {},
   "source": [
    "<b>Munculkan list Top 5 Customers yang memiliki nilai transaksi paling banyak</b>"
   ]
  },
  {
   "cell_type": "code",
   "execution_count": null,
   "id": "39aa0199",
   "metadata": {},
   "outputs": [],
   "source": []
  },
  {
   "cell_type": "markdown",
   "id": "5052eb1c",
   "metadata": {},
   "source": [
    "<b>Carilah waktu terbaik (hari dan jam) dimana paling banyak user gas station melakukan transaksi !</b>"
   ]
  },
  {
   "cell_type": "code",
   "execution_count": null,
   "id": "424ce55c",
   "metadata": {},
   "outputs": [],
   "source": []
  }
 ],
 "metadata": {
  "kernelspec": {
   "display_name": "Python 3",
   "language": "python",
   "name": "python3"
  },
  "language_info": {
   "codemirror_mode": {
    "name": "ipython",
    "version": 3
   },
   "file_extension": ".py",
   "mimetype": "text/x-python",
   "name": "python",
   "nbconvert_exporter": "python",
   "pygments_lexer": "ipython3",
   "version": "3.8.10"
  }
 },
 "nbformat": 4,
 "nbformat_minor": 5
}
