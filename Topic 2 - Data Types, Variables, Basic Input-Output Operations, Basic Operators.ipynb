{
 "cells": [
  {
   "cell_type": "markdown",
   "metadata": {
    "id": "UX0bUm4XOPMD"
   },
   "source": [
    "<b><font size = 30>Topic 2 - Data Types, Variables, Basic Input-Output Operations, Basic Operator</font></b>\n",
    "\n",
    "Topik ini berfokus membahas:\n",
    "\n",
    "1. Bermain dengan fungsi print()\n",
    "2. Python Literals\n",
    "3. Operator aritmatika dan hirarki prioritasnya\n",
    "4. Pengunaan variabel (lanjutan)\n",
    "5. Penggunaan komentar\n",
    "6. Fungsi input() dan operasi pada String\n"
   ]
  },
  {
   "cell_type": "markdown",
   "metadata": {
    "id": "s1Hs5VHwPLMd"
   },
   "source": [
    "# Bermain dengan fungsi print()\n",
    "\n",
    "print() adalah sebuah fungsi bawaan dari Python yang sangat powerful. Kita sudah melihat beberapa cara penggunaan fungsi print() pada <a href = \"https://colab.research.google.com/drive/1cjvTiLzeOh1fBLiz3Ra2FRWG9W0-9irI?usp=sharing\">Topic 1</a>. Sesuai dengan namanya, fungsi print() digunakan mencetak sesuatu di layar terminal. Sesuatu itu bisa berupa nilai, variabel, maupun return dari sebuah fungsi lainnya.\n",
    "\n",
    "Sebagai tambahan informasi, fungsi di dalam Python memiliki dua kegunaan, yaitu:\n",
    "\n",
    "1. <B>Menimbulkan suatu efek</B> - mengirimkan teks ke terminal, menyimpan data ke dalam database, meminta data dari API, dan lainnya.\n",
    "2. <B>Mengevaluasi nilai</B> - Melakukan operasi aritmatika lalu mengembalikan nilainya ke yang memanggil fungsi tersebut.\n",
    "\n",
    "Fungsi pada Python berasal dari:\n",
    "\n",
    "1. <B>Bawaan Python (Built-in Function)</B> - Fungsi siap pakai yang disiapkan oleh Python.\n",
    "2. <B>Python add-on/Modules</B> - Python memiliki beberapa modul yang memiliki fungsi tambahan untuk suatu domain spesifik.\n",
    "3. Fungsi buatan sendiri.\n",
    "\n",
    "Sebuah fungsi bisa saja memiliki satu atau lebih parameter, bahkan tidak sama sekali."
   ]
  },
  {
   "cell_type": "code",
   "execution_count": 1,
   "metadata": {
    "colab": {
     "base_uri": "https://localhost:8080/"
    },
    "executionInfo": {
     "elapsed": 5,
     "status": "ok",
     "timestamp": 1626589776654,
     "user": {
      "displayName": "Adam Mukharil Bachtiar",
      "photoUrl": "https://lh3.googleusercontent.com/a-/AOh14GgJw6pmR0uaa0upvAW6cptf4bPmiEhm1MAS1rx45as=s64",
      "userId": "18309246717753247212"
     },
     "user_tz": -420
    },
    "id": "AaPaAYOqTWPn",
    "outputId": "5aabb815-30f5-40cf-9d66-bfbad24e0e89"
   },
   "outputs": [
    {
     "name": "stdout",
     "output_type": "stream",
     "text": [
      "\n",
      "Halo, selamat datang!\n",
      "\n",
      "1 2 3\n"
     ]
    }
   ],
   "source": [
    "print() #tanpa parameter\n",
    "print(\"Halo, selamat datang!\") #dengan 1 parameter\n",
    "print()\n",
    "print(1,2,3) #dengan 3 parameter"
   ]
  },
  {
   "cell_type": "markdown",
   "metadata": {
    "id": "xyc6GRXVVJe5"
   },
   "source": [
    "## Hands on Lab 1: Familiarisasi fungsi print()\n",
    "\n",
    "1.   Cetak Hello, Python!\n",
    "2.   Cetak nama pertamamu\n",
    "3.   Ubah poin 2 tanpa menggunakan tanda kutip dua. Error apa yang terjadi?\n",
    "4.   Hilangkan tanda kurung pada poin 2 lalu error apa yang terjadi?\n",
    "5.   Gunakan tanda kutip satu sebagai pengganti tanda kutip dua pada poin 1 dan 2, lalu lihat apa yang terjadi\n",
    "\n"
   ]
  },
  {
   "cell_type": "code",
   "execution_count": 4,
   "metadata": {
    "colab": {
     "base_uri": "https://localhost:8080/",
     "height": 130
    },
    "executionInfo": {
     "elapsed": 10,
     "status": "error",
     "timestamp": 1626940596750,
     "user": {
      "displayName": "Adam Mukharil Bachtiar",
      "photoUrl": "https://lh3.googleusercontent.com/a-/AOh14GgJw6pmR0uaa0upvAW6cptf4bPmiEhm1MAS1rx45as=s64",
      "userId": "18309246717753247212"
     },
     "user_tz": -420
    },
    "id": "UvAK2rjlWgZ8",
    "outputId": "3ea7a900-02af-4b35-ddd3-b84d8db3afe6"
   },
   "outputs": [
    {
     "name": "stdout",
     "output_type": "stream",
     "text": [
      "Hello, Python!\n",
      "Adam Mukharil\n",
      "Adam Mukharil\n"
     ]
    }
   ],
   "source": [
    "print(\"Hello, Python!\")\n",
    "print(\"Adam Mukharil\")\n",
    "\n",
    "#untuk menjawab poin 3 dan 4, hilangkan tanda # (satu persatu cobanya)\n",
    "#print(Adam Mukharil)\n",
    "#print \"Adam Mukharil\"\n",
    "print('Adam Mukharil')"
   ]
  },
  {
   "cell_type": "code",
   "execution_count": 5,
   "metadata": {},
   "outputs": [
    {
     "name": "stdout",
     "output_type": "stream",
     "text": [
      "Hello, Python!\n",
      "Budi\n",
      "Hello, Python!\n",
      "Budi\n",
      "1 2 3\n",
      "1,2,3\n"
     ]
    }
   ],
   "source": [
    "print(\"Hello, Python!\")\n",
    "print(\"Budi\")\n",
    "\n",
    "print('Hello, Python!')\n",
    "print('Budi')\n",
    "\n",
    "print(1,2,3)\n",
    "print(\"1,2,3\")"
   ]
  },
  {
   "cell_type": "markdown",
   "metadata": {
    "id": "hnwqjRo7XoLp"
   },
   "source": [
    "## Hands on Lab 2: Newline di Python\n",
    "\n",
    "Kita bisa memberikan garis baru dengan menggunakan perintah print() atau dengan menggunakan newline character (\\n)."
   ]
  },
  {
   "cell_type": "code",
   "execution_count": 6,
   "metadata": {
    "colab": {
     "base_uri": "https://localhost:8080/"
    },
    "executionInfo": {
     "elapsed": 308,
     "status": "ok",
     "timestamp": 1626940848684,
     "user": {
      "displayName": "Adam Mukharil Bachtiar",
      "photoUrl": "https://lh3.googleusercontent.com/a-/AOh14GgJw6pmR0uaa0upvAW6cptf4bPmiEhm1MAS1rx45as=s64",
      "userId": "18309246717753247212"
     },
     "user_tz": -420
    },
    "id": "a72wkOcXX-R6",
    "outputId": "6122f385-ea1b-46a2-cd21-cfaca6cc20f5"
   },
   "outputs": [
    {
     "name": "stdout",
     "output_type": "stream",
     "text": [
      "Halo, selamat datang di Python!\n",
      "\n",
      "Mari kita berkenalan\n",
      "\n",
      "Kalau sampai waktuku\n",
      "Ku mau tak seorang kan merayu\n",
      "Tidak juga kau\n",
      "Tak perlu sedu sedan itu\n",
      "Aku ini binatang jalang\n"
     ]
    }
   ],
   "source": [
    "print(\"Halo, selamat datang di Python!\")\n",
    "print()\n",
    "print('Mari kita berkenalan')\n",
    "print()\n",
    "\n",
    "#alternatif lain menggunakan \\n\n",
    "print(\"Kalau sampai waktuku\\nKu mau tak seorang kan merayu\")\n",
    "print(\"Tidak juga kau\\nTak perlu sedu sedan itu\\nAku ini binatang jalang\")"
   ]
  },
  {
   "cell_type": "markdown",
   "metadata": {
    "id": "rIQ2Nb21Y5nR"
   },
   "source": [
    "## Hands on Lab 3: Escape Character\n",
    "\n",
    "Dalam komputasi dan telekomunikasi, karakter escape adalah karakter yang meminta interpretasi alternatif pada karakter berikut dalam urutan karakter."
   ]
  },
  {
   "cell_type": "code",
   "execution_count": 7,
   "metadata": {
    "colab": {
     "base_uri": "https://localhost:8080/"
    },
    "executionInfo": {
     "elapsed": 335,
     "status": "ok",
     "timestamp": 1626940995714,
     "user": {
      "displayName": "Adam Mukharil Bachtiar",
      "photoUrl": "https://lh3.googleusercontent.com/a-/AOh14GgJw6pmR0uaa0upvAW6cptf4bPmiEhm1MAS1rx45as=s64",
      "userId": "18309246717753247212"
     },
     "user_tz": -420
    },
    "id": "-XX4u-XZZsXi",
    "outputId": "690f7a74-c9d6-4ed6-91a5-5af2ac3aaf23"
   },
   "outputs": [
    {
     "name": "stdout",
     "output_type": "stream",
     "text": [
      "\\\n",
      "I can't love you anymore.\n",
      "I can't love you anymore\n",
      "I can't love you anymore\n"
     ]
    }
   ],
   "source": [
    "#perintah berikut akan error, cari tahu errornya ya! Cukup hilangkan tanda #\n",
    "#print(\"\\\")\n",
    "\n",
    "print(\"\\\\\") #yang ini tidak error\n",
    "\n",
    "print('I can\\'t love you anymore.')\n",
    "\n",
    "print('I can\\'t love you anymore')\n",
    "print(\"I can't love you anymore\")"
   ]
  },
  {
   "cell_type": "markdown",
   "metadata": {
    "id": "lxZECH9y_7iS"
   },
   "source": [
    "## Hands on Lab 4: Keyword Argument\n",
    "\n",
    "Fungsi print() memiliki mekanisme lain untuk mem-passing parameter (argument). Mekanisme ini adalah keyword argument. Bentuk keyword argument yang pertama adalah keyword <B>end</b>. Keyword ini digunakan untuk menjadikan suatu karakter menjadi akhir dari suatu argument yang ada di fungsi print().\n"
   ]
  },
  {
   "cell_type": "code",
   "execution_count": 8,
   "metadata": {
    "colab": {
     "base_uri": "https://localhost:8080/"
    },
    "executionInfo": {
     "elapsed": 321,
     "status": "ok",
     "timestamp": 1626941158331,
     "user": {
      "displayName": "Adam Mukharil Bachtiar",
      "photoUrl": "https://lh3.googleusercontent.com/a-/AOh14GgJw6pmR0uaa0upvAW6cptf4bPmiEhm1MAS1rx45as=s64",
      "userId": "18309246717753247212"
     },
     "user_tz": -420
    },
    "id": "bn8-YYFEAzkZ",
    "outputId": "86f84ec2-ebb1-4dfb-f51e-f6511984e037"
   },
   "outputs": [
    {
     "name": "stdout",
     "output_type": "stream",
     "text": [
      "Nama saya adalah Angga Setiyadi. Saya bekerja di UNIKOM.\n",
      "Nama saya adalah Andri Heryandi.\n",
      "Saya bekerja di UNIKOM.\n",
      "Nama saya adalah Angga Setiyadi.\n",
      "Saya bekerja di UNIKOM.\n",
      "Nama saya adalah Andri Heryandi\n"
     ]
    }
   ],
   "source": [
    "print(\"Nama saya adalah\", \"Angga Setiyadi.\", end = \" \")\n",
    "print(\"Saya bekerja di UNIKOM.\")\n",
    "\n",
    "print(\"Nama saya adalah\", \"Andri Heryandi.\", end = \"\\n\")\n",
    "print(\"Saya bekerja di UNIKOM.\")\n",
    "\n",
    "print(\"Nama saya adalah\", \"Angga Setiyadi.\")\n",
    "print(\"Saya bekerja di UNIKOM.\")\n",
    "\n",
    "print(\"Nama saya adalah\",\"Andri Heryandi\")"
   ]
  },
  {
   "cell_type": "markdown",
   "metadata": {
    "id": "d8YHhmCSBUdt"
   },
   "source": [
    "Keyword argument yang kedua adalah <B>sep</B>. Sep digunakan untuk memberikan pemisah (separator) antar paramater yang ada di fungsi print()."
   ]
  },
  {
   "cell_type": "code",
   "execution_count": 9,
   "metadata": {
    "colab": {
     "base_uri": "https://localhost:8080/"
    },
    "executionInfo": {
     "elapsed": 387,
     "status": "ok",
     "timestamp": 1626601923537,
     "user": {
      "displayName": "Adam Mukharil Bachtiar",
      "photoUrl": "https://lh3.googleusercontent.com/a-/AOh14GgJw6pmR0uaa0upvAW6cptf4bPmiEhm1MAS1rx45as=s64",
      "userId": "18309246717753247212"
     },
     "user_tz": -420
    },
    "id": "sR-LGcqDBmDP",
    "outputId": "220b7c02-3ea0-45b2-b20e-b3ce8a42fc70"
   },
   "outputs": [
    {
     "name": "stdout",
     "output_type": "stream",
     "text": [
      "Nama-saya-adalah-Elsa-Widiati\n",
      "Nama_saya_adalah_Elsa_Widiati\n"
     ]
    }
   ],
   "source": [
    "print(\"Nama\", \"saya\", \"adalah\", \"Elsa\", \"Widiati\", sep = \"-\")\n",
    "\n",
    "print(\"Nama\", \"saya\", \"adalah\", \"Elsa\", \"Widiati\", sep = \"_\")"
   ]
  },
  {
   "cell_type": "markdown",
   "metadata": {
    "id": "kZixoNUSB-Rc"
   },
   "source": [
    "Kedua keyword argument ini bisa digabungkan dalam satu buah fungsi print()."
   ]
  },
  {
   "cell_type": "code",
   "execution_count": 10,
   "metadata": {
    "colab": {
     "base_uri": "https://localhost:8080/"
    },
    "executionInfo": {
     "elapsed": 319,
     "status": "ok",
     "timestamp": 1626602239659,
     "user": {
      "displayName": "Adam Mukharil Bachtiar",
      "photoUrl": "https://lh3.googleusercontent.com/a-/AOh14GgJw6pmR0uaa0upvAW6cptf4bPmiEhm1MAS1rx45as=s64",
      "userId": "18309246717753247212"
     },
     "user_tz": -420
    },
    "id": "kOzznnNNCFQp",
    "outputId": "581c6067-b6fe-448d-a51d-e86103ef7255"
   },
   "outputs": [
    {
     "name": "stdout",
     "output_type": "stream",
     "text": [
      "Nama|saya|adalah|Elsa|Widiati\n",
      "Saya,adalah,seorang,Sarjana,Komputer;"
     ]
    }
   ],
   "source": [
    "print(\"Nama\", \"saya\", \"adalah\", \"Elsa\", \"Widiati\", sep = \"|\", end = \"\\n\" )\n",
    "print(\"Saya\", \"adalah\", \"seorang\", \"Sarjana\", \"Komputer\", end = \";\", sep = \",\")"
   ]
  },
  {
   "cell_type": "markdown",
   "metadata": {
    "id": "o6sZQB-qDS2R"
   },
   "source": [
    "<B>Output yang diharapkan</B>:\n",
    "Programming\\*\\*\\*Essentials\\*\\*\\*in\\.\\.\\.Python<br>\n",
    "<B>Aturan</B>: tidak boleh mengubah print di baris kedua\n",
    "\n",
    "```python\n",
    "print(\"Programming\",\"Essentials\",\"in\")\n",
    "print(\"Python\")\n",
    "```\n",
    "\n"
   ]
  },
  {
   "cell_type": "code",
   "execution_count": 11,
   "metadata": {
    "colab": {
     "base_uri": "https://localhost:8080/"
    },
    "executionInfo": {
     "elapsed": 316,
     "status": "ok",
     "timestamp": 1626603058540,
     "user": {
      "displayName": "Adam Mukharil Bachtiar",
      "photoUrl": "https://lh3.googleusercontent.com/a-/AOh14GgJw6pmR0uaa0upvAW6cptf4bPmiEhm1MAS1rx45as=s64",
      "userId": "18309246717753247212"
     },
     "user_tz": -420
    },
    "id": "6IQPoNWvEb_4",
    "outputId": "2dbc7208-3c5b-4df7-c580-1ce940f1ac8c"
   },
   "outputs": [
    {
     "name": "stdout",
     "output_type": "stream",
     "text": [
      "Programming***Essentials***in...Python\n"
     ]
    }
   ],
   "source": [
    "print(\"Programming\",\"Essentials\",\"in\",sep=\"***\",end=\"...\")\n",
    "print(\"Python\")"
   ]
  },
  {
   "cell_type": "markdown",
   "metadata": {
    "id": "luJIh4LCF2Vw"
   },
   "source": [
    "## Hands on Lab 5: Duplikat argument di fungsi print()\n",
    "\n",
    "Argument dalam fungsi print() bisa diduplikasi. Formatnya adalah sebagai berikut:\n",
    "\n",
    "```python\n",
    "print(\"argument\"*2)\n",
    "```"
   ]
  },
  {
   "cell_type": "code",
   "execution_count": 14,
   "metadata": {
    "colab": {
     "base_uri": "https://localhost:8080/"
    },
    "executionInfo": {
     "elapsed": 299,
     "status": "ok",
     "timestamp": 1626941480827,
     "user": {
      "displayName": "Adam Mukharil Bachtiar",
      "photoUrl": "https://lh3.googleusercontent.com/a-/AOh14GgJw6pmR0uaa0upvAW6cptf4bPmiEhm1MAS1rx45as=s64",
      "userId": "18309246717753247212"
     },
     "user_tz": -420
    },
    "id": "TH4JIVv4HOQK",
    "outputId": "356cc83f-0cee-4726-976d-fe9e25b38391"
   },
   "outputs": [
    {
     "name": "stdout",
     "output_type": "stream",
     "text": [
      "lagilagilagilagilagi\n",
      "kupukupukupukupukupukupukupukupukupukupu\n",
      "2\n",
      "11\n"
     ]
    }
   ],
   "source": [
    "print(\"lagi\"*5)\n",
    "print(\"kupu\"*10)\n",
    "print(1 * 2)\n",
    "print(\"1\"*2)"
   ]
  },
  {
   "cell_type": "code",
   "execution_count": 15,
   "metadata": {
    "colab": {
     "base_uri": "https://localhost:8080/"
    },
    "executionInfo": {
     "elapsed": 361,
     "status": "ok",
     "timestamp": 1626603523804,
     "user": {
      "displayName": "Adam Mukharil Bachtiar",
      "photoUrl": "https://lh3.googleusercontent.com/a-/AOh14GgJw6pmR0uaa0upvAW6cptf4bPmiEhm1MAS1rx45as=s64",
      "userId": "18309246717753247212"
     },
     "user_tz": -420
    },
    "id": "3L0oio9uH-dU",
    "outputId": "f4a7b63b-479c-4a86-84a6-8d0f89ef22ff"
   },
   "outputs": [
    {
     "name": "stdout",
     "output_type": "stream",
     "text": [
      "    *\n",
      "   * *\n",
      "  *   *\n",
      " *     *\n",
      "***   ***\n",
      "  *   *\n",
      "  *   *\n",
      "  *****\n"
     ]
    }
   ],
   "source": [
    "print(\"    *\")\n",
    "print(\"   * *\")\n",
    "print(\"  *   *\")\n",
    "print(\" *     *\")\n",
    "print(\"***   ***\")\n",
    "print(\"  *   *\")\n",
    "print(\"  *   *\")\n",
    "print(\"  *****\")"
   ]
  },
  {
   "cell_type": "markdown",
   "metadata": {
    "id": "CgbXBL5hID0n"
   },
   "source": [
    "<B>Tantangan</B>:<br>\n",
    "\n",
    "1. Minimalkan jumlah fungsi print() dengan menggunakan \"\\n\"\n",
    "2. Duplikat tanda panah, tempatkan kedua tanda panah samping-sampingan\n"
   ]
  },
  {
   "cell_type": "code",
   "execution_count": 16,
   "metadata": {
    "colab": {
     "base_uri": "https://localhost:8080/"
    },
    "executionInfo": {
     "elapsed": 344,
     "status": "ok",
     "timestamp": 1626603836476,
     "user": {
      "displayName": "Adam Mukharil Bachtiar",
      "photoUrl": "https://lh3.googleusercontent.com/a-/AOh14GgJw6pmR0uaa0upvAW6cptf4bPmiEhm1MAS1rx45as=s64",
      "userId": "18309246717753247212"
     },
     "user_tz": -420
    },
    "id": "Ez1A_klQIbG1",
    "outputId": "f8467ab2-0c51-4a3e-c175-47dd6e4ef8c5"
   },
   "outputs": [
    {
     "name": "stdout",
     "output_type": "stream",
     "text": [
      "    *\n",
      "   * *\n",
      "  *   *\n",
      " *     *\n",
      "***   ***\n",
      "  *   *\n",
      "  *   *\n",
      "  *****\n",
      "\n"
     ]
    }
   ],
   "source": [
    "#Tantangan 1\n",
    "print(\"    *\\n   * *\\n  *   *\\n *     *\\n***   ***\\n  *   *\\n  *   *\\n  *****\\n\")"
   ]
  },
  {
   "cell_type": "code",
   "execution_count": 17,
   "metadata": {
    "colab": {
     "base_uri": "https://localhost:8080/"
    },
    "executionInfo": {
     "elapsed": 422,
     "status": "ok",
     "timestamp": 1626603886140,
     "user": {
      "displayName": "Adam Mukharil Bachtiar",
      "photoUrl": "https://lh3.googleusercontent.com/a-/AOh14GgJw6pmR0uaa0upvAW6cptf4bPmiEhm1MAS1rx45as=s64",
      "userId": "18309246717753247212"
     },
     "user_tz": -420
    },
    "id": "pIfcLGyaJPK_",
    "outputId": "312bb96d-bb41-410b-8fa2-8bc4b7dc9947"
   },
   "outputs": [
    {
     "name": "stdout",
     "output_type": "stream",
     "text": [
      "    *        *    \n",
      "   * *      * *   \n",
      "  *   *    *   *  \n",
      " *     *  *     * \n",
      "***   ******   ***\n",
      "  *   *    *   *  \n",
      "  *   *    *   *  \n",
      "  *****    *****  \n"
     ]
    }
   ],
   "source": [
    "#Tantangan 2\n",
    "print(\"    *    \"*2)\n",
    "print(\"   * *   \"*2)\n",
    "print(\"  *   *  \"*2)\n",
    "print(\" *     * \"*2)\n",
    "print(\"***   ***\"*2)\n",
    "print(\"  *   *  \"*2)\n",
    "print(\"  *   *  \"*2)\n",
    "print(\"  *****  \"*2)"
   ]
  },
  {
   "cell_type": "markdown",
   "metadata": {
    "id": "9KNbAC_lKnA_"
   },
   "source": [
    "# Python Literals\n",
    "\n",
    "Literal merupakan notasi untuk mensimbolkan nilai, dapat berupa string, boolean maupun angka (integer dan float).\n"
   ]
  },
  {
   "cell_type": "code",
   "execution_count": 19,
   "metadata": {
    "colab": {
     "base_uri": "https://localhost:8080/"
    },
    "executionInfo": {
     "elapsed": 344,
     "status": "ok",
     "timestamp": 1626604433167,
     "user": {
      "displayName": "Adam Mukharil Bachtiar",
      "photoUrl": "https://lh3.googleusercontent.com/a-/AOh14GgJw6pmR0uaa0upvAW6cptf4bPmiEhm1MAS1rx45as=s64",
      "userId": "18309246717753247212"
     },
     "user_tz": -420
    },
    "id": "v7iakzXXLaOy",
    "outputId": "cc7d2c17-ea4b-4a4f-9035-8ba3d2e66867"
   },
   "outputs": [
    {
     "name": "stdout",
     "output_type": "stream",
     "text": [
      "1010\n",
      "10\n",
      "<class 'str'>\n",
      "<class 'int'>\n"
     ]
    }
   ],
   "source": [
    "# hasil output akan terlihat sama, namun nilai tersebut tersimpan berbeda dalam memori komputer\n",
    "print(\"10\")\n",
    "print(10)\n",
    "\n",
    "print(type(\"2\"))\n",
    "print(type(2))"
   ]
  },
  {
   "cell_type": "markdown",
   "metadata": {
    "id": "jqyvvT-eLylB"
   },
   "source": [
    "## Integer\n",
    "\n",
    "Integer adalah tipe data untuk menampung bilangan bulat. Selain disimbolkan dengan angka bilangan bulat, bilangan integer bisa disimbolkan dalam bentuk bilangan oktal dan bilangan hexadecimal."
   ]
  },
  {
   "cell_type": "code",
   "execution_count": 20,
   "metadata": {
    "colab": {
     "base_uri": "https://localhost:8080/"
    },
    "executionInfo": {
     "elapsed": 371,
     "status": "ok",
     "timestamp": 1626605891346,
     "user": {
      "displayName": "Adam Mukharil Bachtiar",
      "photoUrl": "https://lh3.googleusercontent.com/a-/AOh14GgJw6pmR0uaa0upvAW6cptf4bPmiEhm1MAS1rx45as=s64",
      "userId": "18309246717753247212"
     },
     "user_tz": -420
    },
    "id": "5D-yUP3oMMjD",
    "outputId": "ec948aae-9223-4032-a4c8-171da113b32f"
   },
   "outputs": [
    {
     "name": "stdout",
     "output_type": "stream",
     "text": [
      "123\n",
      "-123\n",
      "100000000\n",
      "8\n",
      "15\n"
     ]
    }
   ],
   "source": [
    "print(123)\n",
    "print(-123)\n",
    "print(100_000_000) #bisa dipisahkan dengan underscore agar mudah terbaca\n",
    "print(0o10) #ini bilangan oktal yang akan ditampilkan dalam bentuk decimal\n",
    "print(0xF) #ini bilangan hexadecimal yang akan ditampilkan dalam bentuk decimal\n"
   ]
  },
  {
   "cell_type": "markdown",
   "metadata": {
    "id": "nAH65vRbMy9U"
   },
   "source": [
    "## Float\n",
    "\n",
    "Float adalah tipe data untuk menampung bilangan pecahan (non-empty decimal fraction). Simbol untuk menyatakan pecahannya adalah simbol .(titik). Apabila bilangan di depan titik adalah 0 maka tidak perlu dituliskan begitu pun sebaliknya."
   ]
  },
  {
   "cell_type": "code",
   "execution_count": 21,
   "metadata": {
    "colab": {
     "base_uri": "https://localhost:8080/"
    },
    "executionInfo": {
     "elapsed": 305,
     "status": "ok",
     "timestamp": 1626605313738,
     "user": {
      "displayName": "Adam Mukharil Bachtiar",
      "photoUrl": "https://lh3.googleusercontent.com/a-/AOh14GgJw6pmR0uaa0upvAW6cptf4bPmiEhm1MAS1rx45as=s64",
      "userId": "18309246717753247212"
     },
     "user_tz": -420
    },
    "id": "Rxsu6H8kOPtB",
    "outputId": "f1e1e82b-b589-490b-f26a-40d965f5ee72"
   },
   "outputs": [
    {
     "name": "stdout",
     "output_type": "stream",
     "text": [
      "10.5\n",
      "-12.5\n",
      "0.25\n",
      "25.0\n"
     ]
    }
   ],
   "source": [
    "print(10.5)\n",
    "print(-12.5)\n",
    "print(.25)\n",
    "print(25.)"
   ]
  },
  {
   "cell_type": "markdown",
   "metadata": {
    "id": "blZD8icjRVZI"
   },
   "source": [
    "## Eksponen\n",
    "\n",
    "3e08 berarti $ 3 x 10 ^ 8 $ <br>\n",
    "3e-08 berarti $ 3 x 10 ^ {-8} $"
   ]
  },
  {
   "cell_type": "code",
   "execution_count": 22,
   "metadata": {
    "colab": {
     "base_uri": "https://localhost:8080/"
    },
    "executionInfo": {
     "elapsed": 294,
     "status": "ok",
     "timestamp": 1626606246218,
     "user": {
      "displayName": "Adam Mukharil Bachtiar",
      "photoUrl": "https://lh3.googleusercontent.com/a-/AOh14GgJw6pmR0uaa0upvAW6cptf4bPmiEhm1MAS1rx45as=s64",
      "userId": "18309246717753247212"
     },
     "user_tz": -420
    },
    "id": "a3sZI-toRz6o",
    "outputId": "88c1a308-e513-42c0-fd21-7f2b46e5a4a0"
   },
   "outputs": [
    {
     "name": "stdout",
     "output_type": "stream",
     "text": [
      "300000000.0\n",
      "0.03\n",
      "1.2e-22\n",
      "3e+17\n"
     ]
    }
   ],
   "source": [
    "print(3e8)\n",
    "print(3e-2)\n",
    "\n",
    "print(0.00000000000000000000012)\n",
    "print(300000000000000000.0)"
   ]
  },
  {
   "cell_type": "markdown",
   "metadata": {
    "id": "elc7wEZ4SfB1"
   },
   "source": [
    "## String\n",
    "\n",
    "String digunakan ketika akan melakukan pemrosesan teks."
   ]
  },
  {
   "cell_type": "markdown",
   "metadata": {
    "colab": {
     "base_uri": "https://localhost:8080/"
    },
    "executionInfo": {
     "elapsed": 367,
     "status": "ok",
     "timestamp": 1626606607311,
     "user": {
      "displayName": "Adam Mukharil Bachtiar",
      "photoUrl": "https://lh3.googleusercontent.com/a-/AOh14GgJw6pmR0uaa0upvAW6cptf4bPmiEhm1MAS1rx45as=s64",
      "userId": "18309246717753247212"
     },
     "user_tz": -420
    },
    "id": "fbFhf5_FStrE",
    "outputId": "f97cdce2-9fca-4737-ec33-d803c7e8ecd0"
   },
   "source": [
    "# print(\"Ini adalah sebuah String\")\n",
    "print(\"BLT menjadi \\\"Berkah\\\" untuk para Koruptor\") #escape character\n",
    "print('BLT menjadi \"Berkah\" untuk para Koruptor') #alternatif lain sebagai pengganti escape character\n",
    "print(\"Jum'at\")\n",
    "print(\"\") #ini string kosong\n",
    "print('') #ini string kosong juga"
   ]
  },
  {
   "cell_type": "markdown",
   "metadata": {
    "id": "xdDyMI8DUDqM"
   },
   "source": [
    "## Booelan\n",
    "\n",
    "Tipe data boolean hanya mempunyai dua nilai, yaitu: True dan False (huruf awal kapital). Dua nilai ini bisa dinotasikan dengan 0 dan 1."
   ]
  },
  {
   "cell_type": "code",
   "execution_count": 24,
   "metadata": {
    "colab": {
     "base_uri": "https://localhost:8080/"
    },
    "executionInfo": {
     "elapsed": 304,
     "status": "ok",
     "timestamp": 1626606884950,
     "user": {
      "displayName": "Adam Mukharil Bachtiar",
      "photoUrl": "https://lh3.googleusercontent.com/a-/AOh14GgJw6pmR0uaa0upvAW6cptf4bPmiEhm1MAS1rx45as=s64",
      "userId": "18309246717753247212"
     },
     "user_tz": -420
    },
    "id": "b8ibd6W3Uhh9",
    "outputId": "c5d6a6dc-6132-48df-b2ea-3e438695c96a"
   },
   "outputs": [
    {
     "name": "stdout",
     "output_type": "stream",
     "text": [
      "True\n",
      "False\n",
      "True\n",
      "False\n"
     ]
    }
   ],
   "source": [
    "print(10 > 5)\n",
    "print(10 < 5)\n",
    "print(\"Adam\" == \"Adam\")\n",
    "print(\"Adam\" == \"adam\")"
   ]
  },
  {
   "cell_type": "markdown",
   "metadata": {
    "id": "rTKOHtM2U3xD"
   },
   "source": [
    "## None\n",
    "\n",
    "Digunakan untuk menyatakan null variabel atau object."
   ]
  },
  {
   "cell_type": "code",
   "execution_count": 25,
   "metadata": {
    "colab": {
     "base_uri": "https://localhost:8080/"
    },
    "executionInfo": {
     "elapsed": 372,
     "status": "ok",
     "timestamp": 1626607030117,
     "user": {
      "displayName": "Adam Mukharil Bachtiar",
      "photoUrl": "https://lh3.googleusercontent.com/a-/AOh14GgJw6pmR0uaa0upvAW6cptf4bPmiEhm1MAS1rx45as=s64",
      "userId": "18309246717753247212"
     },
     "user_tz": -420
    },
    "id": "z1dBeSP0VXMg",
    "outputId": "c5bf82db-0190-4ff0-f33a-61f326240511"
   },
   "outputs": [
    {
     "name": "stdout",
     "output_type": "stream",
     "text": [
      "None\n"
     ]
    }
   ],
   "source": [
    "print(None)"
   ]
  },
  {
   "cell_type": "markdown",
   "metadata": {
    "id": "DUvcA4wBBE81"
   },
   "source": [
    "# Operator Aritmatika\n",
    "\n",
    "Ada beberapa operator aritmatika yang bisa digunakan di Python. Berikut adalah operator aritmatika di Python:\n",
    "\n",
    "| Operator | Penggunaan | Penggunaan |\n",
    "| :-: | :-- | :-- |\n",
    "| + | Penambahan | a + b |\n",
    "| - | Pengurangan | a - b |\n",
    "| * | Perkalian | a * b |\n",
    "| / | Pembagian | a / b |\n",
    "| % | Modulo - Sisa Bagi | a % b |\n",
    "|// | Pembagian dan hasil dibulatkan ke bawah | a // b |\n",
    "| ** | Eksponen atau pangkat | a ** y |\n"
   ]
  },
  {
   "cell_type": "markdown",
   "metadata": {
    "id": "zYPmyOu8ClhR"
   },
   "source": [
    "## Hands on Lab 6: Eksponen atau Perpangkatan"
   ]
  },
  {
   "cell_type": "code",
   "execution_count": 26,
   "metadata": {
    "colab": {
     "base_uri": "https://localhost:8080/"
    },
    "executionInfo": {
     "elapsed": 5,
     "status": "ok",
     "timestamp": 1626669320328,
     "user": {
      "displayName": "Adam Mukharil Bachtiar",
      "photoUrl": "https://lh3.googleusercontent.com/a-/AOh14GgJw6pmR0uaa0upvAW6cptf4bPmiEhm1MAS1rx45as=s64",
      "userId": "18309246717753247212"
     },
     "user_tz": -420
    },
    "id": "nWWuGITJB3EZ",
    "outputId": "d534fc51-8c21-49b4-c028-4c1b87d7ccc4"
   },
   "outputs": [
    {
     "name": "stdout",
     "output_type": "stream",
     "text": [
      "8\n",
      "8.0\n",
      "8.0\n",
      "8.0\n"
     ]
    }
   ],
   "source": [
    "print(2 ** 3)\n",
    "print(2 ** 3.)\n",
    "print(2. ** 3)\n",
    "print(2. ** 3.)"
   ]
  },
  {
   "cell_type": "markdown",
   "metadata": {
    "id": "eO9qcRFSDCLX"
   },
   "source": [
    "## Hands on Lab 7: Pembagian\n"
   ]
  },
  {
   "cell_type": "code",
   "execution_count": 27,
   "metadata": {
    "colab": {
     "base_uri": "https://localhost:8080/"
    },
    "executionInfo": {
     "elapsed": 260,
     "status": "ok",
     "timestamp": 1626669512572,
     "user": {
      "displayName": "Adam Mukharil Bachtiar",
      "photoUrl": "https://lh3.googleusercontent.com/a-/AOh14GgJw6pmR0uaa0upvAW6cptf4bPmiEhm1MAS1rx45as=s64",
      "userId": "18309246717753247212"
     },
     "user_tz": -420
    },
    "id": "kRHBTXIgDKPQ",
    "outputId": "d4947e15-ecf0-42dd-8f18-a638ac7850d1"
   },
   "outputs": [
    {
     "name": "stdout",
     "output_type": "stream",
     "text": [
      "2.0\n",
      "2.0\n",
      "2.0\n",
      "2.0\n",
      "2\n",
      "2.0\n",
      "2.0\n",
      "2.0\n",
      "1\n",
      "1.0\n",
      "1.5\n",
      "1.5\n",
      "2\n"
     ]
    }
   ],
   "source": [
    "#Pembagian\n",
    "print(6 / 3)\n",
    "print(6 / 3.)\n",
    "print(6. / 3)\n",
    "print(6. / 3.)\n",
    "\n",
    "#Pembagian dengan pembulatan ke bawah\n",
    "print(6 // 3)\n",
    "print(6 // 3.)\n",
    "print(6. // 3)\n",
    "print(6. // 3.)\n",
    "print(6 // 4)\n",
    "print(6. // 4)\n",
    "print(6 / 4)\n",
    "print(6. / 4)\n",
    "\n",
    "#Sisa Bagi\n",
    "print(14 % 4) "
   ]
  },
  {
   "cell_type": "markdown",
   "metadata": {
    "id": "m0WiQ0OrDO6F"
   },
   "source": [
    "## Hands on Lab 8: Operator lainnya (untuk menjadi perhatian)"
   ]
  },
  {
   "cell_type": "code",
   "execution_count": 28,
   "metadata": {
    "colab": {
     "base_uri": "https://localhost:8080/"
    },
    "executionInfo": {
     "elapsed": 269,
     "status": "ok",
     "timestamp": 1626669607410,
     "user": {
      "displayName": "Adam Mukharil Bachtiar",
      "photoUrl": "https://lh3.googleusercontent.com/a-/AOh14GgJw6pmR0uaa0upvAW6cptf4bPmiEhm1MAS1rx45as=s64",
      "userId": "18309246717753247212"
     },
     "user_tz": -420
    },
    "id": "0l-IzxF5EEP-",
    "outputId": "ece2d8d4-6265-4411-f0b1-af03408bdf10"
   },
   "outputs": [
    {
     "name": "stdout",
     "output_type": "stream",
     "text": [
      "0\n",
      "4.0\n"
     ]
    }
   ],
   "source": [
    "print(-4 + 4)\n",
    "print(-4. + 8)"
   ]
  },
  {
   "cell_type": "markdown",
   "metadata": {
    "id": "uh1EjweeEdeP"
   },
   "source": [
    "## Hirarki Prioritas dalam Operator\n",
    "\n",
    "Setiap operator aritmatika dalam Python mempunyai prioritas. Prioritas ini akan menentukan mana dulu operator yang akan pertama dieksekusi baru kemudian diikuti dengan operator yang memiliki prioritas lebih rendah.\n",
    "\n",
    "Sebagai contoh: 10 + 20 * 10, berapa hasilnya?\n",
    "Operator perkalian memiliki prioritas lebih tinggi dibandingkan dengan operator pertambahan sehingga pada kasus tersebut, 20 * 10 akan dijalankan lebih dulu barulah hasil dari perkalian tersebut, ditambah dengan 10."
   ]
  },
  {
   "cell_type": "code",
   "execution_count": 31,
   "metadata": {
    "colab": {
     "base_uri": "https://localhost:8080/"
    },
    "executionInfo": {
     "elapsed": 362,
     "status": "ok",
     "timestamp": 1626669965965,
     "user": {
      "displayName": "Adam Mukharil Bachtiar",
      "photoUrl": "https://lh3.googleusercontent.com/a-/AOh14GgJw6pmR0uaa0upvAW6cptf4bPmiEhm1MAS1rx45as=s64",
      "userId": "18309246717753247212"
     },
     "user_tz": -420
    },
    "id": "798CjQJ8Fadh",
    "outputId": "368f074d-4338-4871-a4d1-fe43fe6ee0d2"
   },
   "outputs": [
    {
     "name": "stdout",
     "output_type": "stream",
     "text": [
      "300\n"
     ]
    }
   ],
   "source": [
    "print(10 + 20 * 10)"
   ]
  },
  {
   "cell_type": "markdown",
   "metadata": {
    "id": "Pw9WqRMvFqhG"
   },
   "source": [
    "Python menggunakan konsep <B>Left Binding</B> untuk melakukan operasi aritmatika dimana artinya adalah proses pembacaan operator dimulai dari kiri ke kanan ketika operator memiliki <B>prioritas yang sama</B>."
   ]
  },
  {
   "cell_type": "code",
   "execution_count": 29,
   "metadata": {
    "colab": {
     "base_uri": "https://localhost:8080/"
    },
    "executionInfo": {
     "elapsed": 1074,
     "status": "ok",
     "timestamp": 1626670162953,
     "user": {
      "displayName": "Adam Mukharil Bachtiar",
      "photoUrl": "https://lh3.googleusercontent.com/a-/AOh14GgJw6pmR0uaa0upvAW6cptf4bPmiEhm1MAS1rx45as=s64",
      "userId": "18309246717753247212"
     },
     "user_tz": -420
    },
    "id": "SZ4Sxfi6GFka",
    "outputId": "aa0cee84-81b6-4af4-8162-b90ed9fe2af1"
   },
   "outputs": [
    {
     "name": "stdout",
     "output_type": "stream",
     "text": [
      "1\n",
      "256\n"
     ]
    }
   ],
   "source": [
    "print(9 % 6 % 2)\n",
    "print(2 ** 2 ** 3)"
   ]
  },
  {
   "cell_type": "markdown",
   "metadata": {
    "id": "3gXiAI09GSfu"
   },
   "source": [
    "| Prioritas |\tOperator | <B></B> |\n",
    "| --: | :---| :-- |\n",
    "| 1\t| +, - | unary |\n",
    "| 2\t| ** |\t|\n",
    "| 3\t| *, /, //,  % | |\t\n",
    "| 4\t| +, - |\tbinary |\n",
    "\n",
    "\n"
   ]
  },
  {
   "cell_type": "markdown",
   "metadata": {
    "id": "kTkRPPwZHkp3"
   },
   "source": [
    "## Tanda Kurung (parentheses)\n",
    "\n",
    "Tanda kurung digunakan untuk mengubah urutan eksekusi dari operator aritmatika. Operasi yang ditandai dengan tanda kurung, akan dijalankan lebih dahulu dibandingkan operasi lainnya. Selain itu tanda kurung juga bisa digunakan untuk mempermudah pembacaan suatu rumus."
   ]
  },
  {
   "cell_type": "code",
   "execution_count": 32,
   "metadata": {
    "id": "11ndv-52IG7I"
   },
   "outputs": [
    {
     "name": "stdout",
     "output_type": "stream",
     "text": [
      "10.0\n"
     ]
    }
   ],
   "source": [
    "print((5 * ((25 % 13) + 100) / (2 * 13)) // 2)"
   ]
  },
  {
   "cell_type": "markdown",
   "metadata": {
    "id": "5FxJ6CSr0qUU"
   },
   "source": [
    "## Shortcut Operator\n",
    "\n",
    "Python mempunyai fitur berupa <B>SHORTCUT OPERATOR</B>. Fitur ini memungkinkan kita untuk menyingkat penulisan sebuah rumus atau formula di dalam Python. \n",
    "\n",
    "```python\n",
    "variabel = variabel operator operand\n",
    "\n",
    "menjadi\n",
    "\n",
    "variabel operator= operand\n",
    "```"
   ]
  },
  {
   "cell_type": "code",
   "execution_count": null,
   "metadata": {
    "id": "tmhfu2Eo2i7C",
    "scrolled": true
   },
   "outputs": [],
   "source": [
    "a = a + b #tanpa shortcut operator\n",
    "a += b #dengan shortcut operator\n",
    "\n",
    "var = var / 2 #tanpa shortcut operator\n",
    "var /= 2 #dengan shortcut operator\n",
    "\n",
    "j = j - (i + var + rem) #tanpa shortcut operator\n",
    "j -= (i + var + rem) #dengan shortcut operator"
   ]
  },
  {
   "cell_type": "markdown",
   "metadata": {
    "id": "kZ9m882pIW-w"
   },
   "source": [
    "# Variabel\n",
    "\n",
    "Variabel digunakan sebagai penampung nilai sementara yang akan diproses. Variabel memiliki nama variabel dan nilai variabel. \n",
    "\n",
    "Aturan pemberian nama variabel pada Python adalah sebagai berikut:\n",
    "1. Nama variabel berupa huruf upper-case atau lower-case, digit angka, dan karakter _ (underscore)\n",
    "2. Harus dimulai dengan huruf\n",
    "3. Underscore dianggap huruf\n",
    "4. Upper-case dan lower-case dianggap berbeda (case sensitive)\n",
    "5. Tidak boleh menggunakan reserved words di Python (daftarnya bisa dilihat di <a href = \"https://www.tutorialspoint.com/What-are-Reserved-Keywords-in-Python\"> Link Berikut</a>).\n",
    "\n",
    "Berbeda dengan beberapa bahasa pemrograman lain yang mengharuskan proses deklarasi tipe data pada suatu variabel, variabel di Python bisa menampung tipe data apapun. <br> <br>\n",
    "> <B>Catatan</B>: Nilai yang disimpan dalam sebuah variabel adalah nilai terakhir yang di-assign ke variabel tersebut."
   ]
  },
  {
   "cell_type": "code",
   "execution_count": 33,
   "metadata": {
    "colab": {
     "base_uri": "https://localhost:8080/"
    },
    "executionInfo": {
     "elapsed": 410,
     "status": "ok",
     "timestamp": 1626689967175,
     "user": {
      "displayName": "Adam Mukharil Bachtiar",
      "photoUrl": "https://lh3.googleusercontent.com/a-/AOh14GgJw6pmR0uaa0upvAW6cptf4bPmiEhm1MAS1rx45as=s64",
      "userId": "18309246717753247212"
     },
     "user_tz": -420
    },
    "id": "YE8Dy_HjRmuF",
    "outputId": "bf451428-902d-475a-acb5-4b6ce9b6af12"
   },
   "outputs": [
    {
     "name": "stdout",
     "output_type": "stream",
     "text": [
      "10\n",
      "Adam\n",
      "4.0\n",
      "False\n",
      "None\n"
     ]
    }
   ],
   "source": [
    "var = 10\n",
    "print(var)\n",
    "\n",
    "var = \"Adam\"\n",
    "print(var)\n",
    "\n",
    "var = 4.\n",
    "print(var)\n",
    "\n",
    "var = False\n",
    "print(var)\n",
    "\n",
    "var = None\n",
    "print(var)"
   ]
  },
  {
   "cell_type": "markdown",
   "metadata": {
    "id": "ReOySLfLSE1M"
   },
   "source": [
    "## Penggunaan Variabel\n",
    "\n",
    "Variabel tidak bisa digunakan apabila tidak terdefinisi sebelumnya. Pemanggilan variabel yang tidak terdefinisi sebelumnya akan mengakibatkan error berupa <B>NameError</B>."
   ]
  },
  {
   "cell_type": "code",
   "execution_count": 35,
   "metadata": {
    "colab": {
     "base_uri": "https://localhost:8080/",
     "height": 181
    },
    "executionInfo": {
     "elapsed": 392,
     "status": "error",
     "timestamp": 1626690166188,
     "user": {
      "displayName": "Adam Mukharil Bachtiar",
      "photoUrl": "https://lh3.googleusercontent.com/a-/AOh14GgJw6pmR0uaa0upvAW6cptf4bPmiEhm1MAS1rx45as=s64",
      "userId": "18309246717753247212"
     },
     "user_tz": -420
    },
    "id": "A5UunohuSV0O",
    "outputId": "8c158450-cd4a-4987-d3d6-3a00680288d7"
   },
   "outputs": [
    {
     "ename": "NameError",
     "evalue": "name 'Variabel' is not defined",
     "output_type": "error",
     "traceback": [
      "\u001b[0;31m---------------------------------------------------------------------------\u001b[0m",
      "\u001b[0;31mNameError\u001b[0m                                 Traceback (most recent call last)",
      "Input \u001b[0;32mIn [35]\u001b[0m, in \u001b[0;36m<cell line: 2>\u001b[0;34m()\u001b[0m\n\u001b[1;32m      1\u001b[0m variabel \u001b[38;5;241m=\u001b[39m \u001b[38;5;241m100\u001b[39m\n\u001b[0;32m----> 2\u001b[0m \u001b[38;5;28mprint\u001b[39m(\u001b[43mVariabel\u001b[49m)\n",
      "\u001b[0;31mNameError\u001b[0m: name 'Variabel' is not defined"
     ]
    }
   ],
   "source": [
    "variabel = 100\n",
    "print(Variabel)"
   ]
  },
  {
   "cell_type": "markdown",
   "metadata": {
    "id": "zzIwc-1AS0Ty"
   },
   "source": [
    "Kita bisa menggunakan tanda + apabila ingin menampilkan paramater lain di fungsi print() bersamaan dengan nilai dari variabel bertipe String."
   ]
  },
  {
   "cell_type": "code",
   "execution_count": 36,
   "metadata": {
    "colab": {
     "base_uri": "https://localhost:8080/"
    },
    "executionInfo": {
     "elapsed": 526,
     "status": "ok",
     "timestamp": 1626690398735,
     "user": {
      "displayName": "Adam Mukharil Bachtiar",
      "photoUrl": "https://lh3.googleusercontent.com/a-/AOh14GgJw6pmR0uaa0upvAW6cptf4bPmiEhm1MAS1rx45as=s64",
      "userId": "18309246717753247212"
     },
     "user_tz": -420
    },
    "id": "B5CdHuryTBYS",
    "outputId": "ef516eca-682e-4fe9-bfb2-eb982e041e17"
   },
   "outputs": [
    {
     "name": "stdout",
     "output_type": "stream",
     "text": [
      "Buku bacaan yang saya sukai adalah Harry Potter\n",
      "<class 'str'>\n"
     ]
    }
   ],
   "source": [
    "buku_favorit = \"Harry Potter\"\n",
    "print(\"Buku bacaan yang saya sukai adalah \" + buku_favorit)\n",
    "print(type(buku_favorit))"
   ]
  },
  {
   "cell_type": "markdown",
   "metadata": {
    "id": "ouhp1tKMTgNs"
   },
   "source": [
    "Apabila ingin menampilkan nilai variabel bertipe numeric (bisa Integer atau Float) berikut caranya:"
   ]
  },
  {
   "cell_type": "code",
   "execution_count": 37,
   "metadata": {
    "colab": {
     "base_uri": "https://localhost:8080/"
    },
    "executionInfo": {
     "elapsed": 388,
     "status": "ok",
     "timestamp": 1626690732352,
     "user": {
      "displayName": "Adam Mukharil Bachtiar",
      "photoUrl": "https://lh3.googleusercontent.com/a-/AOh14GgJw6pmR0uaa0upvAW6cptf4bPmiEhm1MAS1rx45as=s64",
      "userId": "18309246717753247212"
     },
     "user_tz": -420
    },
    "id": "gl-qy1aeUiV3",
    "outputId": "106bf83d-4fba-4f8a-8195-440221ece45b"
   },
   "outputs": [
    {
     "name": "stdout",
     "output_type": "stream",
     "text": [
      "c = 5.0\n"
     ]
    }
   ],
   "source": [
    "a = 3.0\n",
    "b = 4.0\n",
    "c = (a ** 2 + b ** 2) ** 0.5\n",
    "print(\"c =\", c)"
   ]
  },
  {
   "cell_type": "markdown",
   "metadata": {
    "id": "eu3zjOztU3Xn"
   },
   "source": [
    "## Hands on Lab 9: Bekerja dengan lebih dari satu tipe variabel\n",
    "\n",
    "Suatu waktu di kebun apel, Adam memiliki 30 apel, Andri memiliki 20 apel dan Angga memiliki 10 Apel. Mereka sangat bahagia dan hidup lama. selesai.\n",
    "\n",
    "<B>Tugas Anda</B>\n",
    "\n",
    "1. Buat variabe : Adam, Andri, Angga\n",
    "2. Isi nilai sesuai dengan jumlah apel yang mereka miliki\n",
    "3. Cetak nama variabel dan jumlah apel setiap variabel dalam 1 baris, pisahkan dengan koma\n",
    "4. Buat variabel baru dengan nama totalApel yang berisi penjumlahan seluruh apel yang mereka miliki\n",
    "5. Coba otak atik code dengan membuat variable baru, diisi dengan nilai lain, dan dihitung dengan operator aritmetik lainnya"
   ]
  },
  {
   "cell_type": "code",
   "execution_count": null,
   "metadata": {
    "colab": {
     "base_uri": "https://localhost:8080/"
    },
    "executionInfo": {
     "elapsed": 439,
     "status": "ok",
     "timestamp": 1626691289212,
     "user": {
      "displayName": "Adam Mukharil Bachtiar",
      "photoUrl": "https://lh3.googleusercontent.com/a-/AOh14GgJw6pmR0uaa0upvAW6cptf4bPmiEhm1MAS1rx45as=s64",
      "userId": "18309246717753247212"
     },
     "user_tz": -420
    },
    "id": "JfNwL6J8VoAa",
    "outputId": "63cd2911-864e-4406-d0cd-b28f61009d0a"
   },
   "outputs": [],
   "source": [
    "Adam = 3\n",
    "Andri = 5\n",
    "Angga = 6\n",
    "\n",
    "print(\"Adam memiliki\",Adam,\"buah.\")\n",
    "print(\"Andri memiliki\",Andri,\"buah.\")\n",
    "print(\"Angga memiliki\",Angga,\"buah.\")\n",
    "\n",
    "totalApel = Adam + Andri + Angga\n",
    "print(\"Jumlah apel yang dimiliki mereka bertiga adalah\",totalApel)"
   ]
  },
  {
   "cell_type": "markdown",
   "metadata": {
    "id": "jPBUYgNl4QIn"
   },
   "source": [
    "## Hands on Lab 10: Konversi satuan\n",
    "\n",
    "Mil dan kilometer adalah satuan panjang\n",
    "\n",
    "1 mil memiliki panjang sekitar 1.61 kilometer, buatlah program konversi di bawah ini: <br>\n",
    "\n",
    "1. mil ke kilometer;\n",
    "2. kilometer to mil. "
   ]
  },
  {
   "cell_type": "code",
   "execution_count": null,
   "metadata": {
    "id": "7nSxIXOj4szh"
   },
   "outputs": [],
   "source": [
    "kilometer = 12.25\n",
    "mil = 7.38\n",
    "\n",
    "mil_ke_kilometer = mil * 1.61\n",
    "kilometer_ke_mil = kilometer / 1.61\n",
    "\n",
    "print(mil, \"1 mil adalah\", round(miles_to_kilometers, 2), \"kilometer\")\n",
    "print(kilometer, \"1 kilometer adalah\", round(kilometers_to_miles, 2), \"mil\")"
   ]
  },
  {
   "cell_type": "markdown",
   "metadata": {
    "id": "UxXaN4HHMsKu"
   },
   "source": [
    "## Hands on Lab 11: Persamaan Matematika\n",
    "\n",
    "Skenario lihatlah kode dalam editor, nilai tersebut termasuk tipe float, letakkan nilai tersebut dalam variabel x, dan print variabel tersebut dalam variabel y. Tugasmu adalah melengkapi kode di bawah ini untk menyelesaikan persamaan di bawah\n",
    "\n",
    "$3x^3 - 2x^2 + 3x - 1$\n",
    "\n",
    "Hasil harus disimpan dalam variabel y. ingat bahwa aljabar klasik sering menghilangkan operator perkalian, kamu harus menggunakannya secara eksplisit. Ingat bagaimana cara mengubah tipe data untuk memastikan bahwa x bertipe float.\n",
    "\n",
    "Usahakan kodemu mudah dibaca, uji kode dengan data yang telah kami berikan.\n",
    "\n",
    "Kode standar yang diberikan:\n",
    "```python\n",
    "x =  # hardcode your test data here\n",
    "x = float(x)\n",
    "# write your code here\n",
    "print(\"y =\", y)\n",
    "```"
   ]
  },
  {
   "cell_type": "markdown",
   "metadata": {
    "id": "orBA2hN_NLV2"
   },
   "source": [
    "Test Data:\n",
    "\n",
    "```python\n",
    "#input\n",
    "x = 0\n",
    "x = 1\n",
    "x = -1\n",
    "\n",
    "#output\n",
    "y = -1.0\n",
    "y = 3.0\n",
    "y = -9.0\n",
    "```"
   ]
  },
  {
   "cell_type": "code",
   "execution_count": null,
   "metadata": {
    "colab": {
     "base_uri": "https://localhost:8080/"
    },
    "executionInfo": {
     "elapsed": 6,
     "status": "ok",
     "timestamp": 1626839814971,
     "user": {
      "displayName": "Adam Mukharil Bachtiar",
      "photoUrl": "https://lh3.googleusercontent.com/a-/AOh14GgJw6pmR0uaa0upvAW6cptf4bPmiEhm1MAS1rx45as=s64",
      "userId": "18309246717753247212"
     },
     "user_tz": -420
    },
    "id": "1mx7Jc9aNE65",
    "outputId": "06f2b00c-c4e5-4cde-e388-be251864f72c"
   },
   "outputs": [],
   "source": [
    "x = -1\n",
    "x = float(x)\n",
    "y = 3*x**3 - 2*x**2 + 3*x -1\n",
    "print(\"y =\", y)"
   ]
  },
  {
   "cell_type": "markdown",
   "metadata": {
    "id": "MFX9FUMEORm8"
   },
   "source": [
    "# Komentar di Python\n",
    "\n",
    "Sama seperti bahasa pemrograman lainnya, Python juga memiliki fitur untuk Programmer memberikan komentar pada kode programnya. Komentar merupakan baris perintah yang tidak akan diinterpretasi. Komentar biasanya digunakan untuk memberikan penjelasan lebih perihal kode yang ditandai. "
   ]
  },
  {
   "cell_type": "code",
   "execution_count": null,
   "metadata": {
    "colab": {
     "base_uri": "https://localhost:8080/"
    },
    "executionInfo": {
     "elapsed": 8,
     "status": "ok",
     "timestamp": 1627022156291,
     "user": {
      "displayName": "Adam Mukharil Bachtiar",
      "photoUrl": "https://lh3.googleusercontent.com/a-/AOh14GgJw6pmR0uaa0upvAW6cptf4bPmiEhm1MAS1rx45as=s64",
      "userId": "18309246717753247212"
     },
     "user_tz": -420
    },
    "id": "wEeZwsn7QNv-",
    "outputId": "fe91a543-e260-43a4-df0c-3b7f7f1408ee"
   },
   "outputs": [],
   "source": [
    "# print(\"String #1\")\n",
    "print(\"String #2\")"
   ]
  },
  {
   "cell_type": "code",
   "execution_count": null,
   "metadata": {},
   "outputs": [],
   "source": [
    "# rumus volume balok\n",
    "v = p * l * t"
   ]
  },
  {
   "cell_type": "code",
   "execution_count": 38,
   "metadata": {
    "colab": {
     "base_uri": "https://localhost:8080/",
     "height": 129
    },
    "executionInfo": {
     "elapsed": 319,
     "status": "error",
     "timestamp": 1627022169792,
     "user": {
      "displayName": "Adam Mukharil Bachtiar",
      "photoUrl": "https://lh3.googleusercontent.com/a-/AOh14GgJw6pmR0uaa0upvAW6cptf4bPmiEhm1MAS1rx45as=s64",
      "userId": "18309246717753247212"
     },
     "user_tz": -420
    },
    "id": "y6rVNNhnQc7E",
    "outputId": "44e61c50-bd1e-4538-caad-3b142b5ff6d8"
   },
   "outputs": [
    {
     "ename": "SyntaxError",
     "evalue": "invalid syntax (3941751782.py, line 3)",
     "output_type": "error",
     "traceback": [
      "\u001b[0;36m  Input \u001b[0;32mIn [38]\u001b[0;36m\u001b[0m\n\u001b[0;31m    a multiline\u001b[0m\n\u001b[0m      ^\u001b[0m\n\u001b[0;31mSyntaxError\u001b[0m\u001b[0;31m:\u001b[0m invalid syntax\n"
     ]
    }
   ],
   "source": [
    "#apa error-nya?\n",
    "# This is\n",
    "a multiline\n",
    "comment. #\n",
    "\n",
    "print(\"Hello!\")"
   ]
  },
  {
   "cell_type": "markdown",
   "metadata": {
    "id": "ASrxN4J4QPlu"
   },
   "source": [
    "Pemberian komentar diharapkan tidak terlalu berlebihan karena akan mengganggu proses readibility kode program yang ada. Untuk mengetahui bagaimana pemberian komentar yang baik, <a href = \"https://www.amazon.com/Clean-Code-Handbook-Software-Craftsmanship/dp/0132350882\">Buku Clean Code berikut</a> direkomendasikan untuk dibaca. Sebagai bentuk latihan, silakan hilangkan komentar yang mengganggu di kode program berikut:"
   ]
  },
  {
   "cell_type": "code",
   "execution_count": null,
   "metadata": {
    "id": "yhPP1A_aP4SE"
   },
   "outputs": [],
   "source": [
    "#this program computes the number of seconds in a given number of hours\n",
    "# this program has been written two days ago\n",
    "\n",
    "a = 2 # number of hours\n",
    "seconds = 3600 # number of seconds in 1 hour\n",
    "\n",
    "print(\"Hours: \", a) #printing the number of hours\n",
    "# print(\"Seconds in Hours: \", a * seconds) # printing the number of seconds in a given number of hours\n",
    "\n",
    "#here we should also print \"Goodbye\", but a programmer didn't have time to write any code\n",
    "#this is the end of the program that computes the number of seconds in 3 hour\n",
    "\n",
    "hours = 2 \n",
    "seconds = 3600\n",
    "\n",
    "print(\"Hours: \", hours)\n",
    "print(\"Seconds in Hours: \", hours * seconds) \n",
    "\n",
    "print(\"goodbye\")"
   ]
  },
  {
   "cell_type": "markdown",
   "metadata": {
    "id": "VOpo6XbOQhhc"
   },
   "source": [
    "# Fungsi input()\n",
    "\n",
    "Fungsi input() memungkinkan pengguna untuk memasukkan nilai pada suatu variabel dari alat input (biasanya Keyboard). Fungsi ini akan menerima nilai dari pengguna kemudian meneruskannya ke dalam kode program yang memanggilnya. Fungsi ini akan <B> menganggap semua nilai yang diterima dalam bentuk tipe data string</B>."
   ]
  },
  {
   "cell_type": "code",
   "execution_count": 39,
   "metadata": {
    "colab": {
     "base_uri": "https://localhost:8080/"
    },
    "executionInfo": {
     "elapsed": 15437,
     "status": "ok",
     "timestamp": 1627023153983,
     "user": {
      "displayName": "Adam Mukharil Bachtiar",
      "photoUrl": "https://lh3.googleusercontent.com/a-/AOh14GgJw6pmR0uaa0upvAW6cptf4bPmiEhm1MAS1rx45as=s64",
      "userId": "18309246717753247212"
     },
     "user_tz": -420
    },
    "id": "ZumNM1-QRArY",
    "outputId": "9524ebd0-79d1-4c73-bef7-5e5a0e6da5b8"
   },
   "outputs": [
    {
     "name": "stdout",
     "output_type": "stream",
     "text": [
      "UCAPAN SELAMAT DATANG\n",
      "\n",
      "Adam\n",
      "Selamat datang Adam di acara ini.\n"
     ]
    }
   ],
   "source": [
    "print(\"UCAPAN SELAMAT DATANG\")\n",
    "print()\n",
    "nama = input()\n",
    "print(\"Selamat datang \" +nama+ \" di acara ini.\")"
   ]
  },
  {
   "cell_type": "markdown",
   "metadata": {
    "id": "Q1_2HEqsSLvT"
   },
   "source": [
    "Apabila ada karakter angka yang dimasukkan melalui fungsi input(), maka tetap input tersebut dianggap string. Berikut contohnya:"
   ]
  },
  {
   "cell_type": "code",
   "execution_count": 1,
   "metadata": {
    "colab": {
     "base_uri": "https://localhost:8080/"
    },
    "executionInfo": {
     "elapsed": 6786,
     "status": "ok",
     "timestamp": 1627023246704,
     "user": {
      "displayName": "Adam Mukharil Bachtiar",
      "photoUrl": "https://lh3.googleusercontent.com/a-/AOh14GgJw6pmR0uaa0upvAW6cptf4bPmiEhm1MAS1rx45as=s64",
      "userId": "18309246717753247212"
     },
     "user_tz": -420
    },
    "id": "3aW0Ibn7R3x8",
    "outputId": "f4fa9606-0f86-4eb7-83cf-a7603bde91df"
   },
   "outputs": [
    {
     "name": "stdout",
     "output_type": "stream",
     "text": [
      "10\n",
      "x * 2 =  1010\n"
     ]
    }
   ],
   "source": [
    "#Perhatikan dengan baik hasilnya\n",
    "x = input()\n",
    "print(\"x * 2 = \", x * 2)"
   ]
  },
  {
   "cell_type": "code",
   "execution_count": 2,
   "metadata": {
    "colab": {
     "base_uri": "https://localhost:8080/",
     "height": 215
    },
    "executionInfo": {
     "elapsed": 3650,
     "status": "error",
     "timestamp": 1626841335908,
     "user": {
      "displayName": "Adam Mukharil Bachtiar",
      "photoUrl": "https://lh3.googleusercontent.com/a-/AOh14GgJw6pmR0uaa0upvAW6cptf4bPmiEhm1MAS1rx45as=s64",
      "userId": "18309246717753247212"
     },
     "user_tz": -420
    },
    "id": "rJoRYp_3TKxE",
    "outputId": "96650fe4-56ea-4d09-ae45-207e95c467a2"
   },
   "outputs": [
    {
     "name": "stdout",
     "output_type": "stream",
     "text": [
      "Enter a number: 5\n"
     ]
    },
    {
     "ename": "TypeError",
     "evalue": "unsupported operand type(s) for ** or pow(): 'str' and 'float'",
     "output_type": "error",
     "traceback": [
      "\u001b[0;31m---------------------------------------------------------------------------\u001b[0m",
      "\u001b[0;31mTypeError\u001b[0m                                 Traceback (most recent call last)",
      "Input \u001b[0;32mIn [2]\u001b[0m, in \u001b[0;36m<cell line: 3>\u001b[0;34m()\u001b[0m\n\u001b[1;32m      1\u001b[0m \u001b[38;5;66;03m#ini akan error\u001b[39;00m\n\u001b[1;32m      2\u001b[0m anything \u001b[38;5;241m=\u001b[39m \u001b[38;5;28minput\u001b[39m(\u001b[38;5;124m\"\u001b[39m\u001b[38;5;124mEnter a number: \u001b[39m\u001b[38;5;124m\"\u001b[39m)\n\u001b[0;32m----> 3\u001b[0m something \u001b[38;5;241m=\u001b[39m \u001b[43manything\u001b[49m\u001b[43m \u001b[49m\u001b[38;5;241;43m*\u001b[39;49m\u001b[38;5;241;43m*\u001b[39;49m\u001b[43m \u001b[49m\u001b[38;5;241;43m2.0\u001b[39;49m\n\u001b[1;32m      4\u001b[0m \u001b[38;5;28mprint\u001b[39m(anything, \u001b[38;5;124m\"\u001b[39m\u001b[38;5;124mto the power of 2 is\u001b[39m\u001b[38;5;124m\"\u001b[39m, something)\n",
      "\u001b[0;31mTypeError\u001b[0m: unsupported operand type(s) for ** or pow(): 'str' and 'float'"
     ]
    }
   ],
   "source": [
    "#ini akan error\n",
    "anything = input(\"Enter a number: \")\n",
    "something = anything ** 2.0\n",
    "print(anything, \"to the power of 2 is\", something)"
   ]
  },
  {
   "cell_type": "markdown",
   "metadata": {
    "id": "zpH70zUISgSf"
   },
   "source": [
    "## Fungsi input() dengan parameter\n",
    "\n",
    "Kita bisa memberikan parameter pada fungsi input() untuk menuliskan caption isian yang diminta agar pengguna jelas apa yang harus di-input."
   ]
  },
  {
   "cell_type": "code",
   "execution_count": 3,
   "metadata": {
    "colab": {
     "base_uri": "https://localhost:8080/"
    },
    "executionInfo": {
     "elapsed": 9098,
     "status": "ok",
     "timestamp": 1627023328516,
     "user": {
      "displayName": "Adam Mukharil Bachtiar",
      "photoUrl": "https://lh3.googleusercontent.com/a-/AOh14GgJw6pmR0uaa0upvAW6cptf4bPmiEhm1MAS1rx45as=s64",
      "userId": "18309246717753247212"
     },
     "user_tz": -420
    },
    "id": "xpJ5el6_Sw0J",
    "outputId": "3377494d-a1fc-468e-e8f8-f0f0457f860a"
   },
   "outputs": [
    {
     "name": "stdout",
     "output_type": "stream",
     "text": [
      "UCAPAN SELAMAT DATANG\n",
      "\n",
      "Siapa namanya? Adam\n",
      "Selamat datang Adam di acara ini.\n"
     ]
    }
   ],
   "source": [
    "print(\"UCAPAN SELAMAT DATANG\")\n",
    "print()\n",
    "nama = input(\"Siapa namanya? \")\n",
    "\n",
    "print(\"Selamat datang \" +nama+ \" di acara ini.\")"
   ]
  },
  {
   "cell_type": "markdown",
   "metadata": {
    "id": "1bFnplIRTYIO"
   },
   "source": [
    "## Type Casting (Konversi Tipe Data)\n",
    "\n",
    "Agar nilai yang diterima oleh input() (atau dari mekanisme lainnya) bisa diubah ke dalam tipe data lain, maka kita lakukan proses konversi tipe data yang dikenal dengan <B>Type Casting</B>.\n",
    "\n",
    "Formatnya:\n",
    "```python\n",
    "tipedatatujuan(nilai atau variabel)\n",
    "\n",
    "int(\"22\") #akan menghasilkan 22\n",
    "float(\"22\") #akan menghasilkan 22.0\n",
    "```"
   ]
  },
  {
   "cell_type": "markdown",
   "metadata": {
    "id": "CdEs1TaiWRvw"
   },
   "source": [
    "Kita bisa melakukan type casting di bagian perintah yang memproses nilai dari input()."
   ]
  },
  {
   "cell_type": "code",
   "execution_count": 4,
   "metadata": {
    "colab": {
     "base_uri": "https://localhost:8080/"
    },
    "executionInfo": {
     "elapsed": 4370,
     "status": "ok",
     "timestamp": 1626842063738,
     "user": {
      "displayName": "Adam Mukharil Bachtiar",
      "photoUrl": "https://lh3.googleusercontent.com/a-/AOh14GgJw6pmR0uaa0upvAW6cptf4bPmiEhm1MAS1rx45as=s64",
      "userId": "18309246717753247212"
     },
     "user_tz": -420
    },
    "id": "95uwtFCgV5ve",
    "outputId": "c00bc7fd-1676-4d47-9909-d87318e80260"
   },
   "outputs": [
    {
     "name": "stdout",
     "output_type": "stream",
     "text": [
      "11\n",
      "x * 2 =  22\n"
     ]
    }
   ],
   "source": [
    "x = input()\n",
    "print(\"x * 2 = \", int(x) * 2)"
   ]
  },
  {
   "cell_type": "code",
   "execution_count": null,
   "metadata": {
    "colab": {
     "base_uri": "https://localhost:8080/"
    },
    "executionInfo": {
     "elapsed": 2688,
     "status": "ok",
     "timestamp": 1626842112082,
     "user": {
      "displayName": "Adam Mukharil Bachtiar",
      "photoUrl": "https://lh3.googleusercontent.com/a-/AOh14GgJw6pmR0uaa0upvAW6cptf4bPmiEhm1MAS1rx45as=s64",
      "userId": "18309246717753247212"
     },
     "user_tz": -420
    },
    "id": "FTad2u2qWEX7",
    "outputId": "9e71aa61-c23a-4709-e1b1-98c2f37412cf"
   },
   "outputs": [],
   "source": [
    "anything = input(\"Enter a number: \")\n",
    "something = float(anything) ** 2.0\n",
    "print(anything, \"to the power of 2 is\", something)"
   ]
  },
  {
   "cell_type": "markdown",
   "metadata": {
    "id": "GBhQNZtUWxGs"
   },
   "source": [
    "Atau bisa juga langsung dilakukan pada perintah input()."
   ]
  },
  {
   "cell_type": "code",
   "execution_count": null,
   "metadata": {
    "colab": {
     "base_uri": "https://localhost:8080/"
    },
    "executionInfo": {
     "elapsed": 3573,
     "status": "ok",
     "timestamp": 1626842340855,
     "user": {
      "displayName": "Adam Mukharil Bachtiar",
      "photoUrl": "https://lh3.googleusercontent.com/a-/AOh14GgJw6pmR0uaa0upvAW6cptf4bPmiEhm1MAS1rx45as=s64",
      "userId": "18309246717753247212"
     },
     "user_tz": -420
    },
    "id": "KIwu593XW6RF",
    "outputId": "62055300-8163-4d49-d018-27510c44a814"
   },
   "outputs": [],
   "source": [
    "x = int(input())\n",
    "print(\"x * 2 = \", x * 2)"
   ]
  },
  {
   "cell_type": "code",
   "execution_count": null,
   "metadata": {
    "colab": {
     "base_uri": "https://localhost:8080/"
    },
    "executionInfo": {
     "elapsed": 10161,
     "status": "ok",
     "timestamp": 1626842380635,
     "user": {
      "displayName": "Adam Mukharil Bachtiar",
      "photoUrl": "https://lh3.googleusercontent.com/a-/AOh14GgJw6pmR0uaa0upvAW6cptf4bPmiEhm1MAS1rx45as=s64",
      "userId": "18309246717753247212"
     },
     "user_tz": -420
    },
    "id": "iNJ1e4LBXEXQ",
    "outputId": "76cdd9ce-f3a2-4d81-e625-d65a5276c5ea"
   },
   "outputs": [],
   "source": [
    "anything = float(input(\"Enter a number: \"))\n",
    "something = anything ** 2.0\n",
    "print(anything, \"to the power of 2 is\", something)"
   ]
  },
  {
   "cell_type": "markdown",
   "metadata": {
    "id": "TvOe-R_bf5GI"
   },
   "source": [
    "Type casting juga berlaku untuk tipe lain yang mau diubah menjadi tipe data string."
   ]
  },
  {
   "cell_type": "code",
   "execution_count": null,
   "metadata": {
    "id": "mm7_Xi3jgAB_"
   },
   "outputs": [],
   "source": [
    "leg_a = float(input(\"Input first leg length: \"))\n",
    "leg_b = float(input(\"Input second leg length: \"))\n",
    "print(\"Hypotenuse length is \" + str((leg_a**2 + leg_b**2) ** .5))"
   ]
  },
  {
   "cell_type": "markdown",
   "metadata": {
    "id": "NI-TgSsicJAR"
   },
   "source": [
    "# String Concatenation\n",
    "\n",
    "Sebuah string dapat digabungkan dengan string lainnya dengan menggunakan tanda <B>+</B>."
   ]
  },
  {
   "cell_type": "code",
   "execution_count": 5,
   "metadata": {
    "colab": {
     "base_uri": "https://localhost:8080/"
    },
    "executionInfo": {
     "elapsed": 5033,
     "status": "ok",
     "timestamp": 1626844134094,
     "user": {
      "displayName": "Adam Mukharil Bachtiar",
      "photoUrl": "https://lh3.googleusercontent.com/a-/AOh14GgJw6pmR0uaa0upvAW6cptf4bPmiEhm1MAS1rx45as=s64",
      "userId": "18309246717753247212"
     },
     "user_tz": -420
    },
    "id": "d3iJBPjJcj8J",
    "outputId": "9dd14840-8f5c-4186-c1b4-94e8c659691d"
   },
   "outputs": [
    {
     "name": "stdout",
     "output_type": "stream",
     "text": [
      "Nama pertama? Adam\n",
      "Nama terakhir? Bachtiar\n",
      "Nama lengkap anda adalah Adam Bachtiar\n",
      "Nama lengkap anda adalah Adam Bachtiar\n"
     ]
    }
   ],
   "source": [
    "nama_pertama = input(\"Nama pertama? \")\n",
    "nama_terakhir = input(\"Nama terakhir? \")\n",
    "\n",
    "nama_lengkap = nama_pertama + \" \" + nama_terakhir\n",
    "\n",
    "print(\"Nama lengkap anda adalah \" + nama_lengkap)\n",
    "#bisa juga dengan cara seperti ini\n",
    "print(\"Nama lengkap anda adalah\" , nama_lengkap)"
   ]
  },
  {
   "cell_type": "markdown",
   "metadata": {
    "id": "UO7PKcVIfZIH"
   },
   "source": [
    "# String Replication\n",
    "\n",
    "Seperti pada contoh sebelumnya, sebuah string dapat direplikasi menggunakan tanda <B>*</B>."
   ]
  },
  {
   "cell_type": "code",
   "execution_count": 6,
   "metadata": {
    "colab": {
     "base_uri": "https://localhost:8080/"
    },
    "executionInfo": {
     "elapsed": 299,
     "status": "ok",
     "timestamp": 1626844597537,
     "user": {
      "displayName": "Adam Mukharil Bachtiar",
      "photoUrl": "https://lh3.googleusercontent.com/a-/AOh14GgJw6pmR0uaa0upvAW6cptf4bPmiEhm1MAS1rx45as=s64",
      "userId": "18309246717753247212"
     },
     "user_tz": -420
    },
    "id": "bccIoFMKfjcf",
    "outputId": "45705066-509f-481f-eeb0-c523921aafb2"
   },
   "outputs": [
    {
     "name": "stdout",
     "output_type": "stream",
     "text": [
      "AdamAdamAdam\n"
     ]
    }
   ],
   "source": [
    "nama = \"Adam\" * 3\n",
    "print(nama)"
   ]
  },
  {
   "cell_type": "code",
   "execution_count": 7,
   "metadata": {
    "colab": {
     "base_uri": "https://localhost:8080/"
    },
    "executionInfo": {
     "elapsed": 322,
     "status": "ok",
     "timestamp": 1626844619755,
     "user": {
      "displayName": "Adam Mukharil Bachtiar",
      "photoUrl": "https://lh3.googleusercontent.com/a-/AOh14GgJw6pmR0uaa0upvAW6cptf4bPmiEhm1MAS1rx45as=s64",
      "userId": "18309246717753247212"
     },
     "user_tz": -420
    },
    "id": "6Z31meFQftBS",
    "outputId": "33fddc99-c1ef-4527-b00d-8ffdd4935bd0"
   },
   "outputs": [
    {
     "name": "stdout",
     "output_type": "stream",
     "text": [
      "+----------+\n",
      "|          |\n",
      "|          |\n",
      "|          |\n",
      "|          |\n",
      "|          |\n",
      "+----------+\n"
     ]
    }
   ],
   "source": [
    "print(\"+\" + 10 * \"-\" + \"+\")\n",
    "print((\"|\" + \" \" * 10 + \"|\\n\") * 5, end=\"\")\n",
    "print(\"+\" + 10 * \"-\" + \"+\")"
   ]
  },
  {
   "cell_type": "markdown",
   "metadata": {
    "id": "IkJu1aK2k3KX"
   },
   "source": [
    "# Hands on Lab 12: Mencoba aritmatika\n",
    "\n",
    "Silakan lakukan percobaan dengan format berikut:\n",
    "\n",
    "```python\n",
    "# input a float value for variable a here\n",
    "# input a float value for variable b here\n",
    "\n",
    "# output the result of addition here\n",
    "# output the result of subtraction here\n",
    "# output the result of multiplication here\n",
    "# output the result of division here\n",
    "\n",
    "print(\"\\nThat's all, folks!\")\n",
    "```"
   ]
  },
  {
   "cell_type": "code",
   "execution_count": null,
   "metadata": {
    "id": "mZ4xoQ2wt-tM"
   },
   "outputs": [],
   "source": [
    "//silakan coba di sini\n"
   ]
  },
  {
   "cell_type": "markdown",
   "metadata": {
    "id": "vf29MC8PuaAB"
   },
   "source": [
    "# Hands on Lab 13: Solving Math\n",
    "\n",
    "<img src = \"https://github.com/gunturbudi/digital-talent/raw/4517cbabd353711602d01a2f0cbd33b0454b5cf8/2019/images/modul2_pembagian.PNG\" alt = \"Gambar Rumus\">"
   ]
  },
  {
   "cell_type": "markdown",
   "metadata": {
    "id": "GkCz4hkOu6KS"
   },
   "source": [
    "Contoh kasus:\n",
    "\n",
    "```python\n",
    "x = 1\n",
    "y = 0.6000000000000001\n",
    "\n",
    "x = 10\n",
    "y = 0.09901951266867294\n",
    "```"
   ]
  },
  {
   "cell_type": "code",
   "execution_count": null,
   "metadata": {
    "id": "Aeny6RBLuyWQ"
   },
   "outputs": [],
   "source": [
    "x = float(input(\"Enter value for x: \"))\n",
    "\n",
    "y = 1/(x+1/(x+1/(x+1/x)))\n",
    "\n",
    "print(\"y =\", y)"
   ]
  },
  {
   "cell_type": "markdown",
   "metadata": {
    "id": "4i8GoIxhvt1h"
   },
   "source": [
    "# Hands on Lab 14: Bermain dengan Waktu\n",
    "\n",
    "Tugasmu adalah mempersiapkan kode simpel untuk menentukan waktu akhir/selesai sebuah kegiatan. Diberikan variabel durasi waktu dalam menit dan waktu mulai dalam jam (0..23)dan menit (0..59). hasilnya harus dicetak dalam console\n",
    "\n",
    "sebagai contoh, jika suatu kegiatan dimulai pukul 12:17 dan berlangsung selama 59 minutes , maka kegiatan tersebut tersebut akan selesai pukul 13:16\n",
    "\n",
    "jangan takut kalau kodemu belum sempurna, tidak masalah waktunya terlihat tidak valid, yang terpenting kodenya dapat menghasilkan nilai yang valid berdasarkan data input.\n",
    "\n",
    "Kode Dasar:\n",
    "\n",
    "```python\n",
    "jam = int(input(\"waktu mulai (jam): \"))\n",
    "menit = int(input(\"waktu mulai (menit): \"))\n",
    "durasi= int(input(\"durasi kegiatan (minutes): \"))\n",
    "\n",
    "# Letakkan kodemu disini\n",
    "```\n",
    "Uji Kodemu, Petunjuk ! gunakan operator % sebagai kunci suksesmu"
   ]
  },
  {
   "cell_type": "code",
   "execution_count": null,
   "metadata": {
    "id": "Cd7lr2oAwgBW"
   },
   "outputs": [],
   "source": [
    "# coba di cek lagi\n",
    "\n",
    "jam = int(input(\"waktu mulai (jam): \"))\n",
    "menit = int(input(\"waktu mulai (menit): \"))\n",
    "durasi = int(input(\"durasi kegiatan (menit): \"))\n",
    "\n",
    "tambah_menit = menit + durasi\n",
    "tambah_jam = int(tambah_menit / 60)\n",
    "\n",
    "jam += tambah_jam\n",
    "menit = tambah_menit % 60\n",
    "\n",
    "print(str(jam%24)+':'+str(menit))"
   ]
  }
 ],
 "metadata": {
  "colab": {
   "authorship_tag": "ABX9TyNv7pekPlqKQbLhdgG1CXKB",
   "collapsed_sections": [
    "luJIh4LCF2Vw",
    "jqyvvT-eLylB",
    "nAH65vRbMy9U",
    "blZD8icjRVZI",
    "elc7wEZ4SfB1",
    "xdDyMI8DUDqM",
    "rTKOHtM2U3xD",
    "zYPmyOu8ClhR",
    "eO9qcRFSDCLX",
    "m0WiQ0OrDO6F",
    "uh1EjweeEdeP",
    "kTkRPPwZHkp3",
    "5FxJ6CSr0qUU",
    "ReOySLfLSE1M",
    "eu3zjOztU3Xn",
    "jPBUYgNl4QIn",
    "UxXaN4HHMsKu",
    "zpH70zUISgSf",
    "1bFnplIRTYIO"
   ],
   "name": "Topic 2 - Data Types, Variables, Basic Input-Output Operations, Basic Operators.ipynb",
   "provenance": [],
   "toc_visible": true
  },
  "kernelspec": {
   "display_name": "Python 3 (ipykernel)",
   "language": "python",
   "name": "python3"
  },
  "language_info": {
   "codemirror_mode": {
    "name": "ipython",
    "version": 3
   },
   "file_extension": ".py",
   "mimetype": "text/x-python",
   "name": "python",
   "nbconvert_exporter": "python",
   "pygments_lexer": "ipython3",
   "version": "3.9.16"
  },
  "toc": {
   "base_numbering": 1,
   "nav_menu": {},
   "number_sections": true,
   "sideBar": true,
   "skip_h1_title": false,
   "title_cell": "Table of Contents",
   "title_sidebar": "Contents",
   "toc_cell": false,
   "toc_position": {
    "height": "calc(100% - 180px)",
    "left": "10px",
    "top": "150px",
    "width": "200.795px"
   },
   "toc_section_display": true,
   "toc_window_display": true
  }
 },
 "nbformat": 4,
 "nbformat_minor": 4
}
