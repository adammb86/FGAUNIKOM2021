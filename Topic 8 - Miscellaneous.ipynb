{
 "cells": [
  {
   "cell_type": "markdown",
   "metadata": {
    "id": "XU3Ef-TkyGYi"
   },
   "source": [
    "<b><font size = 30>Topik 8 - Miscellaneous</font></b>\n",
    "\n",
    "Topik ini merupakan topik tambahan yang bisa menambah pengetahuan tentang fitur-fitur yang ada di Python.\n",
    "\n",
    "Fokus bahasannya adalah:\n",
    "\n",
    "1. Generators, iterators, dan closures\n",
    "2. Bekerja dengan file-system, directory tree dan files.\n",
    "3. Membahas beberapa Python Standard Library modules, yaitu: os, datetime, time, dan calendar.\n"
   ]
  },
  {
   "cell_type": "markdown",
   "metadata": {
    "id": "xQpRbVxf0c2I"
   },
   "source": [
    "# Generators\n",
    "\n",
    "<b>Generator</b> di Python adalah sebuah kode yang dispesialisasi dan memiliki kemampuan untuk membuat sekumpulan nilai dan mengontrol proses iterasinya. Dikarenakan mengurus masalah iterasi juga, generator sering disebut sebagai iterators.\n",
    "\n",
    "Fungsi ``range()`` adalah sebuah generator (atau iterator)."
   ]
  },
  {
   "cell_type": "markdown",
   "metadata": {
    "id": "1J3AD4NP5LoT"
   },
   "source": [
    "## Iterator\n",
    "\n",
    "Sebuah iterator harus mengikuti standar iterator protocol. Iterator protocol adalah sebuah cara bagaimana sebuah object harus bertindak untuk mengukuti aturan yang timbul di konteks statement ``for`` dan ``in``. Sebuah iterator harus menyediakan dua method, yaitu:\n",
    "\n",
    "1. <b>``__iter__()``</b> dimana method ini mengembalikan objek iterator itu sendiri dan yang dipanggil oleh objek iterator tersebut sekali.\n",
    "\n",
    "2. <b>``__next__()``</b> dimana method ini mengembalikan next value dari sebuah series. Method ini akan dipanggil di dalam for..in statement. Jika tidak ada nilai yang bisa dipanggil lagi oleh method ini dari series, method akan menimbulkan exception berupa ``StopIteration``.\n",
    "\n",
    "Berikut adalah contoh kasus iterator untuk deret Fibonacci:"
   ]
  },
  {
   "cell_type": "code",
   "execution_count": 1,
   "metadata": {
    "colab": {
     "base_uri": "https://localhost:8080/"
    },
    "id": "Kww5tkGHoTzu",
    "outputId": "4a34198b-3e4b-41e3-ccc4-8c1f42cc65df"
   },
   "outputs": [
    {
     "name": "stdout",
     "output_type": "stream",
     "text": [
      "__init__\n",
      "__iter__\n",
      "__next__\n",
      "1\n",
      "__next__\n",
      "1\n",
      "__next__\n",
      "2\n",
      "__next__\n",
      "3\n",
      "__next__\n",
      "5\n",
      "__next__\n",
      "8\n",
      "__next__\n",
      "13\n",
      "__next__\n",
      "21\n",
      "__next__\n",
      "34\n",
      "__next__\n",
      "55\n",
      "__next__\n"
     ]
    }
   ],
   "source": [
    "class Fib:\n",
    "  def __init__(self, nn):\n",
    "    print(\"__init__\")\n",
    "    self.__n = nn\n",
    "    self.__i = 0\n",
    "    self.__p1 = self.__p2 = 1\n",
    "\n",
    "  def __iter__(self):\n",
    "    print(\"__iter__\")\n",
    "    return self\n",
    "\n",
    "  def __next__(self):\n",
    "    print(\"__next__\")\t\t\t\t\n",
    "    self.__i += 1\n",
    "        \n",
    "    if self.__i > self.__n:\n",
    "        raise StopIteration\n",
    "    if self.__i in [1, 2]:\n",
    "        return 1\n",
    "    ret = self.__p1 + self.__p2\n",
    "    self.__p1, self.__p2 = self.__p2, ret\n",
    "    return ret\n",
    "\n",
    "\n",
    "for i in Fib(10):\n",
    "  print(i)"
   ]
  },
  {
   "cell_type": "markdown",
   "metadata": {
    "id": "gt2OwwgUo1t9"
   },
   "source": [
    "Untuk menyederhanakan pemanggilan, mari pusatkan pemanggilan method di ``class Fib`` ke dalam sebuah class yang kita beri nama ``class Class`` sebagai berikut:"
   ]
  },
  {
   "cell_type": "code",
   "execution_count": 2,
   "metadata": {
    "colab": {
     "base_uri": "https://localhost:8080/"
    },
    "id": "E8ttwNRfo_7D",
    "outputId": "042ae7d6-4a87-49f3-c116-9a74c6b9a6a7"
   },
   "outputs": [
    {
     "name": "stdout",
     "output_type": "stream",
     "text": [
      "__init__\n",
      "Class iter\n",
      "__next__\n",
      "1\n",
      "__next__\n",
      "1\n",
      "__next__\n",
      "2\n",
      "__next__\n",
      "3\n",
      "__next__\n",
      "5\n",
      "__next__\n",
      "8\n",
      "__next__\n",
      "13\n",
      "__next__\n",
      "21\n",
      "__next__\n"
     ]
    }
   ],
   "source": [
    "class Fib:\n",
    "  def __init__(self, nn):\n",
    "    print(\"__init__\")\n",
    "    self.__n = nn\n",
    "    self.__i = 0\n",
    "    self.__p1 = self.__p2 = 1\n",
    "\n",
    "  def __iter__(self):\n",
    "    print(\"__iter__\")\n",
    "    return self\n",
    "\n",
    "  def __next__(self):\n",
    "    print(\"__next__\")\t\t\t\t\n",
    "    self.__i += 1\n",
    "        \n",
    "    if self.__i > self.__n:\n",
    "        raise StopIteration\n",
    "    if self.__i in [1, 2]:\n",
    "        return 1\n",
    "    ret = self.__p1 + self.__p2\n",
    "    self.__p1, self.__p2 = self.__p2, ret\n",
    "    return ret\n",
    "\n",
    "class Class:\n",
    "  def __init__(self, n):\n",
    "    self.__iter = Fib(n)\n",
    "\n",
    "  def __iter__(self):\n",
    "    print(\"Class iter\")\n",
    "    return self.__iter;\n",
    "\n",
    "\n",
    "object = Class(8)\n",
    "\n",
    "for i in object:\n",
    "  print(i)"
   ]
  },
  {
   "cell_type": "markdown",
   "metadata": {
    "id": "YYi8TGPRpQc5"
   },
   "source": [
    "## Statement yield\n",
    "\n",
    "Perhatikan contoh kode program berikut:"
   ]
  },
  {
   "cell_type": "code",
   "execution_count": 1,
   "metadata": {
    "colab": {
     "base_uri": "https://localhost:8080/"
    },
    "id": "F2oqpkJ2phJ9",
    "outputId": "110525e4-b691-488d-b60a-b62262731320"
   },
   "outputs": [
    {
     "name": "stdout",
     "output_type": "stream",
     "text": [
      "0\n"
     ]
    }
   ],
   "source": [
    "def coba(n):\n",
    "  for i in range(n):\n",
    "    return i\n",
    "\n",
    "print(coba(10))"
   ]
  },
  {
   "cell_type": "markdown",
   "metadata": {
    "id": "PPP6Lx8opsva"
   },
   "source": [
    "Ada yang aneh dengan program tersebut? Program tersebut akan selalu mengembalikan nilai 0 untuk nilai integer apapun yang di-passing ke dalam parameternya. Kenapa itu bisa terjadi? \n",
    "\n",
    "Perintah ``return`` hanya bisa mengembalikan satu buah nilai dari sebuah tipe data (baik tipe data primitif maupun tipe koleksi). Biasanya apabila kita ingin me-return banyak nilai, maka kita akan gunakan struktur data koleksi untuk menampung lalu kita kembalikan nilainya melalui ``return``. Ada cara lain yang disediakan oleh Python, yaitu menggunakan kata kunci ``yield``. Kata kunci ini digunakan sebagai pengganti perintah ``return``. \n",
    "\n",
    "Kata kunci ``yield`` akab bertindak sebagai generator untuk mengembalikan nilai runtunan dari sebuah perulangan dalam fungsi. Berikut contoh penggunaannya:"
   ]
  },
  {
   "cell_type": "code",
   "execution_count": 4,
   "metadata": {
    "colab": {
     "base_uri": "https://localhost:8080/"
    },
    "id": "PLteuzp9qpBd",
    "outputId": "2e1903f2-ae41-42f0-f5b7-c9062e820b0c"
   },
   "outputs": [
    {
     "name": "stdout",
     "output_type": "stream",
     "text": [
      "0\n",
      "1\n",
      "2\n",
      "3\n",
      "4\n"
     ]
    }
   ],
   "source": [
    "def coba(n):\n",
    "  for i in range(n):\n",
    "    yield i\n",
    "\n",
    "for angka in coba(5):\n",
    "  print(angka)"
   ]
  },
  {
   "cell_type": "code",
   "execution_count": 2,
   "metadata": {},
   "outputs": [
    {
     "name": "stdout",
     "output_type": "stream",
     "text": [
      "0\n",
      "2\n",
      "4\n",
      "6\n",
      "8\n"
     ]
    }
   ],
   "source": [
    "def genap(n):\n",
    "    for i in range(n):\n",
    "        if i % 2 == 0:\n",
    "            yield i\n",
    "\n",
    "for angka in genap(10):\n",
    "    print(angka)"
   ]
  },
  {
   "cell_type": "markdown",
   "metadata": {
    "id": "UsXKWtUsq0gv"
   },
   "source": [
    "><b>Catatan:</b> Karena yield adalah sebuah generator maka untuk memanggil nilainya dibutuhkan statement for..in."
   ]
  },
  {
   "cell_type": "markdown",
   "metadata": {
    "id": "cQi7IokArCLH"
   },
   "source": [
    "## Hands on Lab 1: Generator bilangan 2<sup>n</sup>\n",
    "\n",
    "Berikut adalah contoh kode program untuk membuat generator deret bilangan 2<sup>n</sup>:"
   ]
  },
  {
   "cell_type": "code",
   "execution_count": 5,
   "metadata": {
    "colab": {
     "base_uri": "https://localhost:8080/"
    },
    "id": "l6lKMpYZrVI4",
    "outputId": "647f3343-bdef-4a5a-a55a-28bf84fb4ed5"
   },
   "outputs": [
    {
     "name": "stdout",
     "output_type": "stream",
     "text": [
      "1  2  4  8  16  "
     ]
    }
   ],
   "source": [
    "def pangkat_dua(n):\n",
    "  bilangan = 1\n",
    "\n",
    "  for i in range(n):\n",
    "    yield bilangan\n",
    "    bilangan *= 2\n",
    "\n",
    "for bil in pangkat_dua(5):\n",
    "  print(bil, end=\"  \")"
   ]
  },
  {
   "cell_type": "markdown",
   "metadata": {
    "id": "AR_eCzF0r8fm"
   },
   "source": [
    "Penggunaan ``yield`` juga bisa disandingkan dengan penggunaan list dalam memanggil generator-nya."
   ]
  },
  {
   "cell_type": "code",
   "execution_count": 6,
   "metadata": {
    "colab": {
     "base_uri": "https://localhost:8080/"
    },
    "id": "-IgBZDmjsD9V",
    "outputId": "645eb41a-da6a-4072-c582-b0956fc79a56"
   },
   "outputs": [
    {
     "name": "stdout",
     "output_type": "stream",
     "text": [
      "[1, 2, 4, 8, 16]\n"
     ]
    }
   ],
   "source": [
    "def pangkat_dua(n):\n",
    "  bilangan = 1\n",
    "\n",
    "  for i in range(n):\n",
    "    yield bilangan\n",
    "    bilangan *= 2\n",
    "\n",
    "bil = [x for x in pangkat_dua(5)]\n",
    "print(bil)"
   ]
  },
  {
   "cell_type": "markdown",
   "metadata": {
    "id": "nUllCuo2sRdq"
   },
   "source": [
    "Penggunaan list sebagai penampung data dari generator ``yield`` akan mempermudah kita dalam melakukan pengolahan data lanjutan dari hasil generatornya."
   ]
  },
  {
   "cell_type": "markdown",
   "metadata": {
    "id": "2CiktL1QslXt"
   },
   "source": [
    "## Hands on Lab 2: Reminder untuk penyerderhanaan list generator\n",
    "\n",
    "Nilai yang disimpan di dalam sebuah list dapat di-generate dengan cara yang lebih simpel dibandingkan ketika menggunakan perintah perulangan. Mari kita lihat bentuk penyederhanaan list berikut (sudah pernah dibahas pada topik sebelumnya):"
   ]
  },
  {
   "cell_type": "code",
   "execution_count": 7,
   "metadata": {
    "colab": {
     "base_uri": "https://localhost:8080/"
    },
    "id": "K97-QeSUs8RK",
    "outputId": "448e1c0f-ad8f-411f-b683-0748a7a54d03"
   },
   "outputs": [
    {
     "name": "stdout",
     "output_type": "stream",
     "text": [
      "[0, 1, 4, 9, 16, 25, 36, 49, 64, 81, 100]\n",
      "[0, 1, 4, 9, 16, 25, 36, 49, 64, 81, 100]\n"
     ]
    }
   ],
   "source": [
    "list_bil = []\n",
    "\n",
    "#cara konvensional\n",
    "for i in range(11):\n",
    "  list_bil.append(i ** 2)\n",
    "\n",
    "print(list_bil)\n",
    "\n",
    "#cara penyederhaan generate list\n",
    "list_genbil = [i**2 for i in range(11)]\n",
    "print(list_genbil)"
   ]
  },
  {
   "cell_type": "markdown",
   "metadata": {
    "id": "J0YfoA3VthEn"
   },
   "source": [
    "Dua perintah tersebut menghasilkan hal yang sama walaupun bentuk statement berbeda. Penggunaan generator list sangat disarankan apabila angka yang disimpan di dalam list memiliki pola deret bilangan tertentu."
   ]
  },
  {
   "cell_type": "markdown",
   "metadata": {
    "id": "1QtRFymht1g8"
   },
   "source": [
    "## Hands on Lab 3: Conditional pada generator list\n",
    "\n",
    "Kita juga bisa menambahkan struktur percabangan di dalam generator list. Berikut adalah contoh kasusnya untuk menampilkan bilangan kuadrat 2 tapi hanya untuk bilangan ganjil saja (bilangan genap diisi dengan 0):"
   ]
  },
  {
   "cell_type": "code",
   "execution_count": 8,
   "metadata": {
    "colab": {
     "base_uri": "https://localhost:8080/"
    },
    "id": "EAqf2PvBuJhb",
    "outputId": "8ffefd1b-f61e-46c8-c346-93b74e19f2a5"
   },
   "outputs": [
    {
     "name": "stdout",
     "output_type": "stream",
     "text": [
      "[0, 1, 0, 9, 0, 25, 0, 49, 0, 81, 0]\n",
      "[0, 1, 0, 9, 0, 25, 0, 49, 0, 81, 0]\n"
     ]
    }
   ],
   "source": [
    "list_bil = []\n",
    "\n",
    "#cara konvensional\n",
    "for i in range(11):\n",
    "  list_bil.append(i ** 2 if i % 2 != 0 else 0)\n",
    "\n",
    "print(list_bil)\n",
    "\n",
    "#cara penyederhaan generate list\n",
    "list_genbil = [i**2 if i % 2 != 0 else 0 for i in range(11)]\n",
    "print(list_genbil)"
   ]
  },
  {
   "cell_type": "code",
   "execution_count": 7,
   "metadata": {},
   "outputs": [
    {
     "name": "stdout",
     "output_type": "stream",
     "text": [
      "[3, 6, 9, 12, 15, 18, 21]\n"
     ]
    }
   ],
   "source": [
    "list_bil_3 = [i*3 for i in range(1,11) if i <8]\n",
    "print(list_bil_3)"
   ]
  },
  {
   "cell_type": "markdown",
   "metadata": {
    "id": "PxcgaWfpu65P"
   },
   "source": [
    "## Fungsi Lambda\n",
    "\n",
    "Lambda function adalah sebuah konsep yang diambil dari fungsi lambda di matematika dimana pada implementasinya, fungsi ini tidak memiliki nama atau disebut dengan <b>anonymous function</b>. Format umum dari fungsi ini adalah sebagai berikut:\n",
    "\n",
    "```python\n",
    "lambda parameter: expression\n",
    "```\n",
    "\n",
    "Berikut contoh penggunaan lambda function:"
   ]
  },
  {
   "cell_type": "code",
   "execution_count": 8,
   "metadata": {},
   "outputs": [
    {
     "name": "stdout",
     "output_type": "stream",
     "text": [
      "4 4\n",
      "1 1\n",
      "0 0\n",
      "1 1\n",
      "4 4\n"
     ]
    }
   ],
   "source": [
    "bil = lambda: 2\n",
    "akar_kuadrat = lambda x: x * x\n",
    "pangkat_xy = lambda x, y: x ** y\n",
    "\n",
    "for a in range(-2, 3):\n",
    "    print(akar_kuadrat(a), end=\" \")\n",
    "    print(pangkat_xy(a, bil()))"
   ]
  },
  {
   "cell_type": "code",
   "execution_count": 11,
   "metadata": {},
   "outputs": [
    {
     "name": "stdout",
     "output_type": "stream",
     "text": [
      "2\n",
      "3\n",
      "4\n",
      "5\n",
      "6\n",
      "7\n",
      "8\n",
      "9\n",
      "10\n",
      "11\n",
      "1\n",
      "4\n",
      "9\n",
      "16\n",
      "25\n",
      "36\n",
      "49\n",
      "64\n",
      "81\n",
      "100\n"
     ]
    }
   ],
   "source": [
    "var = lambda x: x + 2\n",
    "\n",
    "for i in range(10):\n",
    "    print(var(i))\n",
    "\n",
    "pangkat = lambda x,y: x**y\n",
    "\n",
    "for i in range(1,11):\n",
    "    print(pangkat(i,2))"
   ]
  },
  {
   "cell_type": "markdown",
   "metadata": {
    "id": "EcDkw_3zCK5Q"
   },
   "source": [
    "## Hands on Lab 4: Mari pakai lambda\n",
    "\n",
    "Ubahlah fungsi matematika berikut menjadi fungsi lambda.\n",
    "\n",
    "f(x) = 2x<sup>2</sup> + 4x + 3\n",
    "\n",
    "Berikut kode programnya:"
   ]
  },
  {
   "cell_type": "code",
   "execution_count": 10,
   "metadata": {
    "colab": {
     "base_uri": "https://localhost:8080/"
    },
    "id": "21brp-ZPCiSH",
    "outputId": "522a627c-ed1a-42f2-e59c-6c29c1b58a29"
   },
   "outputs": [
    {
     "name": "stdout",
     "output_type": "stream",
     "text": [
      "243\n"
     ]
    }
   ],
   "source": [
    "fx = lambda x: 2*x**2 + 4*x + 3\n",
    "\n",
    "print(fx(10))"
   ]
  },
  {
   "cell_type": "markdown",
   "metadata": {
    "id": "touwpTAwDVM9"
   },
   "source": [
    "Bagaimana kalau kita gabungkan antara penggunaan generator list dengan fungsi lambda dalam kasus tersebut agar bisa menghitung f(0) sampai dengan f(10)? Mari kita coba kode program berikut:"
   ]
  },
  {
   "cell_type": "code",
   "execution_count": 11,
   "metadata": {
    "colab": {
     "base_uri": "https://localhost:8080/"
    },
    "id": "9aFw82SKDkir",
    "outputId": "8bd579be-6cff-4bc0-acf0-20f8c7e9a7df"
   },
   "outputs": [
    {
     "name": "stdout",
     "output_type": "stream",
     "text": [
      "f(0)=3\n",
      "f(1)=9\n",
      "f(2)=19\n",
      "f(3)=33\n",
      "f(4)=51\n",
      "f(5)=73\n",
      "f(6)=99\n",
      "f(7)=129\n",
      "f(8)=163\n",
      "f(9)=201\n",
      "f(10)=243\n"
     ]
    }
   ],
   "source": [
    "def print_function(args, fun):\n",
    "    for x in args:\n",
    "        print('f(', x,')=', fun(x), sep='')\n",
    "\n",
    "print_function([x for x in range(11)], lambda x: 2*x**2 + 4*x + 3)"
   ]
  },
  {
   "cell_type": "markdown",
   "metadata": {
    "id": "GehpyQxzFCkz"
   },
   "source": [
    "## Fungsi map() pada Lambda\n",
    "\n",
    "Fungsi ``map()`` digunakan untuk memetakan argumen1 ke argumen lain (argumen2) pada fungsi lambda dalam rangka memberikan pemrosesan pada argumen tersebut. Format umumnya adalah sebagai berikut:\n",
    "\n",
    "```python\n",
    "map(lambda_expression, collection)\n",
    "```\n",
    "\n",
    "Mari kita coba kode program berikut:"
   ]
  },
  {
   "cell_type": "code",
   "execution_count": 12,
   "metadata": {
    "colab": {
     "base_uri": "https://localhost:8080/"
    },
    "id": "TmRvlOxtGtWL",
    "outputId": "85c2d9f5-d940-4a26-c0cf-f9dbe93c601a"
   },
   "outputs": [
    {
     "name": "stdout",
     "output_type": "stream",
     "text": [
      "[1, 2, 4, 8, 16, 32]\n",
      "2\n",
      "3\n",
      "5\n",
      "9\n",
      "17\n",
      "33\n"
     ]
    }
   ],
   "source": [
    "list_bilangan1 = [x for x in range(6)]\n",
    "list_bilangan2 = list(map(lambda x: 2 ** x, list_bilangan1))\n",
    "print(list_bilangan2)\n",
    "\n",
    "for bil in map(lambda x: x + 1, list_bilangan2):\n",
    "  print(bil)"
   ]
  },
  {
   "cell_type": "code",
   "execution_count": 14,
   "metadata": {},
   "outputs": [
    {
     "name": "stdout",
     "output_type": "stream",
     "text": [
      "[0, 1, 2, 3, 4, 5]\n",
      "[1, 2, 3, 4, 5, 6]\n"
     ]
    }
   ],
   "source": [
    "list_bil_asal = [i for i in range(6)]\n",
    "print(list_bil_asal)\n",
    "\n",
    "list_bil_map = list(map(lambda x: x + 1, list_bil_asal))\n",
    "print(list_bil_map)"
   ]
  },
  {
   "cell_type": "markdown",
   "metadata": {
    "id": "0_7gvrttT3m6"
   },
   "source": [
    "## Fungsi filter() pada Lambda\n",
    "\n",
    "Fungsi ``filter()`` digunakan untuk menseleksi elemen yang di-generate menggunakan generator. Format umumnya adalah sebagai berikut:\n",
    "\n",
    "```python\n",
    "map(lambda_expression, collection)\n",
    "```\n",
    "\n",
    "Lambda expression diisi dengan kondisional yang mau digunakan sebagai filter datanya. Berikut contoh penggunaannya:"
   ]
  },
  {
   "cell_type": "code",
   "execution_count": 13,
   "metadata": {
    "colab": {
     "base_uri": "https://localhost:8080/"
    },
    "id": "P79jU978UXXi",
    "outputId": "ed37ca0a-8506-4370-b392-c475da3381cf"
   },
   "outputs": [
    {
     "name": "stdout",
     "output_type": "stream",
     "text": [
      "[0, 1, 2, 3, 4, 5]\n",
      "[4, 5]\n"
     ]
    }
   ],
   "source": [
    "list_bilangan1 = [x for x in range(6)]\n",
    "list_bilangan_filtered = list(filter(lambda x: x >= 4,list_bilangan1))\n",
    "\n",
    "print(list_bilangan1)\n",
    "print(list_bilangan_filtered)"
   ]
  },
  {
   "cell_type": "code",
   "execution_count": 16,
   "metadata": {},
   "outputs": [
    {
     "name": "stdout",
     "output_type": "stream",
     "text": [
      "[0, 1, 2, 3, 4, 5]\n",
      "[0, 1, 2]\n"
     ]
    }
   ],
   "source": [
    "list_bil_asal = [i for i in range(6)]\n",
    "print(list_bil_asal)\n",
    "\n",
    "list_bil_filtered = list(filter(lambda x: x<=2, list_bil_asal))\n",
    "print(list_bil_filtered)"
   ]
  },
  {
   "cell_type": "markdown",
   "metadata": {
    "id": "GdBzaEfIVzob"
   },
   "source": [
    "Pada contoh kode program tersebut, fungsi ``filter()`` digunakan untuk menseleksi elemen pada ``list_bilangan1`` yang lebih dari sama dengan 4."
   ]
  },
  {
   "cell_type": "markdown",
   "metadata": {
    "id": "crBAjfUMWBKz"
   },
   "source": [
    "## Closure\n",
    "\n",
    "Closure adalah teknik yang memungkinkan penyimpanan nilai walaupun konteks yang menciptakan nilai tersebut sudah tidak eksis di memori lagi. Mari kita perhatikan contoh kode program berikut:"
   ]
  },
  {
   "cell_type": "code",
   "execution_count": 14,
   "metadata": {
    "colab": {
     "base_uri": "https://localhost:8080/"
    },
    "id": "RJU5d39fWiEC",
    "outputId": "36830d3d-ba81-432b-c5ea-ea101b629603"
   },
   "outputs": [
    {
     "name": "stdout",
     "output_type": "stream",
     "text": [
      "1\n"
     ]
    }
   ],
   "source": [
    "def outer(par):\n",
    "  loc = par\n",
    "\n",
    "  def inner():\n",
    "    return loc\n",
    "  return inner\n",
    "\n",
    "\n",
    "var = 1\n",
    "fun = outer(var)\n",
    "print(fun())"
   ]
  },
  {
   "cell_type": "markdown",
   "metadata": {
    "id": "04XFn4UtW5TA"
   },
   "source": [
    "Penjelasan:\n",
    "\n",
    "1. Fungsi ``inner()`` mengembalikan nilai dari variabel yang diakses dalam scope-nya. Sebagai <b>inner function</b> (fungsi dalam fungsi) maka ``inner()`` bisa menggunakan entity pada fungsi ``outer()``.\n",
    "\n",
    "2. ``outer()`` mengembalikan ``inner()`` sebagai return valuenya.\n",
    "\n",
    "Fungsi yang dikembalikan oleh ``outer()`` ketika dipanggil disebut dengan closure. Mari kita lihat contoh berikutnya:"
   ]
  },
  {
   "cell_type": "code",
   "execution_count": 15,
   "metadata": {
    "colab": {
     "base_uri": "https://localhost:8080/"
    },
    "id": "VclxGPu_X0KT",
    "outputId": "666afec2-a140-448f-c93a-86b0e877daf4"
   },
   "outputs": [
    {
     "name": "stdout",
     "output_type": "stream",
     "text": [
      "0 0 0\n",
      "1 1 1\n",
      "2 4 8\n",
      "3 9 27\n",
      "4 16 64\n"
     ]
    }
   ],
   "source": [
    "def make_closure(par):\n",
    "  loc = par\n",
    "\n",
    "  def power(p):\n",
    "    return p ** loc\n",
    "  return power\n",
    "\n",
    "\n",
    "fsqr = make_closure(2)\n",
    "fcub = make_closure(3)\n",
    "\n",
    "for i in range(5):\n",
    "  print(i, fsqr(i), fcub(i))"
   ]
  },
  {
   "cell_type": "markdown",
   "metadata": {
    "id": "F8d93HZ1YZ0V"
   },
   "source": [
    "Di contoh kode program tadi, kita bisa melihat selain untuk mempertahankan data, closure juga bisa menerima parameter dari luar yang digunakan di dalam fungsi tersebut."
   ]
  },
  {
   "cell_type": "markdown",
   "metadata": {
    "id": "Ny1H9JqIaGPc"
   },
   "source": [
    "# Pengaksesan File di Python\n",
    "\n",
    "Python memungkinkan kita melakukan pembacaan dan penulisan data ke dalam file. Hal ini dilakukan agar nilai yang diproses tidak ikut hilang seiring berakhirnya eksekusi kode program. Ada beberapa format file yang bisa digunakan oleh Python, akan tetapi format yang paling sering digunakan, yaitu: txt dan csv.\n",
    "\n",
    "Sebelum masuk ke pembahasan akses file menggunakan Python, mari kita pelajari beberapa konsep perihal nama file."
   ]
  },
  {
   "cell_type": "markdown",
   "metadata": {
    "id": "LZnZpax1axA9"
   },
   "source": [
    "Sebuah file yang disimpan di sistem komputer pasti memiliki nama. Melalui nama inilah kita bisa mengakses file tersebut. File disimpan dalam sebuah direktori. Untuk bisa bisa mengakses file, maka kita perlu mengetahui alamat file yang biasanya terdiri dari nama direktori diikuti nama filenya. Ada perbedaan pengalamatan direktori dan file pada OS Windows dan OS Linux/Mac OS. Contoh perbedaannya adalah sebagai berikut:\n",
    "\n",
    "<b>Windows</b>\n",
    "\n",
    "``C:\\Documents\\file.txt``\n",
    "\n",
    "<b>Linux dan Mac OS</b>\n",
    "\n",
    "``/Documents/file.txt``\n",
    "\n",
    "Setelah kita memahami pengaksesan alamat direktori dan file, mari kita mulai mengakses file menggunakan Python."
   ]
  },
  {
   "cell_type": "markdown",
   "metadata": {
    "id": "gIzWSyA6ch2a"
   },
   "source": [
    "## File Streams\n",
    "\n",
    "Python memiliki beberapa jenis File Streams. Salah satunya adalah <b>Open Mode</b>. Open Mode digunakan untuk membuka sebuah file. Jika proses pembukaan file berhasil, maka program bisa melakukan operasi yang sesuai dengan Open Mode.\n",
    "\n",
    "Dua operasi yang bisa dilakukan di Open Mode, adalah:\n",
    "\n",
    "1. <b>Read from the stream</b> - Data dari sebuah file ditempatkan di memory yang di-manage oleh program.\n",
    "\n",
    "2. <b>Write to the stream</b> - Data dari memory yang di-manage oleh program dikirim ke dalam sebiah file.\n",
    "\n",
    "Dalam python ada tiga mode yang didukung, yaitu:\n",
    "\n",
    "| Mode | Penjelasan |\n",
    "| :--- | :--- |\n",
    "| read mode | sebuah stream dibuka dan stream hanya bisa dibaca saja |\n",
    "| write mode | sebuah stream dibuka dan operasi write saja yang diizinkan untuk dilakukan |\n",
    "| update mode | sebuah stream dibuka dan operasi write dan read bisa dilakukan |\n",
    "\n"
   ]
  },
  {
   "cell_type": "markdown",
   "metadata": {
    "id": "j5hCmHacewt4"
   },
   "source": [
    "## Mode Streams (File)\n",
    "\n",
    "Mode streams dalam Python dapat dilihat pada tabel berikut:\n",
    "\n",
    "| Open Mode | Makna | Penjelasan |\n",
    "| :---: | :--- | :--- |\n",
    "| ``r`` | open mode: read | Stream akan dibuka dalam read mode. File yang dibuka harus eksis dan harus memiliki permission untuk dibaca. |\n",
    "| ``w`` | open mode: write | Stream akan dibuka dalam write mode. Jika stream yang mau ditulis belum ada, maka akan dibuat, jika sudah ada sebelumnya, maka isi sebelumnya akan dihapus. |\n",
    "| ``a`` | open mode: append | Stream akan dibuka dalam  append mode. Jika stream tidak eksis, maka akan dibuat. Jika sudah ada sebelumnya maka pointer ``head`` akan mereferensi ke akhir file (EoF) dan penambahan data akan dilakukan mulai dari posisi tersebut. Isian lama tidak hilang. |\n",
    "| ``r+`` | open mode: read and update | Stream akan dibuka dalam read and update mode. File yang dibaca harus tersedia dan harus memiliki permission untuk ditulisi. |\n",
    "| ``w+`` | open mode: write and update | Stream akan dibuka dalam write and update mode. File yang mau ditulisi tidak perlu eksis. Jika belum ada, file akan dibuat. Isi file yang sudah ada sebelumnya tidak akan hilang. |"
   ]
  },
  {
   "cell_type": "markdown",
   "metadata": {
    "id": "8r0R8A-GhS7h"
   },
   "source": [
    "## Text dan Binary Mode\n",
    "\n",
    "Mode streams bisa diterapkan terhadap seluruh jenis file. Akan tetapi apabila kita ingin fokus dalam melakukan pembacaan file berisi teks, maka kita bisa menggunakan mode text and binary. Mode di dalam text and binary dapat dilihat pada tabel berikut:"
   ]
  },
  {
   "cell_type": "markdown",
   "metadata": {
    "id": "_8kqrBPchtdw"
   },
   "source": [
    "| Text mode\t| Binary mode |\tDeskripsi |\n",
    "| :---: | :---: | :--- |\n",
    "| ``rt`` |\t``rb`` | read |\n",
    "| ``wt`` | ``wb`` | write |\n",
    "| ``at`` | ``ab`` | append |\n",
    "| ``r+t`` | ``r+b`` | read and update|\n",
    "| ``w+t`` | ``w+b`` | write and update |"
   ]
  },
  {
   "cell_type": "markdown",
   "metadata": {
    "id": "aYA7gmICihuH"
   },
   "source": [
    "Suffix t dan b pada mode menandakan modenya. Suffix t berarti text mode sedangkan b berarti binary mode. Jika suffix tidak diberikan, maka mode default yang digunakan adalah Text Mode."
   ]
  },
  {
   "cell_type": "markdown",
   "metadata": {
    "id": "5xR9XkUijLcP"
   },
   "source": [
    "## Membuka File Pertama Kali\n",
    "\n",
    "Untuk melakukan pembukaan file, fungsi yang digunakan adalah ``open()``. Format umum fungsi tersebut adalah sebagai berikut:\n",
    "\n",
    "```python\n",
    "variabel = open(<alamat_file>, <open mode>\n",
    "```\n",
    "\n",
    "Berikut contoh penggunaannya:\n"
   ]
  },
  {
   "cell_type": "code",
   "execution_count": 16,
   "metadata": {
    "colab": {
     "base_uri": "https://localhost:8080/"
    },
    "id": "yXh7Bu22j887",
    "outputId": "9d8ed408-82a0-4115-a2b6-bf491ee2475b"
   },
   "outputs": [
    {
     "name": "stdout",
     "output_type": "stream",
     "text": [
      "File tidak bisa dibuka dengan pesan: [Errno 2] No such file or directory: '/Documents/coba.txt'\n"
     ]
    }
   ],
   "source": [
    "try:\n",
    "  stream = open(\"/Documents/coba.txt\", \"rt\")\n",
    "  # Processing goes here.\n",
    "  stream.close()\n",
    "except Exception as exc:\n",
    "    print(\"File tidak bisa dibuka dengan pesan:\", exc)"
   ]
  },
  {
   "cell_type": "markdown",
   "metadata": {
    "id": "EA0vve3NkU1N"
   },
   "source": [
    "Eksekusi kode program tersebut menghasilkan exception karena file tidak ditemukan pada alamat tersebut.\n",
    "\n",
    "><b>Catatan:</b> \n",
    "Silakan sesuaikan pengalamatan file dengan OS yang digunakan. Gunakan lingkungan Python di komputer masing-masing (jangan eksekusi di google colabs) agar mudah melakukan pembacaan filenya."
   ]
  },
  {
   "cell_type": "markdown",
   "metadata": {
    "id": "LDAmsJMSlx90"
   },
   "source": [
    "## Diagnosis Error pada Operasi File\n",
    "\n",
    "Kita bisa mengecek jenis exception yang terjadi pada sebuah file dengan memanfaatkan entity ``strerror`` yang terdapat pada module ``os``. Berikut contoh penggunaannya:"
   ]
  },
  {
   "cell_type": "code",
   "execution_count": 17,
   "metadata": {
    "colab": {
     "base_uri": "https://localhost:8080/"
    },
    "id": "fILL1EyPmNDt",
    "outputId": "5773c7d8-c3e3-4425-a48b-a2916927ff1d"
   },
   "outputs": [
    {
     "name": "stdout",
     "output_type": "stream",
     "text": [
      "File tidak bisa dibuka dengan pesan: No such file or directory\n"
     ]
    }
   ],
   "source": [
    "from os import strerror\n",
    "\n",
    "try:\n",
    "  stream = open(\"/Documents/coba.txt\", \"rt\")\n",
    "  # Processing goes here.\n",
    "  stream.close()\n",
    "except Exception as exc:\n",
    "  print(\"File tidak bisa dibuka dengan pesan:\", strerror(exc.errno))"
   ]
  },
  {
   "cell_type": "markdown",
   "metadata": {
    "id": "HfDu903mnQ_O"
   },
   "source": [
    "Dengan memanfaatkan ``strerror()`` exception yang ditangkap lebih mudah dikenali. Kalau diperhatikan dengan baik, exception memiliki sebuah konstanta bernama ``errno``. ``errno`` kita gunakan untuk menspesifikkan jenis error yang ditangkap. Sebagai contoh pada kode program sebelumnya, kita menangkap exception dengan ``errno`` sama dengan 2. ``errno`` 2 menandakan ``no such file or directory``. Ada banyak jenis ``errno`` yang bisa ditangkap. Untuk dokumentasi ``errno``, silakan buka <a href = \"https://docs.python.org/3/library/errno.html?highlight=errno#module-errno\"> LINK BERIKUT</a>.\n",
    "\n",
    "Mari kita coba kode program berikut:"
   ]
  },
  {
   "cell_type": "code",
   "execution_count": 18,
   "metadata": {
    "colab": {
     "base_uri": "https://localhost:8080/"
    },
    "id": "SAbzGN2tnpJm",
    "outputId": "e940171d-f5cd-4c11-efb7-6f3e556b6b00"
   },
   "outputs": [
    {
     "name": "stdout",
     "output_type": "stream",
     "text": [
      "File tidak ditemukan\n"
     ]
    }
   ],
   "source": [
    "import errno\n",
    "\n",
    "try:\n",
    "  stream = open(\"/Documents/coba.txt\", \"rt\")\n",
    "  # Processing goes here.\n",
    "  stream.close()\n",
    "except Exception as exc:\n",
    "  if exc.errno == errno.ENOENT:\n",
    "    print(\"File tidak ditemukan\")\n",
    "  elif exc.errno == errno.EMFILE:\n",
    "    print(\"File yang dibuka terlalu banyak.\")\n",
    "  else:\n",
    "    print(\"Errno yang dihasilkan adalah :\", exc.errno)"
   ]
  },
  {
   "cell_type": "markdown",
   "metadata": {},
   "source": [
    "## Hands on Lab 5: Membuka file data.txt\n",
    "\n",
    "Disclaimer:\n",
    "Sebelum menjalankan kode program berikut, silakan copy-paste file halo.txt ke dalam direktori yang sama dengan file .ipynb atau .py anda. Untuk bisa mendapatkan file tersebut, silakan unduh di <a href = \"https://github.com/adammb86/FGAUNIKOM2021/blob/master/halo.txt\">LINK BERIKUT</a> setelah itu simpan di alamat yang mudah anda akses (ingat, ganti alamat pada kode program sesuai dengan alamat tempat Anda menyimpan filenya). Apabila file diletakkan pada folder yang sama, maka kita cukup menyebutkan nama filenya beserta ektensi filenya.\n",
    "\n",
    "Mari kita coba kode program berikut:"
   ]
  },
  {
   "cell_type": "code",
   "execution_count": 19,
   "metadata": {},
   "outputs": [
    {
     "name": "stdout",
     "output_type": "stream",
     "text": [
      "Halo semua!\n",
      "Saya adalah sebuah file bernama halo.\n",
      "Kalian pasti familiar dengan namaku kan?\n",
      "\n",
      "Di topik ini kalian akan bermain bersama teman-temanku yang lain juga loh.\n",
      "Mari SEMANGAT...\n"
     ]
    }
   ],
   "source": [
    "try:\n",
    "    filehalo = open(\"halo.txt\",\"rt\", encoding = \"UTF-8\")\n",
    "    print(filehalo.read())\n",
    "    filehalo.close()\n",
    "except Exception as exc:\n",
    "    print(exc.errno)"
   ]
  },
  {
   "cell_type": "markdown",
   "metadata": {},
   "source": [
    "><b>Catatan:</b> Pada fungsi ``open()`` terdapat parameter encoding yang digunakan untuk menentukan code point yang digunakan dalam menerjemahkan karakter di dalam file. Proses ini sudah dibahas pada topik sebelumnya."
   ]
  },
  {
   "cell_type": "markdown",
   "metadata": {},
   "source": [
    "## Fungsi read()\n",
    "\n",
    "Pada contoh sebelumnya kita sudah menggunakan fungsi ``read()`` untuk membaca isi file. Fungsi ``read()`` apabila diaplikasikan pada file teks maka akan melakukan:\n",
    "\n",
    "1. Membaca sejumlah karakter yang diinginkan (walaupun hanya satu) dari file dan mengembalikan mereka dalam bentuk string.\n",
    "2. Membaca seluruh karakter yang ada pada file dan mengembalikan mereka dalam bentuk string.\n",
    "3. Jika tidak ada lagi yang dibaca (pointer head mencapai End of File), fungsi akan mengembalikan string kosong.\n",
    "\n",
    "Mari kita baca isi file puisi.txt (silakan buat file tersebut di folder yang sama dengan file .ipynb atau .py anda dan beri nama puisi.txt) berikut dan juga menghitung jumlah karakter di dalamnya:\n",
    "\n",
    "```\n",
    "Kalau sampai waktuku\n",
    "'Ku mau tak seorang 'kan merayu\n",
    "Tidak juga kau\n",
    "\n",
    "Tak perlu sedu sedan itu\n",
    "\n",
    "Aku ini binatang jalang\n",
    "Dari kumpulannya terbuang\n",
    "\n",
    "Biar peluru menembus kulitku\n",
    "Aku tetap meradang menerjang\n",
    "\n",
    "Luka dan bisa kubawa berlari\n",
    "Berlari\n",
    "\n",
    "Hingga hilang pedih peri\n",
    "\n",
    "Dan aku akan lebih tidak peduli\n",
    "Aku mau hidup seribu tahun lagi!\n",
    "```"
   ]
  },
  {
   "cell_type": "code",
   "execution_count": 20,
   "metadata": {},
   "outputs": [
    {
     "name": "stdout",
     "output_type": "stream",
     "text": [
      "Kalau sampai waktuku\n",
      "'Ku mau tak seorang 'kan merayu\n",
      "Tidak juga kau\n",
      "\n",
      "Tak perlu sedu sedan itu\n",
      "\n",
      "Aku ini binatang jalang\n",
      "Dari kumpulannya terbuang\n",
      "\n",
      "Biar peluru menembus kulitku\n",
      "Aku tetap meradang menerjang\n",
      "\n",
      "Luka dan bisa kubawa berlari\n",
      "Berlari\n",
      "\n",
      "Hingga hilang pedih peri\n",
      "\n",
      "Dan aku akan lebih tidak peduli\n",
      "Aku mau hidup seribu tahun lagi!\n",
      "\n",
      "Jumlah karakter dalam puisi aku: 333\n"
     ]
    }
   ],
   "source": [
    "from os import strerror\n",
    "\n",
    "try:\n",
    "    jml_karakter = 0\n",
    "    puisiaku = open('puisi.txt', \"rt\")\n",
    "    isi = puisiaku.read(1)\n",
    "    while isi != '':\n",
    "        print(isi, end='')\n",
    "        jml_karakter += 1\n",
    "        isi = puisiaku.read(1)\n",
    "    puisiaku.close()\n",
    "    print(\"\\n\\nJumlah karakter dalam puisi aku:\", jml_karakter)\n",
    "except IOError as e:\n",
    "    print(\"I/O error berupa: \", strerror(e.errno))"
   ]
  },
  {
   "cell_type": "markdown",
   "metadata": {},
   "source": [
    "><b>Catatan:</b> nilai parameter 1 pada fungsi ``read()`` akan melakukan pembacaan pada karakter pertama di file puisi.txt."
   ]
  },
  {
   "cell_type": "markdown",
   "metadata": {},
   "source": [
    "## Hands on Lab 6: Membaca file dengan for\n",
    "\n",
    "Mari kita coba kode program berikut (asumsi file puisi.txt sudah tersedia):"
   ]
  },
  {
   "cell_type": "code",
   "execution_count": 21,
   "metadata": {},
   "outputs": [
    {
     "name": "stdout",
     "output_type": "stream",
     "text": [
      "Kalau sampai waktuku\n",
      "'Ku mau tak seorang 'kan merayu\n",
      "Tidak juga kau\n",
      "\n",
      "Tak perlu sedu sedan itu\n",
      "\n",
      "Aku ini binatang jalang\n",
      "Dari kumpulannya terbuang\n",
      "\n",
      "Biar peluru menembus kulitku\n",
      "Aku tetap meradang menerjang\n",
      "\n",
      "Luka dan bisa kubawa berlari\n",
      "Berlari\n",
      "\n",
      "Hingga hilang pedih peri\n",
      "\n",
      "Dan aku akan lebih tidak peduli\n",
      "Aku mau hidup seribu tahun lagi!\n",
      "\n",
      "Jumlah karakter dalam puisi aku: 333\n"
     ]
    }
   ],
   "source": [
    "from os import strerror\n",
    "\n",
    "try:\n",
    "    jml_karakter = 0\n",
    "    puisiaku = open('puisi.txt', \"rt\")\n",
    "    isipuisi = puisiaku.read()\n",
    "\n",
    "    for isi in isipuisi:\n",
    "        print(isi,end = '')\n",
    "        jml_karakter +=1\n",
    "    \n",
    "    puisiaku.close()\n",
    "    print(\"\\n\\nJumlah karakter dalam puisi aku:\", jml_karakter)\n",
    "except IOError as e:\n",
    "    print(\"I/O error berupa: \", strerror(e.errno))"
   ]
  },
  {
   "cell_type": "markdown",
   "metadata": {},
   "source": [
    "## Fungsi readline\n",
    "\n",
    "Fungsi ``readline()`` bisa digunakan untuk membaca file dan menganggap isi file tersebut adalah kumpulan baris. Fungsi ini akan membaca sebuah baris secara komplit dan mengembalikan isinya sebagai sebuah string. Jika isi file kosong, maka fungsi ini akan mengembalikan string kosong.\n",
    "\n",
    "Mari kita coba kode program berikut:"
   ]
  },
  {
   "cell_type": "code",
   "execution_count": 22,
   "metadata": {},
   "outputs": [
    {
     "name": "stdout",
     "output_type": "stream",
     "text": [
      "Kalau sampai waktuku\n",
      "'Ku mau tak seorang 'kan merayu\n",
      "Tidak juga kau\n",
      "\n",
      "Tak perlu sedu sedan itu\n",
      "\n",
      "Aku ini binatang jalang\n",
      "Dari kumpulannya terbuang\n",
      "\n",
      "Biar peluru menembus kulitku\n",
      "Aku tetap meradang menerjang\n",
      "\n",
      "Luka dan bisa kubawa berlari\n",
      "Berlari\n",
      "\n",
      "Hingga hilang pedih peri\n",
      "\n",
      "Dan aku akan lebih tidak peduli\n",
      "Aku mau hidup seribu tahun lagi!\n",
      "\n",
      "Jumlah karakter dalam puisi aku: 333\n",
      "\n",
      "\n",
      "Jumlah baris dalam puisi aku: 19\n"
     ]
    }
   ],
   "source": [
    "from os import strerror\n",
    "\n",
    "try:\n",
    "    jml_karakter = jml_baris = 0\n",
    "    puisiaku = open('puisi.txt', \"rt\")\n",
    "    barispuisi = puisiaku.readline()\n",
    "\n",
    "    while barispuisi != '':\n",
    "        jml_baris += 1\n",
    "\n",
    "        for baris in barispuisi:\n",
    "            print(baris, end = '')\n",
    "            jml_karakter += 1\n",
    "        \n",
    "        barispuisi = puisiaku.readline()\n",
    "    \n",
    "    puisiaku.close()\n",
    "    print(\"\\n\\nJumlah karakter dalam puisi aku:\", jml_karakter)\n",
    "    print(\"\\n\\nJumlah baris dalam puisi aku:\", jml_baris)\n",
    "except IOError as e:\n",
    "    print(\"I/O error berupa: \", strerror(e.errno))"
   ]
  },
  {
   "cell_type": "markdown",
   "metadata": {},
   "source": [
    "## Fungsi readlines\n",
    "\n",
    "Fungsi ``readlines()`` akan membaca semua isi file dan mengembalikannya dalam sebuah bentuk list dari string. 1 elemen list menampung 1 baris isi file. Mari kita coba contoh kasusnya:"
   ]
  },
  {
   "cell_type": "code",
   "execution_count": 23,
   "metadata": {},
   "outputs": [
    {
     "name": "stdout",
     "output_type": "stream",
     "text": [
      "Kalau sampai waktuku\n",
      "'Ku mau tak seorang 'kan merayu\n",
      "Tidak juga kau\n",
      "\n",
      "Tak perlu sedu sedan itu\n",
      "\n",
      "Aku ini binatang jalang\n",
      "Dari kumpulannya terbuang\n",
      "\n",
      "Biar peluru menembus kulitku\n",
      "Aku tetap meradang menerjang\n",
      "\n",
      "Luka dan bisa kubawa berlari\n",
      "Berlari\n",
      "\n",
      "Hingga hilang pedih peri\n",
      "\n",
      "Dan aku akan lebih tidak peduli\n",
      "Aku mau hidup seribu tahun lagi!\n",
      "\n",
      "Jumlah karakter dalam puisi aku: 333\n",
      "\n",
      "\n",
      "Jumlah baris dalam puisi aku: 19\n"
     ]
    }
   ],
   "source": [
    "from os import strerror\n",
    "\n",
    "try:\n",
    "    jml_karakter = jml_baris = 0\n",
    "    puisiaku = open('puisi.txt', \"rt\")\n",
    "    barispuisi = puisiaku.readlines()\n",
    "\n",
    "    while len(barispuisi) != 0:\n",
    "        for baris in barispuisi:\n",
    "            jml_baris += 1\n",
    "\n",
    "            for karakter in baris:\n",
    "                print(karakter, end = '')\n",
    "                jml_karakter += 1\n",
    "        \n",
    "        barispuisi = puisiaku.readlines()\n",
    "    \n",
    "    puisiaku.close()\n",
    "    print(\"\\n\\nJumlah karakter dalam puisi aku:\", jml_karakter)\n",
    "    print(\"\\n\\nJumlah baris dalam puisi aku:\", jml_baris)\n",
    "except IOError as e:\n",
    "    print(\"I/O error berupa: \", strerror(e.errno))"
   ]
  },
  {
   "cell_type": "markdown",
   "metadata": {},
   "source": [
    "## Object pada fungsi open()\n",
    "\n",
    "Fungsi ``open()`` akan mengembalikan sebuah object iterator. Karena objeknya berupa iterator, maka fungsi ini juga memiliki karakteristik seperti iterator pada umumnya. Method ``__next__`` akan mengembalikan next line read dari sebuah file dan ketika sudah mencapai End of File, maka fungsi ini akan memanggil fungsi ``close()``.\n",
    "\n",
    "Mari kita coba kode program berikut:"
   ]
  },
  {
   "cell_type": "code",
   "execution_count": 24,
   "metadata": {},
   "outputs": [
    {
     "name": "stdout",
     "output_type": "stream",
     "text": [
      "Kalau sampai waktuku\n",
      "'Ku mau tak seorang 'kan merayu\n",
      "Tidak juga kau\n",
      "\n",
      "Tak perlu sedu sedan itu\n",
      "\n",
      "Aku ini binatang jalang\n",
      "Dari kumpulannya terbuang\n",
      "\n",
      "Biar peluru menembus kulitku\n",
      "Aku tetap meradang menerjang\n",
      "\n",
      "Luka dan bisa kubawa berlari\n",
      "Berlari\n",
      "\n",
      "Hingga hilang pedih peri\n",
      "\n",
      "Dan aku akan lebih tidak peduli\n",
      "Aku mau hidup seribu tahun lagi!\n",
      "\n",
      "Jumlah karakter dalam puisi aku: 333\n",
      "\n",
      "\n",
      "Jumlah baris dalam puisi aku: 19\n"
     ]
    }
   ],
   "source": [
    "from os import strerror\n",
    "\n",
    "try:\n",
    "    jml_karakter = jml_baris = 0\n",
    "    \n",
    "    for baris in open('puisi.txt', 'rt'):\n",
    "        jml_baris += 1\n",
    "\n",
    "        for karakter in baris:\n",
    "            print(karakter, end = '')\n",
    "            jml_karakter += 1\n",
    "\n",
    "    print(\"\\n\\nJumlah karakter dalam puisi aku:\", jml_karakter)\n",
    "    print(\"\\n\\nJumlah baris dalam puisi aku:\", jml_baris)\n",
    "except IOError as e:\n",
    "    print(\"I/O error berupa: \", strerror(e.errno))"
   ]
  },
  {
   "cell_type": "markdown",
   "metadata": {},
   "source": [
    "Hasilnya akan sama dengan pemanggilan isi file sebelumnya."
   ]
  },
  {
   "cell_type": "markdown",
   "metadata": {},
   "source": [
    "## Method write\n",
    "\n",
    "Method ``write()`` memiliki sebuah argument berupa string yang akan ditransfer ke dalam sebuah file yang sudah dibuka sebelumnya. Apabila membutuhkan karakter newline maka kita harus menambahkan sendiri.\n",
    "\n",
    "Berikut contoh penggunaan fungsi ``write()``:"
   ]
  },
  {
   "cell_type": "code",
   "execution_count": 25,
   "metadata": {},
   "outputs": [],
   "source": [
    "from os import strerror\n",
    "\n",
    "try:\n",
    "\tfile = open('filebaru.txt', 'wt') # filebaru.txt akan di-create\n",
    "\tfor i in range(10):\n",
    "\t\tisi_file = \"Baris #\" + str(i+1) + \"\\n\" # newline ditambahkan\n",
    "\t\tfor karakter in isi_file:\n",
    "\t\t\tfile.write(karakter)\n",
    "\tfile.close()\n",
    "except IOError as e:\n",
    "\tprint(\"I/O error occurred: \", strerror(e.errno))"
   ]
  },
  {
   "cell_type": "markdown",
   "metadata": {},
   "source": [
    "Berikut hasil eksekusi dari program tersebut:\n",
    "\n",
    "![Isi file filebaru.txt](https://drive.google.com/uc?export=view&id=1Cov-Zy1vipnS2bN15sxV-EDC7JcVZgSu)\n"
   ]
  },
  {
   "cell_type": "markdown",
   "metadata": {},
   "source": [
    "## Baca dan Tulis File Binary\n",
    "\n",
    "Selain file teks, Python juga bisa mengakses file binary. Mari kita coba kode program berikut agar bisa mengetahui perbedaan text file dengan binary file:"
   ]
  },
  {
   "cell_type": "code",
   "execution_count": 26,
   "metadata": {},
   "outputs": [],
   "source": [
    "from os import strerror\n",
    "\n",
    "data = bytearray(10)\n",
    "\n",
    "for i in range(len(data)):\n",
    "    data[i] = 10 + i\n",
    "\n",
    "try:\n",
    "    bin_file = open('binary.bin', 'wb')\n",
    "    bin_file.write(data)\n",
    "    bin_file.close()\n",
    "except IOError as e:\n",
    "    print(\"I/O error berupa:\", strerror(e.errno))\n",
    "\n",
    "# Your code that reads bytes from the stream should go here."
   ]
  },
  {
   "cell_type": "markdown",
   "metadata": {},
   "source": [
    "Apabila isi binary.bin diperiksa, maka kita tidak akan menemukan isi yang readable. Untu bisa membaca isinya, python menyediakan fungsi ``readinto()``. Berikut contoh penggunaannya:"
   ]
  },
  {
   "cell_type": "code",
   "execution_count": 27,
   "metadata": {},
   "outputs": [
    {
     "name": "stdout",
     "output_type": "stream",
     "text": [
      "0xa 0xb 0xc 0xd 0xe 0xf 0x10 0x11 0x12 0x13 "
     ]
    }
   ],
   "source": [
    "from os import strerror\n",
    "\n",
    "data = bytearray(10)\n",
    "\n",
    "try:\n",
    "    bin_file = open('binary.bin', 'rb')\n",
    "    bin_file.readinto(data)\n",
    "    bin_file.close()\n",
    "\n",
    "    for baris in data:\n",
    "        print(hex(baris), end=' ')\n",
    "except IOError as e:\n",
    "    print(\"I/O error occurred:\", strerror(e.errno))"
   ]
  },
  {
   "cell_type": "markdown",
   "metadata": {},
   "source": [
    "Kalau diperhatikan dengan baik maka isi file ``binary.bin`` adalah karakter hexadecimal. Untuk bisa membaca byte dalam file binary, python mempunyai fungsi alternatif berupa ``bytearray(<nama_file>.read())``. Contoh penggunaannya adalah sebagai berikut:"
   ]
  },
  {
   "cell_type": "code",
   "execution_count": 28,
   "metadata": {},
   "outputs": [
    {
     "name": "stdout",
     "output_type": "stream",
     "text": [
      "0xa 0xb 0xc 0xd 0xe 0xf 0x10 0x11 0x12 0x13 "
     ]
    }
   ],
   "source": [
    "from os import strerror\n",
    "\n",
    "try:\n",
    "    bin_file = open('binary.bin', 'rb')\n",
    "    data = bytearray(bin_file.read())\n",
    "    bin_file.close()\n",
    "\n",
    "    for baris in data:\n",
    "        print(hex(baris), end=' ')\n",
    "\n",
    "except IOError as e:\n",
    "    print(\"I/O error occurred:\", strerror(e.errno))\n"
   ]
  },
  {
   "cell_type": "markdown",
   "metadata": {},
   "source": [
    "><b>Catatan:</b> Jangan gunakan fungsi alternatif ini kalau kita tidak yakin dengan sisa memori komputer yang bisa dipesan untuk menyimpan isi file karena fungsi ini akan memindahkan seluruh isi file secara bersamaan ke dalam memori komputer."
   ]
  },
  {
   "cell_type": "markdown",
   "metadata": {},
   "source": [
    "# Module os\n",
    "\n",
    "Module ini sudah sempat dibahas pada topik 5. Secara umum, module ini berfungsi untuk:\n",
    "\n",
    "1. Mendapatkan informasi perihal OS.\n",
    "2. Manajemen proses di OS.\n",
    "3. Mengoperasikan I/O streams menggunakan file descriptors.\n",
    "\n",
    "Berikut beberapa entity yang sering dipakai di module ``os``:\n",
    "\n",
    "| Entity | Penjelasan |\n",
    "| :--- | :--- |\n",
    "| ``uname()`` | Menampilkan informasi dari OS berupa: <br>1. systemname - menyimpan nama dari OS; <br>2. nodename - menyimpan nama machine  di dalam jaringan; <br>3. release - menyimpan informasi release OS; <br>4. version - menyimpan versi OS; <br>5. machine - menyimpan identifier hardware (contoh: x86_64) |\n",
    "| ``name()`` | Menampilkan atribut nama dari OS, contoh: <br>1. posix untuk Unix; <br>2. nt untuk Windows; <br>3. java untuk kode yang ditulis di Jython. |\n",
    "| ``mkdir()`` | Membuat direktori baru di direktori aktif |\n",
    "| ``listdir()`` | Menampilkan list isi direktori aktif dan sub direktorinya |\n",
    "| ``chdir()`` | Mengganti direktori aktif |\n",
    "| ``getcwd()`` | Menampilkan nama direktori aktif |\n",
    "| ``rmdir()`` | Menghapus direktori pada parameter |\n",
    "| ``system()`` | Memeriksa status dari perintah/command yang dieksekusi pada OS |"
   ]
  },
  {
   "cell_type": "markdown",
   "metadata": {},
   "source": [
    "## Fungsi uname() dan name\n",
    "\n",
    "Berikut contoh penggunaan keduanya:"
   ]
  },
  {
   "cell_type": "code",
   "execution_count": 29,
   "metadata": {},
   "outputs": [
    {
     "name": "stdout",
     "output_type": "stream",
     "text": [
      "posix.uname_result(sysname='Darwin', nodename='Adams-MacBook-Pro.local', release='20.6.0', version='Darwin Kernel Version 20.6.0: Wed Jun 23 00:26:31 PDT 2021; root:xnu-7195.141.2~5/RELEASE_X86_64', machine='x86_64')\n",
      "posix\n"
     ]
    }
   ],
   "source": [
    "import os\n",
    "\n",
    "print(os.uname())\n",
    "print(os.name)"
   ]
  },
  {
   "cell_type": "markdown",
   "metadata": {},
   "source": [
    "## Fungsi listdir()\n",
    "\n",
    "Berikut contoh penggunaan fungsi ``listdir()``:"
   ]
  },
  {
   "cell_type": "code",
   "execution_count": 30,
   "metadata": {},
   "outputs": [
    {
     "name": "stdout",
     "output_type": "stream",
     "text": [
      "['Topic 2 - Data Types, Variables, Basic Input-Output Operations, Basic Operators.ipynb', 'Topic 9 - Numpy dan Scipy.ipynb', 'halo.txt', '.DS_Store', 'filebaru.txt', 'Topic 4 - Functions, Tuples, Dictionaries, Set and Data processing.ipynb', 'Topic 7 - Object Oriented Programming.ipynb', 'puisi.txt', 'Topic 8 - Miscellaneous.ipynb', 'Topic 3 - Boolean Values, Conditional Execution, Loops, Lists and List Processing, Logical and Bitwise Operations.ipynb', 'Topic 5 - Modules, Packages, and PIP.ipynb', 'Topic 10 - Pandas dan Matplotlib.ipynb', '.ipynb_checkpoints', '.git', 'Topic 1 - Introdution to Python.ipynb', '.vscode', 'Topic 6 - String, String and List Method, Exceptions.ipynb', 'binary.bin']\n"
     ]
    }
   ],
   "source": [
    "import os\n",
    "\n",
    "print(os.listdir())"
   ]
  },
  {
   "cell_type": "markdown",
   "metadata": {},
   "source": [
    "## Fungsi chdir() dan getcwd()\n",
    "\n",
    "Berikut contoh penggunaan fungsi ``chdir()`` dan ``getcwd()``:\n"
   ]
  },
  {
   "cell_type": "code",
   "execution_count": 31,
   "metadata": {},
   "outputs": [
    {
     "name": "stdout",
     "output_type": "stream",
     "text": [
      "/Users/adambachtiar/Documents\n",
      "/Users/adambachtiar/Documents/FGAUNIKOM2021\n"
     ]
    }
   ],
   "source": [
    "import os\n",
    "\n",
    "os.chdir(\"../\")\n",
    "print(os.getcwd())\n",
    "\n",
    "os.chdir(\"/Users/adambachtiar/Documents/FGAUNIKOM2021\")\n",
    "print(os.getcwd())"
   ]
  },
  {
   "cell_type": "markdown",
   "metadata": {},
   "source": [
    "><b>Catatan</b>: Ganti alamat pada ``chdir()`` kedua dengan suatu alamat direktori di komputer anda."
   ]
  },
  {
   "cell_type": "markdown",
   "metadata": {},
   "source": [
    "## Fungsi mkdir() dan rmdir()\n",
    "\n",
    "Berikut contoh penggunaan fungsi ``mkdir()`` dan ``listdir()``:"
   ]
  },
  {
   "cell_type": "code",
   "execution_count": 32,
   "metadata": {},
   "outputs": [
    {
     "name": "stdout",
     "output_type": "stream",
     "text": [
      "['Topic 2 - Data Types, Variables, Basic Input-Output Operations, Basic Operators.ipynb', 'Topic 9 - Numpy dan Scipy.ipynb', 'halo.txt', '.DS_Store', 'filebaru.txt', 'Topic 4 - Functions, Tuples, Dictionaries, Set and Data processing.ipynb', 'Topic 7 - Object Oriented Programming.ipynb', 'puisi.txt', 'Topic 8 - Miscellaneous.ipynb', 'DirektoriBaru', 'Topic 3 - Boolean Values, Conditional Execution, Loops, Lists and List Processing, Logical and Bitwise Operations.ipynb', 'Topic 5 - Modules, Packages, and PIP.ipynb', 'Topic 10 - Pandas dan Matplotlib.ipynb', '.ipynb_checkpoints', '.git', 'Topic 1 - Introdution to Python.ipynb', '.vscode', 'Topic 6 - String, String and List Method, Exceptions.ipynb', 'binary.bin']\n"
     ]
    }
   ],
   "source": [
    "import os\n",
    "\n",
    "os.mkdir(\"DirektoriBaru\")\n",
    "print(os.listdir())"
   ]
  },
  {
   "cell_type": "code",
   "execution_count": 33,
   "metadata": {},
   "outputs": [
    {
     "name": "stdout",
     "output_type": "stream",
     "text": [
      "['Topic 2 - Data Types, Variables, Basic Input-Output Operations, Basic Operators.ipynb', 'Topic 9 - Numpy dan Scipy.ipynb', 'halo.txt', '.DS_Store', 'filebaru.txt', 'Topic 4 - Functions, Tuples, Dictionaries, Set and Data processing.ipynb', 'Topic 7 - Object Oriented Programming.ipynb', 'puisi.txt', 'Topic 8 - Miscellaneous.ipynb', 'Topic 3 - Boolean Values, Conditional Execution, Loops, Lists and List Processing, Logical and Bitwise Operations.ipynb', 'Topic 5 - Modules, Packages, and PIP.ipynb', 'Topic 10 - Pandas dan Matplotlib.ipynb', '.ipynb_checkpoints', '.git', 'Topic 1 - Introdution to Python.ipynb', '.vscode', 'Topic 6 - String, String and List Method, Exceptions.ipynb', 'binary.bin']\n"
     ]
    }
   ],
   "source": [
    "import os\n",
    "\n",
    "os.rmdir(\"DirektoriBaru\")\n",
    "print(os.listdir())"
   ]
  },
  {
   "cell_type": "markdown",
   "metadata": {},
   "source": [
    "# Module datetime\n",
    "\n",
    "Module kedua yang sering digunakan adalah module ``datetime``. Module ini biasanya dipadupadankan dengan module lain untuk kasus:\n",
    "\n",
    "1. <b>event logging</b> - membuat logs yang di dalamnya ada informasi tanggal dan waktu.\n",
    "2. <b>data validation</b> - module ``datetime`` digunakan untuk memberikan range waktu sebagai kondisional pada suatu aksi yag berhubungan dengan data.\n",
    "3. <b>storing important information</b> - Menyimpan data yang membutuhkan timestamp sebagai data utama (objek temporal).\n",
    "\n",
    "Berikut beberapa entity yang sering dimanfaatkan dalam module ``datetime`` (terdapat 3 common sub module, yaitu: ``date``, ``time``, dan ``datetime``):\n",
    "\n",
    "| Entity | Penjelasan |\n",
    "| :-- | :-- |\n",
    "| ``date(year, month, day)`` | Membuat objek tanggal |\n",
    "| ``today()`` | Mengembalikan nilai date() dari data hari ini |\n",
    "| ``fromtimestamp()`` | Membuat objek datetime dari timestamp (memanfaatkan module time) |\n",
    "| ``fromisoformat()`` | Membuat objek date menggunakan ISO 85601 Standard (YYYY-MM-DD) |\n",
    "| ``replace(year, month, day)`` | Mengganti data tahun, bulan, dan hari pada suatu objek date |\n",
    "| ``weekday()`` | Mengembalikan indeks hari pada suatu minggu. indeks 0 dimulai dari Senin sampai indeks 6 (Minggu) |\n",
    "| ``isoweekday()`` | Mirip seperti weekday akan tetapi menggunakan standar ISO 85601. Indeksnya adalah 1 (Senin) sampai dengan indeks 7 (Minggu) |\n",
    "| ``time(hour, minute, second, microsecond, tzinfo, fold)`` | Membuat objek waktu(time) |\n",
    "| ``time.sleep()`` | Memberikan jeda eksekusi tergantung pada parameter detik |\n",
    "| ``ctime()`` | Mengkonversi time menjadi detik yang terhitung mulai dari tanggal 1 Januari 1970 |\n",
    "| ``datetime(year, month, day, hour, minute, second, microsecond, tzinfo, fold)`` | Membuat objek date dan time bersamaan dalam satu objek |\n",
    "| ``today()`` | Mengembalikan local date dan time hari ini dengan tzinfo diisi None |\n",
    "| ``now()`` | Mengembalikan nilai local date dan time hari ini (tzinfo disertakan) |\n",
    "| ``utcnow()`` | Mengembalikan UTC date dan time hari ini (tzinfo diisi None) |\n",
    "| ``datetime.timestamp()`` | Mendapatkan timestamp dari objek datetime |"
   ]
  },
  {
   "cell_type": "markdown",
   "metadata": {},
   "source": [
    "## Fungsi date(year, month, day) dan today()\n",
    "\n",
    "Berikut contoh penggunaan fungsi ``date()`` dan ``today()``:"
   ]
  },
  {
   "cell_type": "code",
   "execution_count": 34,
   "metadata": {},
   "outputs": [
    {
     "name": "stdout",
     "output_type": "stream",
     "text": [
      "1945-08-17\n",
      "2021-08-14\n",
      "14\n",
      "8\n",
      "2021\n"
     ]
    }
   ],
   "source": [
    "from datetime import date\n",
    "\n",
    "ri_merdeka = date(1945, 8, 17)\n",
    "print(ri_merdeka)\n",
    "\n",
    "hari_ini = date.today()\n",
    "print(hari_ini)\n",
    "print(hari_ini.day)\n",
    "print(hari_ini.month)\n",
    "print(hari_ini.year)"
   ]
  },
  {
   "cell_type": "markdown",
   "metadata": {},
   "source": [
    "## Fungsi fromtimestamp()\n",
    "\n",
    "Berikut cara penggunaan ``fromtimestamp()``:"
   ]
  },
  {
   "cell_type": "code",
   "execution_count": 35,
   "metadata": {},
   "outputs": [
    {
     "name": "stdout",
     "output_type": "stream",
     "text": [
      "1628900011.384712\n",
      "2021-08-14\n"
     ]
    }
   ],
   "source": [
    "from datetime import date\n",
    "import time # untuk mendapatkan timestamp\n",
    "\n",
    "timestamp = time.time()\n",
    "print(timestamp)\n",
    "\n",
    "date_timestamp = date.fromtimestamp(timestamp)\n",
    "print(date_timestamp)"
   ]
  },
  {
   "cell_type": "markdown",
   "metadata": {},
   "source": [
    "## Fungsi weekday() dan isoweekday()\n",
    "\n",
    "Berikut contoh penggunaan fungsi ``weekday()`` dan ``isoweekday()``:"
   ]
  },
  {
   "cell_type": "code",
   "execution_count": 36,
   "metadata": {},
   "outputs": [
    {
     "name": "stdout",
     "output_type": "stream",
     "text": [
      "5\n",
      "6\n"
     ]
    }
   ],
   "source": [
    "from datetime import date\n",
    "\n",
    "hari_ini = date.today()\n",
    "print(hari_ini.weekday())\n",
    "print(hari_ini.isoweekday())"
   ]
  },
  {
   "cell_type": "markdown",
   "metadata": {},
   "source": [
    "## Fungsi time()\n",
    "\n",
    "Berikut contoh penggunaan fungsi ``time()``:"
   ]
  },
  {
   "cell_type": "code",
   "execution_count": 37,
   "metadata": {},
   "outputs": [
    {
     "name": "stdout",
     "output_type": "stream",
     "text": [
      "Waktu: 14:53:20.000001\n",
      "Jam: 14\n",
      "Menit: 53\n",
      "Detik: 20\n",
      "Millidetik: 1\n"
     ]
    }
   ],
   "source": [
    "from datetime import time\n",
    "\n",
    "waktu = time(14, 53, 20, 1)\n",
    "\n",
    "print(\"Waktu:\", waktu)\n",
    "print(\"Jam:\", waktu.hour)\n",
    "print(\"Menit:\", waktu.minute)\n",
    "print(\"Detik:\", waktu.second)\n",
    "print(\"Millidetik:\", waktu.microsecond)"
   ]
  },
  {
   "cell_type": "markdown",
   "metadata": {},
   "source": [
    "## Penggunaan time.sleep()\n",
    "\n",
    "Berikut contoh penggunaan ``time.sleep()``:"
   ]
  },
  {
   "cell_type": "code",
   "execution_count": 18,
   "metadata": {},
   "outputs": [
    {
     "name": "stdout",
     "output_type": "stream",
     "text": [
      "Halo, aku langsung muncul\n",
      "Aku baru muncul setelah 1 detik\n"
     ]
    }
   ],
   "source": [
    "import time\n",
    "\n",
    "print(\"Halo, aku langsung muncul\")\n",
    "time.sleep(1)\n",
    "print(\"Aku baru muncul setelah 1 detik\")"
   ]
  },
  {
   "cell_type": "markdown",
   "metadata": {},
   "source": [
    "## Fungsi ctime()\n",
    "\n",
    "Berikut contoh penggunaan fungsi ``ctime()``:"
   ]
  },
  {
   "cell_type": "code",
   "execution_count": null,
   "metadata": {},
   "outputs": [],
   "source": [
    "import time\n",
    "\n",
    "waktu = 1572879180\n",
    "print(time.ctime(waktu))"
   ]
  },
  {
   "cell_type": "markdown",
   "metadata": {},
   "source": [
    "## Fungsi today(), now(), dan utcnow()\n",
    "\n",
    "Berikut contoh penggunaan fungsi ``today()``, ``now()``, dan ``utcnow()``:"
   ]
  },
  {
   "cell_type": "code",
   "execution_count": 19,
   "metadata": {},
   "outputs": [
    {
     "name": "stdout",
     "output_type": "stream",
     "text": [
      "today: 2022-08-02 10:07:03.304468\n",
      "now: 2022-08-02 10:07:03.304878\n",
      "utcnow: 2022-08-02 03:07:03.304960\n"
     ]
    }
   ],
   "source": [
    "from datetime import datetime\n",
    "\n",
    "print(\"today:\", datetime.today())\n",
    "print(\"now:\", datetime.now())\n",
    "print(\"utcnow:\", datetime.utcnow())"
   ]
  },
  {
   "cell_type": "markdown",
   "metadata": {},
   "source": [
    "## Fungsi datetime.timestamp()\n",
    "\n",
    "Berikut contoh penggunaan fungsi ``datetime.timestamp()``:"
   ]
  },
  {
   "cell_type": "code",
   "execution_count": null,
   "metadata": {},
   "outputs": [],
   "source": [
    "from datetime import datetime\n",
    "\n",
    "dt = datetime(2020, 10, 4, 14, 55)\n",
    "print(\"Timestamp:\", dt.timestamp())"
   ]
  },
  {
   "cell_type": "markdown",
   "metadata": {},
   "source": [
    "## Memformat Date dan Time\n",
    "\n",
    "Tentunya kita jarang sekali menggunakan format tanggal dan waktu seperti yang dikembalikan oleh entitiy pada module ``datetime``. Python menyediakan fungsi ``strftime()`` yang bisa digunakan untuk memformat tanggal dan waktu sesuai yang dikehendaki penggunanya. Fungsi ``strftime()`` memiliki parameter yang beranekaragam. Parameter tersebut bisa dilihat secara lengkap pada <a href = \"https://docs.python.org/3/library/datetime.html#strftime-and-strptime-format-codes\">LINK BERIKUT</a>.\n",
    "\n",
    "Mari kita coba beberapa contoh penggunaannya:"
   ]
  },
  {
   "cell_type": "code",
   "execution_count": 20,
   "metadata": {},
   "outputs": [
    {
     "name": "stdout",
     "output_type": "stream",
     "text": [
      "2020/01/04\n",
      "04/01/2020\n",
      "2020-01-04\n",
      "04 January 2020\n"
     ]
    }
   ],
   "source": [
    "from datetime import date\n",
    "\n",
    "tanggal = date(2020, 1, 4)\n",
    "print(tanggal.strftime('%Y/%m/%d'))\n",
    "print(tanggal.strftime('%d/%m/%Y'))\n",
    "print(tanggal)\n",
    "print(tanggal.strftime('%d %B %Y'))"
   ]
  },
  {
   "cell_type": "code",
   "execution_count": null,
   "metadata": {},
   "outputs": [],
   "source": [
    "from datetime import time\n",
    "from datetime import datetime\n",
    "\n",
    "waktu = time(16, 53)\n",
    "print(waktu.strftime(\"%H:%M:%S\"))\n",
    "\n",
    "tanggal = datetime(2020, 11, 4, 14, 53)\n",
    "print(tanggal.strftime(\"%y/%B/%d %H:%M:%S\"))"
   ]
  },
  {
   "cell_type": "markdown",
   "metadata": {},
   "source": [
    "Module ``time`` juga memiliki fungsi ``strftime()``. Berikut contoh penggunaanya:"
   ]
  },
  {
   "cell_type": "code",
   "execution_count": null,
   "metadata": {},
   "outputs": [],
   "source": [
    "import time\n",
    "\n",
    "timestamp = 1572879180\n",
    "st = time.gmtime(timestamp)\n",
    "\n",
    "print(time.strftime(\"%d/%m/%Y %H:%M:%S\", st))\n",
    "print(time.strftime(\"%d/%B/%Y %H:%M:%S\"))"
   ]
  },
  {
   "cell_type": "markdown",
   "metadata": {},
   "source": [
    "## Method strptime()\n",
    "\n",
    "Method ini digunakan untuk membentuk objek datetime dari sebuah String yang berisi datetime. Berikut contoh penggunaannya:"
   ]
  },
  {
   "cell_type": "code",
   "execution_count": null,
   "metadata": {},
   "outputs": [],
   "source": [
    "from datetime import datetime\n",
    "\n",
    "print(datetime.strptime(\"2019/11/04 14:53:00\", \"%Y/%m/%d %H:%M:%S\"))\n",
    "print(datetime.strptime(\"04/08/2021 08:35:54\", \"%d/%m/%Y %H:%M:%S\"))"
   ]
  },
  {
   "cell_type": "markdown",
   "metadata": {},
   "source": [
    "## Timedelta\n",
    "\n",
    "class ``timedelta`` memungkinkan kita melakukan operasi pada datatime. Untuk bisa menggunakan class ini, kita harus melakukan operasi pengurangan pada objek date atau datetime. Berikut contoh kode programnya:"
   ]
  },
  {
   "cell_type": "code",
   "execution_count": null,
   "metadata": {},
   "outputs": [],
   "source": [
    "from datetime import date\n",
    "from datetime import datetime\n",
    "\n",
    "tanggal_lahir = date(1986, 6, 5)\n",
    "today = date.today()\n",
    "umur = today - tanggal_lahir\n",
    "\n",
    "print(type(umur))\n",
    "print(umur)\n",
    "\n",
    "tanggal_lahir = datetime(1986, 6, 5, 0, 0, 0)\n",
    "today = datetime.now()\n",
    "umur = today - tanggal_lahir\n",
    "\n",
    "print(type(umur))\n",
    "print(umur)"
   ]
  },
  {
   "cell_type": "markdown",
   "metadata": {},
   "source": [
    "fungsi ``timedelta()`` bisa digunakan untuk membuat objek timedelta. Konstruktor dari class ini memiliki parameter berupa:\n",
    "\n",
    "1. days\n",
    "2. seconds\n",
    "3. microseconds\n",
    "4. milliseconds\n",
    "5. minutes\n",
    "6. hours\n",
    "7. weeks\n"
   ]
  },
  {
   "cell_type": "code",
   "execution_count": null,
   "metadata": {},
   "outputs": [],
   "source": [
    "from datetime import timedelta\n",
    "\n",
    "delta = timedelta(weeks=2, days=2, hours=3)\n",
    "print(delta)\n",
    "print(\"Days:\", delta.days)\n",
    "print(\"Seconds:\", delta.seconds)\n",
    "print(\"Microseconds:\", delta.microseconds)"
   ]
  },
  {
   "cell_type": "code",
   "execution_count": null,
   "metadata": {},
   "outputs": [],
   "source": [
    "from datetime import timedelta\n",
    "from datetime import date\n",
    "from datetime import datetime\n",
    "\n",
    "delta = timedelta(weeks=2, days=2, hours=2)\n",
    "print(delta)\n",
    "\n",
    "delta2 = delta * 2\n",
    "print(delta2)\n",
    "\n",
    "d = date(2019, 10, 4) + delta2\n",
    "print(d)\n",
    "\n",
    "dt = datetime(2019, 10, 4, 14, 53) + delta2\n",
    "print(dt)"
   ]
  },
  {
   "cell_type": "markdown",
   "metadata": {},
   "source": [
    "# Module Calendar\n",
    "\n",
    "Sebagai pelengkap module ``datetime``, Python menyediakan module ``calendar`` sebagai bentuk penamaan dari hal-hal yang terdapat di module ``datetime``. Entity di dalam module ini dapat dilihat di <a href = \"https://docs.python.org/3/library/calendar.html?highlight=calendar#module-calendar\">LINK BERIKUT</a>.\n",
    "\n",
    "Mari kta bahas beberapa contoh penggunaannya."
   ]
  },
  {
   "cell_type": "markdown",
   "metadata": {},
   "source": [
    "## Menampilkan Kalendar\n",
    "\n",
    "Module ``calendar`` dapat digunakan untuk menampilkan kalendar untuk 1 tahun tertentu. Berikut contoh penggunaannya:"
   ]
  },
  {
   "cell_type": "code",
   "execution_count": 6,
   "metadata": {},
   "outputs": [
    {
     "name": "stdout",
     "output_type": "stream",
     "text": [
      "                                  2022\n",
      "\n",
      "      January                   February                   March\n",
      "Mo Tu We Th Fr Sa Su      Mo Tu We Th Fr Sa Su      Mo Tu We Th Fr Sa Su\n",
      "                1  2          1  2  3  4  5  6          1  2  3  4  5  6\n",
      " 3  4  5  6  7  8  9       7  8  9 10 11 12 13       7  8  9 10 11 12 13\n",
      "10 11 12 13 14 15 16      14 15 16 17 18 19 20      14 15 16 17 18 19 20\n",
      "17 18 19 20 21 22 23      21 22 23 24 25 26 27      21 22 23 24 25 26 27\n",
      "24 25 26 27 28 29 30      28                        28 29 30 31\n",
      "31\n",
      "\n",
      "       April                      May                       June\n",
      "Mo Tu We Th Fr Sa Su      Mo Tu We Th Fr Sa Su      Mo Tu We Th Fr Sa Su\n",
      "             1  2  3                         1             1  2  3  4  5\n",
      " 4  5  6  7  8  9 10       2  3  4  5  6  7  8       6  7  8  9 10 11 12\n",
      "11 12 13 14 15 16 17       9 10 11 12 13 14 15      13 14 15 16 17 18 19\n",
      "18 19 20 21 22 23 24      16 17 18 19 20 21 22      20 21 22 23 24 25 26\n",
      "25 26 27 28 29 30         23 24 25 26 27 28 29      27 28 29 30\n",
      "                          30 31\n",
      "\n",
      "        July                     August                  September\n",
      "Mo Tu We Th Fr Sa Su      Mo Tu We Th Fr Sa Su      Mo Tu We Th Fr Sa Su\n",
      "             1  2  3       1  2  3  4  5  6  7                1  2  3  4\n",
      " 4  5  6  7  8  9 10       8  9 10 11 12 13 14       5  6  7  8  9 10 11\n",
      "11 12 13 14 15 16 17      15 16 17 18 19 20 21      12 13 14 15 16 17 18\n",
      "18 19 20 21 22 23 24      22 23 24 25 26 27 28      19 20 21 22 23 24 25\n",
      "25 26 27 28 29 30 31      29 30 31                  26 27 28 29 30\n",
      "\n",
      "      October                   November                  December\n",
      "Mo Tu We Th Fr Sa Su      Mo Tu We Th Fr Sa Su      Mo Tu We Th Fr Sa Su\n",
      "                1  2          1  2  3  4  5  6                1  2  3  4\n",
      " 3  4  5  6  7  8  9       7  8  9 10 11 12 13       5  6  7  8  9 10 11\n",
      "10 11 12 13 14 15 16      14 15 16 17 18 19 20      12 13 14 15 16 17 18\n",
      "17 18 19 20 21 22 23      21 22 23 24 25 26 27      19 20 21 22 23 24 25\n",
      "24 25 26 27 28 29 30      28 29 30                  26 27 28 29 30 31\n",
      "31\n",
      "\n"
     ]
    }
   ],
   "source": [
    "import calendar\n",
    "from datetime import date\n",
    "\n",
    "print(calendar.calendar(date.today().year))"
   ]
  },
  {
   "cell_type": "markdown",
   "metadata": {},
   "source": [
    "Untuk menampilkan kalendar pada bulan tertentu di suatu tahun, kita bisa menggunakan methodd ``month()``. Contoh penggunaannya adalah sebagai berikut:"
   ]
  },
  {
   "cell_type": "code",
   "execution_count": null,
   "metadata": {},
   "outputs": [],
   "source": [
    "import calendar\n",
    "from datetime import date\n",
    "\n",
    "print(calendar.month(date.today().year, date.today().month))"
   ]
  },
  {
   "cell_type": "markdown",
   "metadata": {},
   "source": [
    "## Method setfirstweekday()\n",
    "\n",
    "Method ``setfirstweekday()`` digunakan untuk memilih hari pertama dalam suatu minggu di kalendar. Nilai default-nya adalah Monday. Berikut contoh penggunaannya:"
   ]
  },
  {
   "cell_type": "code",
   "execution_count": null,
   "metadata": {},
   "outputs": [],
   "source": [
    "import calendar\n",
    "from datetime import date\n",
    "\n",
    "calendar.setfirstweekday(calendar.SUNDAY)\n",
    "print(calendar.month(date.today().year, date.today().month))"
   ]
  },
  {
   "cell_type": "markdown",
   "metadata": {},
   "source": [
    "Bandingkan dengan hasil eksekusi kode program sebelumnya agar mengetahui perbedaannya."
   ]
  },
  {
   "cell_type": "markdown",
   "metadata": {},
   "source": [
    "## Method weekday()\n",
    "\n",
    "Fungsi ``weekday()`` digunakan untuk memunculkan hari pada suatu minggu dari tanggal di parameter. Mari kita coba penggunaanya:"
   ]
  },
  {
   "cell_type": "code",
   "execution_count": null,
   "metadata": {},
   "outputs": [],
   "source": [
    "import calendar\n",
    "\n",
    "print(calendar.weekday(2021, 8, 9))"
   ]
  },
  {
   "cell_type": "markdown",
   "metadata": {},
   "source": [
    "0 di sini bermakna Monday (Senin)."
   ]
  },
  {
   "cell_type": "markdown",
   "metadata": {},
   "source": [
    "## Fungsi weekheader()\n",
    "\n",
    "Fungsi ``weekheader()`` digunakan untuk menampilkan nama hari sebagai header calendar. Penggantian awal hari menggunakan fungsi ``setfirstweekday()`` akan mempengaruhi hasil eksekusi dari fungsi ``weekheader(). Berikut contoh penggunaannya:"
   ]
  },
  {
   "cell_type": "code",
   "execution_count": null,
   "metadata": {},
   "outputs": [],
   "source": [
    "import calendar\n",
    "\n",
    "print(calendar.weekheader(2))\n",
    "print(calendar.weekheader(9))\n",
    "\n",
    "calendar.setfirstweekday(calendar.TUESDAY)\n",
    "\n",
    "print(calendar.weekheader(2))\n",
    "print(calendar.weekheader(9))"
   ]
  },
  {
   "cell_type": "markdown",
   "metadata": {},
   "source": [
    "## Hands on Lab 6: Tahun kabisat dengan module calendar\n",
    "\n",
    "Kita bisa mengecek apakah suatu tahun merupakan tahun kabisat atau bukan menggunakan module ``calendar``. Berikut cara pengecekannya:"
   ]
  },
  {
   "cell_type": "code",
   "execution_count": 21,
   "metadata": {
    "scrolled": true
   },
   "outputs": [
    {
     "name": "stdout",
     "output_type": "stream",
     "text": [
      "False\n",
      "3\n"
     ]
    }
   ],
   "source": [
    "import calendar\n",
    "\n",
    "print(calendar.isleap(1986))\n",
    "print(calendar.leapdays(2010, 2021))  # memeriksa berapa tahun kabisat di range terkecuali 2021\n"
   ]
  }
 ],
 "metadata": {
  "colab": {
   "name": "Topik 8 - Miscellaneous.ipynb",
   "provenance": [],
   "toc_visible": true
  },
  "interpreter": {
   "hash": "aee8b7b246df8f9039afb4144a1f6fd8d2ca17a180786b69acc140d282b71a49"
  },
  "kernelspec": {
   "display_name": "Python 3 (ipykernel)",
   "language": "python",
   "name": "python3"
  },
  "language_info": {
   "codemirror_mode": {
    "name": "ipython",
    "version": 3
   },
   "file_extension": ".py",
   "mimetype": "text/x-python",
   "name": "python",
   "nbconvert_exporter": "python",
   "pygments_lexer": "ipython3",
   "version": "3.9.12"
  },
  "toc": {
   "base_numbering": 1,
   "nav_menu": {},
   "number_sections": true,
   "sideBar": true,
   "skip_h1_title": false,
   "title_cell": "Table of Contents",
   "title_sidebar": "Contents",
   "toc_cell": false,
   "toc_position": {},
   "toc_section_display": true,
   "toc_window_display": true
  }
 },
 "nbformat": 4,
 "nbformat_minor": 2
}
