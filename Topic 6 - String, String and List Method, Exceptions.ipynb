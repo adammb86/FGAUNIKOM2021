{
 "cells": [
  {
   "cell_type": "markdown",
   "metadata": {
    "id": "Q_s3skNuNaXh"
   },
   "source": [
    "<b><font size = 30>Topic 6 - String, String and List Method, Exceptions</font></b>\n",
    "\n",
    "Topik ini berfokus membahas:\n",
    "\n",
    "1. Karakter, string dan standar coding\n",
    "2. String vs. List\n",
    "3. Method pada List\n",
    "4. Method pada String\n",
    "5. Cara Python untuk Error Handling\n",
    "6. Mengontrol error dengan ``try`` dan ``except``\n",
    "7. Hirarki exception\n",
    "\n"
   ]
  },
  {
   "cell_type": "markdown",
   "metadata": {
    "id": "rxSq8NEtN0Qi"
   },
   "source": [
    "# Representasi Karakter\n",
    "\n",
    "Komputer menyimpan sebuah karakter sebagai bilangan. Setiap karakter berkorespondensi terhadap sebuah bilangan yang UNIQUE dan sebaliknya. Beberapa dari karakter disebut dengan <b>WHITESPACES</b> dan yang lainnya disebut sebagai <b>CONTROL CHARACTERS</b> (karena tujaunnya untuk kontrol alat input/output).\n",
    "\n",
    "Sistem bilangan yang mewakili karakter dan paling digunakan secara luas pada komputer adalah <b>ASCII</b> (American Standard Code for Information Interchange). ASCII memiliki 256 kode yang bisa mewakili karakter pada komputer. Berikut adalah tabel ASCII:\n",
    "\n",
    "<img src = \"https://upload.wikimedia.org/wikipedia/commons/thumb/d/dd/ASCII-Table.svg/1200px-ASCII-Table.svg.png\" alt = \"Tabel ASCII\">\n"
   ]
  },
  {
   "cell_type": "markdown",
   "metadata": {
    "id": "M4lz5NK6eR9n"
   },
   "source": [
    "## I18N\n",
    "\n",
    "Tidak semua umat manusia di muka bumi ini menggunakan karakter latin. Tentunya ASCII tidak bisa memenuhi kebutuhan semua orang. Oleh karena itu dari 256 kode, ASCII hanya menggunakan 128 karakter (0 s.d. 127) dan sisanya digunakan untuk tujuan I18N. I18N merupakan singkatan dari <b>INTERNATIONALIZATION</b>. Apabila ada perbedaan karakter pada lintas budaya, bahasa, atau alphabet maka bisa memanfaatkan kode setelah 127."
   ]
  },
  {
   "cell_type": "markdown",
   "metadata": {
    "id": "PJcTuugSeXVw"
   },
   "source": [
    "## Code Points and Code Pages</b>\n",
    "\n",
    "<b>Code Point</b> adalah sebuah bilangan yang membuat sebuah karakter. Sebagai contoh, 32 adalah Code Point di ASCII yang digunakan untuk merepresntasikan karakter <b>SPASI</b>. Dengan kata lain ASCII memiliki 128 Code Point.\n",
    "\n",
    "</b>Code Pages</b> adalag sebuah standar untuk menggunakan kode yang lebih besar dari 128 (untuk menyimpan karakter nasional yang spesifik). Sebagai contoh, Code Point 200 mewakili Č (huruf yang digunakan dalam bahasa Slavic) ketika digunakan oleh ISO/IEC 8859-2 Code Page akan tetapi dengan code point yang sama dengan code page yang berbeda (ISO/IEC 8859-5) akan menghasilkan karakter Ш (sebuah huruf Cyrillic)."
   ]
  },
  {
   "cell_type": "markdown",
   "metadata": {
    "id": "cLbw0e42eqGu"
   },
   "source": [
    "## UNICODE\n",
    "\n",
    "Code pages menolong industri komputer untuk memecahkan masalah pada I18N untuk sementara saja, akan tetapi Code page bukan solusi yang permanen. Ada konsep baru yang menolong secara permanen yang dikenal sebagai <b>UNICODE</b>.\n",
    "\n",
    "<img src = \"https://miro.medium.com/max/1400/0*iuLgUkkTZZGhI2Ni.png\" alt = \"Gambar UNICODE\">\n",
    "\n",
    "Untuk mengetahui lebih lanjut perihal UNICODE, silakan buka <a href = \"https://home.unicode.org/\">LINK BERIKUT</a>. \n",
    "\n",
    "Unicode tidak menjelaskan bagaimana cara pengkodean dan penyimpanan karakter-karakter di dalamnya ke dalam memori atau files. Unicode hanya menamakan semua karakter di dalamnya dan menugaskan mereke ke dalam planes (a group of characters of similar origin, application, or nature). Ada lebih dari satu standar yang digunakan sebagai teknik mengimplementasikanunicode ke dalam sistem komputer dan penyimpanan di komputer."
   ]
  },
  {
   "cell_type": "markdown",
   "metadata": {
    "id": "IjSA8Wy6euwP"
   },
   "source": [
    "## UCS-4\n",
    "\n",
    "Salah satu teknik representasi unicode di sistem komputer adalah UCS-4. UCS-4 menggunakan 32 bit (4 byte) untuk menyimpan sebuah karakter dari sebuag code point di unicode. Sebuah file yang mengandung UCS-4 encoded text dimulai dengan sebuah BOM (byte order mark). BOM adalah kombinasi bit yang unprintable untuk menginformasikan nature karakter di dalamnya. UCS-4 menyebabkan ukuran teks yang disimpan menjadi 4 kali lipat dibanding menggunakan ASCII. Oleh karena itu, ada pendekatan lain yang sering digunakan sekarang, yaitu UTF-8."
   ]
  },
  {
   "cell_type": "markdown",
   "metadata": {
    "id": "6ChRWLnJe3-8"
   },
   "source": [
    "## UTF-8\n",
    "\n",
    "Pernahkah ketika memprogram HTML, kita melihat tulisan UTF-8? UTF-8 merupakan singkatan dari <b>Unicode Transformation Format</b>. UTF-8 menggunakan sebanyak mungkin bit untuk setiap code point sebanyak yang dibutuhkan untuk representasinya.\n",
    "\n",
    "Sebagai contoh:\n",
    "1. Semua karakter latin dan standar ASCII lainnya menggunakan 8 bit.\n",
    "2. Karakter Non-latin menggunakan 16 bit\n",
    "3. CJK (China-Japan-Korea) menggunakan 24 bit.\n",
    "\n",
    "UTF-8 tidak memerlukan BOM untuk menandai apakah sebuah dokumen di komputer mengandung karakter UTF-8.\n",
    "\n",
    "Apa gunanya kita mempelajari ini? Python menggunakan dan mendukung penuh penggunaan unicode dan UTF-8. Kita bisa membuat nama variabel atau menggunakan code point pada unicode dan UTF-8 sebagai input atau output di program yang kita buat. Untuk melihat karakter-karakter yang didukung oleh UNICODE dan UTF-8 dapat dilihat di <a href = \"https://www.utf8-chartable.de/\">LINK BERIKUT</a>."
   ]
  },
  {
   "cell_type": "markdown",
   "metadata": {
    "id": "yOwBzs3vdqpM"
   },
   "source": [
    "# String (Lanjutan)\n",
    "\n",
    "String merupakan sebuah tipe data sequence yang bersifat <b>IMMUTABLE</b>. karena bersifat sequence, kita bisa mengetahui panjang dari sebuah string dengan fungsi ``len(string)``."
   ]
  },
  {
   "cell_type": "code",
   "execution_count": 1,
   "metadata": {
    "colab": {
     "base_uri": "https://localhost:8080/"
    },
    "id": "OvA_x7ateCn1",
    "outputId": "75ebf4a0-5ce3-41ae-cd3f-a234eb6d9fa3"
   },
   "outputs": [
    {
     "name": "stdout",
     "output_type": "stream",
     "text": [
      "2\n",
      "0\n",
      "3\n"
     ]
    }
   ],
   "source": [
    "# Example 1\n",
    "\n",
    "word = 'by'\n",
    "print(len(word))\n",
    "\n",
    "\n",
    "# Example 2\n",
    "\n",
    "empty = ''\n",
    "print(len(empty))\n",
    "\n",
    "\n",
    "# Example 3\n",
    "\n",
    "i_am = 'I\\'m'\n",
    "print(len(i_am))"
   ]
  },
  {
   "cell_type": "markdown",
   "metadata": {
    "id": "jtDW_nh-ev0o"
   },
   "source": [
    "Bukti bahwa string bersifat mutable (akan menghasilkan ``TypeError`` ketika diubah):"
   ]
  },
  {
   "cell_type": "code",
   "execution_count": 2,
   "metadata": {
    "colab": {
     "base_uri": "https://localhost:8080/",
     "height": 213
    },
    "id": "I1GJui0he0rQ",
    "outputId": "1e0ff7a7-f702-4b59-e2ec-6785d59a7d77"
   },
   "outputs": [
    {
     "name": "stdout",
     "output_type": "stream",
     "text": [
      "k\n"
     ]
    },
    {
     "ename": "TypeError",
     "evalue": "'str' object does not support item assignment",
     "output_type": "error",
     "traceback": [
      "\u001b[0;31m---------------------------------------------------------------------------\u001b[0m",
      "\u001b[0;31mTypeError\u001b[0m                                 Traceback (most recent call last)",
      "\u001b[0;32m<ipython-input-2-4618f5b1d820>\u001b[0m in \u001b[0;36m<module>\u001b[0;34m\u001b[0m\n\u001b[1;32m      2\u001b[0m \u001b[0mprint\u001b[0m\u001b[0;34m(\u001b[0m\u001b[0mnama\u001b[0m\u001b[0;34m[\u001b[0m\u001b[0;36m3\u001b[0m\u001b[0;34m]\u001b[0m\u001b[0;34m)\u001b[0m\u001b[0;34m\u001b[0m\u001b[0;34m\u001b[0m\u001b[0m\n\u001b[1;32m      3\u001b[0m \u001b[0;34m\u001b[0m\u001b[0m\n\u001b[0;32m----> 4\u001b[0;31m \u001b[0mnama\u001b[0m\u001b[0;34m[\u001b[0m\u001b[0;36m3\u001b[0m\u001b[0;34m]\u001b[0m \u001b[0;34m=\u001b[0m \u001b[0;34m\"s\"\u001b[0m\u001b[0;34m\u001b[0m\u001b[0;34m\u001b[0m\u001b[0m\n\u001b[0m",
      "\u001b[0;31mTypeError\u001b[0m: 'str' object does not support item assignment"
     ]
    }
   ],
   "source": [
    "nama = \"Tinky Winky\"\n",
    "print(nama[3])\n",
    "\n",
    "nama[3] = \"s\""
   ]
  },
  {
   "cell_type": "markdown",
   "metadata": {
    "id": "ej6_2CJ5fN4C"
   },
   "source": [
    "## Multiline String\n",
    "\n",
    "Untuk bisa membuat string yang multibaris, kita bisa menggunakan tiga tanda kutip satu (bukan hanya satu kutip satu seperti biasanya)."
   ]
  },
  {
   "cell_type": "code",
   "execution_count": 1,
   "metadata": {
    "colab": {
     "base_uri": "https://localhost:8080/"
    },
    "id": "IteH_CUxfqmU",
    "outputId": "867c92cd-b9ae-44d3-8c23-724989a6e1a5"
   },
   "outputs": [
    {
     "name": "stdout",
     "output_type": "stream",
     "text": [
      "Line #1  \n",
      "disini string\n",
      "lagi\n",
      "Line #2\n",
      "36\n"
     ]
    }
   ],
   "source": [
    "multiLine = '''Line #1  \n",
    "disini string\n",
    "lagi\n",
    "Line #2'''\n",
    "\n",
    "print(multiLine)\n",
    "print(len(multiLine))"
   ]
  },
  {
   "cell_type": "markdown",
   "metadata": {
    "id": "rgUbmMFEgABw"
   },
   "source": [
    "Kenapa panjangnya 36 sementara karakter yang terlihat tidak sejumlah itu? Tentunya karena ada whitespace. Silakan cek ada berapa whitespace di kode program tersebut."
   ]
  },
  {
   "cell_type": "markdown",
   "metadata": {
    "id": "1T7-Nk-mgW5M"
   },
   "source": [
    "## Operasi pada String\n",
    "\n",
    "Ada beberapa operasi standar yang bisa diberlakukan pada string, yaitu:\n",
    "\n",
    "| Operasi String | Keterangan |\n",
    "| :--- | :--- |\n",
    "| string1 + string2 | Menggabungkan isi dua buah string |\n",
    "| string * int_value | Mereplikasi string yang diberikan sebanyak int_value |\n",
    "| ord(karakter) | Digunakan untuk mengetahui ASCII/UNICODE Code Point dari sebuah karakter |\n",
    "| chr(codepoint) | Mengubah code point menjadi karakter yang diwakilinya |\n",
    "\n",
    "\n",
    "Contoh penggunaan fungsi ``ord(karakter)`` adalah sebagai berikut:"
   ]
  },
  {
   "cell_type": "code",
   "execution_count": 2,
   "metadata": {
    "colab": {
     "base_uri": "https://localhost:8080/"
    },
    "id": "IWpKdpDXhn0E",
    "outputId": "4b7ed28c-9c93-458f-d22b-7f7a5bb4c06d"
   },
   "outputs": [
    {
     "name": "stdout",
     "output_type": "stream",
     "text": [
      "65\n",
      "77\n",
      "109\n"
     ]
    }
   ],
   "source": [
    "kar1 = 'A'\n",
    "kar2 = 'M'\n",
    "kar3 = 'm'\n",
    "\n",
    "print(ord(kar1))\n",
    "print(ord(kar2))\n",
    "print(ord(kar3))"
   ]
  },
  {
   "cell_type": "markdown",
   "metadata": {
    "id": "6sE7oS5ViXP1"
   },
   "source": [
    "Contoh penggunaan fungsi ``chr(codepoint)`` adalah sebagai berikut:"
   ]
  },
  {
   "cell_type": "code",
   "execution_count": 3,
   "metadata": {
    "colab": {
     "base_uri": "https://localhost:8080/"
    },
    "id": "hsPwdIO3iibe",
    "outputId": "391a0a48-b4cf-48b8-fcf3-229a9b0fc316"
   },
   "outputs": [
    {
     "name": "stdout",
     "output_type": "stream",
     "text": [
      "\"\n",
      "\u0000\n"
     ]
    }
   ],
   "source": [
    "print(chr(34))\n",
    "print(chr(0))"
   ]
  },
  {
   "cell_type": "markdown",
   "metadata": {
    "id": "tky3ZReDitF1"
   },
   "source": [
    "Memasukkan code point yang tidak terdaftar pada ASCII/UNICODE akan menyebabkan ``ValueError`` dan ``TypeError``."
   ]
  },
  {
   "cell_type": "markdown",
   "metadata": {
    "id": "oo6ZF3RljBUT"
   },
   "source": [
    "## Indexing pada String\n",
    "\n",
    "Karena string merupakan tipe sequence maka kita bisa mengakses elemen di dalam string dengan menggunakan indeks seperti layaknya kita menggunakan list. Contoh pengindeksan string menggunakan for in range() adalah sebagai berikut:"
   ]
  },
  {
   "cell_type": "code",
   "execution_count": 4,
   "metadata": {
    "colab": {
     "base_uri": "https://localhost:8080/"
    },
    "id": "PEsv7OE7jbSI",
    "outputId": "5623496f-9e63-4510-b2c6-0d60a9acd543"
   },
   "outputs": [
    {
     "name": "stdout",
     "output_type": "stream",
     "text": [
      "A d a m   M B \n"
     ]
    }
   ],
   "source": [
    "the_string = 'Adam MB'\n",
    "\n",
    "for i in range(len(the_string)):\n",
    "    print(the_string[i], end=' ')\n",
    "\n",
    "print()"
   ]
  },
  {
   "cell_type": "markdown",
   "metadata": {
    "id": "3PU79O5CjjlK"
   },
   "source": [
    "Kita juga bisa menggunakan for in koleksi sebagai berikut:"
   ]
  },
  {
   "cell_type": "code",
   "execution_count": 1,
   "metadata": {
    "colab": {
     "base_uri": "https://localhost:8080/"
    },
    "id": "0coHBHiWjo9X",
    "outputId": "a8d18402-9517-4a4e-9b60-e282b635d0ed"
   },
   "outputs": [
    {
     "name": "stdout",
     "output_type": "stream",
     "text": [
      "A d a m   M B \n"
     ]
    }
   ],
   "source": [
    "the_string = 'Adam MB'\n",
    "\n",
    "for character in the_string:\n",
    "    print(character, end=' ')\n",
    "\n",
    "print()"
   ]
  },
  {
   "cell_type": "markdown",
   "metadata": {
    "id": "ySa1ANMZj0AW"
   },
   "source": [
    "## Slicing pada String\n",
    "\n",
    "Cara slicing pada string menggunakan konsep yang sama dengan list. Berikut contoh kode programnya:\n",
    "\n"
   ]
  },
  {
   "cell_type": "code",
   "execution_count": 5,
   "metadata": {
    "colab": {
     "base_uri": "https://localhost:8080/"
    },
    "id": "wpYkFmxwj-Ua",
    "outputId": "7b3e2729-ae24-405e-ce5e-78a82348b6a9"
   },
   "outputs": [
    {
     "name": "stdout",
     "output_type": "stream",
     "text": [
      "bd\n",
      "efg\n",
      "abd\n",
      "e\n",
      "e\n",
      "adf\n",
      "beg\n"
     ]
    }
   ],
   "source": [
    "alpha = \"abdefg\"\n",
    "\n",
    "print(alpha[1:3])\n",
    "print(alpha[3:])\n",
    "print(alpha[:3])\n",
    "print(alpha[3:-2])\n",
    "print(alpha[-3:4])\n",
    "print(alpha[::2])\n",
    "print(alpha[1::2])"
   ]
  },
  {
   "cell_type": "markdown",
   "metadata": {},
   "source": [
    "Ada fitur lain yang diberikan oleh Python untuk menslicing suatu string dengan suatu kondisional tertentu. Sebagai contoh ada sebuah string berisi ``0123456`` dan kita ingin memunculkan elemen string yang berada di indeks genap atau ganjil saja. Bagaimana caranya? Mari kita coba kode program berikut:"
   ]
  },
  {
   "cell_type": "code",
   "execution_count": 2,
   "metadata": {},
   "outputs": [
    {
     "name": "stdout",
     "output_type": "stream",
     "text": [
      "0246\n",
      "036\n",
      "Ausdna\n",
      "Asdi\n"
     ]
    }
   ],
   "source": [
    "string = '0123456'\n",
    "\n",
    "print(string[::2])\n",
    "print(string[::3])\n",
    "\n",
    "nama = \"Agussedunia\"\n",
    "print(nama[::2])\n",
    "print(nama[::3])"
   ]
  },
  {
   "cell_type": "markdown",
   "metadata": {
    "id": "PBRe9ijSkKhl"
   },
   "source": [
    "## Operator in dan not in di String\n",
    "\n",
    "Operator ``in`` dan ``not in`` juga bisa digunakan pada string. Contohnya sebagai berikut:"
   ]
  },
  {
   "cell_type": "code",
   "execution_count": 6,
   "metadata": {
    "colab": {
     "base_uri": "https://localhost:8080/"
    },
    "id": "kMTFuv60kUML",
    "outputId": "7a109080-c41e-4648-fa70-f302ea88218e"
   },
   "outputs": [
    {
     "name": "stdout",
     "output_type": "stream",
     "text": [
      "True\n",
      "True\n",
      "True\n",
      "True\n",
      "False\n",
      "\n",
      "False\n",
      "False\n",
      "False\n",
      "False\n",
      "True\n"
     ]
    }
   ],
   "source": [
    "nama = \"Adam Mukharil Bachtiar\"\n",
    "\n",
    "print(\"a\" in nama)\n",
    "print(\"A\" in nama)\n",
    "print(\"aril\" in nama)\n",
    "print(\"ach\" in nama)\n",
    "print(\"lala\" in nama)\n",
    "\n",
    "print()\n",
    "\n",
    "print(\"a\" not in nama)\n",
    "print(\"A\" not in nama)\n",
    "print(\"aril\" not in nama)\n",
    "print(\"ach\" not in nama)\n",
    "print(\"lala\" not in nama)"
   ]
  },
  {
   "cell_type": "markdown",
   "metadata": {
    "id": "GFFUfO_kl8tO"
   },
   "source": [
    "## Immutable String\n",
    "\n",
    "Seperti yang kita ketahui di awal bahwa string merupakan tipe sequence yang bersifat immutable, dimana kita tidak bisa memodifikasi sebuah string. Beberapa fungsi yang <b>TIDAK BISA ATAU TIDAK TERSEDIA</b> digunakan pada String adalah:\n",
    "\n",
    "1. ``del string[indeks]`` (fungsi ``del`` masih bisa digunakan dan berefek terhapusnya nilai sekaligus reference string tersebut)\n",
    "2. ``append(string)``\n",
    "3. ``insert(indeks, string)``\n",
    "\n",
    "Berikut error yang akan muncul ketika fungsi-fungsi tersebut digunakan:"
   ]
  },
  {
   "cell_type": "code",
   "execution_count": 3,
   "metadata": {
    "colab": {
     "base_uri": "https://localhost:8080/",
     "height": 179
    },
    "id": "HJmVRRpTnCs_",
    "outputId": "f0296123-bdce-41b9-9fe2-c23c6d298b1c"
   },
   "outputs": [
    {
     "ename": "TypeError",
     "evalue": "'str' object doesn't support item deletion",
     "output_type": "error",
     "traceback": [
      "\u001b[0;31m---------------------------------------------------------------------------\u001b[0m",
      "\u001b[0;31mTypeError\u001b[0m                                 Traceback (most recent call last)",
      "Input \u001b[0;32mIn [3]\u001b[0m, in \u001b[0;36m<cell line: 2>\u001b[0;34m()\u001b[0m\n\u001b[1;32m      1\u001b[0m alphabet \u001b[38;5;241m=\u001b[39m \u001b[38;5;124m\"\u001b[39m\u001b[38;5;124mabcdefghijklmnopqrstuvwxyz\u001b[39m\u001b[38;5;124m\"\u001b[39m\n\u001b[0;32m----> 2\u001b[0m \u001b[38;5;28;01mdel\u001b[39;00m alphabet[\u001b[38;5;241m0\u001b[39m]\n",
      "\u001b[0;31mTypeError\u001b[0m: 'str' object doesn't support item deletion"
     ]
    }
   ],
   "source": [
    "alphabet = \"abcdefghijklmnopqrstuvwxyz\"\n",
    "del alphabet[0]"
   ]
  },
  {
   "cell_type": "code",
   "execution_count": 4,
   "metadata": {
    "colab": {
     "base_uri": "https://localhost:8080/",
     "height": 179
    },
    "id": "_wWWU1FdnHQ9",
    "outputId": "2bdccddf-eac3-47bb-a39f-c25d239b6893"
   },
   "outputs": [
    {
     "ename": "AttributeError",
     "evalue": "'str' object has no attribute 'append'",
     "output_type": "error",
     "traceback": [
      "\u001b[0;31m---------------------------------------------------------------------------\u001b[0m",
      "\u001b[0;31mAttributeError\u001b[0m                            Traceback (most recent call last)",
      "Input \u001b[0;32mIn [4]\u001b[0m, in \u001b[0;36m<cell line: 2>\u001b[0;34m()\u001b[0m\n\u001b[1;32m      1\u001b[0m alphabet \u001b[38;5;241m=\u001b[39m \u001b[38;5;124m\"\u001b[39m\u001b[38;5;124mabcdefghijklmnopqrstuvwxyz\u001b[39m\u001b[38;5;124m\"\u001b[39m\n\u001b[0;32m----> 2\u001b[0m \u001b[43malphabet\u001b[49m\u001b[38;5;241;43m.\u001b[39;49m\u001b[43mappend\u001b[49m(\u001b[38;5;124m\"\u001b[39m\u001b[38;5;124mA\u001b[39m\u001b[38;5;124m\"\u001b[39m)\n",
      "\u001b[0;31mAttributeError\u001b[0m: 'str' object has no attribute 'append'"
     ]
    }
   ],
   "source": [
    "alphabet = \"abcdefghijklmnopqrstuvwxyz\"\n",
    "alphabet.append(\"A\")"
   ]
  },
  {
   "cell_type": "code",
   "execution_count": 5,
   "metadata": {
    "colab": {
     "base_uri": "https://localhost:8080/",
     "height": 179
    },
    "id": "uP0F5oTMnLO8",
    "outputId": "322d51ef-01d6-41f0-977e-55793431b940"
   },
   "outputs": [
    {
     "ename": "AttributeError",
     "evalue": "'str' object has no attribute 'insert'",
     "output_type": "error",
     "traceback": [
      "\u001b[0;31m---------------------------------------------------------------------------\u001b[0m",
      "\u001b[0;31mAttributeError\u001b[0m                            Traceback (most recent call last)",
      "Input \u001b[0;32mIn [5]\u001b[0m, in \u001b[0;36m<cell line: 2>\u001b[0;34m()\u001b[0m\n\u001b[1;32m      1\u001b[0m alphabet \u001b[38;5;241m=\u001b[39m \u001b[38;5;124m\"\u001b[39m\u001b[38;5;124mabcdefghijklmnopqrstuvwxyz\u001b[39m\u001b[38;5;124m\"\u001b[39m\n\u001b[0;32m----> 2\u001b[0m \u001b[43malphabet\u001b[49m\u001b[38;5;241;43m.\u001b[39;49m\u001b[43minsert\u001b[49m(\u001b[38;5;241m0\u001b[39m, \u001b[38;5;124m\"\u001b[39m\u001b[38;5;124mA\u001b[39m\u001b[38;5;124m\"\u001b[39m)\n",
      "\u001b[0;31mAttributeError\u001b[0m: 'str' object has no attribute 'insert'"
     ]
    }
   ],
   "source": [
    "alphabet = \"abcdefghijklmnopqrstuvwxyz\"\n",
    "alphabet.insert(0, \"A\")"
   ]
  },
  {
   "cell_type": "markdown",
   "metadata": {
    "id": "r1WcuJbenZdf"
   },
   "source": [
    "## Immutable Limit\n",
    "\n",
    "Bukan berarti karena suatu tipe bersifat immutable, maka kita tidak bisa melakukan operasi pada suatu tipe data, termasuk tipe string. Coba jalankan kode program berikut:"
   ]
  },
  {
   "cell_type": "code",
   "execution_count": 6,
   "metadata": {
    "colab": {
     "base_uri": "https://localhost:8080/"
    },
    "id": "sFmPx6kSn4uS",
    "outputId": "de2a3a6e-d049-47c8-fd9e-6bae8e7f6b7f"
   },
   "outputs": [
    {
     "name": "stdout",
     "output_type": "stream",
     "text": [
      "inHarrypotterz\n"
     ]
    }
   ],
   "source": [
    "nama = \"Harrypotter\"\n",
    "\n",
    "nama = \"in\" + nama\n",
    "nama += \"z\"\n",
    "\n",
    "print(nama)"
   ]
  },
  {
   "cell_type": "markdown",
   "metadata": {
    "id": "46hWfmGioOvK"
   },
   "source": [
    "Kedua operasi tersebut tetap bisa berjalan. Kenapa bisa? Python akan membuat copy baru dari string (dengan nama variabel yang sama) setiap kali kita melakukan operasi tersebut."
   ]
  },
  {
   "cell_type": "markdown",
   "metadata": {
    "id": "RdXF4qFXovLg"
   },
   "source": [
    "## Fungsi min(string) dan max(string)\n",
    "\n",
    "Fungsi ``min(string)``` digunakan untuk menemukan elemen terkecil (dilihat dari kode ASCII/UNICODE) dari sebuah tipe sequence yang di-passing sebagai sebuah argumen. Syaratnya adalah tipe sequence tersebut (bisa berupa string, list, dan tuple) tidak boleh kosong. Berikut contoh penggunaannya:"
   ]
  },
  {
   "cell_type": "code",
   "execution_count": 7,
   "metadata": {
    "colab": {
     "base_uri": "https://localhost:8080/"
    },
    "id": "VhwAHy9dphyb",
    "outputId": "37b5e0cb-20a0-450e-a582-69259a007af4"
   },
   "outputs": [
    {
     "name": "stdout",
     "output_type": "stream",
     "text": [
      "A\n",
      "[ ]\n",
      "0\n"
     ]
    }
   ],
   "source": [
    "# Demonstrating min() - Example 1\n",
    "print(min(\"aAbByYzZ\"))\n",
    "\n",
    "\n",
    "# Demonstrating min() - Examples 2 & 3\n",
    "t = 'The Knights Who Say \"Ni!\"'\n",
    "print('[' + min(t) + ']')\n",
    "\n",
    "t = [0, 1, 2]\n",
    "print(min(t))"
   ]
  },
  {
   "cell_type": "markdown",
   "metadata": {
    "id": "TCGSfLTdqgm_"
   },
   "source": [
    "><b>Catatan:</b> tanda [ ] digunakan agar whitespace tetap bisa dirasakan ketika menjalankan program\n",
    "\n",
    "Bagaimana dengan fungsi ``max(string)``? Fungsi adalah kebalikan dari fungsi ``min(string)``. Berikut contoh penggunaannya:"
   ]
  },
  {
   "cell_type": "code",
   "execution_count": null,
   "metadata": {
    "id": "O-N7xAWzq1Uu"
   },
   "outputs": [],
   "source": [
    "# Demonstrating max() - Example 1:\n",
    "print(max(\"aAbByYzZ\"))\n",
    "\n",
    "\n",
    "# Demonstrating max() - Examples 2 & 3:\n",
    "t = 'The Knights Who Say \"Ni!\"'\n",
    "print('[' + max(t) + ']')\n",
    "\n",
    "t = [0, 1, 2]\n",
    "print(max(t))"
   ]
  },
  {
   "cell_type": "markdown",
   "metadata": {
    "id": "2nLDDXZcq_8T"
   },
   "source": [
    "## Method index()\n",
    "\n",
    "``index()`` akan mencari dari awal tipe sequence untuk menemukan elemen pertama dari nilai yang dicari pada argumennya. Hasil dari method ini adalah indeks pertama dari lokasi argumen pada method ini.\n",
    "\n"
   ]
  },
  {
   "cell_type": "code",
   "execution_count": 8,
   "metadata": {
    "colab": {
     "base_uri": "https://localhost:8080/"
    },
    "id": "PpQNyyKLsUto",
    "outputId": "37c0f723-d3b0-48b1-8731-d75bff5c70b4"
   },
   "outputs": [
    {
     "name": "stdout",
     "output_type": "stream",
     "text": [
      "2\n",
      "3\n",
      "8\n"
     ]
    }
   ],
   "source": [
    "print(\"hARryPoTtER\".index(\"R\"))\n",
    "print(\"hARryPoTtER\".index(\"r\"))\n",
    "print(\"hARryPoTtER\".index(\"t\"))"
   ]
  },
  {
   "cell_type": "markdown",
   "metadata": {
    "id": "N8imIABQsufr"
   },
   "source": [
    "Jika argumen tidak ditemukan pada string, maka kode program akan menghasilkan error berupa ``ValueError``. Berikut contohnya:"
   ]
  },
  {
   "cell_type": "code",
   "execution_count": 9,
   "metadata": {
    "colab": {
     "base_uri": "https://localhost:8080/",
     "height": 162
    },
    "id": "dixEHWGms7DW",
    "outputId": "237c5a49-ca21-478d-cf78-7b1a6d40ee08"
   },
   "outputs": [
    {
     "ename": "ValueError",
     "evalue": "substring not found",
     "output_type": "error",
     "traceback": [
      "\u001b[0;31m---------------------------------------------------------------------------\u001b[0m",
      "\u001b[0;31mValueError\u001b[0m                                Traceback (most recent call last)",
      "\u001b[0;32m/var/folders/mg/f662q2g57nn3266mvsjg3d300000gn/T/ipykernel_8319/2745362812.py\u001b[0m in \u001b[0;36m<module>\u001b[0;34m\u001b[0m\n\u001b[0;32m----> 1\u001b[0;31m \u001b[0mprint\u001b[0m\u001b[0;34m(\u001b[0m\u001b[0;34m\"hARryPoTtER\"\u001b[0m\u001b[0;34m.\u001b[0m\u001b[0mindex\u001b[0m\u001b[0;34m(\u001b[0m\u001b[0;34m\"a\"\u001b[0m\u001b[0;34m)\u001b[0m\u001b[0;34m)\u001b[0m\u001b[0;34m\u001b[0m\u001b[0;34m\u001b[0m\u001b[0m\n\u001b[0m",
      "\u001b[0;31mValueError\u001b[0m: substring not found"
     ]
    }
   ],
   "source": [
    "print(\"hARryPoTtER\".index(\"a\"))"
   ]
  },
  {
   "cell_type": "markdown",
   "metadata": {
    "id": "5pu9n1ortCMM"
   },
   "source": [
    "## Fungsi list()\n",
    "\n",
    "Fungsi ``list()`` akan menghasilkan sebuah list hasil dari slicing karakter di string argumennya secara satu persatu. Berikut contoh kode programnya:\n"
   ]
  },
  {
   "cell_type": "code",
   "execution_count": 10,
   "metadata": {
    "colab": {
     "base_uri": "https://localhost:8080/"
    },
    "id": "i8hv8Ymetm9J",
    "outputId": "949b6e25-a69b-474a-a82e-78439ccf691e"
   },
   "outputs": [
    {
     "data": {
      "text/plain": [
       "['h', 'A', 'R', 'r', 'y', 'P', 'o', 'T', 't', 'E', 'R']"
      ]
     },
     "execution_count": 10,
     "metadata": {},
     "output_type": "execute_result"
    }
   ],
   "source": [
    "nama = \"hARryPoTtER\"\n",
    "\n",
    "list(nama)"
   ]
  },
  {
   "cell_type": "markdown",
   "metadata": {
    "id": "q-j8Epovt4US"
   },
   "source": [
    "## Method count()\n",
    "\n",
    "Method ``count()`` digunakan untuk menghitung seluruh kemunculan dari karakter yang ada di argumen method ``count()``. Berikut adalah contoh penggunaannya:"
   ]
  },
  {
   "cell_type": "code",
   "execution_count": 11,
   "metadata": {
    "colab": {
     "base_uri": "https://localhost:8080/"
    },
    "id": "ovDNTPo5uqOx",
    "outputId": "960a8c13-31d6-4202-ec34-db1305922be3"
   },
   "outputs": [
    {
     "name": "stdout",
     "output_type": "stream",
     "text": [
      "2\n",
      "0\n"
     ]
    }
   ],
   "source": [
    "nama = \"hARryPottER\"\n",
    "\n",
    "print(nama.count('t'))\n",
    "print(nama.count('a'))"
   ]
  },
  {
   "cell_type": "markdown",
   "metadata": {
    "id": "VjQVx5zxvdHo"
   },
   "source": [
    "# String Method (Lanjutan)\n",
    "\n",
    "Python memiliki beberapa method standar dari string yang bisa digunakan kita ketika melakukan pemrosesan string. Berikut adalah beberapa method yang bisa digunakan pada string:\n",
    "\n",
    "| String Method | Kegunaan |\n",
    "| :--- | :--- |\n",
    "| capitalize(string) | Membuat karakter pertama dari string menjadi huruf kapital sementara sisanya diseragamkan menjadi huruf kecil |\n",
    "| center(string)| Membuat copy dari string asli dan membuat rata tengan dari string di sebuah field yang dispesifikasikan lebarnya |\n",
    "| endswith(string) | Memeriksa apakah argumen yang diberikan merupakan akhir dari sebuah string atau tidak |\n",
    "| find(substring) | Mencari substring pada sebuah string dan mengembalikan nilai indeks kemunculan pertama dari substring tersebut |\n",
    "| find(substring, indeks_mulai) | Sama seperti fungsi find tapi mencari mulai dari indeks_mulai |\n",
    "| find(substring, indeks_mulai, indeks_batas) | Mencari substring dalam batas indeks_mulai s.d. indeks_batas |\n",
    "| isalnum(string) | Mengembalikan nilai True jika string hanya mengandung digit atau alphabet (letter) begitu sebaliknya |\n",
    "| isalpha(string) | Mirip seperti isalnum() tapi fokus untuk mengecek huruf |\n",
    "| isdigit(string) | Mirip seperti isalnum() tapi fokus untuk mengecek digit |\n",
    "| islower(string) | Memeriksa apakah string terdiri dari karakter lower-case atau tidak |\n",
    "| isspace(string) | Mengidentifikasi apakah string berupa whitespace atau tidak |\n",
    "| isupper(string) | Mirip seperti islower() tapi untuk memeriksa upper-case |\n",
    "| join(list_of_string) | Argumen string akan digunakan sebagai separator untuk penggabungan string yang ada di list (argumen join) |\n",
    "| lower(string) | Mengubah seluruh karakter di string menjadi lower-case |\n",
    "| lstrip() | mengembalikan sebuah string baru yang dibentuk dari string asli yang sudah dihilangkan leading whitespace-nya |\n",
    "| replace(substring_asli, string_pengganti) | Mengganti substring dengan string_pengganti |\n",
    "| rfind(substring) | Mencari substring pada sebuah string dan mengembalikan nilai indeks kemunculan pertama dari substring tersebut dimulai dari belakang |\n",
    "| rstrip() | Kebalikan dari lstrip() |\n",
    "| split() | Memisahkan string yang terdeteksi berdasarkan delimiter whitespace |\n",
    "| startswith(string) | Kebalikan dari endswith() |\n",
    "| strip() | Kombinasi dari lstrip() dengan rstrip() |\n",
    "| swapcase() | Menukar case dalam sebuah string (upper to lower dan kebalikannya) |\n",
    "| title() | Mengubah setiap huruf pertama dari suatu string yang dipisahkan whitespace |\n",
    "| upper() | Mengubah semua karakter menjadi upper-case |\n"
   ]
  },
  {
   "cell_type": "markdown",
   "metadata": {
    "id": "pArnavCxjjbv"
   },
   "source": [
    "## Capitalize()\n",
    "\n",
    "Berikut contoh penggunaan method ``capitalize()``:"
   ]
  },
  {
   "cell_type": "code",
   "execution_count": 13,
   "metadata": {
    "colab": {
     "base_uri": "https://localhost:8080/"
    },
    "id": "TUz6a3EPwPzH",
    "outputId": "c526101f-eaab-46ca-b6ce-3612f11e59f9"
   },
   "outputs": [
    {
     "name": "stdout",
     "output_type": "stream",
     "text": [
      "Harrypotter\n",
      "123\n",
      "Αβγδ\n"
     ]
    }
   ],
   "source": [
    "nama = \"hARryPottER\"\n",
    "\n",
    "print(nama.capitalize())\n",
    "print('123'.capitalize())\n",
    "print(\"αβγδ\".capitalize())"
   ]
  },
  {
   "cell_type": "markdown",
   "metadata": {
    "id": "LP7zN40jxsou"
   },
   "source": [
    "## Center()\n",
    "\n",
    "Berikut contoh penggunaan method ``center()``:\n"
   ]
  },
  {
   "cell_type": "code",
   "execution_count": 3,
   "metadata": {
    "colab": {
     "base_uri": "https://localhost:8080/"
    },
    "id": "WrBbJe6Tz7lJ",
    "outputId": "7af469bf-c2c3-4a91-b7c4-68f0f343ae7b"
   },
   "outputs": [
    {
     "name": "stdout",
     "output_type": "stream",
     "text": [
      "[Beta]\n",
      "[  Beta  ]\n",
      "[        Beta        ]\n",
      "[*******gamma********]\n"
     ]
    }
   ],
   "source": [
    "print('[' + 'Beta'.center(2) + ']')\n",
    "print('[' + 'Beta'.center(8) + ']')\n",
    "print('[' + 'Beta'.center(20) + ']')\n",
    "\n",
    "print('[' + 'gamma'.center(20, '*') + ']')"
   ]
  },
  {
   "cell_type": "markdown",
   "metadata": {
    "id": "20KjAFTK0R8R"
   },
   "source": [
    "## endswith()\n",
    "\n",
    "Berikut contoh penggunaan method ``endswith()``:"
   ]
  },
  {
   "cell_type": "code",
   "execution_count": 4,
   "metadata": {
    "colab": {
     "base_uri": "https://localhost:8080/"
    },
    "id": "zinfpSfV0r7z",
    "outputId": "6049a4ba-bd2b-4f55-992c-5ce35c7ed764"
   },
   "outputs": [
    {
     "name": "stdout",
     "output_type": "stream",
     "text": [
      "True\n",
      "True\n",
      "False\n",
      "False\n"
     ]
    }
   ],
   "source": [
    "kata = \"UNIKOM\"\n",
    "\n",
    "print(kata.endswith('OM'))\n",
    "print(kata.endswith('M'))\n",
    "print(kata.endswith(\"om\"))\n",
    "print(kata.endswith('com'))"
   ]
  },
  {
   "cell_type": "markdown",
   "metadata": {
    "id": "Xomp1vke1d44"
   },
   "source": [
    "## find()\n",
    "\n",
    "Berikut contoh penggunaan method ``find()``:"
   ]
  },
  {
   "cell_type": "code",
   "execution_count": 5,
   "metadata": {
    "colab": {
     "base_uri": "https://localhost:8080/"
    },
    "id": "Ipw4_KAa1ivA",
    "outputId": "54504ba0-481a-423e-e94a-0d8bff711d67"
   },
   "outputs": [
    {
     "name": "stdout",
     "output_type": "stream",
     "text": [
      "4\n",
      "6\n",
      "12\n",
      "18\n",
      "\n",
      "38\n"
     ]
    }
   ],
   "source": [
    "kata = \"UNIKOM - Universitas Komputer Indonesia\"\n",
    "\n",
    "print(kata.find('OM'))\n",
    "print(kata.find(' '))\n",
    "print(kata.find('ver'))\n",
    "print(kata.find('a'))\n",
    "\n",
    "print()\n",
    "\n",
    "# mencari substring dimulai dari indeks tertentu\n",
    "print(kata.find('a',19))"
   ]
  },
  {
   "cell_type": "markdown",
   "metadata": {
    "id": "KF2Ut9za2ext"
   },
   "source": [
    "Untuk menemukan semua indeks substring yang dicari, kita bisa lakukan seperti contoh kode program berikut:"
   ]
  },
  {
   "cell_type": "code",
   "execution_count": 6,
   "metadata": {
    "colab": {
     "base_uri": "https://localhost:8080/"
    },
    "id": "DwCU1j_H2WIN",
    "outputId": "cfb42782-82dd-4487-dd74-1f93a230bc2f"
   },
   "outputs": [
    {
     "name": "stdout",
     "output_type": "stream",
     "text": [
      "15\n",
      "80\n",
      "198\n",
      "221\n",
      "238\n"
     ]
    }
   ],
   "source": [
    "the_text = \"\"\"A variation of the ordinary lorem ipsum\n",
    "text has been used in typesetting since the 1960s \n",
    "or earlier, when it was popularized by advertisements \n",
    "for Letraset transfer sheets. It was introduced to \n",
    "the Information Age in the mid-1980s by the Aldus Corporation, \n",
    "which employed it in graphics and word-processing templates\n",
    "for its desktop publishing program PageMaker (from Wikipedia)\"\"\"\n",
    "\n",
    "fnd = the_text.find('the')\n",
    "while fnd != -1:\n",
    "    print(fnd)\n",
    "    fnd = the_text.find('the', fnd + 1)"
   ]
  },
  {
   "cell_type": "markdown",
   "metadata": {
    "id": "EgTdbncv3tlq"
   },
   "source": [
    "Berikut contoh ``find()`` yang menelusuri mulai dari suatu range tertentu."
   ]
  },
  {
   "cell_type": "code",
   "execution_count": 7,
   "metadata": {
    "colab": {
     "base_uri": "https://localhost:8080/"
    },
    "id": "uthpWTw82yFF",
    "outputId": "9091a8c5-9b47-4b52-8b07-2cbe6086ceaf"
   },
   "outputs": [
    {
     "name": "stdout",
     "output_type": "stream",
     "text": [
      "1\n",
      "-1\n"
     ]
    }
   ],
   "source": [
    "print('kappa'.find('a', 1, 4))\n",
    "print('kappa'.find('a', 2, 4))"
   ]
  },
  {
   "cell_type": "markdown",
   "metadata": {
    "id": "16SyLks-34ac"
   },
   "source": [
    "## isalnum()\n",
    "\n",
    "Berikut contoh penggunaan method ``isalnum()``:"
   ]
  },
  {
   "cell_type": "code",
   "execution_count": 8,
   "metadata": {
    "colab": {
     "base_uri": "https://localhost:8080/"
    },
    "id": "Z7uAQ9so4BVH",
    "outputId": "efbb918c-701a-4dd5-b63d-312653e3f64f"
   },
   "outputs": [
    {
     "name": "stdout",
     "output_type": "stream",
     "text": [
      "True\n",
      "True\n",
      "True\n",
      "False\n",
      "False\n",
      "False\n"
     ]
    }
   ],
   "source": [
    "print('adam86'.isalnum())\n",
    "print('adam'.isalnum())\n",
    "print('35'.isalnum())\n",
    "print('@'.isalnum())\n",
    "print('adam_86'.isalnum())\n",
    "print(''.isalnum())"
   ]
  },
  {
   "cell_type": "markdown",
   "metadata": {
    "id": "cjg-MohF4vc2"
   },
   "source": [
    "## isalpha()\n",
    "\n",
    "Berikut contoh penggunaan method ``isalpha()``:"
   ]
  },
  {
   "cell_type": "code",
   "execution_count": 9,
   "metadata": {
    "colab": {
     "base_uri": "https://localhost:8080/"
    },
    "id": "ImV9oDoq4zn3",
    "outputId": "298202cf-28a7-4bca-b114-1fe735e8fa87"
   },
   "outputs": [
    {
     "name": "stdout",
     "output_type": "stream",
     "text": [
      "False\n",
      "True\n",
      "False\n",
      "False\n",
      "False\n",
      "False\n"
     ]
    }
   ],
   "source": [
    "print('adam86'.isalpha())\n",
    "print('adam'.isalpha())\n",
    "print('35'.isalpha())\n",
    "print('@'.isalpha())\n",
    "print('adam_86'.isalpha())\n",
    "print(''.isalpha())"
   ]
  },
  {
   "cell_type": "markdown",
   "metadata": {
    "id": "NxgoHoVI5H2L"
   },
   "source": [
    "## isdigit()\n",
    "\n",
    "Berikut contoh penggunaan method ``isdigit()``:"
   ]
  },
  {
   "cell_type": "code",
   "execution_count": 10,
   "metadata": {
    "colab": {
     "base_uri": "https://localhost:8080/"
    },
    "id": "3rnyv0x05QjS",
    "outputId": "335eea24-7841-45d8-d162-f4df0b7664f3"
   },
   "outputs": [
    {
     "name": "stdout",
     "output_type": "stream",
     "text": [
      "False\n",
      "False\n",
      "True\n",
      "False\n",
      "False\n",
      "False\n"
     ]
    }
   ],
   "source": [
    "print('adam86'.isdigit())\n",
    "print('adam'.isdigit())\n",
    "print('35'.isdigit())\n",
    "print('@'.isdigit())\n",
    "print('adam_86'.isdigit())\n",
    "print(''.isdigit())"
   ]
  },
  {
   "cell_type": "markdown",
   "metadata": {
    "id": "Alyri4tz55yR"
   },
   "source": [
    "## islower()\n",
    "\n",
    "Berikut contoh penggunaan method ``islower()``:"
   ]
  },
  {
   "cell_type": "code",
   "execution_count": 11,
   "metadata": {
    "colab": {
     "base_uri": "https://localhost:8080/"
    },
    "id": "QIwp2vYJZvNC",
    "outputId": "ac859ccf-4663-4a5b-c9b2-f71f9aa8f2a6"
   },
   "outputs": [
    {
     "name": "stdout",
     "output_type": "stream",
     "text": [
      "False\n",
      "True\n"
     ]
    }
   ],
   "source": [
    "print(\"Harry Potter\".islower())\n",
    "print('harry potter'.islower())"
   ]
  },
  {
   "cell_type": "markdown",
   "metadata": {
    "id": "EiBAzzvQaNi8"
   },
   "source": [
    "## isspace()\n",
    "\n",
    "Berikut contoh penggunaan method ``isspace()``:"
   ]
  },
  {
   "cell_type": "code",
   "execution_count": 12,
   "metadata": {
    "colab": {
     "base_uri": "https://localhost:8080/"
    },
    "id": "JORsDSgzaR7Q",
    "outputId": "b38fa3d3-ab19-4f8d-8281-29f556d28040"
   },
   "outputs": [
    {
     "name": "stdout",
     "output_type": "stream",
     "text": [
      "False\n",
      "True\n",
      "True\n"
     ]
    }
   ],
   "source": [
    "print(\"Harry Potter\".isspace())\n",
    "print(' '.isspace())\n",
    "print(' \\n'.isspace())"
   ]
  },
  {
   "cell_type": "markdown",
   "metadata": {
    "id": "tkdbEUiXbBmR"
   },
   "source": [
    "## isupper()\n",
    "\n",
    "Berikut contoh penggunaan method ``isupper()``:"
   ]
  },
  {
   "cell_type": "code",
   "execution_count": 13,
   "metadata": {
    "colab": {
     "base_uri": "https://localhost:8080/"
    },
    "id": "DIaok-bPbLjn",
    "outputId": "25236521-0a7a-4398-a773-9b608fd84fbe"
   },
   "outputs": [
    {
     "name": "stdout",
     "output_type": "stream",
     "text": [
      "False\n",
      "True\n"
     ]
    }
   ],
   "source": [
    "print(\"Harry Potter\".isupper())\n",
    "print('HARRY POTTER'.isupper())"
   ]
  },
  {
   "cell_type": "markdown",
   "metadata": {
    "id": "fSkVqrH-g50f"
   },
   "source": [
    "## join()\n",
    "\n",
    "Berikut contoh penggunaan method ``join()``:"
   ]
  },
  {
   "cell_type": "code",
   "execution_count": 14,
   "metadata": {
    "colab": {
     "base_uri": "https://localhost:8080/"
    },
    "id": "kFyXv8eIhA-Q",
    "outputId": "01990529-4394-4c2e-99bb-1249a4b512f4"
   },
   "outputs": [
    {
     "name": "stdout",
     "output_type": "stream",
     "text": [
      "Harry,Potter,Bachtiar\n",
      "Harry-Potter-Bachtiar\n"
     ]
    }
   ],
   "source": [
    "print(\",\".join([\"Harry\", \"Potter\", \"Bachtiar\"]))\n",
    "print(\"-\".join([\"Harry\", \"Potter\", \"Bachtiar\"]))"
   ]
  },
  {
   "cell_type": "markdown",
   "metadata": {
    "id": "zPVgByCSkUTS"
   },
   "source": [
    "## lower()\n",
    "\n",
    "Berikut contoh penggunaan method ``lower()``:"
   ]
  },
  {
   "cell_type": "code",
   "execution_count": 15,
   "metadata": {
    "colab": {
     "base_uri": "https://localhost:8080/"
    },
    "id": "jikgguYBkYqE",
    "outputId": "084dfb6e-dbdf-4369-8e6e-2d383f0fa3c5"
   },
   "outputs": [
    {
     "name": "stdout",
     "output_type": "stream",
     "text": [
      "harry potter\n",
      "harry potter86\n"
     ]
    }
   ],
   "source": [
    "print(\"Harry Potter\".lower())\n",
    "print('HARRY POTTER86'.lower())"
   ]
  },
  {
   "cell_type": "markdown",
   "metadata": {
    "id": "B3iZKO2cqLP0"
   },
   "source": [
    "## lstrip()\n",
    "\n",
    "Berikut contoh penggunaan method ``lstrip()``:"
   ]
  },
  {
   "cell_type": "code",
   "execution_count": 16,
   "metadata": {
    "colab": {
     "base_uri": "https://localhost:8080/"
    },
    "id": "dCX2t4K0qTNY",
    "outputId": "f7e624b1-e732-48be-d258-e186793cb5cc"
   },
   "outputs": [
    {
     "name": "stdout",
     "output_type": "stream",
     "text": [
      "[Adam ]\n"
     ]
    }
   ],
   "source": [
    "print(\"[\" + \" Adam \".lstrip() + \"]\")"
   ]
  },
  {
   "cell_type": "markdown",
   "metadata": {
    "id": "_00FyvOYh48n"
   },
   "source": [
    "## replace()\n",
    "\n",
    "Berikut contoh penggunaan method ``replace()``:"
   ]
  },
  {
   "cell_type": "code",
   "execution_count": 17,
   "metadata": {
    "colab": {
     "base_uri": "https://localhost:8080/"
    },
    "id": "M0qJgooch8_U",
    "outputId": "29f850ba-431b-4118-b9da-3139917f5a29"
   },
   "outputs": [
    {
     "name": "stdout",
     "output_type": "stream",
     "text": [
      "Adam Potter\n",
      "Guava \n"
     ]
    }
   ],
   "source": [
    "nama = 'Harry Potter'\n",
    "print(nama.replace('Harry', 'Adam'))\n",
    "\n",
    "print(\"Guava juice\".replace(\"juice\", \"\"))"
   ]
  },
  {
   "cell_type": "markdown",
   "metadata": {
    "id": "Q0BPDcjmjVO0"
   },
   "source": [
    "## rfind()\n",
    "\n",
    "Berikut contoh Penggunaan ``rfind()`` beserta variannya:"
   ]
  },
  {
   "cell_type": "code",
   "execution_count": 18,
   "metadata": {
    "colab": {
     "base_uri": "https://localhost:8080/"
    },
    "id": "7h41yAeXl8YI",
    "outputId": "959ab380-fabc-4e4a-ed06-35658d10e6d4"
   },
   "outputs": [
    {
     "name": "stdout",
     "output_type": "stream",
     "text": [
      "12\n",
      "19\n",
      "3\n"
     ]
    }
   ],
   "source": [
    "print(\"Tinky Winky Tinky Winky\".rfind(\"Ti\"))\n",
    "print(\"Tinky Winky Tinky Winky\".rfind(\"ink\", 9))\n",
    "print(\"Tinky Winky Tinky Winky\".rfind(\"ky\", 3, 9))"
   ]
  },
  {
   "cell_type": "markdown",
   "metadata": {
    "id": "xP3i04VoKTCa"
   },
   "source": [
    "## rstrip()\n",
    "\n",
    "Berikut contoh penggunaan ``rstrip()``:"
   ]
  },
  {
   "cell_type": "code",
   "execution_count": 19,
   "metadata": {
    "colab": {
     "base_uri": "https://localhost:8080/"
    },
    "id": "y3T_22rXKYv3",
    "outputId": "90f5774f-315a-45f1-c1eb-415dde72303b"
   },
   "outputs": [
    {
     "name": "stdout",
     "output_type": "stream",
     "text": [
      "[ Adam]\n"
     ]
    }
   ],
   "source": [
    "print(\"[\" + \" Adam \".rstrip() + \"]\")"
   ]
  },
  {
   "cell_type": "markdown",
   "metadata": {
    "id": "aBwux0DDNFbS"
   },
   "source": [
    "## split()\n",
    "\n",
    "Berikut contoh penggunaan method ``split()``:"
   ]
  },
  {
   "cell_type": "code",
   "execution_count": 20,
   "metadata": {
    "colab": {
     "base_uri": "https://localhost:8080/"
    },
    "id": "lxGbcQDxNLqW",
    "outputId": "fcbb16d0-792e-4b95-a54b-9958eee25fac"
   },
   "outputs": [
    {
     "name": "stdout",
     "output_type": "stream",
     "text": [
      "['Harry', 'Potter', 'Bachtiar']\n",
      "['phi', 'chi', 'psi']\n"
     ]
    }
   ],
   "source": [
    "print(\"Harry Potter Bachtiar\".split())\n",
    "print(\"phi       chi\\npsi\".split())"
   ]
  },
  {
   "cell_type": "markdown",
   "metadata": {
    "id": "eScYKyngNuLx"
   },
   "source": [
    "## startswith()\n",
    "\n",
    "Berikut contoh penggunaan method ``startswith()``:\n"
   ]
  },
  {
   "cell_type": "code",
   "execution_count": 21,
   "metadata": {
    "colab": {
     "base_uri": "https://localhost:8080/"
    },
    "id": "LBM-oTLmNzvI",
    "outputId": "193879f4-06da-48d5-f4be-a712194e0bcc"
   },
   "outputs": [
    {
     "name": "stdout",
     "output_type": "stream",
     "text": [
      "True\n",
      "False\n"
     ]
    }
   ],
   "source": [
    "print(\"Harry Potter\".startswith('Ha'))\n",
    "print('Harry Potter'.startswith('ha'))"
   ]
  },
  {
   "cell_type": "markdown",
   "metadata": {
    "id": "V05PUj9lOCUQ"
   },
   "source": [
    "## strip()\n",
    "\n",
    "Berikut contoh penggunaan method ``strip()``:"
   ]
  },
  {
   "cell_type": "code",
   "execution_count": 22,
   "metadata": {
    "colab": {
     "base_uri": "https://localhost:8080/"
    },
    "id": "XRctC8BAOIdg",
    "outputId": "2a505271-596b-409c-b489-bc34a4c865d1"
   },
   "outputs": [
    {
     "name": "stdout",
     "output_type": "stream",
     "text": [
      "[Adam]\n"
     ]
    }
   ],
   "source": [
    "print(\"[\" + \" Adam \".strip() + \"]\")"
   ]
  },
  {
   "cell_type": "markdown",
   "metadata": {
    "id": "2rD2U_EAOyBx"
   },
   "source": [
    "## swapcase(), upper(), dan title()\n",
    "\n",
    "Berikut contoh penggunaan method ``swapcase()``, ``upper()``, dan ``title()``:\n"
   ]
  },
  {
   "cell_type": "code",
   "execution_count": 23,
   "metadata": {
    "colab": {
     "base_uri": "https://localhost:8080/"
    },
    "id": "SJ-HnC3GPA9K",
    "outputId": "588ed7b7-d5f5-428d-f49c-cbe46f580f14"
   },
   "outputs": [
    {
     "name": "stdout",
     "output_type": "stream",
     "text": [
      "yOU KNOW NOTHING, jON sNOW!\n",
      "YOU KNOW NOTHING, JON SNOW!\n",
      "You Know Nothing, Jon Snow!\n"
     ]
    }
   ],
   "source": [
    "got = \"You know nothing, Jon Snow!\"\n",
    "\n",
    "print(got.swapcase())\n",
    "print(got.upper())\n",
    "print(got.title())"
   ]
  },
  {
   "cell_type": "markdown",
   "metadata": {
    "id": "PvGfwJUGP3IJ"
   },
   "source": [
    "## Hands on Lab 1 : My Split Function\n",
    "\n",
    "Tugas kali ini kita harus menulis fungsi kita sendiri yang memiliki perilaku hampir sama dengan ``split()``. Aturannya sebagai berikut:\n",
    "\n",
    "1. Argumen fungsi berupa sebuah string.\n",
    "2. Fungsi harus mengembalikan nilai berupa list yang berisi kata-kata dari argumen (tentunya whitespace sudah dihilangkan).\n",
    "3. Jika argumen berisi string kosong, fungsi mengembalikan nilai berupa list kosong.\n",
    "4. Ikuti standar format fungsi yang tersedia.\n",
    "\n",
    "Standar Fungsi:\n",
    "\n",
    "```python\n",
    "def mysplit(strng):\n",
    "    #\n",
    "    # put your code here\n",
    "    #\n",
    "\n",
    "\n",
    "print(mysplit(\"To be or not to be, that is the question\"))\n",
    "print(mysplit(\"To be or not to be,that is the question\"))\n",
    "print(mysplit(\"   \"))\n",
    "print(mysplit(\" abc \"))\n",
    "print(mysplit(\"\"))\n",
    "```\n",
    "\n",
    "Hasil yang diharapkan:\n",
    "\n",
    "```python\n",
    "['To', 'be', 'or', 'not', 'to', 'be,', 'that', 'is', 'the', 'question']\n",
    "['To', 'be', 'or', 'not', 'to', 'be,that', 'is', 'the', 'question']\n",
    "[]\n",
    "['abc']\n",
    "[]\n",
    "```"
   ]
  },
  {
   "cell_type": "code",
   "execution_count": 24,
   "metadata": {
    "colab": {
     "base_uri": "https://localhost:8080/"
    },
    "id": "bKpYzgKORNza",
    "outputId": "e783a884-9d4e-4658-f0b4-e0a3c7d678c3"
   },
   "outputs": [
    {
     "name": "stdout",
     "output_type": "stream",
     "text": [
      "['To', 'be', 'or', 'not', 'to', 'be,', 'that', 'is', 'the', 'question']\n",
      "['To', 'be', 'or', 'not', 'to', 'be,that', 'is', 'the', 'question']\n",
      "['']\n",
      "['abc']\n",
      "['']\n"
     ]
    },
    {
     "name": "stderr",
     "output_type": "stream",
     "text": [
      "<>:10: SyntaxWarning: \"is\" with a literal. Did you mean \"==\"?\n",
      "<>:10: SyntaxWarning: \"is\" with a literal. Did you mean \"==\"?\n",
      "<ipython-input-24-1a73c3a172c8>:10: SyntaxWarning: \"is\" with a literal. Did you mean \"==\"?\n",
      "  if ch is \" \":\n"
     ]
    }
   ],
   "source": [
    "def mysplit(strng):\n",
    "  strng = strng.strip()\n",
    "  \n",
    "  listkata = []\n",
    "  word = \"\"\n",
    "  i = 0\n",
    "  strng += \" \"\n",
    "  \n",
    "  for ch in strng: \n",
    "    if ch is \" \":\n",
    "      listkata.append(word)\n",
    "      word = \"\"\n",
    "    else:\n",
    "      word += ch\n",
    "      i += 1\n",
    "    \n",
    "  return listkata\n",
    " \n",
    " \n",
    "print(mysplit(\"To be or not to be, that is the question\"))\n",
    "print(mysplit(\"To be or not to be,that is the question\"))\n",
    "print(mysplit(\"   \"))\n",
    "print(mysplit(\" abc \"))\n",
    "print(mysplit(\"\"))"
   ]
  },
  {
   "cell_type": "markdown",
   "metadata": {
    "id": "jLf2XBaxZP3i"
   },
   "source": [
    "## Membandingkan String\n",
    "\n",
    "String dalam Python bisa dibandingkan dengan menggunakan operator relasional (lihat topik sebelumnya). Cara ini akan membandingkan string dari satu karakter ke karakter lainnya. Berikut contoh kasusnya:"
   ]
  },
  {
   "cell_type": "code",
   "execution_count": 25,
   "metadata": {
    "id": "OwMe-5A-Zkql"
   },
   "outputs": [
    {
     "name": "stdout",
     "output_type": "stream",
     "text": [
      "True\n",
      "True\n",
      "True\n",
      "True\n",
      "False\n",
      "True\n",
      "False\n",
      "True\n",
      "True\n"
     ]
    }
   ],
   "source": [
    "print('alpha' == 'alpha')\n",
    "print ('alpha' != 'Alpha')\n",
    "print ('alpha' < 'alphabet')\n",
    "# String comparison is always case-sensitive (upper-case letters are taken as lesser than lower-case).\n",
    "print ('beta' > 'Beta')\n",
    "\n",
    "# Even if a string contains digits only, it's still not a number.\n",
    "print('10' == '010')\n",
    "print('10' > '010')\n",
    "print('10' > '8')\n",
    "print('20' < '8')\n",
    "print('20' < '80')"
   ]
  },
  {
   "cell_type": "markdown",
   "metadata": {
    "id": "xHP4RsrhZq1c"
   },
   "source": [
    "## Hands on Lab 2: Coba Membandingkan\n",
    "\n",
    "Jalankan kode program berikut dan pelajari hasil keluarannya:"
   ]
  },
  {
   "cell_type": "code",
   "execution_count": 26,
   "metadata": {
    "id": "QohnnJI2Zw5V"
   },
   "outputs": [
    {
     "name": "stdout",
     "output_type": "stream",
     "text": [
      "False\n",
      "True\n",
      "False\n",
      "True\n"
     ]
    },
    {
     "ename": "TypeError",
     "evalue": "'>' not supported between instances of 'str' and 'int'",
     "output_type": "error",
     "traceback": [
      "\u001b[0;31m---------------------------------------------------------------------------\u001b[0m",
      "\u001b[0;31mTypeError\u001b[0m                                 Traceback (most recent call last)",
      "\u001b[0;32m<ipython-input-26-bf47cb84df14>\u001b[0m in \u001b[0;36m<module>\u001b[0;34m\u001b[0m\n\u001b[1;32m      3\u001b[0m \u001b[0mprint\u001b[0m\u001b[0;34m(\u001b[0m\u001b[0;34m'10'\u001b[0m \u001b[0;34m==\u001b[0m \u001b[0;36m1\u001b[0m\u001b[0;34m)\u001b[0m\u001b[0;34m\u001b[0m\u001b[0;34m\u001b[0m\u001b[0m\n\u001b[1;32m      4\u001b[0m \u001b[0mprint\u001b[0m\u001b[0;34m(\u001b[0m\u001b[0;34m'10'\u001b[0m \u001b[0;34m!=\u001b[0m \u001b[0;36m1\u001b[0m\u001b[0;34m)\u001b[0m\u001b[0;34m\u001b[0m\u001b[0;34m\u001b[0m\u001b[0m\n\u001b[0;32m----> 5\u001b[0;31m \u001b[0mprint\u001b[0m\u001b[0;34m(\u001b[0m\u001b[0;34m'10'\u001b[0m \u001b[0;34m>\u001b[0m \u001b[0;36m10\u001b[0m\u001b[0;34m)\u001b[0m\u001b[0;34m\u001b[0m\u001b[0;34m\u001b[0m\u001b[0m\n\u001b[0m",
      "\u001b[0;31mTypeError\u001b[0m: '>' not supported between instances of 'str' and 'int'"
     ]
    }
   ],
   "source": [
    "print('10' == 10)\n",
    "print('10' != 10)\n",
    "print('10' == 1)\n",
    "print('10' != 1)\n",
    "print('10' > 10)"
   ]
  },
  {
   "cell_type": "markdown",
   "metadata": {
    "id": "HYojemqNaTZP"
   },
   "source": [
    "## Pengurutan String\n",
    "\n",
    "Kita bisa mengurutkan list berisi string menggunakan fungsi ``sorted() dan ``sort()``. Perbedaannya adalah fungsi ``sorted()`` akan mengembalikan sebuah list baru sementara fungsi ``sort()`` tidak menghasilkan list baru. Berikut contoh kasusnya:"
   ]
  },
  {
   "cell_type": "code",
   "execution_count": null,
   "metadata": {
    "colab": {
     "base_uri": "https://localhost:8080/"
    },
    "id": "ua3CsHNealAM",
    "outputId": "89e67a3e-f46e-4ae6-9df7-a4526dddd17c"
   },
   "outputs": [],
   "source": [
    "slogan_hogwarts = ['nunquam', 'draco', 'titilandus', 'dormiens']\n",
    "slogan_hogwarts2 = sorted(slogan_hogwarts)\n",
    "\n",
    "print(slogan_hogwarts)\n",
    "print(slogan_hogwarts2)\n",
    "\n",
    "print()\n",
    "\n",
    "slogan_hogwarts = ['nunquam', 'draco', 'titilandus', 'dormiens']\n",
    "print(slogan_hogwarts)\n",
    "\n",
    "slogan_hogwarts.sort()\n",
    "print(slogan_hogwarts)"
   ]
  },
  {
   "cell_type": "markdown",
   "metadata": {
    "id": "7KRSY9WrbwK-"
   },
   "source": [
    "## String vs. Numbers\n",
    "\n",
    "Sebuah angka baik integer maupun float bisa dikonversi menjadi sebuah string menggunakan fungsi ``str()``. Begitu pun sebaliknya, sebuah string bisa diubah ke dalam integer atau pun float menggunakan fungsi ``int()`` atau ``float()``. Berikut contoh kasusnya:"
   ]
  },
  {
   "cell_type": "code",
   "execution_count": null,
   "metadata": {
    "colab": {
     "base_uri": "https://localhost:8080/"
    },
    "id": "zid7IUmZcJtc",
    "outputId": "5e07f494-9071-4506-cea9-05aa530816b9"
   },
   "outputs": [],
   "source": [
    "bilbul = 10\n",
    "bilkoma = 10.\n",
    "\n",
    "print(str(bilbul) + '\\n' + str(bilkoma))\n",
    "\n",
    "print()\n",
    "\n",
    "tahun_lahir = '1986'\n",
    "tahun_sekarang = '2021'\n",
    "\n",
    "print(int(tahun_sekarang) - int(tahun_lahir))"
   ]
  },
  {
   "cell_type": "markdown",
   "metadata": {
    "id": "0iCpneDUda8s"
   },
   "source": [
    "# Errors, failures, and other plagues\n",
    "\n",
    "Kesalahan merupakan hal yang sering terjadi dalam proses pembuatan pemrograman.\n",
    "\n",
    "Sebab terjadinya kesalahan:\n",
    "\n",
    "1. Kesalahan dalam penulisan kode, sehingga kode tidak dapat dijalankan sama sekali\n",
    "2. Kesalahan yang terjadi ketika program sedang di eksekusi\n",
    "\n",
    "Dua buah cara yang dapat digunakan untuk memeriksa suatu kesalahan:\n",
    "\n",
    "1. Menggunakan blok try....except\n",
    "2. Menggunakan statement assert"
   ]
  },
  {
   "cell_type": "markdown",
   "metadata": {
    "id": "e78OWedxthUS"
   },
   "source": [
    "## Exception\n",
    "\n",
    "Exception adalah kesalahan yang terjadi ketika kode program sedang dieksekusi dan kesalahan ini mengganggu alur eksekusi kode program tersebut. Perhatikan kode program berikut dengan seksama. "
   ]
  },
  {
   "cell_type": "code",
   "execution_count": 4,
   "metadata": {
    "colab": {
     "base_uri": "https://localhost:8080/",
     "height": 196
    },
    "id": "jZLV742rt4p3",
    "outputId": "722a533c-151d-4b94-a8c2-91afa569efc9"
   },
   "outputs": [
    {
     "ename": "TypeError",
     "evalue": "can only concatenate str (not \"float\") to str",
     "output_type": "error",
     "traceback": [
      "\u001b[0;31m---------------------------------------------------------------------------\u001b[0m",
      "\u001b[0;31mTypeError\u001b[0m                                 Traceback (most recent call last)",
      "Input \u001b[0;32mIn [4]\u001b[0m, in \u001b[0;36m<cell line: 5>\u001b[0;34m()\u001b[0m\n\u001b[1;32m      1\u001b[0m \u001b[38;5;28;01mimport\u001b[39;00m \u001b[38;5;21;01mmath\u001b[39;00m\n\u001b[1;32m      3\u001b[0m hasil \u001b[38;5;241m=\u001b[39m math\u001b[38;5;241m.\u001b[39msin(math\u001b[38;5;241m.\u001b[39mpi\u001b[38;5;241m/\u001b[39m\u001b[38;5;241m2\u001b[39m)\n\u001b[0;32m----> 5\u001b[0m \u001b[38;5;28mprint\u001b[39m(\u001b[38;5;124;43m\"\u001b[39;49m\u001b[38;5;124;43mHasil dari sin(\u001b[39;49m\u001b[38;5;124;43m\"\u001b[39;49m\u001b[43m \u001b[49m\u001b[38;5;241;43m+\u001b[39;49m\u001b[43m \u001b[49m\u001b[43mmath\u001b[49m\u001b[38;5;241;43m.\u001b[39;49m\u001b[43mdegrees\u001b[49m\u001b[43m(\u001b[49m\u001b[43mmath\u001b[49m\u001b[38;5;241;43m.\u001b[39;49m\u001b[43mpi\u001b[49m\u001b[38;5;241;43m/\u001b[39;49m\u001b[38;5;241;43m2\u001b[39;49m\u001b[43m)\u001b[49m \u001b[38;5;241m+\u001b[39m \u001b[38;5;124m\"\u001b[39m\u001b[38;5;124m) adalah \u001b[39m\u001b[38;5;124m\"\u001b[39m \u001b[38;5;241m+\u001b[39m hasil)\n",
      "\u001b[0;31mTypeError\u001b[0m: can only concatenate str (not \"float\") to str"
     ]
    }
   ],
   "source": [
    "import math\n",
    "\n",
    "hasil = math.sin(math.pi/2)\n",
    "\n",
    "print(\"Hasil dari sin(\" + math.degrees(math.pi/2) + \") adalah \" + hasil)"
   ]
  },
  {
   "cell_type": "markdown",
   "metadata": {
    "id": "L7ROIGkKunYz"
   },
   "source": [
    "Pada kode program tersebut, kita bisa menemukan exception (error) berupa ``TypeError`` yang diakibatkan kesalahan tipe data yang tidak sesuai dengan operator yang sedang digunakan (dalam kasus tersebut, tanda + bertindak untuk string concatenation).\n",
    "\n",
    "Setiap kali Python menemukan exception, ada dua hal yang dilakukan oleh Python, yaitu:\n",
    "\n",
    "1. Python memberhentikan program yang dieksekusi\n",
    "2. Python membuat data special yang disebut <b>exception</b>."
   ]
  },
  {
   "cell_type": "markdown",
   "metadata": {
    "id": "GVWlzEFOvQD7"
   },
   "source": [
    "## Hands on Lab 3: Menemukan penyebab exception\n",
    "\n",
    "Silakan jalankan kode-kode program berikut dan cari tahu penyebab dari exception yang terjadi ketika program dieksekusi."
   ]
  },
  {
   "cell_type": "code",
   "execution_count": 8,
   "metadata": {
    "colab": {
     "base_uri": "https://localhost:8080/",
     "height": 246
    },
    "id": "r73B6sk0yelp",
    "outputId": "2082e514-2791-4c0f-ae14-4838df4f00c8"
   },
   "outputs": [
    {
     "name": "stdout",
     "output_type": "stream",
     "text": [
      "Masukkan nilai x: Seratus\n"
     ]
    },
    {
     "ename": "ValueError",
     "evalue": "could not convert string to float: 'Seratus'",
     "output_type": "error",
     "traceback": [
      "\u001b[0;31m---------------------------------------------------------------------------\u001b[0m",
      "\u001b[0;31mValueError\u001b[0m                                Traceback (most recent call last)",
      "Input \u001b[0;32mIn [8]\u001b[0m, in \u001b[0;36m<cell line: 3>\u001b[0;34m()\u001b[0m\n\u001b[1;32m      1\u001b[0m \u001b[38;5;28;01mimport\u001b[39;00m \u001b[38;5;21;01mmath\u001b[39;00m\n\u001b[0;32m----> 3\u001b[0m x \u001b[38;5;241m=\u001b[39m \u001b[38;5;28;43mfloat\u001b[39;49m\u001b[43m(\u001b[49m\u001b[38;5;28;43minput\u001b[39;49m\u001b[43m(\u001b[49m\u001b[38;5;124;43m\"\u001b[39;49m\u001b[38;5;124;43mMasukkan nilai x: \u001b[39;49m\u001b[38;5;124;43m\"\u001b[39;49m\u001b[43m)\u001b[49m\u001b[43m)\u001b[49m\n\u001b[1;32m      4\u001b[0m y \u001b[38;5;241m=\u001b[39m math\u001b[38;5;241m.\u001b[39msqrt(x)\n\u001b[1;32m      6\u001b[0m \u001b[38;5;28mprint\u001b[39m(\u001b[38;5;124m\"\u001b[39m\u001b[38;5;124mAkar kuadrat dari \u001b[39m\u001b[38;5;124m\"\u001b[39m, x, \u001b[38;5;124m\"\u001b[39m\u001b[38;5;124madalah\u001b[39m\u001b[38;5;124m\"\u001b[39m, y)\n",
      "\u001b[0;31mValueError\u001b[0m: could not convert string to float: 'Seratus'"
     ]
    }
   ],
   "source": [
    "import math\n",
    "\n",
    "x = float(input(\"Masukkan nilai x: \"))\n",
    "y = math.sqrt(x)\n",
    "\n",
    "print(\"Akar kuadrat dari \", x, \"adalah\", y)"
   ]
  },
  {
   "cell_type": "markdown",
   "metadata": {
    "id": "4xbNoZw7zW2b"
   },
   "source": [
    "Tidak menemukan exception? Coba dua kasus berikut:\n",
    "\n",
    "1. Masukkan nilai \"Seratus\" untuk nilai x, atau\n",
    "2. Masukkan nilai -4 untuk nilai x.\n",
    "\n",
    "Apa yang terjadi? Exception apa yang dimunculkan oleh Python? Apa penyebabnya?"
   ]
  },
  {
   "cell_type": "markdown",
   "metadata": {
    "id": "tY4BaBrj0q29"
   },
   "source": [
    "## Hands on Lab 4: Menemukan penyebab exception 2\n",
    "\n",
    "Mari kita perhatikan kembali kode program berikut dengan seksama."
   ]
  },
  {
   "cell_type": "code",
   "execution_count": 12,
   "metadata": {
    "colab": {
     "base_uri": "https://localhost:8080/"
    },
    "id": "m4Z5e0OR00l8",
    "outputId": "6926e58f-45f2-4c68-870b-008a07153075"
   },
   "outputs": [
    {
     "name": "stdout",
     "output_type": "stream",
     "text": [
      "Bilangan 1 = 1ad\n"
     ]
    },
    {
     "ename": "ValueError",
     "evalue": "could not convert string to float: '1ad'",
     "output_type": "error",
     "traceback": [
      "\u001b[0;31m---------------------------------------------------------------------------\u001b[0m",
      "\u001b[0;31mValueError\u001b[0m                                Traceback (most recent call last)",
      "Input \u001b[0;32mIn [12]\u001b[0m, in \u001b[0;36m<cell line: 1>\u001b[0;34m()\u001b[0m\n\u001b[0;32m----> 1\u001b[0m bil1 \u001b[38;5;241m=\u001b[39m \u001b[38;5;28;43mfloat\u001b[39;49m\u001b[43m(\u001b[49m\u001b[38;5;28;43minput\u001b[39;49m\u001b[43m(\u001b[49m\u001b[38;5;124;43m\"\u001b[39;49m\u001b[38;5;124;43mBilangan 1 = \u001b[39;49m\u001b[38;5;124;43m\"\u001b[39;49m\u001b[43m)\u001b[49m\u001b[43m)\u001b[49m\n\u001b[1;32m      2\u001b[0m bil2 \u001b[38;5;241m=\u001b[39m \u001b[38;5;28mfloat\u001b[39m(\u001b[38;5;28minput\u001b[39m(\u001b[38;5;124m\"\u001b[39m\u001b[38;5;124mBilangan 2 = \u001b[39m\u001b[38;5;124m\"\u001b[39m))\n\u001b[1;32m      4\u001b[0m hasil \u001b[38;5;241m=\u001b[39m bil1 \u001b[38;5;241m/\u001b[39m bil2\n",
      "\u001b[0;31mValueError\u001b[0m: could not convert string to float: '1ad'"
     ]
    }
   ],
   "source": [
    "bil1 = float(input(\"Bilangan 1 = \"))\n",
    "bil2 = float(input(\"Bilangan 2 = \"))\n",
    "\n",
    "hasil = bil1 / bil2\n",
    "\n",
    "print(hasil)"
   ]
  },
  {
   "cell_type": "markdown",
   "metadata": {
    "id": "pP1_Ixtm1KLd"
   },
   "source": [
    "Tidak menemukan exception? Coba masukkan nilai 0 pada bilangan 2. Apa yang terjadi? Exception apa yang dimunculkan oleh Python? Apa penyebabnya?"
   ]
  },
  {
   "cell_type": "markdown",
   "metadata": {
    "id": "S1lkkV271fVK"
   },
   "source": [
    "## Hands on Lab 5: Menemukan penyebab exception 3\n",
    "\n",
    "Perhatikan kode program berikut dengan seksama."
   ]
  },
  {
   "cell_type": "code",
   "execution_count": 16,
   "metadata": {
    "id": "lmWf5Wxg1oYK"
   },
   "outputs": [
    {
     "name": "stdout",
     "output_type": "stream",
     "text": [
      "Munculkan sampai index? sepuluh\n"
     ]
    },
    {
     "ename": "ValueError",
     "evalue": "invalid literal for int() with base 10: 'sepuluh'",
     "output_type": "error",
     "traceback": [
      "\u001b[0;31m---------------------------------------------------------------------------\u001b[0m",
      "\u001b[0;31mValueError\u001b[0m                                Traceback (most recent call last)",
      "Input \u001b[0;32mIn [16]\u001b[0m, in \u001b[0;36m<cell line: 2>\u001b[0;34m()\u001b[0m\n\u001b[1;32m      1\u001b[0m bilangan \u001b[38;5;241m=\u001b[39m [\u001b[38;5;241m1\u001b[39m, \u001b[38;5;241m2\u001b[39m, \u001b[38;5;241m3\u001b[39m, \u001b[38;5;241m4\u001b[39m, \u001b[38;5;241m5\u001b[39m]\n\u001b[0;32m----> 2\u001b[0m batas_indeks \u001b[38;5;241m=\u001b[39m \u001b[38;5;28;43mint\u001b[39;49m\u001b[43m(\u001b[49m\u001b[38;5;28;43minput\u001b[39;49m\u001b[43m(\u001b[49m\u001b[38;5;124;43m\"\u001b[39;49m\u001b[38;5;124;43mMunculkan sampai index? \u001b[39;49m\u001b[38;5;124;43m\"\u001b[39;49m\u001b[43m)\u001b[49m\u001b[43m)\u001b[49m\n\u001b[1;32m      4\u001b[0m \u001b[38;5;28;01mfor\u001b[39;00m i \u001b[38;5;129;01min\u001b[39;00m \u001b[38;5;28mrange\u001b[39m(batas_indeks):\n\u001b[1;32m      5\u001b[0m   \u001b[38;5;28mprint\u001b[39m(bilangan[i], end \u001b[38;5;241m=\u001b[39m \u001b[38;5;124m\"\u001b[39m\u001b[38;5;130;01m\\t\u001b[39;00m\u001b[38;5;124m\"\u001b[39m)\n",
      "\u001b[0;31mValueError\u001b[0m: invalid literal for int() with base 10: 'sepuluh'"
     ]
    }
   ],
   "source": [
    "bilangan = [1, 2, 3, 4, 5]\n",
    "batas_indeks = int(input(\"Munculkan sampai index? \"))\n",
    "\n",
    "for i in range(batas_indeks):\n",
    "  print(bilangan[i], end = \"\\t\")"
   ]
  },
  {
   "cell_type": "markdown",
   "metadata": {
    "id": "chxelUHt2b60"
   },
   "source": [
    "Tidak menemukan exception? Coba masukkan nilai 10 pada variabel batas_indeks. Apa yang terjadi? Exception apa yang dimunculkan oleh Python? Apa penyebabnya?"
   ]
  },
  {
   "cell_type": "markdown",
   "metadata": {
    "id": "gnHPVTje25S_"
   },
   "source": [
    "## Exception Handling\n",
    "\n",
    "Tentunya exception harus ditangani agar pengguna dari kode program kita tetap merasa nyaman ketika menggunakan kode program yang kita buat. Bayangkan apa yang terjadi ketika pengguna mendapatkan pesan berupa Exception pada saat menjalankan kode program yang kita buat?\n",
    "\n",
    "Ada dua cara yang bisa kita lakukan untuk bisa meng-handle sebuah exception, yaitu:\n",
    "\n",
    "1. Menggunakan struktur percabangan\n",
    "2. Menggunakan mekanisme exception handling (try dan variannya)"
   ]
  },
  {
   "cell_type": "markdown",
   "metadata": {
    "id": "VBXimFHF6sYv"
   },
   "source": [
    "## Mekanisme Percabangan untuk Menangani Exception\n",
    "\n",
    "Struktur percabangan bisa digunakan untuk menghindari terjadinya exception. Berikut contoh penggunaannya:"
   ]
  },
  {
   "cell_type": "code",
   "execution_count": null,
   "metadata": {
    "colab": {
     "base_uri": "https://localhost:8080/"
    },
    "id": "osFTw-8U8ooS",
    "outputId": "657fe520-d633-4194-d4f6-3e2cf94215c3"
   },
   "outputs": [],
   "source": [
    "bil1 = float(input(\"Bilangan 1 = \"))\n",
    "bil2 = float(input(\"Bilangan 2 = \"))\n",
    "\n",
    "if bil2 != 0:\n",
    "  print(bil1/bil2)\n",
    "else:\n",
    "  print(\"Pembagian dengan 0 tidak diizinkan\")"
   ]
  },
  {
   "cell_type": "markdown",
   "metadata": {
    "id": "4aIUNJVw9BNV"
   },
   "source": [
    "Untuk kasus sederhana, mekanisme ini memang terkesan mudah. Akan tetapi bayangkan apabila logika dalam suatu kode program memungkinkan terjadinya banyak exception. Selain menimbulkan masalah berupa bengkaknya kode program karena tambahan struktur percabangan,Programmer juga makin lama akan makin sulit untuk menelusuri kode programnya karena logika proses utama bisa saja tersembunyi akibat struktur percabangan tersebut."
   ]
  },
  {
   "cell_type": "markdown",
   "metadata": {
    "id": "0JdO99w99mjh"
   },
   "source": [
    "# Mekanisme Penanganan Exception dengan try...\n",
    "\n",
    "Python menyediakan fasilitas try... (dengan seluruh variannya) untuk membantu programmer dalam menangani exception. Blok try akan dieksekusi dan ketika terjadi exception, eksekusi kode program akan dilanjutkan ke kode program berikutnya. Ada beberapa bentuk try di Python. Mari bahas satu-persatu."
   ]
  },
  {
   "cell_type": "markdown",
   "metadata": {
    "id": "BheHjqMN-SWt"
   },
   "source": [
    "## try-except\n",
    "\n",
    "Bentuk pertama dari penanganan exception di Python adalah try-except. Format umumnya adalah sebagai berikut:\n",
    "\n",
    "```python\n",
    "try:\n",
    "  blok instruksi try\n",
    "except:\n",
    "  blok instruksi except\n",
    "\n",
    "blok instruksi di luar try-except\n",
    "```\n",
    "\n",
    "Bagaimana Python menjalankannya?\n",
    "\n",
    "1. Python akan mencoba menjalankan blok instruksi di try satu-persatu.\n",
    "2. Jika tidak ada exception yang terjadi maka eksekusi program dilanjutkan ke blok instruksi di luar blok instruksi try-except.\n",
    "3. Jika ada exception yang terjadi maka Python akan mengarahkan eksekusi program ke blok except.\n",
    "\n",
    "Berikut contoh penggunannya:"
   ]
  },
  {
   "cell_type": "code",
   "execution_count": 2,
   "metadata": {
    "colab": {
     "base_uri": "https://localhost:8080/"
    },
    "id": "HFscWmDc_VzX",
    "outputId": "a47f212b-b1b5-4506-cd22-559c37e82904"
   },
   "outputs": [
    {
     "name": "stdout",
     "output_type": "stream",
     "text": [
      "Bilangan 1 = 1\n",
      "Bilangan 2 = 0\n",
      "Pembagian dengan 0 tidak diizinkan\n",
      "apakah aku dijalankan?\n"
     ]
    }
   ],
   "source": [
    "bil1 = float(input(\"Bilangan 1 = \"))\n",
    "bil2 = float(input(\"Bilangan 2 = \"))\n",
    "\n",
    "try:\n",
    "  print(bil1/bil2)\n",
    "except:\n",
    "  print(\"Pembagian dengan 0 tidak diizinkan\")\n",
    "\n",
    "print(\"apakah aku dijalankan?\")"
   ]
  },
  {
   "cell_type": "markdown",
   "metadata": {
    "id": "eerHOcUw_z2y"
   },
   "source": [
    "Perhatikan lagi contoh kode program berikut dengan seksama:"
   ]
  },
  {
   "cell_type": "code",
   "execution_count": 18,
   "metadata": {
    "colab": {
     "base_uri": "https://localhost:8080/"
    },
    "id": "q1NSXlC2_4WA",
    "outputId": "04cbbe75-9f75-4235-b0d2-c792ba81fac4"
   },
   "outputs": [
    {
     "name": "stdout",
     "output_type": "stream",
     "text": [
      "Bilangan 1 = 1\n",
      "Bilangan 2 = 0\n",
      "Hai, aku muncul tidak?\n",
      "Pembagian dengan 0 tidak diizinkan\n",
      "apakah aku dijalankan?\n"
     ]
    }
   ],
   "source": [
    "bil1 = float(input(\"Bilangan 1 = \"))\n",
    "bil2 = float(input(\"Bilangan 2 = \"))\n",
    "\n",
    "try:\n",
    "  print(\"Hai, aku muncul tidak?\")\n",
    "  print(bil1/bil2)\n",
    "  print(\"Sekalian juga cek aku ya\")\n",
    "except:\n",
    "  print(\"Pembagian dengan 0 tidak diizinkan\")\n",
    "\n",
    "print(\"apakah aku dijalankan?\")"
   ]
  },
  {
   "cell_type": "markdown",
   "metadata": {
    "id": "lGi4hxcYAK_P"
   },
   "source": [
    "><b>Catatan:</b> baris instruksi di dalam blok try hanya akan dieksekusi hanya sampai exception ditemukan."
   ]
  },
  {
   "cell_type": "markdown",
   "metadata": {
    "id": "F9doODYvBARm"
   },
   "source": [
    "Apakah masalah sudah selesai? Tentu tidak, coba masukkan nilai ``adam`` ke dalam variabel ``bil1`` atau ``bil2``. Apa yang terjadi? ``ValueError`` akan terjadi karena ``adam`` tidak bisa dikonversi menjadi float. Inilah yang disebut dengan Multi Exception."
   ]
  },
  {
   "cell_type": "markdown",
   "metadata": {
    "id": "QtfRI-DZBes5"
   },
   "source": [
    "## Menangani Multi Exception\n",
    "\n",
    "Bagaimana cara menangani Multi Exception seperti yang terjadi pada kode program di sub section sebelumnya? Kita bisa menggunakan blok try-except dengan format sebagai berikut:\n",
    "\n",
    "```python\n",
    "try:\n",
    "  blok instruksi try\n",
    "except exception1:\n",
    "  blok instruksi exception1\n",
    "except exception2:\n",
    "  blok instruksi exception2\n",
    "except exceptionN:\n",
    "  blok instruksi exceptionN\n",
    "except:\n",
    "  blok instruksi except\n",
    "```\n",
    "\n",
    "Bagaimana cara kerjanya?\n",
    "\n",
    "1. Jika blok try mengalami exception1 maka python akan mengarahkan eksekusi ke blok instruksi exception 1, dan seterusnya.\n",
    "2. Jika blok try mengalami exception selain exception1 dan exception2, maka Python akan meneruskan eksekusi program ke blok except.\n",
    "\n",
    "Jalankan kode program berikut dengan 3 kasus:\n",
    "1. Kasus 1: Masukkan nilai ``budi`` di salah satu variabel (bil1 atau bil2)\n",
    "2. Kasus 2: Masukkan angka 0 pada ``bil2``\n",
    "3. Kasus 3: Jalankan kode program tersebut di Python local lalu tekan CTRL + C di keyboard ketika program meminta input.\n",
    "\n",
    "Telaah apa yang terjadi ketika 3 kasus itu diujicoba."
   ]
  },
  {
   "cell_type": "code",
   "execution_count": 20,
   "metadata": {
    "colab": {
     "base_uri": "https://localhost:8080/"
    },
    "id": "bQwfS3yUCyDA",
    "outputId": "7ab25f32-607b-4bd9-c382-2a0fc6836886"
   },
   "outputs": [
    {
     "name": "stdout",
     "output_type": "stream",
     "text": [
      "Bilangan 1 = s\n",
      "Variabel bil1 dan bil2 harus diisi data numerik\n"
     ]
    }
   ],
   "source": [
    "try:  \n",
    "  bil1 = float(input(\"Bilangan 1 = \"))\n",
    "  bil2 = float(input(\"Bilangan 2 = \"))\n",
    "  print(bil1/bil2)\n",
    "except ValueError:\n",
    "  print(\"Variabel bil1 dan bil2 harus diisi data numerik\")\n",
    "except ZeroDivisionError:\n",
    "  print(\"Pembagian dengan 0 tidak diizinkan\")\n",
    "except:\n",
    "  print(\"Ini untuk exception lainnya\")"
   ]
  },
  {
   "cell_type": "markdown",
   "metadata": {
    "id": "_aFE9XbFIDwp"
   },
   "source": [
    "Ada beberapa aturan yang harus dipahami dalam menggunakan try-except untuk multi exception, yaitu:\n",
    "\n",
    "1. Blok ``except`` ditelusuri dalam urutan yang sama dengan yang kita buat di dalam kode program.\n",
    "2. Tidak boleh menggunakan lebih dari satu blok ``except`` untuk jenis exception yang sama.\n",
    "3. Blok ``try`` minimal diikuti dengan satu buah ``except`` baik yang except yang general maupun yang spesifik untuk satu exception. Begitu pun blok ``except`` hanya boleh digunakan apabila ada blok ``try``.\n",
    "4. Apabila satu blok ``except`` tereksekusi, maka tidak ada blok ``except`` lain yang akan dieksekusi.\n",
    "5. Jika tidak ada blok ``except`` spesifik (menyebutkan exception) yang dieksekusi maka exception tetap dianggap tidak tertangani.\n",
    "6. Blok ``except`` yang tanpa menyebutkan exception harus diletakkan paling akhir.\n",
    "\n",
    "><b>Catatan:</b> Perintah ``except`` tanpa exception memang akan menangani exception lain yang tidak tertangani oleh blok ``except`` dengan exception, akan tetapi alangkah baiknya apabila kita menjadikan ``except`` tanpa exception sebagai alternatif saja dalam menangani error. Sebaiknya, apabila kita mengetahui secara spesifik jenis exception yang dihasillkan, kita buatkan ``except`` dengan exceptionnya."
   ]
  },
  {
   "cell_type": "markdown",
   "metadata": {
    "id": "KP0o7KHyCP8r"
   },
   "source": [
    "## Jenis-Jenis Exception\n",
    "\n",
    "Python mendefinisikan 63 exception yang bersifat built-in. Beberapa exception yang umum bisa dilihat pada gambar berikut:\n",
    "\n",
    "<img src = \"https://w3.cs.jmu.edu/lam2mo/cs240_2014_08/images/exception_hierarchy.png\" alt = \"Hirarki Exception di Python 3\">\n",
    "\n",
    "Dokumen perihal exception pada Python, dapat diakses pada <a href = \"https://docs.python.org/3/library/exceptions.html\">LINK BERIKUT</a>.\n",
    "\n",
    "Berikut sedikit penjelasan tentang jenis-jenis exception pada tree tersebut:\n",
    "\n",
    "1. <b>BaseException</b> merupakan root dari semua jenis exception.\n",
    "2. Level/layer yang lebih bawah merupakan exception yang spesifik dari exception di level sebelumnya.\n",
    "3. Makin dekat dengan root makin general bentuk exceptionnya.\n",
    "4. Exception yang general pasti mencakup scope dari exception spesifiknya tapi tidak sebaliknya.\n",
    "\n",
    "Mari kita lihat contoh pada program berikut:\n"
   ]
  },
  {
   "cell_type": "code",
   "execution_count": null,
   "metadata": {
    "colab": {
     "base_uri": "https://localhost:8080/"
    },
    "id": "gn00DIRmD21u",
    "outputId": "a4a1ec61-16b4-4bc9-e3fb-d78dd5edbd0f"
   },
   "outputs": [],
   "source": [
    "try:  \n",
    "  bil1 = float(input(\"Bilangan 1 = \"))\n",
    "  bil2 = float(input(\"Bilangan 2 = \"))\n",
    "  print(bil1/bil2)\n",
    "except ArithmeticError:\n",
    "  print(\"Pembagian dengan 0 tidak diizinkan\")\n",
    "except:\n",
    "  print(\"Ini untuk exception lainnya\")"
   ]
  },
  {
   "cell_type": "markdown",
   "metadata": {
    "id": "x33ZlicXEMFC"
   },
   "source": [
    "Dengan kita menggunakan ``ArithmeticError`` kita masih bisa menangani exception yang dihasilkan ketika ada pembagian dengan nol. Hal itu dikarenakan ``ArithmeticError`` merupakan general class (lebih general) dari ``ZeroDivisionError``. Oleh karena itu scope dari ``ArithmeticError`` juga mencakup masalah di ``ZeroDivisionError``.\n",
    "\n",
    "Intinya kita bisa saja tidak terlalu spesifik dalam memilih exception apabila kasus exception yang harus ditangani bisa dikelompokkan. Bagaimana kalau kita menyandingkan general class exception dengan specific class exception pada satu blok try? Mari kita coba kode program tersebut:"
   ]
  },
  {
   "cell_type": "code",
   "execution_count": 21,
   "metadata": {
    "colab": {
     "base_uri": "https://localhost:8080/"
    },
    "id": "wWnfQ_4hFmby",
    "outputId": "14c630dc-f978-4bed-98d9-9cae9776ad70"
   },
   "outputs": [
    {
     "name": "stdout",
     "output_type": "stream",
     "text": [
      "Bilangan 1 = 1\n",
      "Bilangan 2 = 0\n",
      "Ada masalah aritmatika\n"
     ]
    }
   ],
   "source": [
    "try:  \n",
    "  bil1 = float(input(\"Bilangan 1 = \"))\n",
    "  bil2 = float(input(\"Bilangan 2 = \"))\n",
    "  print(bil1/bil2)\n",
    "except ArithmeticError:\n",
    "  print(\"Ada masalah aritmatika\")\n",
    "except ZeroDivisionError:\n",
    "  print(\"Pembagian dengan 0 tidak diizinkan\")\n",
    "except:\n",
    "  print(\"Ini untuk exception lainnya\")"
   ]
  },
  {
   "cell_type": "code",
   "execution_count": 22,
   "metadata": {
    "colab": {
     "base_uri": "https://localhost:8080/"
    },
    "id": "fMdP3JthF_uX",
    "outputId": "edfb76f5-3a05-464a-d638-ddf88d4e0aee"
   },
   "outputs": [
    {
     "name": "stdout",
     "output_type": "stream",
     "text": [
      "Bilangan 1 = 1\n",
      "Bilangan 2 = 0\n",
      "Pembagian dengan 0 tidak diizinkan\n"
     ]
    }
   ],
   "source": [
    "try:  \n",
    "  bil1 = float(input(\"Bilangan 1 = \"))\n",
    "  bil2 = float(input(\"Bilangan 2 = \"))\n",
    "  print(bil1/bil2)\n",
    "except ZeroDivisionError:\n",
    "  print(\"Pembagian dengan 0 tidak diizinkan\")\n",
    "except ArithmeticError:\n",
    "  print(\"Ada masalah aritmatika\")\n",
    "except:\n",
    "  print(\"Ini untuk exception lainnya\")"
   ]
  },
  {
   "cell_type": "markdown",
   "metadata": {
    "id": "L7y2AzS3F35O"
   },
   "source": [
    "Dari penelusuran kode program tersebut, maka exception yang muncul adalah <b>yang pertama kali didefinisikan tanpa melihat general atau spesifik</b>.\n",
    "\n",
    "><b>Catatan:</b>\n",
    "1. Urutan dari except berpengaruh\n",
    "2. Sebaiknya tidak menggunakan general class exception apabila sudah diketahui specific class exception.\n",
    "\n"
   ]
  },
  {
   "cell_type": "markdown",
   "metadata": {
    "id": "bxVO7GrvGzA0"
   },
   "source": [
    "## Menangani Dua atau Lebih Exception Dalam 1 Except\n",
    "\n",
    "Kita bisa menangani dua atau lebih exception menggunakan 1 except (wajib: tetap analisis resiko yang muncul). Format yang digunakan adalah sebagai berikut:\n",
    "\n",
    "```python\n",
    "try:\n",
    "  blok instruksi try\n",
    "except (exception1, exceptionN):\n",
    "  blok instruksi exception1, exceptionN\n",
    "```\n",
    "\n",
    "Berikut contoh penggunaannya:"
   ]
  },
  {
   "cell_type": "code",
   "execution_count": null,
   "metadata": {
    "colab": {
     "base_uri": "https://localhost:8080/"
    },
    "id": "GmCYkgSJHuiV",
    "outputId": "9b606753-d7f0-4201-b12c-bcc289391417"
   },
   "outputs": [],
   "source": [
    "try:  \n",
    "  bil1 = float(input(\"Bilangan 1 = \"))\n",
    "  bil2 = float(input(\"Bilangan 2 = \"))\n",
    "  print(bil1/bil2)\n",
    "except (ValueError, ZeroDivisionError):\n",
    "  print(\"Ada kesalahan di tipe nilai atau pembagian dengan 0\")"
   ]
  },
  {
   "cell_type": "markdown",
   "metadata": {
    "id": "95i--v9cH5OP"
   },
   "source": [
    "Cara seperti ini bisa menghemat kode program akan tetapi gunakan konsep ini apabila penanganan untuk semua exception di blok tersebut memang tidak menimbulkan masalah ketika disatukan (tidak membuat masalah menjadi rancu atau ambigu)."
   ]
  },
  {
   "cell_type": "markdown",
   "metadata": {
    "id": "CWnFaVQzII2r"
   },
   "source": [
    "## Menangani Exception di Fungsi\n",
    "\n",
    "Apabila ada exception yang terjadi di dalam suatu fungsi,ada dua mekanisme yang bisa dilakukan untuk menanganinya, yaitu:\n",
    "\n",
    "1. Tangani di dalam fungsi\n",
    "2. Tangani di luar fungsi.\n",
    "\n",
    "Berikut contoh untuk penanganan dalam fungsi:"
   ]
  },
  {
   "cell_type": "code",
   "execution_count": null,
   "metadata": {
    "colab": {
     "base_uri": "https://localhost:8080/"
    },
    "id": "9_nLKW1KIo1d",
    "outputId": "e50a69de-cb61-4f23-90b2-a50f1add35e7"
   },
   "outputs": [],
   "source": [
    "def tambah_data():\n",
    "  hasil = 0\n",
    "\n",
    "  try:\n",
    "    bilangan = int(input(\"Masukkan sebuah bilangan: \"))\n",
    "    hasil += bilangan\n",
    "    print(hasil)\n",
    "  except ValueError:\n",
    "    print(\"Masukkan tipe numerik, jangan alphanumerik\")\n",
    "\n",
    "tambah_data()\n",
    "  "
   ]
  },
  {
   "cell_type": "markdown",
   "metadata": {
    "id": "98uiPdjXJ8H8"
   },
   "source": [
    "Berikut contoh untuk penanganan di luar fungsi:"
   ]
  },
  {
   "cell_type": "code",
   "execution_count": null,
   "metadata": {
    "colab": {
     "base_uri": "https://localhost:8080/"
    },
    "id": "vyun-COEKDMD",
    "outputId": "ab925b79-c4ab-4909-fe27-7c8b7d2f5911"
   },
   "outputs": [],
   "source": [
    "def tambah_data(bilangan):\n",
    "  return bilangan + 10\n",
    "\n",
    "try:\n",
    "  bilangan = int(input(\"Masukkan sebuah bilangan: \"))\n",
    "  print(tambah_data(bilangan))\n",
    "except ValueError:\n",
    "  print(\"Masukkan tipe numerik, jangan alphanumerik\")"
   ]
  },
  {
   "cell_type": "markdown",
   "metadata": {
    "id": "5rLfq6LzM92D"
   },
   "source": [
    "## kata Kunci Raise\n",
    "\n",
    "Kata kunci ``raise`` digunakan untuk menimbulkan Exception yang ditentukan oleh pengguna. Format pemanggilannya:\n",
    "\n",
    "```python\n",
    "raise exception\n",
    "```\n",
    "\n",
    "``raise`` biasanya digunakan sebagai strategi dalam menguji kode program yang dibuat. Kita bisa menspesifikkan exception sesuai kebutuhan pada kode program kita. Misal kita ingin menimbulkan exception ketika sebuah nama panjangnya kurang dari 1, maka berikut contoh penggunaan ``raise``:\n",
    "\n",
    "```python\n",
    "def validasi_nama(nama):\n",
    "  if len(nama) < 1:\n",
    "    raise ValueError\n",
    "```\n",
    "\n",
    "``ValueError`` ini akan ditangkap oleh unit testing ketika nanti masuk di tahap pengujian kode program."
   ]
  },
  {
   "cell_type": "markdown",
   "metadata": {
    "id": "8qnLBSuYPfK5"
   },
   "source": [
    "## Hands on Lab 6: Raise untuk bilangan ganjil dan genap\n",
    "\n",
    "Buatkan sebuah fungsi untuk mengecek bilangan ganjil dan genap dengan syarat:\n",
    "1. 0 bukan bilangan genap atau ganjil\n",
    "2. angka yang diinput tidak boleh bilangan negatif.\n",
    "\n",
    "Apabila dilanggar, maka munculkan ``ValueError``."
   ]
  },
  {
   "cell_type": "code",
   "execution_count": null,
   "metadata": {
    "colab": {
     "base_uri": "https://localhost:8080/"
    },
    "id": "Tb5uEiyUQKde",
    "outputId": "e8f5b606-38a7-4867-9069-d43668101660"
   },
   "outputs": [],
   "source": [
    "def odd_even(bilangan):\n",
    "  if bilangan % 2 == 0:\n",
    "    print(\"Bilangan genap\")\n",
    "  else:\n",
    "    print(\"Bilangan ganjil\")\n",
    "\n",
    "try:\n",
    "  bilangan = int(input(\"Masukkan bilangan = \"))\n",
    "\n",
    "  if(bilangan < 1):\n",
    "    raise ValueError\n",
    "\n",
    "  odd_even(bilangan)\n",
    "\n",
    "except:\n",
    "  print(\"Harus angka, jangan huruf\")"
   ]
  },
  {
   "cell_type": "markdown",
   "metadata": {
    "id": "q5dZb9THSXrr"
   },
   "source": [
    "## Raise tanpa Exception\n",
    "\n",
    "``raise`` juga bisa dipanggil tanpa menyertakan nama exception-nya. Tapi ada satu catatan yang harus diperhatikan ketika menggunakan ``raise`` tanpa exception, yaitu:\n",
    "\n",
    ">1. \"Sebaiknya ``raise`` tanpa exception hanya digunakan di dalam blok ``except`` saja.\n",
    "2. Instruksi ``raise`` dalam blok except akan memanggil kembali exception yang sama dengan exception yang sedang ditangani.\n",
    "\n",
    "Berikut contoh penggunaannya:"
   ]
  },
  {
   "cell_type": "code",
   "execution_count": 28,
   "metadata": {
    "colab": {
     "base_uri": "https://localhost:8080/"
    },
    "id": "fqLNYeBVTr2I",
    "outputId": "583449a2-a978-42bf-a4f3-7d2185f440ca"
   },
   "outputs": [
    {
     "name": "stdout",
     "output_type": "stream",
     "text": [
      "I did it again!\n",
      "I see!\n",
      "THE END.\n"
     ]
    }
   ],
   "source": [
    "def bad_fun(n):\n",
    "    try:\n",
    "        return n / 0\n",
    "    except:\n",
    "        print(\"I did it again!\")\n",
    "        raise\n",
    "\n",
    "try:\n",
    "    bad_fun(0)\n",
    "except ArithmeticError:\n",
    "    print(\"I see!\")\n",
    "\n",
    "print(\"THE END.\")"
   ]
  },
  {
   "cell_type": "markdown",
   "metadata": {
    "id": "BGuCD7PcWYsZ"
   },
   "source": [
    "## Kata Kunci Assert\n",
    "\n",
    "Format pemanggilan kata kunci ``assert`` adalah sebagai berikut:\n",
    "\n",
    "```python\n",
    "assert expression\n",
    "```\n",
    "\n",
    "Fungsi assertion:\n",
    "\n",
    "1. Assert akan mengevaluasi ekspresi\n",
    "2. Jika ekspresi bernilai True atau nilai numerik bukan nol, atau string tidak kosong, atau nilai lain yang berbeda dari None tidak akan di eksekusi\n",
    "3. Jika selain itu akan muncul eksepsi AssertionError.\n",
    "\n",
    "Penggunaan assertion:\n",
    "\n",
    "1. Kita dapat menggunakan assertion jika kita ingin kode yang dibuat benar-benar aman dari data kita belum yakin kebenarannya\n",
    "2. Mengamankan kode dari hasil yang tidak valid\n",
    "assertion merupakan pelengkap exception.\n",
    "3. Assertion dapat digunakan sebagai suplemen dari built-in exception.\n",
    "\n",
    "Berikut contoh pengunaannya:"
   ]
  },
  {
   "cell_type": "code",
   "execution_count": 30,
   "metadata": {
    "colab": {
     "base_uri": "https://localhost:8080/",
     "height": 246
    },
    "id": "Izl6YqaFAT5q",
    "outputId": "25db219e-dccf-4dca-d50f-1c1af73f34c7"
   },
   "outputs": [
    {
     "name": "stdout",
     "output_type": "stream",
     "text": [
      "Enter a number: -1\n"
     ]
    },
    {
     "ename": "AssertionError",
     "evalue": "Angka kurang dari 0",
     "output_type": "error",
     "traceback": [
      "\u001b[0;31m---------------------------------------------------------------------------\u001b[0m",
      "\u001b[0;31mAssertionError\u001b[0m                            Traceback (most recent call last)",
      "Input \u001b[0;32mIn [30]\u001b[0m, in \u001b[0;36m<cell line: 4>\u001b[0;34m()\u001b[0m\n\u001b[1;32m      1\u001b[0m \u001b[38;5;28;01mimport\u001b[39;00m \u001b[38;5;21;01mmath\u001b[39;00m\n\u001b[1;32m      3\u001b[0m x \u001b[38;5;241m=\u001b[39m \u001b[38;5;28mfloat\u001b[39m(\u001b[38;5;28minput\u001b[39m(\u001b[38;5;124m\"\u001b[39m\u001b[38;5;124mEnter a number: \u001b[39m\u001b[38;5;124m\"\u001b[39m))\n\u001b[0;32m----> 4\u001b[0m \u001b[38;5;28;01massert\u001b[39;00m x \u001b[38;5;241m>\u001b[39m\u001b[38;5;241m=\u001b[39m \u001b[38;5;241m0.0\u001b[39m,\u001b[38;5;124m\"\u001b[39m\u001b[38;5;124mAngka kurang dari 0\u001b[39m\u001b[38;5;124m\"\u001b[39m\n\u001b[1;32m      6\u001b[0m x \u001b[38;5;241m=\u001b[39m math\u001b[38;5;241m.\u001b[39msqrt(x)\n\u001b[1;32m      8\u001b[0m \u001b[38;5;28mprint\u001b[39m(x)\n",
      "\u001b[0;31mAssertionError\u001b[0m: Angka kurang dari 0"
     ]
    }
   ],
   "source": [
    "import math\n",
    "\n",
    "x = float(input(\"Enter a number: \"))\n",
    "assert x >= 0.0,\"Angka kurang dari 0\"\n",
    "\n",
    "x = math.sqrt(x)\n",
    "\n",
    "print(x)"
   ]
  },
  {
   "cell_type": "markdown",
   "metadata": {
    "id": "SQ-NitQmAe7h"
   },
   "source": [
    "``AssertionError`` ini akan ditangkap oleh unit testing sebagai suplemen tambahan dalam pengujian ketika tidak ada built-in exception yang dapat digunakan."
   ]
  },
  {
   "cell_type": "markdown",
   "metadata": {
    "id": "WEw2DtX9A9DP"
   },
   "source": [
    "## Hands on Lab 7: AssertionError\n",
    "\n",
    "Jalankan dan pelajari kode program berikut:"
   ]
  },
  {
   "cell_type": "code",
   "execution_count": null,
   "metadata": {
    "id": "AKRV4aSgBE8H"
   },
   "outputs": [],
   "source": [
    "from math import tan, radians\n",
    "angle = int(input('Enter integral angle in degrees: '))\n",
    "\n",
    "# We must be sure that angle != 90 + k * 180\n",
    "assert angle % 180 != 90\n",
    "print(tan(radians(angle)))"
   ]
  },
  {
   "cell_type": "markdown",
   "metadata": {
    "id": "UMt8hD1pBQ7Z"
   },
   "source": [
    "## Hands on Lab 8: IndexError\n",
    "\n",
    "Jalankan dan pelajari kode program berikut:"
   ]
  },
  {
   "cell_type": "code",
   "execution_count": null,
   "metadata": {
    "colab": {
     "base_uri": "https://localhost:8080/"
    },
    "id": "bZ1Lyp9CBjtr",
    "outputId": "1df3119f-f419-4169-ce3f-e57ef64b9c26"
   },
   "outputs": [],
   "source": [
    "the_list = [1, 2, 3, 4, 5]\n",
    "ix = 0\n",
    "do_it = True\n",
    "\n",
    "while do_it:\n",
    "    try:\n",
    "        print(the_list[ix])\n",
    "        ix += 1\n",
    "    except IndexError:\n",
    "        do_it = False\n",
    "\n",
    "print('Done')"
   ]
  },
  {
   "cell_type": "markdown",
   "metadata": {
    "id": "EITMgdFTBte_"
   },
   "source": [
    "Kapan ``IndexError`` akan terjadi? "
   ]
  },
  {
   "cell_type": "markdown",
   "metadata": {
    "id": "PSK6dppHB0cn"
   },
   "source": [
    "## Hands on Lab 9: KeyboardInterrupt\n",
    "\n",
    "Buatlah kode program berikut memunculkan ``KeyboardInterrupt`` error (jalankan di lingkungan python anda masing-masing):\n",
    "\n",
    "```python\n",
    "from time import sleep\n",
    "\n",
    "seconds = 0\n",
    "\n",
    "while True:\n",
    "    try:\n",
    "        print(seconds)\n",
    "        seconds += 1\n",
    "        sleep(1)\n",
    "    except KeyboardInterrupt:\n",
    "        print(\"Don't do that!\")\n",
    "```"
   ]
  },
  {
   "cell_type": "markdown",
   "metadata": {
    "id": "BfrnBhHICSCq"
   },
   "source": [
    "## Hands on Lab 10: MemoryError\n",
    "\n",
    "Kapan kode program ini akan menghasilkan exception?\n",
    "\n",
    "```python\n",
    "string = 'x'\n",
    "try:\n",
    "    while True:\n",
    "        string = string + string\n",
    "        print(len(string))\n",
    "except MemoryError:\n",
    "    print('This is not funny!')\n",
    "```"
   ]
  },
  {
   "cell_type": "markdown",
   "metadata": {
    "id": "tdvcH45OCtfL"
   },
   "source": [
    "## Hands on Lab 11: OverflowError\n",
    "\n",
    "Kapan kode program ini menghasilkan exception?\n",
    "\n",
    "```python\n",
    "from math import exp\n",
    "\n",
    "ex = 1\n",
    "\n",
    "try:\n",
    "    while True:\n",
    "        print(exp(ex))\n",
    "        ex *= 2\n",
    "except OverflowError:\n",
    "    print('The number is too big.')\n",
    "```"
   ]
  },
  {
   "cell_type": "markdown",
   "metadata": {
    "id": "rAyLSugWDAwp"
   },
   "source": [
    "## Hands on Lab 12: ImportError\n",
    "\n",
    "Siapa penyebab exceptionnya?"
   ]
  },
  {
   "cell_type": "code",
   "execution_count": null,
   "metadata": {
    "id": "VYKwXG8vDGwB"
   },
   "outputs": [],
   "source": [
    "try:\n",
    "    import math\n",
    "    import time\n",
    "    import abracadabra\n",
    "\n",
    "except:\n",
    "    print('Import gagal.')"
   ]
  },
  {
   "cell_type": "markdown",
   "metadata": {
    "id": "RuZKDUuTDOp5"
   },
   "source": [
    "## Hands on Lab 13: KeyError\n",
    "\n",
    "Jalankan dan ubahlah kode program agar menghasilkan exception berupa ``KeyError``:"
   ]
  },
  {
   "cell_type": "code",
   "execution_count": 31,
   "metadata": {
    "id": "1NWP8DAHDYV9"
   },
   "outputs": [
    {
     "name": "stdout",
     "output_type": "stream",
     "text": [
      "No such key: d\n"
     ]
    }
   ],
   "source": [
    "dictionary = { 'a': 'b', 'b': 'c', 'c': 'd' }\n",
    "ch = 'd'\n",
    "\n",
    "try:\n",
    "    while True:\n",
    "        ch = dictionary[ch]\n",
    "        print(ch)\n",
    "except KeyError:\n",
    "    print('No such key:', ch)"
   ]
  }
 ],
 "metadata": {
  "colab": {
   "name": "Topic 6 - String, String and List Method, Exceptions.ipynb",
   "provenance": [],
   "toc_visible": true
  },
  "interpreter": {
   "hash": "aee8b7b246df8f9039afb4144a1f6fd8d2ca17a180786b69acc140d282b71a49"
  },
  "kernelspec": {
   "display_name": "Python 3 (ipykernel)",
   "language": "python",
   "name": "python3"
  },
  "language_info": {
   "codemirror_mode": {
    "name": "ipython",
    "version": 3
   },
   "file_extension": ".py",
   "mimetype": "text/x-python",
   "name": "python",
   "nbconvert_exporter": "python",
   "pygments_lexer": "ipython3",
   "version": "3.9.12"
  },
  "toc": {
   "base_numbering": 1,
   "nav_menu": {},
   "number_sections": true,
   "sideBar": true,
   "skip_h1_title": false,
   "title_cell": "Table of Contents",
   "title_sidebar": "Contents",
   "toc_cell": false,
   "toc_position": {
    "height": "calc(100% - 180px)",
    "left": "10px",
    "top": "150px",
    "width": "238.927px"
   },
   "toc_section_display": true,
   "toc_window_display": true
  }
 },
 "nbformat": 4,
 "nbformat_minor": 2
}
