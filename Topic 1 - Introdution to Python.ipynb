{
 "cells": [
  {
   "cell_type": "markdown",
   "metadata": {},
   "source": [
    "<b><font size = 45> Topic 1 - Introduction to Python </font></b>\n",
    "\n",
    "Topik ini berfokus membahas:\n",
    "\n",
    "1. Fundamental dari Pemrograman\n",
    "2. Perbedaan antara Kompilasi dan Interpreter\n",
    "3. Overview dari Python"
   ]
  },
  {
   "cell_type": "markdown",
   "metadata": {
    "id": "g4-xC9gmoGv1"
   },
   "source": [
    "# Bagaimana Program Komputer Bekerja?\n",
    "\n",
    "\"Komputer tanpa program adalah seonggok perangkat keras!\" Itulah kiranya ungkapan sederhana yang menggambarkan pentingnya kehadiran program komputer di dalam sebuah sistem komputer. Komputer dibuat untuk bisa mengeksekusi perintah dari penggunanya tanpa mengenal bosan dan lelah. Memang pada kenyataannya komputer memiliki keterbatasan yang timbul dari spesifikasi perangkat keras yang ada di dalamnya. \n",
    "\n",
    "Dalam sebuah organisasi, sudah sangat lazim untuk seorang pimpinan berharap pekerjanya untuk menjalankan tugasnya. Agar pekerja di organisasi itu bisa menjalankan tugasnya, pimpinan akan menginstruksikan perintah baik secara lisan maupun tulisan kepada pekerjanya untuk melakukan sesuatu. Begitu juga komputer, kita sebagai pengguna komputer harus menginstruksikan pekerjaan yang kita tugaskan untuk komputer. Perintah yang kita berikan disampaikan dalam bentuk program komputer.\n",
    "\n",
    "Dalam kasus perhitungan luas persegi panjang, komputer bisa melakukan perhitungan menggunakan rumus luas yang dibuat oleh Programmer akan tetapi komputer tidak menyadari apa itu panjang, lebar, dan luas persegi panjang. Yang komputer tahu hanyalah:\n",
    "1. Menerima input yang merepresentasikan panjang dari persegi panjang\n",
    "2. Menerima input berupa merepresentasikan lebar dari persegi panjang\n",
    "3. Mengkalikan dua angka input tersebut sesuai yang ada di instruksi dan menyimpan hasilnya dalam memori\n",
    "4. Menampilkan hasil (yang merepresentasikan luas persegi panjang) di dalam format yang bisa terbaca.\n",
    "\n",
    "Keempat langkah tersebut yang kita sebut dengan <B>PROGRAM</B>. Tentunya untuk bisa menyampaikan instruksi ke komputer, Programmer tidak bisa menyampaikan instruksinya dengan asal-asalan. Ada tata cara, aturan, dan susunan instruksi yang khusus bisa dipahami oleh komputer. Ada <B>BAHASA</B> khusus yang bisa digunakan oleh Programmer dalam memberikan intruksi kepada komputer. Bahasa tersebut disebut sebagai <B>BAHASA PEMROGRAMAN</B>.\n",
    "\n",
    "\n"
   ]
  },
  {
   "cell_type": "markdown",
   "metadata": {},
   "source": [
    "## Contoh Bahasa Natural\n",
    "\n",
    "Diketahui bilangan pertama adalah 10 dan bilangan kedua adalah 20. Berapa jumlah kedua bilangan tersebut? Manusia yang menerima instruksi tersebut maka akan menjalankan operasi aritmatika yaitu 10 + 20 = 30. Setelah menjalankan operasi aritmatika tersebut, manusia akan menyampaikan jawabannya baik menggunakan tulisan maupun lisan."
   ]
  },
  {
   "cell_type": "markdown",
   "metadata": {},
   "source": [
    "## Contoh Bahasa Pemrograman\n",
    "\n",
    "Berikut adalah hasil konversi bahasa natural menjadi bahasa pemrograman:"
   ]
  },
  {
   "cell_type": "code",
   "execution_count": 2,
   "metadata": {},
   "outputs": [],
   "source": [
    "a = 10\n",
    "b = 20\n",
    "\n",
    "c = a + b"
   ]
  },
  {
   "cell_type": "markdown",
   "metadata": {
    "id": "jjWbaEIpojjw"
   },
   "source": [
    "# Natural Language VS. Programming Language\n",
    "\n",
    "Seperti pada subbab sebelumnya bahwa komputer hanya bisa memahami bahasa khusus dalam mengeksekusi instruksi dari manusia. Sementara manusia biasanya menggunakan bahasa natural (bahasa yang dipakai sehari-hari dalam berkomunikasi) untuk memberikan instruksi kepada manusia lainnya. Tentunya sebuah keharusan untuk manusia mempelajari Bahasa Pemrograman agar bisa berkomunikasi dengan komputer.\n",
    "\n",
    "Berikut adalah contoh penggunaan natural language dan bahasa pemrograman dalam kasus penjumlahan dua buah bilangan:"
   ]
  },
  {
   "cell_type": "code",
   "execution_count": 1,
   "metadata": {
    "colab": {
     "base_uri": "https://localhost:8080/"
    },
    "id": "pS_TPm2YnXpT",
    "outputId": "68d8420e-6b72-441e-dd9d-cb45d3aa4f77"
   },
   "outputs": [
    {
     "name": "stdout",
     "output_type": "stream",
     "text": [
      "40\n"
     ]
    }
   ],
   "source": [
    "bilangan1 = 20\n",
    "bilangan2 = 20\n",
    "c = bilangan1 + bilangan2\n",
    "print(c)"
   ]
  },
  {
   "cell_type": "markdown",
   "metadata": {
    "id": "nap1rNwonyDe"
   },
   "source": [
    "Ciri khas bahasa pemrograman adalah keterbatasan vocabulary yang bisa digunakan untuk memberikan instruksi ke dalam komputer serta seringkali vocabulary-nya tidak sering berubah."
   ]
  },
  {
   "cell_type": "markdown",
   "metadata": {},
   "source": [
    "# What Makes a Language?\n",
    "\n",
    "Sebuah bahasa (dalam hal ini berlaku untuk bahasa natural dan bahasa pemrograman) tersusun atas:\n",
    "\n",
    "\n",
    "| Elemen Bahasa | Keterangan |\n",
    "| :--- | :--- | \n",
    "| <B>Alphabet</B> | Sekumpulan simbol yang bisa digunakan untuk menyusun kata (sebagai contoh: aksara jawa, huruf arab, huruf latin, aksara India, dll) |\n",
    "| <B>Lexis</B> | Dikenal juga sebagai kamus, sekumpulan kata dari sebuah bahasa yang bisa digunakan oleh pengguna bahasa tersebut |\n",
    "| <B>Syntax</B> | Sekumpulan aturan untuk menentukan apakah sekumpulan kata membentuk kalimat yang benar |\n",
    "| <B>Semantics</B> | Sekumpulan aturan yang menentukan apakah sebsebuah frasa \"masuk akal\" untuk digunakan |\n",
    "\n",
    "Bahasa pemrograman sendiri memiliki 3 jenis, yaitu:\n",
    "\n",
    "1. High-level\n",
    "2. Middle-level\n",
    "3. Low-Level\n",
    "\n",
    "Semakin tinggi level bahasa pemrograman maka makin mudah dimengerti oleh manusia akan tetapi butuh \"perjuangan\" untuk bisa diterjemahkan dalam bahasa yang dimengerti oleh komputer (bahasa mesin) begitu pun sebaliknya. Program yang ditulis dalam bahasa tingkat tinggi disebut <B>SOURCE CODE</B>. Sementara file yang di dalamnya dituliskan source code disebut sebagai <B>SOURCE FILE</B>."
   ]
  },
  {
   "cell_type": "markdown",
   "metadata": {
    "id": "WaJhLXE0o-Ai"
   },
   "source": [
    "# Compilation vs. Interpretation\n",
    "\n",
    "Computer Programming adalah langkah untuk menyusun bahasa pemrograman yang dipilih dalam sebuah urutan yang akan memunculkan efek sesuai yang diharapkan.\n",
    "\n",
    "Komposisi dalam pemrograman adalah:\n",
    "\n",
    "| Komposisi | Keterangan |\n",
    "| :--- | :--- |\n",
    "| <B>Alphabetically</B> | Sebuah program ditulis dalam script yang dikenali |\n",
    "| <B>Lexically</B> | Setiap bahasa pemrograman mempunyai kamusnya masing-masing | \n",
    "| <B>Syntactically</B> | Setiap bahasa mempunya aturan yang harus dipenuhi |\n",
    "| <B>Semantically</B> | Program yang dibuat harus \"Masuk Akal\" |\n",
    "\n",
    " Seperti pada subbab sebelumnya bahwa bahasa pemrograman tingkat tinggi tidak dimengerti oleh komputer. Agar komputer bisa menjalankan perintah tersebut, maka source code akan ditransformasi ke dalam bentuk bahasa mesin. Ada dua cara mengubah bahasa pemrograman tingkat tinggi menjadi bahasa mesin:\n",
    " \n",
    "1.   <B>Kompilasi</B> - source code akan diterjemahkan sekali (setiap kali ada perubahan kode program maka source code harus dikompilasi ulang) menjadi sebuah file yang berisi kode mesin. File yang dihasilkan oleh proses ini bisa didistribusikan. Program yang melakukan proses kompilasi disebut sebagai <B> COMPILER atau TRANSLATOR</B>\n",
    "2.   <B>Interpretasi</B> - Pengguna dari kode program dapat menerjemahkan kode program setiap kali dijalankan. Program yang melalukan interpretasi disebut sebagai <B>INTERPRETER</B>. Interpreter akan menginterpretasikan kode setiap kali dieksekusi. Komputer lain yang mau menjalankan program menggunakan konsep ini harus menyalin source code-nya kemudian menginterpretasikan sendiri di komputernya.\n",
    "\n",
    "Kelebihan dan kekurangan dari proses kompilasi dengan interpretasi dapat dilihat pada tabel berikut:\n",
    "\n",
    "| <B>JENIS</B> | <B>KOMPILASI</B> | <B>INTERPRETASI</B> |\n",
    "| :-: | :-- | :-- |\n",
    "| Kelebihan | Eksekusi file output dari proses kompilas lebih cepat | Kita bisa langsung menjalankan program ketika selesai memprogram |\n",
    "|  | Proses kompilasi cukup dijalankan oleh Programmer | Kode program disimpan dalam bentuk source code, bukan bahasa mesin\n",
    "|  | Untuk bisa melihat isi kode program di file executable membutuhkan perjuangan |\n",
    "|  Kekurangan | Proses kompilasi memakan waktu yang terkadang lama | Menjalankan proses interpretasi membutuhkan waktu\n",
    "|  | Setiap platform hardware membutuhkan compilator yang berbeda | Baik developer maupun pengguna harus memiliki interpreter |"
   ]
  },
  {
   "cell_type": "markdown",
   "metadata": {
    "id": "NNSzXA4yrk3_"
   },
   "source": [
    "\n",
    "# What does the interpreter actually do?\n",
    "\n",
    "Untuk bisa diinterpretasikan, source code tidak boleh diberikan dekorasi (seperti dicetak tebal, miring, berwarna, dll). Cara kerja interpreter dapat dilihat pada gambar berikut:\n",
    "\n",
    "<img src = \"https://i.ytimg.com/vi/pkbVriAqV2Q/maxresdefault.jpg\" alt = \"Cara kerja interpreter\">\n",
    "\n",
    "Ketika sebuah source code mengandung error, maka interpreter akan memberitahukan jenis kesalahan beserta letak kesalahannya. Python adalah bahasa interpreter sehingga pemrosesannya mengikuti cara interpretasi. Untuk bisa menjalankannya, kita membutuhkan <B>PYTHON INTERPRETER</B>."
   ]
  },
  {
   "cell_type": "markdown",
   "metadata": {
    "id": "ctVBTbQ2w30D"
   },
   "source": [
    "# Overview Python\n",
    "\n",
    "Python adalag sebuah bahasa pemrograman yang digunakan secara luas, objec-oriented, dan bahasa pemrograman tingkat tinggi dengan Dynamic semantic, serta digunakan untk pemrograman general-purpose. Pencipta bahasa ini adalah Guido van Rossum.\n",
    "\n",
    "<img src = \"https://pbs.twimg.com/media/EL6q1LeXUAMOER1.jpg\" alt = \"Foto Guido van Rossum\">\n",
    "\n",
    "Kelebihan yang dimiliki oleh Python adalah:\n",
    "\n",
    "1.   Mudah dipelajari\n",
    "2.   Mudah untuk diajarkan\n",
    "3.   Mudah digunakan\n",
    "4.   Mudah dipahami\n",
    "5.   Mudah dimiliki, diinstalasi, dan di-deploy\n",
    "\n",
    "Alasan kenapa tidak menggunakan Python?\n",
    "\n",
    "1.   Kurangnya dukungan untuk melakukan Low-level programming (sebagai contoh ketika akan memprogram driver untuk suatu hardware)\n",
    "2.   Kurangnya dukungan untuk memprogram aplikasi Mobile."
   ]
  },
  {
   "cell_type": "markdown",
   "metadata": {
    "id": "jP7omlHJKNYj"
   },
   "source": [
    "## Python 2 vs. Python 3\n",
    "\n",
    "Apabila kita mau mengunduh Python Interpreter maka kita bisa menemukan dua versi Python, yaitu: <B> PYTHON 2 dan 3</B>. Pada program kali ini, kita akan menggunakan Python 3 sebagai versi yang paling baru dari Python. Dua versi ini memiliki beberapa perbedaan sehingga tidak semua kode program dari Python 2 bisa dijalankan di Python 3, begitu pun sebaliknya.\n",
    "\n",
    "Link unduh Python 3 adalah <a href = \"https://www.python.org/downloads/\"> UNDUH PYTHON 3</a>. Silakan gunakan versi terbaru. Untuk pengguna linux, biasanya Python 3 sudah terinstal secara default. Untuk pengguna Mac OS, silakan lakukan instalasi Python 3 dengan cara mengunduh file instalasi atau bisa menggunakan Home Brew."
   ]
  },
  {
   "cell_type": "markdown",
   "metadata": {
    "id": "i-F9yWFUKRCC"
   },
   "source": [
    "## Family Python\n",
    "\n",
    "Selain versi Python 2 dan 3, Python memiliki family lain, yaitu:\n",
    "\n",
    "| <B>Family</B> | <B>Keterangan</B> |\n",
    "| :--- | :--- |\n",
    "| Python a.k.a CPython | Python yang sering digunakan dan dibuat oleh Guido van Rassum. Bahasa ini dibangun menggunakan bahasa pemrograman C (sering dikenal sebagai CPython). |\n",
    "| Cython | Bahasa ini meiliki kelemahan karena time-consuming dan lebih kompleks dibandingkan Python |\n",
    "| Jython | Python yang ditulis menggunakan bahasa pemrograman Java. Sering digunakan untuk membangun complex system tapi ingin ada dukungan Python di dalamnya untuk beberapa bagian. |\n",
    "| PyPy dan RPython | Subset dari Python. Seringkali digunakan untuk testing. |\n",
    "\n",
    "Secara umum, di program ini kita akan menggunakan <B>CPython</B>."
   ]
  },
  {
   "cell_type": "markdown",
   "metadata": {
    "id": "4_OdZPMB2-B6"
   },
   "source": [
    "# Cara Menjalankan Python\n",
    "\n",
    "Untuk bisa menjalankan Python Interpreter, kita lakukan langkah berikut:\n",
    "\n",
    "1. Buka Command Prompt (Windows) atau Terminal (Linux atau Mac OS)\n",
    "2. Ketikkan perintah python3 lalu klik ENTER/RETURN (Mac).\n",
    "\n",
    "![Tampilan Python3](https://drive.google.com/uc?export=view&id=1F5EX6a1nfQk_e25x6uAE1IFGWE-LthQZ)\n",
    "\n",
    "Apabila tidak melihat tampilan eksekusi seperti pada gambar, pastikan cek apakah Python 3 sudah terdaftar sebagai Environment Variable atau tidak."
   ]
  },
  {
   "cell_type": "markdown",
   "metadata": {
    "id": "6SUlvKf16hCX"
   },
   "source": [
    "# IDE untuk Python\n",
    "\n",
    "Untuk mempermudah pemrograman menggunakan Python, kita bisa memprogram menggunakan IDE (Integrated Development Environment). Sebenarnya, kita bisa menggunakan teks editor yang sudag tersedia di Sistem Operasi yang kita gunakan akan tetapi akan ada banyak kemudahan yang ditawarkan.\n",
    "\n",
    "Salah satu IDE yang bisa digunakan adalah <B>PyCharm</B>. Silakan unduh di <a href = \"https://www.jetbrains.com/pycharm/download/\">LINK INI</a>.\n",
    "\n",
    "<img src = \"https://www.jetbrains.com/pycharm/img/screenshots/simpleLook@2x.jpg\" alt = \"Gambar Pycharm\">\n",
    "\n",
    "Selain menggunakan IDE, kita juga bisa menggunakan Teks Editor <B>MICROSOFT VISUAL STUDIO CODE</B> yang dapat diunduh di <a href =\"https://code.visualstudio.com/download\">LINK INI</a>.\n",
    "\n",
    "<img src = \"https://devblogs.microsoft.com/python/wp-content/uploads/sites/12/2019/09/Sept19-Linting.png\" alt = \"Gambar Visual Studio Code\">\n"
   ]
  },
  {
   "cell_type": "markdown",
   "metadata": {
    "id": "3RzDu8mZ9q6d"
   },
   "source": [
    "# Hands on Lab: Python (print, sang fungsi jagoan)\n",
    "\n",
    "Setelah melakukan proses instalasi Python Interpreter maka kita bisa mulai untuk memprogram menggunakan Python."
   ]
  },
  {
   "cell_type": "markdown",
   "metadata": {
    "id": "xdhH52GhG4Qp"
   },
   "source": [
    "## Kasus 1 (Print Namamu)\n",
    "\n",
    "Silakan coba kode program berikut:"
   ]
  },
  {
   "cell_type": "code",
   "execution_count": 63,
   "metadata": {
    "colab": {
     "base_uri": "https://localhost:8080/"
    },
    "id": "P7EQ5RiPBgxV",
    "outputId": "70b911a8-cac3-457a-e18e-3fe7e94e1518"
   },
   "outputs": [
    {
     "name": "stdout",
     "output_type": "stream",
     "text": [
      "Halo, selamat datang\n",
      "Adam Mukharil Bachtiar\n"
     ]
    }
   ],
   "source": [
    "#Contoh penggunaan print\n",
    "print(\"Halo, selamat datang\")\n",
    "\n",
    "#Ketikkan kode anda di bawah ini\n",
    "print(\"Adam Mukharil Bachtiar\")"
   ]
  },
  {
   "cell_type": "markdown",
   "metadata": {
    "id": "isZPOHhdCld3"
   },
   "source": [
    "Coba jalankan perintah di bawah ini:"
   ]
  },
  {
   "cell_type": "code",
   "execution_count": 64,
   "metadata": {
    "colab": {
     "base_uri": "https://localhost:8080/",
     "height": 129
    },
    "id": "71iWB1uFC8Zn",
    "outputId": "1d46852e-7eb2-446d-87f0-3df8f44bf762"
   },
   "outputs": [
    {
     "ename": "SyntaxError",
     "evalue": "Missing parentheses in call to 'print'. Did you mean print(Halo, Selamat Datang)? (<ipython-input-64-cbd310369c1f>, line 1)",
     "output_type": "error",
     "traceback": [
      "\u001b[0;36m  File \u001b[0;32m\"<ipython-input-64-cbd310369c1f>\"\u001b[0;36m, line \u001b[0;32m1\u001b[0m\n\u001b[0;31m    print Halo, Selamat Datang\u001b[0m\n\u001b[0m          ^\u001b[0m\n\u001b[0;31mSyntaxError\u001b[0m\u001b[0;31m:\u001b[0m Missing parentheses in call to 'print'. Did you mean print(Halo, Selamat Datang)?\n"
     ]
    }
   ],
   "source": [
    "print Halo, Selamat Datang"
   ]
  },
  {
   "cell_type": "markdown",
   "metadata": {
    "id": "0-uj2bpHDBvW"
   },
   "source": [
    "Kode program tersebut akan menghasilkan error karena tidak mengikuti aturan yang ada di Python. Inilah kenapa pada subbab sebelumnya dikatakan bahwa sebuah bahasa pemrograman mempunyai aturan yang harus diikuti."
   ]
  },
  {
   "cell_type": "markdown",
   "metadata": {
    "id": "l6OMdj9jDr40"
   },
   "source": [
    "## Kasus 2 (print perhitungan aritmatika)\n",
    "\n",
    "Silakan coba kode program berikut"
   ]
  },
  {
   "cell_type": "code",
   "execution_count": 1,
   "metadata": {
    "colab": {
     "base_uri": "https://localhost:8080/"
    },
    "id": "YXkpWGg-EIDb",
    "outputId": "02e27aea-f571-436f-caaf-14269b2ea497"
   },
   "outputs": [
    {
     "name": "stdout",
     "output_type": "stream",
     "text": [
      "17\n",
      "49\n",
      "-2\n"
     ]
    }
   ],
   "source": [
    "print(7+10)\n",
    "print(7**2)\n",
    "print(3-5)"
   ]
  },
  {
   "cell_type": "markdown",
   "metadata": {
    "id": "TNCDOfLjEX7l"
   },
   "source": [
    "## Kasus 3 (Penggunaan Variabel)\n",
    "\n",
    "variabel digunakan untuk menampung suatu nilai untuk kemudian digunakan pada instruksi berikutnya."
   ]
  },
  {
   "cell_type": "code",
   "execution_count": 2,
   "metadata": {
    "colab": {
     "base_uri": "https://localhost:8080/"
    },
    "id": "KyZ_IPidGnzv",
    "outputId": "1a22e747-4119-439d-e176-8f4f5f107d57"
   },
   "outputs": [
    {
     "name": "stdout",
     "output_type": "stream",
     "text": [
      "Adam Mukharil Bachtiar\n",
      "11\n"
     ]
    }
   ],
   "source": [
    "nama = \"Adam Mukharil Bachtiar\"\n",
    "bil = 10 + 1\n",
    "\n",
    "print(nama)\n",
    "print(bil)"
   ]
  },
  {
   "cell_type": "markdown",
   "metadata": {
    "id": "K_whDX_3GrT0"
   },
   "source": [
    "untuk mengetahui tipe data dari variabel, kita bisa menggunakan fungsi type. Contohnya sebagai berikut:"
   ]
  },
  {
   "cell_type": "code",
   "execution_count": null,
   "metadata": {
    "colab": {
     "base_uri": "https://localhost:8080/"
    },
    "id": "JSsym9oBHC8l",
    "outputId": "dd9f0aef-8158-4514-ea68-48f0ea3e155f"
   },
   "outputs": [],
   "source": [
    "nama = \"Adam Mukharil Bachtiar\"\n",
    "bil = 10 + 1\n",
    "\n",
    "tipenama = type(nama)\n",
    "\n",
    "print(tipenama)\n",
    "print(type(bil))"
   ]
  },
  {
   "cell_type": "markdown",
   "metadata": {
    "id": "BWiqm22KHop3"
   },
   "source": [
    "Variabel bisa diubah nilainya. Nilai terakhir yang akan disimpan."
   ]
  },
  {
   "cell_type": "code",
   "execution_count": null,
   "metadata": {
    "colab": {
     "base_uri": "https://localhost:8080/"
    },
    "id": "v3p57vcgHs2e",
    "outputId": "99b7efe9-9079-409d-9b79-573c8467710e"
   },
   "outputs": [],
   "source": [
    "nama = \"Adam Mukharil Bachtiar\"\n",
    "nama = \"Budi Setiadi\"\n",
    "\n",
    "print(nama)"
   ]
  },
  {
   "cell_type": "markdown",
   "metadata": {
    "id": "oo7uX5C0H5oW"
   },
   "source": [
    "Kita juga bisa menginisialisasi variabel dalam satu waktu."
   ]
  },
  {
   "cell_type": "code",
   "execution_count": null,
   "metadata": {
    "colab": {
     "base_uri": "https://localhost:8080/"
    },
    "id": "Hr-2QlmnH_PU",
    "outputId": "5c4a1eb3-af67-46d8-8c45-601b891a6432"
   },
   "outputs": [],
   "source": [
    "x = y = z = 10\n",
    "\n",
    "print(x)\n",
    "print(y)\n",
    "print(z)"
   ]
  },
  {
   "cell_type": "code",
   "execution_count": 5,
   "metadata": {
    "colab": {
     "base_uri": "https://localhost:8080/"
    },
    "id": "KYkDDDHwJgUP",
    "outputId": "aabc5d59-a987-4022-be44-8a4bd2952fe5"
   },
   "outputs": [
    {
     "name": "stdout",
     "output_type": "stream",
     "text": [
      "Adam Mukharil Bachtiar\n",
      "10\n",
      "3.2\n",
      "<class 'str'>\n",
      "<class 'int'>\n",
      "<class 'float'>\n"
     ]
    }
   ],
   "source": [
    "nama, bil, pecahan = \"Adam Mukharil Bachtiar\", 10, 3.2\n",
    "\n",
    "print(nama)\n",
    "print(bil)\n",
    "print(pecahan)\n",
    "\n",
    "print(type(nama))\n",
    "print(type(bil))\n",
    "print(type(pecahan))"
   ]
  },
  {
   "cell_type": "markdown",
   "metadata": {
    "id": "txKhz4Kix5ZF"
   },
   "source": [
    "# Code Styling di Python\n",
    "\n",
    "Python merupakan salah satu bahasa yang fleksibel dan salah satuya karena kita bisa menerapkan code styling beraneka ragam di bahasa tersebut. Akan tetapi, tugas kita sebagai Programmer adalah membuat kode yang bersih dan mudah terbaca agar kita mudah memelihara kode program yang dibuat. \n",
    "\n",
    "Untuk bisa mengetahui standar Code Styling pada Python, silakan buka <a href = \"https://www.python.org/dev/peps/pep-0008/\">Link PEP8</a> yang berisi standar umum Code Styling di Python. Selain itu ada beberapa add on di teks editor atau IDE yang kita gunakan untuk memastikan apakah kode program yang diketik sudah mengikuti standar PEP8 ini atau tidak. Sebagai contoh di Atom Editor, terdapat add on <a href = \"https://atom.io/packages/linter-python-pep8\">Link Linter PEP8 for Atom</a>."
   ]
  },
  {
   "cell_type": "code",
   "execution_count": 1,
   "metadata": {
    "id": "rnwtNodVzC3K"
   },
   "outputs": [
    {
     "name": "stdout",
     "output_type": "stream",
     "text": [
      "200\n",
      "200\n",
      "200\n",
      "57\n",
      "57\n"
     ]
    }
   ],
   "source": [
    "#baik\n",
    "print(10 * 20)\n",
    "\n",
    "#kurang baik\n",
    "print (10 * 20)\n",
    "\n",
    "#kurang baik\n",
    "print(         10 * 20)\n",
    "\n",
    "#baik untuk membedakan prioritas operator\n",
    "print(7*8 + 1) \n",
    "\n",
    "#kurang baik\n",
    "print(7 * 8 + 1)"
   ]
  },
  {
   "cell_type": "code",
   "execution_count": 10,
   "metadata": {},
   "outputs": [
    {
     "name": "stdout",
     "output_type": "stream",
     "text": [
      "Hasil dari penjumlahan 10 dengan 11 adalah 21\n",
      "Nama orang itu adalah: Budi\n"
     ]
    }
   ],
   "source": [
    "a = 10\n",
    "b = 11\n",
    "c = a + b\n",
    "nama = \"Budi\"\n",
    "\n",
    "print(\"Hasil dari penjumlahan \"+str(a)+\" dengan \"+str(b)+\" adalah \"+str(c))\n",
    "print(\"Nama orang itu adalah: \"+nama)"
   ]
  }
 ],
 "metadata": {
  "colab": {
   "collapsed_sections": [],
   "name": "Topic 1 - Introdution to Python.ipynb",
   "provenance": [],
   "toc_visible": true
  },
  "interpreter": {
   "hash": "aee8b7b246df8f9039afb4144a1f6fd8d2ca17a180786b69acc140d282b71a49"
  },
  "kernelspec": {
   "display_name": "Python 3 (ipykernel)",
   "language": "python",
   "name": "python3"
  },
  "language_info": {
   "codemirror_mode": {
    "name": "ipython",
    "version": 3
   },
   "file_extension": ".py",
   "mimetype": "text/x-python",
   "name": "python",
   "nbconvert_exporter": "python",
   "pygments_lexer": "ipython3",
   "version": "3.9.13"
  },
  "toc": {
   "base_numbering": 1,
   "nav_menu": {},
   "number_sections": true,
   "sideBar": true,
   "skip_h1_title": false,
   "title_cell": "Table of Contents",
   "title_sidebar": "Contents",
   "toc_cell": false,
   "toc_position": {},
   "toc_section_display": true,
   "toc_window_display": true
  }
 },
 "nbformat": 4,
 "nbformat_minor": 4
}
