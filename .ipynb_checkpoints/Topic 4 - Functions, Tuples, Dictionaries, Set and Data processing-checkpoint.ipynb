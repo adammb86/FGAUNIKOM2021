{
 "cells": [
  {
   "cell_type": "markdown",
   "metadata": {
    "id": "_PMri4jQQhtL"
   },
   "source": [
    "<b><font size = 30>Topic 4 - Functions, Tuples, Dictionaries, Set, and Data processing</font></b>\n",
    "\n",
    "Topik ini akan membahas perihal:\n",
    "\n",
    "1. Strukturisasi kode dan konsep fungsi\n",
    "2. Pemanggilan fungsi dan pengembalian nilai dari fungsi\n",
    "3. Name scopes dan Variable Shadowing\n",
    "4. Struktur data tuples\n",
    "5. Struktur data dictionaries\n",
    "6. Struktur data set\n",
    "7. Pemrosesan data menggunakan struktur data tersebut.\n",
    "8. Pengantar Exception\n"
   ]
  },
  {
   "cell_type": "markdown",
   "metadata": {
    "id": "oBEghpX1RQh4"
   },
   "source": [
    "# Function dalam Python\n",
    "\n",
    "Dalam pemrograman, kita mengenal istilah fungsi. Fungsi dibuat dengan dua tujuan:\n",
    "\n",
    "1. Melakukan sesuatu\n",
    "2. Mengembalikan nilai\n",
    "\n",
    "Kode program sebenarnya bisa saja dibuat tidak dalam bentuk fungsi tapi modularitasnya akan berkurang. Sejauh ini, kita sudah mencoba banyak fungsi bawaan dari Python (Built-in function). Pada sesi kali ini, kita akan mencoba membuat fungsi kita sendiri yang sesuai dengan kebutuhan kita. Kenapa kita butuh fungsi?\n",
    "\n",
    "1. Untuk mengakomodir bagian dari suatu kode program yang digunakan secara repetitif.\n",
    "2. Memudahkan proses debugging karena fungsi memungkinkan kita untuk memecah 1 blok kode program menjadi beberapa bagian (dikenal sebagai proses <B>Dekomposisi</B>).\n",
    "3. Menjalankan prinsip <B>\"Loosely Copling, High Cohesion\"</B>\n",
    "\n",
    "<img src =\"https://i.pinimg.com/originals/37/1f/28/371f2834c2552f3dc27ff5c5c2ff8a76.png\" alt = \"Ilustrasi Dekomposisi\">\n",
    "\n",
    "Fungsi di Python bisa berasal dari:\n",
    "\n",
    "1. Built-in function\n",
    "2. Pre-installed Module atau library yang digunakan di Python\n",
    "3. Function buatan sendiri.\n",
    "\n",
    "Format fungsi di dalam python adalah:\n",
    "\n",
    "```python\n",
    "def nama_fungsi():\n",
    "  instruksi_dalam_fungsi\n",
    "```\n",
    "\n",
    "><B>Catatan:</B>``def`` adalah singkatan dari define.\n",
    "\n",
    "Setelah didefinisikan, maka fungsi bisa dipanggil atau istilahnya dikenal dengan <B>Function Invocation</B>. Cara pemanggilan fungsi cukup dengan memanggil nama fungsinya beserta parameter (Jika ada). Format umum function invocation adalah:\n",
    "\n",
    "```python\n",
    "nama_fungsi()\n",
    "```\n"
   ]
  },
  {
   "cell_type": "markdown",
   "metadata": {
    "id": "o3I8OW0aVsga"
   },
   "source": [
    "## Hands on Lab 1: Mari buat fungsi\n",
    "\n",
    "Ubah perintah berikut menjadi bentuk fungsi:\n",
    "\n",
    "```python\n",
    "# Motivasi function adalah perulangan kode\n",
    "\n",
    "print(\"Masukkan sebuah angka: \")\n",
    "a = float(input())\n",
    "print(a)\n",
    "\n",
    "print(\"Masukkan sebuah angka: \")\n",
    "b = float(input())\n",
    "print(b)\n",
    "\n",
    "print(\"Masukkan sebuah angka: \")\n",
    "c = float(input())\n",
    "print(c)\n",
    "```"
   ]
  },
  {
   "cell_type": "code",
   "execution_count": null,
   "metadata": {
    "colab": {
     "base_uri": "https://localhost:8080/",
     "height": 545
    },
    "executionInfo": {
     "elapsed": 579743,
     "status": "error",
     "timestamp": 1627266072591,
     "user": {
      "displayName": "Adam Mukharil Bachtiar",
      "photoUrl": "https://lh3.googleusercontent.com/a-/AOh14GgJw6pmR0uaa0upvAW6cptf4bPmiEhm1MAS1rx45as=s64",
      "userId": "18309246717753247212"
     },
     "user_tz": -420
    },
    "id": "QyjAeyf8WBDk",
    "outputId": "e07dbad9-51fe-4ac3-9f96-94f3727ebe1b"
   },
   "outputs": [],
   "source": [
    "def input_value():\n",
    "  print(\"Masukkan sebuah angka: \")\n",
    "  a = float(input())\n",
    "  print(a)\n",
    "\n",
    "input_value() # function invocation\n",
    "input_value()\n",
    "input_value()"
   ]
  },
  {
   "cell_type": "markdown",
   "metadata": {
    "id": "QMZjtn1amiJE"
   },
   "source": [
    "## Aturan Fungsi di Python\n",
    "\n",
    "Ada dua aturan yang wajib dipenuhi ketika kita membuat fungsi sendiri.\n",
    "\n",
    "1. Fungsi harus terdefinisi dahulu baru kemudian bisa dipanggil (invocation). Urutan penempatan fungsi yang salah bisa mengakibatkan ``NameError``.\n",
    "2. Jangan samakan antara nama fungsi dengan nama variabel agar tidak saling menimpa."
   ]
  },
  {
   "cell_type": "markdown",
   "metadata": {
    "id": "WJXtmBa0nAA2"
   },
   "source": [
    "## Hands on Lab 2: Definisikan dulu fungsinya\n",
    "\n",
    "Jalankan kode program tersebut, lalu coba jalankan perbaikannya."
   ]
  },
  {
   "cell_type": "code",
   "execution_count": 13,
   "metadata": {
    "colab": {
     "base_uri": "https://localhost:8080/",
     "height": 249
    },
    "executionInfo": {
     "elapsed": 388,
     "status": "error",
     "timestamp": 1627266077255,
     "user": {
      "displayName": "Adam Mukharil Bachtiar",
      "photoUrl": "https://lh3.googleusercontent.com/a-/AOh14GgJw6pmR0uaa0upvAW6cptf4bPmiEhm1MAS1rx45as=s64",
      "userId": "18309246717753247212"
     },
     "user_tz": -420
    },
    "id": "PiNWPNrlnPVx",
    "outputId": "1d2eb1d8-1cd0-4583-a756-dfb79cc583ff"
   },
   "outputs": [
    {
     "name": "stdout",
     "output_type": "stream",
     "text": [
      "Kita mulai di sini.\n"
     ]
    },
    {
     "ename": "TypeError",
     "evalue": "'int' object is not callable",
     "output_type": "error",
     "traceback": [
      "\u001b[0;31m---------------------------------------------------------------------------\u001b[0m",
      "\u001b[0;31mTypeError\u001b[0m                                 Traceback (most recent call last)",
      "Input \u001b[0;32mIn [13]\u001b[0m, in \u001b[0;36m<cell line: 2>\u001b[0;34m()\u001b[0m\n\u001b[1;32m      1\u001b[0m \u001b[38;5;28mprint\u001b[39m(\u001b[38;5;124m\"\u001b[39m\u001b[38;5;124mKita mulai di sini.\u001b[39m\u001b[38;5;124m\"\u001b[39m)\n\u001b[0;32m----> 2\u001b[0m \u001b[43mmessage\u001b[49m\u001b[43m(\u001b[49m\u001b[43m)\u001b[49m\n\u001b[1;32m      3\u001b[0m \u001b[38;5;28mprint\u001b[39m(\u001b[38;5;124m\"\u001b[39m\u001b[38;5;124mKita akhiri di sini.\u001b[39m\u001b[38;5;124m\"\u001b[39m)\n\u001b[1;32m      5\u001b[0m \u001b[38;5;28;01mdef\u001b[39;00m \u001b[38;5;21mmessage\u001b[39m():\n",
      "\u001b[0;31mTypeError\u001b[0m: 'int' object is not callable"
     ]
    }
   ],
   "source": [
    "print(\"Kita mulai di sini.\")\n",
    "message()\n",
    "print(\"Kita akhiri di sini.\")\n",
    "\n",
    "def message():\n",
    "  print(\"Masukkan sebuah angka: \")"
   ]
  },
  {
   "cell_type": "code",
   "execution_count": 14,
   "metadata": {
    "colab": {
     "base_uri": "https://localhost:8080/"
    },
    "executionInfo": {
     "elapsed": 383,
     "status": "ok",
     "timestamp": 1627266141607,
     "user": {
      "displayName": "Adam Mukharil Bachtiar",
      "photoUrl": "https://lh3.googleusercontent.com/a-/AOh14GgJw6pmR0uaa0upvAW6cptf4bPmiEhm1MAS1rx45as=s64",
      "userId": "18309246717753247212"
     },
     "user_tz": -420
    },
    "id": "Plh4RU_BnmZe",
    "outputId": "85c69536-d24b-42a4-c7eb-c0fe3e8f005e"
   },
   "outputs": [
    {
     "name": "stdout",
     "output_type": "stream",
     "text": [
      "Kita mulai di sini.\n",
      "Masukkan sebuah angka: \n",
      "Kita akhiri di sini.\n"
     ]
    }
   ],
   "source": [
    "def message():\n",
    "  print(\"Masukkan sebuah angka: \")\n",
    "\n",
    "print(\"Kita mulai di sini.\")\n",
    "message()\n",
    "print(\"Kita akhiri di sini.\")"
   ]
  },
  {
   "cell_type": "markdown",
   "metadata": {
    "id": "Rsv2SwoRoImm"
   },
   "source": [
    "## Hands on Lab 3: Jangan samakan nama fungsi dengan variabel\n",
    "\n",
    "Coba jalankan kode program berikut:"
   ]
  },
  {
   "cell_type": "code",
   "execution_count": 12,
   "metadata": {
    "colab": {
     "base_uri": "https://localhost:8080/",
     "height": 130
    },
    "executionInfo": {
     "elapsed": 438,
     "status": "error",
     "timestamp": 1627266328501,
     "user": {
      "displayName": "Adam Mukharil Bachtiar",
      "photoUrl": "https://lh3.googleusercontent.com/a-/AOh14GgJw6pmR0uaa0upvAW6cptf4bPmiEhm1MAS1rx45as=s64",
      "userId": "18309246717753247212"
     },
     "user_tz": -420
    },
    "id": "1KSYJKggoR8S",
    "outputId": "4663e344-aa60-47f3-adb9-93fa9c2e432f"
   },
   "outputs": [
    {
     "ename": "TypeError",
     "evalue": "'int' object is not callable",
     "output_type": "error",
     "traceback": [
      "\u001b[0;31m---------------------------------------------------------------------------\u001b[0m",
      "\u001b[0;31mTypeError\u001b[0m                                 Traceback (most recent call last)",
      "Input \u001b[0;32mIn [12]\u001b[0m, in \u001b[0;36m<cell line: 5>\u001b[0;34m()\u001b[0m\n\u001b[1;32m      2\u001b[0m   \u001b[38;5;28mprint\u001b[39m(\u001b[38;5;124m\"\u001b[39m\u001b[38;5;124mAloha... Saya fungsi message\u001b[39m\u001b[38;5;124m\"\u001b[39m)\n\u001b[1;32m      4\u001b[0m message \u001b[38;5;241m=\u001b[39m \u001b[38;5;241m1\u001b[39m\n\u001b[0;32m----> 5\u001b[0m \u001b[43mmessage\u001b[49m\u001b[43m(\u001b[49m\u001b[43m)\u001b[49m\n",
      "\u001b[0;31mTypeError\u001b[0m: 'int' object is not callable"
     ]
    }
   ],
   "source": [
    "def message():\n",
    "  print(\"Aloha... Saya fungsi message\")\n",
    "\n",
    "message = 1\n",
    "message()"
   ]
  },
  {
   "cell_type": "markdown",
   "metadata": {
    "id": "lSoDIQlVobxa"
   },
   "source": [
    "Apabila ada nama variabel yang sama dengan nama fungsi dan inisialisasi nilai variabel dilakukan setelah mendefinisikan fungsi, maka nama variabelnya akan membatalkan definisi fungsi yang kita buat. Pemanggilan fungsi yang dibatalkan oleh inisialisasi variabel akan menghasilkan ``SyntaxError``."
   ]
  },
  {
   "cell_type": "markdown",
   "metadata": {
    "id": "czmkmfWVqNUN"
   },
   "source": [
    "## Fungsi Berparameter (Parameterized Function)\n",
    "\n",
    "Sebuah fungsi bisa memiliki parameter. Parameter didefinisikan di dalam tanda kurung pada nama fungsi. Bentuk umum pemberian parameter pada fungsi adalah:\n",
    "\n",
    "```python\n",
    "def nama_fungsi(parameter1, paramater2, .., parameterN):\n",
    "  instruksi_dalam_fungsi\n",
    "\n",
    "# Pemanggilan Fungsi\n",
    "namafungsi(argumen1, argumen2, ..,argumenN)\n",
    "```\n",
    "\n",
    "\n",
    "\n"
   ]
  },
  {
   "cell_type": "code",
   "execution_count": null,
   "metadata": {
    "colab": {
     "base_uri": "https://localhost:8080/"
    },
    "executionInfo": {
     "elapsed": 397,
     "status": "ok",
     "timestamp": 1627268083225,
     "user": {
      "displayName": "Adam Mukharil Bachtiar",
      "photoUrl": "https://lh3.googleusercontent.com/a-/AOh14GgJw6pmR0uaa0upvAW6cptf4bPmiEhm1MAS1rx45as=s64",
      "userId": "18309246717753247212"
     },
     "user_tz": -420
    },
    "id": "5MjPUi-Qt3FT",
    "outputId": "930a0cbc-9771-417d-8966-7a73b2db33d6"
   },
   "outputs": [],
   "source": [
    "def selamat_datang(nama):\n",
    "  print(\"Selamat datang \"+nama+\" di Python World.\")\n",
    "\n",
    "selamat_datang(\"Vano\")"
   ]
  },
  {
   "cell_type": "markdown",
   "metadata": {
    "id": "cdZYS9kxt1v6"
   },
   "source": [
    "Ada beberapa aturan yang harus diperhatikan ketika memberikan parameter pada suatu fungsi, yaitu:\n",
    "\n",
    "1. Jumlah parameter pada suatu fungsi tidak dibatasi akan tetapi apabila kita ingin membuat fungsi yang bersih, maka batasi maksimal 3 parameter per fungsinya.\n",
    "2. Parameter hanya bisa terdefinisi untuk fungsi yang mendefinikan (berlaku lokal/tidak berlaku global) sehingga kita bisa menggunakan nama variabel yang sama dengan nama parameter di suatu fungsi.\n",
    "3. Bedakan antara parameter dengan argument. Parameter didefinisikan ketika membuat fungsi sementara argumen didefinisikan ketika akan memanggil fungsi (invocation) dan diteruskan ke parameter yang ada di fungsi yang dipanggil.\n",
    "4. Jumlah argumen ketika memanggil fungsi harus berjumlah sama dengan parameter yang ada di fungsi yang dipanggil (kecuali ada default parameter).\n"
   ]
  },
  {
   "cell_type": "markdown",
   "metadata": {
    "id": "T2WJAGRHvpUc"
   },
   "source": [
    "## Hands on Lab 4: Parameter dan Argumen\n",
    "\n",
    "Coba kode program berikut dan lihat error apa yang terjadi?"
   ]
  },
  {
   "cell_type": "code",
   "execution_count": null,
   "metadata": {
    "colab": {
     "base_uri": "https://localhost:8080/",
     "height": 198
    },
    "executionInfo": {
     "elapsed": 493,
     "status": "error",
     "timestamp": 1627268249718,
     "user": {
      "displayName": "Adam Mukharil Bachtiar",
      "photoUrl": "https://lh3.googleusercontent.com/a-/AOh14GgJw6pmR0uaa0upvAW6cptf4bPmiEhm1MAS1rx45as=s64",
      "userId": "18309246717753247212"
     },
     "user_tz": -420
    },
    "id": "mqsX1i1fvbRu",
    "outputId": "d9a665e4-b395-40f8-c88a-a66663139551"
   },
   "outputs": [],
   "source": [
    "def selamat_datang(nama):\n",
    "  print(\"Selamat datang \"+nama+\" di Python World.\")\n",
    "\n",
    "selamat_datang()"
   ]
  },
  {
   "cell_type": "markdown",
   "metadata": {
    "id": "MMA3gJ4pvynu"
   },
   "source": [
    "Error yang dihasilkan adalah ``TypeError`` yang muncul akibat ketika memanggil fungsi, jumlah argumen berbeda dengan parameter fungsi yang dipanggil.\n",
    "\n",
    "><B>Catatan:</B> Pada error yang dimunculkan pada kode program tersebut, ada kata positional argument. Positional argument adalah cara pemanggilan argumen tanpa menyebutkan nama parameternya dan urutan pemanggilan argumennya didasarkan pada urutan parameter di fungsi yang dipanggil."
   ]
  },
  {
   "cell_type": "markdown",
   "metadata": {
    "id": "IIR-7PyyxHh6"
   },
   "source": [
    "## Hands on Lab 5: Nama variabel dan parameter\n",
    "\n",
    "Coba jalankan kode program berikut:\n"
   ]
  },
  {
   "cell_type": "code",
   "execution_count": null,
   "metadata": {
    "colab": {
     "base_uri": "https://localhost:8080/"
    },
    "executionInfo": {
     "elapsed": 428,
     "status": "ok",
     "timestamp": 1627268721069,
     "user": {
      "displayName": "Adam Mukharil Bachtiar",
      "photoUrl": "https://lh3.googleusercontent.com/a-/AOh14GgJw6pmR0uaa0upvAW6cptf4bPmiEhm1MAS1rx45as=s64",
      "userId": "18309246717753247212"
     },
     "user_tz": -420
    },
    "id": "dcPSKdXKxRcb",
    "outputId": "d7205bf7-ebed-444e-b013-17a9c982f196"
   },
   "outputs": [],
   "source": [
    "def selamat_datang(nama):\n",
    "  print(\"Selamat datang \"+nama+\" di Python World.\")\n",
    "\n",
    "nama = \"Benaro\"\n",
    "selamat_datang(\"Wati\")\n",
    "print(nama)"
   ]
  },
  {
   "cell_type": "markdown",
   "metadata": {
    "id": "dF4iHkjnxkBd"
   },
   "source": [
    "Variabel nama bisa kita tetap gunakan walaupun parameter di fungsi selamat_datang memiliki parameter bernama nama."
   ]
  },
  {
   "cell_type": "markdown",
   "metadata": {
    "id": "QRdrj4Dvx9it"
   },
   "source": [
    "## Fungsi Berparameter Lebih dari Satu\n",
    "\n",
    "Seperti yang disebutkan sebelumnya bahwa sebuah fungsi bisa saja memiliki banyak parameter. Berikut contohnya:"
   ]
  },
  {
   "cell_type": "code",
   "execution_count": null,
   "metadata": {
    "colab": {
     "base_uri": "https://localhost:8080/"
    },
    "executionInfo": {
     "elapsed": 404,
     "status": "ok",
     "timestamp": 1627269112625,
     "user": {
      "displayName": "Adam Mukharil Bachtiar",
      "photoUrl": "https://lh3.googleusercontent.com/a-/AOh14GgJw6pmR0uaa0upvAW6cptf4bPmiEhm1MAS1rx45as=s64",
      "userId": "18309246717753247212"
     },
     "user_tz": -420
    },
    "id": "FzPBK0BeyXnM",
    "outputId": "ad184448-7025-490b-a695-99a3b936e510"
   },
   "outputs": [],
   "source": [
    "def selamat_datang(nama, umur):\n",
    "  print(\"Selamat datang \"+nama+\" di Python World. Umur anda\",umur,\"tahun.\")\n",
    "\n",
    "selamat_datang(\"Darel\",17) "
   ]
  },
  {
   "cell_type": "markdown",
   "metadata": {
    "id": "wz-O1DF5zOIf"
   },
   "source": [
    "Kita juga melakukan operasi pada parameter fungsi. Berikut contohnya:"
   ]
  },
  {
   "cell_type": "code",
   "execution_count": null,
   "metadata": {
    "colab": {
     "base_uri": "https://localhost:8080/"
    },
    "executionInfo": {
     "elapsed": 395,
     "status": "ok",
     "timestamp": 1627269197855,
     "user": {
      "displayName": "Adam Mukharil Bachtiar",
      "photoUrl": "https://lh3.googleusercontent.com/a-/AOh14GgJw6pmR0uaa0upvAW6cptf4bPmiEhm1MAS1rx45as=s64",
      "userId": "18309246717753247212"
     },
     "user_tz": -420
    },
    "id": "Xu-RJmwpzGf1",
    "outputId": "ef5465b2-cad1-4925-828a-ec462b949b6d"
   },
   "outputs": [],
   "source": [
    "def tambahUmur(nama, umur):\n",
    "    umur = umur + 0.5\n",
    "    print(nama, umur)\n",
    "    \n",
    "tambahUmur(\"Queen\",5.1)"
   ]
  },
  {
   "cell_type": "markdown",
   "metadata": {
    "id": "6kVb7ZIZzhr6"
   },
   "source": [
    "## Positional Parameter\n",
    "\n",
    "Jika kita mem-passing argumen sesuai urutan yang ada pada parameter fungsi maka kita menggunakan konsep <B>POSITIONAL PARAMETER</B>."
   ]
  },
  {
   "cell_type": "code",
   "execution_count": null,
   "metadata": {
    "colab": {
     "base_uri": "https://localhost:8080/"
    },
    "executionInfo": {
     "elapsed": 418,
     "status": "ok",
     "timestamp": 1627269509328,
     "user": {
      "displayName": "Adam Mukharil Bachtiar",
      "photoUrl": "https://lh3.googleusercontent.com/a-/AOh14GgJw6pmR0uaa0upvAW6cptf4bPmiEhm1MAS1rx45as=s64",
      "userId": "18309246717753247212"
     },
     "user_tz": -420
    },
    "id": "G1KNUTKiznJg",
    "outputId": "7d67fd61-d339-4c5f-e286-ddaeb7535e9d"
   },
   "outputs": [],
   "source": [
    "def eksponen_bilangan(bil1, bil2, bil3):\n",
    "  hasil = bil1 ** bil2 ** bil3\n",
    "  print(hasil)\n",
    "\n",
    "eksponen_bilangan(2,3,4)"
   ]
  },
  {
   "cell_type": "markdown",
   "metadata": {
    "id": "i73eQy_g0u26"
   },
   "source": [
    "Pada kode program tersebut, argumen 2 akan di-passing ke paramater ``bil1``, argumen 3 akan di-passing ke parameter ``bil2``, dan seterusnya. Urutan passing menjadi hal penting di konsep Positional Parameter. Berikut contoh lain dari positional parameter."
   ]
  },
  {
   "cell_type": "code",
   "execution_count": null,
   "metadata": {
    "colab": {
     "base_uri": "https://localhost:8080/"
    },
    "executionInfo": {
     "elapsed": 485,
     "status": "ok",
     "timestamp": 1627269748940,
     "user": {
      "displayName": "Adam Mukharil Bachtiar",
      "photoUrl": "https://lh3.googleusercontent.com/a-/AOh14GgJw6pmR0uaa0upvAW6cptf4bPmiEhm1MAS1rx45as=s64",
      "userId": "18309246717753247212"
     },
     "user_tz": -420
    },
    "id": "Eh_x-Q791LVb",
    "outputId": "3e1caa6a-6cbd-4588-bb23-cb3a6b59ed4c"
   },
   "outputs": [],
   "source": [
    "def nama_lengkap(nama_pertama, nama_terakhir):\n",
    "  print(nama_pertama + \" \" + nama_terakhir)\n",
    "\n",
    "nama_lengkap(\"Rizky\",\"Billar\")"
   ]
  },
  {
   "cell_type": "markdown",
   "metadata": {
    "id": "1n3_IA0i1wz7"
   },
   "source": [
    "## Keyword Argument\n",
    "\n",
    "Selain positional parameter yang mem-passing argumen sesuai urutan posisi parameter fungsi, Python mengenal konsep passing argument dengan cara menggunakan <B>KEYWORD ARGUMENT</B>. Konsep ini memungkinkan kita untuk mem-passing argumen ke parameter tanpa mengikuti urutan posisi parameter di fungsi yang dipanggil. Bentuk umum passsing argumen menggunakan konsep Keyword Argument adalah:\n",
    "\n",
    "```python\n",
    "nama_fungsi(nama_parameter = nilai, nama_parameter = nilai, ..)\n",
    "```\n",
    "\n",
    "Contohnya bisa dilihat pada kode program berikut:"
   ]
  },
  {
   "cell_type": "code",
   "execution_count": null,
   "metadata": {
    "colab": {
     "base_uri": "https://localhost:8080/"
    },
    "executionInfo": {
     "elapsed": 463,
     "status": "ok",
     "timestamp": 1627270254679,
     "user": {
      "displayName": "Adam Mukharil Bachtiar",
      "photoUrl": "https://lh3.googleusercontent.com/a-/AOh14GgJw6pmR0uaa0upvAW6cptf4bPmiEhm1MAS1rx45as=s64",
      "userId": "18309246717753247212"
     },
     "user_tz": -420
    },
    "id": "-WQFZss02_s-",
    "outputId": "3f927631-a3f7-4041-9eea-a3f763b00eb8"
   },
   "outputs": [],
   "source": [
    "def eksponen_bilangan(bil1, bil2, bil3):\n",
    "  hasil = bil1 ** bil2 ** bil3\n",
    "  print(hasil)\n",
    "\n",
    "eksponen_bilangan(bil1 = 4, bil2 = 3, bil3 = 2)\n",
    "eksponen_bilangan(4, 3, 2)\n",
    "eksponen_bilangan(bil2 = 3, bil3 = 2, bil1 = 4)"
   ]
  },
  {
   "cell_type": "markdown",
   "metadata": {
    "id": "OSNpiWhP3aC5"
   },
   "source": [
    "Dua pemanggilan fungsi akan menghasilkan angka yang sama. Keyword argument bisa di-passing mengikuti urutan posisi parameter atau pun tidak.\n",
    "\n",
    "><B>Catatan:</B> Jangan gunakan nama argumen yang tidak didefinisikan pada parameter fungsi karena akan menghasilkan ``TypeError``."
   ]
  },
  {
   "cell_type": "code",
   "execution_count": null,
   "metadata": {
    "colab": {
     "base_uri": "https://localhost:8080/",
     "height": 198
    },
    "executionInfo": {
     "elapsed": 425,
     "status": "error",
     "timestamp": 1627270466201,
     "user": {
      "displayName": "Adam Mukharil Bachtiar",
      "photoUrl": "https://lh3.googleusercontent.com/a-/AOh14GgJw6pmR0uaa0upvAW6cptf4bPmiEhm1MAS1rx45as=s64",
      "userId": "18309246717753247212"
     },
     "user_tz": -420
    },
    "id": "7pAia-Ly36LV",
    "outputId": "d29ab972-db69-433d-ef7d-cfe7e430f58f"
   },
   "outputs": [],
   "source": [
    "def eksponen_bilangan(bil1, bil2, bil3):\n",
    "  hasil = bil1 ** bil2 ** bil3\n",
    "  print(hasil)\n",
    "\n",
    "eksponen_bilangan(angka = 3, bil3 = 2, bil1 = 4)"
   ]
  },
  {
   "cell_type": "markdown",
   "metadata": {
    "id": "Zl3gamHe4fGR"
   },
   "source": [
    "## Mixing Positional dengan Keyword Argument\n",
    "\n",
    "Kita bisa menggabungkan penggunaan positional argument dengan keyword argument dengan syarat:\n",
    "\n",
    "> \"positional arguments <b>before</b> keyword arguments.\"\n",
    "\n",
    "Contoh yang benar:"
   ]
  },
  {
   "cell_type": "code",
   "execution_count": null,
   "metadata": {
    "colab": {
     "base_uri": "https://localhost:8080/"
    },
    "executionInfo": {
     "elapsed": 5,
     "status": "ok",
     "timestamp": 1627270795920,
     "user": {
      "displayName": "Adam Mukharil Bachtiar",
      "photoUrl": "https://lh3.googleusercontent.com/a-/AOh14GgJw6pmR0uaa0upvAW6cptf4bPmiEhm1MAS1rx45as=s64",
      "userId": "18309246717753247212"
     },
     "user_tz": -420
    },
    "id": "W4MPGi6S5UH7",
    "outputId": "447c5419-1936-46ce-a5dc-5fe9d528f794"
   },
   "outputs": [],
   "source": [
    "def eksponen_bilangan(bil1, bil2, bil3):\n",
    "  hasil = bil1 ** bil2 ** bil3\n",
    "  print(hasil)\n",
    "\n",
    "eksponen_bilangan(4, bil3 = 2, bil2 = 3)"
   ]
  },
  {
   "cell_type": "markdown",
   "metadata": {
    "id": "Jn7_Ookj5ejO"
   },
   "source": [
    "Contoh yang salah:"
   ]
  },
  {
   "cell_type": "code",
   "execution_count": null,
   "metadata": {
    "colab": {
     "base_uri": "https://localhost:8080/",
     "height": 198
    },
    "executionInfo": {
     "elapsed": 394,
     "status": "error",
     "timestamp": 1627270837940,
     "user": {
      "displayName": "Adam Mukharil Bachtiar",
      "photoUrl": "https://lh3.googleusercontent.com/a-/AOh14GgJw6pmR0uaa0upvAW6cptf4bPmiEhm1MAS1rx45as=s64",
      "userId": "18309246717753247212"
     },
     "user_tz": -420
    },
    "id": "ctF-rK8_5ghz",
    "outputId": "9d9e44a4-69eb-449e-a156-0bd253653981"
   },
   "outputs": [],
   "source": [
    "def eksponen_bilangan(bil1, bil2, bil3):\n",
    "  hasil = bil1 ** bil2 ** bil3\n",
    "  print(hasil)\n",
    "\n",
    "eksponen_bilangan(4, bil3 = 2, bil1 = 3)"
   ]
  },
  {
   "cell_type": "markdown",
   "metadata": {
    "id": "SxGnmyse5ws8"
   },
   "source": [
    "Kode program tersebut menghasilkan ``TypeError`` karena paramater ``bil`` sudah di-passing secara positional akan tetapi ada keyword argument yang mem-passing parameter ``bil1``."
   ]
  },
  {
   "cell_type": "markdown",
   "metadata": {
    "id": "6nfqOumG6ZAC"
   },
   "source": [
    "## Default Parameter\n",
    "\n",
    "Kita bisa memberikan nilai default pada sebuah parameter. Parameter yang diberikan nilai default akan menggunakan nilai defaultnya apabila tidak ada argumen yang di-passing ke parameter tersebut. Cara penggunaan default parameter dapat dilihat pada kode program berikut:"
   ]
  },
  {
   "cell_type": "code",
   "execution_count": null,
   "metadata": {
    "colab": {
     "base_uri": "https://localhost:8080/"
    },
    "executionInfo": {
     "elapsed": 391,
     "status": "ok",
     "timestamp": 1627271402037,
     "user": {
      "displayName": "Adam Mukharil Bachtiar",
      "photoUrl": "https://lh3.googleusercontent.com/a-/AOh14GgJw6pmR0uaa0upvAW6cptf4bPmiEhm1MAS1rx45as=s64",
      "userId": "18309246717753247212"
     },
     "user_tz": -420
    },
    "id": "9LBWNNhI7nCh",
    "outputId": "860699a2-0c76-4026-cefd-d2454c86cd29"
   },
   "outputs": [],
   "source": [
    "def eksponen_bilangan(bil1, bil2, bil3 = 1):\n",
    "  hasil = bil1 ** bil2 ** bil3\n",
    "  print(hasil)\n",
    "\n",
    "eksponen_bilangan(2, 4) # tidak passing bil3"
   ]
  },
  {
   "cell_type": "code",
   "execution_count": null,
   "metadata": {
    "colab": {
     "base_uri": "https://localhost:8080/"
    },
    "executionInfo": {
     "elapsed": 412,
     "status": "ok",
     "timestamp": 1627271860028,
     "user": {
      "displayName": "Adam Mukharil Bachtiar",
      "photoUrl": "https://lh3.googleusercontent.com/a-/AOh14GgJw6pmR0uaa0upvAW6cptf4bPmiEhm1MAS1rx45as=s64",
      "userId": "18309246717753247212"
     },
     "user_tz": -420
    },
    "id": "fCPLwcZN9OWA",
    "outputId": "5e4ec91b-68b8-4bab-9bfb-cb4eeb299638"
   },
   "outputs": [],
   "source": [
    "def selamat_datang(nama = \"Fulan\"):\n",
    "  print(\"Selamat datang \"+nama+\" di Python World.\")\n",
    "\n",
    "selamat_datang()\n",
    "selamat_datang(\"Kevin\")"
   ]
  },
  {
   "cell_type": "markdown",
   "metadata": {
    "id": "2QKTipM79oy9"
   },
   "source": [
    "## Fungsi dengan return\n",
    "\n",
    "Fungsi dibuat bukan hanya untuk melakukan suatu instruksi akan tetapi bisa digunakan untuk mengembalikan nilai yang didapat dari suatu hasil operasi. Nilai yang dikembalikan oleh fungsi, bisa langsung ditampilkan ke layar terminal menggunakan fungsi ``print()`` atau bisa ditampung dulu dalam sebuah variabel.\n",
    "\n",
    "Contoh kode program:"
   ]
  },
  {
   "cell_type": "code",
   "execution_count": null,
   "metadata": {
    "colab": {
     "base_uri": "https://localhost:8080/"
    },
    "executionInfo": {
     "elapsed": 510,
     "status": "ok",
     "timestamp": 1627272191808,
     "user": {
      "displayName": "Adam Mukharil Bachtiar",
      "photoUrl": "https://lh3.googleusercontent.com/a-/AOh14GgJw6pmR0uaa0upvAW6cptf4bPmiEhm1MAS1rx45as=s64",
      "userId": "18309246717753247212"
     },
     "user_tz": -420
    },
    "id": "QfSnxgtc-IwJ",
    "outputId": "b08aea71-16ba-46d1-8e86-08872e7db399"
   },
   "outputs": [],
   "source": [
    "def hitung_luas_persegi(panjang,lebar):\n",
    "  return panjang * lebar\n",
    "\n",
    "print(hitung_luas_persegi(20,10))\n",
    "\n",
    "luas_persegi = hitung_luas_persegi(20,10)\n",
    "print(luas_persegi)"
   ]
  },
  {
   "cell_type": "markdown",
   "metadata": {
    "id": "y9EghTnS-_W5"
   },
   "source": [
    "Di Python, kita bisa mengabaikan nilai yang dikembalikan oleh suatu fungsi. Contoh kode program:"
   ]
  },
  {
   "cell_type": "code",
   "execution_count": null,
   "metadata": {
    "colab": {
     "base_uri": "https://localhost:8080/"
    },
    "executionInfo": {
     "elapsed": 393,
     "status": "ok",
     "timestamp": 1627272565994,
     "user": {
      "displayName": "Adam Mukharil Bachtiar",
      "photoUrl": "https://lh3.googleusercontent.com/a-/AOh14GgJw6pmR0uaa0upvAW6cptf4bPmiEhm1MAS1rx45as=s64",
      "userId": "18309246717753247212"
     },
     "user_tz": -420
    },
    "id": "fujffaUB-7vE",
    "outputId": "73ef8825-299f-47ce-957d-eee4d067c28e"
   },
   "outputs": [],
   "source": [
    "def boring_function():\n",
    "  print(\"'Boredom Mode' ON.\")\n",
    "  return 123\n",
    "\n",
    "print(\"This lesson is interesting!\")\n",
    "boring_function()\n",
    "print(\"This lesson is boring...\")"
   ]
  },
  {
   "cell_type": "markdown",
   "metadata": {
    "id": "RS8jcf5cAp0L"
   },
   "source": [
    "## None\n",
    "\n",
    "None adalah kata kunci yang bisa digunakan juga sebagai return value dalam sebuah fungsi. Perhatikan kode program tersebut:"
   ]
  },
  {
   "cell_type": "code",
   "execution_count": null,
   "metadata": {
    "id": "HbNw7bLVB_jY"
   },
   "outputs": [],
   "source": [
    "def selamat_datang():\n",
    "  print(\"Selamat datang.\")\n",
    "\n",
    "selamat_datang()"
   ]
  },
  {
   "cell_type": "markdown",
   "metadata": {
    "id": "wwaj851lB3aj"
   },
   "source": [
    "Kode program tersebut ekuivalen dengan:"
   ]
  },
  {
   "cell_type": "code",
   "execution_count": null,
   "metadata": {
    "colab": {
     "base_uri": "https://localhost:8080/"
    },
    "executionInfo": {
     "elapsed": 508,
     "status": "ok",
     "timestamp": 1627273068959,
     "user": {
      "displayName": "Adam Mukharil Bachtiar",
      "photoUrl": "https://lh3.googleusercontent.com/a-/AOh14GgJw6pmR0uaa0upvAW6cptf4bPmiEhm1MAS1rx45as=s64",
      "userId": "18309246717753247212"
     },
     "user_tz": -420
    },
    "id": "OPeHP-ZnB7dS",
    "outputId": "74184f3d-cc79-40e2-9fa9-f903b7ddbba0"
   },
   "outputs": [],
   "source": [
    "def selamat_datang():\n",
    "  print(\"Selamat datang.\")\n",
    "  return None\n",
    "\n",
    "selamat_datang()"
   ]
  },
  {
   "cell_type": "markdown",
   "metadata": {
    "id": "-pyO3qHJCgD7"
   },
   "source": [
    "None biasanya dikembalikan oleh suatu fungsi apabila di dalam fungsi tersebut terdapat struktur percabangan if.\n",
    "\n",
    "Contoh kode program:"
   ]
  },
  {
   "cell_type": "code",
   "execution_count": null,
   "metadata": {
    "colab": {
     "base_uri": "https://localhost:8080/"
    },
    "executionInfo": {
     "elapsed": 561,
     "status": "ok",
     "timestamp": 1627273292823,
     "user": {
      "displayName": "Adam Mukharil Bachtiar",
      "photoUrl": "https://lh3.googleusercontent.com/a-/AOh14GgJw6pmR0uaa0upvAW6cptf4bPmiEhm1MAS1rx45as=s64",
      "userId": "18309246717753247212"
     },
     "user_tz": -420
    },
    "id": "xR77wIhJCufE",
    "outputId": "9905861e-e5eb-46d2-e288-a0904f577acc"
   },
   "outputs": [],
   "source": [
    "def is_genap(angka):\n",
    "  if angka % 2 == 0:\n",
    "    return True\n",
    "\n",
    "print(is_genap(2))\n",
    "print(is_genap(1))"
   ]
  },
  {
   "cell_type": "markdown",
   "metadata": {
    "id": "Xrb8Y4nADGwO"
   },
   "source": [
    "## Konsep List di Fungsi\n",
    "\n",
    "List bisa digunakan sebagai argumen fungsi. Contoh kode program:\n"
   ]
  },
  {
   "cell_type": "code",
   "execution_count": null,
   "metadata": {
    "colab": {
     "base_uri": "https://localhost:8080/"
    },
    "executionInfo": {
     "elapsed": 460,
     "status": "ok",
     "timestamp": 1627273719386,
     "user": {
      "displayName": "Adam Mukharil Bachtiar",
      "photoUrl": "https://lh3.googleusercontent.com/a-/AOh14GgJw6pmR0uaa0upvAW6cptf4bPmiEhm1MAS1rx45as=s64",
      "userId": "18309246717753247212"
     },
     "user_tz": -420
    },
    "id": "lUDggJYcD4MT",
    "outputId": "5badedcd-e63f-4172-fa14-74d41d7d3752"
   },
   "outputs": [],
   "source": [
    "def jumlah_list(numbers):\n",
    "  jumlah = 0\n",
    "    \n",
    "  for number in numbers:\n",
    "    jumlah += number\n",
    "    \n",
    "  return jumlah\n",
    "\n",
    "jumlah_bil = jumlah_list([5,2,10,30,99,10,130,900])\n",
    "print(jumlah_bil)"
   ]
  },
  {
   "cell_type": "markdown",
   "metadata": {
    "id": "eSCGyI1EFDVs"
   },
   "source": [
    "Selain itu, list bisa digunakan sebagai Return Value. Contoh kode program:\n",
    "\n"
   ]
  },
  {
   "cell_type": "code",
   "execution_count": null,
   "metadata": {
    "colab": {
     "base_uri": "https://localhost:8080/"
    },
    "executionInfo": {
     "elapsed": 472,
     "status": "ok",
     "timestamp": 1627273994463,
     "user": {
      "displayName": "Adam Mukharil Bachtiar",
      "photoUrl": "https://lh3.googleusercontent.com/a-/AOh14GgJw6pmR0uaa0upvAW6cptf4bPmiEhm1MAS1rx45as=s64",
      "userId": "18309246717753247212"
     },
     "user_tz": -420
    },
    "id": "p4ScqJYvFSE7",
    "outputId": "d4108416-55a0-4d97-e38a-a8c5a6238226"
   },
   "outputs": [],
   "source": [
    "def generate_list(bil):\n",
    "  numbers = []\n",
    "\n",
    "  for i in range(bil):\n",
    "    numbers.append(i)\n",
    "\n",
    "  return numbers\n",
    "\n",
    "print(generate_list(10))"
   ]
  },
  {
   "cell_type": "markdown",
   "metadata": {
    "id": "bzR0Gx6FF4ek"
   },
   "source": [
    "## Hands on Lab 6: Tahun Kabisat Lagi!!!\n",
    "\n",
    "Tugas kit adalah menuliskan dan menguji fungsi yang memiliki 1 parameter berupa nilai tahun dan akan mengembalikan nilai True jika tahun tersebut adalah tahun kabisat dan False jika sebaliknya.\n",
    "\n",
    "Format standar kode programnya:\n",
    "\n",
    "```python\n",
    "def isYearLeap(year):\n",
    "#\n",
    "# put your code here\n",
    "#\n",
    "```\n",
    "\n",
    "Kode Program untuk menguji:\n",
    "\n",
    "```python\n",
    "testData = [1900, 2000, 2016, 1987]\n",
    "testResults = [False, True, True, False]\n",
    "for i in range(len(testData)):\n",
    "  yr = testData[i]\n",
    "  print(yr,\"->\",end=\"\")\n",
    "  result = isYearLeap(yr)\n",
    "  \n",
    "  if result == testResults[i]:\n",
    "    print(\"OK\")\n",
    "  else:\n",
    "    print(\"Failed\")\n",
    "```"
   ]
  },
  {
   "cell_type": "code",
   "execution_count": null,
   "metadata": {
    "colab": {
     "base_uri": "https://localhost:8080/"
    },
    "executionInfo": {
     "elapsed": 427,
     "status": "ok",
     "timestamp": 1627274471468,
     "user": {
      "displayName": "Adam Mukharil Bachtiar",
      "photoUrl": "https://lh3.googleusercontent.com/a-/AOh14GgJw6pmR0uaa0upvAW6cptf4bPmiEhm1MAS1rx45as=s64",
      "userId": "18309246717753247212"
     },
     "user_tz": -420
    },
    "id": "wKCuLdaRHRaN",
    "outputId": "7de920c1-51c3-4fe1-9315-190c5e1a0dac"
   },
   "outputs": [],
   "source": [
    "def isYearLeap(year):\n",
    "  if (year % 4) == 0:\n",
    "    if (year % 100) == 0:\n",
    "      if (year % 400) == 0:\n",
    "        return True\n",
    "      else:\n",
    "        return False\n",
    "    else:\n",
    "      return True\n",
    "  else:\n",
    "    return False\n",
    "\n",
    "testData = [1900, 2000, 2016, 1987]\n",
    "testResults = [False, True, True, False]\n",
    "for i in range(len(testData)):\n",
    "  yr = testData[i]\n",
    "  print(yr,\"->\",end=\"\")\n",
    "  result = isYearLeap(yr)\n",
    "    \n",
    "  if result == testResults[i]:\n",
    "    print(\"OK\")\n",
    "  else:\n",
    "    print(\"Failed\")"
   ]
  },
  {
   "cell_type": "markdown",
   "metadata": {
    "id": "XiPdwJQpJxO8"
   },
   "source": [
    "## Scope Variabel\n",
    "\n",
    "Pada saat menggunakan fungsi, kita harus berhati-hati dalam melihat scope (jangkauan) dari sebuah variabel. Scope dari sebuah variabel ada dua, yaitu:\n",
    "\n",
    "1. <B>Global</B> - Variabel yang berlaku global, bisa diakses di bagian mana pun di kode program tersebut.\n",
    "\n",
    "2. <B>Lokal</B> - Variabel yang berlaku lokal, hanya bisa diakses pada blok program yang mendefinisikannya.\n",
    "\n",
    "Sebagai contoh, variabel yang didefinisikan dalam sebuah fungsi akan memiliki scope lokal dan mengakibatkan variabel tersebut tidak dapat diakses di luar fungsi tersebut.\n",
    "\n",
    "Contoh kasus:\n"
   ]
  },
  {
   "cell_type": "code",
   "execution_count": 16,
   "metadata": {
    "colab": {
     "base_uri": "https://localhost:8080/",
     "height": 198
    },
    "executionInfo": {
     "elapsed": 400,
     "status": "error",
     "timestamp": 1627275648808,
     "user": {
      "displayName": "Adam Mukharil Bachtiar",
      "photoUrl": "https://lh3.googleusercontent.com/a-/AOh14GgJw6pmR0uaa0upvAW6cptf4bPmiEhm1MAS1rx45as=s64",
      "userId": "18309246717753247212"
     },
     "user_tz": -420
    },
    "id": "R9L6ApsML7oE",
    "outputId": "3941a46e-1757-4d7b-a629-cfd037e391f5"
   },
   "outputs": [
    {
     "name": "stdout",
     "output_type": "stream",
     "text": [
      "123\n",
      "100\n"
     ]
    }
   ],
   "source": [
    "def scope_test():\n",
    "  x = 123\n",
    "  print(x)\n",
    "\n",
    "x = 100\n",
    "scope_test()\n",
    "print(x)"
   ]
  },
  {
   "cell_type": "markdown",
   "metadata": {
    "id": "q2N4lC_yMLQx"
   },
   "source": [
    "## Hands on Lab 7: Global atau Lokal?\n",
    "\n",
    "Cobalah kode program tersebut, lalu simpulkan apakah variabel var memiliki scope global atau lokal."
   ]
  },
  {
   "cell_type": "code",
   "execution_count": null,
   "metadata": {
    "colab": {
     "base_uri": "https://localhost:8080/"
    },
    "executionInfo": {
     "elapsed": 413,
     "status": "ok",
     "timestamp": 1627275768260,
     "user": {
      "displayName": "Adam Mukharil Bachtiar",
      "photoUrl": "https://lh3.googleusercontent.com/a-/AOh14GgJw6pmR0uaa0upvAW6cptf4bPmiEhm1MAS1rx45as=s64",
      "userId": "18309246717753247212"
     },
     "user_tz": -420
    },
    "id": "B-6K9fgLMKvO",
    "outputId": "b23ef22f-f7c1-45ed-c850-5756e5758016"
   },
   "outputs": [],
   "source": [
    "def my_function():\n",
    "  print(\"Do I know that variable?\", var)\n",
    "\n",
    "var = 1\n",
    "my_function()\n",
    "print(var)"
   ]
  },
  {
   "cell_type": "markdown",
   "metadata": {
    "id": "8RVmPLn5MdPK"
   },
   "source": [
    "Walaupun variabel ``var`` didefinisikan di luar fungsi, akan tetapi variabel ``var`` bisa dikenali oleh fungsi karena scope-nya global. Bagaimana jika ada dua scope di dalam satu kode program?"
   ]
  },
  {
   "cell_type": "code",
   "execution_count": null,
   "metadata": {
    "colab": {
     "base_uri": "https://localhost:8080/"
    },
    "executionInfo": {
     "elapsed": 511,
     "status": "ok",
     "timestamp": 1627275875159,
     "user": {
      "displayName": "Adam Mukharil Bachtiar",
      "photoUrl": "https://lh3.googleusercontent.com/a-/AOh14GgJw6pmR0uaa0upvAW6cptf4bPmiEhm1MAS1rx45as=s64",
      "userId": "18309246717753247212"
     },
     "user_tz": -420
    },
    "id": "FwFPXLENMyHo",
    "outputId": "20b69c66-7036-4c71-8e22-07d54b4ac987"
   },
   "outputs": [],
   "source": [
    "def my_function():\n",
    "  var = 2\n",
    "  print(\"Do I know that variable?\", var)\n",
    "\n",
    "var = 1\n",
    "my_function()\n",
    "print(var)"
   ]
  },
  {
   "cell_type": "markdown",
   "metadata": {
    "id": "iIDLrh3jM4to"
   },
   "source": [
    "Fungsi akan mengenali nilai dari variabel lokalnya. Sementara variabel global tetap bisa dikenali di luar fungsi tersebut. Jadi prioritas variabel lokal pada suatu fungsi <B>LEBIH TINGGI</B> dibandingkan variabel global (dengan nama yang sama).\n",
    "\n",
    "Selain itu, operasi yang dikenakan pada suatu variabel di dalam fungsi (scope lokal) tidak akan memberikan pengaruh atau mengubah nilai variabel dengan nama yang sama di luar fungsi (global)."
   ]
  },
  {
   "cell_type": "code",
   "execution_count": null,
   "metadata": {
    "colab": {
     "base_uri": "https://localhost:8080/"
    },
    "executionInfo": {
     "elapsed": 395,
     "status": "ok",
     "timestamp": 1627276312613,
     "user": {
      "displayName": "Adam Mukharil Bachtiar",
      "photoUrl": "https://lh3.googleusercontent.com/a-/AOh14GgJw6pmR0uaa0upvAW6cptf4bPmiEhm1MAS1rx45as=s64",
      "userId": "18309246717753247212"
     },
     "user_tz": -420
    },
    "id": "kWLQfDhCOcej",
    "outputId": "de920a12-af26-4a58-f49d-65cde5ff2b72"
   },
   "outputs": [],
   "source": [
    "def my_function(n):\n",
    "  print(\"I got\", n)\n",
    "  n += 1\n",
    "  print(\"I have\", n)\n",
    "\n",
    "var = 1\n",
    "my_function(var)\n",
    "print(var)"
   ]
  },
  {
   "cell_type": "markdown",
   "metadata": {
    "id": "WicF55XZOjHa"
   },
   "source": [
    "Nilai variabel ``var`` di luar fungsi tidak terpengaruh operasi ``n += 1`` yang ada di dalam fungsi."
   ]
  },
  {
   "cell_type": "markdown",
   "metadata": {
    "id": "H0WXV5sJNTqn"
   },
   "source": [
    "## Kata Kunci global\n",
    "\n",
    "Bagaimana cara membuat sebuah variabel di dalam suatu fungsi bisa dikenali di luar fungsinya? Python memiliki kata kunci ``global`` yang bisa digunakan untuk menandai variabel di dalam suatu fungsi menjadi variabel yang scope-nya global."
   ]
  },
  {
   "cell_type": "code",
   "execution_count": 1,
   "metadata": {
    "colab": {
     "base_uri": "https://localhost:8080/"
    },
    "executionInfo": {
     "elapsed": 371,
     "status": "ok",
     "timestamp": 1627276112406,
     "user": {
      "displayName": "Adam Mukharil Bachtiar",
      "photoUrl": "https://lh3.googleusercontent.com/a-/AOh14GgJw6pmR0uaa0upvAW6cptf4bPmiEhm1MAS1rx45as=s64",
      "userId": "18309246717753247212"
     },
     "user_tz": -420
    },
    "id": "d7CCJK9ENmWQ",
    "outputId": "bb153f43-bf40-46a6-d56a-93d4a09b3a06"
   },
   "outputs": [
    {
     "name": "stdout",
     "output_type": "stream",
     "text": [
      "Do I know that variable? 2\n",
      "2\n"
     ]
    }
   ],
   "source": [
    "def my_function():\n",
    "    global var\n",
    "    var = 2\n",
    "    print(\"Do I know that variable?\", var)\n",
    "\n",
    "var = 1\n",
    "my_function()\n",
    "print(var)"
   ]
  },
  {
   "cell_type": "markdown",
   "metadata": {
    "id": "_NuHJihhPD-d"
   },
   "source": [
    "### Hands on Lab 8: Menghitung BMI\n",
    "\n",
    "Buatlah program untuk menghitung Body Mass Index (BMI) dengan rumus BMI = Berat dalam Kilogram dibagi dengan kuadrat tinggi badan dalam meter."
   ]
  },
  {
   "cell_type": "code",
   "execution_count": null,
   "metadata": {
    "colab": {
     "base_uri": "https://localhost:8080/"
    },
    "executionInfo": {
     "elapsed": 385,
     "status": "ok",
     "timestamp": 1627276701225,
     "user": {
      "displayName": "Adam Mukharil Bachtiar",
      "photoUrl": "https://lh3.googleusercontent.com/a-/AOh14GgJw6pmR0uaa0upvAW6cptf4bPmiEhm1MAS1rx45as=s64",
      "userId": "18309246717753247212"
     },
     "user_tz": -420
    },
    "id": "Q0Uv6AfcPaNw",
    "outputId": "66762c8d-c3c9-4696-8cee-400937e71068"
   },
   "outputs": [],
   "source": [
    "def hitung_BMI(berat_kg,tinggi_m):\n",
    "  return berat_kg / tinggi_m ** 2\n",
    "\n",
    "print(hitung_BMI(84.5, 1.68))"
   ]
  },
  {
   "cell_type": "markdown",
   "metadata": {
    "id": "Opd6vLPGQapm"
   },
   "source": [
    "Berikutnya, mari kita mengevaluasi paramater yang diberikan agar tidak ada data yang \"TIDAK MANUSIAWI\":\n"
   ]
  },
  {
   "cell_type": "code",
   "execution_count": null,
   "metadata": {
    "colab": {
     "base_uri": "https://localhost:8080/"
    },
    "executionInfo": {
     "elapsed": 492,
     "status": "ok",
     "timestamp": 1627277015982,
     "user": {
      "displayName": "Adam Mukharil Bachtiar",
      "photoUrl": "https://lh3.googleusercontent.com/a-/AOh14GgJw6pmR0uaa0upvAW6cptf4bPmiEhm1MAS1rx45as=s64",
      "userId": "18309246717753247212"
     },
     "user_tz": -420
    },
    "id": "_gPZeTvgQmJ8",
    "outputId": "be1856c6-5b79-48c4-efb7-73405d640505"
   },
   "outputs": [],
   "source": [
    "def bmi(weight, height):\n",
    "    if height < 1.0 or height > 2.5 or \\\n",
    "    weight < 20 or weight > 200:\n",
    "        return None\n",
    "\n",
    "    return weight / height ** 2\n",
    "\n",
    "\n",
    "print(bmi(352.5, 1.65))"
   ]
  },
  {
   "cell_type": "markdown",
   "metadata": {
    "id": "AkMjXoI2Q8ZP"
   },
   "source": [
    "><B>Catatan:</B> Tanda \\\\ digunakan ketika mau menyambungkan suatu baris kode ke kode berikutnya (akibat terlalu panjang)"
   ]
  },
  {
   "cell_type": "markdown",
   "metadata": {
    "id": "JWTCIvvFRaDZ"
   },
   "source": [
    "## Hands on Lab 9: Apakah ini segitiga?\n",
    "\n",
    "Buatlah kode program yang bisa memeriksa apakah 3 buah nilai berupa panjang sisi bisa membentuk sebuah segitiga atau tidak."
   ]
  },
  {
   "cell_type": "code",
   "execution_count": null,
   "metadata": {
    "id": "OK3J_sScRtOo"
   },
   "outputs": [],
   "source": [
    "def is_a_triangle(a, b, c):\n",
    "  if a + b <= c:\n",
    "    return False\n",
    "  if b + c <= a:\n",
    "    return False\n",
    "  if c + a <= b:\n",
    "    return False\n",
    "  \n",
    "  return True\n",
    "\n",
    "\n",
    "print(is_a_triangle(1, 1, 1))\n",
    "print(is_a_triangle(1, 1, 3))"
   ]
  },
  {
   "cell_type": "markdown",
   "metadata": {
    "id": "U1a-F5rjR8cH"
   },
   "source": [
    "atau dalam versi yang lebih singkatnya:"
   ]
  },
  {
   "cell_type": "code",
   "execution_count": null,
   "metadata": {
    "colab": {
     "base_uri": "https://localhost:8080/"
    },
    "executionInfo": {
     "elapsed": 399,
     "status": "ok",
     "timestamp": 1627277246136,
     "user": {
      "displayName": "Adam Mukharil Bachtiar",
      "photoUrl": "https://lh3.googleusercontent.com/a-/AOh14GgJw6pmR0uaa0upvAW6cptf4bPmiEhm1MAS1rx45as=s64",
      "userId": "18309246717753247212"
     },
     "user_tz": -420
    },
    "id": "kb-wcJ9rR_FN",
    "outputId": "865118c3-729f-47e6-a49f-ef020e26de2b"
   },
   "outputs": [],
   "source": [
    "def is_a_triangle(a, b, c):\n",
    "  if a + b <= c or b + c <= a or c + a <= b:\n",
    "    return False\n",
    "\n",
    "  return True\n",
    "\n",
    "\n",
    "print(is_a_triangle(1, 1, 1))\n",
    "print(is_a_triangle(1, 1, 3))\n"
   ]
  },
  {
   "cell_type": "markdown",
   "metadata": {
    "id": "RDBALbADSL7K"
   },
   "source": [
    "Lebih singkat lagi?"
   ]
  },
  {
   "cell_type": "code",
   "execution_count": null,
   "metadata": {
    "colab": {
     "base_uri": "https://localhost:8080/"
    },
    "executionInfo": {
     "elapsed": 409,
     "status": "ok",
     "timestamp": 1627277337729,
     "user": {
      "displayName": "Adam Mukharil Bachtiar",
      "photoUrl": "https://lh3.googleusercontent.com/a-/AOh14GgJw6pmR0uaa0upvAW6cptf4bPmiEhm1MAS1rx45as=s64",
      "userId": "18309246717753247212"
     },
     "user_tz": -420
    },
    "id": "Glrca-1BSOTt",
    "outputId": "09724c99-011f-49d7-dc1a-f5fee2061288"
   },
   "outputs": [],
   "source": [
    "def is_a_triangle(a, b, c):\n",
    "    return a + b > c and b + c > a and c + a > b\n",
    "\n",
    "print(is_a_triangle(1, 1, 1))\n",
    "print(is_a_triangle(1, 1, 3))"
   ]
  },
  {
   "cell_type": "markdown",
   "metadata": {
    "id": "sC5T3NTLStga"
   },
   "source": [
    "## Fungsi Rekursi\n",
    "\n",
    "Fungsi rekursi adalah sebuah fungsi yang memanggil nama fungsinya sendiri di dalam body fungsinya. Fungsi rekursi ini digunakan apabila sebuah fungsi membutuhkan hasil dari fungsi itu sendiri sebelumnya dan dilakukan secara repetitif. \n",
    "\n",
    "Apabila tertarik untuk memperdalam fungsi rekursi, silakan cek <a href=\"https://www.geeksforgeeks.org/recursion/\">LINK BERIKUT</a>.\n",
    "\n",
    "Salah satu penggunaan fungsi rekursi ini adalah untuk menghitung nilai faktorial. Ilustasi faktorial sebagai berikut:\n",
    "\n",
    "<img src = \"https://i.pinimg.com/originals/09/43/a6/0943a6561f5928456c202dc70720b58d.png\" alt = \"Ilustrasi Faktorial\">\n",
    "\n",
    "Kode program fungsi faktorial tanpa fungsi rekursi:"
   ]
  },
  {
   "cell_type": "code",
   "execution_count": null,
   "metadata": {
    "colab": {
     "base_uri": "https://localhost:8080/"
    },
    "executionInfo": {
     "elapsed": 549,
     "status": "ok",
     "timestamp": 1627277867553,
     "user": {
      "displayName": "Adam Mukharil Bachtiar",
      "photoUrl": "https://lh3.googleusercontent.com/a-/AOh14GgJw6pmR0uaa0upvAW6cptf4bPmiEhm1MAS1rx45as=s64",
      "userId": "18309246717753247212"
     },
     "user_tz": -420
    },
    "id": "HWLzfxyTUF0Y",
    "outputId": "e73c169f-bbb4-45f9-f71d-c62a9e47ae8a"
   },
   "outputs": [],
   "source": [
    "def faktorial(n):\n",
    "  hasil = 1\n",
    "\n",
    "  for i in range(1,n+1):\n",
    "    hasil *= i\n",
    "\n",
    "  return hasil\n",
    "\n",
    "print(faktorial(5))"
   ]
  },
  {
   "cell_type": "markdown",
   "metadata": {
    "id": "Le8P9DUkUcSq"
   },
   "source": [
    "Kode program fungsi faktorial dengan fungsi rekursi:"
   ]
  },
  {
   "cell_type": "code",
   "execution_count": null,
   "metadata": {
    "colab": {
     "base_uri": "https://localhost:8080/"
    },
    "executionInfo": {
     "elapsed": 482,
     "status": "ok",
     "timestamp": 1627278032145,
     "user": {
      "displayName": "Adam Mukharil Bachtiar",
      "photoUrl": "https://lh3.googleusercontent.com/a-/AOh14GgJw6pmR0uaa0upvAW6cptf4bPmiEhm1MAS1rx45as=s64",
      "userId": "18309246717753247212"
     },
     "user_tz": -420
    },
    "id": "jbZR0FKSUfn3",
    "outputId": "ac6112dc-b244-49f1-ed96-e3885fc9fc26"
   },
   "outputs": [],
   "source": [
    "def faktorial(n):\n",
    "  if n == 1:\n",
    "    return 1\n",
    "  \n",
    "  return n * faktorial(n-1)\n",
    "\n",
    "print(faktorial(5))"
   ]
  },
  {
   "cell_type": "markdown",
   "metadata": {
    "id": "Z_Eu5pqvVGGj"
   },
   "source": [
    "Dengan menggunakan fungsi rekursi, logika atau alur perhitungan matematika faktorial lebih terlihat.\n",
    "\n",
    "><B>Catatan:</B> Sebuah fungsi rekursi akan mempunyai sebuah percabangan yang menjadi batasan eksekusi dari fungsi rekursi tersebut."
   ]
  },
  {
   "cell_type": "markdown",
   "metadata": {
    "id": "MImg77PEVjy6"
   },
   "source": [
    "## Hands on Lab 10: Deret Fibonacci\n",
    "\n",
    "Buatlah program untuk menghitung deret fibonacci. Ilustrasi deret fibonacci:\n",
    "\n",
    "<img src = \"https://i.pinimg.com/originals/98/82/d5/9882d569f7e0b5665fe3b2edd5069b06.png\" alt = \"Ilustrasi Deret Fibonacci\">"
   ]
  },
  {
   "cell_type": "code",
   "execution_count": null,
   "metadata": {
    "colab": {
     "base_uri": "https://localhost:8080/"
    },
    "executionInfo": {
     "elapsed": 534,
     "status": "ok",
     "timestamp": 1627278405219,
     "user": {
      "displayName": "Adam Mukharil Bachtiar",
      "photoUrl": "https://lh3.googleusercontent.com/a-/AOh14GgJw6pmR0uaa0upvAW6cptf4bPmiEhm1MAS1rx45as=s64",
      "userId": "18309246717753247212"
     },
     "user_tz": -420
    },
    "id": "dTohmfpzWUUl",
    "outputId": "d8db1e95-fc9b-403c-e30f-26b8c09a1a01"
   },
   "outputs": [],
   "source": [
    "def fib(n):\n",
    "  if n < 1:\n",
    "    return None\n",
    "  if n < 3:\n",
    "    return 1\n",
    "\n",
    "  elem_1 = elem_2 = 1\n",
    "  the_sum = 0\n",
    "  \n",
    "  for i in range(3, n + 1):\n",
    "    the_sum = elem_1 + elem_2\n",
    "    elem_1, elem_2 = elem_2, the_sum\n",
    "  \n",
    "  return the_sum\n",
    "\n",
    "for n in range(1, 10):  # testing\n",
    "    print(n, \"->\", fib(n))"
   ]
  },
  {
   "cell_type": "markdown",
   "metadata": {
    "id": "66E0hqZVXOqK"
   },
   "source": [
    "Berikut kode program deret Fibonacci menggunakan rekursi:"
   ]
  },
  {
   "cell_type": "code",
   "execution_count": null,
   "metadata": {
    "colab": {
     "base_uri": "https://localhost:8080/"
    },
    "executionInfo": {
     "elapsed": 402,
     "status": "ok",
     "timestamp": 1627278759565,
     "user": {
      "displayName": "Adam Mukharil Bachtiar",
      "photoUrl": "https://lh3.googleusercontent.com/a-/AOh14GgJw6pmR0uaa0upvAW6cptf4bPmiEhm1MAS1rx45as=s64",
      "userId": "18309246717753247212"
     },
     "user_tz": -420
    },
    "id": "IjyF96_0XbUp",
    "outputId": "7b8cbb90-df4d-4da6-fe53-4bb24d2d8140"
   },
   "outputs": [],
   "source": [
    "def fib(n):\n",
    "  if n < 1:\n",
    "      return None\n",
    "  \n",
    "  if n < 3:\n",
    "      return 1\n",
    "  \n",
    "  return fib(n - 1) + fib(n - 2)\n",
    "\n",
    "\n",
    "for n in range(1,10):\n",
    "  print(n, \"->\", fib(n))"
   ]
  },
  {
   "cell_type": "markdown",
   "metadata": {
    "id": "QWgV4bQzBLhG"
   },
   "source": [
    "# Tuples dan Operasinya\n",
    "\n",
    "Sebelum memahami tentang Tuple, ada baiknya kita pahami dulu istilah-istilah berikut:\n",
    "\n",
    "| Istilah | Keterangan |\n",
    "| :--- | :--- |\n",
    "| Sequence Type | Tipe data di Python yang digunakan untuk menyimpan lebih dari satu data dan diakses per elemen ke elemen yang lain |\n",
    "| Mutability | Properti dari tipe data di Python yang mendeskripsikan bahwa data di tipe data tersebut bisa diubah dengan bebas selama program dieksekusi |\n",
    "| Immutability | Kebalikan dari Mutability |\n",
    "| Iterable | Kemampuan sebuah objek di Python (salah satunya tipe koleksi) untuk mengembalikan elemen data di dalamnya satu persatu melalui pengulangan for |\n",
    "\n",
    "Baik sekarang kita sudah bisa memahami Tuples beserta operasinya. Secara implementasi, tuples merupakan tipe koleksi yang mirip seperti list. Bedanya adalah tuples bersifat immutable sehingga tuples hanya bisa di-assign, dibaca tanpa bisa dihapus maupun diubah elemennya. Tuples sering disebut sebagai immutable list. Format umum tipe tuples adalah:\n",
    "\n",
    "```python\n",
    "nama_tuples = (elemen1, elemen2, elemen3, .., elemenN)\n",
    "atau\n",
    "nama_tuples = elemen1, elemen2, elemen3, .., elemenN)\n",
    "```\n",
    "\n",
    "Berikut contoh kode programnya:\n"
   ]
  },
  {
   "cell_type": "code",
   "execution_count": 17,
   "metadata": {
    "colab": {
     "base_uri": "https://localhost:8080/"
    },
    "executionInfo": {
     "elapsed": 319,
     "status": "ok",
     "timestamp": 1627290523903,
     "user": {
      "displayName": "Adam Mukharil Bachtiar",
      "photoUrl": "https://lh3.googleusercontent.com/a-/AOh14GgJw6pmR0uaa0upvAW6cptf4bPmiEhm1MAS1rx45as=s64",
      "userId": "18309246717753247212"
     },
     "user_tz": -420
    },
    "id": "dSDwfylGEka-",
    "outputId": "110cbcbe-e978-4359-9dc2-6c419e21195e"
   },
   "outputs": [
    {
     "name": "stdout",
     "output_type": "stream",
     "text": [
      "(1, 2, 4, 8)\n",
      "('Tinky Winky', 'Dipsy', 'Lala', 'Po')\n"
     ]
    }
   ],
   "source": [
    "tuple_1 = (1, 2, 4, 8)\n",
    "tuple_2 = \"Tinky Winky\", \"Dipsy\", \"Lala\", \"Po\"\n",
    "\n",
    "print(tuple_1)\n",
    "print(tuple_2)"
   ]
  },
  {
   "cell_type": "markdown",
   "metadata": {
    "id": "GwA9uunfHa8e"
   },
   "source": [
    "Untuk membuktikan bahwa tuples bersifat immutable, berikut kode programnya:"
   ]
  },
  {
   "cell_type": "code",
   "execution_count": 18,
   "metadata": {
    "colab": {
     "base_uri": "https://localhost:8080/",
     "height": 196
    },
    "executionInfo": {
     "elapsed": 427,
     "status": "error",
     "timestamp": 1627291227396,
     "user": {
      "displayName": "Adam Mukharil Bachtiar",
      "photoUrl": "https://lh3.googleusercontent.com/a-/AOh14GgJw6pmR0uaa0upvAW6cptf4bPmiEhm1MAS1rx45as=s64",
      "userId": "18309246717753247212"
     },
     "user_tz": -420
    },
    "id": "puVAZ66BHNZC",
    "outputId": "67ffb742-3265-4919-b879-79ae22f16574"
   },
   "outputs": [
    {
     "ename": "TypeError",
     "evalue": "'tuple' object does not support item assignment",
     "output_type": "error",
     "traceback": [
      "\u001b[0;31m---------------------------------------------------------------------------\u001b[0m",
      "\u001b[0;31mTypeError\u001b[0m                                 Traceback (most recent call last)",
      "Input \u001b[0;32mIn [18]\u001b[0m, in \u001b[0;36m<cell line: 3>\u001b[0;34m()\u001b[0m\n\u001b[1;32m      1\u001b[0m tuple_1 \u001b[38;5;241m=\u001b[39m (\u001b[38;5;124m\"\u001b[39m\u001b[38;5;124mTinky Winky\u001b[39m\u001b[38;5;124m\"\u001b[39m, \u001b[38;5;124m\"\u001b[39m\u001b[38;5;124mDipsy\u001b[39m\u001b[38;5;124m\"\u001b[39m, \u001b[38;5;124m\"\u001b[39m\u001b[38;5;124mLala\u001b[39m\u001b[38;5;124m\"\u001b[39m, \u001b[38;5;124m\"\u001b[39m\u001b[38;5;124mPo\u001b[39m\u001b[38;5;124m\"\u001b[39m)\n\u001b[0;32m----> 3\u001b[0m tuple_1[\u001b[38;5;241m2\u001b[39m] \u001b[38;5;241m=\u001b[39m \u001b[38;5;124m\"\u001b[39m\u001b[38;5;124mGoku\u001b[39m\u001b[38;5;124m\"\u001b[39m\n",
      "\u001b[0;31mTypeError\u001b[0m: 'tuple' object does not support item assignment"
     ]
    }
   ],
   "source": [
    "tuple_1 = (\"Tinky Winky\", \"Dipsy\", \"Lala\", \"Po\")\n",
    "\n",
    "tuple_1[2] = \"Goku\""
   ]
  },
  {
   "cell_type": "markdown",
   "metadata": {
    "id": "-33ke-T8Hg9b"
   },
   "source": [
    "``TypeError`` akan dihasilkan apabila tuples dimodifikasi."
   ]
  },
  {
   "cell_type": "markdown",
   "metadata": {
    "id": "Y5ykZLH3E3x8"
   },
   "source": [
    "## Cara Lain Membuat Tuples\n",
    "\n",
    "Untuk membuat tuples kosong, gunakan format berikut:\n",
    "\n",
    "```python\n",
    "nama_tuples = ()\n",
    "```\n",
    "\n",
    "Sementara untuk membuat tuples dengan 1 elemen (agar membedakan dengan inisialisasi variabel biasa) bisa gunakan format berikut:\n",
    "\n",
    "```python\n",
    "nama_tuples = (elemen, )\n",
    "atau\n",
    "nama_tuples = elemen, \n",
    "```"
   ]
  },
  {
   "cell_type": "markdown",
   "metadata": {
    "id": "GCzwlI_VHuwv"
   },
   "source": [
    "## Akses Elemen Tuples\n",
    "\n",
    "Cara pengaksesan tuples sama dengan pengaksesan elemen di list. Berikut contoh kode programnya:"
   ]
  },
  {
   "cell_type": "code",
   "execution_count": 4,
   "metadata": {
    "colab": {
     "base_uri": "https://localhost:8080/"
    },
    "executionInfo": {
     "elapsed": 419,
     "status": "ok",
     "timestamp": 1627291380681,
     "user": {
      "displayName": "Adam Mukharil Bachtiar",
      "photoUrl": "https://lh3.googleusercontent.com/a-/AOh14GgJw6pmR0uaa0upvAW6cptf4bPmiEhm1MAS1rx45as=s64",
      "userId": "18309246717753247212"
     },
     "user_tz": -420
    },
    "id": "ahzSWh-2H7l6",
    "outputId": "cde78606-1b31-4de7-e5aa-2fa1325f332d"
   },
   "outputs": [
    {
     "name": "stdout",
     "output_type": "stream",
     "text": [
      "1\n",
      "1000\n",
      "(10, 100, 1000)\n",
      "(1, 10)\n",
      "1 10 100 1000 "
     ]
    }
   ],
   "source": [
    "myTuple = (1, 10, 100, 1000)\n",
    "\n",
    "print(myTuple[0])\n",
    "print(myTuple[-1])\n",
    "print(myTuple[1:])\n",
    "print(myTuple[:-2])\n",
    "\n",
    "for elem in myTuple:\n",
    "  print(elem, end = \" \")"
   ]
  },
  {
   "cell_type": "markdown",
   "metadata": {
    "id": "_hFGMzs_LA0X"
   },
   "source": [
    "## Operasi pada Tuples\n",
    "\n",
    "Operasi pada tuples pun sama dengan List. Berikut kode programnya:\n"
   ]
  },
  {
   "cell_type": "code",
   "execution_count": 5,
   "metadata": {
    "colab": {
     "base_uri": "https://localhost:8080/"
    },
    "executionInfo": {
     "elapsed": 307,
     "status": "ok",
     "timestamp": 1627292534768,
     "user": {
      "displayName": "Adam Mukharil Bachtiar",
      "photoUrl": "https://lh3.googleusercontent.com/a-/AOh14GgJw6pmR0uaa0upvAW6cptf4bPmiEhm1MAS1rx45as=s64",
      "userId": "18309246717753247212"
     },
     "user_tz": -420
    },
    "id": "Z9QxXgxKLHVq",
    "outputId": "50dcf5c8-1258-4a70-8556-ae8e34d0a2cd"
   },
   "outputs": [
    {
     "name": "stdout",
     "output_type": "stream",
     "text": [
      "1\n",
      "2\n",
      "3\n",
      "False\n",
      "True\n",
      "4\n",
      "(1, 2, 3, 1, 2, 3, 4)\n",
      "(1, 2, 3, 5, 1, 2, 3, 5)\n"
     ]
    }
   ],
   "source": [
    "# Example 1\n",
    "t1 = (1, 2, 3)\n",
    "for elem in t1:\n",
    "    print(elem)\n",
    "\n",
    "# Example 2\n",
    "t2 = (1, 2, 3, 4)\n",
    "print(5 in t2)\n",
    "print(5 not in t2)\n",
    "\n",
    "# Example 3\n",
    "t3 = (1, 2, 3, 5)\n",
    "print(len(t3))\n",
    "\n",
    "# Example 4\n",
    "t4 = t1 + t2\n",
    "t5 = t3 * 2\n",
    "\n",
    "print(t4)\n",
    "print(t5)"
   ]
  },
  {
   "cell_type": "markdown",
   "metadata": {
    "id": "u23CVGl_LhoR"
   },
   "source": [
    "Untuk menukar nilai antar tuples, kita bisa menggunakan mekanisme yang sama dengan penukaran nilai antar variabel."
   ]
  },
  {
   "cell_type": "code",
   "execution_count": 19,
   "metadata": {
    "colab": {
     "base_uri": "https://localhost:8080/"
    },
    "executionInfo": {
     "elapsed": 305,
     "status": "ok",
     "timestamp": 1627292292013,
     "user": {
      "displayName": "Adam Mukharil Bachtiar",
      "photoUrl": "https://lh3.googleusercontent.com/a-/AOh14GgJw6pmR0uaa0upvAW6cptf4bPmiEhm1MAS1rx45as=s64",
      "userId": "18309246717753247212"
     },
     "user_tz": -420
    },
    "id": "nrUiDXxdLcQm",
    "outputId": "1afaad15-fcf1-4a78-a3ae-1e83e40e7338"
   },
   "outputs": [
    {
     "name": "stdout",
     "output_type": "stream",
     "text": [
      "(2,) (3, 123) (1,)\n"
     ]
    }
   ],
   "source": [
    "var = 123\n",
    "\n",
    "t1 = (1, )\n",
    "t2 = (2, )\n",
    "t3 = (3, var)\n",
    "\n",
    "t1, t2, t3 = t2, t3, t1\n",
    "\n",
    "print(t1, t2, t3)"
   ]
  },
  {
   "cell_type": "markdown",
   "metadata": {
    "id": "cCXy9TRPL3A9"
   },
   "source": [
    "# Dictionary dan Operasinya\n",
    "\n",
    "Tipe Dictionary merupakan tipe data Python berikutnya. Dictionary tidak termasuk sequence type dan bersifat mutable. Konsep penyimpanan data dalam Dictionary adalah konsep <B>KEY</B> dan <B>VALUE</B>. Format umum dari dictionary adalah:\n",
    "\n",
    "```python\n",
    "nama_dictionary = {key1: value1, .., keyN: valueN}\n",
    "```\n",
    "\n",
    "Contoh dictionary dapat dilihat pada kode program berikut:\n"
   ]
  },
  {
   "cell_type": "code",
   "execution_count": 20,
   "metadata": {
    "colab": {
     "base_uri": "https://localhost:8080/"
    },
    "executionInfo": {
     "elapsed": 296,
     "status": "ok",
     "timestamp": 1627293605464,
     "user": {
      "displayName": "Adam Mukharil Bachtiar",
      "photoUrl": "https://lh3.googleusercontent.com/a-/AOh14GgJw6pmR0uaa0upvAW6cptf4bPmiEhm1MAS1rx45as=s64",
      "userId": "18309246717753247212"
     },
     "user_tz": -420
    },
    "id": "s1GBmxz2Noc7",
    "outputId": "9ad553dc-0c73-4489-8c46-7807f81ab5c8"
   },
   "outputs": [
    {
     "name": "stdout",
     "output_type": "stream",
     "text": [
      "{'Jawa Barat': 'Bandung', 'Sumatra Selatan': 'Palembang', 'Sulawesi Selatan': 'Makassar'}\n",
      "{10101010: 'Budi', 10101011: 'Messi', 10101012: 'Jokowi'}\n",
      "{'Listrik': 'Pikachu', 'Dark': 'Umbreon', 'Flying': ['Pidgey', 'Pidgeot']}\n",
      "{}\n"
     ]
    }
   ],
   "source": [
    "provinsi = {\"Jawa Barat\" : \"Bandung\", \"Sumatra Selatan\" : \"Palembang\", \"Sulawesi Selatan\" : \"Makassar\"}\n",
    "mahasiswa = {10101010 : \"Budi\", 10101011 : \"Messi\", 10101012 : \"Jokowi\"}\n",
    "pokemon = {\"Listrik\" : \"Pikachu\", \"Dark\" : \"Umbreon\", \"Flying\" : [\"Pidgey\", \"Pidgeot\"]}\n",
    "dictionary_kosong = {}\n",
    "\n",
    "print(provinsi)\n",
    "print(mahasiswa)\n",
    "print(pokemon)\n",
    "print(dictionary_kosong)"
   ]
  },
  {
   "cell_type": "markdown",
   "metadata": {
    "id": "naU66dhsPw1H"
   },
   "source": [
    "Aturan dalam dictionary:\n",
    "\n",
    "1. Setiap kunci harus bersifat <B>UNIQUE</B>.\n",
    "2. Kunci bisa berupa tipe data apapun.\n",
    "3. Pengaksesan elemen Dictionary diakses dengan menyebutkan kunci yang akan berimbas ke munculnya nilai sesuai kunci yang diakses tapi tidak sebaliknya.\n",
    "4. Fungsi ``len()`` di Dictionary akan mengembalikan jumlah pasangan kunci-nilai (key-value) yang ada pada Dictionary.\n",
    "\n",
    "><B>Catatan:</B> value dalam dictionary bisa bertipe list, seperti yang bisa dilihat pada dictionary pokemon.\n",
    "\n",
    "Tidak seperti list yang elemennya diakses dengan menggunakan indeks, dictionary mengakses elemennya dengan menggunakan pasangan key dan value-nya. Berikut contoh kode programnya:\n"
   ]
  },
  {
   "cell_type": "code",
   "execution_count": null,
   "metadata": {
    "colab": {
     "base_uri": "https://localhost:8080/"
    },
    "executionInfo": {
     "elapsed": 315,
     "status": "ok",
     "timestamp": 1627349162508,
     "user": {
      "displayName": "Adam Mukharil Bachtiar",
      "photoUrl": "https://lh3.googleusercontent.com/a-/AOh14GgJw6pmR0uaa0upvAW6cptf4bPmiEhm1MAS1rx45as=s64",
      "userId": "18309246717753247212"
     },
     "user_tz": -420
    },
    "id": "NDG_0eh1j7DU",
    "outputId": "8e77fbe4-498f-45c4-ebfe-72a615938aa5"
   },
   "outputs": [],
   "source": [
    "provinsi = {\"Jawa Barat\" : \"Bandung\", \"Sumatra Selatan\" : \"Palembang\", \"Sulawesi Selatan\" : \"Makassar\"}\n",
    "print(provinsi[\"Jawa Barat\"])\n",
    "\n",
    "mahasiswa = {10101010 : \"Budi\", 10101011 : \"Messi\", 10101012 : \"Jokowi\"}\n",
    "print(mahasiswa[10101012])\n",
    "\n",
    "pokemon = {\"Listrik\" : \"Pikachu\", \"Dark\" : \"Umbreon\", \"Flying\" : [\"Pidgey\", \"Pidgeot\"]}\n",
    "print(pokemon[\"Flying\"][1])"
   ]
  },
  {
   "cell_type": "markdown",
   "metadata": {
    "id": "l4C5bpsoLvYg"
   },
   "source": [
    "><B>Catatan:</B> Ada cara lain mengakses value dari sebuah Dictionary, yaitu menggunakan fungsi ``get(key)``"
   ]
  },
  {
   "cell_type": "code",
   "execution_count": null,
   "metadata": {
    "colab": {
     "base_uri": "https://localhost:8080/"
    },
    "executionInfo": {
     "elapsed": 324,
     "status": "ok",
     "timestamp": 1627359646959,
     "user": {
      "displayName": "Adam Mukharil Bachtiar",
      "photoUrl": "https://lh3.googleusercontent.com/a-/AOh14GgJw6pmR0uaa0upvAW6cptf4bPmiEhm1MAS1rx45as=s64",
      "userId": "18309246717753247212"
     },
     "user_tz": -420
    },
    "id": "4Z8YOnMjMAUV",
    "outputId": "9283cb5e-196f-4ef5-a5a3-cc84d72c9833"
   },
   "outputs": [],
   "source": [
    "provinsi = {\"Jawa Barat\" : \"Bandung\", \"Sumatra Selatan\" : \"Palembang\", \"Sulawesi Selatan\" : \"Makassar\"}\n",
    "print(provinsi.get(\"Jawa Barat\"))\n",
    "\n",
    "mahasiswa = {10101010 : \"Budi\", 10101011 : \"Messi\", 10101012 : \"Jokowi\"}\n",
    "print(mahasiswa.get(10101012))\n",
    "\n",
    "pokemon = {\"Listrik\" : \"Pikachu\", \"Dark\" : \"Umbreon\", \"Flying\" : [\"Pidgey\", \"Pidgeot\"]}\n",
    "print(pokemon.get(\"Flying\")[1])"
   ]
  },
  {
   "cell_type": "markdown",
   "metadata": {
    "id": "2_W5Tn40koGR"
   },
   "source": [
    "Seperti yang disebutkan sebelumnya bahwa untuk mengakses elemen di dalam Dictionary, kita mengakses via kuncinya tapi tidak sebaliknya. Berikut contoh kode program untuk membuktikan hal tersebut:"
   ]
  },
  {
   "cell_type": "code",
   "execution_count": null,
   "metadata": {
    "colab": {
     "base_uri": "https://localhost:8080/",
     "height": 179
    },
    "executionInfo": {
     "elapsed": 332,
     "status": "error",
     "timestamp": 1627349294904,
     "user": {
      "displayName": "Adam Mukharil Bachtiar",
      "photoUrl": "https://lh3.googleusercontent.com/a-/AOh14GgJw6pmR0uaa0upvAW6cptf4bPmiEhm1MAS1rx45as=s64",
      "userId": "18309246717753247212"
     },
     "user_tz": -420
    },
    "id": "-b2o1m3Bk0hz",
    "outputId": "1d1879a3-536a-417b-f71e-b391358d72a3"
   },
   "outputs": [],
   "source": [
    "provinsi = {\"Jawa Barat\" : \"Bandung\", \"Sumatra Selatan\" : \"Palembang\", \"Sulawesi Selatan\" : \"Makassar\"}\n",
    "print(provinsi[\"Palembang\"])"
   ]
  },
  {
   "cell_type": "markdown",
   "metadata": {
    "id": "m9DhvZWik7wx"
   },
   "source": [
    "Pengaksesan langsung ke nilai dalam Dictionary menyebabkan error berupa ``KeyError``."
   ]
  },
  {
   "cell_type": "markdown",
   "metadata": {
    "id": "sCrnTaDDlGhJ"
   },
   "source": [
    "Karena Dictionary bersifat iterable, maka kita bisa melakukan pengaksesan elemennya dengan menggunakan perulangan for. Contoh kode programnya sebagai berikut:\n"
   ]
  },
  {
   "cell_type": "code",
   "execution_count": 6,
   "metadata": {
    "colab": {
     "base_uri": "https://localhost:8080/"
    },
    "executionInfo": {
     "elapsed": 398,
     "status": "ok",
     "timestamp": 1627356559707,
     "user": {
      "displayName": "Adam Mukharil Bachtiar",
      "photoUrl": "https://lh3.googleusercontent.com/a-/AOh14GgJw6pmR0uaa0upvAW6cptf4bPmiEhm1MAS1rx45as=s64",
      "userId": "18309246717753247212"
     },
     "user_tz": -420
    },
    "id": "80ERfDhP-dTB",
    "outputId": "785cba78-3385-43f2-a61f-f972bd72aab8"
   },
   "outputs": [
    {
     "name": "stdout",
     "output_type": "stream",
     "text": [
      "Jawa Barat : Bandung\n",
      "Sumatra Selatan : Palembang\n",
      "Sulawesi Selatan : Makassar\n"
     ]
    }
   ],
   "source": [
    "provinsi = {\"Jawa Barat\" : \"Bandung\", \"Sumatra Selatan\" : \"Palembang\", \"Sulawesi Selatan\" : \"Makassar\"}\n",
    "\n",
    "for key in provinsi.keys():\n",
    "  print(key,\":\",provinsi[key])"
   ]
  },
  {
   "cell_type": "markdown",
   "metadata": {
    "id": "J317--yF_hwK"
   },
   "source": [
    "><B>Catatan:</B> Untuk meningkatkan readibility Dictionary, sebaiknya Dictionary dituliskan dalam bentuk <B>HANGING INDENT</B>."
   ]
  },
  {
   "cell_type": "code",
   "execution_count": 4,
   "metadata": {
    "colab": {
     "base_uri": "https://localhost:8080/"
    },
    "executionInfo": {
     "elapsed": 320,
     "status": "ok",
     "timestamp": 1627356504014,
     "user": {
      "displayName": "Adam Mukharil Bachtiar",
      "photoUrl": "https://lh3.googleusercontent.com/a-/AOh14GgJw6pmR0uaa0upvAW6cptf4bPmiEhm1MAS1rx45as=s64",
      "userId": "18309246717753247212"
     },
     "user_tz": -420
    },
    "id": "RzcLs2DEACEa",
    "outputId": "d2ea36b8-04d6-4c34-b2ea-5e150c3a6bfe"
   },
   "outputs": [
    {
     "name": "stdout",
     "output_type": "stream",
     "text": [
      "{'Jawa Barat': 'Bandung', 'Sumatra Selatan': 'Palembang', 'Sulawesi Selatan': 'Makassar'}\n"
     ]
    }
   ],
   "source": [
    "provinsi = {\n",
    "              \"Jawa Barat\" : \"Bandung\",\n",
    "              \"Sumatra Selatan\" : \"Palembang\",\n",
    "              \"Sulawesi Selatan\" : \"Makassar\" \n",
    "           }\n",
    "\n",
    "print(provinsi)"
   ]
  },
  {
   "cell_type": "markdown",
   "metadata": {
    "id": "XX9whJuAArNx"
   },
   "source": [
    "## Sorted Function\n",
    "\n",
    "Apabila kita ingin menampilkan isi dari Dictionary dalam kondisi terurut, maka Python menyediakan fungsi ``sorted()``. Berikut contoh penggunaannya:"
   ]
  },
  {
   "cell_type": "code",
   "execution_count": 7,
   "metadata": {
    "colab": {
     "base_uri": "https://localhost:8080/"
    },
    "executionInfo": {
     "elapsed": 322,
     "status": "ok",
     "timestamp": 1627356701843,
     "user": {
      "displayName": "Adam Mukharil Bachtiar",
      "photoUrl": "https://lh3.googleusercontent.com/a-/AOh14GgJw6pmR0uaa0upvAW6cptf4bPmiEhm1MAS1rx45as=s64",
      "userId": "18309246717753247212"
     },
     "user_tz": -420
    },
    "id": "9YyyR0U3A6Vz",
    "outputId": "497f98ef-4655-49ac-97da-6adbe22717f6"
   },
   "outputs": [
    {
     "name": "stdout",
     "output_type": "stream",
     "text": [
      "Dark : Umbreon\n",
      "Flying : ['Pidgey', 'Pidgeot']\n",
      "Listrik : Pikachu\n"
     ]
    }
   ],
   "source": [
    "pokemon = {\"Listrik\" : \"Pikachu\", \"Dark\" : \"Umbreon\", \"Flying\" : [\"Pidgey\", \"Pidgeot\"]}\n",
    "\n",
    "for key in sorted(pokemon.keys()):\n",
    "  print(key,\":\",pokemon[key])"
   ]
  },
  {
   "cell_type": "markdown",
   "metadata": {
    "id": "zeazPKGWBlUM"
   },
   "source": [
    "## items() dan values() Method\n",
    "\n",
    "Fungsi ``items()`` mengembalikan tuples dimana tuples berisi pasangan key-value. Berikut contoh penggunaannya:\n",
    "\n"
   ]
  },
  {
   "cell_type": "code",
   "execution_count": 2,
   "metadata": {
    "colab": {
     "base_uri": "https://localhost:8080/"
    },
    "executionInfo": {
     "elapsed": 404,
     "status": "ok",
     "timestamp": 1627357114351,
     "user": {
      "displayName": "Adam Mukharil Bachtiar",
      "photoUrl": "https://lh3.googleusercontent.com/a-/AOh14GgJw6pmR0uaa0upvAW6cptf4bPmiEhm1MAS1rx45as=s64",
      "userId": "18309246717753247212"
     },
     "user_tz": -420
    },
    "id": "S7BZJH0RCPgC",
    "outputId": "9c0ad0a1-ffd0-426e-bdee-0713b3f16b39"
   },
   "outputs": [
    {
     "name": "stdout",
     "output_type": "stream",
     "text": [
      "Listrik : Pikachu\n",
      "Dark : Umbreon\n",
      "Flying : ['Pidgey', 'Pidgeot']\n"
     ]
    }
   ],
   "source": [
    "pokemon = {\"Listrik\" : \"Pikachu\", \"Dark\" : \"Umbreon\", \"Flying\" : [\"Pidgey\", \"Pidgeot\"]}\n",
    "\n",
    "for tipe, nama_pokemon in pokemon.items():\n",
    "  print(tipe,\":\",nama_pokemon)"
   ]
  },
  {
   "cell_type": "markdown",
   "metadata": {
    "id": "NU0wYbvkC0Sx"
   },
   "source": [
    "Sementara fungsi ``values()`` bekerja mirip fungsi ``key()`` tapi mengembalikan nilai, bukan kunci. Berikut contoh penggunaannya:"
   ]
  },
  {
   "cell_type": "code",
   "execution_count": 3,
   "metadata": {
    "colab": {
     "base_uri": "https://localhost:8080/"
    },
    "executionInfo": {
     "elapsed": 405,
     "status": "ok",
     "timestamp": 1627357251900,
     "user": {
      "displayName": "Adam Mukharil Bachtiar",
      "photoUrl": "https://lh3.googleusercontent.com/a-/AOh14GgJw6pmR0uaa0upvAW6cptf4bPmiEhm1MAS1rx45as=s64",
      "userId": "18309246717753247212"
     },
     "user_tz": -420
    },
    "id": "joqrhIuADDya",
    "outputId": "d48f3031-e8df-439a-eff3-80d70dc5ec47"
   },
   "outputs": [
    {
     "name": "stdout",
     "output_type": "stream",
     "text": [
      "Pikachu\n",
      "Umbreon\n",
      "['Pidgey', 'Pidgeot']\n"
     ]
    }
   ],
   "source": [
    "pokemon = {\"Listrik\" : \"Pikachu\", \"Dark\" : \"Umbreon\", \"Flying\" : [\"Pidgey\", \"Pidgeot\"]}\n",
    "\n",
    "for nama_pokemon in pokemon.values():\n",
    "  print(nama_pokemon)"
   ]
  },
  {
   "cell_type": "markdown",
   "metadata": {
    "id": "rN6l-421DUNo"
   },
   "source": [
    "## Modifikasi Dictionary\n",
    "\n",
    "Dictionary bersifat mutable sehingga kita memodifikasi data yang ada di Dictionary. Untuk memodifikasi value dari sebuah Dictionary, kita bisa melakukannya dengan mengakses key-nya. Berikut contoh kode programnya:"
   ]
  },
  {
   "cell_type": "code",
   "execution_count": null,
   "metadata": {
    "colab": {
     "base_uri": "https://localhost:8080/"
    },
    "executionInfo": {
     "elapsed": 409,
     "status": "ok",
     "timestamp": 1627357535320,
     "user": {
      "displayName": "Adam Mukharil Bachtiar",
      "photoUrl": "https://lh3.googleusercontent.com/a-/AOh14GgJw6pmR0uaa0upvAW6cptf4bPmiEhm1MAS1rx45as=s64",
      "userId": "18309246717753247212"
     },
     "user_tz": -420
    },
    "id": "c93vT3-VEJXV",
    "outputId": "22b5ca82-99bb-40b4-918b-6aae489792be"
   },
   "outputs": [],
   "source": [
    "pokemon = {\"Listrik\" : \"Pikachu\", \"Dark\" : \"Umbreon\", \"Flying\" : [\"Pidgey\", \"Pidgeot\"]}\n",
    "\n",
    "pokemon[\"Listrik\"] = \"Raikou\"\n",
    "\n",
    "print(pokemon)"
   ]
  },
  {
   "cell_type": "markdown",
   "metadata": {
    "id": "MbV-2tdbEaL0"
   },
   "source": [
    "Sementara untuk menambah pasangan key-value di dalam dictionary, kita bisa menggunakan cara yang sama dengan cara memodifikasi value akan tetapi pastikan key-nya belum ada di Dictionary. Berikut contoh kode programnya:"
   ]
  },
  {
   "cell_type": "code",
   "execution_count": null,
   "metadata": {
    "colab": {
     "base_uri": "https://localhost:8080/"
    },
    "executionInfo": {
     "elapsed": 362,
     "status": "ok",
     "timestamp": 1627357692812,
     "user": {
      "displayName": "Adam Mukharil Bachtiar",
      "photoUrl": "https://lh3.googleusercontent.com/a-/AOh14GgJw6pmR0uaa0upvAW6cptf4bPmiEhm1MAS1rx45as=s64",
      "userId": "18309246717753247212"
     },
     "user_tz": -420
    },
    "id": "F5cFD0I3E1MR",
    "outputId": "0027ab2b-c955-4f37-cbef-6748f175f26f"
   },
   "outputs": [],
   "source": [
    "pokemon = {\"Listrik\" : \"Pikachu\", \"Dark\" : \"Umbreon\", \"Flying\" : [\"Pidgey\", \"Pidgeot\"]}\n",
    "\n",
    "pokemon[\"Fairy\"] = \"Sylveon\"\n",
    "\n",
    "print(pokemon)"
   ]
  },
  {
   "cell_type": "markdown",
   "metadata": {
    "id": "TNubw0IbFDf5"
   },
   "source": [
    "Cara lain adalah menggunakan fungsi ``update()`` sebagai berikut:"
   ]
  },
  {
   "cell_type": "code",
   "execution_count": 8,
   "metadata": {
    "colab": {
     "base_uri": "https://localhost:8080/"
    },
    "executionInfo": {
     "elapsed": 311,
     "status": "ok",
     "timestamp": 1627357977352,
     "user": {
      "displayName": "Adam Mukharil Bachtiar",
      "photoUrl": "https://lh3.googleusercontent.com/a-/AOh14GgJw6pmR0uaa0upvAW6cptf4bPmiEhm1MAS1rx45as=s64",
      "userId": "18309246717753247212"
     },
     "user_tz": -420
    },
    "id": "9hanutuKFChi",
    "outputId": "8edaa1f8-f8a4-4e45-fb93-1d78507b69ca"
   },
   "outputs": [
    {
     "name": "stdout",
     "output_type": "stream",
     "text": [
      "{'Listrik': 'Pikachu', 'Dark': 'Umbreon', 'Flying': ['Pidgey', 'Pidgeot'], 'Fairy': 'Sylveon'}\n"
     ]
    }
   ],
   "source": [
    "pokemon = {\"Listrik\" : \"Pikachu\", \"Dark\" : \"Umbreon\", \"Flying\" : [\"Pidgey\", \"Pidgeot\"]}\n",
    "\n",
    "pokemon.update({\"Fairy\" : \"Sylveon\"})\n",
    "\n",
    "print(pokemon)"
   ]
  },
  {
   "cell_type": "markdown",
   "metadata": {
    "id": "UpzNFAc_GJFb"
   },
   "source": [
    "Terakhir, untuk menghapus key dalam Dictionary, kita bisa menggunakan fungsi ``del``. Berikut contoh penggunaannya:"
   ]
  },
  {
   "cell_type": "code",
   "execution_count": null,
   "metadata": {
    "colab": {
     "base_uri": "https://localhost:8080/"
    },
    "executionInfo": {
     "elapsed": 346,
     "status": "ok",
     "timestamp": 1627358177876,
     "user": {
      "displayName": "Adam Mukharil Bachtiar",
      "photoUrl": "https://lh3.googleusercontent.com/a-/AOh14GgJw6pmR0uaa0upvAW6cptf4bPmiEhm1MAS1rx45as=s64",
      "userId": "18309246717753247212"
     },
     "user_tz": -420
    },
    "id": "j-tbpVz7Gofz",
    "outputId": "981f553f-3cc8-4b37-aa63-e0627181d4a9"
   },
   "outputs": [],
   "source": [
    "pokemon = {'Listrik': 'Pikachu', 'Dark': 'Umbreon', 'Flying': ['Pidgey', 'Pidgeot'], 'Fairy': 'Sylveon'}\n",
    "\n",
    "del pokemon[\"Fairy\"]\n",
    "\n",
    "print(pokemon)"
   ]
  },
  {
   "cell_type": "markdown",
   "metadata": {
    "id": "z0oynvTYG1F5"
   },
   "source": [
    "><B>Catatan:</B> Ada sebuah fungsi yang bisa digunakan untuk menghapus key yang berada di posisi terakhir Dictionary. Fungsi tersebut adalah ``popitem()``."
   ]
  },
  {
   "cell_type": "code",
   "execution_count": 10,
   "metadata": {
    "colab": {
     "base_uri": "https://localhost:8080/"
    },
    "executionInfo": {
     "elapsed": 411,
     "status": "ok",
     "timestamp": 1627358318270,
     "user": {
      "displayName": "Adam Mukharil Bachtiar",
      "photoUrl": "https://lh3.googleusercontent.com/a-/AOh14GgJw6pmR0uaa0upvAW6cptf4bPmiEhm1MAS1rx45as=s64",
      "userId": "18309246717753247212"
     },
     "user_tz": -420
    },
    "id": "6Wq0tyzNHQ0s",
    "outputId": "dfe1fca0-167f-498c-cd24-b145fc450155"
   },
   "outputs": [
    {
     "name": "stdout",
     "output_type": "stream",
     "text": [
      "{'Listrik': 'Pikachu', 'Dark': 'Umbreon', 'Flying': ['Pidgey', 'Pidgeot']}\n"
     ]
    }
   ],
   "source": [
    "pokemon = {'Listrik': 'Pikachu', 'Dark': 'Umbreon', 'Flying': ['Pidgey', 'Pidgeot'], 'Fairy': 'Sylveon'}\n",
    "\n",
    "pokemon.popitem()\n",
    "\n",
    "print(pokemon)"
   ]
  },
  {
   "cell_type": "markdown",
   "metadata": {
    "id": "RsJcjfHdHkV4"
   },
   "source": [
    "## Hands on Lab 11: Tuples bekerjasama dengan Dictionary\n",
    "\n",
    "Pahami dan jalankan kode program berikut:\n",
    "\n",
    "Test Data:\n",
    "\n",
    "```python\n",
    "Enter the student's name: Bob\n",
    "Enter the student's score (0-10): 7\n",
    "Enter the student's name: Andy\n",
    "Enter the student's score (0-10): 3\n",
    "Enter the student's name: Bob\n",
    "Enter the student's score (0-10): 2\n",
    "Enter the student's name: Andy\n",
    "Enter the student's score (0-10): 10\n",
    "Enter the student's name: Andy\n",
    "Enter the student's score (0-10): 3\n",
    "Enter the student's name: Bob\n",
    "Enter the student's score (0-10): 9\n",
    "Enter the student's name:\n",
    "Andy : 5.333333333333333\n",
    "Bob : 6.0\n",
    "```"
   ]
  },
  {
   "cell_type": "code",
   "execution_count": null,
   "metadata": {
    "colab": {
     "base_uri": "https://localhost:8080/"
    },
    "executionInfo": {
     "elapsed": 16315,
     "status": "ok",
     "timestamp": 1627358457883,
     "user": {
      "displayName": "Adam Mukharil Bachtiar",
      "photoUrl": "https://lh3.googleusercontent.com/a-/AOh14GgJw6pmR0uaa0upvAW6cptf4bPmiEhm1MAS1rx45as=s64",
      "userId": "18309246717753247212"
     },
     "user_tz": -420
    },
    "id": "eovtxC9fHxrX",
    "outputId": "dbcb9927-88b8-42d6-9736-941565b04fc7"
   },
   "outputs": [],
   "source": [
    "school_class = {}\n",
    "\n",
    "while True:\n",
    "    name = input(\"Enter the student's name: \")\n",
    "    if name == '':\n",
    "        break\n",
    "    \n",
    "    score = int(input(\"Enter the student's score (0-10): \"))\n",
    "    if score not in range(0, 11):\n",
    "\t    break\n",
    "    \n",
    "    if name in school_class:\n",
    "        school_class[name] += (score,)\n",
    "    else:\n",
    "        school_class[name] = (score,)\n",
    "        \n",
    "for name in sorted(school_class.keys()):\n",
    "    adding = 0\n",
    "    counter = 0\n",
    "    for score in school_class[name]:\n",
    "        adding += score\n",
    "        counter += 1\n",
    "    print(name, \":\", adding / counter)"
   ]
  },
  {
   "cell_type": "markdown",
   "metadata": {
    "id": "87R1BvLeIEoY"
   },
   "source": [
    "Penjelasan dari kode program:\n",
    "\n",
    "| Baris | Keterangan |\n",
    "| :--- | :--- |\n",
    "| 1 | Membuat sebuah Dictionary kosong untuk menampung input data. Student's name digunakan sebagai key sementara nilai dari setiap Student disimpan dalam bentuk Tuples (sebagai value dari Dictionary) |\n",
    "| 3 | Membuat infinite loop (akan dipaksa berhenti dengan ``break``) |\n",
    "| 4 | Input Student's name |\n",
    "| 5 - 6 | Jika namanya dikosongkan maka perulangan berhenti | \n",
    "| 8 | Input nilai dari Student yang dimasukkan (range 0-10) |\n",
    "| 10 - 11 | Jika Student's name sudah ada dalam Dictionary, program akan menambahkan nilai di Student yang bersangkutan | 12 - 13 | Jika Student's name baru, tambahkan entry dengan value-nya berupa one-element tuple berisi nilai dari Student tersebut |\n",
    "| 15 | Iterasi untuk seluruh key yang ada di Dictionary (sudah diurutkan dahulu) |\n",
    "| 16 - 17 | Inisialiasi data yang dibutuhkan untuk perhitungan rata-rata nilai |\n",
    "| 18 - 20 | Data dalam tuple diiterasi untuk dihitung rata-ratanya |\n",
    "| 21 | Tampilkan Student's name beserta rata-rata nilainya |"
   ]
  },
  {
   "cell_type": "markdown",
   "metadata": {
    "id": "SDVoCRaFMwph"
   },
   "source": [
    "## Hands on Lab 12: Project Tic Tac Toe\n",
    "\n",
    "<br>\n",
    "<img src = \"https://www.megabagus.id/wp-content/uploads/2019/11/tictactoe.png\" alt = \"Ilustrasi tic tac toe\">\n",
    "\n",
    "Buatlah program sederhana untuk bermain tic tac toe dengan pengguna. Asumsinya (sudah disederhanakan terlebih dahulu):\n",
    "\n",
    "1. Komputer (dalam hal ini program yang kita buat, bermain sebagai simbol X.\n",
    "\n",
    "2. Kita akan bermain sebagai simbol O.\n",
    "\n",
    "3. Langkah pertama untuk komputer dan langkahnya selalu memberikan X di tengah papan permainan.\n",
    "\n",
    "4. Semua kotak di papan permainan ditandai dengan angka perbarisnya dimulai dari 1 (lihat di ilustrasi). Pengguna meng-input dengan cara memasukkan nomor yang mau diberi simbol O. Input harus valid dan tidak boleh memilih kotak yang sudah dipesan oleh musuh.\n",
    "\n",
    "5. Program mengecek apakah permainannya sudah berakhir atau belum. Ada 4 kondisi: permainan masih berlanjut, permainan berakhir seri, pengguna menang, atau program yang menang.\n",
    "\n",
    "6. Komputer merespon pilihan pengguna dengan langkah selanjutnya dan pengecekan pada poin 5 dilakukan berulang.\n",
    "\n",
    "7. Jangan mengimplementasi AI (Artificial Intelligence). Komputer berjalan dengan cara menggunakan fungsi ``random()`` yang ada di Python.\n",
    "\n",
    "Berikut ilustrasi permainan Tic Tac Toe yang sudah disederhanakan:\n",
    "\n",
    "```\n",
    "+-------+-------+-------+\n",
    "|       |       |       |\n",
    "|   1   |   2   |   3   |\n",
    "|       |       |       |\n",
    "+-------+-------+-------+\n",
    "|       |       |       |\n",
    "|   4   |   X   |   6   |\n",
    "|       |       |       |\n",
    "+-------+-------+-------+\n",
    "|       |       |       |\n",
    "|   7   |   8   |   9   |\n",
    "|       |       |       |\n",
    "+-------+-------+-------+\n",
    "Enter your move: 1\n",
    "+-------+-------+-------+\n",
    "|       |       |       |\n",
    "|   O   |   2   |   3   |\n",
    "|       |       |       |\n",
    "+-------+-------+-------+\n",
    "|       |       |       |\n",
    "|   4   |   X   |   6   |\n",
    "|       |       |       |\n",
    "+-------+-------+-------+\n",
    "|       |       |       |\n",
    "|   7   |   8   |   9   |\n",
    "|       |       |       |\n",
    "+-------+-------+-------+\n",
    "+-------+-------+-------+\n",
    "|       |       |       |\n",
    "|   O   |   X   |   3   |\n",
    "|       |       |       |\n",
    "+-------+-------+-------+\n",
    "|       |       |       |\n",
    "|   4   |   X   |   6   |\n",
    "|       |       |       |\n",
    "+-------+-------+-------+\n",
    "|       |       |       |\n",
    "|   7   |   8   |   9   |\n",
    "|       |       |       |\n",
    "+-------+-------+-------+\n",
    "Enter your move: 8\n",
    "+-------+-------+-------+\n",
    "|       |       |       |\n",
    "|   O   |   X   |   3   |\n",
    "|       |       |       |\n",
    "+-------+-------+-------+\n",
    "|       |       |       |\n",
    "|   4   |   X   |   6   |\n",
    "|       |       |       |\n",
    "+-------+-------+-------+\n",
    "|       |       |       |\n",
    "|   7   |   O   |   9   |\n",
    "|       |       |       |\n",
    "+-------+-------+-------+\n",
    "+-------+-------+-------+\n",
    "|       |       |       |\n",
    "|   O   |   X   |   3   |\n",
    "|       |       |       |\n",
    "+-------+-------+-------+\n",
    "|       |       |       |\n",
    "|   4   |   X   |   X   |\n",
    "|       |       |       |\n",
    "+-------+-------+-------+\n",
    "|       |       |       |\n",
    "|   7   |   O   |   9   |\n",
    "|       |       |       |\n",
    "+-------+-------+-------+\n",
    "Enter your move: 4\n",
    "+-------+-------+-------+\n",
    "|       |       |       |\n",
    "|   O   |   X   |   3   |\n",
    "|       |       |       |\n",
    "+-------+-------+-------+\n",
    "|       |       |       |\n",
    "|   O   |   X   |   X   |\n",
    "|       |       |       |\n",
    "+-------+-------+-------+\n",
    "|       |       |       |\n",
    "|   7   |   O   |   9   |\n",
    "|       |       |       |\n",
    "+-------+-------+-------+\n",
    "+-------+-------+-------+\n",
    "|       |       |       |\n",
    "|   O   |   X   |   X   |\n",
    "|       |       |       |\n",
    "+-------+-------+-------+\n",
    "|       |       |       |\n",
    "|   O   |   X   |   X   |\n",
    "|       |       |       |\n",
    "+-------+-------+-------+\n",
    "|       |       |       |\n",
    "|   7   |   O   |   9   |\n",
    "|       |       |       |\n",
    "+-------+-------+-------+\n",
    "Enter your move: 7\n",
    "+-------+-------+-------+\n",
    "|       |       |       |\n",
    "|   O   |   X   |   X   |\n",
    "|       |       |       |\n",
    "+-------+-------+-------+\n",
    "|       |       |       |\n",
    "|   O   |   X   |   X   |\n",
    "|       |       |       |\n",
    "+-------+-------+-------+\n",
    "|       |       |       |\n",
    "|   O   |   O   |   9   |\n",
    "|       |       |       |\n",
    "+-------+-------+-------+\n",
    "You won!\n",
    "```\n",
    "\n",
    "<B>KETERANGAN TAMBAHAN</B>\n",
    "\n",
    "1. Papan permainan disimpan dalam bentuk tiga elemen list sementara setiap elemen di dalamnya direpresentasikan dalam bentuk tiga elemen list juga (inner list sebagai representasi baris). Contoh akses setiap kotak dalam permainan:\n",
    "\n",
    "```\n",
    "board[row][column]\n",
    "```\n",
    "2. Setiap elemen inner list bisa berisi 'O' 'X', atau digit yang merepresentasikan bahwa kotak itu masih kosong.\n",
    "3. Tampilan papan permainan samakan dengan ilustrasi yang diberikan.\n",
    "4. Implementasikan fungsi sesuai standar kode program berikut:\n",
    "\n",
    "```python\n",
    "def DisplayBoard(board):\n",
    "#\n",
    "# the function accepts one parameter containing the board's current status\n",
    "# and prints it out to the console\n",
    "#\n",
    "\n",
    "def EnterMove(board):\n",
    "#\n",
    "# the function accepts the board current status, asks the user about their move, \n",
    "# checks the input and updates the board according to the user's decision\n",
    "#\n",
    "\n",
    "def MakeListOfFreeFields(board):\n",
    "#\n",
    "# the function browses the board and builds a list of all the free squares; \n",
    "# the list consists of tuples, while each tuple is a pair of row and column numbers\n",
    "#\n",
    "\n",
    "def VictoryFor(board, sign):\n",
    "#\n",
    "# the function analyzes the board status in order to check if \n",
    "# the player using 'O's or 'X's has won the game\n",
    "#\n",
    "\n",
    "def DrawMove(board):\n",
    "#\n",
    "# the function draws the computer's move and updates the board\n",
    "#\n",
    "```\n",
    "\n",
    "Untuk bisa mengacak isian dari komputer, gunakan fungsi ``randrange()`` yang rentang acakannya dari 0 sampai dengan 8. Gunakan kode program berikut untuk bisa mengakses dungsi ``randrange()``:\n",
    "\n",
    "```python\n",
    "from random import randrange\n",
    "\n",
    "for i in range(10):\n",
    "    print(randrange(8))\n",
    "```"
   ]
  },
  {
   "cell_type": "code",
   "execution_count": null,
   "metadata": {
    "id": "bNKXLXE9U2_-"
   },
   "outputs": [],
   "source": [
    "from random import randrange\n",
    "\n",
    "def DisplayBoard(board):\n",
    "  print(\"+-------\" * 3,\"+\",sep=\"\")\n",
    "  \n",
    "  for row in range(3):\n",
    "    print(\"|       \" * 3,\"|\",sep=\"\")\n",
    "\t\t\n",
    "    for col in range(3):\n",
    "      print(\"|   \" + str(board[row][col]) + \"   \",end=\"\")\n",
    "\t\t\n",
    "    print(\"|\")\n",
    "    print(\"|       \" * 3,\"|\",sep=\"\")\n",
    "    print(\"+-------\" * 3,\"+\",sep=\"\")\n",
    "\n",
    "def EnterMove(board):\n",
    "  ok = False\t# fake assumption - we need it to enter the loop\n",
    "  \n",
    "  while not ok:\n",
    "    move = input(\"Enter your move: \") \n",
    "    ok = len(move) == 1 and move >= '1' and move <= '9' # is user's input valid?\n",
    "    \n",
    "    if not ok:\n",
    "      print(\"Bad move - repeat your input!\") # no, it isn't - do the input again\n",
    "      continue\n",
    "\n",
    "    move = int(move) - 1 \t# cell's number from 0 to 8\n",
    "    row = move // 3 \t# cell's row\n",
    "    col = move % 3\t\t# cell's column\n",
    "    sign = board[row][col]\t# check the selected square\n",
    "    ok = sign not in ['O','X'] \n",
    "    \n",
    "    if not ok:\t# it's occupied - to the input again\n",
    "      print(\"Field already occupied - repeat your input!\")\n",
    "      continue\n",
    "  \n",
    "  board[row][col] = 'O' \t# set '0' at the selected square\n",
    "\n",
    "def MakeListOfFreeFields(board):\n",
    "  free = []\t# the list is empty initially\n",
    "  \n",
    "  for row in range(3): # iterate through rows\n",
    "    for col in range(3): # iterate through columns\n",
    "      if board[row][col] not in ['O','X']: # is the cell free?\n",
    "        free.append((row,col)) # yes, it is - append new tuple to the list\n",
    "\t\n",
    "  return free\n",
    "\n",
    "def VictoryFor(board,sgn):\n",
    "  if sgn == \"X\":\t# are we looking for X?\n",
    "    who = 'me'\t# yes - it's computer's side\n",
    "  elif sgn == \"O\": # ... or for O?\n",
    "    who = 'you'\t# yes - it's our side\n",
    "  else:\n",
    "    who = None\t# we should not fall here!\n",
    "  \n",
    "  cross1 = cross2 = True  # for diagonals\n",
    "\t\n",
    "  for rc in range(3):\n",
    "    if board[rc][0] == sgn and board[rc][1] == sgn and board[rc][2] == sgn:\t# check row rc\n",
    "      return who\n",
    "    if board[0][rc] == sgn and board[1][rc] == sgn and board[2][rc] == sgn: # check column rc\n",
    "      return who\n",
    "    if board[rc][rc] != sgn: # check 1st diagonal\n",
    "      cross1 = False\n",
    "    if board[2 - rc][2 - rc] != sgn: # check 2nd diagonal\n",
    "      cross2 = False\n",
    "\t\n",
    "  if cross1 or cross2:\n",
    "    return who\n",
    "  \n",
    "  return None\n",
    "\n",
    "def DrawMove(board):\n",
    "  free = MakeListOfFreeFields(board) # make a list of free fields\n",
    "  cnt = len(free)\n",
    "  \n",
    "  if cnt > 0:\t# if the list is not empty, choose a place for 'X' and set it\n",
    "    this = randrange(cnt)\n",
    "    row, col = free[this]\n",
    "    board[row][col] = 'X'\n",
    "\n",
    "board = [ [3 * j + i + 1 for i in range(3)] for j in range(3) ] # make an empty board\n",
    "board[1][1] = 'X' # set first 'X' in the middle\n",
    "free = MakeListOfFreeFields(board)\n",
    "humanturn = True # which turn is it now?\n",
    "\n",
    "while len(free):\n",
    "\tDisplayBoard(board)\n",
    "\tif humanturn:\n",
    "\t\tEnterMove(board)\n",
    "\t\tvictor = VictoryFor(board,'O')\n",
    "\telse:\t\n",
    "\t\tDrawMove(board)\n",
    "\t\tvictor = VictoryFor(board,'X')\n",
    "\tif victor != None:\n",
    "\t\tbreak\n",
    "\thumanturn = not humanturn\t\t\n",
    "\tfree = MakeListOfFreeFields(board)\n",
    "\n",
    "DisplayBoard(board)\n",
    "if victor == 'you':\n",
    "\tprint(\"You won!\")\n",
    "elif victor == 'me':\n",
    "\tprint(\"I won\")\n",
    "else:\n",
    "\tprint(\"Tie!\")"
   ]
  },
  {
   "cell_type": "markdown",
   "metadata": {},
   "source": [
    "# Set dan Operasinya\n",
    "\n",
    "Set atau lebih dikenal dengan himpunan juga adalah salah satu struktur data yang didukung oleh Python. Tidak seperti list atau tuple, set bersifat unordered yang artinya posisi elemen tidak dicatat. Data yang disimpan dalam set bersifat <b>UNIQUE</b> yang berarti apabila ada data yang sama maka hanya akan satu data yang disimpan. Format umum deklarasi set adalah sebagai berikut:\n",
    "\n",
    "```python\n",
    "nama_set = {}\n",
    "```\n",
    "\n",
    "Contoh:\n",
    "himpunan = {a, b, c, d, e}\n",
    "\n",
    "Seperti yang disebutkan di awal bahwa nilai yang disimpan oleh set bersifat unique. Mari kita coba kode program berikut:"
   ]
  },
  {
   "cell_type": "code",
   "execution_count": 11,
   "metadata": {},
   "outputs": [
    {
     "name": "stdout",
     "output_type": "stream",
     "text": [
      "{'c', 'b', 'e', 'z', 'a', 'y', 'f'}\n"
     ]
    }
   ],
   "source": [
    "himpunan = {'b', 'c', 'a', 'z', 'y', 'a', 'b', 'e', 'f'}\n",
    "\n",
    "print(himpunan)"
   ]
  },
  {
   "cell_type": "markdown",
   "metadata": {},
   "source": [
    "Elemen yang sama hanya akan disimpan satu kali."
   ]
  },
  {
   "cell_type": "markdown",
   "metadata": {},
   "source": [
    "## List into set\n",
    "\n",
    "Kita bisa mengubah tipe data list menjadi bentuk set dengan cara menggunakan type casting ``set()``. Berikut contoh penggunaannya:"
   ]
  },
  {
   "cell_type": "code",
   "execution_count": 12,
   "metadata": {},
   "outputs": [
    {
     "name": "stdout",
     "output_type": "stream",
     "text": [
      "{1, 2, 3, 5, 6, 10, 20}\n"
     ]
    }
   ],
   "source": [
    "list_bilangan = [10, 5, 6, 10, 1, 1, 2, 2, 3, 3, 20]\n",
    "himpunan_bilangan = set(list_bilangan)\n",
    "\n",
    "print(himpunan_bilangan)"
   ]
  },
  {
   "cell_type": "markdown",
   "metadata": {},
   "source": [
    "Semua bilangan yang duplikat hanya disimpan sekali dan urutan dari list akan berubah karena set mempunyai sifat unordered."
   ]
  },
  {
   "cell_type": "markdown",
   "metadata": {},
   "source": [
    "## Operasi pada Set\n",
    "\n",
    "Karena set merupakan konsep yang berasal dari matematika maka operasi yang berlaku di domain tersebut juga bisa dipakai pada set di Python. Berikut gambaran dasar operasi pada set (himpunan).\n",
    "\n",
    "<img src = \"https://www.learnbyexample.org/wp-content/uploads/python/Python-Set-Operatioons.png\" alt = \"ilustrasi operasi pada himpunan\">\n",
    "\n",
    "Operasi-operasi dasar pada himpunan di Python dapat dilihat pada tabel berikut:\n",
    "\n",
    "| Operasi | Keterangan |\n",
    "| :--- | :--- |\n",
    "| add() | Menambahkan elemen ke dalam set |\n",
    "| remove() | Menghapus elemen di dalam set |\n",
    "| in | Memeriksa apakah sebuah elemen adalah anggota dari set atau tidak |\n",
    "| & (intersection) | Mengembalikan irisan elemen dari n buah set |\n",
    "| union() | Menggabungkan suatu set dengan set lainnya |\n",
    "| issubset() | Method yang digunakan untuk memeriksa apakah sebuah set merupakan himpunan bagian dari set lainnya atau tidak |\n",
    "| - (difference) | Menampilkan elemen setA yang yang bukan merupakan irisan dari set lainnya |\n",
    "| symmetric_difference() | Operasi Symmetric Difference | "
   ]
  },
  {
   "cell_type": "markdown",
   "metadata": {},
   "source": [
    "## Contoh penerapan add()\n",
    "\n",
    "Berikut contoh penggunaan fungsi ``add()``:"
   ]
  },
  {
   "cell_type": "code",
   "execution_count": 17,
   "metadata": {},
   "outputs": [
    {
     "name": "stdout",
     "output_type": "stream",
     "text": [
      "{1, 2, 3, 20, 5, 6, 10, 11}\n",
      "{1, 2, 3, 20, 5, 6, 10, 11}\n",
      "{1, 2, 3, 5, 6, 10, 11, 'a', 20}\n"
     ]
    }
   ],
   "source": [
    "himpunan = {1, 2, 3, 5, 6, 10, 20}\n",
    "himpunan.add(11)\n",
    "print(himpunan)\n",
    "\n",
    "himpunan.add(1)\n",
    "print(himpunan)\n",
    "\n",
    "himpunan.add('a')\n",
    "print(himpunan)"
   ]
  },
  {
   "cell_type": "markdown",
   "metadata": {},
   "source": [
    "Dapat dilihat bahwa ketika menambahkan angka 1 ke dalam set, maka penambahan tersebut tidak akan memberikan pengaruh kepada penambahan elemen set karena angka 1 sudah ada pada elemen set."
   ]
  },
  {
   "cell_type": "markdown",
   "metadata": {},
   "source": [
    "## Contoh Penggunaan remove()\n",
    "\n",
    "Berikut contoh penggunaan fungsi ``remove()``:"
   ]
  },
  {
   "cell_type": "code",
   "execution_count": 6,
   "metadata": {},
   "outputs": [
    {
     "name": "stdout",
     "output_type": "stream",
     "text": [
      "{1, 2, 3, 5, 6, 10, 11, 20}\n"
     ]
    }
   ],
   "source": [
    "himpunan = {'a', 1, 2, 3, 5, 6, 10, 11, 20}\n",
    "\n",
    "himpunan.remove('a')\n",
    "print(himpunan)"
   ]
  },
  {
   "cell_type": "markdown",
   "metadata": {},
   "source": [
    "Apabila menghapus elemen yang tidak ada di dalam set, maka operasi ``remove()`` akan menghasilkan exception berupa ``KeyError``. Berikut contohnya:"
   ]
  },
  {
   "cell_type": "code",
   "execution_count": 14,
   "metadata": {},
   "outputs": [
    {
     "ename": "KeyError",
     "evalue": "100",
     "output_type": "error",
     "traceback": [
      "\u001b[0;31m---------------------------------------------------------------------------\u001b[0m",
      "\u001b[0;31mKeyError\u001b[0m                                  Traceback (most recent call last)",
      "\u001b[0;32m/var/folders/mg/f662q2g57nn3266mvsjg3d300000gn/T/ipykernel_50182/1211888037.py\u001b[0m in \u001b[0;36m<module>\u001b[0;34m\u001b[0m\n\u001b[1;32m      1\u001b[0m \u001b[0mhimpunan\u001b[0m \u001b[0;34m=\u001b[0m \u001b[0;34m{\u001b[0m\u001b[0;34m'a'\u001b[0m\u001b[0;34m,\u001b[0m \u001b[0;36m1\u001b[0m\u001b[0;34m,\u001b[0m \u001b[0;36m2\u001b[0m\u001b[0;34m,\u001b[0m \u001b[0;36m3\u001b[0m\u001b[0;34m,\u001b[0m \u001b[0;36m5\u001b[0m\u001b[0;34m,\u001b[0m \u001b[0;36m6\u001b[0m\u001b[0;34m,\u001b[0m \u001b[0;36m10\u001b[0m\u001b[0;34m,\u001b[0m \u001b[0;36m11\u001b[0m\u001b[0;34m,\u001b[0m \u001b[0;36m20\u001b[0m\u001b[0;34m}\u001b[0m\u001b[0;34m\u001b[0m\u001b[0;34m\u001b[0m\u001b[0m\n\u001b[1;32m      2\u001b[0m \u001b[0;34m\u001b[0m\u001b[0m\n\u001b[0;32m----> 3\u001b[0;31m \u001b[0mhimpunan\u001b[0m\u001b[0;34m.\u001b[0m\u001b[0mremove\u001b[0m\u001b[0;34m(\u001b[0m\u001b[0;36m100\u001b[0m\u001b[0;34m)\u001b[0m\u001b[0;34m\u001b[0m\u001b[0;34m\u001b[0m\u001b[0m\n\u001b[0m\u001b[1;32m      4\u001b[0m \u001b[0mprint\u001b[0m\u001b[0;34m(\u001b[0m\u001b[0mhimpunan\u001b[0m\u001b[0;34m)\u001b[0m\u001b[0;34m\u001b[0m\u001b[0;34m\u001b[0m\u001b[0m\n",
      "\u001b[0;31mKeyError\u001b[0m: 100"
     ]
    }
   ],
   "source": [
    "himpunan = {'a', 1, 2, 3, 5, 6, 10, 11, 20}\n",
    "\n",
    "himpunan.remove(100)\n",
    "print(himpunan)"
   ]
  },
  {
   "cell_type": "markdown",
   "metadata": {},
   "source": [
    "## Contoh Penggunaan in\n",
    "\n",
    "Berikut contoh penggunaan kata kunci ``in``:\n"
   ]
  },
  {
   "cell_type": "code",
   "execution_count": 7,
   "metadata": {},
   "outputs": [
    {
     "name": "stdout",
     "output_type": "stream",
     "text": [
      "True\n",
      "True\n",
      "False\n"
     ]
    }
   ],
   "source": [
    "himpunan = {'a', 1, 2, 3, 5, 6, 10, 11, 20}\n",
    "\n",
    "print('a' in himpunan)\n",
    "print(10 in himpunan)\n",
    "print('10' in himpunan)"
   ]
  },
  {
   "cell_type": "markdown",
   "metadata": {},
   "source": [
    "## Intersection\n",
    "\n",
    "Intersection merupakan irisan elemen dari beberapa buah himpunan. Berikut contoh penggunaan operator intersection:"
   ]
  },
  {
   "cell_type": "code",
   "execution_count": 15,
   "metadata": {},
   "outputs": [
    {
     "name": "stdout",
     "output_type": "stream",
     "text": [
      "{1, 2, 3}\n"
     ]
    }
   ],
   "source": [
    "himpunan1 = {'a', 1, 2, 3, 5, 6, 10, 11, 20}\n",
    "himpunan2 = {'b', 'c', 'd', 1, 2, 3}\n",
    "\n",
    "irisan = himpunan1 & himpunan2\n",
    "\n",
    "print(irisan)"
   ]
  },
  {
   "cell_type": "markdown",
   "metadata": {},
   "source": [
    "Apabila tidak ada elemen yang beririsan maka akan menampilkan himpunan kosong."
   ]
  },
  {
   "cell_type": "code",
   "execution_count": 8,
   "metadata": {},
   "outputs": [
    {
     "name": "stdout",
     "output_type": "stream",
     "text": [
      "set()\n"
     ]
    }
   ],
   "source": [
    "himpunan1 = {'a', 1, 2, 3, 5, 6, 10, 11, 20}\n",
    "himpunan2 = {'b', 'c', 'd', 12, 112, 30}\n",
    "\n",
    "irisan = himpunan1 & himpunan2\n",
    "\n",
    "print(irisan)\n"
   ]
  },
  {
   "cell_type": "markdown",
   "metadata": {},
   "source": [
    "## Union\n",
    "\n",
    "Untuk menggabungkan dua buah set, kita bisa menggunakan operasi union. Aturan perihal elemen unique tetap dipertahankan. Berikut contoh penggunaannya:"
   ]
  },
  {
   "cell_type": "code",
   "execution_count": 16,
   "metadata": {},
   "outputs": [
    {
     "name": "stdout",
     "output_type": "stream",
     "text": [
      "{1, 2, 3, 5, 6, 'a', 10, 11, 20}\n",
      "{'c', 1, 2, 3, 'b', 'd'}\n",
      "{1, 2, 3, 'b', 5, 6, 'a', 10, 11, 'd', 'c', 20}\n"
     ]
    }
   ],
   "source": [
    "himpunan1 = {'a', 1, 2, 3, 5, 6, 10, 11, 20}\n",
    "himpunan2 = {'b', 'c', 'd', 1, 2, 3}\n",
    "\n",
    "himpunan_gabungan = himpunan1.union(himpunan2)\n",
    "print(himpunan1)\n",
    "print(himpunan2)\n",
    "print(himpunan_gabungan)"
   ]
  },
  {
   "cell_type": "code",
   "execution_count": 9,
   "metadata": {},
   "outputs": [
    {
     "name": "stdout",
     "output_type": "stream",
     "text": [
      "{1, 2, 3, 5, 6, 10, 11, 20, 'a'}\n",
      "{1, 2, 3, 'b', 'c', 'd'}\n",
      "{1, 2, 3, 5, 6, 10, 11, 'b', 20, 'c', 'd', 'a'}\n"
     ]
    }
   ],
   "source": [
    "himpunan1 = {'a', 1, 2, 3, 5, 6, 10, 11, 20}\n",
    "himpunan2 = {'b', 'c', 'd', 1, 2, 3}\n",
    "\n",
    "himpunan_gabungan = himpunan2.union(himpunan1)\n",
    "print(himpunan1)\n",
    "print(himpunan2)\n",
    "print(himpunan_gabungan)"
   ]
  },
  {
   "cell_type": "markdown",
   "metadata": {},
   "source": [
    "## Subset\n",
    "\n",
    "Subset menyatakan bahwa sebuah himpunan merupakan bagian dari himpunan lainnya. Elemen dari himpunan bagian merupakan elemen dari himpunan besarnya. Berikut cara memeriksa apakah sebuah himpunan merupakan subset dari sebuah set lainnya:"
   ]
  },
  {
   "cell_type": "code",
   "execution_count": 10,
   "metadata": {},
   "outputs": [
    {
     "name": "stdout",
     "output_type": "stream",
     "text": [
      "False\n",
      "True\n"
     ]
    }
   ],
   "source": [
    "himpunan1 = {'a', 1, 2, 3, 5, 6, 10, 11, 20}\n",
    "himpunan2 = {'b', 'c', 'd', 1, 2, 3}\n",
    "himpunan3 = {1, 2, 3}\n",
    "\n",
    "print(himpunan2.issubset(himpunan1))\n",
    "print(himpunan3.issubset(himpunan1))\n"
   ]
  },
  {
   "cell_type": "markdown",
   "metadata": {},
   "source": [
    "## Difference\n",
    "\n",
    "Kita bisa menampilkan difference pada suatu set dengan menggunakan operator pengurangan. Berikut contoh penggunaannya:"
   ]
  },
  {
   "cell_type": "code",
   "execution_count": 11,
   "metadata": {},
   "outputs": [
    {
     "name": "stdout",
     "output_type": "stream",
     "text": [
      "{5, 6, 10, 11, 20, 'a'}\n",
      "{'b', 'd', 'c'}\n"
     ]
    }
   ],
   "source": [
    "himpunan1 = {'a', 1, 2, 3, 5, 6, 10, 11, 20}\n",
    "himpunan2 = {'b', 'c', 'd', 1, 2, 3}\n",
    "\n",
    "himpunan_hasil = himpunan1 - himpunan2\n",
    "print(himpunan_hasil)\n",
    "\n",
    "himpunan_hasil = himpunan2 - himpunan1\n",
    "print(himpunan_hasil)"
   ]
  },
  {
   "cell_type": "markdown",
   "metadata": {},
   "source": [
    "## Symmetric Difference\n",
    "\n",
    "Berikut adalah contoh penggunaan operasi Symmetric Difference:"
   ]
  },
  {
   "cell_type": "code",
   "execution_count": null,
   "metadata": {},
   "outputs": [],
   "source": [
    "himpunan1 = {'a', 1, 2, 3, 5, 6, 10, 11, 20}\n",
    "himpunan2 = {'b', 'c', 'd', 1, 2, 3}\n",
    "\n",
    "himpunan_hasil = himpunan1.symmetric_difference(himpunan2)\n",
    "print(himpunan_hasil)"
   ]
  },
  {
   "cell_type": "markdown",
   "metadata": {},
   "source": [
    "# Pengantar Exception (Detail akan dibahas pada Topic 6)"
   ]
  },
  {
   "cell_type": "markdown",
   "metadata": {},
   "source": [
    "## Apa itu Exception dan Bentuk Dasarnya"
   ]
  },
  {
   "cell_type": "markdown",
   "metadata": {},
   "source": [
    "Dalam membuat sebuah program menggunakan bahasa pemrograman, tentunya kita tidak bisa lepas dari namanya Error (kesalahan dalam kode program yang dibuat. Dikenal juga sebagai exception). Tentunya python menyediakan mekanisme untuk menanggulangi hal tersebut. Seorang programmer harus mengetahui dengan pasti jenis exception apa yang dihadapinya agar bisa menanggulangi ketika exception itu terjadi). Sebagai contoh, pelajari kode program berikut:"
   ]
  },
  {
   "cell_type": "code",
   "execution_count": 1,
   "metadata": {},
   "outputs": [
    {
     "name": "stdout",
     "output_type": "stream",
     "text": [
      "Masukkan sebuah bilangan: 10\n"
     ]
    },
    {
     "ename": "TypeError",
     "evalue": "can only concatenate str (not \"int\") to str",
     "output_type": "error",
     "traceback": [
      "\u001b[0;31m---------------------------------------------------------------------------\u001b[0m",
      "\u001b[0;31mTypeError\u001b[0m                                 Traceback (most recent call last)",
      "Input \u001b[0;32mIn [1]\u001b[0m, in \u001b[0;36m<cell line: 3>\u001b[0;34m()\u001b[0m\n\u001b[1;32m      1\u001b[0m bilangan \u001b[38;5;241m=\u001b[39m \u001b[38;5;28minput\u001b[39m(\u001b[38;5;124m\"\u001b[39m\u001b[38;5;124mMasukkan sebuah bilangan: \u001b[39m\u001b[38;5;124m\"\u001b[39m)\n\u001b[0;32m----> 3\u001b[0m hasil \u001b[38;5;241m=\u001b[39m \u001b[43mbilangan\u001b[49m\u001b[43m \u001b[49m\u001b[38;5;241;43m+\u001b[39;49m\u001b[43m \u001b[49m\u001b[38;5;241;43m10\u001b[39;49m\n\u001b[1;32m      4\u001b[0m \u001b[38;5;28mprint\u001b[39m(hasil)\n",
      "\u001b[0;31mTypeError\u001b[0m: can only concatenate str (not \"int\") to str"
     ]
    }
   ],
   "source": [
    "bilangan = input(\"Masukkan sebuah bilangan: \")\n",
    "\n",
    "hasil = bilangan + 10\n",
    "print(hasil)"
   ]
  },
  {
   "cell_type": "markdown",
   "metadata": {},
   "source": [
    "Ketika kode tersebut dijalankan, maka akan terjadi error dimana jenis error-nya adalah ``TypeError`` dan itu disebabkan karena hasil input dari fungsi ``input()`` tidak diubah menjadi tipe data bilangan (boleh integer atau pun float). Tentunya apabila hal ini terjadi ketika program sudah kita serahkan kepada pengguna, maka pengguna akan merasa kebingungan dengan apa yang terjadi pada program yang kita buat. Untuk menanggulangi masalah ini, Python menyediakan fitur ``try-except`` agar programmer bisa mencegah exception yang terjadi. Adapun struktur ``try-except`` adalah sebagai berikut:"
   ]
  },
  {
   "cell_type": "markdown",
   "metadata": {},
   "source": [
    "```python\n",
    "try:\n",
    "    # baris sintaks yang mungkin mengandung exception\n",
    "except:\n",
    "    # baris sintaks yang akan dilakukan apabila blok try mengalami error\n",
    "```"
   ]
  },
  {
   "cell_type": "markdown",
   "metadata": {},
   "source": [
    "Mari kita manfaatkan blok ``try-except`` untuk menanggulangi exception yang terjadi. Pelajari kode berikut:"
   ]
  },
  {
   "cell_type": "code",
   "execution_count": 2,
   "metadata": {},
   "outputs": [
    {
     "name": "stdout",
     "output_type": "stream",
     "text": [
      "Masukkan sebuah bilangan: 10\n",
      "Ada kesalahan yang terjadi.\n"
     ]
    }
   ],
   "source": [
    "try:\n",
    "    bilangan = input(\"Masukkan sebuah bilangan: \")\n",
    "\n",
    "    hasil = bilangan + 10\n",
    "    print(hasil)\n",
    "    \n",
    "except:\n",
    "    print(\"Ada kesalahan yang terjadi.\")"
   ]
  },
  {
   "cell_type": "markdown",
   "metadata": {},
   "source": [
    "## Multi Exception"
   ]
  },
  {
   "cell_type": "markdown",
   "metadata": {},
   "source": [
    "Bukan hal yang mustahil dalam sebuah kode program bisa terjadi lebih dari 1 buah exception. Sebagai contoh dalam kasus pembagian sebuah bilangan berikut:"
   ]
  },
  {
   "cell_type": "markdown",
   "metadata": {},
   "source": [
    "```python\n",
    "bilangan = int(input(\"Masukkan sebuah bilangan: \")\n",
    "\n",
    "hasil = 1/bilangan\n",
    "print(hasil)\n",
    "```"
   ]
  },
  {
   "cell_type": "markdown",
   "metadata": {},
   "source": [
    "Kode program tersebut berkemungkinan menghasilkan dua jenis Exception, yaitu:\n",
    "\n",
    "1. Exception ketika pengguna memasukkan data yang bukan bertipe numerik (python mengenal exception ``ValueError`` yang akan terpanggil ketika ada kesalahan tipe data yang diisikan pada suatu variabel atau operasi).\n",
    "2. Exception ketika pengguna memasukkan bilangan berupa angka 0 (pembagian dengan penyebut 0 dilarang di matematika). Untuk hal ini Python menyediakan exception ``ZeroDivisionError`` untuk menanggulangi error ketika pembagian dengan 0 terjadi.\n",
    "\n",
    "Untuk bisa menanggulangi dua jenis exception tersebut, Python menyediakan blok ``try-multiexcept`` sebagai berikut:"
   ]
  },
  {
   "cell_type": "code",
   "execution_count": 8,
   "metadata": {},
   "outputs": [
    {
     "name": "stdout",
     "output_type": "stream",
     "text": [
      "Masukkan sebuah bilangan: 0\n",
      "Pembagi tidak boleh sama dengan 0\n"
     ]
    }
   ],
   "source": [
    "try:\n",
    "    bilangan = int(input(\"Masukkan sebuah bilangan: \"))\n",
    "    hasil = 1/bilangan\n",
    "    print(hasil)\n",
    "                   \n",
    "except ValueError:\n",
    "    print(\"Masukkan angka untuk input-nya\")\n",
    "\n",
    "except ZeroDivisionError:\n",
    "    print(\"Pembagi tidak boleh sama dengan 0\")"
   ]
  },
  {
   "cell_type": "markdown",
   "metadata": {},
   "source": [
    "Coba untuk memasukkan string atau memasukkan angka 0 ke dalam program tersebut. Pelajari apa yang terjadi pada program tersebut. Selain kedua exception yang sudah diketahui, mungkin saja kode program tersebut menghasilkan exception yang mungkin saja tidak diketahui atau teranalisis di awal pembuatan kode program. Untuk menanggulangi kejadian seperti itu, Python menyediakan default except. Pelajari kode program berikut:"
   ]
  },
  {
   "cell_type": "code",
   "execution_count": 9,
   "metadata": {},
   "outputs": [
    {
     "name": "stdout",
     "output_type": "stream",
     "text": [
      "Masukkan sebuah bilangan: 100000000000000000\n",
      "1e-17\n"
     ]
    }
   ],
   "source": [
    "try:\n",
    "    bilangan = int(input(\"Masukkan sebuah bilangan: \"))\n",
    "    hasil = 1/bilangan\n",
    "    print(hasil)\n",
    "                   \n",
    "except ValueError:\n",
    "    print(\"Masukkan angka untuk input-nya\")\n",
    "\n",
    "except ZeroDivisionError:\n",
    "    print(\"Pembagi tidak boleh sama dengan 0\")\n",
    "\n",
    "except:\n",
    "    print(\"Ini exception yang akan terpanggil apabila kedua exception sebelumnya tidak terpanggil\")"
   ]
  },
  {
   "cell_type": "markdown",
   "metadata": {},
   "source": [
    "><B>Catatan:</B> default except harus diletakkan pada bagian akhir blok ``try-except``."
   ]
  },
  {
   "cell_type": "markdown",
   "metadata": {},
   "source": [
    "## Pentingnya Debugging dan Testing"
   ]
  },
  {
   "cell_type": "markdown",
   "metadata": {},
   "source": [
    "Salah satu tahapan yang harus dilalui oleh seorang programmer dalam membuat sebuah program adalah Debugging dan Testing. Hal ini dilakukan agar program yang dibangun minim exception. Mari kita amati kode program berikut:"
   ]
  },
  {
   "cell_type": "code",
   "execution_count": 1,
   "metadata": {},
   "outputs": [
    {
     "name": "stdout",
     "output_type": "stream",
     "text": [
      "Masukkan sebuah bilangan: -1\n"
     ]
    },
    {
     "ename": "NameError",
     "evalue": "name 'prin' is not defined",
     "output_type": "error",
     "traceback": [
      "\u001b[0;31m---------------------------------------------------------------------------\u001b[0m",
      "\u001b[0;31mNameError\u001b[0m                                 Traceback (most recent call last)",
      "Input \u001b[0;32mIn [1]\u001b[0m, in \u001b[0;36m<cell line: 3>\u001b[0;34m()\u001b[0m\n\u001b[1;32m      4\u001b[0m     \u001b[38;5;28mprint\u001b[39m(\u001b[38;5;124m\"\u001b[39m\u001b[38;5;124mBilangan lebih besar dari 0.\u001b[39m\u001b[38;5;124m\"\u001b[39m)\n\u001b[1;32m      5\u001b[0m \u001b[38;5;28;01melif\u001b[39;00m bilangan \u001b[38;5;241m<\u001b[39m \u001b[38;5;241m0\u001b[39m:\n\u001b[0;32m----> 6\u001b[0m     \u001b[43mprin\u001b[49m(\u001b[38;5;124m\"\u001b[39m\u001b[38;5;124mBilangan lebih kecil dari 0.\u001b[39m\u001b[38;5;124m\"\u001b[39m)\n\u001b[1;32m      7\u001b[0m \u001b[38;5;28;01melse\u001b[39;00m:\n\u001b[1;32m      8\u001b[0m     \u001b[38;5;28mprint\u001b[39m(\u001b[38;5;124m\"\u001b[39m\u001b[38;5;124mBilangan sama dengan 0.\u001b[39m\u001b[38;5;124m\"\u001b[39m)\n",
      "\u001b[0;31mNameError\u001b[0m: name 'prin' is not defined"
     ]
    }
   ],
   "source": [
    "bilangan = int(input(\"Masukkan sebuah bilangan: \"))\n",
    "\n",
    "if bilangan > 0:\n",
    "    print(\"Bilangan lebih besar dari 0.\")\n",
    "elif bilangan < 0:\n",
    "    prin(\"Bilangan lebih kecil dari 0.\")\n",
    "else:\n",
    "    print(\"Bilangan sama dengan 0.\")"
   ]
  },
  {
   "cell_type": "markdown",
   "metadata": {},
   "source": [
    "Apa yang terjadi apabila program tersebut dijalankan. Sepintas memang seperti tidak ada kesalahan pada program yang dibuat. Namun apabila ditelaah maka kita akan menemukan bahwa ada kesalahan sintaks berupa fungsi ``prin()``. Apabila kita memasukkan angka yang lebih besar daripada 0 atau angka 0, maka program bisa dijalankan tanpa adanya exception yang terjadi. Namun apabila kita memasukkan bilangan yang lebih kecil daripada 0 maka kode program tersebut akan menghasilkan exception berupa ``NameError`` yang dihasilkan karena fungsi ``prin()`` tidak terdaftar sebagai fungsi built-in di Python. Dalam bahasa pemrograman lain semisal Java, kejadian seperti ini bisa dihindari ketika proses compile dilakukan sehingga ketika kita membuat program dengan Python, proses Debugging dan Testing memiliki peranan yang sangat penting untuk mengidentifikasi hal-hal seperti itu."
   ]
  },
  {
   "cell_type": "code",
   "execution_count": null,
   "metadata": {},
   "outputs": [],
   "source": []
  }
 ],
 "metadata": {
  "colab": {
   "authorship_tag": "ABX9TyMJSQbHvUlFCCbp355Vj9DQ",
   "name": "Topic 4 - Functions, Tuples, Dictionaries, and Data processing.ipynb",
   "provenance": [],
   "toc_visible": true
  },
  "interpreter": {
   "hash": "aee8b7b246df8f9039afb4144a1f6fd8d2ca17a180786b69acc140d282b71a49"
  },
  "kernelspec": {
   "display_name": "Python 3 (ipykernel)",
   "language": "python",
   "name": "python3"
  },
  "language_info": {
   "codemirror_mode": {
    "name": "ipython",
    "version": 3
   },
   "file_extension": ".py",
   "mimetype": "text/x-python",
   "name": "python",
   "nbconvert_exporter": "python",
   "pygments_lexer": "ipython3",
   "version": "3.9.12"
  },
  "toc": {
   "base_numbering": 1,
   "nav_menu": {},
   "number_sections": true,
   "sideBar": true,
   "skip_h1_title": false,
   "title_cell": "Table of Contents",
   "title_sidebar": "Contents",
   "toc_cell": false,
   "toc_position": {},
   "toc_section_display": true,
   "toc_window_display": true
  }
 },
 "nbformat": 4,
 "nbformat_minor": 2
}
