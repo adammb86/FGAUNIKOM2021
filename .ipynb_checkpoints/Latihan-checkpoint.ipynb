{
 "cells": [
  {
   "cell_type": "code",
   "execution_count": 3,
   "id": "4cae498c",
   "metadata": {},
   "outputs": [
    {
     "name": "stdout",
     "output_type": "stream",
     "text": [
      "Nama saya adalah Adam MB\n",
      "10 11.5 Kania Evita Dewi\n",
      "Nama saya adalah Kania Evita Dewi. Umur saya 10. Angka favorit saya adalah 11.5\n"
     ]
    }
   ],
   "source": [
    "print(\"Nama saya adalah Adam MB\")\n",
    "\n",
    "a = 10 #Integer\n",
    "b = 11.5 #float\n",
    "nama = \"Kania Evita Dewi\" #String\n",
    "\n",
    "a, b, nama = 10, 11.5, \"Kania Evita Dewi\"\n",
    "print(a,b,nama)\n",
    "\n",
    "print(\"Nama saya adalah \" + nama + \". Umur saya \" + str(a) + \". Angka favorit saya adalah \" + str(b))"
   ]
  },
  {
   "cell_type": "code",
   "execution_count": 5,
   "id": "fe92596d-3d67-4a7b-bf34-75bbb27eee18",
   "metadata": {},
   "outputs": [
    {
     "name": "stdout",
     "output_type": "stream",
     "text": [
      "15\n",
      "KaniaEvitaIndriani\n"
     ]
    }
   ],
   "source": [
    "print(10 + 5)\n",
    "print(\"Kania\" + \"Evita\" + \"Indriani\")"
   ]
  },
  {
   "cell_type": "code",
   "execution_count": 7,
   "id": "7e83cbb8-a1f3-491d-9a85-97da5419988a",
   "metadata": {},
   "outputs": [
    {
     "name": "stdout",
     "output_type": "stream",
     "text": [
      "Nama saya adalah Adam MB\n",
      "\n",
      "Nama saya adalah Adam MB\n"
     ]
    }
   ],
   "source": [
    "print(\"Nama saya adalah Adam MB\")\n",
    "print()\n",
    "print(\"Nama saya adalah Adam MB\")"
   ]
  },
  {
   "cell_type": "code",
   "execution_count": 8,
   "id": "05e5ce55-f493-4e88-887d-42c26998b858",
   "metadata": {},
   "outputs": [
    {
     "name": "stdout",
     "output_type": "stream",
     "text": [
      "Nama saya adalah Adam MB\n",
      "\n",
      "Nama saya adalah Adam MB\n"
     ]
    }
   ],
   "source": [
    "print(\"Nama saya adalah Adam MB\\n\")\n",
    "print(\"Nama saya adalah Adam MB\")"
   ]
  },
  {
   "cell_type": "code",
   "execution_count": 9,
   "id": "06f4952d-2b50-4985-b4e7-3d6db5cbba60",
   "metadata": {},
   "outputs": [
    {
     "name": "stdout",
     "output_type": "stream",
     "text": [
      "Kalau sampai waktuku\n",
      "Ku mau tak seorang kan merayu\n",
      "Tidak juga kau\n",
      "Tak perlu sedu sedan itu\n",
      "Aku ini binatang jalang\n"
     ]
    }
   ],
   "source": [
    "print(\"Kalau sampai waktuku\\nKu mau tak seorang kan merayu\\nTidak juga kau\\nTak perlu sedu sedan itu\\nAku ini binatang jalang\")"
   ]
  },
  {
   "cell_type": "code",
   "execution_count": 13,
   "id": "5fb30e5d-b517-4664-b5ea-3cff92e1e28e",
   "metadata": {},
   "outputs": [
    {
     "name": "stdout",
     "output_type": "stream",
     "text": [
      "Karakter untuk newline adalah \\n\n",
      "I can't love you anymore.\n",
      "I can't love you anymore.\n"
     ]
    }
   ],
   "source": [
    "# Karakter untuk newline adalah \\n\n",
    "print(\"Karakter untuk newline adalah \\\\n\")\n",
    "\n",
    "# I can't love you anymore.\n",
    "print('I can\\'t love you anymore.')\n",
    "print(\"I can't love you anymore.\")"
   ]
  },
  {
   "cell_type": "code",
   "execution_count": 14,
   "id": "336d11d7-4a15-478a-8e22-f3152bf0c074",
   "metadata": {},
   "outputs": [
    {
     "name": "stdout",
     "output_type": "stream",
     "text": [
      "Nama saya adalah Patrick. Nama keluarga saya adalah Star.*"
     ]
    }
   ],
   "source": [
    "print(\"Nama saya adalah Patrick.\",\"Nama keluarga saya adalah Star.\", end = \"*\")"
   ]
  },
  {
   "cell_type": "code",
   "execution_count": 15,
   "id": "642bc2c5-5ec9-440b-a6e4-6ea9f5a75d8b",
   "metadata": {},
   "outputs": [
    {
     "name": "stdout",
     "output_type": "stream",
     "text": [
      "Nama-saya-adalah-Patrick.\n"
     ]
    }
   ],
   "source": [
    "print(\"Nama\", \"saya\", \"adalah\", \"Patrick.\", sep = \"-\")"
   ]
  },
  {
   "cell_type": "code",
   "execution_count": 20,
   "id": "7aa52f61-fdf3-4815-802e-6b02f2cba6d9",
   "metadata": {},
   "outputs": [
    {
     "name": "stdout",
     "output_type": "stream",
     "text": [
      "Saya mau bakso\n",
      "Saya mau bakso\n",
      "Saya mau bakso\n",
      "Saya mau bakso\n",
      "Saya mau bakso\n",
      "Saya mau bakso\n",
      "Saya mau bakso\n",
      "Saya mau bakso\n",
      "Saya mau bakso\n",
      "Saya mau bakso\n",
      "\n",
      "100\n",
      "10\n",
      "10\n",
      "10\n",
      "10\n",
      "10\n",
      "10\n",
      "10\n",
      "10\n",
      "10\n",
      "10\n",
      "\n"
     ]
    }
   ],
   "source": [
    "print(\"Saya mau bakso\\n\"*10)\n",
    "print(10*10)\n",
    "print(\"10\\n\"*10)"
   ]
  },
  {
   "cell_type": "code",
   "execution_count": 23,
   "id": "25b1a843-9aee-400a-99fb-0196c05a21c7",
   "metadata": {},
   "outputs": [
    {
     "name": "stdout",
     "output_type": "stream",
     "text": [
      "<class 'int'>\n",
      "<class 'float'>\n",
      "<class 'str'>\n"
     ]
    }
   ],
   "source": [
    "a, b, nama = 10, 11.5, \"Kania Evita Dewi\"\n",
    "\n",
    "print(type(a))\n",
    "print(type(b))\n",
    "print(type(nama))"
   ]
  },
  {
   "cell_type": "code",
   "execution_count": 28,
   "id": "47f967c1-b325-4589-8474-5c4fb1e9b392",
   "metadata": {},
   "outputs": [
    {
     "name": "stdout",
     "output_type": "stream",
     "text": [
      "1000000\n",
      "1000000\n",
      "-13\n",
      "15\n",
      "15\n"
     ]
    }
   ],
   "source": [
    "print(1000000)\n",
    "print(1_000_000)\n",
    "print(-13)\n",
    "\n",
    "print(0o17) #oktal\n",
    "print(0xF) #hexadecimal"
   ]
  },
  {
   "cell_type": "code",
   "execution_count": 30,
   "id": "b5680d5a-6723-49dd-8b54-b956406cf528",
   "metadata": {},
   "outputs": [
    {
     "name": "stdout",
     "output_type": "stream",
     "text": [
      "25.0\n",
      "25.0\n",
      "0.25\n",
      "0.25\n"
     ]
    }
   ],
   "source": [
    "print(25.0)\n",
    "print(25.)\n",
    "\n",
    "print(0.25)\n",
    "print(.25)"
   ]
  },
  {
   "cell_type": "code",
   "execution_count": 35,
   "id": "2cfeab43-856b-4c82-b111-fffed3e4f880",
   "metadata": {},
   "outputs": [
    {
     "name": "stdout",
     "output_type": "stream",
     "text": [
      "32000000000.0\n",
      "0.032\n",
      "3.2e-16\n",
      "0.32\n"
     ]
    }
   ],
   "source": [
    "print(3.2e10)\n",
    "print(3.2e-2)\n",
    "\n",
    "print(.00000000000000032)\n",
    "\n",
    "print(round(0.3245678910,2))"
   ]
  },
  {
   "cell_type": "code",
   "execution_count": 38,
   "id": "215f0072-5379-4855-9d15-b074987468a1",
   "metadata": {},
   "outputs": [
    {
     "name": "stdout",
     "output_type": "stream",
     "text": [
      "True\n",
      "1\n",
      "<class 'int'>\n"
     ]
    }
   ],
   "source": [
    "print(10 > 5)\n",
    "\n",
    "a = False\n",
    "b = True\n",
    "c = a + b\n",
    "\n",
    "print(c)\n",
    "print(type(c))"
   ]
  },
  {
   "cell_type": "code",
   "execution_count": null,
   "id": "0b76cb90-19e0-48a0-8d7c-5e13c8faf5b1",
   "metadata": {},
   "outputs": [],
   "source": []
  }
 ],
 "metadata": {
  "kernelspec": {
   "display_name": "Python 3 (ipykernel)",
   "language": "python",
   "name": "python3"
  },
  "language_info": {
   "codemirror_mode": {
    "name": "ipython",
    "version": 3
   },
   "file_extension": ".py",
   "mimetype": "text/x-python",
   "name": "python",
   "nbconvert_exporter": "python",
   "pygments_lexer": "ipython3",
   "version": "3.9.16"
  }
 },
 "nbformat": 4,
 "nbformat_minor": 5
}
